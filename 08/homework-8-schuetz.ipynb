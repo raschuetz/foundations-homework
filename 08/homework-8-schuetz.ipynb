{
 "cells": [
  {
   "cell_type": "code",
   "execution_count": 1,
   "metadata": {
    "collapsed": true
   },
   "outputs": [],
   "source": [
    "import pandas as pd\n",
    "%matplotlib inline\n",
    "import matplotlib.pyplot as plt "
   ]
  },
  {
   "cell_type": "code",
   "execution_count": 2,
   "metadata": {
    "collapsed": false
   },
   "outputs": [],
   "source": [
    "plt.style.use('seaborn-deep')"
   ]
  },
  {
   "cell_type": "markdown",
   "metadata": {},
   "source": [
    "# SF Crime"
   ]
  },
  {
   "cell_type": "code",
   "execution_count": 3,
   "metadata": {
    "collapsed": false
   },
   "outputs": [],
   "source": [
    "df = pd.read_csv('crime.csv')"
   ]
  },
  {
   "cell_type": "code",
   "execution_count": 4,
   "metadata": {
    "collapsed": false
   },
   "outputs": [
    {
     "data": {
      "text/html": [
       "<div>\n",
       "<table border=\"1\" class=\"dataframe\">\n",
       "  <thead>\n",
       "    <tr style=\"text-align: right;\">\n",
       "      <th></th>\n",
       "      <th>IncidntNum</th>\n",
       "      <th>Category</th>\n",
       "      <th>Descript</th>\n",
       "      <th>DayOfWeek</th>\n",
       "      <th>Date</th>\n",
       "      <th>Time</th>\n",
       "      <th>PdDistrict</th>\n",
       "      <th>Resolution</th>\n",
       "      <th>Address</th>\n",
       "      <th>X</th>\n",
       "      <th>Y</th>\n",
       "      <th>Location</th>\n",
       "    </tr>\n",
       "  </thead>\n",
       "  <tbody>\n",
       "    <tr>\n",
       "      <th>0</th>\n",
       "      <td>110914565</td>\n",
       "      <td>WARRANTS</td>\n",
       "      <td>WARRANT ARREST</td>\n",
       "      <td>Friday</td>\n",
       "      <td>05/29/2015 12:00:00 AM</td>\n",
       "      <td>16:42</td>\n",
       "      <td>SOUTHERN</td>\n",
       "      <td>ARREST, BOOKED</td>\n",
       "      <td>BRYANT ST / 8TH ST</td>\n",
       "      <td>-122.406971</td>\n",
       "      <td>37.772527</td>\n",
       "      <td>(37.7725273607571, -122.406970988225)</td>\n",
       "    </tr>\n",
       "    <tr>\n",
       "      <th>1</th>\n",
       "      <td>120789988</td>\n",
       "      <td>MISSING PERSON</td>\n",
       "      <td>FOUND PERSON</td>\n",
       "      <td>Monday</td>\n",
       "      <td>05/16/2016 12:00:00 AM</td>\n",
       "      <td>00:41</td>\n",
       "      <td>INGLESIDE</td>\n",
       "      <td>NONE</td>\n",
       "      <td>WOOLSEY ST / UNIVERSITY ST</td>\n",
       "      <td>-122.412470</td>\n",
       "      <td>37.722659</td>\n",
       "      <td>(37.7226585129212, -122.412469643631)</td>\n",
       "    </tr>\n",
       "    <tr>\n",
       "      <th>2</th>\n",
       "      <td>150020821</td>\n",
       "      <td>ASSAULT</td>\n",
       "      <td>ELDER ADULT OR DEPENDENT ABUSE (NOT EMBEZZLEME...</td>\n",
       "      <td>Friday</td>\n",
       "      <td>01/02/2015 12:00:00 AM</td>\n",
       "      <td>12:00</td>\n",
       "      <td>NORTHERN</td>\n",
       "      <td>NONE</td>\n",
       "      <td>300 Block of FULTON ST</td>\n",
       "      <td>-122.422536</td>\n",
       "      <td>37.778796</td>\n",
       "      <td>(37.7787958771466, -122.422536478306)</td>\n",
       "    </tr>\n",
       "    <tr>\n",
       "      <th>3</th>\n",
       "      <td>150020978</td>\n",
       "      <td>OTHER OFFENSES</td>\n",
       "      <td>DRIVERS LICENSE, SUSPENDED OR REVOKED</td>\n",
       "      <td>Wednesday</td>\n",
       "      <td>01/07/2015 12:00:00 AM</td>\n",
       "      <td>19:21</td>\n",
       "      <td>CENTRAL</td>\n",
       "      <td>ARREST, BOOKED</td>\n",
       "      <td>MONTGOMERY ST / CHESTNUT ST</td>\n",
       "      <td>-122.405178</td>\n",
       "      <td>37.804764</td>\n",
       "      <td>(37.80476375718, -122.405178220847)</td>\n",
       "    </tr>\n",
       "    <tr>\n",
       "      <th>4</th>\n",
       "      <td>150020984</td>\n",
       "      <td>ROBBERY</td>\n",
       "      <td>ROBBERY OF A CHAIN STORE WITH A DANGEROUS WEAPON</td>\n",
       "      <td>Wednesday</td>\n",
       "      <td>01/07/2015 12:00:00 AM</td>\n",
       "      <td>19:27</td>\n",
       "      <td>SOUTHERN</td>\n",
       "      <td>NONE</td>\n",
       "      <td>1100 Block of MARKET ST</td>\n",
       "      <td>-122.413564</td>\n",
       "      <td>37.779514</td>\n",
       "      <td>(37.779514030063, -122.413564091744)</td>\n",
       "    </tr>\n",
       "  </tbody>\n",
       "</table>\n",
       "</div>"
      ],
      "text/plain": [
       "   IncidntNum        Category  \\\n",
       "0   110914565        WARRANTS   \n",
       "1   120789988  MISSING PERSON   \n",
       "2   150020821         ASSAULT   \n",
       "3   150020978  OTHER OFFENSES   \n",
       "4   150020984         ROBBERY   \n",
       "\n",
       "                                            Descript  DayOfWeek  \\\n",
       "0                                     WARRANT ARREST     Friday   \n",
       "1                                       FOUND PERSON     Monday   \n",
       "2  ELDER ADULT OR DEPENDENT ABUSE (NOT EMBEZZLEME...     Friday   \n",
       "3              DRIVERS LICENSE, SUSPENDED OR REVOKED  Wednesday   \n",
       "4   ROBBERY OF A CHAIN STORE WITH A DANGEROUS WEAPON  Wednesday   \n",
       "\n",
       "                     Date   Time PdDistrict      Resolution  \\\n",
       "0  05/29/2015 12:00:00 AM  16:42   SOUTHERN  ARREST, BOOKED   \n",
       "1  05/16/2016 12:00:00 AM  00:41  INGLESIDE            NONE   \n",
       "2  01/02/2015 12:00:00 AM  12:00   NORTHERN            NONE   \n",
       "3  01/07/2015 12:00:00 AM  19:21    CENTRAL  ARREST, BOOKED   \n",
       "4  01/07/2015 12:00:00 AM  19:27   SOUTHERN            NONE   \n",
       "\n",
       "                       Address           X          Y  \\\n",
       "0           BRYANT ST / 8TH ST -122.406971  37.772527   \n",
       "1   WOOLSEY ST / UNIVERSITY ST -122.412470  37.722659   \n",
       "2       300 Block of FULTON ST -122.422536  37.778796   \n",
       "3  MONTGOMERY ST / CHESTNUT ST -122.405178  37.804764   \n",
       "4      1100 Block of MARKET ST -122.413564  37.779514   \n",
       "\n",
       "                                Location  \n",
       "0  (37.7725273607571, -122.406970988225)  \n",
       "1  (37.7226585129212, -122.412469643631)  \n",
       "2  (37.7787958771466, -122.422536478306)  \n",
       "3    (37.80476375718, -122.405178220847)  \n",
       "4   (37.779514030063, -122.413564091744)  "
      ]
     },
     "execution_count": 4,
     "metadata": {},
     "output_type": "execute_result"
    }
   ],
   "source": [
    "df.head()"
   ]
  },
  {
   "cell_type": "code",
   "execution_count": 5,
   "metadata": {
    "collapsed": false
   },
   "outputs": [
    {
     "data": {
      "text/plain": [
       "Index(['IncidntNum', 'Category', 'Descript', 'DayOfWeek', 'Date', 'Time',\n",
       "       'PdDistrict', 'Resolution', 'Address', 'X', 'Y', 'Location'],\n",
       "      dtype='object')"
      ]
     },
     "execution_count": 5,
     "metadata": {},
     "output_type": "execute_result"
    }
   ],
   "source": [
    "df.columns"
   ]
  },
  {
   "cell_type": "markdown",
   "metadata": {},
   "source": [
    "## 1) What different types of incidents are there? How frequently has each type occurred?"
   ]
  },
  {
   "cell_type": "code",
   "execution_count": 6,
   "metadata": {
    "collapsed": false
   },
   "outputs": [
    {
     "data": {
      "text/plain": [
       "count           1922818\n",
       "unique               39\n",
       "top       LARCENY/THEFT\n",
       "freq             394046\n",
       "Name: Category, dtype: object"
      ]
     },
     "execution_count": 6,
     "metadata": {},
     "output_type": "execute_result"
    }
   ],
   "source": [
    "df['Category'].describe()"
   ]
  },
  {
   "cell_type": "markdown",
   "metadata": {},
   "source": [
    "There are 39 different types of incidents:"
   ]
  },
  {
   "cell_type": "code",
   "execution_count": 7,
   "metadata": {
    "collapsed": false
   },
   "outputs": [
    {
     "data": {
      "text/plain": [
       "LARCENY/THEFT                  394046\n",
       "OTHER OFFENSES                 273803\n",
       "NON-CRIMINAL                   205217\n",
       "ASSAULT                        168344\n",
       "VEHICLE THEFT                  115581\n",
       "DRUG/NARCOTIC                  112540\n",
       "VANDALISM                       98064\n",
       "WARRANTS                        91334\n",
       "BURGLARY                        80167\n",
       "SUSPICIOUS OCC                  69020\n",
       "MISSING PERSON                  56545\n",
       "ROBBERY                         49417\n",
       "FRAUD                           36546\n",
       "SECONDARY CODES                 22029\n",
       "FORGERY/COUNTERFEITING          21965\n",
       "WEAPON LAWS                     18895\n",
       "TRESPASS                        16190\n",
       "PROSTITUTION                    15803\n",
       "STOLEN PROPERTY                 10306\n",
       "SEX OFFENSES, FORCIBLE           9774\n",
       "DRUNKENNESS                      9145\n",
       "DISORDERLY CONDUCT               9114\n",
       "RECOVERED VEHICLE                7597\n",
       "DRIVING UNDER THE INFLUENCE      5042\n",
       "KIDNAPPING                       4906\n",
       "RUNAWAY                          4027\n",
       "LIQUOR LAWS                      3914\n",
       "ARSON                            3352\n",
       "EMBEZZLEMENT                     2624\n",
       "LOITERING                        2364\n",
       "SUICIDE                          1146\n",
       "FAMILY OFFENSES                  1097\n",
       "BAD CHECKS                        866\n",
       "BRIBERY                           696\n",
       "EXTORTION                         626\n",
       "SEX OFFENSES, NON FORCIBLE        347\n",
       "GAMBLING                          311\n",
       "PORNOGRAPHY/OBSCENE MAT            47\n",
       "TREA                               11\n",
       "Name: Category, dtype: int64"
      ]
     },
     "execution_count": 7,
     "metadata": {},
     "output_type": "execute_result"
    }
   ],
   "source": [
    "df['Category'].value_counts()"
   ]
  },
  {
   "cell_type": "markdown",
   "metadata": {},
   "source": [
    "New questions: What do these mean?\n",
    "* Other offenses\n",
    "* Non-criminal\n",
    "* Warrants\n",
    "* Suspicious occ\n",
    "* Secondary codes\n",
    "* Forgery/counterfeiting\n",
    "* Weapon laws\n",
    "* Family offenses\n",
    "* Sex offenses, non forcible\n",
    "* Trea"
   ]
  },
  {
   "cell_type": "markdown",
   "metadata": {},
   "source": [
    "### Other Offenses"
   ]
  },
  {
   "cell_type": "code",
   "execution_count": 8,
   "metadata": {
    "collapsed": false
   },
   "outputs": [
    {
     "data": {
      "text/plain": [
       "DRIVERS LICENSE, SUSPENDED OR REVOKED                                        58420\n",
       "TRAFFIC VIOLATION                                                            34748\n",
       "RESISTING ARREST                                                             19066\n",
       "MISCELLANEOUS INVESTIGATION                                                  17897\n",
       "PROBATION VIOLATION                                                          16627\n",
       "LOST/STOLEN LICENSE PLATE                                                    14344\n",
       "VIOLATION OF RESTRAINING ORDER                                               12297\n",
       "TRAFFIC VIOLATION ARREST                                                     12250\n",
       "PAROLE VIOLATION                                                             10260\n",
       "CONSPIRACY                                                                    6650\n",
       "FALSE PERSONATION TO RECEIVE MONEY OR PROPERTY                                6061\n",
       "OBSCENE PHONE CALLS(S)                                                        5274\n",
       "VIOLATION OF MUNICIPAL CODE                                                   4950\n",
       "POSSESSION OF BURGLARY TOOLS                                                  4794\n",
       "HARASSING PHONE CALLS                                                         4624\n",
       "FALSE PERSONATION                                                             3915\n",
       "VIOLATION OF MUNICIPAL POLICE CODE                                            3909\n",
       "MISCELLANEOUS STATE MISDEMEANOR                                               3666\n",
       "FALSE EVIDENCE OF VEHICLE REGISTRATION                                        2565\n",
       "FRAUDULENT GAME OR TRICK, OBTAINING MONEY OR PROPERTY                         2355\n",
       "PERMIT VIOLATION, POLICE (GENERAL)                                            1802\n",
       "OBSTRUCTIONS ON STREETS/SIDEWALKS                                             1528\n",
       "FAILURE TO REGISTER AS SEX OFFENDER                                           1488\n",
       "TAMPERING WITH A VEHICLE                                                      1479\n",
       "PEDDLING WITHOUT A LICENSE                                                    1305\n",
       "STAY AWAY ORDER VIOLATION, DV RELATED                                         1290\n",
       "INDECENT EXPOSURE                                                             1227\n",
       "DANGER OF LEADING IMMORAL LIFE                                                 948\n",
       "RECKLESS DRIVING                                                               938\n",
       "VIOLATION OF PARK CODE                                                         935\n",
       "                                                                             ...  \n",
       "DOG OR CAT, ABANDONMENT OF                                                       5\n",
       "INSURED PROPERTY, DESTRUCTION TO DEFRAUD INSURER                                 5\n",
       "SELLING RESTRICTED GLUE TO JUVENILES                                             5\n",
       "HAZARDOUS MATERIALS, SPILL LOAD                                                  4\n",
       "HAZARDOUS MATERIALS,  DUMP ANY SUBSTANCE INTO WATER                              4\n",
       "ILLEGAL CHARITABLE SOLICITATIONS                                                 4\n",
       "PERMIT VIOLATION, VALET PARKING                                                  3\n",
       "SCHOOL STUDENT OR EMPLOYEE ENTERING  CAMPUS AFTER SUSPENSION OR DISMISSAL        3\n",
       "PUSH-CART PEDDLER PERMIT VIOLATION                                               3\n",
       "HAZARDOUS MATERIALS, SPILL ON ROADWAY                                            3\n",
       "PERMIT VIOLATION, SECOND-HAND DEALER                                             3\n",
       "DOG, FIGHTING;  OWNING, FIGHTING, OR ATTENDING FIGHT                             3\n",
       "SOLICITING MINOR TO COMMIT FELONY                                                3\n",
       "CHOP SHOP, OWN OR OPERATE                                                        2\n",
       "SCHOOL GROUNDS, ENTRY BY SEX OFFENDER                                            2\n",
       "POLICE BROADCAST, INTERCEPTION TO COMMIT CRIME                                   2\n",
       "ENCOUNTER STUDIO ORDINANCE VIOLATION                                             2\n",
       "SCHOOL BUS, ENTRY TO COMMIT CRIME OR REFUSAL TO LEAVE                            2\n",
       "FOOD STAMPS, UNLAWFUL USE BY RETAILER                                            2\n",
       "WEARING THE APPAREL OF OPPOSITE SEX TO DECEIVE                                   2\n",
       "MONEY LAUNDERING                                                                 2\n",
       "LOUDSPEAKER OR SOUND TRUCK PERMIT VIOLATION                                      2\n",
       "ESCAPE FROM HOSPITAL WITH FORCE                                                  2\n",
       "HAZARDOUS MATERIALS, FAILURE TO COMPLY W/REGULATIONS                             2\n",
       "VIOLATION OF CALIF UNEMPLOYMENT INSURANCE ACT                                    1\n",
       "PERMIT VIOLATION, ADVERTISING HANDBILL DISTRIBUTION                              1\n",
       "UNSOLICITED FAX ADVERTISING                                                      1\n",
       "HAZARDOUS MATERIALS, TRANSPORT WITHOUT PERMIT                                    1\n",
       "HAZARDOUS MATERIALS, STORE WITHOUT PERMIT                                        1\n",
       "REFUSAL TO IDENTIFY                                                              1\n",
       "Name: Descript, dtype: int64"
      ]
     },
     "execution_count": 8,
     "metadata": {},
     "output_type": "execute_result"
    }
   ],
   "source": [
    "df[df['Category'] == 'OTHER OFFENSES']['Descript'].value_counts()"
   ]
  },
  {
   "cell_type": "markdown",
   "metadata": {},
   "source": [
    "#### Fun Observations:\n",
    "* Since 2003, there have been more incidents of “danger of leading immoral life” (948) than \"reckless driving\" (938).\n",
    "* Most \"other offenses\" are traffic related.\n",
    "* In SF, some offenses are probaby difficult to categorize: such as \"escape from hospital with force\" (2) and \"wearing the apparel of opposite sex to deceive\"(2) (hello, Robert Durst?)."
   ]
  },
  {
   "cell_type": "markdown",
   "metadata": {},
   "source": [
    "### Non-Criminal"
   ]
  },
  {
   "cell_type": "code",
   "execution_count": 9,
   "metadata": {
    "collapsed": false
   },
   "outputs": [
    {
     "data": {
      "text/plain": [
       "LOST PROPERTY                                         68780\n",
       "AIDED CASE, MENTAL DISTURBED                          47961\n",
       "FOUND PROPERTY                                        27644\n",
       "AIDED CASE                                            12013\n",
       "DEATH REPORT, CAUSE UNKNOWN                            9401\n",
       "CASE CLOSURE                                           5386\n",
       "STAY AWAY OR COURT ORDER, NON-DV RELATED               3587\n",
       "AIDED CASE, DOG BITE                                   3011\n",
       "CIVIL SIDEWALKS, CITATION                              2807\n",
       "PROPERTY FOR IDENTIFICATION                            2608\n",
       "AIDED CASE, INJURED PERSON                             2310\n",
       "COURTESY REPORT                                        2178\n",
       "CIVIL SIDEWALKS, WARNING                               2124\n",
       "DEATH REPORT, NATURAL CAUSES                           2089\n",
       "AIDED CASE -PROPERTY FOR DESTRUCTION                   2021\n",
       "FIRE REPORT                                            1745\n",
       "LOCATED PROPERTY                                       1588\n",
       "TARASOFF REPORT                                        1448\n",
       "SEARCH WARRANT SERVICE                                 1379\n",
       "TURNED IN GUN                                          1084\n",
       "TRAFFIC ACCIDENT                                        947\n",
       "SHELTER                                                 753\n",
       "IMPOUNDED VEHICLE                                       657\n",
       "AIDED CASE, SICK PERSON                                 532\n",
       "LICENSE PLATE, RECOVERED                                353\n",
       "LICENSE PLATE, FOUND                                    251\n",
       "MISPLACED VEHICLE                                       125\n",
       "CIVIL SIDEWALKS, BOOKING                                112\n",
       "CIVIL SIDEWALKS, VIOLATION                               68\n",
       "TRUANT, HABITUAL                                         62\n",
       "DEATH, ACCIDENTAL                                        36\n",
       "DEATH, NON-MANSLAUGHTER AUTO ACCIDENT                    30\n",
       "DEMONSTRATION, VIDEO EVIDENCE, MISC. INVESTIGATION       25\n",
       "ACCIDENTAL SHOOTING                                      24\n",
       "YOUTH COURT                                              22\n",
       "AUTO IMPOUNDED                                           19\n",
       "MEGAN'S LAW NOTIFICATION                                 18\n",
       "DEATH REPORT, IN CUSTODY                                 12\n",
       "ACCIDENTAL BURNS                                          7\n",
       "Name: Descript, dtype: int64"
      ]
     },
     "execution_count": 9,
     "metadata": {},
     "output_type": "execute_result"
    }
   ],
   "source": [
    "df[df['Category'] == 'NON-CRIMINAL']['Descript'].value_counts()"
   ]
  },
  {
   "cell_type": "markdown",
   "metadata": {},
   "source": [
    "## 3) Group by year and make graphs for each."
   ]
  },
  {
   "cell_type": "code",
   "execution_count": 10,
   "metadata": {
    "collapsed": false
   },
   "outputs": [
    {
     "data": {
      "text/plain": [
       "2015    156007\n",
       "2013    152811\n",
       "2014    150150\n",
       "2003    149176\n",
       "2004    148148\n",
       "2005    142186\n",
       "2008    141311\n",
       "2012    140856\n",
       "2009    139860\n",
       "2006    137853\n",
       "2007    137639\n",
       "2010    133525\n",
       "2011    132699\n",
       "2016     60597\n",
       "Name: Date, dtype: int64"
      ]
     },
     "execution_count": 10,
     "metadata": {},
     "output_type": "execute_result"
    }
   ],
   "source": [
    "df['Date'].str.replace(' 12:00:00 AM', '').str[-4:].value_counts()"
   ]
  },
  {
   "cell_type": "code",
   "execution_count": 11,
   "metadata": {
    "collapsed": true
   },
   "outputs": [],
   "source": [
    "df['Year'] = df['Date'].str.replace(' 12:00:00 AM', '').str[-4:]"
   ]
  },
  {
   "cell_type": "code",
   "execution_count": 23,
   "metadata": {
    "collapsed": false
   },
   "outputs": [
    {
     "name": "stdout",
     "output_type": "stream",
     "text": [
      "2003\n",
      "LARCENY/THEFT     26393\n",
      "OTHER OFFENSES    21232\n",
      "VEHICLE THEFT     15325\n",
      "ASSAULT           13461\n",
      "NON-CRIMINAL      13149\n",
      "Name: Category, dtype: int64\n",
      "2004\n",
      "LARCENY/THEFT     24505\n",
      "OTHER OFFENSES    20710\n",
      "VEHICLE THEFT     17884\n",
      "NON-CRIMINAL      13778\n",
      "ASSAULT           12899\n",
      "Name: Category, dtype: int64\n",
      "2005\n",
      "LARCENY/THEFT     25319\n",
      "VEHICLE THEFT     18194\n",
      "OTHER OFFENSES    17834\n",
      "NON-CRIMINAL      14055\n",
      "ASSAULT           11601\n",
      "Name: Category, dtype: int64\n",
      "2006\n",
      "LARCENY/THEFT     27352\n",
      "OTHER OFFENSES    18306\n",
      "NON-CRIMINAL      13368\n",
      "ASSAULT           12449\n",
      "DRUG/NARCOTIC      9069\n",
      "Name: Category, dtype: int64\n",
      "2007\n",
      "LARCENY/THEFT     25770\n",
      "OTHER OFFENSES    19763\n",
      "NON-CRIMINAL      12677\n",
      "ASSAULT           12518\n",
      "DRUG/NARCOTIC     10560\n",
      "Name: Category, dtype: int64\n",
      "2008\n",
      "LARCENY/THEFT     25807\n",
      "OTHER OFFENSES    23457\n",
      "ASSAULT           12681\n",
      "NON-CRIMINAL      12303\n",
      "DRUG/NARCOTIC     11648\n",
      "Name: Category, dtype: int64\n",
      "2009\n",
      "LARCENY/THEFT     25585\n",
      "OTHER OFFENSES    24693\n",
      "NON-CRIMINAL      12395\n",
      "ASSAULT           12284\n",
      "DRUG/NARCOTIC     11950\n",
      "Name: Category, dtype: int64\n",
      "2010\n",
      "LARCENY/THEFT     24446\n",
      "OTHER OFFENSES    20990\n",
      "NON-CRIMINAL      13878\n",
      "ASSAULT           12388\n",
      "DRUG/NARCOTIC      9205\n",
      "Name: Category, dtype: int64\n",
      "2011\n",
      "LARCENY/THEFT     25905\n",
      "OTHER OFFENSES    19552\n",
      "NON-CRIMINAL      15586\n",
      "ASSAULT           12281\n",
      "VANDALISM          7243\n",
      "Name: Category, dtype: int64\n",
      "2012\n",
      "LARCENY/THEFT     30976\n",
      "OTHER OFFENSES    18648\n",
      "NON-CRIMINAL      16936\n",
      "ASSAULT           12181\n",
      "VANDALISM          7808\n",
      "Name: Category, dtype: int64\n",
      "2013\n",
      "LARCENY/THEFT     36412\n",
      "NON-CRIMINAL      21084\n",
      "OTHER OFFENSES    19481\n",
      "ASSAULT           12583\n",
      "WARRANTS           7362\n",
      "Name: Category, dtype: int64\n",
      "2014\n",
      "LARCENY/THEFT     38005\n",
      "OTHER OFFENSES    20742\n",
      "NON-CRIMINAL      19404\n",
      "ASSAULT           12404\n",
      "VANDALISM          7167\n",
      "Name: Category, dtype: int64\n",
      "2015\n",
      "LARCENY/THEFT     42012\n",
      "OTHER OFFENSES    20271\n",
      "NON-CRIMINAL      19092\n",
      "ASSAULT           13082\n",
      "VEHICLE THEFT      7942\n",
      "Name: Category, dtype: int64\n",
      "2016\n",
      "LARCENY/THEFT     15559\n",
      "OTHER OFFENSES     8124\n",
      "NON-CRIMINAL       7512\n",
      "ASSAULT            5532\n",
      "VANDALISM          3163\n",
      "Name: Category, dtype: int64\n"
     ]
    },
    {
     "data": {
      "image/png": "[encoded data removed]",
      "text/plain": [
       "<matplotlib.figure.Figure at 0x11e7cbf98>"
      ]
     },
     "metadata": {},
     "output_type": "display_data"
    }
   ],
   "source": [
    "# The way that's not working for me.\n",
    "# incorrect way # 1\n",
    "years = list(range(2003, 2017))\n",
    "for year in years:\n",
    "    print(year)\n",
    "    print(df[df['Year'] == str(year)]['Category'].value_counts().head())\n",
    "    values = df[df['Year'] == str(year)]['Category'].value_counts().head()\n",
    "    values.plot(kind = 'barh')"
   ]
  },
  {
   "cell_type": "code",
   "execution_count": 22,
   "metadata": {
    "collapsed": false
   },
   "outputs": [
    {
     "name": "stdout",
     "output_type": "stream",
     "text": [
      "2003\n",
      "LARCENY/THEFT     26393\n",
      "OTHER OFFENSES    21232\n",
      "VEHICLE THEFT     15325\n",
      "ASSAULT           13461\n",
      "NON-CRIMINAL      13149\n",
      "Name: Category, dtype: int64\n",
      "2004\n",
      "LARCENY/THEFT     24505\n",
      "OTHER OFFENSES    20710\n",
      "VEHICLE THEFT     17884\n",
      "NON-CRIMINAL      13778\n",
      "ASSAULT           12899\n",
      "Name: Category, dtype: int64\n",
      "2005\n",
      "LARCENY/THEFT     25319\n",
      "VEHICLE THEFT     18194\n",
      "OTHER OFFENSES    17834\n",
      "NON-CRIMINAL      14055\n",
      "ASSAULT           11601\n",
      "Name: Category, dtype: int64\n",
      "2006\n",
      "LARCENY/THEFT     27352\n",
      "OTHER OFFENSES    18306\n",
      "NON-CRIMINAL      13368\n",
      "ASSAULT           12449\n",
      "DRUG/NARCOTIC      9069\n",
      "Name: Category, dtype: int64\n",
      "2007\n",
      "LARCENY/THEFT     25770\n",
      "OTHER OFFENSES    19763\n",
      "NON-CRIMINAL      12677\n",
      "ASSAULT           12518\n",
      "DRUG/NARCOTIC     10560\n",
      "Name: Category, dtype: int64\n",
      "2008\n",
      "LARCENY/THEFT     25807\n",
      "OTHER OFFENSES    23457\n",
      "ASSAULT           12681\n",
      "NON-CRIMINAL      12303\n",
      "DRUG/NARCOTIC     11648\n",
      "Name: Category, dtype: int64\n",
      "2009\n",
      "LARCENY/THEFT     25585\n",
      "OTHER OFFENSES    24693\n",
      "NON-CRIMINAL      12395\n",
      "ASSAULT           12284\n",
      "DRUG/NARCOTIC     11950\n",
      "Name: Category, dtype: int64\n",
      "2010\n",
      "LARCENY/THEFT     24446\n",
      "OTHER OFFENSES    20990\n",
      "NON-CRIMINAL      13878\n",
      "ASSAULT           12388\n",
      "DRUG/NARCOTIC      9205\n",
      "Name: Category, dtype: int64\n",
      "2011\n",
      "LARCENY/THEFT     25905\n",
      "OTHER OFFENSES    19552\n",
      "NON-CRIMINAL      15586\n",
      "ASSAULT           12281\n",
      "VANDALISM          7243\n",
      "Name: Category, dtype: int64\n",
      "2012\n",
      "LARCENY/THEFT     30976\n",
      "OTHER OFFENSES    18648\n",
      "NON-CRIMINAL      16936\n",
      "ASSAULT           12181\n",
      "VANDALISM          7808\n",
      "Name: Category, dtype: int64\n",
      "2013\n",
      "LARCENY/THEFT     36412\n",
      "NON-CRIMINAL      21084\n",
      "OTHER OFFENSES    19481\n",
      "ASSAULT           12583\n",
      "WARRANTS           7362\n",
      "Name: Category, dtype: int64\n",
      "2014\n",
      "LARCENY/THEFT     38005\n",
      "OTHER OFFENSES    20742\n",
      "NON-CRIMINAL      19404\n",
      "ASSAULT           12404\n",
      "VANDALISM          7167\n",
      "Name: Category, dtype: int64\n",
      "2015\n",
      "LARCENY/THEFT     42012\n",
      "OTHER OFFENSES    20271\n",
      "NON-CRIMINAL      19092\n",
      "ASSAULT           13082\n",
      "VEHICLE THEFT      7942\n",
      "Name: Category, dtype: int64\n",
      "2016\n",
      "LARCENY/THEFT     15559\n",
      "OTHER OFFENSES     8124\n",
      "NON-CRIMINAL       7512\n",
      "ASSAULT            5532\n",
      "VANDALISM          3163\n",
      "Name: Category, dtype: int64\n"
     ]
    },
    {
     "data": {
      "image/png": "[encoded data removed]",
      "text/plain": [
       "<matplotlib.figure.Figure at 0x11f184860>"
      ]
     },
     "metadata": {},
     "output_type": "display_data"
    }
   ],
   "source": [
    "# incorrect way # 2 \n",
    "years = list(range(2003, 2017))\n",
    "for year in years:\n",
    "    print(year)\n",
    "    print(df[df['Year'] == str(year)]['Category'].value_counts().head())\n",
    "    values = df[df['Year'] == str(year)]['Category'].value_counts().head()\n",
    "    values_dict = df[df['Year'] == str(year)]['Category'].value_counts().head().to_dict()\n",
    "    values.plot(kind = 'barh', x = values_dict.keys(), y = values_dict.values())"
   ]
  },
  {
   "cell_type": "code",
   "execution_count": 38,
   "metadata": {
    "collapsed": false
   },
   "outputs": [
    {
     "name": "stdout",
     "output_type": "stream",
     "text": [
      "<class 'pandas.core.series.Series'>\n"
     ]
    },
    {
     "data": {
      "text/plain": [
       "{2003: 26393}"
      ]
     },
     "execution_count": 38,
     "metadata": {},
     "output_type": "execute_result"
    }
   ],
   "source": [
    "# incorrect way # 3\n",
    "# LARCENY/THEFT\n",
    "\n",
    "larceny_list = {}\n",
    "for item in df[(df['Year'] == str(2003)) & (df['Category'] == 'LARCENY/THEFT')]['Category'].value_counts():\n",
    "    larceny_list[2003] = item\n",
    "\n",
    "larceny_list\n",
    "\n",
    "# years = list(range(2003, 2017))\n",
    "# for year in years:\n",
    "#     print(year)\n",
    "#     print(df[df['Year'] == str(year)]['Category'].value_counts().head())\n",
    "#     values = df[df['Year'] == str(year)]['Category'].value_counts().head()\n",
    "#     values.plot(kind = 'barh')"
   ]
  },
  {
   "cell_type": "code",
   "execution_count": 61,
   "metadata": {
    "collapsed": false
   },
   "outputs": [
    {
     "name": "stdout",
     "output_type": "stream",
     "text": [
      "This is 2003 dictionary: {2003: 26393}\n",
      "This is 2004 dictionary: {2004: 24505}\n",
      "This is 2005 dictionary: {2005: 25319}\n",
      "This is 2006 dictionary: {2006: 27352}\n",
      "This is 2007 dictionary: {2007: 25770}\n",
      "This is 2008 dictionary: {2008: 25807}\n",
      "This is 2009 dictionary: {2009: 25585}\n",
      "This is 2010 dictionary: {2010: 24446}\n",
      "This is 2011 dictionary: {2011: 25905}\n",
      "This is 2012 dictionary: {2012: 30976}\n",
      "This is 2013 dictionary: {2013: 36412}\n",
      "This is 2014 dictionary: {2014: 38005}\n",
      "This is 2015 dictionary: {2015: 42012}\n",
      "This is 2016 dictionary: {2016: 15559}\n"
     ]
    },
    {
     "data": {
      "text/plain": [
       "[{2003: 26393},\n",
       " {2004: 24505},\n",
       " {2005: 25319},\n",
       " {2006: 27352},\n",
       " {2007: 25770},\n",
       " {2008: 25807},\n",
       " {2009: 25585},\n",
       " {2010: 24446},\n",
       " {2011: 25905},\n",
       " {2012: 30976},\n",
       " {2013: 36412},\n",
       " {2014: 38005},\n",
       " {2015: 42012},\n",
       " {2016: 15559}]"
      ]
     },
     "execution_count": 61,
     "metadata": {},
     "output_type": "execute_result"
    }
   ],
   "source": [
    "larceny_dict = {}\n",
    "larceny_list = []\n",
    "years = list(range(2003, 2017))\n",
    "\n",
    "for year in years:\n",
    "    for item in df[(df['Year'] == str(year)) & (df['Category'] == 'LARCENY/THEFT')]['Category'].value_counts():\n",
    "        larceny_dict[year] = item\n",
    "        print('This is', year, 'dictionary:', larceny_dict)\n",
    "        larceny_list.append(larceny_dict)\n",
    "        larceny_dict = {}\n",
    "\n",
    "## Why doesn't this work??\n",
    "# [[larceny_dict[year] = item for item in df[(df['Year'] == str(year)) & (df['Category'] == 'LARCENY/THEFT')]['Category'].value_counts()] for year in years]  \n",
    "\n",
    "larceny_list"
   ]
  },
  {
   "cell_type": "code",
   "execution_count": 64,
   "metadata": {
    "collapsed": false
   },
   "outputs": [
    {
     "data": {
      "text/html": [
       "<div>\n",
       "<table border=\"1\" class=\"dataframe\">\n",
       "  <thead>\n",
       "    <tr style=\"text-align: right;\">\n",
       "      <th></th>\n",
       "      <th>2003</th>\n",
       "      <th>2004</th>\n",
       "      <th>2005</th>\n",
       "      <th>2006</th>\n",
       "      <th>2007</th>\n",
       "      <th>2008</th>\n",
       "      <th>2009</th>\n",
       "      <th>2010</th>\n",
       "      <th>2011</th>\n",
       "      <th>2012</th>\n",
       "      <th>2013</th>\n",
       "      <th>2014</th>\n",
       "      <th>2015</th>\n",
       "      <th>2016</th>\n",
       "    </tr>\n",
       "  </thead>\n",
       "  <tbody>\n",
       "    <tr>\n",
       "      <th>0</th>\n",
       "      <td>26393.0</td>\n",
       "      <td>NaN</td>\n",
       "      <td>NaN</td>\n",
       "      <td>NaN</td>\n",
       "      <td>NaN</td>\n",
       "      <td>NaN</td>\n",
       "      <td>NaN</td>\n",
       "      <td>NaN</td>\n",
       "      <td>NaN</td>\n",
       "      <td>NaN</td>\n",
       "      <td>NaN</td>\n",
       "      <td>NaN</td>\n",
       "      <td>NaN</td>\n",
       "      <td>NaN</td>\n",
       "    </tr>\n",
       "    <tr>\n",
       "      <th>1</th>\n",
       "      <td>NaN</td>\n",
       "      <td>24505.0</td>\n",
       "      <td>NaN</td>\n",
       "      <td>NaN</td>\n",
       "      <td>NaN</td>\n",
       "      <td>NaN</td>\n",
       "      <td>NaN</td>\n",
       "      <td>NaN</td>\n",
       "      <td>NaN</td>\n",
       "      <td>NaN</td>\n",
       "      <td>NaN</td>\n",
       "      <td>NaN</td>\n",
       "      <td>NaN</td>\n",
       "      <td>NaN</td>\n",
       "    </tr>\n",
       "    <tr>\n",
       "      <th>2</th>\n",
       "      <td>NaN</td>\n",
       "      <td>NaN</td>\n",
       "      <td>25319.0</td>\n",
       "      <td>NaN</td>\n",
       "      <td>NaN</td>\n",
       "      <td>NaN</td>\n",
       "      <td>NaN</td>\n",
       "      <td>NaN</td>\n",
       "      <td>NaN</td>\n",
       "      <td>NaN</td>\n",
       "      <td>NaN</td>\n",
       "      <td>NaN</td>\n",
       "      <td>NaN</td>\n",
       "      <td>NaN</td>\n",
       "    </tr>\n",
       "    <tr>\n",
       "      <th>3</th>\n",
       "      <td>NaN</td>\n",
       "      <td>NaN</td>\n",
       "      <td>NaN</td>\n",
       "      <td>27352.0</td>\n",
       "      <td>NaN</td>\n",
       "      <td>NaN</td>\n",
       "      <td>NaN</td>\n",
       "      <td>NaN</td>\n",
       "      <td>NaN</td>\n",
       "      <td>NaN</td>\n",
       "      <td>NaN</td>\n",
       "      <td>NaN</td>\n",
       "      <td>NaN</td>\n",
       "      <td>NaN</td>\n",
       "    </tr>\n",
       "    <tr>\n",
       "      <th>4</th>\n",
       "      <td>NaN</td>\n",
       "      <td>NaN</td>\n",
       "      <td>NaN</td>\n",
       "      <td>NaN</td>\n",
       "      <td>25770.0</td>\n",
       "      <td>NaN</td>\n",
       "      <td>NaN</td>\n",
       "      <td>NaN</td>\n",
       "      <td>NaN</td>\n",
       "      <td>NaN</td>\n",
       "      <td>NaN</td>\n",
       "      <td>NaN</td>\n",
       "      <td>NaN</td>\n",
       "      <td>NaN</td>\n",
       "    </tr>\n",
       "    <tr>\n",
       "      <th>5</th>\n",
       "      <td>NaN</td>\n",
       "      <td>NaN</td>\n",
       "      <td>NaN</td>\n",
       "      <td>NaN</td>\n",
       "      <td>NaN</td>\n",
       "      <td>25807.0</td>\n",
       "      <td>NaN</td>\n",
       "      <td>NaN</td>\n",
       "      <td>NaN</td>\n",
       "      <td>NaN</td>\n",
       "      <td>NaN</td>\n",
       "      <td>NaN</td>\n",
       "      <td>NaN</td>\n",
       "      <td>NaN</td>\n",
       "    </tr>\n",
       "    <tr>\n",
       "      <th>6</th>\n",
       "      <td>NaN</td>\n",
       "      <td>NaN</td>\n",
       "      <td>NaN</td>\n",
       "      <td>NaN</td>\n",
       "      <td>NaN</td>\n",
       "      <td>NaN</td>\n",
       "      <td>25585.0</td>\n",
       "      <td>NaN</td>\n",
       "      <td>NaN</td>\n",
       "      <td>NaN</td>\n",
       "      <td>NaN</td>\n",
       "      <td>NaN</td>\n",
       "      <td>NaN</td>\n",
       "      <td>NaN</td>\n",
       "    </tr>\n",
       "    <tr>\n",
       "      <th>7</th>\n",
       "      <td>NaN</td>\n",
       "      <td>NaN</td>\n",
       "      <td>NaN</td>\n",
       "      <td>NaN</td>\n",
       "      <td>NaN</td>\n",
       "      <td>NaN</td>\n",
       "      <td>NaN</td>\n",
       "      <td>24446.0</td>\n",
       "      <td>NaN</td>\n",
       "      <td>NaN</td>\n",
       "      <td>NaN</td>\n",
       "      <td>NaN</td>\n",
       "      <td>NaN</td>\n",
       "      <td>NaN</td>\n",
       "    </tr>\n",
       "    <tr>\n",
       "      <th>8</th>\n",
       "      <td>NaN</td>\n",
       "      <td>NaN</td>\n",
       "      <td>NaN</td>\n",
       "      <td>NaN</td>\n",
       "      <td>NaN</td>\n",
       "      <td>NaN</td>\n",
       "      <td>NaN</td>\n",
       "      <td>NaN</td>\n",
       "      <td>25905.0</td>\n",
       "      <td>NaN</td>\n",
       "      <td>NaN</td>\n",
       "      <td>NaN</td>\n",
       "      <td>NaN</td>\n",
       "      <td>NaN</td>\n",
       "    </tr>\n",
       "    <tr>\n",
       "      <th>9</th>\n",
       "      <td>NaN</td>\n",
       "      <td>NaN</td>\n",
       "      <td>NaN</td>\n",
       "      <td>NaN</td>\n",
       "      <td>NaN</td>\n",
       "      <td>NaN</td>\n",
       "      <td>NaN</td>\n",
       "      <td>NaN</td>\n",
       "      <td>NaN</td>\n",
       "      <td>30976.0</td>\n",
       "      <td>NaN</td>\n",
       "      <td>NaN</td>\n",
       "      <td>NaN</td>\n",
       "      <td>NaN</td>\n",
       "    </tr>\n",
       "    <tr>\n",
       "      <th>10</th>\n",
       "      <td>NaN</td>\n",
       "      <td>NaN</td>\n",
       "      <td>NaN</td>\n",
       "      <td>NaN</td>\n",
       "      <td>NaN</td>\n",
       "      <td>NaN</td>\n",
       "      <td>NaN</td>\n",
       "      <td>NaN</td>\n",
       "      <td>NaN</td>\n",
       "      <td>NaN</td>\n",
       "      <td>36412.0</td>\n",
       "      <td>NaN</td>\n",
       "      <td>NaN</td>\n",
       "      <td>NaN</td>\n",
       "    </tr>\n",
       "    <tr>\n",
       "      <th>11</th>\n",
       "      <td>NaN</td>\n",
       "      <td>NaN</td>\n",
       "      <td>NaN</td>\n",
       "      <td>NaN</td>\n",
       "      <td>NaN</td>\n",
       "      <td>NaN</td>\n",
       "      <td>NaN</td>\n",
       "      <td>NaN</td>\n",
       "      <td>NaN</td>\n",
       "      <td>NaN</td>\n",
       "      <td>NaN</td>\n",
       "      <td>38005.0</td>\n",
       "      <td>NaN</td>\n",
       "      <td>NaN</td>\n",
       "    </tr>\n",
       "    <tr>\n",
       "      <th>12</th>\n",
       "      <td>NaN</td>\n",
       "      <td>NaN</td>\n",
       "      <td>NaN</td>\n",
       "      <td>NaN</td>\n",
       "      <td>NaN</td>\n",
       "      <td>NaN</td>\n",
       "      <td>NaN</td>\n",
       "      <td>NaN</td>\n",
       "      <td>NaN</td>\n",
       "      <td>NaN</td>\n",
       "      <td>NaN</td>\n",
       "      <td>NaN</td>\n",
       "      <td>42012.0</td>\n",
       "      <td>NaN</td>\n",
       "    </tr>\n",
       "    <tr>\n",
       "      <th>13</th>\n",
       "      <td>NaN</td>\n",
       "      <td>NaN</td>\n",
       "      <td>NaN</td>\n",
       "      <td>NaN</td>\n",
       "      <td>NaN</td>\n",
       "      <td>NaN</td>\n",
       "      <td>NaN</td>\n",
       "      <td>NaN</td>\n",
       "      <td>NaN</td>\n",
       "      <td>NaN</td>\n",
       "      <td>NaN</td>\n",
       "      <td>NaN</td>\n",
       "      <td>NaN</td>\n",
       "      <td>15559.0</td>\n",
       "    </tr>\n",
       "  </tbody>\n",
       "</table>\n",
       "</div>"
      ],
      "text/plain": [
       "       2003     2004     2005     2006     2007     2008     2009     2010  \\\n",
       "0   26393.0      NaN      NaN      NaN      NaN      NaN      NaN      NaN   \n",
       "1       NaN  24505.0      NaN      NaN      NaN      NaN      NaN      NaN   \n",
       "2       NaN      NaN  25319.0      NaN      NaN      NaN      NaN      NaN   \n",
       "3       NaN      NaN      NaN  27352.0      NaN      NaN      NaN      NaN   \n",
       "4       NaN      NaN      NaN      NaN  25770.0      NaN      NaN      NaN   \n",
       "5       NaN      NaN      NaN      NaN      NaN  25807.0      NaN      NaN   \n",
       "6       NaN      NaN      NaN      NaN      NaN      NaN  25585.0      NaN   \n",
       "7       NaN      NaN      NaN      NaN      NaN      NaN      NaN  24446.0   \n",
       "8       NaN      NaN      NaN      NaN      NaN      NaN      NaN      NaN   \n",
       "9       NaN      NaN      NaN      NaN      NaN      NaN      NaN      NaN   \n",
       "10      NaN      NaN      NaN      NaN      NaN      NaN      NaN      NaN   \n",
       "11      NaN      NaN      NaN      NaN      NaN      NaN      NaN      NaN   \n",
       "12      NaN      NaN      NaN      NaN      NaN      NaN      NaN      NaN   \n",
       "13      NaN      NaN      NaN      NaN      NaN      NaN      NaN      NaN   \n",
       "\n",
       "       2011     2012     2013     2014     2015     2016  \n",
       "0       NaN      NaN      NaN      NaN      NaN      NaN  \n",
       "1       NaN      NaN      NaN      NaN      NaN      NaN  \n",
       "2       NaN      NaN      NaN      NaN      NaN      NaN  \n",
       "3       NaN      NaN      NaN      NaN      NaN      NaN  \n",
       "4       NaN      NaN      NaN      NaN      NaN      NaN  \n",
       "5       NaN      NaN      NaN      NaN      NaN      NaN  \n",
       "6       NaN      NaN      NaN      NaN      NaN      NaN  \n",
       "7       NaN      NaN      NaN      NaN      NaN      NaN  \n",
       "8   25905.0      NaN      NaN      NaN      NaN      NaN  \n",
       "9       NaN  30976.0      NaN      NaN      NaN      NaN  \n",
       "10      NaN      NaN  36412.0      NaN      NaN      NaN  \n",
       "11      NaN      NaN      NaN  38005.0      NaN      NaN  \n",
       "12      NaN      NaN      NaN      NaN  42012.0      NaN  \n",
       "13      NaN      NaN      NaN      NaN      NaN  15559.0  "
      ]
     },
     "execution_count": 64,
     "metadata": {},
     "output_type": "execute_result"
    }
   ],
   "source": [
    "larceny_df = pd.DataFrame(larceny_list)\n",
    "larceny_df"
   ]
  },
  {
   "cell_type": "code",
   "execution_count": 65,
   "metadata": {
    "collapsed": false
   },
   "outputs": [
    {
     "name": "stdout",
     "output_type": "stream",
     "text": [
      "This is 2003 dictionary: {'Year': 2003, 'Larceny_theft': 26393}\n",
      "This is 2004 dictionary: {'Year': 2004, 'Larceny_theft': 24505}\n",
      "This is 2005 dictionary: {'Year': 2005, 'Larceny_theft': 25319}\n",
      "This is 2006 dictionary: {'Year': 2006, 'Larceny_theft': 27352}\n",
      "This is 2007 dictionary: {'Year': 2007, 'Larceny_theft': 25770}\n",
      "This is 2008 dictionary: {'Year': 2008, 'Larceny_theft': 25807}\n",
      "This is 2009 dictionary: {'Year': 2009, 'Larceny_theft': 25585}\n",
      "This is 2010 dictionary: {'Year': 2010, 'Larceny_theft': 24446}\n",
      "This is 2011 dictionary: {'Year': 2011, 'Larceny_theft': 25905}\n",
      "This is 2012 dictionary: {'Year': 2012, 'Larceny_theft': 30976}\n",
      "This is 2013 dictionary: {'Year': 2013, 'Larceny_theft': 36412}\n",
      "This is 2014 dictionary: {'Year': 2014, 'Larceny_theft': 38005}\n",
      "This is 2015 dictionary: {'Year': 2015, 'Larceny_theft': 42012}\n",
      "This is 2016 dictionary: {'Year': 2016, 'Larceny_theft': 15559}\n"
     ]
    },
    {
     "data": {
      "text/plain": [
       "[{'Larceny_theft': 26393, 'Year': 2003},\n",
       " {'Larceny_theft': 24505, 'Year': 2004},\n",
       " {'Larceny_theft': 25319, 'Year': 2005},\n",
       " {'Larceny_theft': 27352, 'Year': 2006},\n",
       " {'Larceny_theft': 25770, 'Year': 2007},\n",
       " {'Larceny_theft': 25807, 'Year': 2008},\n",
       " {'Larceny_theft': 25585, 'Year': 2009},\n",
       " {'Larceny_theft': 24446, 'Year': 2010},\n",
       " {'Larceny_theft': 25905, 'Year': 2011},\n",
       " {'Larceny_theft': 30976, 'Year': 2012},\n",
       " {'Larceny_theft': 36412, 'Year': 2013},\n",
       " {'Larceny_theft': 38005, 'Year': 2014},\n",
       " {'Larceny_theft': 42012, 'Year': 2015},\n",
       " {'Larceny_theft': 15559, 'Year': 2016}]"
      ]
     },
     "execution_count": 65,
     "metadata": {},
     "output_type": "execute_result"
    }
   ],
   "source": [
    "# Figured it out!\n",
    "# What I really want is Year: 2003 and Larceny_Theft: 26393\n",
    "larceny_dict = {}\n",
    "larceny_list = []\n",
    "years = list(range(2003, 2017))\n",
    "\n",
    "for year in years:\n",
    "    for item in df[(df['Year'] == str(year)) & (df['Category'] == 'LARCENY/THEFT')]['Category'].value_counts():\n",
    "        larceny_dict['Year'] = year\n",
    "        larceny_dict['Larceny_theft'] = item\n",
    "        print('This is', year, 'dictionary:', larceny_dict)\n",
    "        larceny_list.append(larceny_dict)\n",
    "        larceny_dict = {}\n",
    "\n",
    "larceny_list"
   ]
  },
  {
   "cell_type": "code",
   "execution_count": 66,
   "metadata": {
    "collapsed": false
   },
   "outputs": [
    {
     "data": {
      "text/html": [
       "<div>\n",
       "<table border=\"1\" class=\"dataframe\">\n",
       "  <thead>\n",
       "    <tr style=\"text-align: right;\">\n",
       "      <th></th>\n",
       "      <th>Larceny_theft</th>\n",
       "      <th>Year</th>\n",
       "    </tr>\n",
       "  </thead>\n",
       "  <tbody>\n",
       "    <tr>\n",
       "      <th>0</th>\n",
       "      <td>26393</td>\n",
       "      <td>2003</td>\n",
       "    </tr>\n",
       "    <tr>\n",
       "      <th>1</th>\n",
       "      <td>24505</td>\n",
       "      <td>2004</td>\n",
       "    </tr>\n",
       "    <tr>\n",
       "      <th>2</th>\n",
       "      <td>25319</td>\n",
       "      <td>2005</td>\n",
       "    </tr>\n",
       "    <tr>\n",
       "      <th>3</th>\n",
       "      <td>27352</td>\n",
       "      <td>2006</td>\n",
       "    </tr>\n",
       "    <tr>\n",
       "      <th>4</th>\n",
       "      <td>25770</td>\n",
       "      <td>2007</td>\n",
       "    </tr>\n",
       "    <tr>\n",
       "      <th>5</th>\n",
       "      <td>25807</td>\n",
       "      <td>2008</td>\n",
       "    </tr>\n",
       "    <tr>\n",
       "      <th>6</th>\n",
       "      <td>25585</td>\n",
       "      <td>2009</td>\n",
       "    </tr>\n",
       "    <tr>\n",
       "      <th>7</th>\n",
       "      <td>24446</td>\n",
       "      <td>2010</td>\n",
       "    </tr>\n",
       "    <tr>\n",
       "      <th>8</th>\n",
       "      <td>25905</td>\n",
       "      <td>2011</td>\n",
       "    </tr>\n",
       "    <tr>\n",
       "      <th>9</th>\n",
       "      <td>30976</td>\n",
       "      <td>2012</td>\n",
       "    </tr>\n",
       "    <tr>\n",
       "      <th>10</th>\n",
       "      <td>36412</td>\n",
       "      <td>2013</td>\n",
       "    </tr>\n",
       "    <tr>\n",
       "      <th>11</th>\n",
       "      <td>38005</td>\n",
       "      <td>2014</td>\n",
       "    </tr>\n",
       "    <tr>\n",
       "      <th>12</th>\n",
       "      <td>42012</td>\n",
       "      <td>2015</td>\n",
       "    </tr>\n",
       "    <tr>\n",
       "      <th>13</th>\n",
       "      <td>15559</td>\n",
       "      <td>2016</td>\n",
       "    </tr>\n",
       "  </tbody>\n",
       "</table>\n",
       "</div>"
      ],
      "text/plain": [
       "    Larceny_theft  Year\n",
       "0           26393  2003\n",
       "1           24505  2004\n",
       "2           25319  2005\n",
       "3           27352  2006\n",
       "4           25770  2007\n",
       "5           25807  2008\n",
       "6           25585  2009\n",
       "7           24446  2010\n",
       "8           25905  2011\n",
       "9           30976  2012\n",
       "10          36412  2013\n",
       "11          38005  2014\n",
       "12          42012  2015\n",
       "13          15559  2016"
      ]
     },
     "execution_count": 66,
     "metadata": {},
     "output_type": "execute_result"
    }
   ],
   "source": [
    "larceny_df = pd.DataFrame(larceny_list)\n",
    "larceny_df"
   ]
  },
  {
   "cell_type": "code",
   "execution_count": 68,
   "metadata": {
    "collapsed": false
   },
   "outputs": [
    {
     "data": {
      "text/plain": [
       "<matplotlib.axes._subplots.AxesSubplot at 0x1125d4d30>"
      ]
     },
     "execution_count": 68,
     "metadata": {},
     "output_type": "execute_result"
    },
    {
     "data": {
      "image/png": "[encoded data removed]",
      "text/plain": [
       "<matplotlib.figure.Figure at 0x1118e19e8>"
      ]
     },
     "metadata": {},
     "output_type": "display_data"
    }
   ],
   "source": [
    "larceny_df.plot(kind = 'line', x = 'Year', y = 'Larceny_theft')"
   ]
  },
  {
   "cell_type": "markdown",
   "metadata": {},
   "source": [
    "### Things That Have Changed Over The Years:\n",
    "* Vehicle Theft\n",
    "* Drug/Narcotics\n",
    "* Vandalism\n",
    "* Warrants (made a brief appearance)"
   ]
  },
  {
   "cell_type": "markdown",
   "metadata": {},
   "source": [
    "\n",
    "4) How frequently do incidents happen in different PdDistricts?\n",
    "5) Group by year and make graphs for each.\n",
    "6) What time of day do most crimes happen?\n",
    "7) What time of day does each type of incident usually happen?\n",
    "8) What types of resolutions are there?\n",
    "9) How frequently does each occur?\n",
    "what percent of each type of crime goes unsolved?\n",
    "10) Group by year and make graphs for each.\n",
    "11) This year, what types of incidents are most popular in each district?\n",
    "12) For the most popular type of incident in Park District, how has its frequency changed over the years (in times/month, since this year isn't over).\n",
    "\n"
   ]
  },
  {
   "cell_type": "code",
   "execution_count": null,
   "metadata": {
    "collapsed": true
   },
   "outputs": [],
   "source": []
  },
  {
   "cell_type": "code",
   "execution_count": null,
   "metadata": {
    "collapsed": true
   },
   "outputs": [],
   "source": []
  },
  {
   "cell_type": "code",
   "execution_count": null,
   "metadata": {
    "collapsed": true
   },
   "outputs": [],
   "source": []
  },
  {
   "cell_type": "markdown",
   "metadata": {},
   "source": [
    "# Problematic Things"
   ]
  },
  {
   "cell_type": "markdown",
   "metadata": {},
   "source": [
    "* Making multiple graphs"
   ]
  }
 ],
 "metadata": {
  "kernelspec": {
   "display_name": "Python 3",
   "language": "python",
   "name": "python3"
  },
  "language_info": {
   "codemirror_mode": {
    "name": "ipython",
    "version": 3
   },
   "file_extension": ".py",
   "mimetype": "text/x-python",
   "name": "python",
   "nbconvert_exporter": "python",
   "pygments_lexer": "ipython3",
   "version": "3.5.1"
  }
 },
 "nbformat": 4,
 "nbformat_minor": 0
}
