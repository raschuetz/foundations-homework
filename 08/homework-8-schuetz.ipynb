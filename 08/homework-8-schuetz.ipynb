{
 "cells": [
  {
   "cell_type": "code",
   "execution_count": 1,
   "metadata": {
    "collapsed": true
   },
   "outputs": [],
   "source": [
    "import pandas as pd\n",
    "%matplotlib inline\n",
    "import matplotlib.pyplot as plt "
   ]
  },
  {
   "cell_type": "code",
   "execution_count": 2,
   "metadata": {
    "collapsed": false
   },
   "outputs": [],
   "source": [
    "plt.style.use('seaborn-deep')"
   ]
  },
  {
   "cell_type": "markdown",
   "metadata": {},
   "source": [
    "# SF Crime"
   ]
  },
  {
   "cell_type": "code",
   "execution_count": 3,
   "metadata": {
    "collapsed": false
   },
   "outputs": [],
   "source": [
    "df = pd.read_csv('crime.csv')"
   ]
  },
  {
   "cell_type": "code",
   "execution_count": 4,
   "metadata": {
    "collapsed": false
   },
   "outputs": [
    {
     "data": {
      "text/html": [
       "<div>\n",
       "<table border=\"1\" class=\"dataframe\">\n",
       "  <thead>\n",
       "    <tr style=\"text-align: right;\">\n",
       "      <th></th>\n",
       "      <th>IncidntNum</th>\n",
       "      <th>Category</th>\n",
       "      <th>Descript</th>\n",
       "      <th>DayOfWeek</th>\n",
       "      <th>Date</th>\n",
       "      <th>Time</th>\n",
       "      <th>PdDistrict</th>\n",
       "      <th>Resolution</th>\n",
       "      <th>Address</th>\n",
       "      <th>X</th>\n",
       "      <th>Y</th>\n",
       "      <th>Location</th>\n",
       "    </tr>\n",
       "  </thead>\n",
       "  <tbody>\n",
       "    <tr>\n",
       "      <th>0</th>\n",
       "      <td>110914565</td>\n",
       "      <td>WARRANTS</td>\n",
       "      <td>WARRANT ARREST</td>\n",
       "      <td>Friday</td>\n",
       "      <td>05/29/2015 12:00:00 AM</td>\n",
       "      <td>16:42</td>\n",
       "      <td>SOUTHERN</td>\n",
       "      <td>ARREST, BOOKED</td>\n",
       "      <td>BRYANT ST / 8TH ST</td>\n",
       "      <td>-122.406971</td>\n",
       "      <td>37.772527</td>\n",
       "      <td>(37.7725273607571, -122.406970988225)</td>\n",
       "    </tr>\n",
       "    <tr>\n",
       "      <th>1</th>\n",
       "      <td>120789988</td>\n",
       "      <td>MISSING PERSON</td>\n",
       "      <td>FOUND PERSON</td>\n",
       "      <td>Monday</td>\n",
       "      <td>05/16/2016 12:00:00 AM</td>\n",
       "      <td>00:41</td>\n",
       "      <td>INGLESIDE</td>\n",
       "      <td>NONE</td>\n",
       "      <td>WOOLSEY ST / UNIVERSITY ST</td>\n",
       "      <td>-122.412470</td>\n",
       "      <td>37.722659</td>\n",
       "      <td>(37.7226585129212, -122.412469643631)</td>\n",
       "    </tr>\n",
       "    <tr>\n",
       "      <th>2</th>\n",
       "      <td>150020821</td>\n",
       "      <td>ASSAULT</td>\n",
       "      <td>ELDER ADULT OR DEPENDENT ABUSE (NOT EMBEZZLEME...</td>\n",
       "      <td>Friday</td>\n",
       "      <td>01/02/2015 12:00:00 AM</td>\n",
       "      <td>12:00</td>\n",
       "      <td>NORTHERN</td>\n",
       "      <td>NONE</td>\n",
       "      <td>300 Block of FULTON ST</td>\n",
       "      <td>-122.422536</td>\n",
       "      <td>37.778796</td>\n",
       "      <td>(37.7787958771466, -122.422536478306)</td>\n",
       "    </tr>\n",
       "    <tr>\n",
       "      <th>3</th>\n",
       "      <td>150020978</td>\n",
       "      <td>OTHER OFFENSES</td>\n",
       "      <td>DRIVERS LICENSE, SUSPENDED OR REVOKED</td>\n",
       "      <td>Wednesday</td>\n",
       "      <td>01/07/2015 12:00:00 AM</td>\n",
       "      <td>19:21</td>\n",
       "      <td>CENTRAL</td>\n",
       "      <td>ARREST, BOOKED</td>\n",
       "      <td>MONTGOMERY ST / CHESTNUT ST</td>\n",
       "      <td>-122.405178</td>\n",
       "      <td>37.804764</td>\n",
       "      <td>(37.80476375718, -122.405178220847)</td>\n",
       "    </tr>\n",
       "    <tr>\n",
       "      <th>4</th>\n",
       "      <td>150020984</td>\n",
       "      <td>ROBBERY</td>\n",
       "      <td>ROBBERY OF A CHAIN STORE WITH A DANGEROUS WEAPON</td>\n",
       "      <td>Wednesday</td>\n",
       "      <td>01/07/2015 12:00:00 AM</td>\n",
       "      <td>19:27</td>\n",
       "      <td>SOUTHERN</td>\n",
       "      <td>NONE</td>\n",
       "      <td>1100 Block of MARKET ST</td>\n",
       "      <td>-122.413564</td>\n",
       "      <td>37.779514</td>\n",
       "      <td>(37.779514030063, -122.413564091744)</td>\n",
       "    </tr>\n",
       "  </tbody>\n",
       "</table>\n",
       "</div>"
      ],
      "text/plain": [
       "   IncidntNum        Category  \\\n",
       "0   110914565        WARRANTS   \n",
       "1   120789988  MISSING PERSON   \n",
       "2   150020821         ASSAULT   \n",
       "3   150020978  OTHER OFFENSES   \n",
       "4   150020984         ROBBERY   \n",
       "\n",
       "                                            Descript  DayOfWeek  \\\n",
       "0                                     WARRANT ARREST     Friday   \n",
       "1                                       FOUND PERSON     Monday   \n",
       "2  ELDER ADULT OR DEPENDENT ABUSE (NOT EMBEZZLEME...     Friday   \n",
       "3              DRIVERS LICENSE, SUSPENDED OR REVOKED  Wednesday   \n",
       "4   ROBBERY OF A CHAIN STORE WITH A DANGEROUS WEAPON  Wednesday   \n",
       "\n",
       "                     Date   Time PdDistrict      Resolution  \\\n",
       "0  05/29/2015 12:00:00 AM  16:42   SOUTHERN  ARREST, BOOKED   \n",
       "1  05/16/2016 12:00:00 AM  00:41  INGLESIDE            NONE   \n",
       "2  01/02/2015 12:00:00 AM  12:00   NORTHERN            NONE   \n",
       "3  01/07/2015 12:00:00 AM  19:21    CENTRAL  ARREST, BOOKED   \n",
       "4  01/07/2015 12:00:00 AM  19:27   SOUTHERN            NONE   \n",
       "\n",
       "                       Address           X          Y  \\\n",
       "0           BRYANT ST / 8TH ST -122.406971  37.772527   \n",
       "1   WOOLSEY ST / UNIVERSITY ST -122.412470  37.722659   \n",
       "2       300 Block of FULTON ST -122.422536  37.778796   \n",
       "3  MONTGOMERY ST / CHESTNUT ST -122.405178  37.804764   \n",
       "4      1100 Block of MARKET ST -122.413564  37.779514   \n",
       "\n",
       "                                Location  \n",
       "0  (37.7725273607571, -122.406970988225)  \n",
       "1  (37.7226585129212, -122.412469643631)  \n",
       "2  (37.7787958771466, -122.422536478306)  \n",
       "3    (37.80476375718, -122.405178220847)  \n",
       "4   (37.779514030063, -122.413564091744)  "
      ]
     },
     "execution_count": 4,
     "metadata": {},
     "output_type": "execute_result"
    }
   ],
   "source": [
    "df.head()"
   ]
  },
  {
   "cell_type": "code",
   "execution_count": 5,
   "metadata": {
    "collapsed": false
   },
   "outputs": [
    {
     "data": {
      "text/plain": [
       "Index(['IncidntNum', 'Category', 'Descript', 'DayOfWeek', 'Date', 'Time',\n",
       "       'PdDistrict', 'Resolution', 'Address', 'X', 'Y', 'Location'],\n",
       "      dtype='object')"
      ]
     },
     "execution_count": 5,
     "metadata": {},
     "output_type": "execute_result"
    }
   ],
   "source": [
    "df.columns"
   ]
  },
  {
   "cell_type": "markdown",
   "metadata": {},
   "source": [
    "## 1) What different types of incidents are there? How frequently has each type occurred?"
   ]
  },
  {
   "cell_type": "code",
   "execution_count": 6,
   "metadata": {
    "collapsed": false
   },
   "outputs": [
    {
     "data": {
      "text/plain": [
       "count           1922818\n",
       "unique               39\n",
       "top       LARCENY/THEFT\n",
       "freq             394046\n",
       "Name: Category, dtype: object"
      ]
     },
     "execution_count": 6,
     "metadata": {},
     "output_type": "execute_result"
    }
   ],
   "source": [
    "df['Category'].describe()"
   ]
  },
  {
   "cell_type": "markdown",
   "metadata": {},
   "source": [
    "There are 39 different types of incidents:"
   ]
  },
  {
   "cell_type": "code",
   "execution_count": 7,
   "metadata": {
    "collapsed": false
   },
   "outputs": [
    {
     "data": {
      "text/plain": [
       "LARCENY/THEFT                  394046\n",
       "OTHER OFFENSES                 273803\n",
       "NON-CRIMINAL                   205217\n",
       "ASSAULT                        168344\n",
       "VEHICLE THEFT                  115581\n",
       "DRUG/NARCOTIC                  112540\n",
       "VANDALISM                       98064\n",
       "WARRANTS                        91334\n",
       "BURGLARY                        80167\n",
       "SUSPICIOUS OCC                  69020\n",
       "MISSING PERSON                  56545\n",
       "ROBBERY                         49417\n",
       "FRAUD                           36546\n",
       "SECONDARY CODES                 22029\n",
       "FORGERY/COUNTERFEITING          21965\n",
       "WEAPON LAWS                     18895\n",
       "TRESPASS                        16190\n",
       "PROSTITUTION                    15803\n",
       "STOLEN PROPERTY                 10306\n",
       "SEX OFFENSES, FORCIBLE           9774\n",
       "DRUNKENNESS                      9145\n",
       "DISORDERLY CONDUCT               9114\n",
       "RECOVERED VEHICLE                7597\n",
       "DRIVING UNDER THE INFLUENCE      5042\n",
       "KIDNAPPING                       4906\n",
       "RUNAWAY                          4027\n",
       "LIQUOR LAWS                      3914\n",
       "ARSON                            3352\n",
       "EMBEZZLEMENT                     2624\n",
       "LOITERING                        2364\n",
       "SUICIDE                          1146\n",
       "FAMILY OFFENSES                  1097\n",
       "BAD CHECKS                        866\n",
       "BRIBERY                           696\n",
       "EXTORTION                         626\n",
       "SEX OFFENSES, NON FORCIBLE        347\n",
       "GAMBLING                          311\n",
       "PORNOGRAPHY/OBSCENE MAT            47\n",
       "TREA                               11\n",
       "Name: Category, dtype: int64"
      ]
     },
     "execution_count": 7,
     "metadata": {},

    }
   ],

    "df['Category'].value_counts()"
   ]
  },
  {
   "cell_type": "markdown",
   "metadata": {},
   "source": [
    "New questions: What do these mean?\n",
    "* Other offenses\n",
    "* Non-criminal\n",
    "* Warrants\n",
    "* Suspicious occ\n",
    "* Secondary codes\n",
    "* Forgery/counterfeiting\n",
    "* Weapon laws\n",
    "* Family offenses\n",
    "* Sex offenses, non forcible\n",
    "* Trea"
   ]
  },
  {
   "cell_type": "markdown",
   "metadata": {},
   "source": [
    "### Other Offenses"
   ]
  },
  {
   "cell_type": "code",
   "execution_count": 8,
   "metadata": {
    "collapsed": false
   },
   "outputs": [
    {
     "data": {
      "text/plain": [
       "DRIVERS LICENSE, SUSPENDED OR REVOKED                                        58420\n",
       "TRAFFIC VIOLATION                                                            34748\n",
       "RESISTING ARREST                                                             19066\n",
       "MISCELLANEOUS INVESTIGATION                                                  17897\n",
       "PROBATION VIOLATION                                                          16627\n",
       "LOST/STOLEN LICENSE PLATE                                                    14344\n",
       "VIOLATION OF RESTRAINING ORDER                                               12297\n",
       "TRAFFIC VIOLATION ARREST                                                     12250\n",
       "PAROLE VIOLATION                                                             10260\n",
       "CONSPIRACY                                                                    6650\n",
       "FALSE PERSONATION TO RECEIVE MONEY OR PROPERTY                                6061\n",
       "OBSCENE PHONE CALLS(S)                                                        5274\n",
       "VIOLATION OF MUNICIPAL CODE                                                   4950\n",
       "POSSESSION OF BURGLARY TOOLS                                                  4794\n",
       "HARASSING PHONE CALLS                                                         4624\n",
       "FALSE PERSONATION                                                             3915\n",
       "VIOLATION OF MUNICIPAL POLICE CODE                                            3909\n",
       "MISCELLANEOUS STATE MISDEMEANOR                                               3666\n",
       "FALSE EVIDENCE OF VEHICLE REGISTRATION                                        2565\n",
       "FRAUDULENT GAME OR TRICK, OBTAINING MONEY OR PROPERTY                         2355\n",
       "PERMIT VIOLATION, POLICE (GENERAL)                                            1802\n",
       "OBSTRUCTIONS ON STREETS/SIDEWALKS                                             1528\n",
       "FAILURE TO REGISTER AS SEX OFFENDER                                           1488\n",
       "TAMPERING WITH A VEHICLE                                                      1479\n",
       "PEDDLING WITHOUT A LICENSE                                                    1305\n",
       "STAY AWAY ORDER VIOLATION, DV RELATED                                         1290\n",
       "INDECENT EXPOSURE                                                             1227\n",
       "DANGER OF LEADING IMMORAL LIFE                                                 948\n",
       "RECKLESS DRIVING                                                               938\n",
       "VIOLATION OF PARK CODE                                                         935\n",
       "                                                                             ...  \n",
       "SELLING RESTRICTED GLUE TO JUVENILES                                             5\n",
       "INJURY TO RAILROADS/RAILROAD BRIDGES                                             5\n",
       "HAZARDOUS MATERIALS, DUMP OIL INTO SEWERS                                        5\n",
       "HAZARDOUS MATERIALS, SPILL LOAD                                                  4\n",
       "HAZARDOUS MATERIALS,  DUMP ANY SUBSTANCE INTO WATER                              4\n",
       "ILLEGAL CHARITABLE SOLICITATIONS                                                 4\n",
       "PERMIT VIOLATION, SECOND-HAND DEALER                                             3\n",
       "SCHOOL STUDENT OR EMPLOYEE ENTERING  CAMPUS AFTER SUSPENSION OR DISMISSAL        3\n",
       "DOG, FIGHTING;  OWNING, FIGHTING, OR ATTENDING FIGHT                             3\n",
       "PUSH-CART PEDDLER PERMIT VIOLATION                                               3\n",
       "HAZARDOUS MATERIALS, SPILL ON ROADWAY                                            3\n",
       "SOLICITING MINOR TO COMMIT FELONY                                                3\n",
       "PERMIT VIOLATION, VALET PARKING                                                  3\n",
       "POLICE BROADCAST, INTERCEPTION TO COMMIT CRIME                                   2\n",
       "ESCAPE FROM HOSPITAL WITH FORCE                                                  2\n",
       "SCHOOL BUS, ENTRY TO COMMIT CRIME OR REFUSAL TO LEAVE                            2\n",
       "ENCOUNTER STUDIO ORDINANCE VIOLATION                                             2\n",
       "MONEY LAUNDERING                                                                 2\n",
       "HAZARDOUS MATERIALS, FAILURE TO COMPLY W/REGULATIONS                             2\n",
       "WEARING THE APPAREL OF OPPOSITE SEX TO DECEIVE                                   2\n",
       "LOUDSPEAKER OR SOUND TRUCK PERMIT VIOLATION                                      2\n",
       "CHOP SHOP, OWN OR OPERATE                                                        2\n",
       "SCHOOL GROUNDS, ENTRY BY SEX OFFENDER                                            2\n",
       "FOOD STAMPS, UNLAWFUL USE BY RETAILER                                            2\n",
       "REFUSAL TO IDENTIFY                                                              1\n",
       "HAZARDOUS MATERIALS, TRANSPORT WITHOUT PERMIT                                    1\n",
       "VIOLATION OF CALIF UNEMPLOYMENT INSURANCE ACT                                    1\n",
       "UNSOLICITED FAX ADVERTISING                                                      1\n",
       "HAZARDOUS MATERIALS, STORE WITHOUT PERMIT                                        1\n",
       "PERMIT VIOLATION, ADVERTISING HANDBILL DISTRIBUTION                              1\n",
       "Name: Descript, dtype: int64"
      ]
     },
     "execution_count": 8,
     "metadata": {},
     "output_type": "execute_result"
    }
   ],
   "source": [
    "df[df['Category'] == 'OTHER OFFENSES']['Descript'].value_counts()"
   ]
  },
  {
   "cell_type": "markdown",
   "metadata": {},
   "source": [
    "#### Fun Observations:\n",
    "* Since 2003, there have been more incidents of “danger of leading immoral life” (948) than \"reckless driving\" (938).\n",
    "* Most \"other offenses\" are traffic related.\n",
    "* In SF, some offenses are probaby difficult to categorize: such as \"escape from hospital with force\" (2) and \"wearing the apparel of opposite sex to deceive\"(2) (hello, Robert Durst?)."
   ]
  },
  {
   "cell_type": "markdown",
   "metadata": {},
   "source": [
    "### Non-Criminal"
   ]
  },
  {
   "cell_type": "code",
   "execution_count": 9,
   "metadata": {
    "collapsed": false
   },
   "outputs": [
    {
     "data": {
      "text/plain": [
       "LOST PROPERTY                                         68780\n",
       "AIDED CASE, MENTAL DISTURBED                          47961\n",
       "FOUND PROPERTY                                        27644\n",
       "AIDED CASE                                            12013\n",
       "DEATH REPORT, CAUSE UNKNOWN                            9401\n",
       "CASE CLOSURE                                           5386\n",
       "STAY AWAY OR COURT ORDER, NON-DV RELATED               3587\n",
       "AIDED CASE, DOG BITE                                   3011\n",
       "CIVIL SIDEWALKS, CITATION                              2807\n",
       "PROPERTY FOR IDENTIFICATION                            2608\n",
       "AIDED CASE, INJURED PERSON                             2310\n",
       "COURTESY REPORT                                        2178\n",
       "CIVIL SIDEWALKS, WARNING                               2124\n",
       "DEATH REPORT, NATURAL CAUSES                           2089\n",
       "AIDED CASE -PROPERTY FOR DESTRUCTION                   2021\n",
       "FIRE REPORT                                            1745\n",
       "LOCATED PROPERTY                                       1588\n",
       "TARASOFF REPORT                                        1448\n",
       "SEARCH WARRANT SERVICE                                 1379\n",
       "TURNED IN GUN                                          1084\n",
       "TRAFFIC ACCIDENT                                        947\n",
       "SHELTER                                                 753\n",
       "IMPOUNDED VEHICLE                                       657\n",
       "AIDED CASE, SICK PERSON                                 532\n",
       "LICENSE PLATE, RECOVERED                                353\n",
       "LICENSE PLATE, FOUND                                    251\n",
       "MISPLACED VEHICLE                                       125\n",
       "CIVIL SIDEWALKS, BOOKING                                112\n",
       "CIVIL SIDEWALKS, VIOLATION                               68\n",
       "TRUANT, HABITUAL                                         62\n",
       "DEATH, ACCIDENTAL                                        36\n",
       "DEATH, NON-MANSLAUGHTER AUTO ACCIDENT                    30\n",
       "DEMONSTRATION, VIDEO EVIDENCE, MISC. INVESTIGATION       25\n",
       "ACCIDENTAL SHOOTING                                      24\n",
       "YOUTH COURT                                              22\n",
       "AUTO IMPOUNDED                                           19\n",
       "MEGAN'S LAW NOTIFICATION                                 18\n",

       "ACCIDENTAL BURNS                                          7\n",

      ]
     },
     "execution_count": 9,
     "metadata": {},
     "output_type": "execute_result"
    }
   ],
   "source": [
    "df[df['Category'] == 'NON-CRIMINAL']['Descript'].value_counts()"
   ]
  },
  {
   "cell_type": "markdown",
   "metadata": {},
   "source": [
    "## 3) Group by year and make graphs for each."
   ]
  },
  {
   "cell_type": "code",
   "execution_count": 10,
   "metadata": {
    "collapsed": false
   },
   "outputs": [
    {
     "data": {
      "text/plain": [
       "2015    156007\n",
       "2013    152811\n",
       "2014    150150\n",
       "2003    149176\n",
       "2004    148148\n",
       "2005    142186\n",
       "2008    141311\n",
       "2012    140856\n",
       "2009    139860\n",
       "2006    137853\n",
       "2007    137639\n",
       "2010    133525\n",
       "2011    132699\n",
       "2016     60597\n",
       "Name: Date, dtype: int64"
      ]
     },
     "execution_count": 10,
     "metadata": {},
     "output_type": "execute_result"
    }
   ],
   "source": [
    "df['Date'].str.replace(' 12:00:00 AM', '').str[-4:].value_counts()"
   ]
  },
  {
   "cell_type": "code",
   "execution_count": 11,
   "metadata": {
    "collapsed": true
   },
   "outputs": [],
   "source": [
    "df['Year'] = df['Date'].str.replace(' 12:00:00 AM', '').str[-4:]"
   ]
  },
  {
   "cell_type": "code",
   "execution_count": 12,
   "metadata": {
    "collapsed": false
   },
   "outputs": [
    {
     "name": "stdout",
     "output_type": "stream",
     "text": [
      "2003\n",
      "LARCENY/THEFT     26393\n",
      "OTHER OFFENSES    21232\n",
      "VEHICLE THEFT     15325\n",
      "ASSAULT           13461\n",
      "NON-CRIMINAL      13149\n",
      "Name: Category, dtype: int64\n",
      "2004\n",
      "LARCENY/THEFT     24505\n",
      "OTHER OFFENSES    20710\n",
      "VEHICLE THEFT     17884\n",
      "NON-CRIMINAL      13778\n",
      "ASSAULT           12899\n",
      "Name: Category, dtype: int64\n",
      "2005\n",
      "LARCENY/THEFT     25319\n",
      "VEHICLE THEFT     18194\n",
      "OTHER OFFENSES    17834\n",
      "NON-CRIMINAL      14055\n",
      "ASSAULT           11601\n",
      "Name: Category, dtype: int64\n",
      "2006\n",
      "LARCENY/THEFT     27352\n",
      "OTHER OFFENSES    18306\n",
      "NON-CRIMINAL      13368\n",
      "ASSAULT           12449\n",
      "DRUG/NARCOTIC      9069\n",
      "Name: Category, dtype: int64\n",
      "2007\n",
      "LARCENY/THEFT     25770\n",
      "OTHER OFFENSES    19763\n",
      "NON-CRIMINAL      12677\n",
      "ASSAULT           12518\n",
      "DRUG/NARCOTIC     10560\n",
      "Name: Category, dtype: int64\n",
      "2008\n",
      "LARCENY/THEFT     25807\n",
      "OTHER OFFENSES    23457\n",
      "ASSAULT           12681\n",
      "NON-CRIMINAL      12303\n",
      "DRUG/NARCOTIC     11648\n",
      "Name: Category, dtype: int64\n",
      "2009\n",
      "LARCENY/THEFT     25585\n",
      "OTHER OFFENSES    24693\n",
      "NON-CRIMINAL      12395\n",
      "ASSAULT           12284\n",
      "DRUG/NARCOTIC     11950\n",
      "Name: Category, dtype: int64\n",
      "2010\n",
      "LARCENY/THEFT     24446\n",
      "OTHER OFFENSES    20990\n",
      "NON-CRIMINAL      13878\n",
      "ASSAULT           12388\n",
      "DRUG/NARCOTIC      9205\n",
      "Name: Category, dtype: int64\n",
      "2011\n",
      "LARCENY/THEFT     25905\n",
      "OTHER OFFENSES    19552\n",
      "NON-CRIMINAL      15586\n",
      "ASSAULT           12281\n",
      "VANDALISM          7243\n",
      "Name: Category, dtype: int64\n",
      "2012\n",
      "LARCENY/THEFT     30976\n",
      "OTHER OFFENSES    18648\n",
      "NON-CRIMINAL      16936\n",
      "ASSAULT           12181\n",
      "VANDALISM          7808\n",
      "Name: Category, dtype: int64\n",
      "2013\n",
      "LARCENY/THEFT     36412\n",
      "NON-CRIMINAL      21084\n",
      "OTHER OFFENSES    19481\n",
      "ASSAULT           12583\n",
      "WARRANTS           7362\n",
      "Name: Category, dtype: int64\n",
      "2014\n",
      "LARCENY/THEFT     38005\n",
      "OTHER OFFENSES    20742\n",
      "NON-CRIMINAL      19404\n",
      "ASSAULT           12404\n",
      "VANDALISM          7167\n",
      "Name: Category, dtype: int64\n",
      "2015\n",
      "LARCENY/THEFT     42012\n",
      "OTHER OFFENSES    20271\n",
      "NON-CRIMINAL      19092\n",
      "ASSAULT           13082\n",
      "VEHICLE THEFT      7942\n",
      "Name: Category, dtype: int64\n",
      "2016\n",
      "LARCENY/THEFT     15559\n",
      "OTHER OFFENSES     8124\n",
      "NON-CRIMINAL       7512\n",
      "ASSAULT            5532\n",
      "VANDALISM          3163\n",
      "Name: Category, dtype: int64\n"
     ]
    },
    {
     "data": {

      "text/plain": [
       "<matplotlib.figure.Figure at 0x11ec49b00>"
      ]
     },
     "metadata": {},
     "output_type": "display_data"
    }
   ],
   "source": [
    "# The way that's not working for me.\n",
    "# incorrect way # 1\n",
    "years = list(range(2003, 2017))\n",
    "for year in years:\n",
    "    print(year)\n",
    "    print(df[df['Year'] == str(year)]['Category'].value_counts().head())\n",
    "    values = df[df['Year'] == str(year)]['Category'].value_counts().head()\n",
    "    values.plot(kind = 'barh')"
   ]
  },
  {
   "cell_type": "markdown",
   "metadata": {},
   "source": [
    "### Larceny/Theft"
   ]
  },
  {
   "cell_type": "code",
   "execution_count": 13,
   "metadata": {
    "collapsed": false,
    "scrolled": true
   },
   "outputs": [
    {
     "name": "stdout",
     "output_type": "stream",
     "text": [
      "2003\n",
      "LARCENY/THEFT     26393\n",
      "OTHER OFFENSES    21232\n",
      "VEHICLE THEFT     15325\n",
      "ASSAULT           13461\n",
      "NON-CRIMINAL      13149\n",
      "Name: Category, dtype: int64\n",
      "2004\n",
      "LARCENY/THEFT     24505\n",
      "OTHER OFFENSES    20710\n",
      "VEHICLE THEFT     17884\n",
      "NON-CRIMINAL      13778\n",
      "ASSAULT           12899\n",
      "Name: Category, dtype: int64\n",
      "2005\n",
      "LARCENY/THEFT     25319\n",
      "VEHICLE THEFT     18194\n",
      "OTHER OFFENSES    17834\n",
      "NON-CRIMINAL      14055\n",
      "ASSAULT           11601\n",
      "Name: Category, dtype: int64\n",
      "2006\n",
      "LARCENY/THEFT     27352\n",
      "OTHER OFFENSES    18306\n",
      "NON-CRIMINAL      13368\n",
      "ASSAULT           12449\n",
      "DRUG/NARCOTIC      9069\n",
      "Name: Category, dtype: int64\n",
      "2007\n",
      "LARCENY/THEFT     25770\n",
      "OTHER OFFENSES    19763\n",
      "NON-CRIMINAL      12677\n",
      "ASSAULT           12518\n",
      "DRUG/NARCOTIC     10560\n",
      "Name: Category, dtype: int64\n",
      "2008\n",
      "LARCENY/THEFT     25807\n",
      "OTHER OFFENSES    23457\n",
      "ASSAULT           12681\n",
      "NON-CRIMINAL      12303\n",
      "DRUG/NARCOTIC     11648\n",
      "Name: Category, dtype: int64\n",
      "2009\n",
      "LARCENY/THEFT     25585\n",
      "OTHER OFFENSES    24693\n",
      "NON-CRIMINAL      12395\n",
      "ASSAULT           12284\n",
      "DRUG/NARCOTIC     11950\n",
      "Name: Category, dtype: int64\n",
      "2010\n",
      "LARCENY/THEFT     24446\n",
      "OTHER OFFENSES    20990\n",
      "NON-CRIMINAL      13878\n",
      "ASSAULT           12388\n",
      "DRUG/NARCOTIC      9205\n",
      "Name: Category, dtype: int64\n",
      "2011\n",
      "LARCENY/THEFT     25905\n",
      "OTHER OFFENSES    19552\n",
      "NON-CRIMINAL      15586\n",
      "ASSAULT           12281\n",
      "VANDALISM          7243\n",
      "Name: Category, dtype: int64\n",
      "2012\n",
      "LARCENY/THEFT     30976\n",
      "OTHER OFFENSES    18648\n",
      "NON-CRIMINAL      16936\n",
      "ASSAULT           12181\n",
      "VANDALISM          7808\n",
      "Name: Category, dtype: int64\n",
      "2013\n",
      "LARCENY/THEFT     36412\n",
      "NON-CRIMINAL      21084\n",
      "OTHER OFFENSES    19481\n",
      "ASSAULT           12583\n",
      "WARRANTS           7362\n",
      "Name: Category, dtype: int64\n",
      "2014\n",
      "LARCENY/THEFT     38005\n",
      "OTHER OFFENSES    20742\n",
      "NON-CRIMINAL      19404\n",
      "ASSAULT           12404\n",
      "VANDALISM          7167\n",
      "Name: Category, dtype: int64\n",
      "2015\n",
      "LARCENY/THEFT     42012\n",
      "OTHER OFFENSES    20271\n",
      "NON-CRIMINAL      19092\n",
      "ASSAULT           13082\n",
      "VEHICLE THEFT      7942\n",
      "Name: Category, dtype: int64\n",
      "2016\n",
      "LARCENY/THEFT     15559\n",
      "OTHER OFFENSES     8124\n",
      "NON-CRIMINAL       7512\n",
      "ASSAULT            5532\n",
      "VANDALISM          3163\n",
      "Name: Category, dtype: int64\n"
     ]
    },
    {
     "data": {

      "text/plain": [
       "<matplotlib.figure.Figure at 0x11fb98668>"
      ]
     },
     "metadata": {},
     "output_type": "display_data"
    }
   ],
   "source": [
    "# incorrect way # 2 \n",
    "years = list(range(2003, 2017))\n",
    "for year in years:\n",
    "    print(year)\n",
    "    print(df[df['Year'] == str(year)]['Category'].value_counts().head())\n",
    "    values = df[df['Year'] == str(year)]['Category'].value_counts().head()\n",
    "    values_dict = df[df['Year'] == str(year)]['Category'].value_counts().head().to_dict()\n",
    "    values.plot(kind = 'barh', x = values_dict.keys(), y = values_dict.values())"
   ]
  },
  {
   "cell_type": "code",
   "execution_count": 14,
   "metadata": {
    "collapsed": false
   },
   "outputs": [
    {
     "data": {
      "text/plain": [
       "{2003: 26393}"
      ]
     },
     "execution_count": 14,
     "metadata": {},
     "output_type": "execute_result"
    }
   ],
   "source": [
    "# incorrect way # 3\n",
    "# LARCENY/THEFT\n",
    "\n",
    "larceny_list = {}\n",
    "for item in df[(df['Year'] == str(2003)) & (df['Category'] == 'LARCENY/THEFT')]['Category'].value_counts():\n",
    "    larceny_list[2003] = item\n",
    "\n",
    "larceny_list\n",
    "\n",

    "# for year in years:\n",
    "#     print(year)\n",
    "#     print(df[df['Year'] == str(year)]['Category'].value_counts().head())\n",
    "#     values = df[df['Year'] == str(year)]['Category'].value_counts().head()\n",
    "#     values.plot(kind = 'barh')"
   ]
  },
  {
   "cell_type": "code",
   "execution_count": 15,
   "metadata": {
    "collapsed": false
   },
   "outputs": [
    {
     "name": "stdout",
     "output_type": "stream",
     "text": [
      "This is 2003 dictionary: {2003: 26393}\n",
      "This is 2004 dictionary: {2004: 24505}\n",
      "This is 2005 dictionary: {2005: 25319}\n",
      "This is 2006 dictionary: {2006: 27352}\n",

      "This is 2008 dictionary: {2008: 25807}\n",
      "This is 2009 dictionary: {2009: 25585}\n",
      "This is 2010 dictionary: {2010: 24446}\n",
      "This is 2011 dictionary: {2011: 25905}\n",
      "This is 2012 dictionary: {2012: 30976}\n",
      "This is 2013 dictionary: {2013: 36412}\n",
      "This is 2014 dictionary: {2014: 38005}\n",
      "This is 2015 dictionary: {2015: 42012}\n",
      "This is 2016 dictionary: {2016: 15559}\n"
     ]
    },
    {
     "data": {
      "text/plain": [
       "[{2003: 26393},\n",
       " {2004: 24505},\n",
       " {2005: 25319},\n",
       " {2006: 27352},\n",
       " {2007: 25770},\n",
       " {2008: 25807},\n",
       " {2009: 25585},\n",
       " {2010: 24446},\n",
       " {2011: 25905},\n",
       " {2012: 30976},\n",
       " {2013: 36412},\n",
       " {2014: 38005},\n",
       " {2015: 42012},\n",
       " {2016: 15559}]"
      ]
     },
     "execution_count": 15,
     "metadata": {},
     "output_type": "execute_result"
    }
   ],
   "source": [
    "larceny_dict = {}\n",
    "larceny_list = []\n",
    "years = list(range(2003, 2017))\n",
    "\n",
    "for year in years:\n",
    "    for item in df[(df['Year'] == str(year)) & (df['Category'] == 'LARCENY/THEFT')]['Category'].value_counts():\n",
    "        larceny_dict[year] = item\n",
    "        print('This is', year, 'dictionary:', larceny_dict)\n",
    "        larceny_list.append(larceny_dict)\n",
    "        larceny_dict = {}\n",
    "\n",
    "## Why doesn't this work??\n",
    "# [[larceny_dict[year] = item for item in df[(df['Year'] == str(year)) & (df['Category'] == 'LARCENY/THEFT')]['Category'].value_counts()] for year in years]  \n",
    "\n",
    "larceny_list"
   ]
  },
  {
   "cell_type": "code",
   "execution_count": 16,
   "metadata": {
    "collapsed": false
   },
   "outputs": [
    {
     "data": {
      "text/html": [
       "<div>\n",
       "<table border=\"1\" class=\"dataframe\">\n",
       "  <thead>\n",
       "    <tr style=\"text-align: right;\">\n",
       "      <th></th>\n",
       "      <th>2003</th>\n",
       "      <th>2004</th>\n",
       "      <th>2005</th>\n",
       "      <th>2006</th>\n",
       "      <th>2007</th>\n",
       "      <th>2008</th>\n",
       "      <th>2009</th>\n",
       "      <th>2010</th>\n",
       "      <th>2011</th>\n",
       "      <th>2012</th>\n",
       "      <th>2013</th>\n",
       "      <th>2014</th>\n",
       "      <th>2015</th>\n",
       "      <th>2016</th>\n",
       "    </tr>\n",
       "  </thead>\n",
       "  <tbody>\n",
       "    <tr>\n",
       "      <th>0</th>\n",
       "      <td>26393.0</td>\n",
       "      <td>NaN</td>\n",
       "      <td>NaN</td>\n",
       "      <td>NaN</td>\n",
       "      <td>NaN</td>\n",
       "      <td>NaN</td>\n",
       "      <td>NaN</td>\n",
       "      <td>NaN</td>\n",
       "      <td>NaN</td>\n",
       "      <td>NaN</td>\n",
       "      <td>NaN</td>\n",
       "      <td>NaN</td>\n",
       "      <td>NaN</td>\n",
       "      <td>NaN</td>\n",
       "    </tr>\n",
       "    <tr>\n",
       "      <th>1</th>\n",
       "      <td>NaN</td>\n",
       "      <td>24505.0</td>\n",
       "      <td>NaN</td>\n",
       "      <td>NaN</td>\n",
       "      <td>NaN</td>\n",
       "      <td>NaN</td>\n",
       "      <td>NaN</td>\n",
       "      <td>NaN</td>\n",
       "      <td>NaN</td>\n",
       "      <td>NaN</td>\n",
       "      <td>NaN</td>\n",
       "      <td>NaN</td>\n",
       "      <td>NaN</td>\n",
       "      <td>NaN</td>\n",
       "    </tr>\n",
       "    <tr>\n",
       "      <th>2</th>\n",
       "      <td>NaN</td>\n",
       "      <td>NaN</td>\n",
       "      <td>25319.0</td>\n",
       "      <td>NaN</td>\n",
       "      <td>NaN</td>\n",
       "      <td>NaN</td>\n",
       "      <td>NaN</td>\n",
       "      <td>NaN</td>\n",
       "      <td>NaN</td>\n",
       "      <td>NaN</td>\n",
       "      <td>NaN</td>\n",
       "      <td>NaN</td>\n",
       "      <td>NaN</td>\n",
       "      <td>NaN</td>\n",
       "    </tr>\n",
       "    <tr>\n",
       "      <th>3</th>\n",
       "      <td>NaN</td>\n",
       "      <td>NaN</td>\n",
       "      <td>NaN</td>\n",
       "      <td>27352.0</td>\n",
       "      <td>NaN</td>\n",
       "      <td>NaN</td>\n",
       "      <td>NaN</td>\n",
       "      <td>NaN</td>\n",
       "      <td>NaN</td>\n",
       "      <td>NaN</td>\n",
       "      <td>NaN</td>\n",
       "      <td>NaN</td>\n",
       "      <td>NaN</td>\n",
       "      <td>NaN</td>\n",
       "    </tr>\n",
       "    <tr>\n",
       "      <th>4</th>\n",
       "      <td>NaN</td>\n",
       "      <td>NaN</td>\n",
       "      <td>NaN</td>\n",
       "      <td>NaN</td>\n",
       "      <td>25770.0</td>\n",
       "      <td>NaN</td>\n",
       "      <td>NaN</td>\n",
       "      <td>NaN</td>\n",
       "      <td>NaN</td>\n",
       "      <td>NaN</td>\n",
       "      <td>NaN</td>\n",
       "      <td>NaN</td>\n",
       "      <td>NaN</td>\n",
       "      <td>NaN</td>\n",
       "    </tr>\n",
       "    <tr>\n",
       "      <th>5</th>\n",
       "      <td>NaN</td>\n",
       "      <td>NaN</td>\n",
       "      <td>NaN</td>\n",
       "      <td>NaN</td>\n",
       "      <td>NaN</td>\n",
       "      <td>25807.0</td>\n",
       "      <td>NaN</td>\n",
       "      <td>NaN</td>\n",
       "      <td>NaN</td>\n",
       "      <td>NaN</td>\n",
       "      <td>NaN</td>\n",
       "      <td>NaN</td>\n",
       "      <td>NaN</td>\n",
       "      <td>NaN</td>\n",
       "    </tr>\n",
       "    <tr>\n",
       "      <th>6</th>\n",
       "      <td>NaN</td>\n",
       "      <td>NaN</td>\n",
       "      <td>NaN</td>\n",
       "      <td>NaN</td>\n",
       "      <td>NaN</td>\n",
       "      <td>NaN</td>\n",
       "      <td>25585.0</td>\n",
       "      <td>NaN</td>\n",
       "      <td>NaN</td>\n",
       "      <td>NaN</td>\n",
       "      <td>NaN</td>\n",
       "      <td>NaN</td>\n",
       "      <td>NaN</td>\n",
       "      <td>NaN</td>\n",
       "    </tr>\n",
       "    <tr>\n",
       "      <th>7</th>\n",
       "      <td>NaN</td>\n",
       "      <td>NaN</td>\n",
       "      <td>NaN</td>\n",
       "      <td>NaN</td>\n",
       "      <td>NaN</td>\n",
       "      <td>NaN</td>\n",
       "      <td>NaN</td>\n",
       "      <td>24446.0</td>\n",
       "      <td>NaN</td>\n",
       "      <td>NaN</td>\n",
       "      <td>NaN</td>\n",
       "      <td>NaN</td>\n",
       "      <td>NaN</td>\n",
       "      <td>NaN</td>\n",
       "    </tr>\n",
       "    <tr>\n",
       "      <th>8</th>\n",
       "      <td>NaN</td>\n",
       "      <td>NaN</td>\n",
       "      <td>NaN</td>\n",
       "      <td>NaN</td>\n",
       "      <td>NaN</td>\n",
       "      <td>NaN</td>\n",
       "      <td>NaN</td>\n",
       "      <td>NaN</td>\n",
       "      <td>25905.0</td>\n",
       "      <td>NaN</td>\n",
       "      <td>NaN</td>\n",
       "      <td>NaN</td>\n",
       "      <td>NaN</td>\n",
       "      <td>NaN</td>\n",
       "    </tr>\n",
       "    <tr>\n",
       "      <th>9</th>\n",
       "      <td>NaN</td>\n",
       "      <td>NaN</td>\n",
       "      <td>NaN</td>\n",
       "      <td>NaN</td>\n",
       "      <td>NaN</td>\n",
       "      <td>NaN</td>\n",
       "      <td>NaN</td>\n",
       "      <td>NaN</td>\n",
       "      <td>NaN</td>\n",
       "      <td>30976.0</td>\n",
       "      <td>NaN</td>\n",
       "      <td>NaN</td>\n",
       "      <td>NaN</td>\n",
       "      <td>NaN</td>\n",
       "    </tr>\n",
       "    <tr>\n",
       "      <th>10</th>\n",
       "      <td>NaN</td>\n",
       "      <td>NaN</td>\n",
       "      <td>NaN</td>\n",
       "      <td>NaN</td>\n",
       "      <td>NaN</td>\n",
       "      <td>NaN</td>\n",
       "      <td>NaN</td>\n",
       "      <td>NaN</td>\n",
       "      <td>NaN</td>\n",
       "      <td>NaN</td>\n",
       "      <td>36412.0</td>\n",
       "      <td>NaN</td>\n",
       "      <td>NaN</td>\n",
       "      <td>NaN</td>\n",
       "    </tr>\n",
       "    <tr>\n",
       "      <th>11</th>\n",
       "      <td>NaN</td>\n",
       "      <td>NaN</td>\n",
       "      <td>NaN</td>\n",
       "      <td>NaN</td>\n",
       "      <td>NaN</td>\n",
       "      <td>NaN</td>\n",
       "      <td>NaN</td>\n",
       "      <td>NaN</td>\n",
       "      <td>NaN</td>\n",
       "      <td>NaN</td>\n",
       "      <td>NaN</td>\n",
       "      <td>38005.0</td>\n",
       "      <td>NaN</td>\n",
       "      <td>NaN</td>\n",
       "    </tr>\n",
       "    <tr>\n",
       "      <th>12</th>\n",
       "      <td>NaN</td>\n",
       "      <td>NaN</td>\n",
       "      <td>NaN</td>\n",
       "      <td>NaN</td>\n",
       "      <td>NaN</td>\n",
       "      <td>NaN</td>\n",
       "      <td>NaN</td>\n",
       "      <td>NaN</td>\n",
       "      <td>NaN</td>\n",
       "      <td>NaN</td>\n",
       "      <td>NaN</td>\n",
       "      <td>NaN</td>\n",
       "      <td>42012.0</td>\n",
       "      <td>NaN</td>\n",
       "    </tr>\n",
       "    <tr>\n",
       "      <th>13</th>\n",
       "      <td>NaN</td>\n",
       "      <td>NaN</td>\n",
       "      <td>NaN</td>\n",
       "      <td>NaN</td>\n",
       "      <td>NaN</td>\n",
       "      <td>NaN</td>\n",
       "      <td>NaN</td>\n",
       "      <td>NaN</td>\n",
       "      <td>NaN</td>\n",
       "      <td>NaN</td>\n",

       "      <td>NaN</td>\n",
       "      <td>NaN</td>\n",
       "      <td>15559.0</td>\n",
       "    </tr>\n",
       "  </tbody>\n",
       "</table>\n",
       "</div>"
      ],
      "text/plain": [
       "       2003     2004     2005     2006     2007     2008     2009     2010  \\\n",
       "0   26393.0      NaN      NaN      NaN      NaN      NaN      NaN      NaN   \n",
       "1       NaN  24505.0      NaN      NaN      NaN      NaN      NaN      NaN   \n",
       "2       NaN      NaN  25319.0      NaN      NaN      NaN      NaN      NaN   \n",

       "4       NaN      NaN      NaN      NaN  25770.0      NaN      NaN      NaN   \n",
       "5       NaN      NaN      NaN      NaN      NaN  25807.0      NaN      NaN   \n",
       "6       NaN      NaN      NaN      NaN      NaN      NaN  25585.0      NaN   \n",
       "7       NaN      NaN      NaN      NaN      NaN      NaN      NaN  24446.0   \n",
       "8       NaN      NaN      NaN      NaN      NaN      NaN      NaN      NaN   \n",
       "9       NaN      NaN      NaN      NaN      NaN      NaN      NaN      NaN   \n",
       "10      NaN      NaN      NaN      NaN      NaN      NaN      NaN      NaN   \n",
       "11      NaN      NaN      NaN      NaN      NaN      NaN      NaN      NaN   \n",
       "12      NaN      NaN      NaN      NaN      NaN      NaN      NaN      NaN   \n",
       "13      NaN      NaN      NaN      NaN      NaN      NaN      NaN      NaN   \n",
       "\n",
       "       2011     2012     2013     2014     2015     2016  \n",
       "0       NaN      NaN      NaN      NaN      NaN      NaN  \n",
       "1       NaN      NaN      NaN      NaN      NaN      NaN  \n",
       "2       NaN      NaN      NaN      NaN      NaN      NaN  \n",
       "3       NaN      NaN      NaN      NaN      NaN      NaN  \n",
       "4       NaN      NaN      NaN      NaN      NaN      NaN  \n",
       "5       NaN      NaN      NaN      NaN      NaN      NaN  \n",
       "6       NaN      NaN      NaN      NaN      NaN      NaN  \n",
       "7       NaN      NaN      NaN      NaN      NaN      NaN  \n",
       "8   25905.0      NaN      NaN      NaN      NaN      NaN  \n",
       "9       NaN  30976.0      NaN      NaN      NaN      NaN  \n",
       "10      NaN      NaN  36412.0      NaN      NaN      NaN  \n",
       "11      NaN      NaN      NaN  38005.0      NaN      NaN  \n",
       "12      NaN      NaN      NaN      NaN  42012.0      NaN  \n",
       "13      NaN      NaN      NaN      NaN      NaN  15559.0  "
      ]
     },
     "execution_count": 16,
     "metadata": {},
     "output_type": "execute_result"
    }
   ],
   "source": [
    "larceny_df = pd.DataFrame(larceny_list)\n",
    "larceny_df"
   ]
  },
  {
   "cell_type": "code",
   "execution_count": 17,
   "metadata": {
    "collapsed": false
   },
   "outputs": [
    {
     "name": "stdout",
     "output_type": "stream",
     "text": [
      "This is 2003 dictionary: {'Larceny_theft': 26393, 'Year': 2003}\n",
      "This is 2004 dictionary: {'Larceny_theft': 24505, 'Year': 2004}\n",
      "This is 2005 dictionary: {'Larceny_theft': 25319, 'Year': 2005}\n",
      "This is 2006 dictionary: {'Larceny_theft': 27352, 'Year': 2006}\n",
      "This is 2007 dictionary: {'Larceny_theft': 25770, 'Year': 2007}\n",
      "This is 2008 dictionary: {'Larceny_theft': 25807, 'Year': 2008}\n",
      "This is 2009 dictionary: {'Larceny_theft': 25585, 'Year': 2009}\n",
      "This is 2010 dictionary: {'Larceny_theft': 24446, 'Year': 2010}\n",
      "This is 2011 dictionary: {'Larceny_theft': 25905, 'Year': 2011}\n",
      "This is 2012 dictionary: {'Larceny_theft': 30976, 'Year': 2012}\n",
      "This is 2013 dictionary: {'Larceny_theft': 36412, 'Year': 2013}\n",
      "This is 2014 dictionary: {'Larceny_theft': 38005, 'Year': 2014}\n",
      "This is 2015 dictionary: {'Larceny_theft': 42012, 'Year': 2015}\n",
      "This is 2016 dictionary: {'Larceny_theft': 15559, 'Year': 2016}\n"
     ]
    },
    {
     "data": {
      "text/plain": [
       "[{'Larceny_theft': 26393, 'Year': 2003},\n",
       " {'Larceny_theft': 24505, 'Year': 2004},\n",
       " {'Larceny_theft': 25319, 'Year': 2005},\n",
       " {'Larceny_theft': 27352, 'Year': 2006},\n",
       " {'Larceny_theft': 25770, 'Year': 2007},\n",
       " {'Larceny_theft': 25807, 'Year': 2008},\n",
       " {'Larceny_theft': 25585, 'Year': 2009},\n",
       " {'Larceny_theft': 24446, 'Year': 2010},\n",
       " {'Larceny_theft': 25905, 'Year': 2011},\n",
       " {'Larceny_theft': 30976, 'Year': 2012},\n",
       " {'Larceny_theft': 36412, 'Year': 2013},\n",
       " {'Larceny_theft': 38005, 'Year': 2014},\n",
       " {'Larceny_theft': 42012, 'Year': 2015},\n",
       " {'Larceny_theft': 15559, 'Year': 2016}]"
      ]
     },
     "execution_count": 17,
     "metadata": {},
     "output_type": "execute_result"
    }
   ],
   "source": [
    "# Figured it out!\n",
    "# What I really want is Year: 2003 and Larceny_Theft: 26393\n",
    "larceny_dict = {}\n",
    "larceny_list = []\n",
    "years = list(range(2003, 2017))\n",
    "\n",
    "for year in years:\n",
    "    for item in df[(df['Year'] == str(year)) & (df['Category'] == 'LARCENY/THEFT')]['Category'].value_counts():\n",
    "        larceny_dict['Year'] = year\n",
    "        larceny_dict['Larceny_theft'] = item\n",
    "        print('This is', year, 'dictionary:', larceny_dict)\n",
    "        larceny_list.append(larceny_dict)\n",
    "        larceny_dict = {}\n",
    "\n",
    "larceny_list"
   ]
  },
  {
   "cell_type": "code",
   "execution_count": 18,
   "metadata": {
    "collapsed": false
   },
   "outputs": [
    {
     "data": {
      "text/html": [
       "<div>\n",
       "<table border=\"1\" class=\"dataframe\">\n",
       "  <thead>\n",
       "    <tr style=\"text-align: right;\">\n",
       "      <th></th>\n",
       "      <th>Larceny_theft</th>\n",
       "      <th>Year</th>\n",
       "    </tr>\n",
       "  </thead>\n",
       "  <tbody>\n",
       "    <tr>\n",
       "      <th>0</th>\n",
       "      <td>26393</td>\n",
       "      <td>2003</td>\n",
       "    </tr>\n",
       "    <tr>\n",
       "      <th>1</th>\n",
       "      <td>24505</td>\n",
       "      <td>2004</td>\n",
       "    </tr>\n",
       "    <tr>\n",
       "      <th>2</th>\n",
       "      <td>25319</td>\n",
       "      <td>2005</td>\n",
       "    </tr>\n",
       "    <tr>\n",
       "      <th>3</th>\n",
       "      <td>27352</td>\n",
       "      <td>2006</td>\n",
       "    </tr>\n",
       "    <tr>\n",
       "      <th>4</th>\n",
       "      <td>25770</td>\n",
       "      <td>2007</td>\n",
       "    </tr>\n",
       "    <tr>\n",
       "      <th>5</th>\n",
       "      <td>25807</td>\n",
       "      <td>2008</td>\n",
       "    </tr>\n",
       "    <tr>\n",
       "      <th>6</th>\n",
       "      <td>25585</td>\n",
       "      <td>2009</td>\n",
       "    </tr>\n",
       "    <tr>\n",
       "      <th>7</th>\n",
       "      <td>24446</td>\n",
       "      <td>2010</td>\n",
       "    </tr>\n",
       "    <tr>\n",
       "      <th>8</th>\n",
       "      <td>25905</td>\n",
       "      <td>2011</td>\n",
       "    </tr>\n",
       "    <tr>\n",
       "      <th>9</th>\n",
       "      <td>30976</td>\n",
       "      <td>2012</td>\n",
       "    </tr>\n",
       "    <tr>\n",
       "      <th>10</th>\n",
       "      <td>36412</td>\n",
       "      <td>2013</td>\n",
       "    </tr>\n",
       "    <tr>\n",
       "      <th>11</th>\n",
       "      <td>38005</td>\n",
       "      <td>2014</td>\n",
       "    </tr>\n",
       "    <tr>\n",
       "      <th>12</th>\n",
       "      <td>42012</td>\n",
       "      <td>2015</td>\n",
       "    </tr>\n",
       "    <tr>\n",
       "      <th>13</th>\n",
       "      <td>15559</td>\n",
       "      <td>2016</td>\n",
       "    </tr>\n",
       "  </tbody>\n",
       "</table>\n",
       "</div>"
      ],
      "text/plain": [
       "    Larceny_theft  Year\n",
       "0           26393  2003\n",
       "1           24505  2004\n",
       "2           25319  2005\n",
       "3           27352  2006\n",
       "4           25770  2007\n",
       "5           25807  2008\n",
       "6           25585  2009\n",
       "7           24446  2010\n",
       "8           25905  2011\n",
       "9           30976  2012\n",
       "10          36412  2013\n",
       "11          38005  2014\n",
       "12          42012  2015\n",
       "13          15559  2016"
      ]
     },
     "execution_count": 18,
     "metadata": {},
     "output_type": "execute_result"
    }
   ],
   "source": [
    "larceny_df = pd.DataFrame(larceny_list)\n",
    "larceny_df"
   ]
  },
  {
   "cell_type": "code",
   "execution_count": 19,
   "metadata": {
    "collapsed": false
   },
   "outputs": [
    {
     "data": {
      "text/plain": [
       "<matplotlib.axes._subplots.AxesSubplot at 0x11252e860>"
      ]
     },
     "execution_count": 19,
     "metadata": {},
     "output_type": "execute_result"
    },
    {
     "data": {

      "text/plain": [
       "<matplotlib.figure.Figure at 0x11345def0>"
      ]
     },
     "metadata": {},
     "output_type": "display_data"
    }
   ],
   "source": [
    "larceny_df.plot(kind = 'line', x = 'Year', y = 'Larceny_theft')"
   ]
  },
  {
   "cell_type": "markdown",
   "metadata": {},
   "source": [
    "## Other Offenses"
   ]
  },
  {
   "cell_type": "code",
   "execution_count": 20,
   "metadata": {
    "collapsed": false
   },
   "outputs": [
    {
     "data": {
      "text/plain": [
       "<matplotlib.axes._subplots.AxesSubplot at 0x113464eb8>"
      ]
     },
     "execution_count": 20,
     "metadata": {},
     "output_type": "execute_result"
    },
    {
     "data": {

      "text/plain": [
       "<matplotlib.figure.Figure at 0x1124ef438>"
      ]
     },
     "metadata": {},
     "output_type": "display_data"
    }
   ],
   "source": [
    "other_dict = {}\n",
    "other_list = []\n",
    "years = list(range(2003, 2017))\n",
    "\n",
    "for year in years:\n",

    "        other_dict['Year'] = year\n",
    "        other_dict['Other_offenses'] = item\n",
    "        other_list.append(other_dict)\n",
    "        other_dict = {}\n",
    "\n",
    "other_df = pd.DataFrame(other_list)\n",
    "other_df.plot(kind = 'line', x = 'Year', y = 'Other_offenses')"
   ]
  },
  {
   "cell_type": "markdown",
   "metadata": {},
   "source": [
    "### Trying It With Variables"
   ]
  },
  {
   "cell_type": "code",
   "execution_count": 21,
   "metadata": {
    "collapsed": false,
    "scrolled": false
   },
   "outputs": [
    {
     "data": {
      "text/plain": [
       "[{'ASSAULT': 13461,\n",
       "  'DRUG/NARCOTIC': 9917,\n",
       "  'NON-CRIMINAL': 13149,\n",
       "  'VANDALISM': 6448,\n",
       "  'VEHICLE THEFT': 15325,\n",
       "  'WARRANTS': 9079,\n",
       "  'Year': 2003},\n",
       " {'ASSAULT': 12899,\n",
       "  'DRUG/NARCOTIC': 9897,\n",
       "  'NON-CRIMINAL': 13778,\n",
       "  'VANDALISM': 6496,\n",
       "  'VEHICLE THEFT': 17884,\n",
       "  'WARRANTS': 8114,\n",
       "  'Year': 2004},\n",
       " {'ASSAULT': 11601,\n",
       "  'DRUG/NARCOTIC': 8533,\n",
       "  'NON-CRIMINAL': 14055,\n",
       "  'VANDALISM': 7013,\n",
       "  'VEHICLE THEFT': 18194,\n",
       "  'WARRANTS': 6708,\n",
       "  'Year': 2005},\n",
       " {'ASSAULT': 12449,\n",
       "  'DRUG/NARCOTIC': 9069,\n",
       "  'NON-CRIMINAL': 13368,\n",
       "  'VANDALISM': 7688,\n",
       "  'VEHICLE THEFT': 7291,\n",
       "  'WARRANTS': 6498,\n",
       "  'Year': 2006},\n",
       " {'ASSAULT': 12518,\n",
       "  'DRUG/NARCOTIC': 10560,\n",
       "  'NON-CRIMINAL': 12677,\n",
       "  'VANDALISM': 7566,\n",
       "  'VEHICLE THEFT': 6460,\n",
       "  'WARRANTS': 7105,\n",
       "  'Year': 2007},\n",
       " {'ASSAULT': 12681,\n",
       "  'DRUG/NARCOTIC': 11648,\n",
       "  'NON-CRIMINAL': 12303,\n",
       "  'VANDALISM': 7342,\n",
       "  'VEHICLE THEFT': 6053,\n",
       "  'WARRANTS': 5798,\n",
       "  'Year': 2008},\n",
       " {'ASSAULT': 12284,\n",
       "  'DRUG/NARCOTIC': 11950,\n",
       "  'NON-CRIMINAL': 12395,\n",
       "  'VANDALISM': 7604,\n",
       "  'VEHICLE THEFT': 5183,\n",
       "  'WARRANTS': 5764,\n",
       "  'Year': 2009},\n",
       " {'ASSAULT': 12388,\n",
       "  'DRUG/NARCOTIC': 9205,\n",
       "  'NON-CRIMINAL': 13878,\n",
       "  'VANDALISM': 7934,\n",
       "  'VEHICLE THEFT': 4346,\n",
       "  'WARRANTS': 6187,\n",
       "  'Year': 2010},\n",
       " {'ASSAULT': 12281,\n",
       "  'DRUG/NARCOTIC': 6935,\n",
       "  'NON-CRIMINAL': 15586,\n",
       "  'VANDALISM': 7243,\n",
       "  'VEHICLE THEFT': 4762,\n",
       "  'WARRANTS': 6311,\n",
       "  'Year': 2011},\n",
       " {'ASSAULT': 12181,\n",
       "  'DRUG/NARCOTIC': 6445,\n",
       "  'NON-CRIMINAL': 16936,\n",
       "  'VANDALISM': 7808,\n",
       "  'VEHICLE THEFT': 6183,\n",
       "  'WARRANTS': 6300,\n",
       "  'Year': 2012},\n",
       " {'ASSAULT': 12583,\n",
       "  'DRUG/NARCOTIC': 6775,\n",
       "  'NON-CRIMINAL': 21084,\n",
       "  'VANDALISM': 6921,\n",
       "  'VEHICLE THEFT': 6241,\n",
       "  'WARRANTS': 7362,\n",
       "  'Year': 2013},\n",
       " {'ASSAULT': 12404,\n",

       "  'NON-CRIMINAL': 19404,\n",
       "  'VANDALISM': 7167,\n",
       "  'VEHICLE THEFT': 7111,\n",
       "  'WARRANTS': 6727,\n",
       "  'Year': 2014},\n",
       " {'ASSAULT': 13082,\n",
       "  'DRUG/NARCOTIC': 4250,\n",
       "  'NON-CRIMINAL': 19092,\n",
       "  'VANDALISM': 7671,\n",
       "  'VEHICLE THEFT': 7942,\n",
       "  'WARRANTS': 6748,\n",
       "  'Year': 2015},\n",
       " {'ASSAULT': 5532,\n",
       "  'DRUG/NARCOTIC': 1947,\n",
       "  'NON-CRIMINAL': 7512,\n",
       "  'VANDALISM': 3163,\n",
       "  'VEHICLE THEFT': 2606,\n",
       "  'WARRANTS': 2633,\n",
       "  'Year': 2016}]"
      ]
     },
     "execution_count": 21,
     "metadata": {},
     "output_type": "execute_result"
    }
   ],
   "source": [
    "## I need:\n",
    "## {'Year}: 2006, 'VEHICLE THEFT': 7291, 'ASSAULT': 12449...\n",
    "top_categories = ['VEHICLE THEFT', 'ASSAULT', 'NON-CRIMINAL', 'DRUG/NARCOTIC', 'WARRANTS', 'VANDALISM']\n",
    "\n",
    "var_dict = {}\n",
    "var_list = []\n",
    "years = list(range(2003, 2017))\n",
    "\n",
    "for year in years:\n",
    "    var_dict['Year'] = year\n",
    "    for category in top_categories:\n",
    "        for item in df[(df['Year'] == str(year)) & (df['Category'] == category)]['Category'].value_counts():\n",
    "            var_dict[category] = item\n",
    "    var_list.append(var_dict)\n",
    "    var_dict = {}\n",
    "var_list"
   ]
  },
  {
   "cell_type": "code",
   "execution_count": 22,
   "metadata": {
    "collapsed": false
   },
   "outputs": [
    {
     "data": {
      "text/html": [
       "<div>\n",
       "<table border=\"1\" class=\"dataframe\">\n",
       "  <thead>\n",
       "    <tr style=\"text-align: right;\">\n",
       "      <th></th>\n",
       "      <th>ASSAULT</th>\n",
       "      <th>DRUG/NARCOTIC</th>\n",
       "      <th>NON-CRIMINAL</th>\n",
       "      <th>VANDALISM</th>\n",
       "      <th>VEHICLE THEFT</th>\n",
       "      <th>WARRANTS</th>\n",
       "      <th>Year</th>\n",
       "    </tr>\n",
       "  </thead>\n",
       "  <tbody>\n",
       "    <tr>\n",
       "      <th>0</th>\n",
       "      <td>13461</td>\n",
       "      <td>9917</td>\n",
       "      <td>13149</td>\n",
       "      <td>6448</td>\n",
       "      <td>15325</td>\n",
       "      <td>9079</td>\n",
       "      <td>2003</td>\n",
       "    </tr>\n",
       "    <tr>\n",
       "      <th>1</th>\n",
       "      <td>12899</td>\n",
       "      <td>9897</td>\n",
       "      <td>13778</td>\n",
       "      <td>6496</td>\n",
       "      <td>17884</td>\n",
       "      <td>8114</td>\n",
       "      <td>2004</td>\n",
       "    </tr>\n",
       "    <tr>\n",
       "      <th>2</th>\n",
       "      <td>11601</td>\n",
       "      <td>8533</td>\n",
       "      <td>14055</td>\n",
       "      <td>7013</td>\n",
       "      <td>18194</td>\n",
       "      <td>6708</td>\n",
       "      <td>2005</td>\n",
       "    </tr>\n",
       "    <tr>\n",
       "      <th>3</th>\n",
       "      <td>12449</td>\n",
       "      <td>9069</td>\n",
       "      <td>13368</td>\n",
       "      <td>7688</td>\n",
       "      <td>7291</td>\n",
       "      <td>6498</td>\n",
       "      <td>2006</td>\n",
       "    </tr>\n",
       "    <tr>\n",
       "      <th>4</th>\n",
       "      <td>12518</td>\n",
       "      <td>10560</td>\n",
       "      <td>12677</td>\n",
       "      <td>7566</td>\n",
       "      <td>6460</td>\n",
       "      <td>7105</td>\n",
       "      <td>2007</td>\n",
       "    </tr>\n",
       "    <tr>\n",
       "      <th>5</th>\n",
       "      <td>12681</td>\n",
       "      <td>11648</td>\n",
       "      <td>12303</td>\n",
       "      <td>7342</td>\n",
       "      <td>6053</td>\n",
       "      <td>5798</td>\n",
       "      <td>2008</td>\n",
       "    </tr>\n",
       "    <tr>\n",
       "      <th>6</th>\n",
       "      <td>12284</td>\n",
       "      <td>11950</td>\n",
       "      <td>12395</td>\n",
       "      <td>7604</td>\n",
       "      <td>5183</td>\n",
       "      <td>5764</td>\n",
       "      <td>2009</td>\n",
       "    </tr>\n",
       "    <tr>\n",
       "      <th>7</th>\n",
       "      <td>12388</td>\n",
       "      <td>9205</td>\n",
       "      <td>13878</td>\n",
       "      <td>7934</td>\n",
       "      <td>4346</td>\n",
       "      <td>6187</td>\n",
       "      <td>2010</td>\n",
       "    </tr>\n",
       "    <tr>\n",
       "      <th>8</th>\n",
       "      <td>12281</td>\n",
       "      <td>6935</td>\n",
       "      <td>15586</td>\n",
       "      <td>7243</td>\n",
       "      <td>4762</td>\n",
       "      <td>6311</td>\n",
       "      <td>2011</td>\n",
       "    </tr>\n",
       "    <tr>\n",
       "      <th>9</th>\n",
       "      <td>12181</td>\n",
       "      <td>6445</td>\n",
       "      <td>16936</td>\n",
       "      <td>7808</td>\n",
       "      <td>6183</td>\n",
       "      <td>6300</td>\n",
       "      <td>2012</td>\n",
       "    </tr>\n",
       "    <tr>\n",
       "      <th>10</th>\n",
       "      <td>12583</td>\n",
       "      <td>6775</td>\n",
       "      <td>21084</td>\n",
       "      <td>6921</td>\n",
       "      <td>6241</td>\n",
       "      <td>7362</td>\n",
       "      <td>2013</td>\n",
       "    </tr>\n",
       "    <tr>\n",
       "      <th>11</th>\n",
       "      <td>12404</td>\n",
       "      <td>5409</td>\n",
       "      <td>19404</td>\n",
       "      <td>7167</td>\n",
       "      <td>7111</td>\n",
       "      <td>6727</td>\n",
       "      <td>2014</td>\n",
       "    </tr>\n",
       "    <tr>\n",
       "      <th>12</th>\n",
       "      <td>13082</td>\n",
       "      <td>4250</td>\n",
       "      <td>19092</td>\n",
       "      <td>7671</td>\n",
       "      <td>7942</td>\n",
       "      <td>6748</td>\n",
       "      <td>2015</td>\n",
       "    </tr>\n",
       "    <tr>\n",
       "      <th>13</th>\n",
       "      <td>5532</td>\n",
       "      <td>1947</td>\n",
       "      <td>7512</td>\n",
       "      <td>3163</td>\n",
       "      <td>2606</td>\n",
       "      <td>2633</td>\n",
       "      <td>2016</td>\n",
       "    </tr>\n",
       "  </tbody>\n",
       "</table>\n",
       "</div>"
      ],
      "text/plain": [
       "    ASSAULT  DRUG/NARCOTIC  NON-CRIMINAL  VANDALISM  VEHICLE THEFT  WARRANTS  \\\n",
       "0     13461           9917         13149       6448          15325      9079   \n",
       "1     12899           9897         13778       6496          17884      8114   \n",
       "2     11601           8533         14055       7013          18194      6708   \n",
       "3     12449           9069         13368       7688           7291      6498   \n",
       "4     12518          10560         12677       7566           6460      7105   \n",

       "6     12284          11950         12395       7604           5183      5764   \n",
       "7     12388           9205         13878       7934           4346      6187   \n",
       "8     12281           6935         15586       7243           4762      6311   \n",
       "9     12181           6445         16936       7808           6183      6300   \n",
       "10    12583           6775         21084       6921           6241      7362   \n",
       "11    12404           5409         19404       7167           7111      6727   \n",
       "12    13082           4250         19092       7671           7942      6748   \n",
       "13     5532           1947          7512       3163           2606      2633   \n",
       "\n",
       "    Year  \n",
       "0   2003  \n",
       "1   2004  \n",
       "2   2005  \n",
       "3   2006  \n",
       "4   2007  \n",
       "5   2008  \n",
       "6   2009  \n",
       "7   2010  \n",
       "8   2011  \n",
       "9   2012  \n",
       "10  2013  \n",
       "11  2014  \n",
       "12  2015  \n",
       "13  2016  "
      ]
     },
     "execution_count": 22,
     "metadata": {},
     "output_type": "execute_result"
    }
   ],
   "source": [
    "var_df = pd.DataFrame(var_list)\n",
    "var_df"
   ]
  },
  {
   "cell_type": "code",
   "execution_count": 23,
   "metadata": {
    "collapsed": false
   },
   "outputs": [
    {
     "data": {

      "text/plain": [
       "<matplotlib.figure.Figure at 0x1133b9908>"
      ]
     },
     "metadata": {},
     "output_type": "display_data"
    },
    {
     "data": {

      "text/plain": [
       "<matplotlib.figure.Figure at 0x113074278>"
      ]
     },
     "metadata": {},
     "output_type": "display_data"
    },
    {
     "data": {

      "text/plain": [
       "<matplotlib.figure.Figure at 0x113572e10>"
      ]
     },
     "metadata": {},
     "output_type": "display_data"
    },
    {
     "data": {

      "text/plain": [
       "<matplotlib.figure.Figure at 0x1135efe10>"
      ]
     },
     "metadata": {},
     "output_type": "display_data"
    },
    {
     "data": {

      "text/plain": [
       "<matplotlib.figure.Figure at 0x113643e48>"
      ]
     },
     "metadata": {},
     "output_type": "display_data"
    },
    {
     "data": {

      "text/plain": [
       "<matplotlib.figure.Figure at 0x11369ada0>"
      ]
     },
     "metadata": {},
     "output_type": "display_data"
    }
   ],
   "source": [
    "for category in top_categories:\n",
    "    var_df.plot(kind = 'line', x = 'Year', y = category)"
   ]
  },
  {
   "cell_type": "markdown",
   "metadata": {},
   "source": [
    "### Things That Have Changed Over The Years:\n",
    "* Vehicle Theft\n",
    "* Drug/Narcotics\n",
    "* Vandalism\n",
    "* Warrants (made a brief appearance)"
   ]
  },
  {
   "cell_type": "markdown",
   "metadata": {},
   "source": [
    "## 4) Why the increase in non-criminal incidents?"
   ]
  },
  {
   "cell_type": "code",
   "execution_count": 24,
   "metadata": {
    "collapsed": false
   },
   "outputs": [
    {
     "data": {
      "text/html": [
       "<div>\n",
       "<table border=\"1\" class=\"dataframe\">\n",
       "  <thead>\n",
       "    <tr style=\"text-align: right;\">\n",
       "      <th></th>\n",
       "      <th>IncidntNum</th>\n",
       "      <th>Category</th>\n",
       "      <th>Descript</th>\n",
       "      <th>DayOfWeek</th>\n",
       "      <th>Date</th>\n",
       "      <th>Time</th>\n",
       "      <th>PdDistrict</th>\n",
       "      <th>Resolution</th>\n",
       "      <th>Address</th>\n",
       "      <th>X</th>\n",
       "      <th>Y</th>\n",
       "      <th>Location</th>\n",
       "      <th>Year</th>\n",
       "    </tr>\n",
       "  </thead>\n",
       "  <tbody>\n",
       "    <tr>\n",
       "      <th>0</th>\n",
       "      <td>110914565</td>\n",
       "      <td>WARRANTS</td>\n",
       "      <td>WARRANT ARREST</td>\n",
       "      <td>Friday</td>\n",
       "      <td>05/29/2015 12:00:00 AM</td>\n",
       "      <td>16:42</td>\n",
       "      <td>SOUTHERN</td>\n",
       "      <td>ARREST, BOOKED</td>\n",
       "      <td>BRYANT ST / 8TH ST</td>\n",
       "      <td>-122.406971</td>\n",
       "      <td>37.772527</td>\n",
       "      <td>(37.7725273607571, -122.406970988225)</td>\n",
       "      <td>2015</td>\n",
       "    </tr>\n",
       "    <tr>\n",
       "      <th>1</th>\n",
       "      <td>120789988</td>\n",
       "      <td>MISSING PERSON</td>\n",
       "      <td>FOUND PERSON</td>\n",
       "      <td>Monday</td>\n",
       "      <td>05/16/2016 12:00:00 AM</td>\n",
       "      <td>00:41</td>\n",
       "      <td>INGLESIDE</td>\n",
       "      <td>NONE</td>\n",
       "      <td>WOOLSEY ST / UNIVERSITY ST</td>\n",
       "      <td>-122.412470</td>\n",
       "      <td>37.722659</td>\n",
       "      <td>(37.7226585129212, -122.412469643631)</td>\n",
       "      <td>2016</td>\n",
       "    </tr>\n",
       "    <tr>\n",
       "      <th>2</th>\n",
       "      <td>150020821</td>\n",
       "      <td>ASSAULT</td>\n",
       "      <td>ELDER ADULT OR DEPENDENT ABUSE (NOT EMBEZZLEME...</td>\n",
       "      <td>Friday</td>\n",
       "      <td>01/02/2015 12:00:00 AM</td>\n",
       "      <td>12:00</td>\n",
       "      <td>NORTHERN</td>\n",
       "      <td>NONE</td>\n",
       "      <td>300 Block of FULTON ST</td>\n",
       "      <td>-122.422536</td>\n",
       "      <td>37.778796</td>\n",
       "      <td>(37.7787958771466, -122.422536478306)</td>\n",
       "      <td>2015</td>\n",
       "    </tr>\n",
       "    <tr>\n",
       "      <th>3</th>\n",
       "      <td>150020978</td>\n",
       "      <td>OTHER OFFENSES</td>\n",
       "      <td>DRIVERS LICENSE, SUSPENDED OR REVOKED</td>\n",
       "      <td>Wednesday</td>\n",
       "      <td>01/07/2015 12:00:00 AM</td>\n",
       "      <td>19:21</td>\n",
       "      <td>CENTRAL</td>\n",
       "      <td>ARREST, BOOKED</td>\n",
       "      <td>MONTGOMERY ST / CHESTNUT ST</td>\n",
       "      <td>-122.405178</td>\n",
       "      <td>37.804764</td>\n",
       "      <td>(37.80476375718, -122.405178220847)</td>\n",
       "      <td>2015</td>\n",
       "    </tr>\n",
       "    <tr>\n",
       "      <th>4</th>\n",
       "      <td>150020984</td>\n",
       "      <td>ROBBERY</td>\n",
       "      <td>ROBBERY OF A CHAIN STORE WITH A DANGEROUS WEAPON</td>\n",
       "      <td>Wednesday</td>\n",
       "      <td>01/07/2015 12:00:00 AM</td>\n",
       "      <td>19:27</td>\n",
       "      <td>SOUTHERN</td>\n",
       "      <td>NONE</td>\n",
       "      <td>1100 Block of MARKET ST</td>\n",
       "      <td>-122.413564</td>\n",
       "      <td>37.779514</td>\n",
       "      <td>(37.779514030063, -122.413564091744)</td>\n",
       "      <td>2015</td>\n",
       "    </tr>\n",
       "  </tbody>\n",
       "</table>\n",
       "</div>"
      ],
      "text/plain": [
       "   IncidntNum        Category  \\\n",
       "0   110914565        WARRANTS   \n",
       "1   120789988  MISSING PERSON   \n",
       "2   150020821         ASSAULT   \n",
       "3   150020978  OTHER OFFENSES   \n",
       "4   150020984         ROBBERY   \n",
       "\n",
       "                                            Descript  DayOfWeek  \\\n",
       "0                                     WARRANT ARREST     Friday   \n",
       "1                                       FOUND PERSON     Monday   \n",
       "2  ELDER ADULT OR DEPENDENT ABUSE (NOT EMBEZZLEME...     Friday   \n",
       "3              DRIVERS LICENSE, SUSPENDED OR REVOKED  Wednesday   \n",
       "4   ROBBERY OF A CHAIN STORE WITH A DANGEROUS WEAPON  Wednesday   \n",
       "\n",
       "                     Date   Time PdDistrict      Resolution  \\\n",
       "0  05/29/2015 12:00:00 AM  16:42   SOUTHERN  ARREST, BOOKED   \n",
       "1  05/16/2016 12:00:00 AM  00:41  INGLESIDE            NONE   \n",
       "2  01/02/2015 12:00:00 AM  12:00   NORTHERN            NONE   \n",
       "3  01/07/2015 12:00:00 AM  19:21    CENTRAL  ARREST, BOOKED   \n",
       "4  01/07/2015 12:00:00 AM  19:27   SOUTHERN            NONE   \n",
       "\n",
       "                       Address           X          Y  \\\n",
       "0           BRYANT ST / 8TH ST -122.406971  37.772527   \n",
       "1   WOOLSEY ST / UNIVERSITY ST -122.412470  37.722659   \n",
       "2       300 Block of FULTON ST -122.422536  37.778796   \n",
       "3  MONTGOMERY ST / CHESTNUT ST -122.405178  37.804764   \n",
       "4      1100 Block of MARKET ST -122.413564  37.779514   \n",
       "\n",
       "                                Location  Year  \n",
       "0  (37.7725273607571, -122.406970988225)  2015  \n",
       "1  (37.7226585129212, -122.412469643631)  2016  \n",
       "2  (37.7787958771466, -122.422536478306)  2015  \n",
       "3    (37.80476375718, -122.405178220847)  2015  \n",
       "4   (37.779514030063, -122.413564091744)  2015  "
      ]
     },
     "execution_count": 24,
     "metadata": {},
     "output_type": "execute_result"
    }
   ],
   "source": [
    "df.head()"
   ]
  },
  {
   "cell_type": "code",
   "execution_count": 25,
   "metadata": {
    "collapsed": false
   },
   "outputs": [
    {
     "data": {
      "text/plain": [

      ]
     },
     "execution_count": 25,
     "metadata": {},
     "output_type": "execute_result"
    }
   ],
   "source": [
    "non_criminal_categories = df[df['Category'] == 'NON-CRIMINAL']['Descript'].value_counts().to_dict()\n",
    "non_criminal_categories.keys()"
   ]
  },
  {
   "cell_type": "code",
   "execution_count": 26,
   "metadata": {
    "collapsed": false
   },
   "outputs": [
    {
     "data": {
      "text/plain": [
       "[{'ACCIDENTAL BURNS': 1,\n",
       "  'ACCIDENTAL SHOOTING': 1,\n",
       "  'AIDED CASE': 655,\n",
       "  'AIDED CASE, DOG BITE': 200,\n",
       "  'AIDED CASE, INJURED PERSON': 199,\n",
       "  'AIDED CASE, MENTAL DISTURBED': 2407,\n",
       "  'AIDED CASE, SICK PERSON': 22,\n",
       "  'COURTESY REPORT': 115,\n",

       "  'DEATH REPORT, NATURAL CAUSES': 242,\n",
       "  'DEATH, ACCIDENTAL': 2,\n",
       "  'DEATH, NON-MANSLAUGHTER AUTO ACCIDENT': 2,\n",
       "  'FIRE REPORT': 114,\n",
       "  'FOUND PROPERTY': 1255,\n",
       "  'IMPOUNDED VEHICLE': 86,\n",
       "  'LOCATED PROPERTY': 207,\n",
       "  'LOST PROPERTY': 6239,\n",
       "  'MISPLACED VEHICLE': 31,\n",
       "  'PROPERTY FOR IDENTIFICATION': 230,\n",
       "  'SHELTER': 147,\n",
       "  'TARASOFF REPORT': 114,\n",
       "  'TRAFFIC ACCIDENT': 67,\n",
       "  'TURNED IN GUN': 67,\n",
       "  'YOUTH COURT': 5,\n",
       "  'Year': 2003},\n",
       " {'ACCIDENTAL SHOOTING': 5,\n",
       "  'AIDED CASE': 629,\n",
       "  'AIDED CASE, DOG BITE': 184,\n",
       "  'AIDED CASE, INJURED PERSON': 178,\n",
       "  'AIDED CASE, MENTAL DISTURBED': 2592,\n",
       "  'AIDED CASE, SICK PERSON': 15,\n",
       "  'COURTESY REPORT': 160,\n",
       "  'DEATH REPORT, CAUSE UNKNOWN': 735,\n",
       "  'DEATH REPORT, NATURAL CAUSES': 207,\n",
       "  'DEATH, ACCIDENTAL': 3,\n",
       "  'DEATH, NON-MANSLAUGHTER AUTO ACCIDENT': 2,\n",
       "  'FIRE REPORT': 135,\n",
       "  'FOUND PROPERTY': 1547,\n",
       "  'IMPOUNDED VEHICLE': 70,\n",
       "  'LOCATED PROPERTY': 308,\n",
       "  'LOST PROPERTY': 6382,\n",
       "  'MISPLACED VEHICLE': 26,\n",
       "  'PROPERTY FOR IDENTIFICATION': 236,\n",
       "  'SHELTER': 109,\n",
       "  'TARASOFF REPORT': 122,\n",
       "  'TRAFFIC ACCIDENT': 52,\n",
       "  'TURNED IN GUN': 80,\n",
       "  'YOUTH COURT': 1,\n",
       "  'Year': 2004},\n",
       " {'ACCIDENTAL SHOOTING': 2,\n",
       "  'AIDED CASE': 681,\n",
       "  'AIDED CASE, DOG BITE': 202,\n",
       "  'AIDED CASE, INJURED PERSON': 178,\n",
       "  'AIDED CASE, MENTAL DISTURBED': 2924,\n",
       "  'AIDED CASE, SICK PERSON': 26,\n",
       "  'COURTESY REPORT': 132,\n",
       "  'DEATH REPORT, CAUSE UNKNOWN': 638,\n",
       "  'DEATH REPORT, NATURAL CAUSES': 209,\n",
       "  'DEATH, ACCIDENTAL': 3,\n",
       "  'DEATH, NON-MANSLAUGHTER AUTO ACCIDENT': 1,\n",
       "  'FIRE REPORT': 132,\n",
       "  'FOUND PROPERTY': 1479,\n",
       "  'IMPOUNDED VEHICLE': 86,\n",
       "  'LOCATED PROPERTY': 269,\n",
       "  'LOST PROPERTY': 6544,\n",
       "  'MISPLACED VEHICLE': 17,\n",
       "  'PROPERTY FOR IDENTIFICATION': 203,\n",
       "  'SHELTER': 74,\n",
       "  'TARASOFF REPORT': 114,\n",
       "  'TRAFFIC ACCIDENT': 57,\n",
       "  'TURNED IN GUN': 84,\n",
       "  'Year': 2005},\n",
       " {'ACCIDENTAL BURNS': 2,\n",
       "  'ACCIDENTAL SHOOTING': 3,\n",
       "  'AIDED CASE': 658,\n",
       "  'AIDED CASE, DOG BITE': 155,\n",
       "  'AIDED CASE, INJURED PERSON': 152,\n",
       "  'AIDED CASE, MENTAL DISTURBED': 3134,\n",
       "  'AIDED CASE, SICK PERSON': 26,\n",
       "  'CASE CLOSURE': 4,\n",
       "  'CIVIL SIDEWALKS, WARNING': 1,\n",
       "  'COURTESY REPORT': 95,\n",
       "  'DEATH REPORT, CAUSE UNKNOWN': 672,\n",
       "  'DEATH REPORT, NATURAL CAUSES': 193,\n",
       "  'DEATH, ACCIDENTAL': 3,\n",
       "  'DEATH, NON-MANSLAUGHTER AUTO ACCIDENT': 1,\n",
       "  'FIRE REPORT': 105,\n",
       "  'FOUND PROPERTY': 1497,\n",
       "  'IMPOUNDED VEHICLE': 88,\n",
       "  'LOCATED PROPERTY': 232,\n",
       "  'LOST PROPERTY': 5802,\n",
       "  'MISPLACED VEHICLE': 8,\n",
       "  'PROPERTY FOR IDENTIFICATION': 179,\n",
       "  'SHELTER': 76,\n",
       "  'STAY AWAY OR COURT ORDER, NON-DV RELATED': 1,\n",
       "  'TARASOFF REPORT': 139,\n",
       "  'TRAFFIC ACCIDENT': 81,\n",
       "  'TURNED IN GUN': 60,\n",
       "  'YOUTH COURT': 1,\n",
       "  'Year': 2006},\n",
       " {'ACCIDENTAL BURNS': 1,\n",
       "  'ACCIDENTAL SHOOTING': 1,\n",
       "  'AIDED CASE': 709,\n",
       "  'AIDED CASE, DOG BITE': 205,\n",
       "  'AIDED CASE, INJURED PERSON': 166,\n",
       "  'AIDED CASE, MENTAL DISTURBED': 2970,\n",
       "  'AIDED CASE, SICK PERSON': 24,\n",
       "  'CASE CLOSURE': 7,\n",
       "  'COURTESY REPORT': 86,\n",
       "  'DEATH REPORT, CAUSE UNKNOWN': 647,\n",
       "  'DEATH REPORT, NATURAL CAUSES': 170,\n",
       "  'DEATH, ACCIDENTAL': 5,\n",
       "  'DEATH, NON-MANSLAUGHTER AUTO ACCIDENT': 7,\n",
       "  'FIRE REPORT': 135,\n",
       "  'FOUND PROPERTY': 1583,\n",
       "  'IMPOUNDED VEHICLE': 63,\n",
       "  'LOCATED PROPERTY': 93,\n",
       "  'LOST PROPERTY': 5204,\n",
       "  'MISPLACED VEHICLE': 7,\n",
       "  'PROPERTY FOR IDENTIFICATION': 241,\n",
       "  'SHELTER': 67,\n",
       "  'TARASOFF REPORT': 117,\n",
       "  'TRAFFIC ACCIDENT': 95,\n",
       "  'TURNED IN GUN': 74,\n",
       "  'Year': 2007},\n",
       " {'ACCIDENTAL SHOOTING': 1,\n",
       "  'AIDED CASE': 864,\n",
       "  'AIDED CASE, DOG BITE': 192,\n",
       "  'AIDED CASE, INJURED PERSON': 215,\n",
       "  'AIDED CASE, MENTAL DISTURBED': 3317,\n",
       "  'AIDED CASE, SICK PERSON': 31,\n",
       "  'CASE CLOSURE': 9,\n",
       "  'COURTESY REPORT': 85,\n",
       "  'DEATH REPORT, CAUSE UNKNOWN': 675,\n",
       "  'DEATH REPORT, NATURAL CAUSES': 144,\n",
       "  'DEATH, ACCIDENTAL': 2,\n",
       "  'DEATH, NON-MANSLAUGHTER AUTO ACCIDENT': 2,\n",
       "  'FIRE REPORT': 123,\n",
       "  'FOUND PROPERTY': 1637,\n",
       "  'IMPOUNDED VEHICLE': 50,\n",
       "  'LOCATED PROPERTY': 60,\n",
       "  'LOST PROPERTY': 4386,\n",
       "  'MISPLACED VEHICLE': 8,\n",
       "  'PROPERTY FOR IDENTIFICATION': 171,\n",
       "  'SEARCH WARRANT SERVICE': 1,\n",
       "  'SHELTER': 59,\n",
       "  'TARASOFF REPORT': 99,\n",
       "  'TRAFFIC ACCIDENT': 99,\n",
       "  'TURNED IN GUN': 70,\n",
       "  'YOUTH COURT': 3,\n",
       "  'Year': 2008},\n",
       " {'ACCIDENTAL BURNS': 1,\n",
       "  'AIDED CASE': 913,\n",
       "  'AIDED CASE, DOG BITE': 210,\n",
       "  'AIDED CASE, INJURED PERSON': 182,\n",
       "  'AIDED CASE, MENTAL DISTURBED': 3418,\n",
       "  'AIDED CASE, SICK PERSON': 22,\n",
       "  'CASE CLOSURE': 18,\n",
       "  'COURTESY REPORT': 95,\n",
       "  'DEATH REPORT, CAUSE UNKNOWN': 678,\n",
       "  'DEATH REPORT, IN CUSTODY': 1,\n",
       "  'DEATH REPORT, NATURAL CAUSES': 195,\n",
       "  'DEATH, ACCIDENTAL': 3,\n",
       "  'DEATH, NON-MANSLAUGHTER AUTO ACCIDENT': 1,\n",
       "  'FIRE REPORT': 121,\n",
       "  'FOUND PROPERTY': 1567,\n",
       "  'IMPOUNDED VEHICLE': 60,\n",
       "  'LICENSE PLATE, RECOVERED': 1,\n",
       "  'LOCATED PROPERTY': 48,\n",
       "  'LOST PROPERTY': 4417,\n",
       "  'MISPLACED VEHICLE': 5,\n",
       "  'PROPERTY FOR IDENTIFICATION': 131,\n",
       "  'SHELTER': 45,\n",
       "  'STAY AWAY OR COURT ORDER, NON-DV RELATED': 5,\n",
       "  'TARASOFF REPORT': 76,\n",
       "  'TRAFFIC ACCIDENT': 110,\n",
       "  'TURNED IN GUN': 68,\n",
       "  'YOUTH COURT': 4,\n",
       "  'Year': 2009},\n",
       " {'ACCIDENTAL SHOOTING': 4,\n",
       "  'AIDED CASE': 963,\n",
       "  'AIDED CASE, DOG BITE': 222,\n",
       "  'AIDED CASE, INJURED PERSON': 133,\n",
       "  'AIDED CASE, MENTAL DISTURBED': 3845,\n",
       "  'AIDED CASE, SICK PERSON': 23,\n",
       "  'AUTO IMPOUNDED': 2,\n",
       "  'CASE CLOSURE': 52,\n",
       "  'COURTESY REPORT': 88,\n",
       "  'DEATH REPORT, CAUSE UNKNOWN': 652,\n",
       "  'DEATH REPORT, IN CUSTODY': 1,\n",
       "  'DEATH REPORT, NATURAL CAUSES': 150,\n",
       "  'DEATH, ACCIDENTAL': 3,\n",
       "  'DEATH, NON-MANSLAUGHTER AUTO ACCIDENT': 3,\n",
       "  'DEMONSTRATION, VIDEO EVIDENCE, MISC. INVESTIGATION': 3,\n",
       "  'FIRE REPORT': 115,\n",
       "  'FOUND PROPERTY': 1888,\n",
       "  'IMPOUNDED VEHICLE': 29,\n",
       "  'LICENSE PLATE, FOUND': 11,\n",
       "  'LICENSE PLATE, RECOVERED': 6,\n",
       "  'LOCATED PROPERTY': 47,\n",
       "  'LOST PROPERTY': 4488,\n",
       "  \"MEGAN'S LAW NOTIFICATION\": 2,\n",
       "  'MISPLACED VEHICLE': 3,\n",
       "  'PROPERTY FOR IDENTIFICATION': 186,\n",
       "  'SEARCH WARRANT SERVICE': 1,\n",
       "  'SHELTER': 22,\n",
       "  'STAY AWAY OR COURT ORDER, NON-DV RELATED': 665,\n",
       "  'TARASOFF REPORT': 101,\n",
       "  'TRAFFIC ACCIDENT': 55,\n",
       "  'TRUANT, HABITUAL': 9,\n",
       "  'TURNED IN GUN': 101,\n",
       "  'YOUTH COURT': 5,\n",
       "  'Year': 2010},\n",
       " {'ACCIDENTAL SHOOTING': 1,\n",
       "  'AIDED CASE': 917,\n",
       "  'AIDED CASE, DOG BITE': 271,\n",
       "  'AIDED CASE, INJURED PERSON': 116,\n",

       "  'AIDED CASE, SICK PERSON': 24,\n",
       "  'AUTO IMPOUNDED': 2,\n",
       "  'CASE CLOSURE': 130,\n",
       "  'CIVIL SIDEWALKS, BOOKING': 10,\n",
       "  'CIVIL SIDEWALKS, CITATION': 219,\n",
       "  'CIVIL SIDEWALKS, VIOLATION': 6,\n",
       "  'CIVIL SIDEWALKS, WARNING': 175,\n",
       "  'COURTESY REPORT': 82,\n",
       "  'DEATH REPORT, CAUSE UNKNOWN': 695,\n",
       "  'DEATH REPORT, IN CUSTODY': 5,\n",
       "  'DEATH REPORT, NATURAL CAUSES': 112,\n",
       "  'DEATH, ACCIDENTAL': 3,\n",
       "  'DEATH, NON-MANSLAUGHTER AUTO ACCIDENT': 3,\n",
       "  'DEMONSTRATION, VIDEO EVIDENCE, MISC. INVESTIGATION': 8,\n",
       "  'FIRE REPORT': 123,\n",
       "  'FOUND PROPERTY': 2525,\n",
       "  'IMPOUNDED VEHICLE': 25,\n",
       "  'LICENSE PLATE, FOUND': 13,\n",
       "  'LICENSE PLATE, RECOVERED': 15,\n",
       "  'LOCATED PROPERTY': 65,\n",
       "  'LOST PROPERTY': 4918,\n",
       "  \"MEGAN'S LAW NOTIFICATION\": 3,\n",
       "  'MISPLACED VEHICLE': 7,\n",
       "  'PROPERTY FOR IDENTIFICATION': 245,\n",
       "  'SEARCH WARRANT SERVICE': 4,\n",
       "  'SHELTER': 29,\n",
       "  'STAY AWAY OR COURT ORDER, NON-DV RELATED': 811,\n",
       "  'TARASOFF REPORT': 90,\n",
       "  'TRAFFIC ACCIDENT': 45,\n",
       "  'TRUANT, HABITUAL': 21,\n",
       "  'TURNED IN GUN': 91,\n",
       "  'YOUTH COURT': 2,\n",
       "  'Year': 2011},\n",
       " {'ACCIDENTAL BURNS': 1,\n",
       "  'ACCIDENTAL SHOOTING': 3,\n",
       "  'AIDED CASE': 1345,\n",
       "  'AIDED CASE -PROPERTY FOR DESTRUCTION': 37,\n",
       "  'AIDED CASE, DOG BITE': 270,\n",
       "  'AIDED CASE, INJURED PERSON': 134,\n",
       "  'AIDED CASE, MENTAL DISTURBED': 3829,\n",

       "  'AUTO IMPOUNDED': 4,\n",
       "  'CASE CLOSURE': 492,\n",
       "  'CIVIL SIDEWALKS, BOOKING': 21,\n",
       "  'CIVIL SIDEWALKS, CITATION': 454,\n",
       "  'CIVIL SIDEWALKS, VIOLATION': 10,\n",
       "  'CIVIL SIDEWALKS, WARNING': 355,\n",
       "  'COURTESY REPORT': 109,\n",
       "  'DEATH REPORT, CAUSE UNKNOWN': 708,\n",
       "  'DEATH REPORT, IN CUSTODY': 1,\n",
       "  'DEATH REPORT, NATURAL CAUSES': 129,\n",
       "  'DEATH, ACCIDENTAL': 1,\n",
       "  'DEATH, NON-MANSLAUGHTER AUTO ACCIDENT': 4,\n",
       "  'DEMONSTRATION, VIDEO EVIDENCE, MISC. INVESTIGATION': 10,\n",
       "  'FIRE REPORT': 109,\n",
       "  'FOUND PROPERTY': 2594,\n",
       "  'IMPOUNDED VEHICLE': 28,\n",
       "  'LICENSE PLATE, FOUND': 23,\n",
       "  'LICENSE PLATE, RECOVERED': 30,\n",
       "  'LOCATED PROPERTY': 43,\n",
       "  'LOST PROPERTY': 4624,\n",
       "  \"MEGAN'S LAW NOTIFICATION\": 4,\n",
       "  'MISPLACED VEHICLE': 3,\n",
       "  'PROPERTY FOR IDENTIFICATION': 248,\n",
       "  'SEARCH WARRANT SERVICE': 249,\n",
       "  'SHELTER': 43,\n",
       "  'STAY AWAY OR COURT ORDER, NON-DV RELATED': 676,\n",
       "  'TARASOFF REPORT': 117,\n",
       "  'TRAFFIC ACCIDENT': 55,\n",
       "  'TRUANT, HABITUAL': 16,\n",
       "  'TURNED IN GUN': 90,\n",
       "  'Year': 2012},\n",
       " {'ACCIDENTAL SHOOTING': 1,\n",
       "  'AIDED CASE': 1158,\n",
       "  'AIDED CASE -PROPERTY FOR DESTRUCTION': 561,\n",
       "  'AIDED CASE, DOG BITE': 267,\n",
       "  'AIDED CASE, INJURED PERSON': 184,\n",
       "  'AIDED CASE, MENTAL DISTURBED': 4379,\n",
       "  'AIDED CASE, SICK PERSON': 124,\n",
       "  'CASE CLOSURE': 2662,\n",
       "  'CIVIL SIDEWALKS, BOOKING': 23,\n",
       "  'CIVIL SIDEWALKS, CITATION': 840,\n",
       "  'CIVIL SIDEWALKS, VIOLATION': 18,\n",
       "  'CIVIL SIDEWALKS, WARNING': 724,\n",
       "  'COURTESY REPORT': 273,\n",
       "  'DEATH REPORT, CAUSE UNKNOWN': 738,\n",
       "  'DEATH REPORT, NATURAL CAUSES': 98,\n",
       "  'DEATH, ACCIDENTAL': 2,\n",
       "  'DEMONSTRATION, VIDEO EVIDENCE, MISC. INVESTIGATION': 3,\n",
       "  'FIRE REPORT': 148,\n",
       "  'FOUND PROPERTY': 2703,\n",
       "  'IMPOUNDED VEHICLE': 20,\n",
       "  'LICENSE PLATE, FOUND': 37,\n",
       "  'LICENSE PLATE, RECOVERED': 29,\n",
       "  'LOCATED PROPERTY': 66,\n",
       "  'LOST PROPERTY': 4738,\n",
       "  \"MEGAN'S LAW NOTIFICATION\": 5,\n",
       "  'MISPLACED VEHICLE': 1,\n",
       "  'PROPERTY FOR IDENTIFICATION': 180,\n",
       "  'SEARCH WARRANT SERVICE': 323,\n",
       "  'SHELTER': 20,\n",
       "  'STAY AWAY OR COURT ORDER, NON-DV RELATED': 496,\n",
       "  'TARASOFF REPORT': 99,\n",
       "  'TRAFFIC ACCIDENT': 49,\n",
       "  'TRUANT, HABITUAL': 6,\n",
       "  'TURNED IN GUN': 109,\n",
       "  'Year': 2013},\n",
       " {'ACCIDENTAL BURNS': 1,\n",
       "  'ACCIDENTAL SHOOTING': 1,\n",
       "  'AIDED CASE': 989,\n",
       "  'AIDED CASE -PROPERTY FOR DESTRUCTION': 647,\n",
       "  'AIDED CASE, DOG BITE': 255,\n",
       "  'AIDED CASE, INJURED PERSON': 167,\n",
       "  'AIDED CASE, MENTAL DISTURBED': 4768,\n",
       "  'AIDED CASE, SICK PERSON': 73,\n",
       "  'AUTO IMPOUNDED': 5,\n",
       "  'CASE CLOSURE': 874,\n",
       "  'CIVIL SIDEWALKS, BOOKING': 16,\n",
       "  'CIVIL SIDEWALKS, CITATION': 809,\n",
       "  'CIVIL SIDEWALKS, VIOLATION': 11,\n",
       "  'CIVIL SIDEWALKS, WARNING': 476,\n",
       "  'COURTESY REPORT': 275,\n",
       "  'DEATH REPORT, CAUSE UNKNOWN': 747,\n",
       "  'DEATH REPORT, IN CUSTODY': 1,\n",
       "  'DEATH REPORT, NATURAL CAUSES': 84,\n",
       "  'DEATH, ACCIDENTAL': 2,\n",
       "  'DEATH, NON-MANSLAUGHTER AUTO ACCIDENT': 2,\n",
       "  'DEMONSTRATION, VIDEO EVIDENCE, MISC. INVESTIGATION': 1,\n",
       "  'FIRE REPORT': 160,\n",
       "  'FOUND PROPERTY': 2934,\n",
       "  'IMPOUNDED VEHICLE': 20,\n",
       "  'LICENSE PLATE, FOUND': 59,\n",
       "  'LICENSE PLATE, RECOVERED': 34,\n",
       "  'LOCATED PROPERTY': 66,\n",
       "  'LOST PROPERTY': 4713,\n",
       "  \"MEGAN'S LAW NOTIFICATION\": 1,\n",
       "  'MISPLACED VEHICLE': 6,\n",
       "  'PROPERTY FOR IDENTIFICATION': 170,\n",
       "  'SEARCH WARRANT SERVICE': 343,\n",
       "  'SHELTER': 28,\n",
       "  'STAY AWAY OR COURT ORDER, NON-DV RELATED': 388,\n",
       "  'TARASOFF REPORT': 123,\n",
       "  'TRAFFIC ACCIDENT': 69,\n",
       "  'TRUANT, HABITUAL': 5,\n",
       "  'TURNED IN GUN': 80,\n",
       "  'YOUTH COURT': 1,\n",
       "  'Year': 2014},\n",
       " {'ACCIDENTAL SHOOTING': 1,\n",
       "  'AIDED CASE': 1076,\n",
       "  'AIDED CASE -PROPERTY FOR DESTRUCTION': 576,\n",
       "  'AIDED CASE, DOG BITE': 275,\n",
       "  'AIDED CASE, INJURED PERSON': 211,\n",
       "  'AIDED CASE, MENTAL DISTURBED': 4683,\n",
       "  'AIDED CASE, SICK PERSON': 50,\n",
       "  'AUTO IMPOUNDED': 5,\n",
       "  'CASE CLOSURE': 954,\n",
       "  'CIVIL SIDEWALKS, BOOKING': 26,\n",
       "  'CIVIL SIDEWALKS, CITATION': 334,\n",
       "  'CIVIL SIDEWALKS, VIOLATION': 16,\n",
       "  'CIVIL SIDEWALKS, WARNING': 285,\n",
       "  'COURTESY REPORT': 436,\n",
       "  'DEATH REPORT, CAUSE UNKNOWN': 745,\n",
       "  'DEATH REPORT, IN CUSTODY': 3,\n",
       "  'DEATH REPORT, NATURAL CAUSES': 114,\n",
       "  'DEATH, ACCIDENTAL': 4,\n",
       "  'DEATH, NON-MANSLAUGHTER AUTO ACCIDENT': 1,\n",
       "  'FIRE REPORT': 160,\n",
       "  'FOUND PROPERTY': 3161,\n",
       "  'IMPOUNDED VEHICLE': 20,\n",
       "  'LICENSE PLATE, FOUND': 86,\n",
       "  'LICENSE PLATE, RECOVERED': 151,\n",
       "  'LOCATED PROPERTY': 63,\n",
       "  'LOST PROPERTY': 4539,\n",
       "  \"MEGAN'S LAW NOTIFICATION\": 3,\n",
       "  'MISPLACED VEHICLE': 1,\n",
       "  'PROPERTY FOR IDENTIFICATION': 133,\n",
       "  'SEARCH WARRANT SERVICE': 330,\n",
       "  'SHELTER': 26,\n",
       "  'STAY AWAY OR COURT ORDER, NON-DV RELATED': 362,\n",
       "  'TARASOFF REPORT': 104,\n",
       "  'TRAFFIC ACCIDENT': 73,\n",
       "  'TRUANT, HABITUAL': 3,\n",
       "  'TURNED IN GUN': 82,\n",
       "  'Year': 2015},\n",
       " {'AIDED CASE': 456,\n",
       "  'AIDED CASE -PROPERTY FOR DESTRUCTION': 200,\n",
       "  'AIDED CASE, DOG BITE': 103,\n",
       "  'AIDED CASE, INJURED PERSON': 95,\n",
       "  'AIDED CASE, MENTAL DISTURBED': 1920,\n",
       "  'AIDED CASE, SICK PERSON': 5,\n",
       "  'AUTO IMPOUNDED': 1,\n",
       "  'CASE CLOSURE': 184,\n",
       "  'CIVIL SIDEWALKS, BOOKING': 16,\n",
       "  'CIVIL SIDEWALKS, CITATION': 151,\n",
       "  'CIVIL SIDEWALKS, VIOLATION': 7,\n",
       "  'CIVIL SIDEWALKS, WARNING': 108,\n",
       "  'COURTESY REPORT': 147,\n",
       "  'DEATH REPORT, CAUSE UNKNOWN': 330,\n",
       "  'DEATH REPORT, NATURAL CAUSES': 42,\n",
       "  'DEATH, NON-MANSLAUGHTER AUTO ACCIDENT': 1,\n",
       "  'FIRE REPORT': 65,\n",
       "  'FOUND PROPERTY': 1274,\n",
       "  'IMPOUNDED VEHICLE': 12,\n",
       "  'LICENSE PLATE, FOUND': 22,\n",
       "  'LICENSE PLATE, RECOVERED': 87,\n",
       "  'LOCATED PROPERTY': 21,\n",
       "  'LOST PROPERTY': 1786,\n",
       "  'MISPLACED VEHICLE': 2,\n",
       "  'PROPERTY FOR IDENTIFICATION': 55,\n",
       "  'SEARCH WARRANT SERVICE': 128,\n",
       "  'SHELTER': 8,\n",
       "  'STAY AWAY OR COURT ORDER, NON-DV RELATED': 183,\n",
       "  'TARASOFF REPORT': 33,\n",
       "  'TRAFFIC ACCIDENT': 40,\n",
       "  'TRUANT, HABITUAL': 2,\n",
       "  'TURNED IN GUN': 28,\n",
       "  'Year': 2016}]"
      ]
     },
     "execution_count": 26,
     "metadata": {},
     "output_type": "execute_result"
    }
   ],
   "source": [
    "## How to get categories that aren't listed to equal 0?\n",
    "## I tried:\n",
    "#             if item:\n",
    "#                 non_crim_dict[category] = item\n",
    "#             else:\n",
    "#                 non_crim_dict[category] = 0\n",
    "non_crim_dict = {}\n",
    "non_crim_list = []\n",
    "years = list(range(2003, 2017))\n",
    "\n",
    "for year in years:\n",
    "    non_crim_dict['Year'] = year\n",
    "    for category in non_criminal_categories:\n",
    "        for item in df[(df['Year'] == str(year)) & (df['Descript'] == category)]['Descript'].value_counts():\n",
    "            non_crim_dict[category] = item\n",
    "    non_crim_list.append(non_crim_dict)\n",
    "    non_crim_dict = {}\n",
    "non_crim_list"
   ]
  },

   "cell_type": "code",
   "execution_count": 27,
   "metadata": {
    "collapsed": false
   },
   "outputs": [
    {
     "data": {
      "text/html": [
       "<div>\n",
       "<table border=\"1\" class=\"dataframe\">\n",
       "  <thead>\n",
       "    <tr style=\"text-align: right;\">\n",
       "      <th></th>\n",
       "      <th>ACCIDENTAL BURNS</th>\n",
       "      <th>ACCIDENTAL SHOOTING</th>\n",
       "      <th>AIDED CASE</th>\n",
       "      <th>AIDED CASE -PROPERTY FOR DESTRUCTION</th>\n",
       "      <th>AIDED CASE, DOG BITE</th>\n",
       "      <th>AIDED CASE, INJURED PERSON</th>\n",
       "      <th>AIDED CASE, MENTAL DISTURBED</th>\n",
       "      <th>AIDED CASE, SICK PERSON</th>\n",
       "      <th>AUTO IMPOUNDED</th>\n",
       "      <th>CASE CLOSURE</th>\n",
       "      <th>...</th>\n",
       "      <th>PROPERTY FOR IDENTIFICATION</th>\n",
       "      <th>SEARCH WARRANT SERVICE</th>\n",
       "      <th>SHELTER</th>\n",
       "      <th>STAY AWAY OR COURT ORDER, NON-DV RELATED</th>\n",
       "      <th>TARASOFF REPORT</th>\n",
       "      <th>TRAFFIC ACCIDENT</th>\n",
       "      <th>TRUANT, HABITUAL</th>\n",
       "      <th>TURNED IN GUN</th>\n",
       "      <th>YOUTH COURT</th>\n",
       "      <th>Year</th>\n",
       "    </tr>\n",
       "  </thead>\n",
       "  <tbody>\n",
       "    <tr>\n",
       "      <th>0</th>\n",
       "      <td>1.0</td>\n",
       "      <td>1.0</td>\n",
       "      <td>655</td>\n",
       "      <td>NaN</td>\n",
       "      <td>200</td>\n",
       "      <td>199</td>\n",
       "      <td>2407</td>\n",
       "      <td>22</td>\n",
       "      <td>NaN</td>\n",
       "      <td>NaN</td>\n",

       "      <td>230</td>\n",
       "      <td>NaN</td>\n",
       "      <td>147</td>\n",
       "      <td>NaN</td>\n",
       "      <td>114</td>\n",
       "      <td>67</td>\n",
       "      <td>NaN</td>\n",
       "      <td>67</td>\n",
       "      <td>5.0</td>\n",
       "      <td>2003</td>\n",
       "    </tr>\n",
       "    <tr>\n",
       "      <th>1</th>\n",
       "      <td>NaN</td>\n",
       "      <td>5.0</td>\n",
       "      <td>629</td>\n",
       "      <td>NaN</td>\n",
       "      <td>184</td>\n",
       "      <td>178</td>\n",
       "      <td>2592</td>\n",
       "      <td>15</td>\n",
       "      <td>NaN</td>\n",
       "      <td>NaN</td>\n",
       "      <td>...</td>\n",
       "      <td>236</td>\n",
       "      <td>NaN</td>\n",
       "      <td>109</td>\n",
       "      <td>NaN</td>\n",
       "      <td>122</td>\n",
       "      <td>52</td>\n",
       "      <td>NaN</td>\n",
       "      <td>80</td>\n",
       "      <td>1.0</td>\n",
       "      <td>2004</td>\n",
       "    </tr>\n",
       "    <tr>\n",
       "      <th>2</th>\n",
       "      <td>NaN</td>\n",
       "      <td>2.0</td>\n",
       "      <td>681</td>\n",
       "      <td>NaN</td>\n",
       "      <td>202</td>\n",
       "      <td>178</td>\n",
       "      <td>2924</td>\n",
       "      <td>26</td>\n",
       "      <td>NaN</td>\n",
       "      <td>NaN</td>\n",
       "      <td>...</td>\n",
       "      <td>203</td>\n",
       "      <td>NaN</td>\n",
       "      <td>74</td>\n",
       "      <td>NaN</td>\n",
       "      <td>114</td>\n",
       "      <td>57</td>\n",
       "      <td>NaN</td>\n",
       "      <td>84</td>\n",
       "      <td>NaN</td>\n",
       "      <td>2005</td>\n",
       "    </tr>\n",
       "    <tr>\n",
       "      <th>3</th>\n",
       "      <td>2.0</td>\n",
       "      <td>3.0</td>\n",
       "      <td>658</td>\n",
       "      <td>NaN</td>\n",
       "      <td>155</td>\n",
       "      <td>152</td>\n",
       "      <td>3134</td>\n",
       "      <td>26</td>\n",
       "      <td>NaN</td>\n",
       "      <td>4.0</td>\n",
       "      <td>...</td>\n",
       "      <td>179</td>\n",
       "      <td>NaN</td>\n",
       "      <td>76</td>\n",
       "      <td>1.0</td>\n",
       "      <td>139</td>\n",
       "      <td>81</td>\n",
       "      <td>NaN</td>\n",
       "      <td>60</td>\n",
       "      <td>1.0</td>\n",
       "      <td>2006</td>\n",
       "    </tr>\n",
       "    <tr>\n",
       "      <th>4</th>\n",
       "      <td>1.0</td>\n",
       "      <td>1.0</td>\n",
       "      <td>709</td>\n",
       "      <td>NaN</td>\n",
       "      <td>205</td>\n",
       "      <td>166</td>\n",
       "      <td>2970</td>\n",
       "      <td>24</td>\n",
       "      <td>NaN</td>\n",
       "      <td>7.0</td>\n",
       "      <td>...</td>\n",
       "      <td>241</td>\n",
       "      <td>NaN</td>\n",
       "      <td>67</td>\n",
       "      <td>NaN</td>\n",
       "      <td>117</td>\n",
       "      <td>95</td>\n",
       "      <td>NaN</td>\n",
       "      <td>74</td>\n",
       "      <td>NaN</td>\n",
       "      <td>2007</td>\n",
       "    </tr>\n",
       "    <tr>\n",
       "      <th>5</th>\n",
       "      <td>NaN</td>\n",
       "      <td>1.0</td>\n",
       "      <td>864</td>\n",
       "      <td>NaN</td>\n",
       "      <td>192</td>\n",
       "      <td>215</td>\n",
       "      <td>3317</td>\n",
       "      <td>31</td>\n",
       "      <td>NaN</td>\n",
       "      <td>9.0</td>\n",
       "      <td>...</td>\n",
       "      <td>171</td>\n",
       "      <td>1.0</td>\n",
       "      <td>59</td>\n",
       "      <td>NaN</td>\n",
       "      <td>99</td>\n",
       "      <td>99</td>\n",
       "      <td>NaN</td>\n",
       "      <td>70</td>\n",
       "      <td>3.0</td>\n",
       "      <td>2008</td>\n",
       "    </tr>\n",
       "    <tr>\n",
       "      <th>6</th>\n",
       "      <td>1.0</td>\n",
       "      <td>NaN</td>\n",
       "      <td>913</td>\n",
       "      <td>NaN</td>\n",
       "      <td>210</td>\n",
       "      <td>182</td>\n",
       "      <td>3418</td>\n",
       "      <td>22</td>\n",
       "      <td>NaN</td>\n",
       "      <td>18.0</td>\n",
       "      <td>...</td>\n",
       "      <td>131</td>\n",
       "      <td>NaN</td>\n",
       "      <td>45</td>\n",
       "      <td>5.0</td>\n",
       "      <td>76</td>\n",
       "      <td>110</td>\n",
       "      <td>NaN</td>\n",
       "      <td>68</td>\n",
       "      <td>4.0</td>\n",
       "      <td>2009</td>\n",
       "    </tr>\n",
       "    <tr>\n",
       "      <th>7</th>\n",
       "      <td>NaN</td>\n",
       "      <td>4.0</td>\n",
       "      <td>963</td>\n",
       "      <td>NaN</td>\n",
       "      <td>222</td>\n",
       "      <td>133</td>\n",
       "      <td>3845</td>\n",
       "      <td>23</td>\n",
       "      <td>2.0</td>\n",
       "      <td>52.0</td>\n",
       "      <td>...</td>\n",
       "      <td>186</td>\n",
       "      <td>1.0</td>\n",
       "      <td>22</td>\n",
       "      <td>665.0</td>\n",
       "      <td>101</td>\n",
       "      <td>55</td>\n",
       "      <td>9.0</td>\n",
       "      <td>101</td>\n",
       "      <td>5.0</td>\n",
       "      <td>2010</td>\n",
       "    </tr>\n",
       "    <tr>\n",
       "      <th>8</th>\n",
       "      <td>NaN</td>\n",
       "      <td>1.0</td>\n",
       "      <td>917</td>\n",
       "      <td>NaN</td>\n",
       "      <td>271</td>\n",
       "      <td>116</td>\n",
       "      <td>3775</td>\n",
       "      <td>24</td>\n",
       "      <td>2.0</td>\n",
       "      <td>130.0</td>\n",
       "      <td>...</td>\n",
       "      <td>245</td>\n",
       "      <td>4.0</td>\n",
       "      <td>29</td>\n",
       "      <td>811.0</td>\n",
       "      <td>90</td>\n",
       "      <td>45</td>\n",
       "      <td>21.0</td>\n",
       "      <td>91</td>\n",
       "      <td>2.0</td>\n",
       "      <td>2011</td>\n",
       "    </tr>\n",
       "    <tr>\n",
       "      <th>9</th>\n",
       "      <td>1.0</td>\n",
       "      <td>3.0</td>\n",
       "      <td>1345</td>\n",
       "      <td>37.0</td>\n",
       "      <td>270</td>\n",
       "      <td>134</td>\n",
       "      <td>3829</td>\n",
       "      <td>67</td>\n",
       "      <td>4.0</td>\n",
       "      <td>492.0</td>\n",
       "      <td>...</td>\n",
       "      <td>248</td>\n",
       "      <td>249.0</td>\n",
       "      <td>43</td>\n",
       "      <td>676.0</td>\n",
       "      <td>117</td>\n",
       "      <td>55</td>\n",
       "      <td>16.0</td>\n",
       "      <td>90</td>\n",
       "      <td>NaN</td>\n",
       "      <td>2012</td>\n",
       "    </tr>\n",
       "    <tr>\n",
       "      <th>10</th>\n",
       "      <td>NaN</td>\n",
       "      <td>1.0</td>\n",
       "      <td>1158</td>\n",
       "      <td>561.0</td>\n",
       "      <td>267</td>\n",
       "      <td>184</td>\n",
       "      <td>4379</td>\n",
       "      <td>124</td>\n",
       "      <td>NaN</td>\n",
       "      <td>2662.0</td>\n",
       "      <td>...</td>\n",
       "      <td>180</td>\n",
       "      <td>323.0</td>\n",
       "      <td>20</td>\n",
       "      <td>496.0</td>\n",
       "      <td>99</td>\n",
       "      <td>49</td>\n",
       "      <td>6.0</td>\n",
       "      <td>109</td>\n",
       "      <td>NaN</td>\n",
       "      <td>2013</td>\n",
       "    </tr>\n",
       "    <tr>\n",
       "      <th>11</th>\n",
       "      <td>1.0</td>\n",
       "      <td>1.0</td>\n",
       "      <td>989</td>\n",
       "      <td>647.0</td>\n",
       "      <td>255</td>\n",
       "      <td>167</td>\n",
       "      <td>4768</td>\n",
       "      <td>73</td>\n",
       "      <td>5.0</td>\n",
       "      <td>874.0</td>\n",
       "      <td>...</td>\n",
       "      <td>170</td>\n",
       "      <td>343.0</td>\n",
       "      <td>28</td>\n",
       "      <td>388.0</td>\n",
       "      <td>123</td>\n",
       "      <td>69</td>\n",
       "      <td>5.0</td>\n",
       "      <td>80</td>\n",
       "      <td>1.0</td>\n",
       "      <td>2014</td>\n",
       "    </tr>\n",
       "    <tr>\n",
       "      <th>12</th>\n",
       "      <td>NaN</td>\n",
       "      <td>1.0</td>\n",
       "      <td>1076</td>\n",
       "      <td>576.0</td>\n",

       "      <td>211</td>\n",
       "      <td>4683</td>\n",
       "      <td>50</td>\n",
       "      <td>5.0</td>\n",
       "      <td>954.0</td>\n",
       "      <td>...</td>\n",
       "      <td>133</td>\n",
       "      <td>330.0</td>\n",
       "      <td>26</td>\n",
       "      <td>362.0</td>\n",
       "      <td>104</td>\n",
       "      <td>73</td>\n",
       "      <td>3.0</td>\n",
       "      <td>82</td>\n",
       "      <td>NaN</td>\n",
       "      <td>2015</td>\n",
       "    </tr>\n",
       "    <tr>\n",
       "      <th>13</th>\n",
       "      <td>NaN</td>\n",
       "      <td>NaN</td>\n",
       "      <td>456</td>\n",
       "      <td>200.0</td>\n",
       "      <td>103</td>\n",
       "      <td>95</td>\n",
       "      <td>1920</td>\n",
       "      <td>5</td>\n",
       "      <td>1.0</td>\n",
       "      <td>184.0</td>\n",
       "      <td>...</td>\n",
       "      <td>55</td>\n",
       "      <td>128.0</td>\n",
       "      <td>8</td>\n",
       "      <td>183.0</td>\n",
       "      <td>33</td>\n",
       "      <td>40</td>\n",
       "      <td>2.0</td>\n",
       "      <td>28</td>\n",
       "      <td>NaN</td>\n",
       "      <td>2016</td>\n",
       "    </tr>\n",
       "  </tbody>\n",
       "</table>\n",
       "<p>14 rows × 40 columns</p>\n",
       "</div>"
      ],
      "text/plain": [
       "    ACCIDENTAL BURNS  ACCIDENTAL SHOOTING  AIDED CASE  \\\n",
       "0                1.0                  1.0         655   \n",
       "1                NaN                  5.0         629   \n",
       "2                NaN                  2.0         681   \n",
       "3                2.0                  3.0         658   \n",

       "5                NaN                  1.0         864   \n",
       "6                1.0                  NaN         913   \n",
       "7                NaN                  4.0         963   \n",
       "8                NaN                  1.0         917   \n",
       "9                1.0                  3.0        1345   \n",
       "10               NaN                  1.0        1158   \n",
       "11               1.0                  1.0         989   \n",
       "12               NaN                  1.0        1076   \n",
       "13               NaN                  NaN         456   \n",
       "\n",
       "    AIDED CASE -PROPERTY FOR DESTRUCTION  AIDED CASE, DOG BITE  \\\n",
       "0                                    NaN                   200   \n",
       "1                                    NaN                   184   \n",
       "2                                    NaN                   202   \n",
       "3                                    NaN                   155   \n",
       "4                                    NaN                   205   \n",
       "5                                    NaN                   192   \n",
       "6                                    NaN                   210   \n",
       "7                                    NaN                   222   \n",
       "8                                    NaN                   271   \n",
       "9                                   37.0                   270   \n",
       "10                                 561.0                   267   \n",
       "11                                 647.0                   255   \n",
       "12                                 576.0                   275   \n",
       "13                                 200.0                   103   \n",
       "\n",
       "    AIDED CASE, INJURED PERSON  AIDED CASE, MENTAL DISTURBED  \\\n",
       "0                          199                          2407   \n",
       "1                          178                          2592   \n",
       "2                          178                          2924   \n",
       "3                          152                          3134   \n",
       "4                          166                          2970   \n",
       "5                          215                          3317   \n",
       "6                          182                          3418   \n",
       "7                          133                          3845   \n",
       "8                          116                          3775   \n",
       "9                          134                          3829   \n",
       "10                         184                          4379   \n",
       "11                         167                          4768   \n",
       "12                         211                          4683   \n",
       "13                          95                          1920   \n",
       "\n",
       "    AIDED CASE, SICK PERSON  AUTO IMPOUNDED  CASE CLOSURE  ...   \\\n",
       "0                        22             NaN           NaN  ...    \n",
       "1                        15             NaN           NaN  ...    \n",
       "2                        26             NaN           NaN  ...    \n",
       "3                        26             NaN           4.0  ...    \n",
       "4                        24             NaN           7.0  ...    \n",
       "5                        31             NaN           9.0  ...    \n",
       "6                        22             NaN          18.0  ...    \n",
       "7                        23             2.0          52.0  ...    \n",
       "8                        24             2.0         130.0  ...    \n",
       "9                        67             4.0         492.0  ...    \n",
       "10                      124             NaN        2662.0  ...    \n",
       "11                       73             5.0         874.0  ...    \n",
       "12                       50             5.0         954.0  ...    \n",
       "13                        5             1.0         184.0  ...    \n",
       "\n",
       "    PROPERTY FOR IDENTIFICATION  SEARCH WARRANT SERVICE  SHELTER  \\\n",
       "0                           230                     NaN      147   \n",
       "1                           236                     NaN      109   \n",
       "2                           203                     NaN       74   \n",
       "3                           179                     NaN       76   \n",
       "4                           241                     NaN       67   \n",
       "5                           171                     1.0       59   \n",
       "6                           131                     NaN       45   \n",
       "7                           186                     1.0       22   \n",
       "8                           245                     4.0       29   \n",
       "9                           248                   249.0       43   \n",
       "10                          180                   323.0       20   \n",
       "11                          170                   343.0       28   \n",
       "12                          133                   330.0       26   \n",
       "13                           55                   128.0        8   \n",
       "\n",
       "    STAY AWAY OR COURT ORDER, NON-DV RELATED  TARASOFF REPORT  \\\n",
       "0                                        NaN              114   \n",
       "1                                        NaN              122   \n",
       "2                                        NaN              114   \n",
       "3                                        1.0              139   \n",
       "4                                        NaN              117   \n",
       "5                                        NaN               99   \n",
       "6                                        5.0               76   \n",
       "7                                      665.0              101   \n",
       "8                                      811.0               90   \n",
       "9                                      676.0              117   \n",
       "10                                     496.0               99   \n",
       "11                                     388.0              123   \n",
       "12                                     362.0              104   \n",
       "13                                     183.0               33   \n",
       "\n",
       "    TRAFFIC ACCIDENT  TRUANT, HABITUAL  TURNED IN GUN  YOUTH COURT  Year  \n",
       "0                 67               NaN             67          5.0  2003  \n",
       "1                 52               NaN             80          1.0  2004  \n",
       "2                 57               NaN             84          NaN  2005  \n",
       "3                 81               NaN             60          1.0  2006  \n",
       "4                 95               NaN             74          NaN  2007  \n",
       "5                 99               NaN             70          3.0  2008  \n",
       "6                110               NaN             68          4.0  2009  \n",
       "7                 55               9.0            101          5.0  2010  \n",
       "8                 45              21.0             91          2.0  2011  \n",
       "9                 55              16.0             90          NaN  2012  \n",
       "10                49               6.0            109          NaN  2013  \n",
       "11                69               5.0             80          1.0  2014  \n",
       "12                73               3.0             82          NaN  2015  \n",
       "13                40               2.0             28          NaN  2016  \n",
       "\n",
       "[14 rows x 40 columns]"
      ]
     },
     "execution_count": 27,
     "metadata": {},
     "output_type": "execute_result"
    }
   ],
   "source": [
    "non_crim_df = pd.DataFrame(non_crim_list)\n",
    "non_crim_df"
   ]
  },
  {
   "cell_type": "code",
   "execution_count": 28,
   "metadata": {
    "collapsed": false
   },
   "outputs": [
    {
     "name": "stderr",
     "output_type": "stream",
     "text": [

      "  max_open_warning, RuntimeWarning)\n"
     ]
    },
    {
     "data": {

      "text/plain": [
       "<matplotlib.figure.Figure at 0x11365ac88>"
      ]

     "metadata": {},
     "output_type": "display_data"
    },
    {
     "data": {

      "text/plain": [
       "<matplotlib.figure.Figure at 0x113c5f0b8>"
      ]
     },
     "metadata": {},
     "output_type": "display_data"
    },
    {
     "data": {

      "text/plain": [
       "<matplotlib.figure.Figure at 0x113c79eb8>"
      ]
     },
     "metadata": {},
     "output_type": "display_data"
    },
    {
     "data": {

      "text/plain": [
       "<matplotlib.figure.Figure at 0x113c6fdd8>"
      ]
     },
     "metadata": {},
     "output_type": "display_data"
    },
    {
     "data": {

      "text/plain": [
       "<matplotlib.figure.Figure at 0x112540da0>"
      ]
     },
     "metadata": {},
     "output_type": "display_data"
    },
    {
     "data": {

      "text/plain": [
       "<matplotlib.figure.Figure at 0x11f1cf470>"
      ]
     },
     "metadata": {},
     "output_type": "display_data"
    },
    {
     "data": {

      "text/plain": [
       "<matplotlib.figure.Figure at 0x11fe42b38>"
      ]
     },
     "metadata": {},
     "output_type": "display_data"
    },
    {
     "data": {

      "text/plain": [
       "<matplotlib.figure.Figure at 0x1125c32e8>"
      ]
     },
     "metadata": {},
     "output_type": "display_data"
    },
    {
     "data": {

      "text/plain": [
       "<matplotlib.figure.Figure at 0x12d467400>"
      ]
     },
     "metadata": {},
     "output_type": "display_data"
    },
    {
     "data": {

      "text/plain": [
       "<matplotlib.figure.Figure at 0x113de8a90>"
      ]
     },
     "metadata": {},
     "output_type": "display_data"
    },
    {
     "data": {

      "text/plain": [
       "<matplotlib.figure.Figure at 0x113674898>"
      ]

     "metadata": {},
     "output_type": "display_data"
    },
    {
     "data": {

      "text/plain": [
       "<matplotlib.figure.Figure at 0x11fb98240>"
      ]
     },
     "metadata": {},
     "output_type": "display_data"
    },
    {
     "data": {

      "text/plain": [
       "<matplotlib.figure.Figure at 0x113598f60>"
      ]
     },
     "metadata": {},
     "output_type": "display_data"
    },
    {
     "data": {

      "text/plain": [
       "<matplotlib.figure.Figure at 0x1135f1a90>"
      ]
     },
     "metadata": {},
     "output_type": "display_data"
    },
    {
     "data": {

      "text/plain": [
       "<matplotlib.figure.Figure at 0x11306b780>"
      ]
     },
     "metadata": {},
     "output_type": "display_data"
    },
    {
     "data": {

      "text/plain": [
       "<matplotlib.figure.Figure at 0x1125e3c88>"
      ]
     },
     "metadata": {},
     "output_type": "display_data"
    },
    {
     "data": {

      "text/plain": [
       "<matplotlib.figure.Figure at 0x11263cfd0>"
      ]
     },
     "metadata": {},
     "output_type": "display_data"
    },
    {
     "data": {

      "text/plain": [
       "<matplotlib.figure.Figure at 0x113644320>"
      ]
     },
     "metadata": {},
     "output_type": "display_data"
    },
    {
     "data": {

      "text/plain": [
       "<matplotlib.figure.Figure at 0x1130e19e8>"
      ]
     },
     "metadata": {},
     "output_type": "display_data"
    },
    {
     "data": {

      "text/plain": [
       "<matplotlib.figure.Figure at 0x11312fd68>"
      ]
     },
     "metadata": {},
     "output_type": "display_data"
    },
    {
     "data": {

      "text/plain": [
       "<matplotlib.figure.Figure at 0x113800da0>"
      ]
     },
     "metadata": {},
     "output_type": "display_data"
    },
    {
     "data": {

      "text/plain": [
       "<matplotlib.figure.Figure at 0x1138ef860>"
      ]
     },
     "metadata": {},
     "output_type": "display_data"
    },
    {
     "data": {

      "text/plain": [
       "<matplotlib.figure.Figure at 0x113b29160>"
      ]
     },
     "metadata": {},
     "output_type": "display_data"
    },
    {
     "data": {

      "text/plain": [
       "<matplotlib.figure.Figure at 0x113b60ef0>"
      ]
     },
     "metadata": {},
     "output_type": "display_data"
    },
    {
     "data": {

      "text/plain": [
       "<matplotlib.figure.Figure at 0x113ea1940>"
      ]
     },
     "metadata": {},
     "output_type": "display_data"
    },
    {
     "data": {

      "text/plain": [
       "<matplotlib.figure.Figure at 0x113efa278>"
      ]
     },
     "metadata": {},
     "output_type": "display_data"
    },
    {
     "data": {

      "text/plain": [
       "<matplotlib.figure.Figure at 0x113f71f98>"
      ]
     },
     "metadata": {},
     "output_type": "display_data"
    },
    {
     "data": {

      "text/plain": [
       "<matplotlib.figure.Figure at 0x113fc2f60>"
      ]
     },
     "metadata": {},
     "output_type": "display_data"
    },
    {
     "data": {

      "text/plain": [
       "<matplotlib.figure.Figure at 0x11401b0f0>"
      ]
     },
     "metadata": {},
     "output_type": "display_data"
    },
    {
     "data": {

      "text/plain": [
       "<matplotlib.figure.Figure at 0x11407c9e8>"
      ]
     },
     "metadata": {},
     "output_type": "display_data"
    },
    {
     "data": {

      "text/plain": [
       "<matplotlib.figure.Figure at 0x1140dbac8>"
      ]
     },
     "metadata": {},
     "output_type": "display_data"
    },
    {
     "data": {

      "text/plain": [
       "<matplotlib.figure.Figure at 0x1140aa320>"
      ]
     },
     "metadata": {},
     "output_type": "display_data"
    },
    {
     "data": {

      "text/plain": [
       "<matplotlib.figure.Figure at 0x11419ee80>"
      ]
     },
     "metadata": {},
     "output_type": "display_data"
    },
    {
     "data": {

      "text/plain": [
       "<matplotlib.figure.Figure at 0x1141eb8d0>"
      ]
     },
     "metadata": {},
     "output_type": "display_data"
    },
    {
     "data": {

      "text/plain": [
       "<matplotlib.figure.Figure at 0x114105d30>"
      ]
     },
     "metadata": {},
     "output_type": "display_data"
    },
    {
     "data": {

      "text/plain": [
       "<matplotlib.figure.Figure at 0x1142a8470>"
      ]
     },
     "metadata": {},
     "output_type": "display_data"
    },
    {
     "data": {

      "text/plain": [
       "<matplotlib.figure.Figure at 0x1142de358>"
      ]
     },
     "metadata": {},
     "output_type": "display_data"
    },
    {
     "data": {

      "text/plain": [
       "<matplotlib.figure.Figure at 0x11434aeb8>"
      ]
     },
     "metadata": {},
     "output_type": "display_data"
    },
    {
     "data": {

      "text/plain": [
       "<matplotlib.figure.Figure at 0x1143a1128>"
      ]
     },
     "metadata": {},
     "output_type": "display_data"
    }
   ],
   "source": [
    "for category in non_criminal_categories:\n",
    "    non_crim_df.plot(kind = 'line', x = 'Year', y = category)"
   ]
  },
  {
   "cell_type": "markdown",
   "metadata": {},
   "source": [
    "## 5) How frequently do incidents happen in different PdDistricts?"
   ]
  },
  {
   "cell_type": "code",
   "execution_count": 29,
   "metadata": {
    "collapsed": false
   },
   "outputs": [
    {
     "data": {
      "text/plain": [
       "Index(['IncidntNum', 'Category', 'Descript', 'DayOfWeek', 'Date', 'Time',\n",
       "       'PdDistrict', 'Resolution', 'Address', 'X', 'Y', 'Location', 'Year'],\n",
       "      dtype='object')"
      ]
     },
     "execution_count": 29,
     "metadata": {},
     "output_type": "execute_result"
    }
   ],
   "source": [
    "df.columns"
   ]
  },
  {
   "cell_type": "code",
   "execution_count": 30,
   "metadata": {
    "collapsed": false
   },
   "outputs": [
    {

      "text/plain": [
       "SOUTHERN      345417\n",
       "MISSION       259389\n",
       "NORTHERN      233234\n",
       "BAYVIEW       194274\n",
       "CENTRAL       190341\n",
       "TENDERLOIN    174437\n",
       "INGLESIDE     172218\n",
       "TARAVAL       144527\n",
       "PARK          109458\n",
       "RICHMOND       99522\n",
       "Name: PdDistrict, dtype: int64"
      ]
     },
     "execution_count": 30,
     "metadata": {},
     "output_type": "execute_result"
    }
   ],
   "source": [
    "df['PdDistrict'].value_counts()"
   ]
  },
  {
   "cell_type": "code",
   "execution_count": 31,
   "metadata": {
    "collapsed": false
   },
   "outputs": [
    {
     "data": {
      "text/plain": [
       "count     1922818\n",
       "unique         14\n",
       "top          2015\n",
       "freq       156007\n",
       "Name: Year, dtype: object"
      ]
     },
     "execution_count": 31,
     "metadata": {},
     "output_type": "execute_result"
    }
   ],
   "source": [
    "df['Year'].describe()"
   ]
  },
  {
   "cell_type": "code",
   "execution_count": 32,
   "metadata": {
    "collapsed": false
   },
   "outputs": [
    {
     "data": {
      "text/plain": [
       "SOUTHERN      24672.642857\n",
       "MISSION       18527.785714\n",
       "NORTHERN      16659.571429\n",
       "BAYVIEW       13876.714286\n",
       "CENTRAL       13595.785714\n",
       "TENDERLOIN    12459.785714\n",
       "INGLESIDE     12301.285714\n",
       "TARAVAL       10323.357143\n",
       "PARK           7818.428571\n",
       "RICHMOND       7108.714286\n",
       "Name: PdDistrict, dtype: float64"
      ]
     },
     "execution_count": 32,
     "metadata": {},
     "output_type": "execute_result"
    }
   ],
   "source": [
    "# times per year\n",
    "df['PdDistrict'].value_counts() / len(df['Year'].unique())"
   ]
  },
  {
   "cell_type": "markdown",
   "metadata": {},
   "source": [
    "## 6) For each year, which PdDistrict had the most incidents?"
   ]
  },
  {
   "cell_type": "code",
   "execution_count": 33,
   "metadata": {
    "collapsed": false
   },
   "outputs": [
    {
     "name": "stdout",
     "output_type": "stream",
     "text": [
      "2003\n",
      "SOUTHERN    25692\n",
      "Name: PdDistrict, dtype: int64\n",
      "2004\n",
      "SOUTHERN    24551\n",
      "Name: PdDistrict, dtype: int64\n",
      "2005\n",
      "SOUTHERN    23086\n",
      "Name: PdDistrict, dtype: int64\n",
      "2006\n",
      "SOUTHERN    23325\n",
      "Name: PdDistrict, dtype: int64\n",
      "2007\n",
      "SOUTHERN    24175\n",
      "Name: PdDistrict, dtype: int64\n",
      "2008\n",
      "SOUTHERN    24153\n",
      "Name: PdDistrict, dtype: int64\n",
      "2009\n",
      "SOUTHERN    24409\n",
      "Name: PdDistrict, dtype: int64\n",
      "2010\n",
      "SOUTHERN    26049\n",
      "Name: PdDistrict, dtype: int64\n",
      "2011\n",
      "SOUTHERN    24708\n",
      "Name: PdDistrict, dtype: int64\n",
      "2012\n",
      "SOUTHERN    25890\n",
      "Name: PdDistrict, dtype: int64\n",
      "2013\n",
      "SOUTHERN    29240\n",
      "Name: PdDistrict, dtype: int64\n",
      "2014\n",
      "SOUTHERN    28869\n",
      "Name: PdDistrict, dtype: int64\n",
      "2015\n",
      "SOUTHERN    30001\n",
      "Name: PdDistrict, dtype: int64\n",
      "2016\n",
      "SOUTHERN    11269\n",
      "Name: PdDistrict, dtype: int64\n"
     ]
    }
   ],
   "source": [
    "for year in years:\n",
    "    print(year)\n",
    "    print(df[df['Year'] == str(year)]['PdDistrict'].value_counts().head(1))"
   ]
  },
  {
   "cell_type": "markdown",
   "metadata": {},
   "source": [
    "### Why does Southern always have the most incidents?"
   ]
  },
  {
   "cell_type": "markdown",
   "metadata": {},
   "source": [
    "## 7) The second most?"
   ]
  },
  {
   "cell_type": "code",
   "execution_count": 34,
   "metadata": {
    "collapsed": false
   },
   "outputs": [
    {
     "name": "stdout",
     "output_type": "stream",
     "text": [
      "2003\n",
      "SOUTHERN    25692\n",
      "MISSION     21163\n",
      "Name: PdDistrict, dtype: int64\n",
      "2004\n",
      "SOUTHERN    24551\n",
      "MISSION     21029\n",
      "Name: PdDistrict, dtype: int64\n",
      "2005\n",
      "SOUTHERN    23086\n",
      "MISSION     19560\n",

      "2006\n",
      "SOUTHERN    23325\n",
      "MISSION     18916\n",
      "Name: PdDistrict, dtype: int64\n",
      "2007\n",
      "SOUTHERN    24175\n",
      "MISSION     18434\n",
      "Name: PdDistrict, dtype: int64\n",
      "2008\n",
      "SOUTHERN    24153\n",
      "MISSION     19721\n",
      "Name: PdDistrict, dtype: int64\n",
      "2009\n",
      "SOUTHERN    24409\n",
      "MISSION     19117\n",
      "Name: PdDistrict, dtype: int64\n",
      "2010\n",
      "SOUTHERN    26049\n",
      "MISSION     18121\n",
      "Name: PdDistrict, dtype: int64\n",
      "2011\n",
      "SOUTHERN    24708\n",
      "MISSION     18237\n",
      "Name: PdDistrict, dtype: int64\n",
      "2012\n",
      "SOUTHERN    25890\n",
      "MISSION     18786\n",
      "Name: PdDistrict, dtype: int64\n",
      "2013\n",
      "SOUTHERN    29240\n",
      "MISSION     21157\n",
      "Name: PdDistrict, dtype: int64\n",
      "2014\n",
      "SOUTHERN    28869\n",
      "MISSION     19441\n",
      "Name: PdDistrict, dtype: int64\n",
      "2015\n",
      "SOUTHERN    30001\n",
      "NORTHERN    20031\n",
      "Name: PdDistrict, dtype: int64\n",
      "2016\n",
      "SOUTHERN    11269\n",
      "NORTHERN     7991\n",
      "Name: PdDistrict, dtype: int64\n"
     ]
    }
   ],
   "source": [
    "for year in years:\n",
    "    print(year)\n",
    "    print(df[df['Year'] == str(year)]['PdDistrict'].value_counts().head(2))"
   ]
  },
  {
   "cell_type": "markdown",
   "metadata": {},
   "source": [
    "### Almost always the Mission until recently."
   ]
  },
  {
   "cell_type": "markdown",
   "metadata": {},
   "source": [
    "## 8) How has the number of incidents reported changed over the years?"
   ]
  },
  {
   "cell_type": "code",
   "execution_count": 35,
   "metadata": {
    "collapsed": false
   },
   "outputs": [
    {
     "data": {
      "text/plain": [
       "2015    156007\n",
       "2013    152811\n",
       "2014    150150\n",
       "2003    149176\n",
       "2004    148148\n",
       "2005    142186\n",
       "2008    141311\n",
       "2012    140856\n",
       "2009    139860\n",
       "2006    137853\n",
       "2007    137639\n",
       "2010    133525\n",
       "2011    132699\n",
       "2016     60597\n",
       "Name: Year, dtype: int64"
      ]
     },
     "execution_count": 35,
     "metadata": {},
     "output_type": "execute_result"
    }
   ],
   "source": [
    "df['Year'].value_counts()"
   ]
  },
  {
   "cell_type": "code",
   "execution_count": 36,
   "metadata": {
    "collapsed": false
   },
   "outputs": [
    {
     "data": {
      "text/plain": [
       "[{'Number of Incidents': 149176, 'Year': 2003},\n",
       " {'Number of Incidents': 148148, 'Year': 2004},\n",
       " {'Number of Incidents': 142186, 'Year': 2005},\n",
       " {'Number of Incidents': 137853, 'Year': 2006},\n",
       " {'Number of Incidents': 137639, 'Year': 2007},\n",
       " {'Number of Incidents': 141311, 'Year': 2008},\n",
       " {'Number of Incidents': 139860, 'Year': 2009},\n",
       " {'Number of Incidents': 133525, 'Year': 2010},\n",
       " {'Number of Incidents': 132699, 'Year': 2011},\n",
       " {'Number of Incidents': 140856, 'Year': 2012},\n",
       " {'Number of Incidents': 152811, 'Year': 2013},\n",
       " {'Number of Incidents': 150150, 'Year': 2014},\n",
       " {'Number of Incidents': 156007, 'Year': 2015},\n",
       " {'Number of Incidents': 60597, 'Year': 2016}]"
      ]
     },
     "execution_count": 36,
     "metadata": {},
     "output_type": "execute_result"
    }
   ],
   "source": [
    "incidents_per_year_dict = {}\n",
    "incidents_per_year_list = []\n",
    "years = list(range(2003, 2017))\n",
    "\n",
    "for year in years:\n",
    "    incidents_per_year_dict['Year'] = year\n",
    "    incidents_per_year_dict['Number of Incidents'] = len(df[df['Year'] == str(year)])\n",
    "    incidents_per_year_list.append(incidents_per_year_dict)\n",
    "    incidents_per_year_dict = {}\n",
    "incidents_per_year_list"
   ]
  },
  {
   "cell_type": "code",
   "execution_count": 37,
   "metadata": {
    "collapsed": false
   },
   "outputs": [
    {
     "data": {
      "text/plain": [
       "<matplotlib.axes._subplots.AxesSubplot at 0x11589cb00>"
      ]
     },
     "execution_count": 37,
     "metadata": {},
     "output_type": "execute_result"
    },
    {
     "data": {

      "text/plain": [
       "<matplotlib.figure.Figure at 0x11589c710>"
      ]
     },
     "metadata": {},
     "output_type": "display_data"
    }
   ],
   "source": [
    "incidents_per_year_df = pd.DataFrame(incidents_per_year_list)\n",
    "incidents_per_year_df.plot(kind = 'bar', x = 'Year', y = 'Number of Incidents')"
   ]
  },
  {
   "cell_type": "markdown",
   "metadata": {},
   "source": [
    "## 9) What time of day do most crimes happen?"
   ]
  },
  {
   "cell_type": "code",
   "execution_count": 38,
   "metadata": {
    "collapsed": false
   },
   "outputs": [
    {
     "data": {
      "text/plain": [
       "Index(['IncidntNum', 'Category', 'Descript', 'DayOfWeek', 'Date', 'Time',\n",
       "       'PdDistrict', 'Resolution', 'Address', 'X', 'Y', 'Location', 'Year'],\n",
       "      dtype='object')"
      ]
     },
     "execution_count": 38,
     "metadata": {},
     "output_type": "execute_result"
    }
   ],
   "source": [
    "df.columns"
   ]
  },
  {
   "cell_type": "code",
   "execution_count": 39,
   "metadata": {
    "collapsed": false
   },
   "outputs": [
    {
     "data": {
      "text/html": [
       "<div>\n",
       "<table border=\"1\" class=\"dataframe\">\n",
       "  <thead>\n",
       "    <tr style=\"text-align: right;\">\n",
       "      <th></th>\n",
       "      <th>IncidntNum</th>\n",
       "      <th>Category</th>\n",
       "      <th>Descript</th>\n",
       "      <th>DayOfWeek</th>\n",
       "      <th>Date</th>\n",
       "      <th>Time</th>\n",
       "      <th>PdDistrict</th>\n",
       "      <th>Resolution</th>\n",
       "      <th>Address</th>\n",
       "      <th>X</th>\n",
       "      <th>Y</th>\n",
       "      <th>Location</th>\n",
       "      <th>Year</th>\n",
       "    </tr>\n",
       "  </thead>\n",
       "  <tbody>\n",
       "    <tr>\n",
       "      <th>0</th>\n",
       "      <td>110914565</td>\n",
       "      <td>WARRANTS</td>\n",
       "      <td>WARRANT ARREST</td>\n",
       "      <td>Friday</td>\n",
       "      <td>05/29/2015 12:00:00 AM</td>\n",
       "      <td>16:42</td>\n",
       "      <td>SOUTHERN</td>\n",
       "      <td>ARREST, BOOKED</td>\n",
       "      <td>BRYANT ST / 8TH ST</td>\n",
       "      <td>-122.406971</td>\n",
       "      <td>37.772527</td>\n",
       "      <td>(37.7725273607571, -122.406970988225)</td>\n",
       "      <td>2015</td>\n",
       "    </tr>\n",
       "    <tr>\n",
       "      <th>1</th>\n",
       "      <td>120789988</td>\n",
       "      <td>MISSING PERSON</td>\n",
       "      <td>FOUND PERSON</td>\n",
       "      <td>Monday</td>\n",
       "      <td>05/16/2016 12:00:00 AM</td>\n",
       "      <td>00:41</td>\n",
       "      <td>INGLESIDE</td>\n",
       "      <td>NONE</td>\n",
       "      <td>WOOLSEY ST / UNIVERSITY ST</td>\n",
       "      <td>-122.412470</td>\n",
       "      <td>37.722659</td>\n",
       "      <td>(37.7226585129212, -122.412469643631)</td>\n",
       "      <td>2016</td>\n",
       "    </tr>\n",
       "    <tr>\n",
       "      <th>2</th>\n",
       "      <td>150020821</td>\n",
       "      <td>ASSAULT</td>\n",
       "      <td>ELDER ADULT OR DEPENDENT ABUSE (NOT EMBEZZLEME...</td>\n",
       "      <td>Friday</td>\n",
       "      <td>01/02/2015 12:00:00 AM</td>\n",
       "      <td>12:00</td>\n",
       "      <td>NORTHERN</td>\n",
       "      <td>NONE</td>\n",
       "      <td>300 Block of FULTON ST</td>\n",
       "      <td>-122.422536</td>\n",
       "      <td>37.778796</td>\n",
       "      <td>(37.7787958771466, -122.422536478306)</td>\n",
       "      <td>2015</td>\n",
       "    </tr>\n",
       "    <tr>\n",
       "      <th>3</th>\n",
       "      <td>150020978</td>\n",
       "      <td>OTHER OFFENSES</td>\n",
       "      <td>DRIVERS LICENSE, SUSPENDED OR REVOKED</td>\n",
       "      <td>Wednesday</td>\n",
       "      <td>01/07/2015 12:00:00 AM</td>\n",
       "      <td>19:21</td>\n",
       "      <td>CENTRAL</td>\n",
       "      <td>ARREST, BOOKED</td>\n",
       "      <td>MONTGOMERY ST / CHESTNUT ST</td>\n",
       "      <td>-122.405178</td>\n",
       "      <td>37.804764</td>\n",
       "      <td>(37.80476375718, -122.405178220847)</td>\n",
       "      <td>2015</td>\n",
       "    </tr>\n",
       "    <tr>\n",
       "      <th>4</th>\n",
       "      <td>150020984</td>\n",
       "      <td>ROBBERY</td>\n",
       "      <td>ROBBERY OF A CHAIN STORE WITH A DANGEROUS WEAPON</td>\n",
       "      <td>Wednesday</td>\n",
       "      <td>01/07/2015 12:00:00 AM</td>\n",
       "      <td>19:27</td>\n",
       "      <td>SOUTHERN</td>\n",
       "      <td>NONE</td>\n",
       "      <td>1100 Block of MARKET ST</td>\n",
       "      <td>-122.413564</td>\n",
       "      <td>37.779514</td>\n",
       "      <td>(37.779514030063, -122.413564091744)</td>\n",
       "      <td>2015</td>\n",
       "    </tr>\n",
       "  </tbody>\n",
       "</table>\n",
       "</div>"
      ],
      "text/plain": [
       "   IncidntNum        Category  \\\n",
       "0   110914565        WARRANTS   \n",
       "1   120789988  MISSING PERSON   \n",
       "2   150020821         ASSAULT   \n",
       "3   150020978  OTHER OFFENSES   \n",
       "4   150020984         ROBBERY   \n",
       "\n",
       "                                            Descript  DayOfWeek  \\\n",
       "0                                     WARRANT ARREST     Friday   \n",
       "1                                       FOUND PERSON     Monday   \n",
       "2  ELDER ADULT OR DEPENDENT ABUSE (NOT EMBEZZLEME...     Friday   \n",
       "3              DRIVERS LICENSE, SUSPENDED OR REVOKED  Wednesday   \n",
       "4   ROBBERY OF A CHAIN STORE WITH A DANGEROUS WEAPON  Wednesday   \n",
       "\n",

       "0  05/29/2015 12:00:00 AM  16:42   SOUTHERN  ARREST, BOOKED   \n",
       "1  05/16/2016 12:00:00 AM  00:41  INGLESIDE            NONE   \n",
       "2  01/02/2015 12:00:00 AM  12:00   NORTHERN            NONE   \n",
       "3  01/07/2015 12:00:00 AM  19:21    CENTRAL  ARREST, BOOKED   \n",
       "4  01/07/2015 12:00:00 AM  19:27   SOUTHERN            NONE   \n",
       "\n",
       "                       Address           X          Y  \\\n",
       "0           BRYANT ST / 8TH ST -122.406971  37.772527   \n",
       "1   WOOLSEY ST / UNIVERSITY ST -122.412470  37.722659   \n",
       "2       300 Block of FULTON ST -122.422536  37.778796   \n",
       "3  MONTGOMERY ST / CHESTNUT ST -122.405178  37.804764   \n",
       "4      1100 Block of MARKET ST -122.413564  37.779514   \n",
       "\n",
       "                                Location  Year  \n",
       "0  (37.7725273607571, -122.406970988225)  2015  \n",
       "1  (37.7226585129212, -122.412469643631)  2016  \n",
       "2  (37.7787958771466, -122.422536478306)  2015  \n",
       "3    (37.80476375718, -122.405178220847)  2015  \n",
       "4   (37.779514030063, -122.413564091744)  2015  "
      ]
     },
     "execution_count": 39,
     "metadata": {},
     "output_type": "execute_result"
    }
   ],
   "source": [
    "df.head()"
   ]
  },
  {
   "cell_type": "code",
   "execution_count": 40,
   "metadata": {
    "collapsed": false
   },
   "outputs": [],
   "source": [
    "import re"
   ]
  },
  {
   "cell_type": "code",
   "execution_count": 47,
   "metadata": {
    "collapsed": false
   },
   "outputs": [
    {
     "data": {
      "text/plain": [
       "array([110914565, 120789988, 150020821, 150020978, 150020984, 150020990,\n",
       "       150021045, 150021073, 150021233, 150021249])"
      ]
     },
     "execution_count": 47,
     "metadata": {},
     "output_type": "execute_result"
    }
   ],
   "source": [
    "df['IncidntNum'].head(10).unique()"
   ]
  },
  {
   "cell_type": "code",
   "execution_count": 59,
   "metadata": {
    "collapsed": false
   },
   "outputs": [
    {
     "name": "stdout",
     "output_type": "stream",
     "text": [
      "   IncidntNum        Category\n",
      "0   110914565        WARRANTS\n",
      "1   120789988  MISSING PERSON\n",
      "2   150020821         ASSAULT\n",
      "3   150020978  OTHER OFFENSES\n",
      "4   150020984         ROBBERY\n",
      "5   150020990  OTHER OFFENSES\n",
      "6   150021045     WEAPON LAWS\n",
      "7   150021073   LARCENY/THEFT\n",
      "8   150021233  OTHER OFFENSES\n",
      "9   150021249   LARCENY/THEFT\n",
      "0                WARRANTS\n",
      "1743069    OTHER OFFENSES\n",
      "Name: Category, dtype: object\n"
     ]
    }
   ],
   "source": [
    "## Troubleshooting the cell below\n",

    "print(df[df['IncidntNum'] == 110914565]['Category'])\n",
    "\n",
    "\n",
    "# print('')\n",
    "# print(df[df['IncidntNum'] == 120789988]['Category'])"
   ]
  },
  {
   "cell_type": "code",
   "execution_count": 46,
   "metadata": {
    "collapsed": false
   },
   "outputs": [
    {
     "name": "stdout",
     "output_type": "stream",
     "text": [
      "{'Category': 'WARRANTS'}\n"
     ]
    },
    {
     "ename": "KeyError",
     "evalue": "0",
     "output_type": "error",
     "traceback": [
      "\u001b[0;31m---------------------------------------------------------------------------\u001b[0m",
      "\u001b[0;31mKeyError\u001b[0m                                  Traceback (most recent call last)",
      "\u001b[0;32m<ipython-input-46-7f9312936d5c>\u001b[0m in \u001b[0;36m<module>\u001b[0;34m()\u001b[0m\n\u001b[1;32m      3\u001b[0m \u001b[0mtime_dict\u001b[0m \u001b[0;34m=\u001b[0m \u001b[0;34m{\u001b[0m\u001b[0;34m}\u001b[0m\u001b[0;34m\u001b[0m\u001b[0m\n\u001b[1;32m      4\u001b[0m \u001b[0;32mfor\u001b[0m \u001b[0mincident\u001b[0m \u001b[0;32min\u001b[0m \u001b[0mincidents\u001b[0m\u001b[0;34m:\u001b[0m\u001b[0;34m\u001b[0m\u001b[0m\n\u001b[0;32m----> 5\u001b[0;31m     \u001b[0mtime_dict\u001b[0m\u001b[0;34m[\u001b[0m\u001b[0;34m'Category'\u001b[0m\u001b[0;34m]\u001b[0m \u001b[0;34m=\u001b[0m \u001b[0mdf\u001b[0m\u001b[0;34m[\u001b[0m\u001b[0mdf\u001b[0m\u001b[0;34m[\u001b[0m\u001b[0;34m'IncidntNum'\u001b[0m\u001b[0;34m]\u001b[0m \u001b[0;34m==\u001b[0m \u001b[0mincident\u001b[0m\u001b[0;34m]\u001b[0m\u001b[0;34m[\u001b[0m\u001b[0;34m'Category'\u001b[0m\u001b[0;34m]\u001b[0m\u001b[0;34m[\u001b[0m\u001b[0;36m0\u001b[0m\u001b[0;34m]\u001b[0m\u001b[0;34m\u001b[0m\u001b[0m\n\u001b[0m\u001b[1;32m      6\u001b[0m \u001b[0;31m#     time_dict['Time'] = df[df['IncidntNum'] == incident]['Time'][0]\u001b[0m\u001b[0;34m\u001b[0m\u001b[0;34m\u001b[0m\u001b[0m\n\u001b[1;32m      7\u001b[0m     \u001b[0mprint\u001b[0m\u001b[0;34m(\u001b[0m\u001b[0mtime_dict\u001b[0m\u001b[0;34m)\u001b[0m\u001b[0;34m\u001b[0m\u001b[0m\n",
      "\u001b[0;32m/usr/local/lib/python3.5/site-packages/pandas/core/series.py\u001b[0m in \u001b[0;36m__getitem__\u001b[0;34m(self, key)\u001b[0m\n\u001b[1;32m    581\u001b[0m         \u001b[0mkey\u001b[0m \u001b[0;34m=\u001b[0m \u001b[0mcom\u001b[0m\u001b[0;34m.\u001b[0m\u001b[0m_apply_if_callable\u001b[0m\u001b[0;34m(\u001b[0m\u001b[0mkey\u001b[0m\u001b[0;34m,\u001b[0m \u001b[0mself\u001b[0m\u001b[0;34m)\u001b[0m\u001b[0;34m\u001b[0m\u001b[0m\n\u001b[1;32m    582\u001b[0m         \u001b[0;32mtry\u001b[0m\u001b[0;34m:\u001b[0m\u001b[0;34m\u001b[0m\u001b[0m\n\u001b[0;32m--> 583\u001b[0;31m             \u001b[0mresult\u001b[0m \u001b[0;34m=\u001b[0m \u001b[0mself\u001b[0m\u001b[0;34m.\u001b[0m\u001b[0mindex\u001b[0m\u001b[0;34m.\u001b[0m\u001b[0mget_value\u001b[0m\u001b[0;34m(\u001b[0m\u001b[0mself\u001b[0m\u001b[0;34m,\u001b[0m \u001b[0mkey\u001b[0m\u001b[0;34m)\u001b[0m\u001b[0;34m\u001b[0m\u001b[0m\n\u001b[0m\u001b[1;32m    584\u001b[0m \u001b[0;34m\u001b[0m\u001b[0m\n\u001b[1;32m    585\u001b[0m             \u001b[0;32mif\u001b[0m \u001b[0;32mnot\u001b[0m \u001b[0mlib\u001b[0m\u001b[0;34m.\u001b[0m\u001b[0misscalar\u001b[0m\u001b[0;34m(\u001b[0m\u001b[0mresult\u001b[0m\u001b[0;34m)\u001b[0m\u001b[0;34m:\u001b[0m\u001b[0;34m\u001b[0m\u001b[0m\n",
      "\u001b[0;32m/usr/local/lib/python3.5/site-packages/pandas/indexes/base.py\u001b[0m in \u001b[0;36mget_value\u001b[0;34m(self, series, key)\u001b[0m\n\u001b[1;32m   1978\u001b[0m         \u001b[0;32mtry\u001b[0m\u001b[0;34m:\u001b[0m\u001b[0;34m\u001b[0m\u001b[0m\n\u001b[1;32m   1979\u001b[0m             return self._engine.get_value(s, k,\n\u001b[0;32m-> 1980\u001b[0;31m                                           tz=getattr(series.dtype, 'tz', None))\n\u001b[0m\u001b[1;32m   1981\u001b[0m         \u001b[0;32mexcept\u001b[0m \u001b[0mKeyError\u001b[0m \u001b[0;32mas\u001b[0m \u001b[0me1\u001b[0m\u001b[0;34m:\u001b[0m\u001b[0;34m\u001b[0m\u001b[0m\n\u001b[1;32m   1982\u001b[0m             \u001b[0;32mif\u001b[0m \u001b[0mlen\u001b[0m\u001b[0;34m(\u001b[0m\u001b[0mself\u001b[0m\u001b[0;34m)\u001b[0m \u001b[0;34m>\u001b[0m \u001b[0;36m0\u001b[0m \u001b[0;32mand\u001b[0m \u001b[0mself\u001b[0m\u001b[0;34m.\u001b[0m\u001b[0minferred_type\u001b[0m \u001b[0;32min\u001b[0m \u001b[0;34m[\u001b[0m\u001b[0;34m'integer'\u001b[0m\u001b[0;34m,\u001b[0m \u001b[0;34m'boolean'\u001b[0m\u001b[0;34m]\u001b[0m\u001b[0;34m:\u001b[0m\u001b[0;34m\u001b[0m\u001b[0m\n",
      "\u001b[0;32mpandas/index.pyx\u001b[0m in \u001b[0;36mpandas.index.IndexEngine.get_value (pandas/index.c:3332)\u001b[0;34m()\u001b[0m\n",
      "\u001b[0;32mpandas/index.pyx\u001b[0m in \u001b[0;36mpandas.index.IndexEngine.get_value (pandas/index.c:3035)\u001b[0;34m()\u001b[0m\n",
      "\u001b[0;32mpandas/index.pyx\u001b[0m in \u001b[0;36mpandas.index.IndexEngine.get_loc (pandas/index.c:4018)\u001b[0;34m()\u001b[0m\n",
      "\u001b[0;32mpandas/hashtable.pyx\u001b[0m in \u001b[0;36mpandas.hashtable.Int64HashTable.get_item (pandas/hashtable.c:6610)\u001b[0;34m()\u001b[0m\n",
      "\u001b[0;32mpandas/hashtable.pyx\u001b[0m in \u001b[0;36mpandas.hashtable.Int64HashTable.get_item (pandas/hashtable.c:6554)\u001b[0;34m()\u001b[0m\n",
      "\u001b[0;31mKeyError\u001b[0m: 0"
     ]
    }
   ],
   "source": [
    "incidents = df['IncidntNum'].head(10).unique()\n",
    "time_list = []\n",
    "time_dict = {}\n",
    "for incident in incidents:\n",
    "    time_dict['Category'] = df[df['IncidntNum'] == incident]['Category'][0]\n",
    "#     time_dict['Time'] = df[df['IncidntNum'] == incident]['Time'][0]\n",
    "    print(time_dict)\n",
    "    time_dict = {}\n",
    "# times = df[['Category', 'Time']].to_dict()\n",
    "# times"
   ]
  },
  {
   "cell_type": "markdown",
   "metadata": {},
   "source": [
    "## 10) What time of day does each type of incident usually happen?"
   ]
  },
  {
   "cell_type": "code",
   "execution_count": null,
   "metadata": {
    "collapsed": false
   },
   "outputs": [],
   "source": []
  },
  {
   "cell_type": "markdown",
   "metadata": {
    "collapsed": true
   },
   "source": [
    "## 11) What types of resolutions are there?"
   ]
  },
  {
   "cell_type": "code",
   "execution_count": null,
   "metadata": {
    "collapsed": true
   },
   "outputs": [],
   "source": []
  },
  {
   "cell_type": "markdown",
   "metadata": {
    "collapsed": true
   },
   "source": [
    "## 12) How frequently does each occur?"
   ]
  },
  {
   "cell_type": "code",
   "execution_count": null,
   "metadata": {
    "collapsed": true
   },
   "outputs": [],
   "source": []
  },
  {
   "cell_type": "markdown",
   "metadata": {},
   "source": [
    "## 13) What percent of each type of crime goes unsolved?"
   ]
  },
  {
   "cell_type": "code",
   "execution_count": null,
   "metadata": {
    "collapsed": true
   },
   "outputs": [],
   "source": []
  },
  {
   "cell_type": "markdown",
   "metadata": {},
   "source": [
    "## 14) Group by year and make graphs for each."
   ]
  },
  {
   "cell_type": "code",
   "execution_count": null,
   "metadata": {
    "collapsed": true
   },
   "outputs": [],
   "source": []
  },
  {
   "cell_type": "markdown",
   "metadata": {},
   "source": [
    "## 15) This year, what types of incidents are most popular in each district?"
   ]
  },
  {

   "execution_count": null,
   "metadata": {
    "collapsed": true
   },
   "outputs": [],
   "source": []
  },
  {
   "cell_type": "markdown",
   "metadata": {},
   "source": [
    "## 16) For the most popular type of incident in Park District, how has its frequency changed over the years (in times/month, since this year isn't over)."
   ]
  },
  {
   "cell_type": "code",
   "execution_count": null,
   "metadata": {
    "collapsed": true
   },
   "outputs": [],
   "source": []
  },
  {
   "cell_type": "markdown",
   "metadata": {},
   "source": [
    "## 17) How many incidents include the word 'dog'?"
   ]
  },
  {
   "cell_type": "code",
   "execution_count": null,
   "metadata": {
    "collapsed": true
   },
   "outputs": [],
   "source": []
  },
  {
   "cell_type": "markdown",
   "metadata": {},
   "source": [
    "## 18) How many incidents include the word 'cat'?"
   ]
  },
  {
   "cell_type": "markdown",
   "metadata": {},
   "source": [
    "## Non-Data Questions:\n",
    "* Which incident categories are violent?\n",
    "* Which incident categories are actually successes (things closed)\n",
    "* Which crime categories are actually important? "
   ]
  },
  {
   "cell_type": "markdown",
   "metadata": {},
   "source": [
    "# Problematic Things"
   ]
  },
  {
   "cell_type": "markdown",
   "metadata": {},
   "source": [
    "* Making multiple graphs\n",
    "* Replacing NaN with another value\n",
    "* How to make graphs look better! Illustrator?"
   ]
  },
  {
   "cell_type": "code",
   "execution_count": null,
   "metadata": {
    "collapsed": true
   },
   "outputs": [],
   "source": []
  }
 ],
 "metadata": {
  "kernelspec": {
   "display_name": "Python 3",
   "language": "python",
   "name": "python3"
  },
  "language_info": {
   "codemirror_mode": {
    "name": "ipython",
    "version": 3
   },
   "file_extension": ".py",
   "mimetype": "text/x-python",
   "name": "python",
   "nbconvert_exporter": "python",
   "pygments_lexer": "ipython3",
   "version": "3.5.1"
  }
 },
 "nbformat": 4,
 "nbformat_minor": 0
}
