{
 "cells": [
  {
   "cell_type": "markdown",
   "metadata": {},
   "source": [
    "### Grade: 8 / 8"
   ]
  },
  {
   "cell_type": "markdown",
   "metadata": {},
   "source": [
    "All API's: http://developer.nytimes.com/\n",
    "Article search API: http://developer.nytimes.com/article_search_v2.json\n",
    "Best-seller API: http://developer.nytimes.com/books_api.json#/Documentation\n",
    "Test/build queries: http://developer.nytimes.com/\n",
    "\n",
    "Tip: Remember to include your API key in all requests! And their interactive web thing is pretty bad. You'll need to register for the API key."
   ]
  },
  {
   "cell_type": "code",
   "execution_count": 2,
   "metadata": {
    "collapsed": false
   },
   "outputs": [],
   "source": [
    "import requests"
   ]
  },
  {
   "cell_type": "markdown",
   "metadata": {},
   "source": [
    "1) What books topped the Hardcover Fiction NYT best-sellers list on Mother's Day in 2009 and 2010? How about Father's Day?"
   ]
  },
  {
   "cell_type": "code",
   "execution_count": 72,
   "metadata": {
    "collapsed": false
   },
   "outputs": [
    {
     "name": "stdout",
     "output_type": "stream",
     "text": [
      "On 2009-05-10 this was the hardcover fiction NYT best-sellers list:\n",
      "FIRST FAMILY\n",
      "TEA TIME FOR THE TRADITIONALLY BUILT\n",
      "LOITERING WITH INTENT\n",
      "JUST TAKE MY HEART\n",
      "THE PERFECT POISON\n",
      "THE HOST\n",
      "LOOK AGAIN\n",
      "DEADLOCK\n",
      "LONG LOST\n",
      "TURN COAT\n",
      "THE ASSOCIATE\n",
      "HANDLE WITH CARE\n",
      "THE HELP\n",
      "THE GUERNSEY LITERARY AND POTATO PEEL PIE SOCIETY\n",
      "FATALLY FLAKY\n",
      "ARTHAS\n",
      "A RELIABLE WIFE\n",
      "BORDERLINE\n",
      "ONE SECOND AFTER\n",
      "BONEMAN'S DAUGHTERS\n",
      "\n",
      "On 2010-05-09 this was the hardcover fiction NYT best-sellers list:\n",
      "DELIVER US FROM EVIL\n",
      "THE HELP\n",
      "THE DOUBLE COMFORT SAFARI CLUB\n",
      "THIS BODY OF DEATH\n",
      "LUCID INTERVALS\n",
      "THE SHADOW OF YOUR SMILE\n",
      "BURNING LAMP\n",
      "EVERY LAST ONE\n",
      "EIGHT DAYS TO LIVE\n",
      "CHANGES\n",
      "CAUGHT\n",
      "HOUSE RULES\n",
      "MATTERHORN\n",
      "THE WALK\n",
      "DECEPTION\n",
      "BEATRICE AND VIRGIL\n",
      "WRECKED\n",
      "SILVER BORNE\n",
      "ABRAHAM LINCOLN: VAMPIRE HUNTER\n",
      "A RIVER IN THE SKY\n",
      "\n",
      "On 2009-06-21 this was the hardcover fiction NYT best-sellers list:\n",
      "SKIN TRADE\n",
      "MEDUSA\n",
      "THE SCARECROW\n",
      "SHANGHAI GIRLS\n",
      "MATTERS OF THE HEART\n",
      "GONE TOMORROW\n",
      "DEAD AND GONE\n",
      "THE 8TH CONFESSION\n",
      "THE STRAIN\n",
      "WICKED PREY\n",
      "THE HOST\n",
      "FIRST FAMILY\n",
      "CEMETERY DANCE\n",
      "UNDEAD AND UNWELCOME\n",
      "THE HELP\n",
      "PYGMY\n",
      "MY FATHER'S TEARS AND OTHER STORIES\n",
      "ROAD DOGS\n",
      "THE STORY SISTERS\n",
      "HEARTLESS\n",
      "\n",
      "On 2010-06-20 this was the hardcover fiction NYT best-sellers list:\n",
      "THE GIRL WHO KICKED THE HORNET’S NEST\n",
      "BULLET\n",
      "THE SPY\n",
      "THE HELP\n",
      "DEAD IN THE FAMILY\n",
      "61 HOURS\n",
      "THE BURNING WIRE\n",
      "STORM PREY\n",
      "THE BOURNE OBJECTIVE\n",
      "INNOCENT\n",
      "HEART OF THE MATTER\n",
      "THE 9TH JUDGMENT\n",
      "BLOCKADE BILLY\n",
      "ALLIES\n",
      "THE RULE OF NINE\n",
      "FEVER DREAM\n",
      "DELIVER US FROM EVIL\n",
      "MATTERHORN\n",
      "THE PARTICULAR SADNESS OF LEMON CAKE\n",
      "DANGEROUS\n",
      "\n"
     ]
    }
   ],
   "source": [
    "dates = ['2009-05-10', '2010-05-09', '2009-06-21', '2010-06-20']\n",
    "for date in dates:\n",
    "    response = requests.get('https://api.nytimes.com/svc/books/v3/lists//.json?list-name=hardcover-fiction&published-date=' + date + '&api-key=1a25289d587a49b7ba8128badd7088a2')\n",
    "    data = response.json()\n",
    "    print('On', date, 'this was the hardcover fiction NYT best-sellers list:')\n",
    "    for item in data['results']:\n",
    "        for book in item['book_details']:\n",
    "            print(book['title'])\n",
    "    print('')"
   ]
  },
  {
   "cell_type": "markdown",
   "metadata": {},
   "source": [
    "2) What are all the different book categories the NYT ranked in June 6, 2009? How about June 6, 2015?"
   ]
  },
  {
   "cell_type": "code",
   "execution_count": 90,
   "metadata": {
    "collapsed": false
   },
   "outputs": [
    {
     "name": "stdout",
     "output_type": "stream",
     "text": [
      "On 2009-06-06, these were the different book categories the NYT ranked:\n",
      "E-Book Fiction, Hardcover Advice, Business Books, Race and Civil Rights, Family, Celebrities, Young Adult, Paperback Advice, Mass Market Paperback, Childrens Middle Grade E-Book, Travel, Crime and Punishment, Childrens Middle Grade, Young Adult E-Book, Trade Fiction Paperback, Animals, Indigenous Americans, Education, Health, Relationships, Combined Print Nonfiction, Hardcover Fiction, Food and Fitness, Hardcover Business Books, Hardcover Graphic Books, Combined Print and E-Book Fiction, E-Book Nonfiction, Combined Print and E-Book Nonfiction, Culture, Science, Young Adult Hardcover, Paperback Graphic Books, Humor, Series Books, Young Adult Paperback, Fashion Manners and Customs, Picture Books, Espionage, Hardcover Nonfiction, Religion Spirituality and Faith, Paperback Nonfiction, Advice How-To and Miscellaneous, Chapter Books, Manga, Combined Print Fiction, Childrens Middle Grade Hardcover, Paperback Business Books, Sports, Expeditions Disasters and Adventures, Hardcover Political Books, Paperback Books, Childrens Middle Grade Paperback, Games and Activities\n",
      "\n",
      "On 2015-06-06, these were the different book categories the NYT ranked:\n",
      "E-Book Fiction, Hardcover Advice, Business Books, Race and Civil Rights, Family, Celebrities, Young Adult, Paperback Advice, Mass Market Paperback, Childrens Middle Grade E-Book, Travel, Crime and Punishment, Childrens Middle Grade, Young Adult E-Book, Trade Fiction Paperback, Animals, Indigenous Americans, Education, Health, Relationships, Combined Print Nonfiction, Hardcover Fiction, Food and Fitness, Hardcover Business Books, Hardcover Graphic Books, Combined Print and E-Book Fiction, E-Book Nonfiction, Combined Print and E-Book Nonfiction, Culture, Science, Young Adult Hardcover, Paperback Graphic Books, Humor, Series Books, Young Adult Paperback, Fashion Manners and Customs, Picture Books, Espionage, Hardcover Nonfiction, Religion Spirituality and Faith, Paperback Nonfiction, Advice How-To and Miscellaneous, Chapter Books, Manga, Combined Print Fiction, Childrens Middle Grade Hardcover, Paperback Business Books, Sports, Expeditions Disasters and Adventures, Hardcover Political Books, Paperback Books, Childrens Middle Grade Paperback, Games and Activities\n",
      "\n"
     ]
    }
   ],
   "source": [
    "cat_dates = ['2009-06-06', '2015-06-06']\n",
    "for date in cat_dates:\n",
    "    cat_response = requests.get('https://api.nytimes.com/svc/books/v3/lists/names.json?published-date=' + date + '&api-key=1a25289d587a49b7ba8128badd7088a2')\n",
    "    cat_data = cat_response.json()\n",
    "    print('On', date + ', these were the different book categories the NYT ranked:')\n",
    "    categories = []\n",
    "    for result in cat_data['results']:\n",
    "        categories.append(result['list_name'])\n",
    "    print(', '.join(set(categories)))\n",
    "    print('')"
   ]
  },
  {
   "cell_type": "markdown",
   "metadata": {},
   "source": [
    "3) Muammar Gaddafi's name can be transliterated many many ways. His last name is often a source of a million and one versions - Gadafi, Gaddafi, Kadafi, and Qaddafi to name a few. How many times has the New York Times referred to him by each of those names?\n",
    "\n",
    "Tip: Add \"Libya\" to your search to make sure (-ish) you're talking about the right guy."
   ]
  },
  {
   "cell_type": "code",
   "execution_count": 195,
   "metadata": {
    "collapsed": false
   },
   "outputs": [
    {
     "name": "stdout",
     "output_type": "stream",
     "text": [
      "There are 0 instances of the spelling Gadafi.\n",
      "There are 1025 instances of the spelling Gaddafi.\n",
      "There are 4 instances of the spelling Kadafi.\n",
      "There are 5687 instances of the spelling Qaddafi.\n"
     ]
    }
   ],
   "source": [
    "gaddafis = ['Gadafi', 'Gaddafi', 'Kadafi', 'Qaddafi']\n",
    "\n",
    "for gaddafi in gaddafis:\n",
    "    g_response = requests.get('https://api.nytimes.com/svc/search/v2/articlesearch.json?q=' + gaddafi + '+libya&api-key=1a25289d587a49b7ba8128badd7088a2')\n",
    "    g_data = g_response.json()\n",
    "    print('There are', g_data['response']['meta']['hits'], 'instances of the spelling', gaddafi + '.')"
   ]
  },
  {
   "cell_type": "code",
   "execution_count": 1,
   "metadata": {
    "collapsed": true
   },
   "outputs": [],
   "source": [
    "# TA-COMMENT: As per usual, your commented code is excellent! I love how you're thinking through what might work. "
   ]
  },
  {
   "cell_type": "code",
   "execution_count": 205,
   "metadata": {
    "collapsed": false
   },
   "outputs": [],
   "source": [
    "# #HELP try 1.\n",
    "# #Doesn't show next pages.\n",
    "# gaddafis = ['Gadafi', 'Gaddafi', 'Kadafi', 'Qaddafi']\n",
    "\n",
    "# for gaddafi in gaddafis:\n",
    "#     g_response = requests.get('https://api.nytimes.com/svc/search/v2/articlesearch.json?q=' + gaddafi + '+libya&page=0&api-key=1a25289d587a49b7ba8128badd7088a2')\n",
    "#     g_data = g_response.json()\n",
    "#     print('There are', len(g_data['response']['docs']), 'instances of the spelling', gaddafi)"
   ]
  },
  {
   "cell_type": "code",
   "execution_count": 206,
   "metadata": {
    "collapsed": false
   },
   "outputs": [],
   "source": [
    "# #HELP try 2. What I want to do next is \n",
    "# #if the number of articles != 10 , stop\n",
    "# #else, add 1 to the page number\n",
    "\n",
    "# #Tell it to loop until the end result is not 10\n",
    "\n",
    "# #but right now it keeps crashing\n",
    "# #Maybe try by powers of 2.\n",
    "\n",
    "# import time, sys\n",
    "# pages = range(400)\n",
    "# total_articles = 0\n",
    "# for page in pages:\n",
    "#     g_response = requests.get('https://api.nytimes.com/svc/search/v2/articlesearch.json?q=gaddafi+libya&page=' + str(page) + '&api-key=1a25289d587a49b7ba8128badd7088a2')\n",
    "#     g_data = g_response.json()\n",
    "#     articles_on_pg = len(g_data['response']['docs'])\n",
    "#     total_articles = total_articles + articles_on_pg\n",
    "#     print(total_articles)\n",
    "#     time.sleep(0.6)"
   ]
  },
  {
   "cell_type": "code",
   "execution_count": 207,
   "metadata": {
    "collapsed": false
   },
   "outputs": [],
   "source": [
    "#HELP try 3. Trying by powers of 2.\n",
    "\n",
    "#OMG does 'hits' means the number of articles with this text?? If so, where could I find that in the README??\n",
    "\n",
    "# numbers = range(10)\n",
    "# pages = []\n",
    "\n",
    "# for number in numbers:\n",
    "#     pages.append(2 ** number)\n",
    "\n",
    "# #temp\n",
    "# print(pages)\n",
    "\n",
    "# import time, sys\n",
    "# total_articles = 0\n",
    "# for page in pages:\n",
    "#     g_response = requests.get('https://api.nytimes.com/svc/search/v2/articlesearch.json?q=gaddafi+libya&page=' + str(page) + '&api-key=1a25289d587a49b7ba8128badd7088a2')\n",
    "#     g_data = g_response.json()\n",
    "#     articles_on_pg = len(g_data['response']['docs'])\n",
    "#     #temp\n",
    "#     meta_on_pg = g_data['response']['meta']\n",
    "\n",
    "#     print(page, articles_on_pg, meta_on_pg)\n",
    "#     time.sleep(1)"
   ]
  },
  {
   "cell_type": "code",
   "execution_count": 208,
   "metadata": {
    "collapsed": false
   },
   "outputs": [],
   "source": [
    "# #HELP (troubleshooting the page number that returns a keyerror)\n",
    "# #By trial and error, it seems like \"101\" breaks it. 100 is fine.\n",
    "\n",
    "# g_response = requests.get('https://api.nytimes.com/svc/search/v2/articlesearch.json?q=gadafi+libya&page=101&api-key=1a25289d587a49b7ba8128badd7088a2')\n",
    "# g_data = g_response.json()\n",
    "# articles_on_pg = len(g_data['response']['docs'])\n",
    "# print(articles_on_pg)"
   ]
  },
  {
   "cell_type": "markdown",
   "metadata": {},
   "source": [
    "4) What's the title of the first story to mention the word 'hipster' in 1995? What's the first paragraph?"
   ]
  },
  {
   "cell_type": "code",
   "execution_count": 161,
   "metadata": {
    "collapsed": false
   },
   "outputs": [
    {
     "name": "stdout",
     "output_type": "stream",
     "text": [
      "The first hipster article of 1995 was titled SOUND.\n",
      "Check it out:\n",
      "Portable record players with built-in speakers, from the 1960's, are the latest points on hipster score cards. In some cases, they are the only way to listen to many of the old LP or 45-r.p.m. recordings still around but not released on cassette or CD. Usually available in white plastic or metal, they can be found in flea markets and secondhand stores. One style has the arm cast in the shape of a cobra. (Don Hogan Charles/The New York Times)\n"
     ]
    }
   ],
   "source": [
    "hip_response = requests.get('https://api.nytimes.com/svc/search/v2/articlesearch.json?q=hipster&begin_date=19950101&sort=oldest&api-key=1a25289d587a49b7ba8128badd7088a2')\n",
    "hip_data = hip_response.json()\n",
    "first_hipster = hip_data['response']['docs'][0]\n",
    "print('The first hipster article of 1995 was titled', first_hipster['headline']['main'] + '.\\nCheck it out:\\n' + first_hipster['lead_paragraph'])"
   ]
  },
  {
   "cell_type": "markdown",
   "metadata": {},
   "source": [
    "5) How many times was gay marriage mentioned in the NYT between 1950-1959, 1960-1969, 1970-1978, 1980-1989, 1990-2099, 2000-2009, and 2010-present?\n",
    "\n",
    "Tip: You'll want to put quotes around the search term so it isn't just looking for \"gay\" and \"marriage\" in the same article.\n",
    "\n",
    "Tip: Write code to find the number of mentions between Jan 1, 1950 and Dec 31, 1959."
   ]
  },
  {
   "cell_type": "code",
   "execution_count": 204,
   "metadata": {
    "collapsed": false
   },
   "outputs": [
    {
     "name": "stdout",
     "output_type": "stream",
     "text": [
      "0\n",
      "0\n",
      "0\n",
      "3\n",
      "137\n",
      "4748\n"
     ]
    }
   ],
   "source": [
    "decade_range = range(5)\n",
    "date_attributes = []\n",
    "for decade in decade_range:\n",
    "    date_attributes.append('begin_date=' + str(1950 + decade*10) +'0101&end_date=' + str(1959 + decade*10) + '1231')\n",
    "date_attributes.append('begin_date=20100101')\n",
    "\n",
    "for date in date_attributes:\n",
    "    gm_response = requests.get('https://api.nytimes.com/svc/search/v2/articlesearch.json?q=\"gay+marriage\"&' + date + '&api-key=1a25289d587a49b7ba8128badd7088a2')\n",
    "    gm_data = gm_response.json()\n",
    "    hits = gm_data['response']['meta']['hits']\n",
    "    print(hits)"
   ]
  },
  {
   "cell_type": "markdown",
   "metadata": {},
   "source": [
    "6) What section talks about motorcycles the most?\n",
    "\n",
    "Tip: You'll be using facets"
   ]
  },
  {
   "cell_type": "code",
   "execution_count": 9,
   "metadata": {
    "collapsed": false
   },
   "outputs": [
    {
     "name": "stdout",
     "output_type": "stream",
     "text": [
      "[{'term': 'New York and Region', 'count': 24}, {'term': 'Sports', 'count': 22}, {'term': 'Arts', 'count': 20}, {'term': 'U.S.', 'count': 20}, {'term': 'World', 'count': 15}]\n",
      "New York and Region talks about motorcycles the most, with 24 articles.\n"
     ]
    }
   ],
   "source": [
    "#I searched for motorcyle or motorcycles\n",
    "\n",
    "# for motorcyles:\n",
    "# {'count': 10, 'term': 'New York and Region'}\n",
    "# {'count': 10, 'term': 'New York and Region'}\n",
    "# {'count': 7, 'term': 'World'}\n",
    "# {'count': 6, 'term': 'Arts'}\n",
    "# {'count': 6, 'term': 'Business'}\n",
    "# {'count': 5, 'term': 'U.S.'}\n",
    "# for motorcycle:\n",
    "# {'count': 24, 'term': 'Sports'}\n",
    "# {'count': 24, 'term': 'Sports'}\n",
    "# {'count': 20, 'term': 'New York and Region'}\n",
    "# {'count': 16, 'term': 'U.S.'}\n",
    "# {'count': 14, 'term': 'Arts'}\n",
    "# {'count': 8, 'term': 'Business'} \n",
    "\n",
    "moto_response = requests.get('https://api.nytimes.com/svc/search/v2/articlesearch.json?q=motorcyle+OR+motorcyles&facet_field=section_name&api-key=1a25289d587a49b7ba8128badd7088a2')\n",
    "moto_data = moto_response.json()\n",
    "# #temp. Answer: dict\n",
    "# print(type(moto_data))\n",
    "# #temp. Answer: ['status', 'copyright', 'response']\n",
    "# print(moto_data.keys())\n",
    "# #temp. Answer: dict\n",
    "# print(type(moto_data['response']))\n",
    "# #temp. Answer: ['docs', 'meta', 'facets']\n",
    "# print(moto_data['response'].keys())\n",
    "# #temp. Answer: dict\n",
    "# print(type(moto_data['response']['facets']))\n",
    "# #temp. Answer: 'section_name'\n",
    "# print(moto_data['response']['facets'].keys())\n",
    "# #temp. Answer: dict\n",
    "# print(type(moto_data['response']['facets']['section_name']))\n",
    "# #temp. Answer:'terms'\n",
    "# print(moto_data['response']['facets']['section_name'].keys())\n",
    "# #temp. Answer: list\n",
    "# print(type(moto_data['response']['facets']['section_name']['terms']))\n",
    "# #temp. It's a list of dictionaries, with a count and a section name for each one.\n",
    "# print(moto_data['response']['facets']['section_name']['terms'][0])\n",
    "\n",
    "sections = moto_data['response']['facets']['section_name']['terms']\n",
    "\n",
    "the_most = 0\n",
    "for section in sections:\n",
    "    if section['count'] > the_most:\n",
    "        the_most = section['count']\n",
    "        the_most_name = section['term']\n",
    "print(the_most_name, 'talks about motorcycles the most, with', the_most, 'articles.')\n",
    "\n",
    "# #Q: WHY DO SO FEW ARTICLES MENTION MOTORCYCLES? \n",
    "# #A: MAYBE BECAUSE MANY ARTICLES AREN'T IN SECTIONS?\n",
    "# #temp. Answer: {'hits': 312, 'offset': 0, 'time': 24}\n",
    "# print(moto_data['response']['meta'])\n",
    "\n",
    "# #temp. Answer: ['document_type', 'blog', 'multimedia', 'pub_date', \n",
    "# #'news_desk', 'keywords', 'byline', '_id', 'headline', 'snippet', \n",
    "# #'source', 'lead_paragraph', 'web_url', 'print_page', 'slideshow_credits', \n",
    "# #'abstract', 'section_name', 'word_count', 'subsection_name', 'type_of_material']\n",
    "# print(moto_data['response']['docs'][0].keys())\n",
    "# #temp. Answer: Sports\n",
    "# #print(moto_data['response']['docs'][0]['section_name'])\n",
    "# #temp.\n",
    "# # Sports\n",
    "# # Sports\n",
    "# # Sports\n",
    "# # None\n",
    "# # Multimedia/Photos\n",
    "# # Multimedia/Photos\n",
    "# # Multimedia/Photos\n",
    "# # New York and Region\n",
    "# # None\n",
    "# # New York and Region\n",
    "# # New York and Region\n",
    "# for article in moto_data['response']['docs']:\n",
    "#     print(article['section_name'])\n",
    "# #temp. 10. There are only 10 because only 10 show up in search results.\n",
    "# print(len(moto_data['response']['docs']))"
   ]
  },
  {
   "cell_type": "markdown",
   "metadata": {},
   "source": [
    "7) How many of the last 20 movies reviewed by the NYT were Critics' Picks? How about the last 40? The last 60?\n",
    "<p>Tip: You really don't want to do this 3 separate times (1-20, 21-40 and 41-60) and add them together. What if, perhaps, you were able to figure out how to combine two lists? Then you could have a 1-20 list, a 1-40 list, and a 1-60 list, and then just run similar code for each of them."
   ]
  },
  {
   "cell_type": "code",
   "execution_count": 286,
   "metadata": {
    "collapsed": false
   },
   "outputs": [
    {
     "name": "stdout",
     "output_type": "stream",
     "text": [
      "In the most recent 0 to 20 movies, the critics liked 10 movies.\n",
      "In the past 20 reviews, the critics liked 10 movies.\n",
      "\n",
      "In the most recent 20 to 40 movies, the critics liked 4 movies.\n",
      "In the past 40 reviews, the critics liked 14 movies.\n",
      "\n",
      "In the most recent 40 to 60 movies, the critics liked 10 movies.\n",
      "In the past 60 reviews, the critics liked 24 movies.\n",
      "\n"
     ]
    }
   ],
   "source": [
    "offsets = range(3)\n",
    "picks_by_group = []\n",
    "\n",
    "for offset in offsets:\n",
    "    picks_response = requests.get('https://api.nytimes.com/svc/movies/v2/reviews/search.json?offset=' + str(offset * 20) + '&api-key=1a25289d587a49b7ba8128badd7088a2')\n",
    "    picks_data = picks_response.json()\n",
    "    \n",
    "    results = picks_data['results']\n",
    "    picks = 0\n",
    "\n",
    "    for result in results:\n",
    "        if result['critics_pick'] == 1:\n",
    "            picks = picks + 1\n",
    "    picks_by_group.append(picks)\n",
    "    print('In the most recent', offset * 20, 'to', offset * 20 + 20, 'movies, the critics liked', picks, 'movies.')\n",
    "    print('In the past', (offset + 1) * 20, 'reviews, the critics liked', sum(picks_by_group), 'movies.')\n",
    "    print('')\n",
    "    \n",
    "\n"
   ]
  },
  {
   "cell_type": "code",
   "execution_count": null,
   "metadata": {
    "collapsed": true
   },
   "outputs": [],
   "source": [
    "# #temp. Answer: ['has_more', 'status', 'results', 'copyright', 'num_results']\n",
    "# print(picks_data.keys())\n",
    "# #temp. 20\n",
    "# #not what we're looking for\n",
    "# print(picks_data['num_results'])\n",
    "# #temp. Answer: list\n",
    "# print(type(picks_data['results']))\n",
    "# #temp.\n",
    "# print(picks_data['results'][0])\n",
    "# #temp. Answer: ['display_title', 'headline', 'mpaa_rating', 'critics_pick', \n",
    "# #'publication_date', 'link', 'summary_short', 'byline', 'opening_date', 'multimedia', 'date_updated']\n",
    "# print(picks_data['results'][0].keys())"
   ]
  },
  {
   "cell_type": "markdown",
   "metadata": {
    "collapsed": true
   },
   "source": [
    "8) Out of the last 40 movie reviews from the NYT, which critic has written the most reviews?"
   ]
  },
  {
   "cell_type": "code",
   "execution_count": 287,
   "metadata": {
    "collapsed": false
   },
   "outputs": [
    {
     "name": "stdout",
     "output_type": "stream",
     "text": [
      "['STEPHEN HOLDEN', 'MANOHLA DARGIS', 'STEPHEN HOLDEN', 'A. O. SCOTT', 'STEPHEN HOLDEN', 'NEIL GENZLINGER', 'BEN KENIGSBERG', 'GLENN KENNY', 'NEIL GENZLINGER', 'HELEN T. VERONGOS', 'BEN KENIGSBERG', 'GLENN KENNY', 'JEANNETTE CATSOULIS', 'GLENN KENNY', 'ANDY WEBSTER', 'A. O. SCOTT', 'HELEN T. VERONGOS', 'JEANNETTE CATSOULIS', 'ANDY WEBSTER', 'GLENN KENNY', 'KEN JAWOROWSKI', 'ANDY WEBSTER', 'A. O. SCOTT', 'NICOLAS RAPOLD', 'STEPHEN HOLDEN', 'GLENN KENNY', 'STEPHEN HOLDEN', 'A. O. SCOTT', 'STEPHEN HOLDEN', 'A. O. SCOTT', 'KEN JAWOROWSKI', 'STEPHEN HOLDEN', 'GLENN KENNY', 'BEN KENIGSBERG', 'GLENN KENNY', 'ANDY WEBSTER', 'HELEN T. VERONGOS', 'NEIL GENZLINGER', 'JEANNETTE CATSOULIS', 'KEN JAWOROWSKI']\n"
     ]
    }
   ],
   "source": [
    "offsets = range(2)\n",
    "bylines = []\n",
    "\n",
    "for offset in offsets:\n",
    "    picks_response = requests.get('https://api.nytimes.com/svc/movies/v2/reviews/search.json?offset=' + str(offset * 20) + '&api-key=1a25289d587a49b7ba8128badd7088a2')\n",
    "    picks_data = picks_response.json()\n",
    "    \n",
    "    for result in picks_data['results']:\n",
    "        bylines.append(result['byline'])\n",
    "\n",
    "print(bylines)"
   ]
  },
  {
   "cell_type": "code",
   "execution_count": 316,
   "metadata": {
    "collapsed": false
   },
   "outputs": [
    {
     "name": "stdout",
     "output_type": "stream",
     "text": [
      "Counter({'GLENN KENNY': 7, 'STEPHEN HOLDEN': 7, 'A. O. SCOTT': 5, 'ANDY WEBSTER': 4, 'KEN JAWOROWSKI': 3, 'JEANNETTE CATSOULIS': 3, 'NEIL GENZLINGER': 3, 'HELEN T. VERONGOS': 3, 'BEN KENIGSBERG': 3, 'MANOHLA DARGIS': 1, 'NICOLAS RAPOLD': 1})\n"
     ]
    }
   ],
   "source": [
    "# I tried Counter, but there were two most common results, and it only gave me one.\n",
    "# from collections import Counter\n",
    "# print(collections.Counter(bylines))\n",
    "# print(Counter(bylines).most_common(1))"
   ]
  },
  {
   "cell_type": "code",
   "execution_count": 326,
   "metadata": {
    "collapsed": false
   },
   "outputs": [
    {
     "name": "stdout",
     "output_type": "stream",
     "text": [
      "GLENN KENNY 7\n",
      "STEPHEN HOLDEN 7\n"
     ]
    }
   ],
   "source": [
    "sorted_bylines = (sorted(bylines))\n",
    "numbers = range(40)\n",
    "most_bylines = 0\n",
    "\n",
    "for number in numbers:\n",
    "    if most_bylines < sorted_bylines.count(sorted_bylines[number]):\n",
    "        most_bylines = sorted_bylines.count(sorted_bylines[number])\n",
    "\n",
    "for number in numbers:          \n",
    "    if most_bylines == sorted_bylines.count(sorted_bylines[number]) and sorted_bylines[number] != sorted_bylines[number - 1]:\n",
    "        print(sorted_bylines[number], sorted_bylines.count(sorted_bylines[number]))"
   ]
  }
 ],
 "metadata": {
  "kernelspec": {
   "display_name": "Python 3",
   "language": "python",
   "name": "python3"
  },
  "language_info": {
   "codemirror_mode": {
    "name": "ipython",
    "version": 3
   },
   "file_extension": ".py",
   "mimetype": "text/x-python",
   "name": "python",
   "nbconvert_exporter": "python",
   "pygments_lexer": "ipython3",
   "version": "3.5.0"
  }
 },
 "nbformat": 4,
 "nbformat_minor": 0
}
