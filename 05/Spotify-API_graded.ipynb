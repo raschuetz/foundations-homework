{
 "cells": [
  {
   "cell_type": "markdown",
   "metadata": {},
   "source": [
    "### Grade: 8 / 8 "
   ]
  },
  {
   "cell_type": "markdown",
   "metadata": {},
   "source": [
    "1) With \"Lil Wayne\" and \"Lil Kim\" there are a lot of \"Lil\" musicians. Do a search and print a list of 50 that are playable in the USA (or the country of your choice), along with their popularity score.  <br /> "
   ]
  },
  {
   "cell_type": "code",
   "execution_count": 50,
   "metadata": {
    "collapsed": false,
    "scrolled": true
   },
   "outputs": [
    {
     "name": "stdout",
     "output_type": "stream",
     "text": [
      "Lil Wayne 86\n",
      "Lil Yachty 72\n",
      "Lil Uzi Vert 72\n",
      "Lil Dicky 68\n",
      "Boosie Badazz 67\n",
      "Lil Jon 72\n",
      "King Lil G 61\n",
      "Lil Durk 60\n",
      "Lil Jon & The East Side Boyz 60\n",
      "Lil Bibby 54\n",
      "G Herbo 53\n",
      "Lil Rob 50\n",
      "Lil Reese 50\n",
      "Lil Keke 48\n",
      "Bow Wow 57\n",
      "Lil Scrappy 49\n",
      "Lil Wyte 50\n",
      "Lil Blood 45\n",
      "Lil Snupe 45\n",
      "Lil Mama 45\n",
      "Lil B 44\n",
      "Lil' Kim 62\n",
      "Lil Cuete 40\n",
      "Lil Phat 39\n",
      "Lil Debbie 43\n",
      "Lil Twist 39\n",
      "Lil Trill 37\n",
      "Lil Twon 38\n",
      "Lil AJ 37\n",
      "Lil Lonnie 36\n",
      "Lil Goofy 35\n",
      "Mr. Lil One 36\n",
      "Lil Flash 38\n",
      "Lil Kesh 39\n",
      "Lil Haiti 35\n",
      "Lil Silva 43\n",
      "Lil Rue 34\n",
      "Lil Cray 35\n",
      "Lil Eddie 41\n",
      "Lil Wayne, DJ Drama 35\n",
      "Lil Yase 33\n",
      "Lil Suzy 34\n",
      "Lil Mouse 34\n",
      "Lil C 33\n",
      "Lil Rick 38\n",
      "Lil Boom 33\n",
      "Lil June 32\n",
      "Lil E 34\n",
      "Lil Fate 34\n",
      "Lil' Flip 49\n"
     ]
    }
   ],
   "source": [
    "import requests\n",
    "\n",
    "response = requests.get('https://api.spotify.com/v1/search?query=artist:lil&type=artist&market=us&limit=50')\n",
    "\n",
    "data = response.json()\n",
    "\n",
    "artists = data['artists']['items']\n",
    "\n",
    "for artist in artists:\n",
    "    print(artist['name'], artist['popularity'])"
   ]
  },
  {
   "cell_type": "markdown",
   "metadata": {},
   "source": [
    "2) What genres are most represented in the search results? Edit your previous printout to also display a list of their genres in the format \"GENRE_1, GENRE_2, GENRE_3\". If there are no genres, print \"No genres listed\".  <br /> "
   ]
  },
  {
   "cell_type": "code",
   "execution_count": 41,
   "metadata": {
    "collapsed": false
   },
   "outputs": [
    {
     "name": "stdout",
     "output_type": "stream",
     "text": [
      "Lil Wayne 86 dirty south rap, pop rap, southern hip hop, trap music\n",
      "Lil Yachty 72 No genres listed\n",
      "Lil Uzi Vert 72 No genres listed\n",
      "Lil Dicky 68 No genres listed\n",
      "Boosie Badazz 67 No genres listed\n",
      "Lil Jon 72 crunk, dirty south rap, southern hip hop\n",
      "King Lil G 61 No genres listed\n",
      "Lil Durk 60 No genres listed\n",
      "Lil Jon & The East Side Boyz 60 No genres listed\n",
      "Lil Bibby 54 No genres listed\n",
      "G Herbo 53 No genres listed\n",
      "Lil Rob 50 chicano rap, latin hip hop\n",
      "Lil Reese 50 No genres listed\n",
      "Lil Keke 48 No genres listed\n",
      "Bow Wow 57 hip pop, pop rap\n",
      "Lil Scrappy 49 crunk, dirty south rap, southern hip hop, trap music\n",
      "Lil Wyte 50 juggalo\n",
      "Lil Blood 45 No genres listed\n",
      "Lil Snupe 45 No genres listed\n",
      "Lil Mama 45 hip pop\n",
      "Lil B 44 No genres listed\n",
      "Lil' Kim 62 hip pop\n",
      "Lil Cuete 40 chicano rap\n",
      "Lil Phat 39 No genres listed\n",
      "Lil Debbie 43 No genres listed\n",
      "Lil Twist 39 jerk\n",
      "Lil Trill 37 deep trap\n",
      "Lil Twon 38 No genres listed\n",
      "Lil AJ 37 No genres listed\n",
      "Lil Lonnie 36 No genres listed\n",
      "Lil Goofy 35 No genres listed\n",
      "Mr. Lil One 36 chicano rap\n",
      "Lil Flash 38 No genres listed\n",
      "Lil Kesh 39 No genres listed\n",
      "Lil Haiti 35 No genres listed\n",
      "Lil Silva 43 No genres listed\n",
      "Lil Rue 34 No genres listed\n",
      "Lil Cray 35 No genres listed\n",
      "Lil Eddie 41 No genres listed\n",
      "Lil Wayne, DJ Drama 35 No genres listed\n",
      "Lil Yase 33 No genres listed\n",
      "Lil Suzy 34 freestyle\n",
      "Lil Mouse 34 No genres listed\n",
      "Lil C 33 No genres listed\n",
      "Lil Rick 38 soca\n",
      "Lil Boom 33 No genres listed\n",
      "Lil June 32 No genres listed\n",
      "Lil E 34 No genres listed\n",
      "Lil Fate 34 No genres listed\n",
      "Lil' Flip 49 crunk, dirty south rap\n"
     ]
    }
   ],
   "source": [
    "for artist in artists:\n",
    "    if not artist['genres']:\n",
    "        print(artist['name'], artist['popularity'], 'No genres listed')\n",
    "    else:\n",
    "        print(artist['name'], artist['popularity'], ', '.join(artist['genres']))\n",
    "    "
   ]
  },
  {
   "cell_type": "code",
   "execution_count": 213,
   "metadata": {
    "collapsed": false
   },
   "outputs": [
    {
     "name": "stdout",
     "output_type": "stream",
     "text": [
      "chicano rap 3\n",
      "crunk 3\n",
      "deep trap 1\n",
      "dirty south rap 4\n",
      "freestyle 1\n",
      "hip pop 3\n",
      "jerk 1\n",
      "juggalo 1\n",
      "latin hip hop 1\n",
      "pop rap 2\n",
      "soca 1\n",
      "southern hip hop 3\n",
      "trap music 2\n",
      "\n",
      "With 4 artists, dirty south rap is the most represented in search results.\n"
     ]
    }
   ],
   "source": [
    "genre_list = []\n",
    "for artist in artists:\n",
    "    for genre in artist['genres']:\n",
    "        genre_list.append(genre)\n",
    "sorted_genre = sorted(genre_list)\n",
    "genre_list_number = range(len(sorted_genre))\n",
    "genre_count = 0\n",
    "for number in genre_list_number:\n",
    "    if not sorted_genre[number] == sorted_genre[number - 1]:\n",
    "        print((sorted_genre[number]), genre_list.count(sorted_genre[number]))\n",
    "        if genre_count < genre_list.count(sorted_genre[number]):\n",
    "            genre_count = genre_list.count(sorted_genre[number])\n",
    "            freq_genre = sorted_genre[number]\n",
    "print('')\n",
    "\n",
    "print('With', genre_count, 'artists,', freq_genre, 'is the most represented in search results.')\n"
   ]
  },
  {
   "cell_type": "markdown",
   "metadata": {},
   "source": [
    "*How to use counter*"
   ]
  },
  {
   "cell_type": "code",
   "execution_count": 4,
   "metadata": {
    "collapsed": false
   },
   "outputs": [
    {
     "data": {
      "text/plain": [
       "Counter({'hip hop': 1, 'jerk': 1, 'juggalo': 3, 'soca': 2, 'trap': 1})"
      ]
     },
     "execution_count": 4,
     "metadata": {},
     "output_type": "execute_result"
    }
   ],
   "source": [
    "# numbers = ['hip hop', 'jerk', 'juggalo', 'trap', 'soca', 'soca', 'juggalo', 'juggalo']\n",
    "# from collections import Counter\n",
    "# counts = Counter(numbers)\n",
    "# counts"
   ]
  },
  {
   "cell_type": "code",
   "execution_count": 5,
   "metadata": {
    "collapsed": false
   },
   "outputs": [
    {
     "data": {
      "text/plain": [
       "[('juggalo', 3), ('soca', 2)]"
      ]
     },
     "execution_count": 5,
     "metadata": {},
     "output_type": "execute_result"
    }
   ],
   "source": [
    "# counts.most_common(2)"
   ]
  },
  {
   "cell_type": "markdown",
   "metadata": {},
   "source": [
    "Tip: \"how to join a list Python\" might be a helpful search  <br /> "
   ]
  },
  {
   "cell_type": "markdown",
   "metadata": {},
   "source": [
    "3) Use a for loop to determine who BESIDES Lil Wayne has the highest popularity rating. Is it the same artist who has the largest number of followers?  <br /> "
   ]
  },
  {
   "cell_type": "code",
   "execution_count": 35,
   "metadata": {
    "collapsed": false
   },
   "outputs": [
    {
     "name": "stdout",
     "output_type": "stream",
     "text": [
      "Lil Yachty is the second-most-popular artist with \"Lil\" in his/her name.\n",
      "Lil Wayne has 2621796 followers.\n",
      "The second-most-popular 'Lil' artist and the one with the most followers are different people.\n"
     ]
    }
   ],
   "source": [
    "highest_pop = 0\n",
    "for artist in artists:\n",
    "    if  artist['name'] != 'Lil Wayne' and highest_pop < artist['popularity']:\n",
    "        highest_pop = artist['popularity']\n",
    "        highest_pop_artist = artist['name']\n",
    "print(highest_pop_artist, 'is the second-most-popular artist with \\\"Lil\\\" in his/her name.')\n",
    "\n",
    "most_followers = 0\n",
    "for artist in artists:\n",
    "    if  most_followers < artist['followers']['total']:\n",
    "        most_followers = artist['followers']['total']\n",
    "        most_followers_artist = artist['name']\n",
    "print(most_followers_artist, 'has', most_followers, 'followers.')\n",
    "\n",
    "if highest_pop_artist == most_followers_artist:\n",
    "    print('The second-most-popular \\'Lil\\' artist is also the one with the most followers.')\n",
    "else:\n",
    "    print('The second-most-popular \\'Lil\\' artist and the one with the most followers are different people.')\n"
   ]
  },
  {
   "cell_type": "markdown",
   "metadata": {},
   "source": [
    "4) Print a list of Lil's that are more popular than Lil' Kim.  <br /> "
   ]
  },
  {
   "cell_type": "code",
   "execution_count": 39,
   "metadata": {
    "collapsed": false
   },
   "outputs": [
    {
     "name": "stdout",
     "output_type": "stream",
     "text": [
      "Lil Wayne is more popular than Lil' Kim with a popularity score of 86\n",
      "Lil Yachty is more popular than Lil' Kim with a popularity score of 72\n",
      "Lil Uzi Vert is more popular than Lil' Kim with a popularity score of 72\n",
      "Lil Dicky is more popular than Lil' Kim with a popularity score of 68\n",
      "Boosie Badazz is more popular than Lil' Kim with a popularity score of 67\n",
      "Lil Jon is more popular than Lil' Kim with a popularity score of 72\n"
     ]
    }
   ],
   "source": [
    "for artist in artists:\n",
    "    if artist['name'] == 'Lil\\' Kim':\n",
    "        more_popular = artist['popularity']\n",
    "for artist in artists:\n",
    "    if more_popular < artist ['popularity']:\n",
    "        print(artist['name'], 'is more popular than Lil\\' Kim with a popularity score of', artist['popularity'])"
   ]
  },
  {
   "cell_type": "markdown",
   "metadata": {},
   "source": [
    "5) Pick two of your favorite Lils to fight it out, and use their IDs to print out their top tracks.  <br /> "
   ]
  },
  {
   "cell_type": "code",
   "execution_count": 61,
   "metadata": {
    "collapsed": false
   },
   "outputs": [
    {
     "name": "stdout",
     "output_type": "stream",
     "text": [
      "Lil Wayne's top tracks:\n",
      "Forever\n",
      "Nothing But Trouble - Instagram Models\n",
      "6 Foot 7 Foot\n",
      "A Milli\n",
      "Right Above It\n",
      "Lollipop\n",
      "Love Me\n",
      "Rich As Fuck\n",
      "Mirror\n",
      "Believe Me\n",
      "\n",
      "Lil' Kim's top tracks:\n",
      "Crush On You\n",
      "Magic Stick\n",
      "Magic Stick - Edited\n",
      "#Mine (feat. Kevin Gates)\n",
      "The Jump Off\n",
      "Lighters Up - Nationwide Version\n",
      "Big Momma Thang\n",
      "M.A.F.I.A. Land\n",
      "Queen B@#$H\n",
      "Not Tonight\n"
     ]
    }
   ],
   "source": [
    "wayne_id = '55Aa2cqylxrFIXC767Z865'\n",
    "\n",
    "\n",
    "\n",
    "wayne_response = requests.get('https://api.spotify.com/v1/artists/' + wayne_id + '/top-tracks?country=us')\n",
    "\n",
    "wayne_data = wayne_response.json()\n",
    "\n",
    "print('Lil Wayne\\'s top tracks:')\n",
    "wayne_tracks = wayne_data['tracks']\n",
    "for track in wayne_tracks:\n",
    "    print(track['name'])\n",
    "print('')\n",
    "\n",
    "\n",
    "\n",
    "kim_id = '5tth2a3v0sWwV1C7bApBdX'\n",
    "\n",
    "kim_response = requests.get('https://api.spotify.com/v1/artists/' + kim_id + '/top-tracks?country=us')\n",
    "\n",
    "kim_data = kim_response.json()\n",
    "\n",
    "print('Lil\\' Kim\\'s top tracks:')\n",
    "kim_tracks = kim_data['tracks']\n",
    "for track in kim_tracks:\n",
    "    print(track['name'])"
   ]
  },
  {
   "cell_type": "markdown",
   "metadata": {},
   "source": [
    "Tip: You're going to be making two separate requests, be sure you DO NOT save them into the same variable.  <br /> "
   ]
  },
  {
   "cell_type": "markdown",
   "metadata": {},
   "source": [
    "6) Will the world explode if a musicians swears? Get an average popularity for their explicit songs vs. their non-explicit songs. How many minutes of explicit songs do they have? Non-explicit?  <br /> "
   ]
  },
  {
   "cell_type": "code",
   "execution_count": 79,
   "metadata": {
    "collapsed": false
   },
   "outputs": [
    {
     "name": "stdout",
     "output_type": "stream",
     "text": [
      "Lil Wayne's explicit top tracks:\n",
      "The average popularity is 69.5\n",
      "He has 44.32301666666667 minutes of explicit music in his top tracks.\n",
      "\n",
      "Lil Wayne's non-explicit top tracks:\n",
      "There are no non-explicit tracks.\n",
      "He has 0 minutes of non-explicit music in his top tracks.\n",
      "\n",
      "Lil' Kim's explicit top tracks:\n",
      "The average popularity is 46.77777777777778\n",
      "She has 40.31313333333334 minutes of explicit music in her top tracks.\n",
      "\n",
      "Lil' Kim's non-explicit top tracks:\n",
      "The average popularity is 54.0\n",
      "She has 5.57355 minutes of non-explicit music in her top tracks.\n"
     ]
    }
   ],
   "source": [
    "print('Lil Wayne\\'s explicit top tracks:')\n",
    "ew_total_pop = 0\n",
    "ew_total_tracks = 0\n",
    "ew_playtime = 0\n",
    "for track in wayne_tracks:\n",
    "    if track['explicit']:\n",
    "        ew_total_pop = ew_total_pop + track['popularity']\n",
    "        ew_total_tracks = ew_total_tracks + 1\n",
    "        ew_playtime = ew_playtime + track['duration_ms']/60000\n",
    "if ew_total_tracks == 0:\n",
    "    print('There are no explicit tracks.')\n",
    "else:\n",
    "    print('The average popularity is', ew_total_pop / ew_total_tracks)\n",
    "print('He has', ew_playtime, 'minutes of explicit music in his top tracks.')   \n",
    "print('')\n",
    "\n",
    "print('Lil Wayne\\'s non-explicit top tracks:')\n",
    "nw_total_pop = 0\n",
    "nw_total_tracks = 0\n",
    "nw_playtime = 0\n",
    "for track in wayne_tracks:\n",
    "    if not track['explicit']:\n",
    "        nw_total_pop = nw_total_pop + track ['popularity']\n",
    "        nw_total_tracks = nw_total_tracks + 1\n",
    "        nw_playtime = nw_playtime + track['duration_ms']/60000\n",
    "if nw_total_tracks == 0:\n",
    "    print('There are no non-explicit tracks.')\n",
    "else:\n",
    "    print('The average popularity is', nw_total_pop / nw_total_tracks)\n",
    "print('He has', nw_playtime, 'minutes of non-explicit music in his top tracks.')\n",
    "print('')\n",
    "\n",
    "print('Lil\\' Kim\\'s explicit top tracks:')\n",
    "ek_total_pop = 0\n",
    "ek_total_tracks = 0\n",
    "ek_playtime = 0\n",
    "for track in kim_tracks:\n",
    "    if track['explicit']:\n",
    "        ek_total_pop = ek_total_pop + track ['popularity']\n",
    "        ek_total_tracks = ek_total_tracks + 1\n",
    "        ek_playtime = ek_playtime + track['duration_ms']/60000\n",
    "if ek_total_tracks == 0:\n",
    "    print('There are no explicit tracks.')\n",
    "else:\n",
    "    print('The average popularity is', ek_total_pop / ek_total_tracks)\n",
    "print('She has', ek_playtime, 'minutes of explicit music in her top tracks.')\n",
    "print('')\n",
    "\n",
    "print('Lil\\' Kim\\'s non-explicit top tracks:')\n",
    "nk_total_pop = 0\n",
    "nk_total_tracks = 0\n",
    "nk_playtime = 0\n",
    "for track in kim_tracks:\n",
    "    if not track['explicit']:\n",
    "        nk_total_pop = nk_total_pop + track ['popularity']\n",
    "        nk_total_tracks = nk_total_tracks + 1\n",
    "        nk_playtime = nk_playtime + track['duration_ms']/60000\n",
    "if nk_total_tracks == 0:\n",
    "    print('There are no non-explicit tracks.')\n",
    "else:\n",
    "    print('The average popularity is', nk_total_pop / nk_total_tracks)\n",
    "print('She has', nk_playtime, 'minutes of non-explicit music in her top tracks.')"
   ]
  },
  {
   "cell_type": "markdown",
   "metadata": {},
   "source": [
    "7) Since we're talking about Lils, what about Biggies? How many total \"Biggie\" artists are there? How many total \"Lil\"s? If you made 1 request every 5 seconds, how long would it take to download information on all the Lils vs the Biggies?  <br /> "
   ]
  },
  {
   "cell_type": "code",
   "execution_count": 156,
   "metadata": {
    "collapsed": false
   },
   "outputs": [
    {
     "name": "stdout",
     "output_type": "stream",
     "text": [
      "There are 47 Biggies on Spotify.\n",
      "It would take 235 seconds to request all of the Biggies if you were requesting one every five seconds.\n",
      "\n"
     ]
    }
   ],
   "source": [
    "biggie_response = requests.get('https://api.spotify.com/v1/search?query=artist:biggie&type=artist&market=us&limit=50')\n",
    "biggie_data = biggie_response.json()\n",
    "\n",
    "biggie_artists = biggie_data['artists']['items']\n",
    "\n",
    "total_biggies = 0\n",
    "for artist in biggie_artists:\n",
    "    total_biggies = total_biggies + 1\n",
    "print('There are', total_biggies, 'Biggies on Spotify.')\n",
    "print('It would take', total_biggies * 5, 'seconds to request all of the Biggies if you were requesting one every five seconds.')\n",
    "print('')"
   ]
  },
  {
   "cell_type": "code",
   "execution_count": 159,
   "metadata": {
    "collapsed": false
   },
   "outputs": [
    {
     "name": "stdout",
     "output_type": "stream",
     "text": [
      "There are 4500 Lils on Spotify.\n",
      "It would take 375 minutes to request all of the Lils if you were requesting one every five seconds.\n"
     ]
    }
   ],
   "source": [
    "pages = range(90)\n",
    "total_lils = 0\n",
    "for page in pages:\n",
    "    lil_response = requests.get('https://api.spotify.com/v1/search?query=artist:lil&type=artist&market=us&limit=50&offset=' + str(page * 50))\n",
    "    lil_data = lil_response.json()\n",
    "    lil_artists = lil_data['artists']['items']\n",
    "    for artist in lil_artists:\n",
    "        total_lils = total_lils + 1\n",
    "print('There are', total_lils, 'Lils on Spotify.')\n",
    "print('It would take', round(total_lils / 12), 'minutes to request all of the Lils if you were requesting one every five seconds.')"
   ]
  },
  {
   "cell_type": "markdown",
   "metadata": {},
   "source": [
    "8) Out of the top 50 \"Lil\"s and the top 50 \"Biggie\"s, who is more popular on average?  <br /> "
   ]
  },
  {
   "cell_type": "code",
   "execution_count": 164,
   "metadata": {
    "collapsed": false
   },
   "outputs": [
    {
     "name": "stdout",
     "output_type": "stream",
     "text": [
      "3.84\n"
     ]
    }
   ],
   "source": [
    "biggie_total_pop = 0\n",
    "for artist in biggie_artists:\n",
    "    biggie_total_pop = biggie_total_pop + artist['popularity']\n",
    "biggie_avg_pop = biggie_total_pop / 50"
   ]
  },
  {
   "cell_type": "code",
   "execution_count": 171,
   "metadata": {
    "collapsed": false
   },
   "outputs": [
    {
     "name": "stdout",
     "output_type": "stream",
     "text": [
      "46.08\n"
     ]
    }
   ],
   "source": [
    "lil_response_pg1 = requests.get('https://api.spotify.com/v1/search?query=artist:lil&type=artist&market=us&limit=50')\n",
    "lil_data_pg1 = lil_response_pg1.json()\n",
    "lil_artists_pg1 = lil_data_pg1['artists']['items']\n",
    "lil_total_pop = 0\n",
    "for artist in lil_artists_pg1:\n",
    "    lil_total_pop = lil_total_pop + artist['popularity']\n",
    "lil_avg_pop = lil_total_pop / 50"
   ]
  },
  {
   "cell_type": "code",
   "execution_count": 172,
   "metadata": {
    "collapsed": false
   },
   "outputs": [
    {
     "name": "stdout",
     "output_type": "stream",
     "text": [
      "The top 50 lils are more popular.\n"
     ]
    }
   ],
   "source": [
    "if biggie_avg_pop > lil_avg_pop:\n",
    "    print('The top 50 biggies are more popular.')\n",
    "elif biggie_avg_pop < lil_avg_pop:\n",
    "    print('The top 50 lils are more popular.')\n",
    "else:\n",
    "    print('They are equally popular.')"
   ]
  },
  {
   "cell_type": "code",
   "execution_count": null,
   "metadata": {
    "collapsed": true
   },
   "outputs": [],
   "source": []
  }
 ],
 "metadata": {
  "kernelspec": {
   "display_name": "Python 3",
   "language": "python",
   "name": "python3"
  },
  "language_info": {
   "codemirror_mode": {
    "name": "ipython",
    "version": 3
   },
   "file_extension": ".py",
   "mimetype": "text/x-python",
   "name": "python",
   "nbconvert_exporter": "python",
   "pygments_lexer": "ipython3",
   "version": "3.5.0"
  }
 },
 "nbformat": 4,
 "nbformat_minor": 0
}
