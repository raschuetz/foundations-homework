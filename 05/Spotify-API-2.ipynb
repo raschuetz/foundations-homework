{
 "cells": [
  {
   "cell_type": "markdown",
   "metadata": {},
   "source": [
    "LIL' GRAPHICS\n",
    "\n",
    "Use Excel, Illustrator or something like https://infogr.am/ to make a graphic about the Lil's, or the Lil's vs. the Biggies. Just a simple bar graph of their various popularities sounds good to me.\n",
    "\n",
    "SEARCH ENGINE\n",
    "\n",
    "Make a non-IPython Notebook that automates browsing for top tracks\n",
    "Prompts for an artist\n",
    "you put it in, displays the results, asks which one you want (numbered)\n",
    "you enter a number\n",
    "It displays their top tracks, then their MOST popular album and their least popular album. if they only have one album it says that they only have one album."
   ]
  },
  {
   "cell_type": "code",
   "execution_count": null,
   "metadata": {
    "collapsed": true
   },
   "outputs": [],
   "source": []
  }
 ],
 "metadata": {
  "kernelspec": {
   "display_name": "Python 3",
   "language": "python",
   "name": "python3"
  },
  "language_info": {
   "codemirror_mode": {
    "name": "ipython",
    "version": 3
   },
   "file_extension": ".py",
   "mimetype": "text/x-python",
   "name": "python",
   "nbconvert_exporter": "python",
   "pygments_lexer": "ipython3",
   "version": "3.5.1"
  }
 },
 "nbformat": 4,
 "nbformat_minor": 0
}
