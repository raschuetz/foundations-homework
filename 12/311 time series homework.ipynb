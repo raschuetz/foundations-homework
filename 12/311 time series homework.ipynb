{
 "cells": [
  {
   "cell_type": "code",
   "execution_count": 2,
   "metadata": {
    "collapsed": true
   },
   "outputs": [],
   "source": [
    "import pandas as pd\n",
    "import numpy as np\n",
    "import matplotlib.pyplot as plt\n",
    "%matplotlib inline\n",
    "plt.style.use('ggplot')\n",
    "import dateutil.parser"
   ]
  },
  {
   "cell_type": "markdown",
   "metadata": {},
   "source": [
    "> First, I made a mistake naming the data set! **It's 2015 data, not 2014 data.** But yes, still use `311-2014.csv`. You can rename it.\n",
    "\n",
    "# Importing and preparing your data\n",
    "\n",
    "Import your data, but **only the first 200,000 rows**. You'll also want to change the index to be a datetime based on the **Created Date** column - you'll want to check if it's already a datetime, and parse it if not."
   ]
  },
  {
   "cell_type": "code",
   "execution_count": 216,
   "metadata": {
    "collapsed": false
   },
   "outputs": [],
   "source": [
    "df = pd.read_csv('311-2015.csv', dtype = str)"
   ]
  },
  {
   "cell_type": "code",
   "execution_count": 217,
   "metadata": {
    "collapsed": false
   },
   "outputs": [
    {
     "data": {
      "text/html": [
       "<div>\n",
       "<table border=\"1\" class=\"dataframe\">\n",
       "  <thead>\n",
       "    <tr style=\"text-align: right;\">\n",
       "      <th></th>\n",
       "      <th>Unique Key</th>\n",
       "      <th>Created Date</th>\n",
       "      <th>Closed Date</th>\n",
       "      <th>Agency</th>\n",
       "      <th>Agency Name</th>\n",
       "      <th>Complaint Type</th>\n",
       "      <th>Descriptor</th>\n",
       "      <th>Location Type</th>\n",
       "      <th>Incident Zip</th>\n",
       "      <th>Incident Address</th>\n",
       "      <th>...</th>\n",
       "      <th>Bridge Highway Name</th>\n",
       "      <th>Bridge Highway Direction</th>\n",
       "      <th>Road Ramp</th>\n",
       "      <th>Bridge Highway Segment</th>\n",
       "      <th>Garage Lot Name</th>\n",
       "      <th>Ferry Direction</th>\n",
       "      <th>Ferry Terminal Name</th>\n",
       "      <th>Latitude</th>\n",
       "      <th>Longitude</th>\n",
       "      <th>Location</th>\n",
       "    </tr>\n",
       "  </thead>\n",
       "  <tbody>\n",
       "    <tr>\n",
       "      <th>0</th>\n",
       "      <td>31015465</td>\n",
       "      <td>07/06/2015 10:58:27 AM</td>\n",
       "      <td>07/22/2015 01:07:20 AM</td>\n",
       "      <td>DCA</td>\n",
       "      <td>Department of Consumer Affairs</td>\n",
       "      <td>Consumer Complaint</td>\n",
       "      <td>Demand for Cash</td>\n",
       "      <td>NaN</td>\n",
       "      <td>11360</td>\n",
       "      <td>27-16 203 STREET</td>\n",
       "      <td>...</td>\n",
       "      <td>NaN</td>\n",
       "      <td>NaN</td>\n",
       "      <td>NaN</td>\n",
       "      <td>NaN</td>\n",
       "      <td>NaN</td>\n",
       "      <td>NaN</td>\n",
       "      <td>NaN</td>\n",
       "      <td>40.773539552542</td>\n",
       "      <td>-73.78823697228408</td>\n",
       "      <td>(40.773539552542, -73.78823697228408)</td>\n",
       "    </tr>\n",
       "    <tr>\n",
       "      <th>1</th>\n",
       "      <td>30997660</td>\n",
       "      <td>07/03/2015 01:26:29 PM</td>\n",
       "      <td>07/03/2015 02:08:20 PM</td>\n",
       "      <td>NYPD</td>\n",
       "      <td>New York City Police Department</td>\n",
       "      <td>Vending</td>\n",
       "      <td>In Prohibited Area</td>\n",
       "      <td>Residential Building/House</td>\n",
       "      <td>10019</td>\n",
       "      <td>200 CENTRAL PARK SOUTH</td>\n",
       "      <td>...</td>\n",
       "      <td>NaN</td>\n",
       "      <td>NaN</td>\n",
       "      <td>NaN</td>\n",
       "      <td>NaN</td>\n",
       "      <td>NaN</td>\n",
       "      <td>NaN</td>\n",
       "      <td>NaN</td>\n",
       "      <td>40.76702142171206</td>\n",
       "      <td>-73.97944780718524</td>\n",
       "      <td>(40.76702142171206, -73.97944780718524)</td>\n",
       "    </tr>\n",
       "    <tr>\n",
       "      <th>2</th>\n",
       "      <td>31950223</td>\n",
       "      <td>11/09/2015 03:55:09 AM</td>\n",
       "      <td>11/09/2015 08:08:57 AM</td>\n",
       "      <td>NYPD</td>\n",
       "      <td>New York City Police Department</td>\n",
       "      <td>Blocked Driveway</td>\n",
       "      <td>No Access</td>\n",
       "      <td>Street/Sidewalk</td>\n",
       "      <td>10453</td>\n",
       "      <td>1993 GRAND AVENUE</td>\n",
       "      <td>...</td>\n",
       "      <td>NaN</td>\n",
       "      <td>NaN</td>\n",
       "      <td>NaN</td>\n",
       "      <td>NaN</td>\n",
       "      <td>NaN</td>\n",
       "      <td>NaN</td>\n",
       "      <td>NaN</td>\n",
       "      <td>40.85267061877697</td>\n",
       "      <td>-73.91060771362552</td>\n",
       "      <td>(40.85267061877697, -73.91060771362552)</td>\n",
       "    </tr>\n",
       "    <tr>\n",
       "      <th>3</th>\n",
       "      <td>31000038</td>\n",
       "      <td>07/03/2015 02:18:32 AM</td>\n",
       "      <td>07/03/2015 07:54:48 AM</td>\n",
       "      <td>NYPD</td>\n",
       "      <td>New York City Police Department</td>\n",
       "      <td>Noise - Commercial</td>\n",
       "      <td>Loud Music/Party</td>\n",
       "      <td>Club/Bar/Restaurant</td>\n",
       "      <td>11372</td>\n",
       "      <td>84-16 NORTHERN BOULEVARD</td>\n",
       "      <td>...</td>\n",
       "      <td>NaN</td>\n",
       "      <td>NaN</td>\n",
       "      <td>NaN</td>\n",
       "      <td>NaN</td>\n",
       "      <td>NaN</td>\n",
       "      <td>NaN</td>\n",
       "      <td>NaN</td>\n",
       "      <td>40.755773786469966</td>\n",
       "      <td>-73.88326243225418</td>\n",
       "      <td>(40.755773786469966, -73.88326243225418)</td>\n",
       "    </tr>\n",
       "    <tr>\n",
       "      <th>4</th>\n",
       "      <td>30995614</td>\n",
       "      <td>07/04/2015 12:03:27 AM</td>\n",
       "      <td>07/04/2015 03:33:09 AM</td>\n",
       "      <td>NYPD</td>\n",
       "      <td>New York City Police Department</td>\n",
       "      <td>Noise - Street/Sidewalk</td>\n",
       "      <td>Loud Talking</td>\n",
       "      <td>Street/Sidewalk</td>\n",
       "      <td>11216</td>\n",
       "      <td>1057 BERGEN STREET</td>\n",
       "      <td>...</td>\n",
       "      <td>NaN</td>\n",
       "      <td>NaN</td>\n",
       "      <td>NaN</td>\n",
       "      <td>NaN</td>\n",
       "      <td>NaN</td>\n",
       "      <td>NaN</td>\n",
       "      <td>NaN</td>\n",
       "      <td>40.67617516102934</td>\n",
       "      <td>-73.9512690004692</td>\n",
       "      <td>(40.67617516102934, -73.9512690004692)</td>\n",
       "    </tr>\n",
       "  </tbody>\n",
       "</table>\n",
       "<p>5 rows × 53 columns</p>\n",
       "</div>"
      ],
      "text/plain": [
       "  Unique Key            Created Date             Closed Date Agency  \\\n",
       "0   31015465  07/06/2015 10:58:27 AM  07/22/2015 01:07:20 AM    DCA   \n",
       "1   30997660  07/03/2015 01:26:29 PM  07/03/2015 02:08:20 PM   NYPD   \n",
       "2   31950223  11/09/2015 03:55:09 AM  11/09/2015 08:08:57 AM   NYPD   \n",
       "3   31000038  07/03/2015 02:18:32 AM  07/03/2015 07:54:48 AM   NYPD   \n",
       "4   30995614  07/04/2015 12:03:27 AM  07/04/2015 03:33:09 AM   NYPD   \n",
       "\n",
       "                       Agency Name           Complaint Type  \\\n",
       "0   Department of Consumer Affairs       Consumer Complaint   \n",
       "1  New York City Police Department                  Vending   \n",
       "2  New York City Police Department         Blocked Driveway   \n",
       "3  New York City Police Department       Noise - Commercial   \n",
       "4  New York City Police Department  Noise - Street/Sidewalk   \n",
       "\n",
       "           Descriptor               Location Type Incident Zip  \\\n",
       "0     Demand for Cash                         NaN        11360   \n",
       "1  In Prohibited Area  Residential Building/House        10019   \n",
       "2           No Access             Street/Sidewalk        10453   \n",
       "3    Loud Music/Party         Club/Bar/Restaurant        11372   \n",
       "4        Loud Talking             Street/Sidewalk        11216   \n",
       "\n",
       "           Incident Address                    ...                     \\\n",
       "0          27-16 203 STREET                    ...                      \n",
       "1    200 CENTRAL PARK SOUTH                    ...                      \n",
       "2         1993 GRAND AVENUE                    ...                      \n",
       "3  84-16 NORTHERN BOULEVARD                    ...                      \n",
       "4        1057 BERGEN STREET                    ...                      \n",
       "\n",
       "  Bridge Highway Name Bridge Highway Direction Road Ramp  \\\n",
       "0                 NaN                      NaN       NaN   \n",
       "1                 NaN                      NaN       NaN   \n",
       "2                 NaN                      NaN       NaN   \n",
       "3                 NaN                      NaN       NaN   \n",
       "4                 NaN                      NaN       NaN   \n",
       "\n",
       "  Bridge Highway Segment Garage Lot Name Ferry Direction Ferry Terminal Name  \\\n",
       "0                    NaN             NaN             NaN                 NaN   \n",
       "1                    NaN             NaN             NaN                 NaN   \n",
       "2                    NaN             NaN             NaN                 NaN   \n",
       "3                    NaN             NaN             NaN                 NaN   \n",
       "4                    NaN             NaN             NaN                 NaN   \n",
       "\n",
       "             Latitude           Longitude  \\\n",
       "0     40.773539552542  -73.78823697228408   \n",
       "1   40.76702142171206  -73.97944780718524   \n",
       "2   40.85267061877697  -73.91060771362552   \n",
       "3  40.755773786469966  -73.88326243225418   \n",
       "4   40.67617516102934   -73.9512690004692   \n",
       "\n",
       "                                   Location  \n",
       "0     (40.773539552542, -73.78823697228408)  \n",
       "1   (40.76702142171206, -73.97944780718524)  \n",
       "2   (40.85267061877697, -73.91060771362552)  \n",
       "3  (40.755773786469966, -73.88326243225418)  \n",
       "4    (40.67617516102934, -73.9512690004692)  \n",
       "\n",
       "[5 rows x 53 columns]"
      ]
     },
     "execution_count": 217,
     "metadata": {},
     "output_type": "execute_result"
    }
   ],
   "source": [
    "df.head()"
   ]
  },
  {
   "cell_type": "code",
   "execution_count": 133,
   "metadata": {
    "collapsed": false
   },
   "outputs": [],
   "source": [
    "import datetime"
   ]
  },
  {
   "cell_type": "code",
   "execution_count": 134,
   "metadata": {
    "collapsed": false
   },
   "outputs": [],
   "source": [
    "def created_date_to_datetime(date_str):\n",
    "    return datetime.datetime.strptime(date_str, '%m/%d/%Y %I:%M:%S %p')"
   ]
  },
  {
   "cell_type": "code",
   "execution_count": 218,
   "metadata": {
    "collapsed": true
   },
   "outputs": [],
   "source": [
    "df['created_datetime'] = df['Created Date'].apply(created_date_to_datetime)"
   ]
  },
  {
   "cell_type": "code",
   "execution_count": 219,
   "metadata": {
    "collapsed": false
   },
   "outputs": [],
   "source": [
    "df = df.set_index('created_datetime')"
   ]
  },
  {
   "cell_type": "markdown",
   "metadata": {},
   "source": [
    "What was the **most popular type of complaint**, and how many times was it filed?"
   ]
  },
  {
   "cell_type": "code",
   "execution_count": 220,
   "metadata": {
    "collapsed": false
   },
   "outputs": [],
   "source": [
    "freq_complaints = df[['Unique Key', 'Complaint Type']].groupby('Complaint Type').count().sort_values('Unique Key', ascending=False).head()"
   ]
  },
  {
   "cell_type": "code",
   "execution_count": 221,
   "metadata": {
    "collapsed": false
   },
   "outputs": [
    {
     "data": {
      "text/html": [
       "<div>\n",
       "<table border=\"1\" class=\"dataframe\">\n",
       "  <thead>\n",
       "    <tr style=\"text-align: right;\">\n",
       "      <th></th>\n",
       "      <th>Unique Key</th>\n",
       "    </tr>\n",
       "    <tr>\n",
       "      <th>Complaint Type</th>\n",
       "      <th></th>\n",
       "    </tr>\n",
       "  </thead>\n",
       "  <tbody>\n",
       "    <tr>\n",
       "      <th>HEAT/HOT WATER</th>\n",
       "      <td>225706</td>\n",
       "    </tr>\n",
       "    <tr>\n",
       "      <th>Noise - Residential</th>\n",
       "      <td>208026</td>\n",
       "    </tr>\n",
       "    <tr>\n",
       "      <th>Street Condition</th>\n",
       "      <td>124379</td>\n",
       "    </tr>\n",
       "    <tr>\n",
       "      <th>Blocked Driveway</th>\n",
       "      <td>100881</td>\n",
       "    </tr>\n",
       "    <tr>\n",
       "      <th>Street Light Condition</th>\n",
       "      <td>98106</td>\n",
       "    </tr>\n",
       "  </tbody>\n",
       "</table>\n",
       "</div>"
      ],
      "text/plain": [
       "                        Unique Key\n",
       "Complaint Type                    \n",
       "HEAT/HOT WATER              225706\n",
       "Noise - Residential         208026\n",
       "Street Condition            124379\n",
       "Blocked Driveway            100881\n",
       "Street Light Condition       98106"
      ]
     },
     "execution_count": 221,
     "metadata": {},
     "output_type": "execute_result"
    }
   ],
   "source": [
    "freq_complaints"
   ]
  },
  {
   "cell_type": "markdown",
   "metadata": {},
   "source": [
    "Make a horizontal bar graph of the **top 5 most frequent complaint types**."
   ]
  },
  {
   "cell_type": "code",
   "execution_count": 222,
   "metadata": {
    "collapsed": false
   },
   "outputs": [
    {
     "data": {
      "text/plain": [
       "<matplotlib.text.Text at 0x11fe9a940>"
      ]
     },
     "execution_count": 222,
     "metadata": {},
     "output_type": "execute_result"
    },
    {
     "data": {
      "image/png": "[encoded data removed]",
      "text/plain": [
       "<matplotlib.figure.Figure at 0x11d021b00>"
      ]
     },
     "metadata": {},
     "output_type": "display_data"
    }
   ],
   "source": [
    "ax = freq_complaints.plot(kind = 'barh', legend = False)\n",
    "ax.set_title('5 Most Frequent 311 Complaints')\n",
    "ax.set_xlabel('Number of Complaints in 2015')"
   ]
  },
  {
   "cell_type": "markdown",
   "metadata": {},
   "source": [
    "Which borough has the **most complaints per capita?** Since it's only 5 boroughs, you can do the math manually."
   ]
  },
  {
   "cell_type": "code",
   "execution_count": 223,
   "metadata": {
    "collapsed": false
   },
   "outputs": [
    {
     "data": {
      "text/html": [
       "<div>\n",
       "<table border=\"1\" class=\"dataframe\">\n",
       "  <thead>\n",
       "    <tr style=\"text-align: right;\">\n",
       "      <th></th>\n",
       "      <th>Unique Key</th>\n",
       "    </tr>\n",
       "    <tr>\n",
       "      <th>Borough</th>\n",
       "      <th></th>\n",
       "    </tr>\n",
       "  </thead>\n",
       "  <tbody>\n",
       "    <tr>\n",
       "      <th>BROOKLYN</th>\n",
       "      <td>684215</td>\n",
       "    </tr>\n",
       "    <tr>\n",
       "      <th>QUEENS</th>\n",
       "      <td>515349</td>\n",
       "    </tr>\n",
       "    <tr>\n",
       "      <th>MANHATTAN</th>\n",
       "      <td>473782</td>\n",
       "    </tr>\n",
       "    <tr>\n",
       "      <th>BRONX</th>\n",
       "      <td>410768</td>\n",
       "    </tr>\n",
       "    <tr>\n",
       "      <th>STATEN ISLAND</th>\n",
       "      <td>106796</td>\n",
       "    </tr>\n",
       "    <tr>\n",
       "      <th>Unspecified</th>\n",
       "      <td>95841</td>\n",
       "    </tr>\n",
       "  </tbody>\n",
       "</table>\n",
       "</div>"
      ],
      "text/plain": [
       "               Unique Key\n",
       "Borough                  \n",
       "BROOKLYN           684215\n",
       "QUEENS             515349\n",
       "MANHATTAN          473782\n",
       "BRONX              410768\n",
       "STATEN ISLAND      106796\n",
       "Unspecified         95841"
      ]
     },
     "execution_count": 223,
     "metadata": {},
     "output_type": "execute_result"
    }
   ],
   "source": [
    "df[['Unique Key', 'Borough']].groupby('Borough').count().sort_values('Unique Key', ascending = False)"
   ]
  },
  {
   "cell_type": "markdown",
   "metadata": {},
   "source": [
    "According to your selection of data, **how many cases were filed in March?** How about May?"
   ]
  },
  {
   "cell_type": "code",
   "execution_count": 224,
   "metadata": {
    "collapsed": false
   },
   "outputs": [
    {
     "name": "stdout",
     "output_type": "stream",
     "text": [
      "There were 206907 cases filed in March.\n"
     ]
    }
   ],
   "source": [
    "cases_in_mar = df[df.index.month == 3]['Unique Key'].count()\n",
    "print('There were', cases_in_mar, 'cases filed in March.')"
   ]
  },
  {
   "cell_type": "code",
   "execution_count": 225,
   "metadata": {
    "collapsed": false
   },
   "outputs": [
    {
     "name": "stdout",
     "output_type": "stream",
     "text": [
      "There were 187137 cases filed in May.\n"
     ]
    }
   ],
   "source": [
    "cases_in_may = df[df.index.month == 5]['Unique Key'].count()\n",
    "print('There were', cases_in_may, 'cases filed in May.')"
   ]
  },
  {
   "cell_type": "markdown",
   "metadata": {},
   "source": [
    "I'd like to see all of the 311 complaints **called in on April 1st.**\n",
    "\n",
    "> **Surprise!** We couldn't do this in class, but it was just a limitation of our data set"
   ]
  },
  {
   "cell_type": "code",
   "execution_count": 226,
   "metadata": {
    "collapsed": false
   },
   "outputs": [
    {
     "data": {
      "text/html": [
       "<div>\n",
       "<table border=\"1\" class=\"dataframe\">\n",
       "  <thead>\n",
       "    <tr style=\"text-align: right;\">\n",
       "      <th></th>\n",
       "      <th>Unique Key</th>\n",
       "      <th>Created Date</th>\n",
       "      <th>Complaint Type</th>\n",
       "      <th>Descriptor</th>\n",
       "    </tr>\n",
       "    <tr>\n",
       "      <th>created_datetime</th>\n",
       "      <th></th>\n",
       "      <th></th>\n",
       "      <th></th>\n",
       "      <th></th>\n",
       "    </tr>\n",
       "  </thead>\n",
       "  <tbody>\n",
       "    <tr>\n",
       "      <th>2015-04-01 21:37:42</th>\n",
       "      <td>30311691</td>\n",
       "      <td>04/01/2015 09:37:42 PM</td>\n",
       "      <td>Illegal Parking</td>\n",
       "      <td>Blocked Sidewalk</td>\n",
       "    </tr>\n",
       "    <tr>\n",
       "      <th>2015-04-01 23:12:04</th>\n",
       "      <td>30307701</td>\n",
       "      <td>04/01/2015 11:12:04 PM</td>\n",
       "      <td>Noise - Commercial</td>\n",
       "      <td>Loud Music/Party</td>\n",
       "    </tr>\n",
       "    <tr>\n",
       "      <th>2015-04-01 13:10:35</th>\n",
       "      <td>30313389</td>\n",
       "      <td>04/01/2015 01:10:35 PM</td>\n",
       "      <td>Root/Sewer/Sidewalk Condition</td>\n",
       "      <td>Trees and Sidewalks Program</td>\n",
       "    </tr>\n",
       "    <tr>\n",
       "      <th>2015-04-01 17:37:38</th>\n",
       "      <td>30314393</td>\n",
       "      <td>04/01/2015 05:37:38 PM</td>\n",
       "      <td>Maintenance or Facility</td>\n",
       "      <td>Hours of Operation</td>\n",
       "    </tr>\n",
       "    <tr>\n",
       "      <th>2015-04-01 12:32:40</th>\n",
       "      <td>30309207</td>\n",
       "      <td>04/01/2015 12:32:40 PM</td>\n",
       "      <td>Consumer Complaint</td>\n",
       "      <td>Installation/Work Quality</td>\n",
       "    </tr>\n",
       "    <tr>\n",
       "      <th>2015-04-01 18:44:50</th>\n",
       "      <td>30311759</td>\n",
       "      <td>04/01/2015 06:44:50 PM</td>\n",
       "      <td>Damaged Tree</td>\n",
       "      <td>Entire Tree Has Fallen Down</td>\n",
       "    </tr>\n",
       "    <tr>\n",
       "      <th>2015-04-01 16:30:15</th>\n",
       "      <td>30309690</td>\n",
       "      <td>04/01/2015 04:30:15 PM</td>\n",
       "      <td>Animal Abuse</td>\n",
       "      <td>Neglected</td>\n",
       "    </tr>\n",
       "    <tr>\n",
       "      <th>2015-04-01 09:04:07</th>\n",
       "      <td>30307990</td>\n",
       "      <td>04/01/2015 09:04:07 AM</td>\n",
       "      <td>SCRIE</td>\n",
       "      <td>Miscellaneous</td>\n",
       "    </tr>\n",
       "    <tr>\n",
       "      <th>2015-04-01 07:46:58</th>\n",
       "      <td>30308253</td>\n",
       "      <td>04/01/2015 07:46:58 AM</td>\n",
       "      <td>Blocked Driveway</td>\n",
       "      <td>No Access</td>\n",
       "    </tr>\n",
       "    <tr>\n",
       "      <th>2015-04-01 17:12:17</th>\n",
       "      <td>30314214</td>\n",
       "      <td>04/01/2015 05:12:17 PM</td>\n",
       "      <td>Highway Condition</td>\n",
       "      <td>Pothole - Highway</td>\n",
       "    </tr>\n",
       "    <tr>\n",
       "      <th>2015-04-01 21:30:48</th>\n",
       "      <td>30307111</td>\n",
       "      <td>04/01/2015 09:30:48 PM</td>\n",
       "      <td>Food Establishment</td>\n",
       "      <td>Food Temperature</td>\n",
       "    </tr>\n",
       "    <tr>\n",
       "      <th>2015-04-01 15:51:04</th>\n",
       "      <td>30311571</td>\n",
       "      <td>04/01/2015 03:51:04 PM</td>\n",
       "      <td>Maintenance or Facility</td>\n",
       "      <td>Hours of Operation</td>\n",
       "    </tr>\n",
       "    <tr>\n",
       "      <th>2015-04-01 10:43:28</th>\n",
       "      <td>30313817</td>\n",
       "      <td>04/01/2015 10:43:28 AM</td>\n",
       "      <td>Damaged Tree</td>\n",
       "      <td>Branch Cracked and Will Fall</td>\n",
       "    </tr>\n",
       "    <tr>\n",
       "      <th>2015-04-01 15:12:46</th>\n",
       "      <td>30308922</td>\n",
       "      <td>04/01/2015 03:12:46 PM</td>\n",
       "      <td>Food Establishment</td>\n",
       "      <td>Letter Grading</td>\n",
       "    </tr>\n",
       "    <tr>\n",
       "      <th>2015-04-01 06:15:42</th>\n",
       "      <td>30311132</td>\n",
       "      <td>04/01/2015 06:15:42 AM</td>\n",
       "      <td>Highway Condition</td>\n",
       "      <td>Pothole - Highway</td>\n",
       "    </tr>\n",
       "    <tr>\n",
       "      <th>2015-04-01 11:28:02</th>\n",
       "      <td>30308180</td>\n",
       "      <td>04/01/2015 11:28:02 AM</td>\n",
       "      <td>Highway Condition</td>\n",
       "      <td>Pothole - Highway</td>\n",
       "    </tr>\n",
       "    <tr>\n",
       "      <th>2015-04-01 17:35:18</th>\n",
       "      <td>30313207</td>\n",
       "      <td>04/01/2015 05:35:18 PM</td>\n",
       "      <td>Food Establishment</td>\n",
       "      <td>Rodents/Insects/Garbage</td>\n",
       "    </tr>\n",
       "    <tr>\n",
       "      <th>2015-04-01 13:54:54</th>\n",
       "      <td>30310017</td>\n",
       "      <td>04/01/2015 01:54:54 PM</td>\n",
       "      <td>SCRIE</td>\n",
       "      <td>Miscellaneous</td>\n",
       "    </tr>\n",
       "    <tr>\n",
       "      <th>2015-04-01 23:49:33</th>\n",
       "      <td>30306774</td>\n",
       "      <td>04/01/2015 11:49:33 PM</td>\n",
       "      <td>Noise - Commercial</td>\n",
       "      <td>Loud Music/Party</td>\n",
       "    </tr>\n",
       "    <tr>\n",
       "      <th>2015-04-01 07:50:49</th>\n",
       "      <td>30313339</td>\n",
       "      <td>04/01/2015 07:50:49 AM</td>\n",
       "      <td>Street Condition</td>\n",
       "      <td>Rough, Pitted or Cracked Roads</td>\n",
       "    </tr>\n",
       "    <tr>\n",
       "      <th>2015-04-01 13:50:29</th>\n",
       "      <td>30312146</td>\n",
       "      <td>04/01/2015 01:50:29 PM</td>\n",
       "      <td>Food Establishment</td>\n",
       "      <td>Rodents/Insects/Garbage</td>\n",
       "    </tr>\n",
       "    <tr>\n",
       "      <th>2015-04-01 16:14:19</th>\n",
       "      <td>30313259</td>\n",
       "      <td>04/01/2015 04:14:19 PM</td>\n",
       "      <td>Benefit Card Replacement</td>\n",
       "      <td>Medicaid</td>\n",
       "    </tr>\n",
       "    <tr>\n",
       "      <th>2015-04-01 19:27:34</th>\n",
       "      <td>30308920</td>\n",
       "      <td>04/01/2015 07:27:34 PM</td>\n",
       "      <td>Noise - Street/Sidewalk</td>\n",
       "      <td>Loud Music/Party</td>\n",
       "    </tr>\n",
       "    <tr>\n",
       "      <th>2015-04-01 05:30:02</th>\n",
       "      <td>30314164</td>\n",
       "      <td>04/01/2015 05:30:02 AM</td>\n",
       "      <td>Highway Condition</td>\n",
       "      <td>Pothole - Highway</td>\n",
       "    </tr>\n",
       "    <tr>\n",
       "      <th>2015-04-01 10:33:26</th>\n",
       "      <td>30311790</td>\n",
       "      <td>04/01/2015 10:33:26 AM</td>\n",
       "      <td>Illegal Parking</td>\n",
       "      <td>Blocked Sidewalk</td>\n",
       "    </tr>\n",
       "    <tr>\n",
       "      <th>2015-04-01 11:47:38</th>\n",
       "      <td>30310940</td>\n",
       "      <td>04/01/2015 11:47:38 AM</td>\n",
       "      <td>SCRIE</td>\n",
       "      <td>Miscellaneous</td>\n",
       "    </tr>\n",
       "    <tr>\n",
       "      <th>2015-04-01 11:01:27</th>\n",
       "      <td>30310409</td>\n",
       "      <td>04/01/2015 11:01:27 AM</td>\n",
       "      <td>Consumer Complaint</td>\n",
       "      <td>Exchange/Refund/Return</td>\n",
       "    </tr>\n",
       "    <tr>\n",
       "      <th>2015-04-01 08:51:52</th>\n",
       "      <td>30310350</td>\n",
       "      <td>04/01/2015 08:51:52 AM</td>\n",
       "      <td>Consumer Complaint</td>\n",
       "      <td>Cars Parked on Sidewalk/Street</td>\n",
       "    </tr>\n",
       "    <tr>\n",
       "      <th>2015-04-01 14:58:55</th>\n",
       "      <td>30313106</td>\n",
       "      <td>04/01/2015 02:58:55 PM</td>\n",
       "      <td>SCRIE</td>\n",
       "      <td>Rent Discrepancy</td>\n",
       "    </tr>\n",
       "    <tr>\n",
       "      <th>2015-04-01 16:59:19</th>\n",
       "      <td>30309324</td>\n",
       "      <td>04/01/2015 04:59:19 PM</td>\n",
       "      <td>Blocked Driveway</td>\n",
       "      <td>Partial Access</td>\n",
       "    </tr>\n",
       "    <tr>\n",
       "      <th>...</th>\n",
       "      <td>...</td>\n",
       "      <td>...</td>\n",
       "      <td>...</td>\n",
       "      <td>...</td>\n",
       "    </tr>\n",
       "    <tr>\n",
       "      <th>2015-04-01 10:10:40</th>\n",
       "      <td>30313973</td>\n",
       "      <td>04/01/2015 10:10:40 AM</td>\n",
       "      <td>DOF Property - Owner Issue</td>\n",
       "      <td>Billing Address Incorrect</td>\n",
       "    </tr>\n",
       "    <tr>\n",
       "      <th>2015-04-01 09:45:31</th>\n",
       "      <td>30314014</td>\n",
       "      <td>04/01/2015 09:45:31 AM</td>\n",
       "      <td>DOF Property - Reduction Issue</td>\n",
       "      <td>Commercial J51 Exemption</td>\n",
       "    </tr>\n",
       "    <tr>\n",
       "      <th>2015-04-01 10:39:40</th>\n",
       "      <td>30314031</td>\n",
       "      <td>04/01/2015 10:39:40 AM</td>\n",
       "      <td>Noise - Residential</td>\n",
       "      <td>Banging/Pounding</td>\n",
       "    </tr>\n",
       "    <tr>\n",
       "      <th>2015-04-01 14:02:44</th>\n",
       "      <td>30314032</td>\n",
       "      <td>04/01/2015 02:02:44 PM</td>\n",
       "      <td>Noise - Residential</td>\n",
       "      <td>Banging/Pounding</td>\n",
       "    </tr>\n",
       "    <tr>\n",
       "      <th>2015-04-01 12:57:43</th>\n",
       "      <td>30314033</td>\n",
       "      <td>04/01/2015 12:57:43 PM</td>\n",
       "      <td>Noise - Residential</td>\n",
       "      <td>Loud Music/Party</td>\n",
       "    </tr>\n",
       "    <tr>\n",
       "      <th>2015-04-01 21:13:06</th>\n",
       "      <td>30314044</td>\n",
       "      <td>04/01/2015 09:13:06 PM</td>\n",
       "      <td>Noise - Residential</td>\n",
       "      <td>Loud Music/Party</td>\n",
       "    </tr>\n",
       "    <tr>\n",
       "      <th>2015-04-01 15:55:36</th>\n",
       "      <td>30314045</td>\n",
       "      <td>04/01/2015 03:55:36 PM</td>\n",
       "      <td>Noise - Residential</td>\n",
       "      <td>Loud Music/Party</td>\n",
       "    </tr>\n",
       "    <tr>\n",
       "      <th>2015-04-01 21:19:35</th>\n",
       "      <td>30314046</td>\n",
       "      <td>04/01/2015 09:19:35 PM</td>\n",
       "      <td>Noise - Residential</td>\n",
       "      <td>Loud Music/Party</td>\n",
       "    </tr>\n",
       "    <tr>\n",
       "      <th>2015-04-01 18:56:00</th>\n",
       "      <td>30314047</td>\n",
       "      <td>04/01/2015 06:56:00 PM</td>\n",
       "      <td>Noise - Residential</td>\n",
       "      <td>Loud Talking</td>\n",
       "    </tr>\n",
       "    <tr>\n",
       "      <th>2015-04-01 03:29:02</th>\n",
       "      <td>30314048</td>\n",
       "      <td>04/01/2015 03:29:02 AM</td>\n",
       "      <td>Noise - Residential</td>\n",
       "      <td>Loud Talking</td>\n",
       "    </tr>\n",
       "    <tr>\n",
       "      <th>2015-04-01 03:03:18</th>\n",
       "      <td>30314071</td>\n",
       "      <td>04/01/2015 03:03:18 AM</td>\n",
       "      <td>Noise - Residential</td>\n",
       "      <td>Loud Music/Party</td>\n",
       "    </tr>\n",
       "    <tr>\n",
       "      <th>2015-04-01 21:36:56</th>\n",
       "      <td>30314072</td>\n",
       "      <td>04/01/2015 09:36:56 PM</td>\n",
       "      <td>Noise - Residential</td>\n",
       "      <td>Loud Television</td>\n",
       "    </tr>\n",
       "    <tr>\n",
       "      <th>2015-04-01 16:59:18</th>\n",
       "      <td>30314077</td>\n",
       "      <td>04/01/2015 04:59:18 PM</td>\n",
       "      <td>Housing Options</td>\n",
       "      <td>Assisted Living</td>\n",
       "    </tr>\n",
       "    <tr>\n",
       "      <th>2015-04-01 11:51:47</th>\n",
       "      <td>30314087</td>\n",
       "      <td>04/01/2015 11:51:47 AM</td>\n",
       "      <td>DOF Parking - Request Copy</td>\n",
       "      <td>List of Outstanding Tickets</td>\n",
       "    </tr>\n",
       "    <tr>\n",
       "      <th>2015-04-01 10:04:23</th>\n",
       "      <td>30314088</td>\n",
       "      <td>04/01/2015 10:04:23 AM</td>\n",
       "      <td>DOF Property - Owner Issue</td>\n",
       "      <td>Billing Address Incorrect</td>\n",
       "    </tr>\n",
       "    <tr>\n",
       "      <th>2015-04-01 14:31:19</th>\n",
       "      <td>30314090</td>\n",
       "      <td>04/01/2015 02:31:19 PM</td>\n",
       "      <td>DOF Property - Request Copy</td>\n",
       "      <td>Copy of Account Information</td>\n",
       "    </tr>\n",
       "    <tr>\n",
       "      <th>2015-04-01 13:02:25</th>\n",
       "      <td>30314091</td>\n",
       "      <td>04/01/2015 01:02:25 PM</td>\n",
       "      <td>DOF Property - Request Copy</td>\n",
       "      <td>Copy of Statement</td>\n",
       "    </tr>\n",
       "    <tr>\n",
       "      <th>2015-04-01 12:48:02</th>\n",
       "      <td>30314092</td>\n",
       "      <td>04/01/2015 12:48:02 PM</td>\n",
       "      <td>DOF Property - Request Copy</td>\n",
       "      <td>Copy of Statement</td>\n",
       "    </tr>\n",
       "    <tr>\n",
       "      <th>2015-04-01 09:42:34</th>\n",
       "      <td>30314234</td>\n",
       "      <td>04/01/2015 09:42:34 AM</td>\n",
       "      <td>Home Delivered Meal Complaint</td>\n",
       "      <td>NaN</td>\n",
       "    </tr>\n",
       "    <tr>\n",
       "      <th>2015-04-01 14:54:23</th>\n",
       "      <td>30314238</td>\n",
       "      <td>04/01/2015 02:54:23 PM</td>\n",
       "      <td>DOF Parking - Request Copy</td>\n",
       "      <td>Decision and Order</td>\n",
       "    </tr>\n",
       "    <tr>\n",
       "      <th>2015-04-01 17:41:01</th>\n",
       "      <td>30314261</td>\n",
       "      <td>04/01/2015 05:41:01 PM</td>\n",
       "      <td>Housing - Low Income Senior</td>\n",
       "      <td>NaN</td>\n",
       "    </tr>\n",
       "    <tr>\n",
       "      <th>2015-04-01 15:53:30</th>\n",
       "      <td>30314291</td>\n",
       "      <td>04/01/2015 03:53:30 PM</td>\n",
       "      <td>DOF Property - Payment Issue</td>\n",
       "      <td>Interest Dispute</td>\n",
       "    </tr>\n",
       "    <tr>\n",
       "      <th>2015-04-01 10:31:33</th>\n",
       "      <td>30314440</td>\n",
       "      <td>04/01/2015 10:31:33 AM</td>\n",
       "      <td>New Tree Request</td>\n",
       "      <td>For One Address</td>\n",
       "    </tr>\n",
       "    <tr>\n",
       "      <th>2015-04-01 13:55:04</th>\n",
       "      <td>30314441</td>\n",
       "      <td>04/01/2015 01:55:04 PM</td>\n",
       "      <td>New Tree Request</td>\n",
       "      <td>For One Address</td>\n",
       "    </tr>\n",
       "    <tr>\n",
       "      <th>2015-04-01 10:16:08</th>\n",
       "      <td>30314442</td>\n",
       "      <td>04/01/2015 10:16:08 AM</td>\n",
       "      <td>New Tree Request</td>\n",
       "      <td>For One Address</td>\n",
       "    </tr>\n",
       "    <tr>\n",
       "      <th>2015-04-01 10:24:52</th>\n",
       "      <td>30314499</td>\n",
       "      <td>04/01/2015 10:24:52 AM</td>\n",
       "      <td>New Tree Request</td>\n",
       "      <td>For One Address</td>\n",
       "    </tr>\n",
       "    <tr>\n",
       "      <th>2015-04-01 15:01:35</th>\n",
       "      <td>30314500</td>\n",
       "      <td>04/01/2015 03:01:35 PM</td>\n",
       "      <td>New Tree Request</td>\n",
       "      <td>For One Address</td>\n",
       "    </tr>\n",
       "    <tr>\n",
       "      <th>2015-04-01 15:26:36</th>\n",
       "      <td>30314519</td>\n",
       "      <td>04/01/2015 03:26:36 PM</td>\n",
       "      <td>New Tree Request</td>\n",
       "      <td>For One Address</td>\n",
       "    </tr>\n",
       "    <tr>\n",
       "      <th>2015-04-01 11:28:23</th>\n",
       "      <td>30314540</td>\n",
       "      <td>04/01/2015 11:28:23 AM</td>\n",
       "      <td>DOF Property - Payment Issue</td>\n",
       "      <td>Other Billing Issue</td>\n",
       "    </tr>\n",
       "    <tr>\n",
       "      <th>2015-04-01 10:09:13</th>\n",
       "      <td>30314547</td>\n",
       "      <td>04/01/2015 10:09:13 AM</td>\n",
       "      <td>DOF Property - Payment Issue</td>\n",
       "      <td>Other Billing Issue</td>\n",
       "    </tr>\n",
       "  </tbody>\n",
       "</table>\n",
       "<p>6801 rows × 4 columns</p>\n",
       "</div>"
      ],
      "text/plain": [
       "                    Unique Key            Created Date  \\\n",
       "created_datetime                                         \n",
       "2015-04-01 21:37:42   30311691  04/01/2015 09:37:42 PM   \n",
       "2015-04-01 23:12:04   30307701  04/01/2015 11:12:04 PM   \n",
       "2015-04-01 13:10:35   30313389  04/01/2015 01:10:35 PM   \n",
       "2015-04-01 17:37:38   30314393  04/01/2015 05:37:38 PM   \n",
       "2015-04-01 12:32:40   30309207  04/01/2015 12:32:40 PM   \n",
       "2015-04-01 18:44:50   30311759  04/01/2015 06:44:50 PM   \n",
       "2015-04-01 16:30:15   30309690  04/01/2015 04:30:15 PM   \n",
       "2015-04-01 09:04:07   30307990  04/01/2015 09:04:07 AM   \n",
       "2015-04-01 07:46:58   30308253  04/01/2015 07:46:58 AM   \n",
       "2015-04-01 17:12:17   30314214  04/01/2015 05:12:17 PM   \n",
       "2015-04-01 21:30:48   30307111  04/01/2015 09:30:48 PM   \n",
       "2015-04-01 15:51:04   30311571  04/01/2015 03:51:04 PM   \n",
       "2015-04-01 10:43:28   30313817  04/01/2015 10:43:28 AM   \n",
       "2015-04-01 15:12:46   30308922  04/01/2015 03:12:46 PM   \n",
       "2015-04-01 06:15:42   30311132  04/01/2015 06:15:42 AM   \n",
       "2015-04-01 11:28:02   30308180  04/01/2015 11:28:02 AM   \n",
       "2015-04-01 17:35:18   30313207  04/01/2015 05:35:18 PM   \n",
       "2015-04-01 13:54:54   30310017  04/01/2015 01:54:54 PM   \n",
       "2015-04-01 23:49:33   30306774  04/01/2015 11:49:33 PM   \n",
       "2015-04-01 07:50:49   30313339  04/01/2015 07:50:49 AM   \n",
       "2015-04-01 13:50:29   30312146  04/01/2015 01:50:29 PM   \n",
       "2015-04-01 16:14:19   30313259  04/01/2015 04:14:19 PM   \n",
       "2015-04-01 19:27:34   30308920  04/01/2015 07:27:34 PM   \n",
       "2015-04-01 05:30:02   30314164  04/01/2015 05:30:02 AM   \n",
       "2015-04-01 10:33:26   30311790  04/01/2015 10:33:26 AM   \n",
       "2015-04-01 11:47:38   30310940  04/01/2015 11:47:38 AM   \n",
       "2015-04-01 11:01:27   30310409  04/01/2015 11:01:27 AM   \n",
       "2015-04-01 08:51:52   30310350  04/01/2015 08:51:52 AM   \n",
       "2015-04-01 14:58:55   30313106  04/01/2015 02:58:55 PM   \n",
       "2015-04-01 16:59:19   30309324  04/01/2015 04:59:19 PM   \n",
       "...                        ...                     ...   \n",
       "2015-04-01 10:10:40   30313973  04/01/2015 10:10:40 AM   \n",
       "2015-04-01 09:45:31   30314014  04/01/2015 09:45:31 AM   \n",
       "2015-04-01 10:39:40   30314031  04/01/2015 10:39:40 AM   \n",
       "2015-04-01 14:02:44   30314032  04/01/2015 02:02:44 PM   \n",
       "2015-04-01 12:57:43   30314033  04/01/2015 12:57:43 PM   \n",
       "2015-04-01 21:13:06   30314044  04/01/2015 09:13:06 PM   \n",
       "2015-04-01 15:55:36   30314045  04/01/2015 03:55:36 PM   \n",
       "2015-04-01 21:19:35   30314046  04/01/2015 09:19:35 PM   \n",
       "2015-04-01 18:56:00   30314047  04/01/2015 06:56:00 PM   \n",
       "2015-04-01 03:29:02   30314048  04/01/2015 03:29:02 AM   \n",
       "2015-04-01 03:03:18   30314071  04/01/2015 03:03:18 AM   \n",
       "2015-04-01 21:36:56   30314072  04/01/2015 09:36:56 PM   \n",
       "2015-04-01 16:59:18   30314077  04/01/2015 04:59:18 PM   \n",
       "2015-04-01 11:51:47   30314087  04/01/2015 11:51:47 AM   \n",
       "2015-04-01 10:04:23   30314088  04/01/2015 10:04:23 AM   \n",
       "2015-04-01 14:31:19   30314090  04/01/2015 02:31:19 PM   \n",
       "2015-04-01 13:02:25   30314091  04/01/2015 01:02:25 PM   \n",
       "2015-04-01 12:48:02   30314092  04/01/2015 12:48:02 PM   \n",
       "2015-04-01 09:42:34   30314234  04/01/2015 09:42:34 AM   \n",
       "2015-04-01 14:54:23   30314238  04/01/2015 02:54:23 PM   \n",
       "2015-04-01 17:41:01   30314261  04/01/2015 05:41:01 PM   \n",
       "2015-04-01 15:53:30   30314291  04/01/2015 03:53:30 PM   \n",
       "2015-04-01 10:31:33   30314440  04/01/2015 10:31:33 AM   \n",
       "2015-04-01 13:55:04   30314441  04/01/2015 01:55:04 PM   \n",
       "2015-04-01 10:16:08   30314442  04/01/2015 10:16:08 AM   \n",
       "2015-04-01 10:24:52   30314499  04/01/2015 10:24:52 AM   \n",
       "2015-04-01 15:01:35   30314500  04/01/2015 03:01:35 PM   \n",
       "2015-04-01 15:26:36   30314519  04/01/2015 03:26:36 PM   \n",
       "2015-04-01 11:28:23   30314540  04/01/2015 11:28:23 AM   \n",
       "2015-04-01 10:09:13   30314547  04/01/2015 10:09:13 AM   \n",
       "\n",
       "                                     Complaint Type  \\\n",
       "created_datetime                                      \n",
       "2015-04-01 21:37:42                 Illegal Parking   \n",
       "2015-04-01 23:12:04              Noise - Commercial   \n",
       "2015-04-01 13:10:35   Root/Sewer/Sidewalk Condition   \n",
       "2015-04-01 17:37:38         Maintenance or Facility   \n",
       "2015-04-01 12:32:40              Consumer Complaint   \n",
       "2015-04-01 18:44:50                    Damaged Tree   \n",
       "2015-04-01 16:30:15                    Animal Abuse   \n",
       "2015-04-01 09:04:07                           SCRIE   \n",
       "2015-04-01 07:46:58                Blocked Driveway   \n",
       "2015-04-01 17:12:17               Highway Condition   \n",
       "2015-04-01 21:30:48              Food Establishment   \n",
       "2015-04-01 15:51:04         Maintenance or Facility   \n",
       "2015-04-01 10:43:28                    Damaged Tree   \n",
       "2015-04-01 15:12:46              Food Establishment   \n",
       "2015-04-01 06:15:42               Highway Condition   \n",
       "2015-04-01 11:28:02               Highway Condition   \n",
       "2015-04-01 17:35:18              Food Establishment   \n",
       "2015-04-01 13:54:54                           SCRIE   \n",
       "2015-04-01 23:49:33              Noise - Commercial   \n",
       "2015-04-01 07:50:49                Street Condition   \n",
       "2015-04-01 13:50:29              Food Establishment   \n",
       "2015-04-01 16:14:19        Benefit Card Replacement   \n",
       "2015-04-01 19:27:34         Noise - Street/Sidewalk   \n",
       "2015-04-01 05:30:02               Highway Condition   \n",
       "2015-04-01 10:33:26                 Illegal Parking   \n",
       "2015-04-01 11:47:38                           SCRIE   \n",
       "2015-04-01 11:01:27              Consumer Complaint   \n",
       "2015-04-01 08:51:52              Consumer Complaint   \n",
       "2015-04-01 14:58:55                           SCRIE   \n",
       "2015-04-01 16:59:19                Blocked Driveway   \n",
       "...                                             ...   \n",
       "2015-04-01 10:10:40      DOF Property - Owner Issue   \n",
       "2015-04-01 09:45:31  DOF Property - Reduction Issue   \n",
       "2015-04-01 10:39:40             Noise - Residential   \n",
       "2015-04-01 14:02:44             Noise - Residential   \n",
       "2015-04-01 12:57:43             Noise - Residential   \n",
       "2015-04-01 21:13:06             Noise - Residential   \n",
       "2015-04-01 15:55:36             Noise - Residential   \n",
       "2015-04-01 21:19:35             Noise - Residential   \n",
       "2015-04-01 18:56:00             Noise - Residential   \n",
       "2015-04-01 03:29:02             Noise - Residential   \n",
       "2015-04-01 03:03:18             Noise - Residential   \n",
       "2015-04-01 21:36:56             Noise - Residential   \n",
       "2015-04-01 16:59:18                 Housing Options   \n",
       "2015-04-01 11:51:47      DOF Parking - Request Copy   \n",
       "2015-04-01 10:04:23      DOF Property - Owner Issue   \n",
       "2015-04-01 14:31:19     DOF Property - Request Copy   \n",
       "2015-04-01 13:02:25     DOF Property - Request Copy   \n",
       "2015-04-01 12:48:02     DOF Property - Request Copy   \n",
       "2015-04-01 09:42:34   Home Delivered Meal Complaint   \n",
       "2015-04-01 14:54:23      DOF Parking - Request Copy   \n",
       "2015-04-01 17:41:01     Housing - Low Income Senior   \n",
       "2015-04-01 15:53:30    DOF Property - Payment Issue   \n",
       "2015-04-01 10:31:33                New Tree Request   \n",
       "2015-04-01 13:55:04                New Tree Request   \n",
       "2015-04-01 10:16:08                New Tree Request   \n",
       "2015-04-01 10:24:52                New Tree Request   \n",
       "2015-04-01 15:01:35                New Tree Request   \n",
       "2015-04-01 15:26:36                New Tree Request   \n",
       "2015-04-01 11:28:23    DOF Property - Payment Issue   \n",
       "2015-04-01 10:09:13    DOF Property - Payment Issue   \n",
       "\n",
       "                                         Descriptor  \n",
       "created_datetime                                     \n",
       "2015-04-01 21:37:42                Blocked Sidewalk  \n",
       "2015-04-01 23:12:04                Loud Music/Party  \n",
       "2015-04-01 13:10:35     Trees and Sidewalks Program  \n",
       "2015-04-01 17:37:38              Hours of Operation  \n",
       "2015-04-01 12:32:40       Installation/Work Quality  \n",
       "2015-04-01 18:44:50     Entire Tree Has Fallen Down  \n",
       "2015-04-01 16:30:15                       Neglected  \n",
       "2015-04-01 09:04:07                   Miscellaneous  \n",
       "2015-04-01 07:46:58                       No Access  \n",
       "2015-04-01 17:12:17               Pothole - Highway  \n",
       "2015-04-01 21:30:48                Food Temperature  \n",
       "2015-04-01 15:51:04              Hours of Operation  \n",
       "2015-04-01 10:43:28    Branch Cracked and Will Fall  \n",
       "2015-04-01 15:12:46                  Letter Grading  \n",
       "2015-04-01 06:15:42               Pothole - Highway  \n",
       "2015-04-01 11:28:02               Pothole - Highway  \n",
       "2015-04-01 17:35:18         Rodents/Insects/Garbage  \n",
       "2015-04-01 13:54:54                   Miscellaneous  \n",
       "2015-04-01 23:49:33                Loud Music/Party  \n",
       "2015-04-01 07:50:49  Rough, Pitted or Cracked Roads  \n",
       "2015-04-01 13:50:29         Rodents/Insects/Garbage  \n",
       "2015-04-01 16:14:19                        Medicaid  \n",
       "2015-04-01 19:27:34                Loud Music/Party  \n",
       "2015-04-01 05:30:02               Pothole - Highway  \n",
       "2015-04-01 10:33:26                Blocked Sidewalk  \n",
       "2015-04-01 11:47:38                   Miscellaneous  \n",
       "2015-04-01 11:01:27          Exchange/Refund/Return  \n",
       "2015-04-01 08:51:52  Cars Parked on Sidewalk/Street  \n",
       "2015-04-01 14:58:55                Rent Discrepancy  \n",
       "2015-04-01 16:59:19                  Partial Access  \n",
       "...                                             ...  \n",
       "2015-04-01 10:10:40       Billing Address Incorrect  \n",
       "2015-04-01 09:45:31        Commercial J51 Exemption  \n",
       "2015-04-01 10:39:40                Banging/Pounding  \n",
       "2015-04-01 14:02:44                Banging/Pounding  \n",
       "2015-04-01 12:57:43                Loud Music/Party  \n",
       "2015-04-01 21:13:06                Loud Music/Party  \n",
       "2015-04-01 15:55:36                Loud Music/Party  \n",
       "2015-04-01 21:19:35                Loud Music/Party  \n",
       "2015-04-01 18:56:00                    Loud Talking  \n",
       "2015-04-01 03:29:02                    Loud Talking  \n",
       "2015-04-01 03:03:18                Loud Music/Party  \n",
       "2015-04-01 21:36:56                 Loud Television  \n",
       "2015-04-01 16:59:18                 Assisted Living  \n",
       "2015-04-01 11:51:47     List of Outstanding Tickets  \n",
       "2015-04-01 10:04:23       Billing Address Incorrect  \n",
       "2015-04-01 14:31:19     Copy of Account Information  \n",
       "2015-04-01 13:02:25               Copy of Statement  \n",
       "2015-04-01 12:48:02               Copy of Statement  \n",
       "2015-04-01 09:42:34                             NaN  \n",
       "2015-04-01 14:54:23              Decision and Order  \n",
       "2015-04-01 17:41:01                             NaN  \n",
       "2015-04-01 15:53:30                Interest Dispute  \n",
       "2015-04-01 10:31:33                 For One Address  \n",
       "2015-04-01 13:55:04                 For One Address  \n",
       "2015-04-01 10:16:08                 For One Address  \n",
       "2015-04-01 10:24:52                 For One Address  \n",
       "2015-04-01 15:01:35                 For One Address  \n",
       "2015-04-01 15:26:36                 For One Address  \n",
       "2015-04-01 11:28:23             Other Billing Issue  \n",
       "2015-04-01 10:09:13             Other Billing Issue  \n",
       "\n",
       "[6801 rows x 4 columns]"
      ]
     },
     "execution_count": 226,
     "metadata": {},
     "output_type": "execute_result"
    }
   ],
   "source": [
    "april_1_complaints = df[(df.index.month == 4) & (df.index.day == 1)][['Unique Key', 'Created Date', 'Complaint Type', 'Descriptor']]\n",
    "april_1_complaints"
   ]
  },
  {
   "cell_type": "markdown",
   "metadata": {},
   "source": [
    "What was the most popular type of complaint on April 1st?"
   ]
  },
  {
   "cell_type": "code",
   "execution_count": 227,
   "metadata": {
    "collapsed": false
   },
   "outputs": [
    {
     "data": {
      "text/html": [
       "<div>\n",
       "<table border=\"1\" class=\"dataframe\">\n",
       "  <thead>\n",
       "    <tr style=\"text-align: right;\">\n",
       "      <th></th>\n",
       "      <th>Unique Key</th>\n",
       "    </tr>\n",
       "    <tr>\n",
       "      <th>Complaint Type</th>\n",
       "      <th></th>\n",
       "    </tr>\n",
       "  </thead>\n",
       "  <tbody>\n",
       "    <tr>\n",
       "      <th>Street Condition</th>\n",
       "      <td>839</td>\n",
       "    </tr>\n",
       "  </tbody>\n",
       "</table>\n",
       "</div>"
      ],
      "text/plain": [
       "                  Unique Key\n",
       "Complaint Type              \n",
       "Street Condition         839"
      ]
     },
     "execution_count": 227,
     "metadata": {},
     "output_type": "execute_result"
    }
   ],
   "source": [
    "april_1_complaints[['Unique Key', 'Complaint Type']].groupby('Complaint Type').count().sort_values('Unique Key', ascending = False).head(1)"
   ]
  },
  {
   "cell_type": "markdown",
   "metadata": {},
   "source": [
    "What were the **most popular three types of complaint** on April 1st"
   ]
  },
  {
   "cell_type": "code",
   "execution_count": 228,
   "metadata": {
    "collapsed": false
   },
   "outputs": [
    {
     "data": {
      "text/html": [
       "<div>\n",
       "<table border=\"1\" class=\"dataframe\">\n",
       "  <thead>\n",
       "    <tr style=\"text-align: right;\">\n",
       "      <th></th>\n",
       "      <th>Unique Key</th>\n",
       "    </tr>\n",
       "    <tr>\n",
       "      <th>Complaint Type</th>\n",
       "      <th></th>\n",
       "    </tr>\n",
       "  </thead>\n",
       "  <tbody>\n",
       "    <tr>\n",
       "      <th>Street Condition</th>\n",
       "      <td>839</td>\n",
       "    </tr>\n",
       "    <tr>\n",
       "      <th>HEAT/HOT WATER</th>\n",
       "      <td>581</td>\n",
       "    </tr>\n",
       "    <tr>\n",
       "      <th>Noise - Residential</th>\n",
       "      <td>330</td>\n",
       "    </tr>\n",
       "  </tbody>\n",
       "</table>\n",
       "</div>"
      ],
      "text/plain": [
       "                     Unique Key\n",
       "Complaint Type                 \n",
       "Street Condition            839\n",
       "HEAT/HOT WATER              581\n",
       "Noise - Residential         330"
      ]
     },
     "execution_count": 228,
     "metadata": {},
     "output_type": "execute_result"
    }
   ],
   "source": [
    "april_1_complaints[['Unique Key', 'Complaint Type']].groupby('Complaint Type').count().sort_values('Unique Key', ascending = False).head(3)"
   ]
  },
  {
   "cell_type": "markdown",
   "metadata": {},
   "source": [
    "**What month has the most reports filed?** How many? Graph it."
   ]
  },
  {
   "cell_type": "code",
   "execution_count": 229,
   "metadata": {
    "collapsed": false
   },
   "outputs": [
    {
     "data": {
      "text/plain": [
       "1     190501\n",
       "2     202520\n",
       "3     206907\n",
       "4     182611\n",
       "5     187137\n",
       "6     198527\n",
       "7     194254\n",
       "8     185412\n",
       "9     182099\n",
       "10    197757\n",
       "11    183091\n",
       "12    175935\n",
       "Name: Unique Key, dtype: int64"
      ]
     },
     "execution_count": 229,
     "metadata": {},
     "output_type": "execute_result"
    }
   ],
   "source": [
    "complaints_by_month = df['Unique Key'].groupby(df.index.month).count()\n",
    "complaints_by_month"
   ]
  },
  {
   "cell_type": "code",
   "execution_count": 230,
   "metadata": {
    "collapsed": false
   },
   "outputs": [
    {
     "data": {
      "text/plain": [
       "<matplotlib.collections.PolyCollection at 0x12cf887f0>"
      ]
     },
     "execution_count": 230,
     "metadata": {},
     "output_type": "execute_result"
    },
    {
     "data": {
      "image/png": "[encoded data removed]",
      "text/plain": [
       "<matplotlib.figure.Figure at 0x1a4cb26d8>"
      ]
     },
     "metadata": {},
     "output_type": "display_data"
    }
   ],
   "source": [
    "ax = complaints_by_month.plot()\n",
    "ax.set_xticks([1, 2, 3, 4, 5, 6, 7, 8, 9, 10, 11, 12])\n",
    "ax.set_xticklabels(['Jan', 'Feb', 'Mar', 'Apr', 'May', 'Jun', 'Jul', 'Aug', 'Sep', 'Oct', 'Nov', 'Dec'])\n",
    "ax.set_ylabel('Number of Complaints')\n",
    "ax.set_title('311 Complaints by Month in 2015')\n",
    "\n",
    "# x_values = df.groupby(df.index.month).median().index\n",
    "min_values = 0\n",
    "max_values = complaints_by_month\n",
    "ax.fill_between(x_values, min_values, max_values, alpha = 0.4)\n"
   ]
  },
  {
   "cell_type": "markdown",
   "metadata": {},
   "source": [
    "**What week of the year has the most reports filed?** How many? Graph the weekly complaints."
   ]
  },
  {
   "cell_type": "code",
   "execution_count": 231,
   "metadata": {
    "collapsed": false
   },
   "outputs": [
    {
     "data": {
      "text/plain": [
       "1     17522\n",
       "2     54405\n",
       "3     40467\n",
       "4     39814\n",
       "5     43132\n",
       "6     49582\n",
       "7     45936\n",
       "8     55971\n",
       "9     50964\n",
       "10    47544\n",
       "11    50035\n",
       "12    46601\n",
       "13    43726\n",
       "14    41302\n",
       "15    42120\n",
       "16    42385\n",
       "17    44138\n",
       "18    42740\n",
       "19    43769\n",
       "20    42648\n",
       "21    41321\n",
       "22    43502\n",
       "23    44435\n",
       "24    45616\n",
       "25    46575\n",
       "26    46653\n",
       "27    42723\n",
       "28    43225\n",
       "29    44749\n",
       "30    44508\n",
       "31    44164\n",
       "32    43696\n",
       "33    41367\n",
       "34    42344\n",
       "35    41424\n",
       "36    43196\n",
       "37    41233\n",
       "38    42804\n",
       "39    42059\n",
       "40    45012\n",
       "41    41819\n",
       "42    44769\n",
       "43    46320\n",
       "44    43901\n",
       "45    41293\n",
       "46    44877\n",
       "47    45365\n",
       "48    39159\n",
       "49    44761\n",
       "50    41230\n",
       "51    41442\n",
       "52    32015\n",
       "53    24393\n",
       "Name: Unique Key, dtype: int64"
      ]
     },
     "execution_count": 231,
     "metadata": {},
     "output_type": "execute_result"
    }
   ],
   "source": [
    "complaints_by_week = df['Unique Key'].groupby(df.index.week).count()\n",
    "complaints_by_week"
   ]
  },
  {
   "cell_type": "code",
   "execution_count": 232,
   "metadata": {
    "collapsed": false
   },
   "outputs": [
    {
     "data": {
      "text/plain": [
       "<matplotlib.text.Text at 0x112372780>"
      ]
     },
     "execution_count": 232,
     "metadata": {},
     "output_type": "execute_result"
    },
    {
     "data": {
      "image/png": "[encoded data removed]",
      "text/plain": [
       "<matplotlib.figure.Figure at 0x1567dec50>"
      ]
     },
     "metadata": {},
     "output_type": "display_data"
    }
   ],
   "source": [
    "ax = complaints_by_week.plot()\n",
    "ax.set_xticks(range(1,53))\n",
    "ax.set_xticklabels(['', '', '', '', '5', \n",
    "                    '', '', '', '', '10', \n",
    "                    '', '', '', '', '15',\n",
    "                   '', '', '', '', '20',\n",
    "                   '', '', '', '', '25',\n",
    "                   '', '', '', '', '30',\n",
    "                   '', '', '', '', '35',\n",
    "                   '', '', '', '', '40',\n",
    "                   '', '', '', '', '45',\n",
    "                   '', '', '', '', '50',\n",
    "                   '', '',])\n",
    "ax.set_ylabel('Number of Complaints')\n",
    "ax.set_xlabel('Week of the Year')\n",
    "ax.set_title('311 Complaints by Week in 2015')"
   ]
  },
  {
   "cell_type": "markdown",
   "metadata": {},
   "source": [
    "Noise complaints are a big deal. Use `.str.contains` to select noise complaints, and make an chart of when they show up annually. **Then** make a chart about when they show up every day (cyclic)."
   ]
  },
  {
   "cell_type": "code",
   "execution_count": 233,
   "metadata": {
    "collapsed": false
   },
   "outputs": [],
   "source": [
    "noise_complaints = df[df['Complaint Type'].str.contains('Noise') == True]"
   ]
  },
  {
   "cell_type": "code",
   "execution_count": 234,
   "metadata": {
    "collapsed": false
   },
   "outputs": [],
   "source": [
    "noise_complaints_hour = noise_complaints['Unique Key'].groupby(noise_complaints.index.hour).count()"
   ]
  },
  {
   "cell_type": "code",
   "execution_count": 235,
   "metadata": {
    "collapsed": false
   },
   "outputs": [
    {
     "data": {
      "text/plain": [
       "<matplotlib.text.Text at 0x113f87c88>"
      ]
     },
     "execution_count": 235,
     "metadata": {},
     "output_type": "execute_result"
    },
    {
     "data": {
      "image/png": "[encoded data removed]",
      "text/plain": [
       "<matplotlib.figure.Figure at 0x14bfe59e8>"
      ]
     },
     "metadata": {},
     "output_type": "display_data"
    }
   ],
   "source": [
    "ax = noise_complaints_hour.plot()\n",
    "ax.set_xticks(range(0,24))\n",
    "ax.set_xticklabels(['Midnight', '', '', '', '', '', \n",
    "                    '6 am', '', '', '', '', '',\n",
    "                    'Noon', '', '', '', '', '',\n",
    "                    '6 pm', '', '', '', '', ''])\n",
    "ax.set_ylabel('Number of Complaints')\n",
    "ax.set_xlabel('Time of Day')\n",
    "ax.set_title('Noise Complaints by Time of Day in 2015')"
   ]
  },
  {
   "cell_type": "markdown",
   "metadata": {},
   "source": [
    "**Which were the top five days of the year for filing complaints?** How many on each of those days? Graph it."
   ]
  },
  {
   "cell_type": "code",
   "execution_count": 236,
   "metadata": {
    "collapsed": false
   },
   "outputs": [
    {
     "data": {
      "text/plain": [
       "created_datetime\n",
       "2015-01-08    11318\n",
       "2015-02-16    10434\n",
       "2015-11-13     9818\n",
       "2015-10-19     9662\n",
       "2015-02-20     9438\n",
       "Name: Unique Key, dtype: int64"
      ]
     },
     "execution_count": 236,
     "metadata": {},
     "output_type": "execute_result"
    }
   ],
   "source": [
    "top_complaining_days = df['Unique Key'].resample('D').count().sort_values(ascending = False).head()\n",
    "top_complaining_days"
   ]
  },
  {
   "cell_type": "code",
   "execution_count": 237,
   "metadata": {
    "collapsed": false
   },
   "outputs": [
    {
     "data": {
      "text/plain": [
       "<matplotlib.text.Text at 0x11503fb70>"
      ]
     },
     "execution_count": 237,
     "metadata": {},
     "output_type": "execute_result"
    },
    {
     "data": {
      "image/png": "[encoded data removed]",
      "text/plain": [
       "<matplotlib.figure.Figure at 0x1a8b74da0>"
      ]
     },
     "metadata": {},
     "output_type": "display_data"
    }
   ],
   "source": [
    "ax = top_complaining_days.plot(kind = 'barh')\n",
    "ax.set_ylabel('Date')\n",
    "ax.set_xlabel('Number of Complaints')\n",
    "ax.set_title('The Top 5 Days for 311 Complaints in 2015')"
   ]
  },
  {
   "cell_type": "code",
   "execution_count": 238,
   "metadata": {
    "collapsed": false
   },
   "outputs": [
    {
     "data": {
      "text/plain": [
       "<matplotlib.text.Text at 0x115866668>"
      ]
     },
     "execution_count": 238,
     "metadata": {},
     "output_type": "execute_result"
    },
    {
     "data": {
      "image/png": "[encoded data removed]",
      "text/plain": [
       "<matplotlib.figure.Figure at 0x115078710>"
      ]
     },
     "metadata": {},
     "output_type": "display_data"
    }
   ],
   "source": [
    "complaining_days = df['Unique Key'].resample('D').count()\n",
    "ax = complaining_days.plot()\n",
    "ax.set_ylabel('Number of Complaints')\n",
    "ax.set_xlabel('Day of Year')\n",
    "ax.set_title('Noise Complaints by Day in 2015')"
   ]
  },
  {
   "cell_type": "markdown",
   "metadata": {},
   "source": [
    "Interesting—it looks cyclical. Let's see what day of the week is most popular:"
   ]
  },
  {
   "cell_type": "code",
   "execution_count": 243,
   "metadata": {
    "collapsed": false
   },
   "outputs": [
    {
     "data": {
      "text/plain": [
       "Timestamp('2015-07-03 13:26:29')"
      ]
     },
     "execution_count": 243,
     "metadata": {},
     "output_type": "execute_result"
    }
   ],
   "source": [
    "df.index[1]"
   ]
  },
  {
   "cell_type": "code",
   "execution_count": 254,
   "metadata": {
    "collapsed": false
   },
   "outputs": [],
   "source": [
    "def get_day_of_wk(timestamp):\n",
    "    return datetime.datetime.strftime(timestamp, '%a')"
   ]
  },
  {
   "cell_type": "code",
   "execution_count": 255,
   "metadata": {
    "collapsed": true
   },
   "outputs": [],
   "source": [
    "df['datetime'] = df.index"
   ]
  },
  {
   "cell_type": "code",
   "execution_count": 256,
   "metadata": {
    "collapsed": false
   },
   "outputs": [],
   "source": [
    "df['day_of_wk'] = df['datetime'].apply(get_day_of_wk)"
   ]
  },
  {
   "cell_type": "code",
   "execution_count": 258,
   "metadata": {
    "collapsed": false
   },
   "outputs": [],
   "source": [
    "complaining_day_of_wk = df[['Unique Key', 'day_of_wk']].groupby('day_of_wk').count()"
   ]
  },
  {
   "cell_type": "code",
   "execution_count": 272,
   "metadata": {
    "collapsed": false
   },
   "outputs": [],
   "source": [
    "complaining_day_of_wk['number_of_day'] = [6, 2, 7, 1, 5, 3, 4]"
   ]
  },
  {
   "cell_type": "code",
   "execution_count": 275,
   "metadata": {
    "collapsed": false
   },
   "outputs": [],
   "source": [
    "complaining_day_of_wk_sorted = complaining_day_of_wk.sort_values('number_of_day')"
   ]
  },
  {
   "cell_type": "code",
   "execution_count": 277,
   "metadata": {
    "collapsed": false
   },
   "outputs": [
    {
     "data": {
      "text/html": [
       "<div>\n",
       "<table border=\"1\" class=\"dataframe\">\n",
       "  <thead>\n",
       "    <tr style=\"text-align: right;\">\n",
       "      <th></th>\n",
       "      <th>Unique Key</th>\n",
       "      <th>number_of_day</th>\n",
       "    </tr>\n",
       "    <tr>\n",
       "      <th>day_of_wk</th>\n",
       "      <th></th>\n",
       "      <th></th>\n",
       "    </tr>\n",
       "  </thead>\n",
       "  <tbody>\n",
       "    <tr>\n",
       "      <th>Sun</th>\n",
       "      <td>251452</td>\n",
       "      <td>1</td>\n",
       "    </tr>\n",
       "    <tr>\n",
       "      <th>Mon</th>\n",
       "      <td>367697</td>\n",
       "      <td>2</td>\n",
       "    </tr>\n",
       "    <tr>\n",
       "      <th>Tue</th>\n",
       "      <td>364313</td>\n",
       "      <td>3</td>\n",
       "    </tr>\n",
       "    <tr>\n",
       "      <th>Wed</th>\n",
       "      <td>357175</td>\n",
       "      <td>4</td>\n",
       "    </tr>\n",
       "    <tr>\n",
       "      <th>Thu</th>\n",
       "      <td>345647</td>\n",
       "      <td>5</td>\n",
       "    </tr>\n",
       "    <tr>\n",
       "      <th>Fri</th>\n",
       "      <td>333317</td>\n",
       "      <td>6</td>\n",
       "    </tr>\n",
       "    <tr>\n",
       "      <th>Sat</th>\n",
       "      <td>267150</td>\n",
       "      <td>7</td>\n",
       "    </tr>\n",
       "  </tbody>\n",
       "</table>\n",
       "</div>"
      ],
      "text/plain": [
       "           Unique Key  number_of_day\n",
       "day_of_wk                           \n",
       "Sun            251452              1\n",
       "Mon            367697              2\n",
       "Tue            364313              3\n",
       "Wed            357175              4\n",
       "Thu            345647              5\n",
       "Fri            333317              6\n",
       "Sat            267150              7"
      ]
     },
     "execution_count": 277,
     "metadata": {},
     "output_type": "execute_result"
    }
   ],
   "source": [
    "complaining_day_of_wk_sorted"
   ]
  },
  {
   "cell_type": "code",
   "execution_count": 282,
   "metadata": {
    "collapsed": false
   },
   "outputs": [
    {
     "data": {
      "image/png": "[encoded data removed]",
      "text/plain": [
       "<matplotlib.figure.Figure at 0x1190f6710>"
      ]
     },
     "metadata": {},
     "output_type": "display_data"
    }
   ],
   "source": [
    "ax = complaining_day_of_wk_sorted.plot(y = 'Unique Key', legend = False)"
   ]
  },
  {
   "cell_type": "markdown",
   "metadata": {},
   "source": [
    "**What hour of the day are the most complaints?** Graph a day of complaints."
   ]
  },
  {
   "cell_type": "code",
   "execution_count": 283,
   "metadata": {
    "collapsed": false
   },
   "outputs": [],
   "source": [
    "hourly_complaints = df['Unique Key'].groupby(df.index.hour).count()"
   ]
  },
  {
   "cell_type": "code",
   "execution_count": 284,
   "metadata": {
    "collapsed": false
   },
   "outputs": [
    {
     "data": {
      "text/plain": [
       "<matplotlib.text.Text at 0x119319390>"
      ]
     },
     "execution_count": 284,
     "metadata": {},
     "output_type": "execute_result"
    },
    {
     "data": {
      "image/png": "[encoded data removed]",
      "text/plain": [
       "<matplotlib.figure.Figure at 0x1192581d0>"
      ]
     },
     "metadata": {},
     "output_type": "display_data"
    }
   ],
   "source": [
    "ax = hourly_complaints.plot()\n",
    "ax.set_xticks(range(0,24))\n",
    "ax.set_xticklabels(['Midnight', '', '', '', '', '', \n",
    "                    '6 am', '', '', '', '', '',\n",
    "                    'Noon', '', '', '', '', '',\n",
    "                    '6 pm', '', '', '', '', ''])\n",
    "ax.set_ylabel('Number of Complaints')\n",
    "ax.set_xlabel('Time of Day')\n",
    "ax.set_title('311 Complaints by Time of Day in 2015')"
   ]
  },
  {
   "cell_type": "markdown",
   "metadata": {},
   "source": [
    "One of the hours has an odd number of complaints. What are the most common complaints at that hour, and what are the most common complaints the hour before and after?"
   ]
  },
  {
   "cell_type": "code",
   "execution_count": 285,
   "metadata": {
    "collapsed": false
   },
   "outputs": [
    {
     "data": {
      "text/html": [
       "<div>\n",
       "<table border=\"1\" class=\"dataframe\">\n",
       "  <thead>\n",
       "    <tr style=\"text-align: right;\">\n",
       "      <th></th>\n",
       "      <th>Unique Key</th>\n",
       "      <th>Descriptor</th>\n",
       "    </tr>\n",
       "    <tr>\n",
       "      <th>Complaint Type</th>\n",
       "      <th></th>\n",
       "      <th></th>\n",
       "    </tr>\n",
       "  </thead>\n",
       "  <tbody>\n",
       "    <tr>\n",
       "      <th>Noise - Residential</th>\n",
       "      <td>27576</td>\n",
       "      <td>27576</td>\n",
       "    </tr>\n",
       "    <tr>\n",
       "      <th>Noise - Street/Sidewalk</th>\n",
       "      <td>7293</td>\n",
       "      <td>7293</td>\n",
       "    </tr>\n",
       "    <tr>\n",
       "      <th>Noise - Commercial</th>\n",
       "      <td>6955</td>\n",
       "      <td>6955</td>\n",
       "    </tr>\n",
       "    <tr>\n",
       "      <th>Blocked Driveway</th>\n",
       "      <td>4775</td>\n",
       "      <td>4775</td>\n",
       "    </tr>\n",
       "    <tr>\n",
       "      <th>Illegal Parking</th>\n",
       "      <td>4373</td>\n",
       "      <td>4373</td>\n",
       "    </tr>\n",
       "  </tbody>\n",
       "</table>\n",
       "</div>"
      ],
      "text/plain": [
       "                         Unique Key  Descriptor\n",
       "Complaint Type                                 \n",
       "Noise - Residential           27576       27576\n",
       "Noise - Street/Sidewalk        7293        7293\n",
       "Noise - Commercial             6955        6955\n",
       "Blocked Driveway               4775        4775\n",
       "Illegal Parking                4373        4373"
      ]
     },
     "execution_count": 285,
     "metadata": {},
     "output_type": "execute_result"
    }
   ],
   "source": [
    "# 11 pm\n",
    "df[df.index.hour == 23][['Unique Key', 'Complaint Type', 'Descriptor']].groupby('Complaint Type').count().sort_values('Unique Key', ascending = False).head()"
   ]
  },
  {
   "cell_type": "code",
   "execution_count": 286,
   "metadata": {
    "collapsed": false
   },
   "outputs": [
    {
     "data": {
      "text/html": [
       "<div>\n",
       "<table border=\"1\" class=\"dataframe\">\n",
       "  <thead>\n",
       "    <tr style=\"text-align: right;\">\n",
       "      <th></th>\n",
       "      <th>Unique Key</th>\n",
       "      <th>Descriptor</th>\n",
       "    </tr>\n",
       "    <tr>\n",
       "      <th>Complaint Type</th>\n",
       "      <th></th>\n",
       "      <th></th>\n",
       "    </tr>\n",
       "  </thead>\n",
       "  <tbody>\n",
       "    <tr>\n",
       "      <th>HEAT/HOT WATER</th>\n",
       "      <td>142330</td>\n",
       "      <td>142330</td>\n",
       "    </tr>\n",
       "    <tr>\n",
       "      <th>Rodent</th>\n",
       "      <td>28567</td>\n",
       "      <td>28567</td>\n",
       "    </tr>\n",
       "    <tr>\n",
       "      <th>PAINT/PLASTER</th>\n",
       "      <td>28165</td>\n",
       "      <td>28165</td>\n",
       "    </tr>\n",
       "    <tr>\n",
       "      <th>UNSANITARY CONDITION</th>\n",
       "      <td>27962</td>\n",
       "      <td>27962</td>\n",
       "    </tr>\n",
       "    <tr>\n",
       "      <th>PLUMBING</th>\n",
       "      <td>24137</td>\n",
       "      <td>24137</td>\n",
       "    </tr>\n",
       "  </tbody>\n",
       "</table>\n",
       "</div>"
      ],
      "text/plain": [
       "                      Unique Key  Descriptor\n",
       "Complaint Type                              \n",
       "HEAT/HOT WATER            142330      142330\n",
       "Rodent                     28567       28567\n",
       "PAINT/PLASTER              28165       28165\n",
       "UNSANITARY CONDITION       27962       27962\n",
       "PLUMBING                   24137       24137"
      ]
     },
     "execution_count": 286,
     "metadata": {},
     "output_type": "execute_result"
    }
   ],
   "source": [
    "# 12 am\n",
    "df[df.index.hour == 0][['Unique Key', 'Complaint Type', 'Descriptor']].groupby('Complaint Type').count().sort_values('Unique Key', ascending = False).head()"
   ]
  },
  {
   "cell_type": "code",
   "execution_count": 287,
   "metadata": {
    "collapsed": false
   },
   "outputs": [
    {
     "data": {
      "text/html": [
       "<div>\n",
       "<table border=\"1\" class=\"dataframe\">\n",
       "  <thead>\n",
       "    <tr style=\"text-align: right;\">\n",
       "      <th></th>\n",
       "      <th>Unique Key</th>\n",
       "      <th>Descriptor</th>\n",
       "    </tr>\n",
       "    <tr>\n",
       "      <th>Complaint Type</th>\n",
       "      <th></th>\n",
       "      <th></th>\n",
       "    </tr>\n",
       "  </thead>\n",
       "  <tbody>\n",
       "    <tr>\n",
       "      <th>Noise - Residential</th>\n",
       "      <td>16893</td>\n",
       "      <td>16893</td>\n",
       "    </tr>\n",
       "    <tr>\n",
       "      <th>Noise - Commercial</th>\n",
       "      <td>4685</td>\n",
       "      <td>4685</td>\n",
       "    </tr>\n",
       "    <tr>\n",
       "      <th>Noise - Street/Sidewalk</th>\n",
       "      <td>3819</td>\n",
       "      <td>3819</td>\n",
       "    </tr>\n",
       "    <tr>\n",
       "      <th>Noise</th>\n",
       "      <td>2282</td>\n",
       "      <td>2282</td>\n",
       "    </tr>\n",
       "    <tr>\n",
       "      <th>Blocked Driveway</th>\n",
       "      <td>2267</td>\n",
       "      <td>2267</td>\n",
       "    </tr>\n",
       "  </tbody>\n",
       "</table>\n",
       "</div>"
      ],
      "text/plain": [
       "                         Unique Key  Descriptor\n",
       "Complaint Type                                 \n",
       "Noise - Residential           16893       16893\n",
       "Noise - Commercial             4685        4685\n",
       "Noise - Street/Sidewalk        3819        3819\n",
       "Noise                          2282        2282\n",
       "Blocked Driveway               2267        2267"
      ]
     },
     "execution_count": 287,
     "metadata": {},
     "output_type": "execute_result"
    }
   ],
   "source": [
    "# 1 am\n",
    "df[df.index.hour == 1][['Unique Key', 'Complaint Type', 'Descriptor']].groupby('Complaint Type').count().sort_values('Unique Key', ascending = False).head()"
   ]
  },
  {
   "cell_type": "markdown",
   "metadata": {},
   "source": [
    "So odd. What's the **per-minute breakdown** of complaints between 12am and 1am? You don't need to include 1am."
   ]
  },
  {
   "cell_type": "code",
   "execution_count": 291,
   "metadata": {
    "collapsed": false
   },
   "outputs": [
    {
     "name": "stdout",
     "output_type": "stream",
     "text": [
      "12:00's top complaint was:                 Unique Key\n",
      "Complaint Type            \n",
      "HEAT/HOT WATER      140688\n",
      "\n",
      "12:01's top complaint was:                      Unique Key\n",
      "Complaint Type                 \n",
      "Noise - Residential         366\n",
      "\n",
      "12:02's top complaint was:                      Unique Key\n",
      "Complaint Type                 \n",
      "Noise - Residential         372\n",
      "\n",
      "12:03's top complaint was:                      Unique Key\n",
      "Complaint Type                 \n",
      "Noise - Residential         387\n",
      "\n",
      "12:04's top complaint was:                      Unique Key\n",
      "Complaint Type                 \n",
      "Noise - Residential         390\n",
      "\n",
      "12:05's top complaint was:                      Unique Key\n",
      "Complaint Type                 \n",
      "Noise - Residential         441\n",
      "\n",
      "12:06's top complaint was:                      Unique Key\n",
      "Complaint Type                 \n",
      "Noise - Residential         429\n",
      "\n",
      "12:07's top complaint was:                      Unique Key\n",
      "Complaint Type                 \n",
      "Noise - Residential         398\n",
      "\n",
      "12:08's top complaint was:                      Unique Key\n",
      "Complaint Type                 \n",
      "Noise - Residential         415\n",
      "\n",
      "12:09's top complaint was:                      Unique Key\n",
      "Complaint Type                 \n",
      "Noise - Residential         384\n",
      "\n",
      "12:10's top complaint was:                      Unique Key\n",
      "Complaint Type                 \n",
      "Noise - Residential         405\n",
      "\n",
      "12:11's top complaint was:                      Unique Key\n",
      "Complaint Type                 \n",
      "Noise - Residential         411\n",
      "\n",
      "12:12's top complaint was:                      Unique Key\n",
      "Complaint Type                 \n",
      "Noise - Residential         383\n",
      "\n",
      "12:13's top complaint was:                      Unique Key\n",
      "Complaint Type                 \n",
      "Noise - Residential         386\n",
      "\n",
      "12:14's top complaint was:                      Unique Key\n",
      "Complaint Type                 \n",
      "Noise - Residential         379\n",
      "\n",
      "12:15's top complaint was:                      Unique Key\n",
      "Complaint Type                 \n",
      "Noise - Residential         417\n",
      "\n",
      "12:16's top complaint was:                      Unique Key\n",
      "Complaint Type                 \n",
      "Noise - Residential         382\n",
      "\n",
      "12:17's top complaint was:                      Unique Key\n",
      "Complaint Type                 \n",
      "Noise - Residential         403\n",
      "\n",
      "12:18's top complaint was:                      Unique Key\n",
      "Complaint Type                 \n",
      "Noise - Residential         393\n",
      "\n",
      "12:19's top complaint was:                      Unique Key\n",
      "Complaint Type                 \n",
      "Noise - Residential         365\n",
      "\n",
      "12:20's top complaint was:                      Unique Key\n",
      "Complaint Type                 \n",
      "Noise - Residential         379\n",
      "\n",
      "12:21's top complaint was:                      Unique Key\n",
      "Complaint Type                 \n",
      "Noise - Residential         371\n",
      "\n",
      "12:22's top complaint was:                      Unique Key\n",
      "Complaint Type                 \n",
      "Noise - Residential         398\n",
      "\n",
      "12:23's top complaint was:                      Unique Key\n",
      "Complaint Type                 \n",
      "Noise - Residential         383\n",
      "\n",
      "12:24's top complaint was:                      Unique Key\n",
      "Complaint Type                 \n",
      "Noise - Residential         387\n",
      "\n",
      "12:25's top complaint was:                      Unique Key\n",
      "Complaint Type                 \n",
      "Noise - Residential         351\n",
      "\n",
      "12:26's top complaint was:                      Unique Key\n",
      "Complaint Type                 \n",
      "Noise - Residential         384\n",
      "\n",
      "12:27's top complaint was:                      Unique Key\n",
      "Complaint Type                 \n",
      "Noise - Residential         353\n",
      "\n",
      "12:28's top complaint was:                      Unique Key\n",
      "Complaint Type                 \n",
      "Noise - Residential         354\n",
      "\n",
      "12:29's top complaint was:                      Unique Key\n",
      "Complaint Type                 \n",
      "Noise - Residential         411\n",
      "\n",
      "12:30's top complaint was:                      Unique Key\n",
      "Complaint Type                 \n",
      "Noise - Residential         345\n",
      "\n",
      "12:31's top complaint was:                      Unique Key\n",
      "Complaint Type                 \n",
      "Noise - Residential         380\n",
      "\n",
      "12:32's top complaint was:                      Unique Key\n",
      "Complaint Type                 \n",
      "Noise - Residential         412\n",
      "\n",
      "12:33's top complaint was:                      Unique Key\n",
      "Complaint Type                 \n",
      "Noise - Residential         351\n",
      "\n",
      "12:34's top complaint was:                      Unique Key\n",
      "Complaint Type                 \n",
      "Noise - Residential         362\n",
      "\n",
      "12:35's top complaint was:                      Unique Key\n",
      "Complaint Type                 \n",
      "Noise - Residential         403\n",
      "\n",
      "12:36's top complaint was:                      Unique Key\n",
      "Complaint Type                 \n",
      "Noise - Residential         359\n",
      "\n",
      "12:37's top complaint was:                      Unique Key\n",
      "Complaint Type                 \n",
      "Noise - Residential         378\n",
      "\n",
      "12:38's top complaint was:                      Unique Key\n",
      "Complaint Type                 \n",
      "Noise - Residential         374\n",
      "\n",
      "12:39's top complaint was:                      Unique Key\n",
      "Complaint Type                 \n",
      "Noise - Residential         356\n",
      "\n",
      "12:40's top complaint was:                      Unique Key\n",
      "Complaint Type                 \n",
      "Noise - Residential         354\n",
      "\n",
      "12:41's top complaint was:                      Unique Key\n",
      "Complaint Type                 \n",
      "Noise - Residential         339\n",
      "\n",
      "12:42's top complaint was:                      Unique Key\n",
      "Complaint Type                 \n",
      "Noise - Residential         365\n",
      "\n",
      "12:43's top complaint was:                      Unique Key\n",
      "Complaint Type                 \n",
      "Noise - Residential         382\n",
      "\n",
      "12:44's top complaint was:                      Unique Key\n",
      "Complaint Type                 \n",
      "Noise - Residential         341\n",
      "\n",
      "12:45's top complaint was:                      Unique Key\n",
      "Complaint Type                 \n",
      "Noise - Residential         348\n",
      "\n",
      "12:46's top complaint was:                      Unique Key\n",
      "Complaint Type                 \n",
      "Noise - Residential         369\n",
      "\n",
      "12:47's top complaint was:                      Unique Key\n",
      "Complaint Type                 \n",
      "Noise - Residential         317\n",
      "\n",
      "12:48's top complaint was:                      Unique Key\n",
      "Complaint Type                 \n",
      "Noise - Residential         310\n",
      "\n",
      "12:49's top complaint was:                      Unique Key\n",
      "Complaint Type                 \n",
      "Noise - Residential         361\n",
      "\n",
      "12:50's top complaint was:                      Unique Key\n",
      "Complaint Type                 \n",
      "Noise - Residential         326\n",
      "\n",
      "12:51's top complaint was:                      Unique Key\n",
      "Complaint Type                 \n",
      "Noise - Residential         312\n",
      "\n",
      "12:52's top complaint was:                      Unique Key\n",
      "Complaint Type                 \n",
      "Noise - Residential         351\n",
      "\n",
      "12:53's top complaint was:                      Unique Key\n",
      "Complaint Type                 \n",
      "Noise - Residential         356\n",
      "\n",
      "12:54's top complaint was:                      Unique Key\n",
      "Complaint Type                 \n",
      "Noise - Residential         337\n",
      "\n",
      "12:55's top complaint was:                      Unique Key\n",
      "Complaint Type                 \n",
      "Noise - Residential         355\n",
      "\n",
      "12:56's top complaint was:                      Unique Key\n",
      "Complaint Type                 \n",
      "Noise - Residential         305\n",
      "\n",
      "12:57's top complaint was:                      Unique Key\n",
      "Complaint Type                 \n",
      "Noise - Residential         361\n",
      "\n",
      "12:58's top complaint was:                      Unique Key\n",
      "Complaint Type                 \n",
      "Noise - Residential         367\n",
      "\n",
      "12:59's top complaint was:                      Unique Key\n",
      "Complaint Type                 \n",
      "Noise - Residential         296\n",
      "\n"
     ]
    }
   ],
   "source": [
    "midnight_complaints = df[df.index.hour == 0][['Unique Key', 'Complaint Type']]\n",
    "\n",
    "for minute in range(0, 60):\n",
    "    top_complaint = midnight_complaints[midnight_complaints.index.minute == minute].groupby('Complaint Type').count().sort_values('Unique Key', ascending = False).head(1)\n",
    "    if minute < 10:\n",
    "        minute = '0' + str(minute)\n",
    "    else:\n",
    "        minute = str(minute)\n",
    "    print('12:' + minute + '\\'s top complaint was:', top_complaint)\n",
    "    print('')\n",
    "# hourly_complaints = df['Unique Key'].groupby(df.index.hour).count()"
   ]
  },
  {
   "cell_type": "markdown",
   "metadata": {},
   "source": [
    "Looks like midnight is a little bit of an outlier. Why might that be? Take the 5 most common agencies and graph the times they file reports at (all day, not just midnight)."
   ]
  },
  {
   "cell_type": "markdown",
   "metadata": {},
   "source": [
    "5 Top Agencies:"
   ]
  },
  {
   "cell_type": "code",
   "execution_count": 292,
   "metadata": {
    "collapsed": false
   },
   "outputs": [
    {
     "data": {
      "text/html": [
       "<div>\n",
       "<table border=\"1\" class=\"dataframe\">\n",
       "  <thead>\n",
       "    <tr style=\"text-align: right;\">\n",
       "      <th></th>\n",
       "      <th>Unique Key</th>\n",
       "    </tr>\n",
       "    <tr>\n",
       "      <th>Agency</th>\n",
       "      <th></th>\n",
       "    </tr>\n",
       "  </thead>\n",
       "  <tbody>\n",
       "    <tr>\n",
       "      <th>HPD</th>\n",
       "      <td>629352</td>\n",
       "    </tr>\n",
       "    <tr>\n",
       "      <th>NYPD</th>\n",
       "      <td>580090</td>\n",
       "    </tr>\n",
       "    <tr>\n",
       "      <th>DOT</th>\n",
       "      <td>318886</td>\n",
       "    </tr>\n",
       "    <tr>\n",
       "      <th>DEP</th>\n",
       "      <td>185305</td>\n",
       "    </tr>\n",
       "    <tr>\n",
       "      <th>DSNY</th>\n",
       "      <td>155217</td>\n",
       "    </tr>\n",
       "  </tbody>\n",
       "</table>\n",
       "</div>"
      ],
      "text/plain": [
       "        Unique Key\n",
       "Agency            \n",
       "HPD         629352\n",
       "NYPD        580090\n",
       "DOT         318886\n",
       "DEP         185305\n",
       "DSNY        155217"
      ]
     },
     "execution_count": 292,
     "metadata": {},
     "output_type": "execute_result"
    }
   ],
   "source": [
    "df[['Unique Key', 'Agency']].groupby('Agency').count().sort_values('Unique Key', ascending = False).head()"
   ]
  },
  {
   "cell_type": "code",
   "execution_count": 293,
   "metadata": {
    "collapsed": true
   },
   "outputs": [],
   "source": [
    "def agency_hourly_complaints(agency_name_str):\n",
    "    agency_complaints = df[df['Agency'] == agency_name_str]\n",
    "    return agency_complaints['Unique Key'].groupby(agency_complaints.index.hour).count()"
   ]
  },
  {
   "cell_type": "code",
   "execution_count": 294,
   "metadata": {
    "collapsed": false
   },
   "outputs": [
    {
     "data": {
      "image/png": "[encoded data removed]",
      "text/plain": [
       "<matplotlib.figure.Figure at 0x11924b908>"
      ]
     },
     "metadata": {},
     "output_type": "display_data"
    }
   ],
   "source": [
    "ax = agency_hourly_complaints('HPD').plot(label = 'HPD', legend = True)\n",
    "for x in ['NYPD', 'DOT', 'DEP', 'DSNY']:\n",
    "    agency_hourly_complaints(x).plot(ax = ax, label = x, legend = True)"
   ]
  },
  {
   "cell_type": "markdown",
   "metadata": {},
   "source": [
    "Graph those same agencies on an annual basis - make it **weekly**. When do people like to complain? When does the NYPD have an odd number of complaints?"
   ]
  },
  {
   "cell_type": "code",
   "execution_count": 295,
   "metadata": {
    "collapsed": false
   },
   "outputs": [],
   "source": [
    "def agency_weekly_complaints(agency_name_str):\n",
    "    agency_complaints = df[df['Agency'] == agency_name_str]\n",
    "    return agency_complaints['Unique Key'].groupby(agency_complaints.index.week).count()"
   ]
  },
  {
   "cell_type": "code",
   "execution_count": 296,
   "metadata": {
    "collapsed": false
   },
   "outputs": [
    {
     "data": {
      "image/png": "[encoded data removed]",
      "text/plain": [
       "<matplotlib.figure.Figure at 0x11272a9b0>"
      ]
     },
     "metadata": {},
     "output_type": "display_data"
    }
   ],
   "source": [
    "ax = agency_weekly_complaints('NYPD').plot(label = 'NYPD', legend = True)\n",
    "for x in ['DOT', 'HPD', 'DPR', 'DSNY']:\n",
    "    agency_weekly_complaints(x).plot(ax = ax, label = x, legend = True)"
   ]
  },
  {
   "cell_type": "code",
   "execution_count": 299,
   "metadata": {
    "collapsed": false
   },
   "outputs": [
    {
     "data": {
      "text/plain": [
       "19    13959\n",
       "22    14404\n",
       "23    13286\n",
       "27    13836\n",
       "35    13048\n",
       "38    13198\n",
       "39    13966\n",
       "Name: Unique Key, dtype: int64"
      ]
     },
     "execution_count": 299,
     "metadata": {},
     "output_type": "execute_result"
    }
   ],
   "source": [
    "NYPD_complaints = df[df['Agency'] == 'NYPD']\n",
    "NYPD_weekly_complaints = NYPD_complaints['Unique Key'].groupby(NYPD_complaints.index.week).count()\n",
    "NYPD_weekly_complaints[NYPD_weekly_complaints > 13000]"
   ]
  },
  {
   "cell_type": "code",
   "execution_count": 300,
   "metadata": {
    "collapsed": false
   },
   "outputs": [],
   "source": [
    "# # a way to use the function agency_weekly_complaints that's actually longer than not using it.\n",
    "# week_number = 0\n",
    "# for week in agency_weekly_complaints('NYPD'):\n",
    "#     week_number += 1\n",
    "#     if week > 1500:\n",
    "#         print('In week', week_number)\n",
    "#         print('there were', week, 'complaints.')\n",
    "#         print('')"
   ]
  },
  {
   "cell_type": "markdown",
   "metadata": {},
   "source": [
    "It looks like complaints are most popular in May, June, September—generally in the summer."
   ]
  },
  {
   "cell_type": "code",
   "execution_count": 301,
   "metadata": {
    "collapsed": false
   },
   "outputs": [
    {
     "data": {
      "text/plain": [
       "1     5590\n",
       "53    5505\n",
       "Name: Unique Key, dtype: int64"
      ]
     },
     "execution_count": 301,
     "metadata": {},
     "output_type": "execute_result"
    }
   ],
   "source": [
    "NYPD_weekly_complaints[NYPD_weekly_complaints < 6000]"
   ]
  },
  {
   "cell_type": "markdown",
   "metadata": {},
   "source": [
    "It looks like complaints are least popular in around Christmas and New Year's."
   ]
  },
  {
   "cell_type": "markdown",
   "metadata": {},
   "source": [
    "Maybe the NYPD deals with different issues at different times? Check the most popular complaints in July and August vs the month of May. Also check the most common complaints for the Housing Preservation Bureau (HPD) in winter vs. summer."
   ]
  },
  {
   "cell_type": "markdown",
   "metadata": {
    "collapsed": false
   },
   "source": [
    "Most popular NYPD complaints in July and August:"
   ]
  },
  {
   "cell_type": "code",
   "execution_count": 302,
   "metadata": {
    "collapsed": false
   },
   "outputs": [
    {
     "data": {
      "text/html": [
       "<div>\n",
       "<table border=\"1\" class=\"dataframe\">\n",
       "  <thead>\n",
       "    <tr style=\"text-align: right;\">\n",
       "      <th></th>\n",
       "      <th>Unique Key</th>\n",
       "    </tr>\n",
       "    <tr>\n",
       "      <th>Complaint Type</th>\n",
       "      <th></th>\n",
       "    </tr>\n",
       "  </thead>\n",
       "  <tbody>\n",
       "    <tr>\n",
       "      <th>Noise - Residential</th>\n",
       "      <td>37509</td>\n",
       "    </tr>\n",
       "    <tr>\n",
       "      <th>Illegal Parking</th>\n",
       "      <td>16287</td>\n",
       "    </tr>\n",
       "    <tr>\n",
       "      <th>Noise - Street/Sidewalk</th>\n",
       "      <td>15463</td>\n",
       "    </tr>\n",
       "    <tr>\n",
       "      <th>Blocked Driveway</th>\n",
       "      <td>15428</td>\n",
       "    </tr>\n",
       "    <tr>\n",
       "      <th>Noise - Commercial</th>\n",
       "      <td>5973</td>\n",
       "    </tr>\n",
       "  </tbody>\n",
       "</table>\n",
       "</div>"
      ],
      "text/plain": [
       "                         Unique Key\n",
       "Complaint Type                     \n",
       "Noise - Residential           37509\n",
       "Illegal Parking               16287\n",
       "Noise - Street/Sidewalk       15463\n",
       "Blocked Driveway              15428\n",
       "Noise - Commercial             5973"
      ]
     },
     "execution_count": 302,
     "metadata": {},
     "output_type": "execute_result"
    }
   ],
   "source": [
    "NYPD_complaints = df[df['Agency'] == 'NYPD']\n",
    "NYPD_jul_aug_complaints = NYPD_complaints[(NYPD_complaints.index.month == 7) | (NYPD_complaints.index.month == 8)][['Unique Key', 'Complaint Type']]\n",
    "NYPD_jul_aug_complaints.groupby('Complaint Type').count().sort_values('Unique Key', ascending = False).head()"
   ]
  },
  {
   "cell_type": "markdown",
   "metadata": {},
   "source": [
    "Most popular NYPD complaints in May:"
   ]
  },
  {
   "cell_type": "code",
   "execution_count": 303,
   "metadata": {
    "collapsed": false
   },
   "outputs": [
    {
     "data": {
      "text/html": [
       "<div>\n",
       "<table border=\"1\" class=\"dataframe\">\n",
       "  <thead>\n",
       "    <tr style=\"text-align: right;\">\n",
       "      <th></th>\n",
       "      <th>Unique Key</th>\n",
       "    </tr>\n",
       "    <tr>\n",
       "      <th>Complaint Type</th>\n",
       "      <th></th>\n",
       "    </tr>\n",
       "  </thead>\n",
       "  <tbody>\n",
       "    <tr>\n",
       "      <th>Noise - Residential</th>\n",
       "      <td>22923</td>\n",
       "    </tr>\n",
       "    <tr>\n",
       "      <th>Illegal Parking</th>\n",
       "      <td>8105</td>\n",
       "    </tr>\n",
       "    <tr>\n",
       "      <th>Blocked Driveway</th>\n",
       "      <td>8103</td>\n",
       "    </tr>\n",
       "    <tr>\n",
       "      <th>Noise - Street/Sidewalk</th>\n",
       "      <td>7157</td>\n",
       "    </tr>\n",
       "    <tr>\n",
       "      <th>Noise - Commercial</th>\n",
       "      <td>4922</td>\n",
       "    </tr>\n",
       "  </tbody>\n",
       "</table>\n",
       "</div>"
      ],
      "text/plain": [
       "                         Unique Key\n",
       "Complaint Type                     \n",
       "Noise - Residential           22923\n",
       "Illegal Parking                8105\n",
       "Blocked Driveway               8103\n",
       "Noise - Street/Sidewalk        7157\n",
       "Noise - Commercial             4922"
      ]
     },
     "execution_count": 303,
     "metadata": {},
     "output_type": "execute_result"
    }
   ],
   "source": [
    "NYPD_complaints = df[df['Agency'] == 'NYPD']\n",
    "NYPD_may_complaints = NYPD_complaints[(NYPD_complaints.index.month == 5)][['Unique Key', 'Complaint Type']]\n",
    "NYPD_may_complaints.groupby('Complaint Type').count().sort_values('Unique Key', ascending = False).head()"
   ]
  },
  {
   "cell_type": "markdown",
   "metadata": {},
   "source": [
    "Most popular HPD complaints in June, July, and August:"
   ]
  },
  {
   "cell_type": "code",
   "execution_count": 304,
   "metadata": {
    "collapsed": false
   },
   "outputs": [
    {
     "data": {
      "text/html": [
       "<div>\n",
       "<table border=\"1\" class=\"dataframe\">\n",
       "  <thead>\n",
       "    <tr style=\"text-align: right;\">\n",
       "      <th></th>\n",
       "      <th>Unique Key</th>\n",
       "    </tr>\n",
       "    <tr>\n",
       "      <th>Complaint Type</th>\n",
       "      <th></th>\n",
       "    </tr>\n",
       "  </thead>\n",
       "  <tbody>\n",
       "    <tr>\n",
       "      <th>UNSANITARY CONDITION</th>\n",
       "      <td>23687</td>\n",
       "    </tr>\n",
       "    <tr>\n",
       "      <th>PAINT/PLASTER</th>\n",
       "      <td>17653</td>\n",
       "    </tr>\n",
       "    <tr>\n",
       "      <th>PLUMBING</th>\n",
       "      <td>12617</td>\n",
       "    </tr>\n",
       "    <tr>\n",
       "      <th>DOOR/WINDOW</th>\n",
       "      <td>9440</td>\n",
       "    </tr>\n",
       "    <tr>\n",
       "      <th>WATER LEAK</th>\n",
       "      <td>8679</td>\n",
       "    </tr>\n",
       "  </tbody>\n",
       "</table>\n",
       "</div>"
      ],
      "text/plain": [
       "                      Unique Key\n",
       "Complaint Type                  \n",
       "UNSANITARY CONDITION       23687\n",
       "PAINT/PLASTER              17653\n",
       "PLUMBING                   12617\n",
       "DOOR/WINDOW                 9440\n",
       "WATER LEAK                  8679"
      ]
     },
     "execution_count": 304,
     "metadata": {},
     "output_type": "execute_result"
    }
   ],
   "source": [
    "HPD_complaints = df[df['Agency'] == 'HPD']\n",
    "HPD_jun_jul_aug_complaints = HPD_complaints[(HPD_complaints.index.month == 6) |\n",
    "                                           (HPD_complaints.index.month == 7) |\n",
    "                                           (HPD_complaints.index.month == 8)][['Unique Key', 'Complaint Type']]\n",
    "HPD_jun_jul_aug_complaints.groupby('Complaint Type').count().sort_values('Unique Key', ascending = False).head()"
   ]
  },
  {
   "cell_type": "markdown",
   "metadata": {
    "collapsed": true
   },
   "source": [
    "Most popular HPD complaints in December, January, and February:"
   ]
  },
  {
   "cell_type": "code",
   "execution_count": 305,
   "metadata": {
    "collapsed": false
   },
   "outputs": [
    {
     "data": {
      "text/html": [
       "<div>\n",
       "<table border=\"1\" class=\"dataframe\">\n",
       "  <thead>\n",
       "    <tr style=\"text-align: right;\">\n",
       "      <th></th>\n",
       "      <th>Unique Key</th>\n",
       "    </tr>\n",
       "    <tr>\n",
       "      <th>Complaint Type</th>\n",
       "      <th></th>\n",
       "    </tr>\n",
       "  </thead>\n",
       "  <tbody>\n",
       "    <tr>\n",
       "      <th>HEAT/HOT WATER</th>\n",
       "      <td>121055</td>\n",
       "    </tr>\n",
       "    <tr>\n",
       "      <th>UNSANITARY CONDITION</th>\n",
       "      <td>18118</td>\n",
       "    </tr>\n",
       "    <tr>\n",
       "      <th>PAINT/PLASTER</th>\n",
       "      <td>16632</td>\n",
       "    </tr>\n",
       "    <tr>\n",
       "      <th>PLUMBING</th>\n",
       "      <td>15799</td>\n",
       "    </tr>\n",
       "    <tr>\n",
       "      <th>DOOR/WINDOW</th>\n",
       "      <td>10801</td>\n",
       "    </tr>\n",
       "  </tbody>\n",
       "</table>\n",
       "</div>"
      ],
      "text/plain": [
       "                      Unique Key\n",
       "Complaint Type                  \n",
       "HEAT/HOT WATER            121055\n",
       "UNSANITARY CONDITION       18118\n",
       "PAINT/PLASTER              16632\n",
       "PLUMBING                   15799\n",
       "DOOR/WINDOW                10801"
      ]
     },
     "execution_count": 305,
     "metadata": {},
     "output_type": "execute_result"
    }
   ],
   "source": [
    "HPD_complaints = df[df['Agency'] == 'HPD']\n",
    "HPD_dec_jan_feb_complaints = HPD_complaints[(HPD_complaints.index.month == 12) |\n",
    "                                           (HPD_complaints.index.month == 1) |\n",
    "                                           (HPD_complaints.index.month == 2)][['Unique Key', 'Complaint Type']]\n",
    "HPD_dec_jan_feb_complaints.groupby('Complaint Type').count().sort_values('Unique Key', ascending = False).head()"
   ]
  }
 ],
 "metadata": {
  "kernelspec": {
   "display_name": "Python 3",
   "language": "python",
   "name": "python3"
  }
 },
 "nbformat": 4,
 "nbformat_minor": 0
}
