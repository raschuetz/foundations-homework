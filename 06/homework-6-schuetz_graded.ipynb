{
 "cells": [
  {
   "cell_type": "markdown",
   "metadata": {},
   "source": [
    "### Grade: 7 / 7 "
   ]
  },
  {
   "cell_type": "markdown",
   "metadata": {},
   "source": [
    "You'll be using the Dark Sky Forecast API from Forecast.io, available at https://developer.forecast.io. It's a pretty simple API, but be sure to read the documentation!\n",
    "\n",
    "1) Make a request from the Forecast.io API for where you were born (or lived, or want to visit!).\n",
    "\n",
    "Tip: Once you've imported the JSON into a variable, check the timezone's name to make sure it seems like it got the right part of the world!\n",
    "Tip 2: How is north vs. south and east vs. west latitude/longitude represented? Is it the normal North/South/East/West?"
   ]
  },
  {
   "cell_type": "code",
   "execution_count": 1,
   "metadata": {
    "collapsed": true
   },
   "outputs": [],
   "source": [
    "apikey = '34b41fe7b9db6c1bd5f8ea3492bca332'\n",
    "\n",
    "# TA-COMMENT: Nice! \n",
    "coordinates = {'San Antonio': '29.4241,-98.4936', 'Miami': '25.7617,-80.1918', 'Central Park': '40.7829,-73.9654'}"
   ]
  },
  {
   "cell_type": "code",
   "execution_count": 3,
   "metadata": {
    "collapsed": true
   },
   "outputs": [],
   "source": [
    "import requests\n",
    "url = 'https://api.forecast.io/forecast/' + apikey + '/' + coordinates['San Antonio']\n",
    "response = requests.get(url)\n",
    "data = response.json()"
   ]
  },
  {
   "cell_type": "code",
   "execution_count": 10,
   "metadata": {
    "collapsed": false
   },
   "outputs": [
    {
     "name": "stdout",
     "output_type": "stream",
     "text": [
      "America/Chicago\n"
     ]
    }
   ],
   "source": [
    "# #Is it in my time zone?\n",
    "# #temp. Answer: dict\n",
    "# print(type(data))\n",
    "# #temp. Answer: ['offset', 'latitude', 'hourly', 'flags', 'minutely', 'longitude', 'timezone', 'daily', 'currently']\n",
    "# print(data.keys())\n",
    "# #temp. Answer: dict\n",
    "# print(type(data['currently']))\n",
    "# #temp. Answer: ['windSpeed', 'time', 'dewPoint', 'icon', 'temperature', 'apparentTemperature', 'precipProbability', \n",
    "#'visibility', 'cloudCover', 'nearestStormDistance', 'pressure', 'windBearing', 'ozone', 'humidity', 'precipIntensity', \n",
    "#'summary', 'nearestStormBearing']\n",
    "# print(data['currently'].keys())\n",
    "# #temp. It's in my time zone!\n",
    "# print(data['currently']['time'])\n",
    "\n",
    "#Oh, this would have been easier:\n",
    "#temp. Answer: America/Chicago\n",
    "print(data['timezone'])"
   ]
  },
  {
   "cell_type": "markdown",
   "metadata": {},
   "source": [
    "2) What's the current wind speed? How much warmer does it feel than it actually is?"
   ]
  },
  {
   "cell_type": "code",
   "execution_count": 22,
   "metadata": {
    "collapsed": false
   },
   "outputs": [
    {
     "name": "stdout",
     "output_type": "stream",
     "text": [
      "The current wind speed is 9.73 miles per hour.\n"
     ]
    }
   ],
   "source": [
    "print('The current wind speed is', data['currently']['windSpeed'], 'miles per hour.')"
   ]
  },
  {
   "cell_type": "code",
   "execution_count": 49,
   "metadata": {
    "collapsed": false
   },
   "outputs": [
    {
     "name": "stdout",
     "output_type": "stream",
     "text": [
      "It feels 5.85 degrees Fahrenheit warmer than it actually is.\n"
     ]
    }
   ],
   "source": [
    "print('It feels', round(data['currently']['apparentTemperature'] - data['currently']['temperature'], 2), 'degrees Fahrenheit warmer than it actually is.')"
   ]
  },
  {
   "cell_type": "markdown",
   "metadata": {},
   "source": [
    "3) The first daily forecast is the forecast for today. For the place you decided on up above, how much of the moon is currently visible?"
   ]
  },
  {
   "cell_type": "code",
   "execution_count": 31,
   "metadata": {
    "collapsed": false
   },
   "outputs": [
    {
     "name": "stdout",
     "output_type": "stream",
     "text": [
      "<class 'dict'>\n",
      "dict_keys(['summary', 'data', 'icon'])\n",
      "<class 'list'>\n",
      "{'windSpeed': 4.35, 'time': 1465362000, 'sunsetTime': 1465436040, 'precipIntensityMaxTime': 1465412400, 'apparentTemperatureMax': 96.7, 'windBearing': 120, 'temperatureMinTime': 1465387200, 'precipIntensityMax': 0.095, 'precipProbability': 0.71, 'sunriseTime': 1465385707, 'temperatureMin': 72.07, 'apparentTemperatureMaxTime': 1465412400, 'precipIntensity': 0.0118, 'apparentTemperatureMinTime': 1465387200, 'temperatureMax': 89.59, 'dewPoint': 70.72, 'temperatureMaxTime': 1465412400, 'icon': 'rain', 'moonPhase': 0.13, 'precipType': 'rain', 'visibility': 9.51, 'cloudCover': 0.35, 'pressure': 1012.36, 'apparentTemperatureMin': 72.07, 'ozone': 315.49, 'humidity': 0.74, 'summary': 'Rain starting in the afternoon, continuing until evening.'}\n",
      "{'windSpeed': 5.33, 'time': 1465448400, 'sunsetTime': 1465522465, 'precipIntensityMaxTime': 1465477200, 'apparentTemperatureMax': 103.36, 'windBearing': 121, 'temperatureMinTime': 1465473600, 'precipIntensityMax': 0.004, 'precipProbability': 0.14, 'sunriseTime': 1465472105, 'temperatureMin': 69.65, 'apparentTemperatureMaxTime': 1465506000, 'precipIntensity': 0.0007, 'apparentTemperatureMinTime': 1465473600, 'temperatureMax': 93.04, 'dewPoint': 71.35, 'temperatureMaxTime': 1465506000, 'icon': 'partly-cloudy-day', 'moonPhase': 0.17, 'precipType': 'rain', 'visibility': 9.15, 'cloudCover': 0.35, 'pressure': 1013.25, 'apparentTemperatureMin': 69.65, 'ozone': 309.43, 'humidity': 0.77, 'summary': 'Partly cloudy until evening.'}\n",
      "8\n",
      "dict_keys(['windSpeed', 'time', 'sunsetTime', 'precipIntensityMaxTime', 'apparentTemperatureMax', 'windBearing', 'temperatureMinTime', 'precipIntensityMax', 'precipProbability', 'sunriseTime', 'temperatureMin', 'apparentTemperatureMaxTime', 'precipIntensity', 'apparentTemperatureMinTime', 'temperatureMax', 'dewPoint', 'temperatureMaxTime', 'icon', 'moonPhase', 'precipType', 'visibility', 'cloudCover', 'pressure', 'apparentTemperatureMin', 'ozone', 'humidity', 'summary'])\n"
     ]
    }
   ],
   "source": [
    "# #temp. Answer: dict\n",
    "# print(type(data['daily']))\n",
    "# #temp. Answer: ['summary', 'data', 'icon']\n",
    "# print(data['daily'].keys())\n",
    "# #temp. Answer: list\n",
    "# print(type(data['daily']['data']))\n",
    "# #temp. It's a list of dictionaries\n",
    "# #this time means Wed, 08 Jun 2016 05:00:00 GMT, which is currently today\n",
    "# print(data['daily']['data'][0])\n",
    "# #this time means Thu, 09 Jun 2016 05:00:00 GMT\n",
    "# print(data['daily']['data'][1])\n",
    "# #temp. Answer: 8\n",
    "# print(len(data['daily']['data']))\n",
    "# #temp. Answer: ['windSpeed', 'time', 'sunsetTime', 'precipIntensityMaxTime', 'apparentTemperatureMax', 'windBearing', \n",
    "# #'temperatureMinTime', 'precipIntensityMax', 'precipProbability', 'sunriseTime', 'temperatureMin', \n",
    "# #'apparentTemperatureMaxTime', 'precipIntensity', 'apparentTemperatureMinTime', 'temperatureMax', 'dewPoint', \n",
    "# #'temperatureMaxTime', 'icon', 'moonPhase', 'precipType', 'visibility', 'cloudCover', 'pressure', \n",
    "# #'apparentTemperatureMin', 'ozone', 'humidity', 'summary']\n",
    "# print(data['daily']['data'][0].keys())"
   ]
  },
  {
   "cell_type": "code",
   "execution_count": 48,
   "metadata": {
    "collapsed": false
   },
   "outputs": [
    {
     "name": "stdout",
     "output_type": "stream",
     "text": [
      "26.0 percent of the moon is visible today.\n"
     ]
    }
   ],
   "source": [
    "today_moon = data['daily']['data'][0]['moonPhase']\n",
    "print(100 * (1 - abs(1 - (today_moon * 2))), 'percent of the moon is visible today.')"
   ]
  },
  {
   "cell_type": "markdown",
   "metadata": {},
   "source": [
    "4) What's the difference between the high and low temperatures for today?"
   ]
  },
  {
   "cell_type": "code",
   "execution_count": 55,
   "metadata": {
    "collapsed": false
   },
   "outputs": [
    {
     "name": "stdout",
     "output_type": "stream",
     "text": [
      "The difference between today's high and low temperatures is 17.52 degrees Fahrenheit.\n"
     ]
    }
   ],
   "source": [
    "print('The difference between today\\'s high and low temperatures is', round(data['daily']['data'][0]['temperatureMax'] - data['daily']['data'][0]['temperatureMin'], 2), 'degrees Fahrenheit.')"
   ]
  },
  {
   "cell_type": "markdown",
   "metadata": {},
   "source": [
    "5) Loop through the daily forecast, printing out the next week's worth of predictions. I'd like to know the high temperature for each day, and whether it's hot, warm, or cold, based on what temperatures you think are hot, warm or cold."
   ]
  },
  {
   "cell_type": "code",
   "execution_count": 66,
   "metadata": {
    "collapsed": false
   },
   "outputs": [
    {
     "name": "stdout",
     "output_type": "stream",
     "text": [
      "Starting with today's, the forecasts for the next week are for highs of:\n",
      "90.32 degrees Fahrenheit, a pretty hot day.\n",
      "92.8 degrees Fahrenheit, a pretty hot day.\n",
      "93.09 degrees Fahrenheit, a pretty hot day.\n",
      "93.09 degrees Fahrenheit, a pretty hot day.\n",
      "95.93 degrees Fahrenheit, a pretty hot day.\n",
      "96.55 degrees Fahrenheit, a pretty hot day.\n",
      "98.38 degrees Fahrenheit, a pretty hot day.\n",
      "97.7 degrees Fahrenheit, a pretty hot day.\n"
     ]
    }
   ],
   "source": [
    "daily_forecast = data['daily']['data']\n",
    "\n",
    "print('Starting with today\\'s, the forecasts for the next week are for highs of:')\n",
    "for day in daily_forecast:\n",
    "    if 85 <= day['temperatureMax']:\n",
    "        warmth = 'hot'\n",
    "    elif 70 <= day['temperatureMax'] < 85:\n",
    "        warmth = 'warm'\n",
    "    else:\n",
    "        warmth = 'cold'\n",
    "    print(day['temperatureMax'], 'degrees Fahrenheit, a pretty', warmth, 'day.')"
   ]
  },
  {
   "cell_type": "markdown",
   "metadata": {},
   "source": [
    "6) What's the weather looking like for the rest of today in Miami, Florida? I'd like to know the temperature for every hour, and if it's going to have cloud cover of more than 0.5 say \"{temperature} and cloudy\" instead of just the temperature."
   ]
  },
  {
   "cell_type": "code",
   "execution_count": 67,
   "metadata": {
    "collapsed": true
   },
   "outputs": [],
   "source": [
    "fl_url = 'https://api.forecast.io/forecast/' + apikey + '/' + coordinates['Miami']\n",
    "fl_response = requests.get(url)\n",
    "fl_data = fl_response.json()"
   ]
  },
  {
   "cell_type": "code",
   "execution_count": 74,
   "metadata": {
    "collapsed": false
   },
   "outputs": [
    {
     "name": "stdout",
     "output_type": "stream",
     "text": [
      "<class 'dict'>\n",
      "dict_keys(['summary', 'data', 'icon'])\n",
      "<class 'list'>\n",
      "49\n",
      "{'precipType': 'rain', 'time': 1465423200, 'apparentTemperature': 95.66, 'windSpeed': 7.53, 'icon': 'rain', 'summary': 'Light Rain', 'precipProbability': 0.69, 'visibility': 9.95, 'cloudCover': 0.39, 'pressure': 1011.23, 'windBearing': 115, 'ozone': 312.9, 'humidity': 0.55, 'precipIntensity': 0.0516, 'temperature': 89.29, 'dewPoint': 71.14}\n",
      "{'precipType': 'rain', 'time': 1465426800, 'apparentTemperature': 94.77, 'windSpeed': 7.24, 'icon': 'rain', 'summary': 'Drizzle', 'precipProbability': 0.41, 'visibility': 9.45, 'cloudCover': 0.47, 'pressure': 1011.13, 'windBearing': 110, 'ozone': 311.75, 'humidity': 0.61, 'precipIntensity': 0.0078, 'temperature': 87.66, 'dewPoint': 72.4}\n",
      "dict_keys(['precipType', 'time', 'apparentTemperature', 'windSpeed', 'icon', 'summary', 'precipProbability', 'visibility', 'cloudCover', 'pressure', 'windBearing', 'ozone', 'humidity', 'precipIntensity', 'temperature', 'dewPoint'])\n"
     ]
    }
   ],
   "source": [
    "# #temp. Answer: dict\n",
    "# print(type(fl_data['hourly']))\n",
    "# #temp. Answer: ['summary', 'data', 'icon']\n",
    "# print(fl_data['hourly'].keys())\n",
    "# #temp. Answer: list\n",
    "# print(type(fl_data['hourly']['data']))\n",
    "# #temp. Answer: 49\n",
    "# print(len(fl_data['hourly']['data']))\n",
    "# #temp. It's a list of dictionaries\n",
    "# #the top of this hour\n",
    "# print(fl_data['hourly']['data'][0])\n",
    "# #the top of next hour\n",
    "# print(fl_data['hourly']['data'][1])\n",
    "# #temp. Answer: ['precipType', 'time', 'apparentTemperature', 'windSpeed', 'icon', 'summary', 'precipProbability', \n",
    "# #'visibility', 'cloudCover', 'pressure', 'windBearing', 'ozone', 'humidity', 'precipIntensity', 'temperature', \n",
    "# #'dewPoint']\n",
    "# print(fl_data['hourly']['data'][0].keys())"
   ]
  },
  {
   "cell_type": "code",
   "execution_count": 92,
   "metadata": {
    "collapsed": false
   },
   "outputs": [
    {
     "name": "stdout",
     "output_type": "stream",
     "text": [
      "Starting with this hour, the hourly forecasts for the rest of the day are for:\n",
      "89.29 degrees Fahrenheit.\n",
      "87.66 degrees Fahrenheit.\n",
      "86.07 degrees Fahrenheit.\n",
      "83.56 degrees Fahrenheit.\n",
      "80.76 degrees Fahrenheit.\n",
      "78.76 degrees Fahrenheit.\n"
     ]
    }
   ],
   "source": [
    "# # how many hours are left in the day in EDT: (24 - ((time % 86400)/3600 - 4))\n",
    "# times = [1465423200, 1465426800]\n",
    "# for time in times:\n",
    "#     print (24 - ((time % 86400)/3600 - 4))\n",
    "\n",
    "hourly_data = fl_data['hourly']['data']\n",
    "hours_left = range(int(24 - ((hourly_data[0]['time'] % 86400)/3600 - 4)))\n",
    "\n",
    "print('Starting with this hour, the hourly forecasts for the rest of the day are for:')\n",
    "for hour in hours_left:\n",
    "    if hourly_data[hour]['cloudCover'] > .5:\n",
    "        print(hourly_data[hour]['temperature'], 'degrees Fahrenheit and cloudy')\n",
    "    else:\n",
    "        print(hourly_data[hour]['temperature'], 'degrees Fahrenheit')"
   ]
  },
  {
   "cell_type": "markdown",
   "metadata": {},
   "source": [
    "7) What was the temperature in Central Park on Christmas Day, 1980? How about 1990? 2000?\n",
    "\n",
    "Tip: You'll need to use UNIX time, which is the number of seconds since January 1, 1970. Google can help you convert a normal date!\n",
    "Tip: You'll want to use Forecast.io's \"time machine\" API at https://developer.forecast.io/docs/v2"
   ]
  },
  {
   "cell_type": "code",
   "execution_count": 4,
   "metadata": {
    "collapsed": false
   },
   "outputs": [
    {
     "name": "stdout",
     "output_type": "stream",
     "text": [
      "On Christmas Day in 1980, the high in Central Park was 29.37 degrees Fahrenheit.\n",
      "On Christmas Day in 1990, the high in Central Park was 31.97 degrees Fahrenheit.\n",
      "On Christmas Day in 2000, the high in Central Park was 27.03 degrees Fahrenheit.\n"
     ]
    }
   ],
   "source": [
    "decades = range(3)\n",
    "\n",
    "for decade in decades:\n",
    "    cp_url = 'https://api.forecast.io/forecast/' + apikey + '/' + coordinates['Central Park'] + ',' + str(10 * decade + 1980) + '-12-25T12:00:00'\n",
    "    cp_response = requests.get(cp_url)\n",
    "    cp_data = cp_response.json()\n",
    "    print('On Christmas Day in', str(1980 + decade * 10) + ', the high in Central Park was', cp_data['daily']['data'][0]['temperatureMax'], 'degrees Fahrenheit.')"
   ]
  },
  {
   "cell_type": "code",
   "execution_count": null,
   "metadata": {
    "collapsed": true
   },
   "outputs": [],
   "source": []
  },
  {
   "cell_type": "code",
   "execution_count": null,
   "metadata": {
    "collapsed": true
   },
   "outputs": [],
   "source": []
  }
 ],
 "metadata": {
  "kernelspec": {
   "display_name": "Python 3",
   "language": "python",
   "name": "python3"
  },
  "language_info": {
   "codemirror_mode": {
    "name": "ipython",
    "version": 3
   },
   "file_extension": ".py",
   "mimetype": "text/x-python",
   "name": "python",
   "nbconvert_exporter": "python",
   "pygments_lexer": "ipython3",
   "version": "3.5.0"
  }
 },
 "nbformat": 4,
 "nbformat_minor": 0
}
