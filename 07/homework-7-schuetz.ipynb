{
 "cells": [
  {
   "cell_type": "markdown",
   "metadata": {},
   "source": [
    "# 01: Building a pandas Cheat Sheet, Part 1\n",
    "\n",
    "Use the csv I've attached to answer the following questions:"
   ]
  },
  {
   "cell_type": "markdown",
   "metadata": {},
   "source": [
    "Import pandas with the right name"
   ]
  },
  {
   "cell_type": "code",
   "execution_count": 2,
   "metadata": {
    "collapsed": true
   },
   "outputs": [],
   "source": [
    "import pandas as pd"
   ]
  },
  {
   "cell_type": "markdown",
   "metadata": {},
   "source": [
    "Set all graphics from matplotlib to display inline"
   ]
  },
  {
   "cell_type": "code",
   "execution_count": 3,
   "metadata": {
    "collapsed": true
   },
   "outputs": [],
   "source": [
    "%matplotlib inline"
   ]
  },
  {
   "cell_type": "markdown",
   "metadata": {},
   "source": [
    "Read the csv in (it should be UTF-8 already so you don't have to worry about encoding), save it with the proper boring name"
   ]
  },
  {
   "cell_type": "code",
   "execution_count": null,
   "metadata": {
    "collapsed": true
   },
   "outputs": [],
   "source": [
    "df = pd.read_csv('07-hw-animals.csv')"
   ]
  },
  {
   "cell_type": "markdown",
   "metadata": {},
   "source": [
    "Display the names of the columns in the csv"
   ]
  },
  {
   "cell_type": "code",
   "execution_count": 5,
   "metadata": {
    "collapsed": false
   },
   "outputs": [
    {
     "data": {
      "text/plain": [
       "Index(['animal', 'name', 'length'], dtype='object')"
      ]
     },
     "execution_count": 5,
     "metadata": {},
     "output_type": "execute_result"
    }
   ],
   "source": [
    "df.columns"
   ]
  },
  {
   "cell_type": "markdown",
   "metadata": {},
   "source": [
    "Display the first 3 animals."
   ]
  },
  {
   "cell_type": "code",
   "execution_count": 6,
   "metadata": {
    "collapsed": false
   },
   "outputs": [
    {
     "data": {
      "text/plain": [
       "0    cat\n",
       "1    cat\n",
       "2    dog\n",
       "Name: animal, dtype: object"
      ]
     },
     "execution_count": 6,
     "metadata": {},
     "output_type": "execute_result"
    }
   ],
   "source": [
    "df['animal'].head(3)"
   ]
  },
  {
   "cell_type": "markdown",
   "metadata": {},
   "source": [
    "Sort the animals to see the 3 longest animals."
   ]
  },
  {
   "cell_type": "code",
   "execution_count": 7,
   "metadata": {
    "collapsed": false
   },
   "outputs": [
    {
     "data": {
      "text/html": [
       "<div>\n",
       "<table border=\"1\" class=\"dataframe\">\n",
       "  <thead>\n",
       "    <tr style=\"text-align: right;\">\n",
       "      <th></th>\n",
       "      <th>animal</th>\n",
       "      <th>name</th>\n",
       "      <th>length</th>\n",
       "    </tr>\n",
       "  </thead>\n",
       "  <tbody>\n",
       "    <tr>\n",
       "      <th>2</th>\n",
       "      <td>dog</td>\n",
       "      <td>Egglesburg</td>\n",
       "      <td>65</td>\n",
       "    </tr>\n",
       "    <tr>\n",
       "      <th>3</th>\n",
       "      <td>dog</td>\n",
       "      <td>Devon</td>\n",
       "      <td>50</td>\n",
       "    </tr>\n",
       "    <tr>\n",
       "      <th>1</th>\n",
       "      <td>cat</td>\n",
       "      <td>Bob</td>\n",
       "      <td>45</td>\n",
       "    </tr>\n",
       "  </tbody>\n",
       "</table>\n",
       "</div>"
      ],
      "text/plain": [
       "  animal        name  length\n",
       "2    dog  Egglesburg      65\n",
       "3    dog       Devon      50\n",
       "1    cat         Bob      45"
      ]
     },
     "execution_count": 7,
     "metadata": {},
     "output_type": "execute_result"
    }
   ],
   "source": [
    "df.sort_values('length', ascending = False).head(3)"
   ]
  },
  {
   "cell_type": "code",
   "execution_count": null,
   "metadata": {
    "collapsed": true
   },
   "outputs": [],
   "source": [
    "# or\n",
    "df.sort_values('length').tail(3)"
   ]
  },
  {
   "cell_type": "markdown",
   "metadata": {},
   "source": [
    "What are the counts of the different values of the \"animal\" column? a.k.a. how many cats and how many dogs."
   ]
  },
  {
   "cell_type": "code",
   "execution_count": 8,
   "metadata": {
    "collapsed": false
   },
   "outputs": [
    {
     "data": {
      "text/plain": [
       "dog    3\n",
       "cat    3\n",
       "Name: animal, dtype: int64"
      ]
     },
     "execution_count": 8,
     "metadata": {},
     "output_type": "execute_result"
    }
   ],
   "source": [
    "df['animal'].value_counts()"
   ]
  },
  {
   "cell_type": "markdown",
   "metadata": {},
   "source": [
    "Only select the dogs."
   ]
  },
  {
   "cell_type": "code",
   "execution_count": 9,
   "metadata": {
    "collapsed": false
   },
   "outputs": [
    {
     "data": {
      "text/html": [
       "<div>\n",
       "<table border=\"1\" class=\"dataframe\">\n",
       "  <thead>\n",
       "    <tr style=\"text-align: right;\">\n",
       "      <th></th>\n",
       "      <th>animal</th>\n",
       "      <th>name</th>\n",
       "      <th>length</th>\n",
       "    </tr>\n",
       "  </thead>\n",
       "  <tbody>\n",
       "    <tr>\n",
       "      <th>2</th>\n",
       "      <td>dog</td>\n",
       "      <td>Egglesburg</td>\n",
       "      <td>65</td>\n",
       "    </tr>\n",
       "    <tr>\n",
       "      <th>3</th>\n",
       "      <td>dog</td>\n",
       "      <td>Devon</td>\n",
       "      <td>50</td>\n",
       "    </tr>\n",
       "    <tr>\n",
       "      <th>5</th>\n",
       "      <td>dog</td>\n",
       "      <td>Fontaine</td>\n",
       "      <td>35</td>\n",
       "    </tr>\n",
       "  </tbody>\n",
       "</table>\n",
       "</div>"
      ],
      "text/plain": [
       "  animal        name  length\n",
       "2    dog  Egglesburg      65\n",
       "3    dog       Devon      50\n",
       "5    dog    Fontaine      35"
      ]
     },
     "execution_count": 9,
     "metadata": {},
     "output_type": "execute_result"
    }
   ],
   "source": [
    "df[df['animal'] == 'dog']"
   ]
  },
  {
   "cell_type": "markdown",
   "metadata": {},
   "source": [
    "Display all of the animals that are greater than 40 cm."
   ]
  },
  {
   "cell_type": "code",
   "execution_count": 10,
   "metadata": {
    "collapsed": false
   },
   "outputs": [
    {
     "data": {
      "text/html": [
       "<div>\n",
       "<table border=\"1\" class=\"dataframe\">\n",
       "  <thead>\n",
       "    <tr style=\"text-align: right;\">\n",
       "      <th></th>\n",
       "      <th>animal</th>\n",
       "      <th>name</th>\n",
       "      <th>length</th>\n",
       "    </tr>\n",
       "  </thead>\n",
       "  <tbody>\n",
       "    <tr>\n",
       "      <th>1</th>\n",
       "      <td>cat</td>\n",
       "      <td>Bob</td>\n",
       "      <td>45</td>\n",
       "    </tr>\n",
       "    <tr>\n",
       "      <th>2</th>\n",
       "      <td>dog</td>\n",
       "      <td>Egglesburg</td>\n",
       "      <td>65</td>\n",
       "    </tr>\n",
       "    <tr>\n",
       "      <th>3</th>\n",
       "      <td>dog</td>\n",
       "      <td>Devon</td>\n",
       "      <td>50</td>\n",
       "    </tr>\n",
       "  </tbody>\n",
       "</table>\n",
       "</div>"
      ],
      "text/plain": [
       "  animal        name  length\n",
       "1    cat         Bob      45\n",
       "2    dog  Egglesburg      65\n",
       "3    dog       Devon      50"
      ]
     },
     "execution_count": 10,
     "metadata": {},
     "output_type": "execute_result"
    }
   ],
   "source": [
    "df[df['length'] > 40]"
   ]
  },
  {
   "cell_type": "markdown",
   "metadata": {},
   "source": [
    "'length' is the animal's length in cm. Create a new column called inches that is the length in inches."
   ]
  },
  {
   "cell_type": "code",
   "execution_count": 11,
   "metadata": {
    "collapsed": false
   },
   "outputs": [],
   "source": [
    "inches = df['length'] * 0.393701\n",
    "df['inches'] = inches"
   ]
  },
  {
   "cell_type": "markdown",
   "metadata": {},
   "source": [
    "Save the cats to a separate variable called \"cats.\" Save the dogs to a separate variable called \"dogs.\""
   ]
  },
  {
   "cell_type": "code",
   "execution_count": 12,
   "metadata": {
    "collapsed": true
   },
   "outputs": [],
   "source": [
    "cats = df[df['animal'] == 'cat']\n",
    "dogs = df[df['animal'] == 'dog']"
   ]
  },
  {
   "cell_type": "markdown",
   "metadata": {},
   "source": [
    "Display all of the animals that are cats and above 12 inches long. First do it using the \"cats\" variable, then do it using your normal dataframe."
   ]
  },
  {
   "cell_type": "code",
   "execution_count": 13,
   "metadata": {
    "collapsed": false
   },
   "outputs": [
    {
     "data": {
      "text/html": [
       "<div>\n",
       "<table border=\"1\" class=\"dataframe\">\n",
       "  <thead>\n",
       "    <tr style=\"text-align: right;\">\n",
       "      <th></th>\n",
       "      <th>animal</th>\n",
       "      <th>name</th>\n",
       "      <th>length</th>\n",
       "      <th>inches</th>\n",
       "    </tr>\n",
       "  </thead>\n",
       "  <tbody>\n",
       "    <tr>\n",
       "      <th>0</th>\n",
       "      <td>cat</td>\n",
       "      <td>Anne</td>\n",
       "      <td>35</td>\n",
       "      <td>13.779535</td>\n",
       "    </tr>\n",
       "    <tr>\n",
       "      <th>1</th>\n",
       "      <td>cat</td>\n",
       "      <td>Bob</td>\n",
       "      <td>45</td>\n",
       "      <td>17.716545</td>\n",
       "    </tr>\n",
       "    <tr>\n",
       "      <th>4</th>\n",
       "      <td>cat</td>\n",
       "      <td>Charlie</td>\n",
       "      <td>32</td>\n",
       "      <td>12.598432</td>\n",
       "    </tr>\n",
       "  </tbody>\n",
       "</table>\n",
       "</div>"
      ],
      "text/plain": [
       "  animal     name  length     inches\n",
       "0    cat     Anne      35  13.779535\n",
       "1    cat      Bob      45  17.716545\n",
       "4    cat  Charlie      32  12.598432"
      ]
     },
     "execution_count": 13,
     "metadata": {},
     "output_type": "execute_result"
    }
   ],
   "source": [
    "cats[cats['inches'] > 12]"
   ]
  },
  {
   "cell_type": "code",
   "execution_count": 14,
   "metadata": {
    "collapsed": false
   },
   "outputs": [
    {
     "data": {
      "text/html": [
       "<div>\n",
       "<table border=\"1\" class=\"dataframe\">\n",
       "  <thead>\n",
       "    <tr style=\"text-align: right;\">\n",
       "      <th></th>\n",
       "      <th>animal</th>\n",
       "      <th>name</th>\n",
       "      <th>length</th>\n",
       "      <th>inches</th>\n",
       "    </tr>\n",
       "  </thead>\n",
       "  <tbody>\n",
       "    <tr>\n",
       "      <th>0</th>\n",
       "      <td>cat</td>\n",
       "      <td>Anne</td>\n",
       "      <td>35</td>\n",
       "      <td>13.779535</td>\n",
       "    </tr>\n",
       "    <tr>\n",
       "      <th>1</th>\n",
       "      <td>cat</td>\n",
       "      <td>Bob</td>\n",
       "      <td>45</td>\n",
       "      <td>17.716545</td>\n",
       "    </tr>\n",
       "    <tr>\n",
       "      <th>4</th>\n",
       "      <td>cat</td>\n",
       "      <td>Charlie</td>\n",
       "      <td>32</td>\n",
       "      <td>12.598432</td>\n",
       "    </tr>\n",
       "  </tbody>\n",
       "</table>\n",
       "</div>"
      ],
      "text/plain": [
       "  animal     name  length     inches\n",
       "0    cat     Anne      35  13.779535\n",
       "1    cat      Bob      45  17.716545\n",
       "4    cat  Charlie      32  12.598432"
      ]
     },
     "execution_count": 14,
     "metadata": {},
     "output_type": "execute_result"
    }
   ],
   "source": [
    "df[(df['animal'] == 'cat') & (df['length'] > 12)]"
   ]
  },
  {
   "cell_type": "markdown",
   "metadata": {},
   "source": [
    "What's the mean length of a cat?"
   ]
  },
  {
   "cell_type": "code",
   "execution_count": 15,
   "metadata": {
    "collapsed": false
   },
   "outputs": [
    {
     "data": {
      "text/plain": [
       "count     3.000000\n",
       "mean     14.698171\n",
       "std       2.679867\n",
       "min      12.598432\n",
       "25%      13.188984\n",
       "50%      13.779535\n",
       "75%      15.748040\n",
       "max      17.716545\n",
       "Name: inches, dtype: float64"
      ]
     },
     "execution_count": 15,
     "metadata": {},
     "output_type": "execute_result"
    }
   ],
   "source": [
    "cats['inches'].describe()"
   ]
  },
  {
   "cell_type": "markdown",
   "metadata": {},
   "source": [
    "What's the mean length of a dog?"
   ]
  },
  {
   "cell_type": "code",
   "execution_count": 16,
   "metadata": {
    "collapsed": false
   },
   "outputs": [
    {
     "data": {
      "text/plain": [
       "count     3.000000\n",
       "mean     19.685050\n",
       "std       5.905515\n",
       "min      13.779535\n",
       "25%      16.732292\n",
       "50%      19.685050\n",
       "75%      22.637808\n",
       "max      25.590565\n",
       "Name: inches, dtype: float64"
      ]
     },
     "execution_count": 16,
     "metadata": {},
     "output_type": "execute_result"
    }
   ],
   "source": [
    "dogs['inches'].describe()"
   ]
  },
  {
   "cell_type": "markdown",
   "metadata": {},
   "source": [
    "Use groupby to accomplish both of the above tasks at once."
   ]
  },
  {
   "cell_type": "code",
   "execution_count": 17,
   "metadata": {
    "collapsed": false
   },
   "outputs": [
    {
     "data": {
      "text/html": [
       "<div>\n",
       "<table border=\"1\" class=\"dataframe\">\n",
       "  <thead>\n",
       "    <tr style=\"text-align: right;\">\n",
       "      <th></th>\n",
       "      <th></th>\n",
       "      <th>inches</th>\n",
       "      <th>length</th>\n",
       "    </tr>\n",
       "    <tr>\n",
       "      <th>animal</th>\n",
       "      <th></th>\n",
       "      <th></th>\n",
       "      <th></th>\n",
       "    </tr>\n",
       "  </thead>\n",
       "  <tbody>\n",
       "    <tr>\n",
       "      <th rowspan=\"8\" valign=\"top\">cat</th>\n",
       "      <th>count</th>\n",
       "      <td>3.000000</td>\n",
       "      <td>3.000000</td>\n",
       "    </tr>\n",
       "    <tr>\n",
       "      <th>mean</th>\n",
       "      <td>14.698171</td>\n",
       "      <td>37.333333</td>\n",
       "    </tr>\n",
       "    <tr>\n",
       "      <th>std</th>\n",
       "      <td>2.679867</td>\n",
       "      <td>6.806859</td>\n",
       "    </tr>\n",
       "    <tr>\n",
       "      <th>min</th>\n",
       "      <td>12.598432</td>\n",
       "      <td>32.000000</td>\n",
       "    </tr>\n",
       "    <tr>\n",
       "      <th>25%</th>\n",
       "      <td>13.188984</td>\n",
       "      <td>33.500000</td>\n",
       "    </tr>\n",
       "    <tr>\n",
       "      <th>50%</th>\n",
       "      <td>13.779535</td>\n",
       "      <td>35.000000</td>\n",
       "    </tr>\n",
       "    <tr>\n",
       "      <th>75%</th>\n",
       "      <td>15.748040</td>\n",
       "      <td>40.000000</td>\n",
       "    </tr>\n",
       "    <tr>\n",
       "      <th>max</th>\n",
       "      <td>17.716545</td>\n",
       "      <td>45.000000</td>\n",
       "    </tr>\n",
       "    <tr>\n",
       "      <th rowspan=\"8\" valign=\"top\">dog</th>\n",
       "      <th>count</th>\n",
       "      <td>3.000000</td>\n",
       "      <td>3.000000</td>\n",
       "    </tr>\n",
       "    <tr>\n",
       "      <th>mean</th>\n",
       "      <td>19.685050</td>\n",
       "      <td>50.000000</td>\n",
       "    </tr>\n",
       "    <tr>\n",
       "      <th>std</th>\n",
       "      <td>5.905515</td>\n",
       "      <td>15.000000</td>\n",
       "    </tr>\n",
       "    <tr>\n",
       "      <th>min</th>\n",
       "      <td>13.779535</td>\n",
       "      <td>35.000000</td>\n",
       "    </tr>\n",
       "    <tr>\n",
       "      <th>25%</th>\n",
       "      <td>16.732292</td>\n",
       "      <td>42.500000</td>\n",
       "    </tr>\n",
       "    <tr>\n",
       "      <th>50%</th>\n",
       "      <td>19.685050</td>\n",
       "      <td>50.000000</td>\n",
       "    </tr>\n",
       "    <tr>\n",
       "      <th>75%</th>\n",
       "      <td>22.637808</td>\n",
       "      <td>57.500000</td>\n",
       "    </tr>\n",
       "    <tr>\n",
       "      <th>max</th>\n",
       "      <td>25.590565</td>\n",
       "      <td>65.000000</td>\n",
       "    </tr>\n",
       "  </tbody>\n",
       "</table>\n",
       "</div>"
      ],
      "text/plain": [
       "                 inches     length\n",
       "animal                            \n",
       "cat    count   3.000000   3.000000\n",
       "       mean   14.698171  37.333333\n",
       "       std     2.679867   6.806859\n",
       "       min    12.598432  32.000000\n",
       "       25%    13.188984  33.500000\n",
       "       50%    13.779535  35.000000\n",
       "       75%    15.748040  40.000000\n",
       "       max    17.716545  45.000000\n",
       "dog    count   3.000000   3.000000\n",
       "       mean   19.685050  50.000000\n",
       "       std     5.905515  15.000000\n",
       "       min    13.779535  35.000000\n",
       "       25%    16.732292  42.500000\n",
       "       50%    19.685050  50.000000\n",
       "       75%    22.637808  57.500000\n",
       "       max    25.590565  65.000000"
      ]
     },
     "execution_count": 17,
     "metadata": {},
     "output_type": "execute_result"
    }
   ],
   "source": [
    "df.groupby('animal').describe()"
   ]
  },
  {
   "cell_type": "markdown",
   "metadata": {},
   "source": [
    "Make a histogram of the length of dogs. I apologize that it is so boring."
   ]
  },
  {
   "cell_type": "code",
   "execution_count": 18,
   "metadata": {
    "collapsed": false
   },
   "outputs": [
    {
     "data": {
      "text/plain": [
       "<matplotlib.axes._subplots.AxesSubplot at 0x110f70630>"
      ]
     },
     "execution_count": 18,
     "metadata": {},
     "output_type": "execute_result"
    },
    {
     "data": {
      "image/png": "[encoded data removed]",
      "text/plain": [
       "<matplotlib.figure.Figure at 0x110ece4e0>"
      ]
     },
     "metadata": {},
     "output_type": "display_data"
    }
   ],
   "source": [
    "dogs['inches'].hist()"
   ]
  },
  {
   "cell_type": "markdown",
   "metadata": {},
   "source": [
    "Change your graphing style to be something else (anything else!)"
   ]
  },
  {
   "cell_type": "code",
   "execution_count": 19,
   "metadata": {
    "collapsed": false
   },
   "outputs": [
    {
     "data": {
      "text/plain": [
       "<matplotlib.axes._subplots.AxesSubplot at 0x110ece7b8>"
      ]
     },
     "execution_count": 19,
     "metadata": {},
     "output_type": "execute_result"
    },
    {
     "data": {
      "image/png": "[encoded data removed]",
      "text/plain": [
       "<matplotlib.figure.Figure at 0x11104d6d8>"
      ]
     },
     "metadata": {},
     "output_type": "display_data"
    }
   ],
   "source": [
    "import matplotlib.pyplot as plt\n",
    "plt.style.use('seaborn-deep')\n",
    "dogs['inches'].hist()"
   ]
  },
  {
   "cell_type": "markdown",
   "metadata": {},
   "source": [
    "Make a horizontal bar graph of the length of the animals, with their name as the label (look at the billionaires notebook I put on Slack!)"
   ]
  },
  {
   "cell_type": "code",
   "execution_count": 20,
   "metadata": {
    "collapsed": false
   },
   "outputs": [
    {
     "data": {
      "text/plain": [
       "<matplotlib.axes._subplots.AxesSubplot at 0x111015828>"
      ]
     },
     "execution_count": 20,
     "metadata": {},
     "output_type": "execute_result"
    },
    {
     "data": {
      "image/png": "[encoded data removed]",
      "text/plain": [
       "<matplotlib.figure.Figure at 0x111164160>"
      ]
     },
     "metadata": {},
     "output_type": "display_data"
    }
   ],
   "source": [
    "df.plot(kind = 'barh', x = 'name', y = 'inches', legend = False)"
   ]
  },
  {
   "cell_type": "markdown",
   "metadata": {},
   "source": [
    "Make a sorted horizontal bar graph of the cats, with the larger cats on top."
   ]
  },
  {
   "cell_type": "code",
   "execution_count": 21,
   "metadata": {
    "collapsed": false
   },
   "outputs": [
    {
     "data": {
      "text/plain": [
       "<matplotlib.axes._subplots.AxesSubplot at 0x111192f98>"
      ]
     },
     "execution_count": 21,
     "metadata": {},
     "output_type": "execute_result"
    },
    {
     "data": {
      "image/png": "[encoded data removed]",
      "text/plain": [
       "<matplotlib.figure.Figure at 0x11123dd30>"
      ]
     },
     "metadata": {},
     "output_type": "display_data"
    }
   ],
   "source": [
    "cats.sort_values('inches').plot(kind = 'barh', x = 'name', y = 'inches', legend=False)"
   ]
  },
  {
   "cell_type": "markdown",
   "metadata": {},
   "source": [
    "# 02: Doing some research\n",
    "\n",
    "Answer your own selection out of the following questions, or any other questions you might be able to think of.  Write the question down first in a markdown cell (use a # to make the question a nice header), THEN try to get an answer to it. A lot of these are remarkably similar, and some you'll need to do manual work for - the GDP ones, for example.\n",
    "\n",
    "<p>If you are trying to figure out some other question that we didn't cover in class and it does not have to do with joining to another data set, we're happy to help you figure it out during lab!\n",
    "\n",
    "<p>Take a peek at the billionaires notebook I uploaded into Slack; it should be helpful for the graphs (I added a few other styles and options, too). You'll probably also want to look at the \"sum()\" line I added.\n",
    "\n",
    "## What country are most billionaires from? For the top ones, how many billionaires per billion people?"
   ]
  },
  {
   "cell_type": "code",
   "execution_count": 22,
   "metadata": {
    "collapsed": false
   },
   "outputs": [],
   "source": [
    "df = pd.read_excel('richpeople.xlsx')\n",
    "df = df[df['year'] == 2014]"
   ]
  },
  {
   "cell_type": "markdown",
   "metadata": {},
   "source": [
    "## My Second Try, Which Used a Spreadsheet of Populations"
   ]
  },
  {
   "cell_type": "code",
   "execution_count": 24,
   "metadata": {
    "collapsed": false
   },
   "outputs": [],
   "source": [
    "cp = pd.read_excel('API_SP_POP_TOTL_DS2_en_excel_v2_toprowsremoved.xls')"
   ]
  },
  {
   "cell_type": "code",
   "execution_count": 28,
   "metadata": {
    "collapsed": false
   },
   "outputs": [],
   "source": [
    "pop_df = pd.merge(df, cp[['Country Code', '2014']], how = 'left', left_on = 'countrycode', right_on = 'Country Code')"
   ]
  },
  {
   "cell_type": "code",
   "execution_count": 30,
   "metadata": {
    "collapsed": false
   },
   "outputs": [
    {
     "data": {
      "text/plain": [
       "{'Brazil': 65,\n",
       " 'China': 152,\n",
       " 'France': 43,\n",
       " 'Germany': 85,\n",
       " 'Hong Kong': 45,\n",
       " 'India': 56,\n",
       " 'Italy': 35,\n",
       " 'Russia': 111,\n",
       " 'United Kingdom': 47,\n",
       " 'United States': 499}"
      ]
     },
     "execution_count": 30,
     "metadata": {},
     "output_type": "execute_result"
    }
   ],
   "source": [
    "dict_freq_countries = pop_df['citizenship'].value_counts().head(10).to_dict()\n",
    "dict_freq_countries"
   ]
  },
  {
   "cell_type": "code",
   "execution_count": 33,
   "metadata": {
    "collapsed": false
   },
   "outputs": [
    {
     "name": "stdout",
     "output_type": "stream",
     "text": [
      "Brazil has 315.414707889 billionaires per billion people.\n",
      "Of course, this is a nonsense figure for a country with less than a billion people.\n",
      "\n",
      "Russia has 771.800393867 billionaires per billion people.\n",
      "Of course, this is a nonsense figure for a country with less than a billion people.\n",
      "\n",
      "China has 111.414895878 billionaires per billion people.\n",
      "\n",
      "India has 43.2335100948 billionaires per billion people.\n",
      "\n",
      "United States has 1564.964584 billionaires per billion people.\n",
      "Of course, this is a nonsense figure for a country with less than a billion people.\n",
      "\n",
      "Italy has 575.76073621 billionaires per billion people.\n",
      "Of course, this is a nonsense figure for a country with less than a billion people.\n",
      "\n",
      "France has 649.375076915 billionaires per billion people.\n",
      "Of course, this is a nonsense figure for a country with less than a billion people.\n",
      "\n",
      "United Kingdom has 728.014710854 billionaires per billion people.\n",
      "Of course, this is a nonsense figure for a country with less than a billion people.\n",
      "\n",
      "Germany has 1049.76203006 billionaires per billion people.\n",
      "Of course, this is a nonsense figure for a country with less than a billion people.\n",
      "\n",
      "Hong Kong has 6214.01052239 billionaires per billion people.\n",
      "Of course, this is a nonsense figure for a country with less than a billion people.\n",
      "\n"
     ]
    }
   ],
   "source": [
    "for x in dict_freq_countries:\n",
    "    country_pop = pop_df[pop_df['citizenship'] == x].head(1).to_dict()\n",
    "    for key in country_pop['2014'].keys():\n",
    "        print(x, 'has', dict_freq_countries[x] / (country_pop['2014'][key] / 1000000000), 'billionaires per billion people.')\n",
    "        if country_pop['2014'][key] / 1000000000 < 1:\n",
    "            print('Of course, this is a nonsense figure for a country with less than a billion people.')\n",
    "    print('')"
   ]
  },
  {
   "cell_type": "markdown",
   "metadata": {},
   "source": [
    "## My First Try, Where I Looked Up the Populations by Hand"
   ]
  },
  {
   "cell_type": "code",
   "execution_count": 34,
   "metadata": {
    "collapsed": false
   },
   "outputs": [
    {
     "data": {
      "text/plain": [
       "United States     499\n",
       "China             152\n",
       "Russia            111\n",
       "Germany            85\n",
       "Brazil             65\n",
       "India              56\n",
       "United Kingdom     47\n",
       "Hong Kong          45\n",
       "France             43\n",
       "Italy              35\n",
       "Name: citizenship, dtype: int64"
      ]
     },
     "execution_count": 34,
     "metadata": {},
     "output_type": "execute_result"
    }
   ],
   "source": [
    "df['citizenship'].value_counts().head(10)"
   ]
  },
  {
   "cell_type": "code",
   "execution_count": 35,
   "metadata": {
    "collapsed": false
   },
   "outputs": [
    {
     "name": "stdout",
     "output_type": "stream",
     "text": [
      "United States has 1552.58245177 billionaires per billion people.\n",
      "Of course, this is a nonsense figure for a country with less than a billion people.\n",
      "\n",
      "Germany has 1878.86279357 billionaires per billion people.\n",
      "Of course, this is a nonsense figure for a country with less than a billion people.\n",
      "\n",
      "China has 81.1700182815 billionaires per billion people.\n",
      "\n",
      "Russia has 596.91011236 billionaires per billion people.\n",
      "Of course, this is a nonsense figure for a country with less than a billion people.\n",
      "\n",
      "Japan has 512.214342002 billionaires per billion people.\n",
      "Of course, this is a nonsense figure for a country with less than a billion people.\n",
      "\n",
      "Brazil has 274.106705825 billionaires per billion people.\n",
      "Of course, this is a nonsense figure for a country with less than a billion people.\n",
      "\n",
      "Hong Kong has 6619.71830986 billionaires per billion people.\n",
      "Of course, this is a nonsense figure for a country with less than a billion people.\n",
      "\n",
      "France has 675.675675676 billionaires per billion people.\n",
      "Of course, this is a nonsense figure for a country with less than a billion people.\n",
      "\n",
      "United Kingdom has 670.826833073 billionaires per billion people.\n",
      "Of course, this is a nonsense figure for a country with less than a billion people.\n",
      "\n"
     ]
    }
   ],
   "source": [
    "populations = [\n",
    "    {'country': 'United States', 'pop': 0.3214}, \n",
    "    {'country': 'Germany', 'pop': 0.0809}, \n",
    "    {'country': 'China' , 'pop': 1.3675}, \n",
    "    {'country': 'Russia', 'pop': 0.1424}, \n",
    "    {'country': 'Japan', 'pop': 0.1269}, \n",
    "    {'country': 'Brazil' , 'pop': 0.2043}, \n",
    "    {'country': 'Hong Kong' , 'pop': 0.0071}, \n",
    "    {'country': 'France', 'pop': 0.0666}, \n",
    "    {'country': 'United Kingdom', 'pop': 0.0641}, \n",
    "    {'country': 'India', 'pop': 1.2517}, ]\n",
    "\n",
    "for item in list(range(9)):\n",
    "    print(populations[item]['country'], 'has', df['citizenship'].value_counts()[item] / populations[item]['pop'], 'billionaires per billion people.')\n",
    "    if populations[item]['pop'] < 1:\n",
    "        print('Of course, this is a nonsense figure for a country with less than a billion people.')\n",
    "    print('')\n",
    "#pop are in billions and based off of the CIA Factbook 2015 estimate"
   ]
  },
  {
   "cell_type": "markdown",
   "metadata": {},
   "source": [
    "## Who are the top 10 richest billionaires?"
   ]
  },
  {
   "cell_type": "code",
   "execution_count": 36,
   "metadata": {
    "collapsed": false
   },
   "outputs": [
    {
     "data": {
      "text/html": [
       "<div>\n",
       "<table border=\"1\" class=\"dataframe\">\n",
       "  <thead>\n",
       "    <tr style=\"text-align: right;\">\n",
       "      <th></th>\n",
       "      <th>name</th>\n",
       "      <th>rank</th>\n",
       "      <th>networthusbillion</th>\n",
       "    </tr>\n",
       "  </thead>\n",
       "  <tbody>\n",
       "    <tr>\n",
       "      <th>284</th>\n",
       "      <td>Bill Gates</td>\n",
       "      <td>1</td>\n",
       "      <td>76.0</td>\n",
       "    </tr>\n",
       "    <tr>\n",
       "      <th>348</th>\n",
       "      <td>Carlos Slim Helu</td>\n",
       "      <td>2</td>\n",
       "      <td>72.0</td>\n",
       "    </tr>\n",
       "    <tr>\n",
       "      <th>124</th>\n",
       "      <td>Amancio Ortega</td>\n",
       "      <td>3</td>\n",
       "      <td>64.0</td>\n",
       "    </tr>\n",
       "    <tr>\n",
       "      <th>2491</th>\n",
       "      <td>Warren Buffett</td>\n",
       "      <td>4</td>\n",
       "      <td>58.2</td>\n",
       "    </tr>\n",
       "    <tr>\n",
       "      <th>1377</th>\n",
       "      <td>Larry Ellison</td>\n",
       "      <td>5</td>\n",
       "      <td>48.0</td>\n",
       "    </tr>\n",
       "    <tr>\n",
       "      <th>509</th>\n",
       "      <td>David Koch</td>\n",
       "      <td>6</td>\n",
       "      <td>40.0</td>\n",
       "    </tr>\n",
       "    <tr>\n",
       "      <th>381</th>\n",
       "      <td>Charles Koch</td>\n",
       "      <td>6</td>\n",
       "      <td>40.0</td>\n",
       "    </tr>\n",
       "    <tr>\n",
       "      <th>2185</th>\n",
       "      <td>Sheldon Adelson</td>\n",
       "      <td>8</td>\n",
       "      <td>38.0</td>\n",
       "    </tr>\n",
       "    <tr>\n",
       "      <th>429</th>\n",
       "      <td>Christy Walton</td>\n",
       "      <td>9</td>\n",
       "      <td>36.7</td>\n",
       "    </tr>\n",
       "    <tr>\n",
       "      <th>1128</th>\n",
       "      <td>Jim Walton</td>\n",
       "      <td>10</td>\n",
       "      <td>34.7</td>\n",
       "    </tr>\n",
       "  </tbody>\n",
       "</table>\n",
       "</div>"
      ],
      "text/plain": [
       "                  name  rank  networthusbillion\n",
       "284         Bill Gates     1               76.0\n",
       "348   Carlos Slim Helu     2               72.0\n",
       "124     Amancio Ortega     3               64.0\n",
       "2491    Warren Buffett     4               58.2\n",
       "1377     Larry Ellison     5               48.0\n",
       "509         David Koch     6               40.0\n",
       "381       Charles Koch     6               40.0\n",
       "2185   Sheldon Adelson     8               38.0\n",
       "429     Christy Walton     9               36.7\n",
       "1128        Jim Walton    10               34.7"
      ]
     },
     "execution_count": 36,
     "metadata": {},
     "output_type": "execute_result"
    }
   ],
   "source": [
    "df[['name', 'rank', 'networthusbillion']].sort_values('networthusbillion', ascending = False).head(10)"
   ]
  },
  {
   "cell_type": "markdown",
   "metadata": {},
   "source": [
    "## What's the average wealth of a billionaire? Male? Female?"
   ]
  },
  {
   "cell_type": "code",
   "execution_count": 37,
   "metadata": {
    "collapsed": false
   },
   "outputs": [
    {
     "data": {
      "text/html": [
       "<div>\n",
       "<table border=\"1\" class=\"dataframe\">\n",
       "  <thead>\n",
       "    <tr style=\"text-align: right;\">\n",
       "      <th></th>\n",
       "      <th></th>\n",
       "      <th>networthusbillion</th>\n",
       "    </tr>\n",
       "    <tr>\n",
       "      <th>gender</th>\n",
       "      <th></th>\n",
       "      <th></th>\n",
       "    </tr>\n",
       "  </thead>\n",
       "  <tbody>\n",
       "    <tr>\n",
       "      <th rowspan=\"8\" valign=\"top\">female</th>\n",
       "      <th>count</th>\n",
       "      <td>180.000000</td>\n",
       "    </tr>\n",
       "    <tr>\n",
       "      <th>mean</th>\n",
       "      <td>3.920556</td>\n",
       "    </tr>\n",
       "    <tr>\n",
       "      <th>std</th>\n",
       "      <td>5.312604</td>\n",
       "    </tr>\n",
       "    <tr>\n",
       "      <th>min</th>\n",
       "      <td>1.000000</td>\n",
       "    </tr>\n",
       "    <tr>\n",
       "      <th>25%</th>\n",
       "      <td>1.400000</td>\n",
       "    </tr>\n",
       "    <tr>\n",
       "      <th>50%</th>\n",
       "      <td>2.300000</td>\n",
       "    </tr>\n",
       "    <tr>\n",
       "      <th>75%</th>\n",
       "      <td>3.700000</td>\n",
       "    </tr>\n",
       "    <tr>\n",
       "      <th>max</th>\n",
       "      <td>36.700000</td>\n",
       "    </tr>\n",
       "    <tr>\n",
       "      <th rowspan=\"8\" valign=\"top\">male</th>\n",
       "      <th>count</th>\n",
       "      <td>1473.000000</td>\n",
       "    </tr>\n",
       "    <tr>\n",
       "      <th>mean</th>\n",
       "      <td>3.902716</td>\n",
       "    </tr>\n",
       "    <tr>\n",
       "      <th>std</th>\n",
       "      <td>5.801227</td>\n",
       "    </tr>\n",
       "    <tr>\n",
       "      <th>min</th>\n",
       "      <td>1.000000</td>\n",
       "    </tr>\n",
       "    <tr>\n",
       "      <th>25%</th>\n",
       "      <td>1.400000</td>\n",
       "    </tr>\n",
       "    <tr>\n",
       "      <th>50%</th>\n",
       "      <td>2.100000</td>\n",
       "    </tr>\n",
       "    <tr>\n",
       "      <th>75%</th>\n",
       "      <td>3.700000</td>\n",
       "    </tr>\n",
       "    <tr>\n",
       "      <th>max</th>\n",
       "      <td>76.000000</td>\n",
       "    </tr>\n",
       "  </tbody>\n",
       "</table>\n",
       "</div>"
      ],
      "text/plain": [
       "              networthusbillion\n",
       "gender                         \n",
       "female count         180.000000\n",
       "       mean            3.920556\n",
       "       std             5.312604\n",
       "       min             1.000000\n",
       "       25%             1.400000\n",
       "       50%             2.300000\n",
       "       75%             3.700000\n",
       "       max            36.700000\n",
       "male   count        1473.000000\n",
       "       mean            3.902716\n",
       "       std             5.801227\n",
       "       min             1.000000\n",
       "       25%             1.400000\n",
       "       50%             2.100000\n",
       "       75%             3.700000\n",
       "       max            76.000000"
      ]
     },
     "execution_count": 37,
     "metadata": {},
     "output_type": "execute_result"
    }
   ],
   "source": [
    "df[['gender', 'networthusbillion']].groupby('gender').describe()"
   ]
  },
  {
   "cell_type": "markdown",
   "metadata": {},
   "source": [
    "## Who is the poorest billionaire? Who are the top 10 poorest billionaires?"
   ]
  },
  {
   "cell_type": "markdown",
   "metadata": {},
   "source": [
    "## The 'Top 10' Poorest"
   ]
  },
  {
   "cell_type": "code",
   "execution_count": 38,
   "metadata": {
    "collapsed": false
   },
   "outputs": [
    {
     "data": {
      "text/html": [
       "<div>\n",
       "<table border=\"1\" class=\"dataframe\">\n",
       "  <thead>\n",
       "    <tr style=\"text-align: right;\">\n",
       "      <th></th>\n",
       "      <th>name</th>\n",
       "      <th>rank</th>\n",
       "      <th>networthusbillion</th>\n",
       "    </tr>\n",
       "  </thead>\n",
       "  <tbody>\n",
       "    <tr>\n",
       "      <th>234</th>\n",
       "      <td>B.R. Shetty</td>\n",
       "      <td>1565</td>\n",
       "      <td>1.0</td>\n",
       "    </tr>\n",
       "    <tr>\n",
       "      <th>2092</th>\n",
       "      <td>Rostam Azizi</td>\n",
       "      <td>1565</td>\n",
       "      <td>1.0</td>\n",
       "    </tr>\n",
       "    <tr>\n",
       "      <th>2401</th>\n",
       "      <td>Tory Burch</td>\n",
       "      <td>1565</td>\n",
       "      <td>1.0</td>\n",
       "    </tr>\n",
       "    <tr>\n",
       "      <th>734</th>\n",
       "      <td>Fred Chang</td>\n",
       "      <td>1565</td>\n",
       "      <td>1.0</td>\n",
       "    </tr>\n",
       "    <tr>\n",
       "      <th>171</th>\n",
       "      <td>Angela Bennett</td>\n",
       "      <td>1565</td>\n",
       "      <td>1.0</td>\n",
       "    </tr>\n",
       "    <tr>\n",
       "      <th>748</th>\n",
       "      <td>Fu Kwan</td>\n",
       "      <td>1565</td>\n",
       "      <td>1.0</td>\n",
       "    </tr>\n",
       "    <tr>\n",
       "      <th>2107</th>\n",
       "      <td>Ryan Kavanaugh</td>\n",
       "      <td>1565</td>\n",
       "      <td>1.0</td>\n",
       "    </tr>\n",
       "    <tr>\n",
       "      <th>1783</th>\n",
       "      <td>O. Francis Biondi</td>\n",
       "      <td>1565</td>\n",
       "      <td>1.0</td>\n",
       "    </tr>\n",
       "    <tr>\n",
       "      <th>1371</th>\n",
       "      <td>Lam Fong Ngo</td>\n",
       "      <td>1565</td>\n",
       "      <td>1.0</td>\n",
       "    </tr>\n",
       "    <tr>\n",
       "      <th>702</th>\n",
       "      <td>Feng Hailiang</td>\n",
       "      <td>1565</td>\n",
       "      <td>1.0</td>\n",
       "    </tr>\n",
       "  </tbody>\n",
       "</table>\n",
       "</div>"
      ],
      "text/plain": [
       "                   name  rank  networthusbillion\n",
       "234         B.R. Shetty  1565                1.0\n",
       "2092       Rostam Azizi  1565                1.0\n",
       "2401         Tory Burch  1565                1.0\n",
       "734          Fred Chang  1565                1.0\n",
       "171      Angela Bennett  1565                1.0\n",
       "748             Fu Kwan  1565                1.0\n",
       "2107     Ryan Kavanaugh  1565                1.0\n",
       "1783  O. Francis Biondi  1565                1.0\n",
       "1371       Lam Fong Ngo  1565                1.0\n",
       "702       Feng Hailiang  1565                1.0"
      ]
     },
     "execution_count": 38,
     "metadata": {},
     "output_type": "execute_result"
    }
   ],
   "source": [
    "df[['name', 'rank', 'networthusbillion']].sort_values('networthusbillion').head(10)"
   ]
  },
  {
   "cell_type": "markdown",
   "metadata": {},
   "source": [
    "## But There Are Many More People Who Make Just As Little Money"
   ]
  },
  {
   "cell_type": "code",
   "execution_count": 39,
   "metadata": {
    "collapsed": false
   },
   "outputs": [
    {
     "name": "stdout",
     "output_type": "stream",
     "text": [
      "But there are 81 billionaires making just as little money:\n",
      "\n",
      "                          name  rank  networthusbillion\n",
      "56             Alberto Alcocer  1565                1.0\n",
      "81               Alexander Vik  1565                1.0\n",
      "129                    An Kang  1565                1.0\n",
      "145   Andrea Reimann-Ciardelli  1565                1.0\n",
      "164            Andrew Gotianun  1565                1.0\n",
      "171             Angela Bennett  1565                1.0\n",
      "178              Anne Beaufour  1565                1.0\n",
      "234                B.R. Shetty  1565                1.0\n",
      "261                Bent Jensen  1565                1.0\n",
      "296                Boris Mints  1565                1.0\n",
      "302              Brian Higgins  1565                1.0\n",
      "320              C. James Koch  1565                1.0\n",
      "343             Carlos Martins  1565                1.0\n",
      "358           Chang Pyung-Soon  1565                1.0\n",
      "424          Christopher Burch  1565                1.0\n",
      "482              Dariusz Milek  1565                1.0\n",
      "559                Ding Shijia  1565                1.0\n",
      "560              Ding Shizhong  1565                1.0\n",
      "569             Dmitry Korzhev  1565                1.0\n",
      "573            Dmitry Troitsky  1565                1.0\n",
      "638             Elena Baturina  1565                1.0\n",
      "660           Enrique Banuelos  1565                1.0\n",
      "702              Feng Hailiang  1565                1.0\n",
      "734                 Fred Chang  1565                1.0\n",
      "748                    Fu Kwan  1565                1.0\n",
      "843             Graham Kirkham  1565                1.0\n",
      "886          Harindarpal Banga  1565                1.0\n",
      "914             Henri Beaufour  1565                1.0\n",
      "952       Horst Julius Pudwill  1565                1.0\n",
      "976                Huo Qinghua  1565                1.0\n",
      "...                        ...   ...                ...\n",
      "1731               Murat Vargi  1565                1.0\n",
      "1755        Nerijus Numavicius  1565                1.0\n",
      "1783         O. Francis Biondi  1565                1.0\n",
      "1834               Pavel Tykac  1565                1.0\n",
      "1868            Philip Falcone  1565                1.0\n",
      "1971             Richard Chang  1565                1.0\n",
      "2024             Robert Ingham  1565                1.0\n",
      "2092              Rostam Azizi  1565                1.0\n",
      "2107            Ryan Kavanaugh  1565                1.0\n",
      "2147              Sara Blakely  1565                1.0\n",
      "2158              Seo Jung-Jin  1565                1.0\n",
      "2165             Sergei Petrov  1565                1.0\n",
      "2168          Sergei Tsikalyuk  1565                1.0\n",
      "2174            Serhiy Tihipko  1565                1.0\n",
      "2203              Shoji Uehara  1565                1.0\n",
      "2247    Stefan von Holtzbrinck  1565                1.0\n",
      "2316         T.S. Kalyanaraman  1565                1.0\n",
      "2359             Thomas Bailey  1565                1.0\n",
      "2365             Thomas Kaplan  1565                1.0\n",
      "2401                Tory Burch  1565                1.0\n",
      "2443       Vivek Chaand Sehgal  1565                1.0\n",
      "2472             Wang Jianfeng  1565                1.0\n",
      "2479               Wang Muqing  1565                1.0\n",
      "2484                 Wang Yong  1565                1.0\n",
      "2530     William Moncrief, Jr.  1565                1.0\n",
      "2547               Wu Chung-Yi  1565                1.0\n",
      "2549                  Wu Xiong  1565                1.0\n",
      "2561                 Yang Keng  1565                1.0\n",
      "2591             Zdenek Bakala  1565                1.0\n",
      "2607               Zhu Wenchen  1565                1.0\n",
      "\n",
      "[81 rows x 3 columns]\n"
     ]
    }
   ],
   "source": [
    "poorest_billionaires = df[(df['networthusbillion']) == (df['networthusbillion'].sort_values().head(1).values[0])]\n",
    "print('But there are', poorest_billionaires['name'].count(), 'billionaires making just as little money:')\n",
    "print('')\n",
    "print(poorest_billionaires[['name', 'rank', 'networthusbillion']])"
   ]
  },
  {
   "cell_type": "markdown",
   "metadata": {},
   "source": [
    "## 'What is relationship to company'? And what are the most common relationships?"
   ]
  },
  {
   "cell_type": "markdown",
   "metadata": {},
   "source": [
    "According to the PDF, relationship to company \"describes the billionaire's relationship to the company primarily responsible for their wealth, such as founder, executive, relation, or shareholder\""
   ]
  },
  {
   "cell_type": "code",
   "execution_count": 40,
   "metadata": {
    "collapsed": false
   },
   "outputs": [
    {
     "data": {
      "text/plain": [
       "founder                                      818\n",
       "relation                                     515\n",
       "owner                                         79\n",
       "chairman                                      64\n",
       "investor                                      30\n",
       "Chairman and Chief Executive Officer          15\n",
       "Chairman                                       8\n",
       "ceo                                            8\n",
       "president                                      8\n",
       "CEO                                            8\n",
       "founder and chairman                           6\n",
       "former CEO                                     5\n",
       "partner                                        4\n",
       "founder and CEO                                4\n",
       "Relation                                       3\n",
       "founder/chairman                               3\n",
       "Vice Chairman                                  3\n",
       "relation and chairman                          3\n",
       "executive chairman                             3\n",
       "founder/CEO                                    2\n",
       "relative                                       2\n",
       "Chief Executive                                2\n",
       "leadership                                     2\n",
       "former chairman and CEO                        2\n",
       "founder, chairman, ceo                         2\n",
       "founder/vice chairman                          2\n",
       "president and ceo                              2\n",
       "employee                                       2\n",
       "general director                               2\n",
       "founder, chairman                              2\n",
       "                                            ... \n",
       "founder and ceo                                1\n",
       "relation/vice chairman                         1\n",
       "relation and ceo                               1\n",
       "deputy chairman                                1\n",
       "COO                                            1\n",
       "Head of Board of Directors                     1\n",
       "Exectuitve Director                            1\n",
       "founder and executive vice chairman            1\n",
       "founder and executive chairman                 1\n",
       "founder and chairwoman                         1\n",
       "Chairman, CEO                                  1\n",
       "director                                       1\n",
       "chairman of management committee               1\n",
       "founder, chairwoman, ceo                       1\n",
       "Honorary President for Life                    1\n",
       "founder/relation                               1\n",
       "head of high-yield bond trading dept           1\n",
       "vice-chairman                                  1\n",
       "chairman of the board                          1\n",
       "Global Head of Real Estate                     1\n",
       "chairman and ceo                               1\n",
       "co-director of zinc, copper and lead           1\n",
       "Chairman/shareholder                           1\n",
       "Vice President of Infrastructure Software      1\n",
       "founder/president                              1\n",
       "owner and former CEO                           1\n",
       "co-chairman                                    1\n",
       "founder CEO owner                              1\n",
       "supervisory board or directors                 1\n",
       "inventor                                       1\n",
       "Name: relationshiptocompany, dtype: int64"
      ]
     },
     "execution_count": 40,
     "metadata": {},
     "output_type": "execute_result"
    }
   ],
   "source": [
    "df['relationshiptocompany'].value_counts()"
   ]
  },
  {
   "cell_type": "markdown",
   "metadata": {},
   "source": [
    "## Most common source of wealth? Male vs. female?"
   ]
  },
  {
   "cell_type": "code",
   "execution_count": 41,
   "metadata": {
    "collapsed": false
   },
   "outputs": [
    {
     "name": "stdout",
     "output_type": "stream",
     "text": [
      "Most common source of wealth:\n"
     ]
    },
    {
     "data": {
      "text/plain": [
       "real estate    107\n",
       "Name: sourceofwealth, dtype: int64"
      ]
     },
     "execution_count": 41,
     "metadata": {},
     "output_type": "execute_result"
    }
   ],
   "source": [
    "print('Most common source of wealth:')\n",
    "df['sourceofwealth'].value_counts().head(1)"
   ]
  },
  {
   "cell_type": "code",
   "execution_count": 42,
   "metadata": {
    "collapsed": false
   },
   "outputs": [
    {
     "name": "stdout",
     "output_type": "stream",
     "text": [
      "The most common source of wealth for females and males:\n"
     ]
    }
   ],
   "source": [
    "print('The most common source of wealth for females and males:')"
   ]
  },
  {
   "cell_type": "code",
   "execution_count": 43,
   "metadata": {
    "collapsed": false
   },
   "outputs": [
    {
     "data": {
      "text/html": [
       "<div>\n",
       "<table border=\"1\" class=\"dataframe\">\n",
       "  <thead>\n",
       "    <tr style=\"text-align: right;\">\n",
       "      <th></th>\n",
       "      <th></th>\n",
       "      <th>sourceofwealth</th>\n",
       "    </tr>\n",
       "    <tr>\n",
       "      <th>gender</th>\n",
       "      <th></th>\n",
       "      <th></th>\n",
       "    </tr>\n",
       "  </thead>\n",
       "  <tbody>\n",
       "    <tr>\n",
       "      <th rowspan=\"4\" valign=\"top\">female</th>\n",
       "      <th>count</th>\n",
       "      <td>172</td>\n",
       "    </tr>\n",
       "    <tr>\n",
       "      <th>unique</th>\n",
       "      <td>100</td>\n",
       "    </tr>\n",
       "    <tr>\n",
       "      <th>top</th>\n",
       "      <td>diversified</td>\n",
       "    </tr>\n",
       "    <tr>\n",
       "      <th>freq</th>\n",
       "      <td>9</td>\n",
       "    </tr>\n",
       "    <tr>\n",
       "      <th rowspan=\"4\" valign=\"top\">male</th>\n",
       "      <th>count</th>\n",
       "      <td>1464</td>\n",
       "    </tr>\n",
       "    <tr>\n",
       "      <th>unique</th>\n",
       "      <td>578</td>\n",
       "    </tr>\n",
       "    <tr>\n",
       "      <th>top</th>\n",
       "      <td>real estate</td>\n",
       "    </tr>\n",
       "    <tr>\n",
       "      <th>freq</th>\n",
       "      <td>100</td>\n",
       "    </tr>\n",
       "  </tbody>\n",
       "</table>\n",
       "</div>"
      ],
      "text/plain": [
       "              sourceofwealth\n",
       "gender                      \n",
       "female count             172\n",
       "       unique            100\n",
       "       top       diversified\n",
       "       freq                9\n",
       "male   count            1464\n",
       "       unique            578\n",
       "       top       real estate\n",
       "       freq              100"
      ]
     },
     "execution_count": 43,
     "metadata": {},
     "output_type": "execute_result"
    }
   ],
   "source": [
    "df[['gender', 'sourceofwealth']].groupby('gender').describe()"
   ]
  },
  {
   "cell_type": "markdown",
   "metadata": {},
   "source": [
    "## Given the richest person in a country, what % of the GDP is their wealth?"
   ]
  },
  {
   "cell_type": "code",
   "execution_count": 44,
   "metadata": {
    "collapsed": true
   },
   "outputs": [],
   "source": [
    "gdp = pd.read_excel('API_NY_GDP_MKTP_CD_DS2_en_excel_v2_rowsremoved.xls')"
   ]
  },
  {
   "cell_type": "code",
   "execution_count": 46,
   "metadata": {
    "collapsed": false
   },
   "outputs": [
    {
     "data": {
      "text/plain": [
       "Index(['Country Name', 'Country Code', 'Indicator Name', 'Indicator Code',\n",
       "       '1960', '1961', '1962', '1963', '1964', '1965', '1966', '1967', '1968',\n",
       "       '1969', '1970', '1971', '1972', '1973', '1974', '1975', '1976', '1977',\n",
       "       '1978', '1979', '1980', '1981', '1982', '1983', '1984', '1985', '1986',\n",
       "       '1987', '1988', '1989', '1990', '1991', '1992', '1993', '1994', '1995',\n",
       "       '1996', '1997', '1998', '1999', '2000', '2001', '2002', '2003', '2004',\n",
       "       '2005', '2006', '2007', '2008', '2009', '2010', '2011', '2012', '2013',\n",
       "       '2014', '2015'],\n",
       "      dtype='object')"
      ]
     },
     "execution_count": 46,
     "metadata": {},
     "output_type": "execute_result"
    }
   ],
   "source": [
    "gdp.columns"
   ]
  },
  {
   "cell_type": "code",
   "execution_count": 47,
   "metadata": {
    "collapsed": true
   },
   "outputs": [],
   "source": [
    "gdp_df = pd.merge(df, gdp[['Country Code', '2014']], how = 'left', left_on = 'countrycode', right_on = 'Country Code')"
   ]
  },
  {
   "cell_type": "code",
   "execution_count": 48,
   "metadata": {
    "collapsed": false
   },
   "outputs": [
    {
     "data": {
      "text/html": [
       "<div>\n",
       "<table border=\"1\" class=\"dataframe\">\n",
       "  <thead>\n",
       "    <tr style=\"text-align: right;\">\n",
       "      <th></th>\n",
       "      <th>year</th>\n",
       "      <th>name</th>\n",
       "      <th>rank</th>\n",
       "      <th>citizenship</th>\n",
       "      <th>countrycode</th>\n",
       "      <th>networthusbillion</th>\n",
       "      <th>selfmade</th>\n",
       "      <th>typeofwealth</th>\n",
       "      <th>gender</th>\n",
       "      <th>age</th>\n",
       "      <th>...</th>\n",
       "      <th>gdpcurrentus</th>\n",
       "      <th>sourceofwealth</th>\n",
       "      <th>notes</th>\n",
       "      <th>notes2</th>\n",
       "      <th>source</th>\n",
       "      <th>source_2</th>\n",
       "      <th>source_3</th>\n",
       "      <th>source_4</th>\n",
       "      <th>Country Code</th>\n",
       "      <th>2014</th>\n",
       "    </tr>\n",
       "  </thead>\n",
       "  <tbody>\n",
       "    <tr>\n",
       "      <th>0</th>\n",
       "      <td>2014</td>\n",
       "      <td>A. Jerrold Perenchio</td>\n",
       "      <td>663</td>\n",
       "      <td>United States</td>\n",
       "      <td>USA</td>\n",
       "      <td>2.6</td>\n",
       "      <td>self-made</td>\n",
       "      <td>executive</td>\n",
       "      <td>male</td>\n",
       "      <td>83.0</td>\n",
       "      <td>...</td>\n",
       "      <td>NaN</td>\n",
       "      <td>television, Univision</td>\n",
       "      <td>represented Marlon Brando and Elizabeth Taylor</td>\n",
       "      <td>NaN</td>\n",
       "      <td>http://en.wikipedia.org/wiki/Jerry_Perenchio</td>\n",
       "      <td>http://www.forbes.com/profile/a-jerrold-perenc...</td>\n",
       "      <td>COLUMN ONE; A Hollywood Player Who Owns the Ga...</td>\n",
       "      <td>NaN</td>\n",
       "      <td>USA</td>\n",
       "      <td>1.741900e+13</td>\n",
       "    </tr>\n",
       "  </tbody>\n",
       "</table>\n",
       "<p>1 rows × 32 columns</p>\n",
       "</div>"
      ],
      "text/plain": [
       "   year                  name  rank    citizenship countrycode  \\\n",
       "0  2014  A. Jerrold Perenchio   663  United States         USA   \n",
       "\n",
       "   networthusbillion   selfmade typeofwealth gender   age      ...       \\\n",
       "0                2.6  self-made    executive   male  83.0      ...        \n",
       "\n",
       "  gdpcurrentus         sourceofwealth  \\\n",
       "0          NaN  television, Univision   \n",
       "\n",
       "                                            notes  notes2  \\\n",
       "0  represented Marlon Brando and Elizabeth Taylor     NaN   \n",
       "\n",
       "                                         source  \\\n",
       "0  http://en.wikipedia.org/wiki/Jerry_Perenchio   \n",
       "\n",
       "                                            source_2  \\\n",
       "0  http://www.forbes.com/profile/a-jerrold-perenc...   \n",
       "\n",
       "                                            source_3 source_4 Country Code  \\\n",
       "0  COLUMN ONE; A Hollywood Player Who Owns the Ga...      NaN          USA   \n",
       "\n",
       "           2014  \n",
       "0  1.741900e+13  \n",
       "\n",
       "[1 rows x 32 columns]"
      ]
     },
     "execution_count": 48,
     "metadata": {},
     "output_type": "execute_result"
    }
   ],
   "source": [
    "gdp_df.head(1)"
   ]
  },
  {
   "cell_type": "code",
   "execution_count": 49,
   "metadata": {
    "collapsed": false
   },
   "outputs": [
    {
     "data": {
      "text/html": [
       "<div>\n",
       "<table border=\"1\" class=\"dataframe\">\n",
       "  <thead>\n",
       "    <tr style=\"text-align: right;\">\n",
       "      <th></th>\n",
       "      <th>name</th>\n",
       "      <th>networthusbillion</th>\n",
       "      <th>2014</th>\n",
       "    </tr>\n",
       "    <tr>\n",
       "      <th>citizenship</th>\n",
       "      <th></th>\n",
       "      <th></th>\n",
       "      <th></th>\n",
       "    </tr>\n",
       "  </thead>\n",
       "  <tbody>\n",
       "    <tr>\n",
       "      <th>Algeria</th>\n",
       "      <td>Issad Rebrab</td>\n",
       "      <td>3.2</td>\n",
       "      <td>2.135185e+11</td>\n",
       "    </tr>\n",
       "    <tr>\n",
       "      <th>Angola</th>\n",
       "      <td>Isabel dos Santos</td>\n",
       "      <td>3.7</td>\n",
       "      <td>NaN</td>\n",
       "    </tr>\n",
       "    <tr>\n",
       "      <th>Argentina</th>\n",
       "      <td>Maria Ines de Lafuente Lacroze</td>\n",
       "      <td>5.5</td>\n",
       "      <td>5.376600e+11</td>\n",
       "    </tr>\n",
       "    <tr>\n",
       "      <th>Australia</th>\n",
       "      <td>Vivek Chaand Sehgal</td>\n",
       "      <td>17.7</td>\n",
       "      <td>1.454675e+12</td>\n",
       "    </tr>\n",
       "    <tr>\n",
       "      <th>Austria</th>\n",
       "      <td>Wolfgang Leitner</td>\n",
       "      <td>9.2</td>\n",
       "      <td>4.368875e+11</td>\n",
       "    </tr>\n",
       "    <tr>\n",
       "      <th>Belgium</th>\n",
       "      <td>Patokh Chodiev</td>\n",
       "      <td>4.9</td>\n",
       "      <td>5.315466e+11</td>\n",
       "    </tr>\n",
       "    <tr>\n",
       "      <th>Brazil</th>\n",
       "      <td>Werner Voigt</td>\n",
       "      <td>19.7</td>\n",
       "      <td>2.416636e+12</td>\n",
       "    </tr>\n",
       "    <tr>\n",
       "      <th>Canada</th>\n",
       "      <td>Stephen Jarislowsky</td>\n",
       "      <td>22.6</td>\n",
       "      <td>1.785387e+12</td>\n",
       "    </tr>\n",
       "    <tr>\n",
       "      <th>Chile</th>\n",
       "      <td>Sebastian Pinera</td>\n",
       "      <td>15.5</td>\n",
       "      <td>2.580615e+11</td>\n",
       "    </tr>\n",
       "    <tr>\n",
       "      <th>China</th>\n",
       "      <td>Zong Qinghou</td>\n",
       "      <td>15.1</td>\n",
       "      <td>1.035483e+13</td>\n",
       "    </tr>\n",
       "    <tr>\n",
       "      <th>Colombia</th>\n",
       "      <td>Luis Carlos Sarmiento</td>\n",
       "      <td>14.2</td>\n",
       "      <td>3.777396e+11</td>\n",
       "    </tr>\n",
       "    <tr>\n",
       "      <th>Cyprus</th>\n",
       "      <td>Suat Gunsel</td>\n",
       "      <td>13.6</td>\n",
       "      <td>2.322616e+10</td>\n",
       "    </tr>\n",
       "    <tr>\n",
       "      <th>Czech Republic</th>\n",
       "      <td>Zdenek Bakala</td>\n",
       "      <td>11.0</td>\n",
       "      <td>2.052697e+11</td>\n",
       "    </tr>\n",
       "    <tr>\n",
       "      <th>Denmark</th>\n",
       "      <td>Niels Peter Louis-Hansen</td>\n",
       "      <td>10.2</td>\n",
       "      <td>NaN</td>\n",
       "    </tr>\n",
       "    <tr>\n",
       "      <th>Egypt</th>\n",
       "      <td>Youssef Mansour</td>\n",
       "      <td>6.7</td>\n",
       "      <td>3.014990e+11</td>\n",
       "    </tr>\n",
       "    <tr>\n",
       "      <th>Finland</th>\n",
       "      <td>Niklas Herlin</td>\n",
       "      <td>3.3</td>\n",
       "      <td>2.722166e+11</td>\n",
       "    </tr>\n",
       "    <tr>\n",
       "      <th>France</th>\n",
       "      <td>Xavier Niel</td>\n",
       "      <td>34.5</td>\n",
       "      <td>2.829192e+12</td>\n",
       "    </tr>\n",
       "    <tr>\n",
       "      <th>Georgia</th>\n",
       "      <td>Bidzina Ivanishvili</td>\n",
       "      <td>5.2</td>\n",
       "      <td>1.652996e+10</td>\n",
       "    </tr>\n",
       "    <tr>\n",
       "      <th>Germany</th>\n",
       "      <td>Yvonne Bauer</td>\n",
       "      <td>25.0</td>\n",
       "      <td>3.868291e+12</td>\n",
       "    </tr>\n",
       "    <tr>\n",
       "      <th>Greece</th>\n",
       "      <td>Spiro Latsis</td>\n",
       "      <td>3.2</td>\n",
       "      <td>2.355741e+11</td>\n",
       "    </tr>\n",
       "    <tr>\n",
       "      <th>Guernsey</th>\n",
       "      <td>Stephen Lansdown</td>\n",
       "      <td>2.4</td>\n",
       "      <td>NaN</td>\n",
       "    </tr>\n",
       "    <tr>\n",
       "      <th>Hong Kong</th>\n",
       "      <td>Zhang Zhirong</td>\n",
       "      <td>31.0</td>\n",
       "      <td>2.908958e+11</td>\n",
       "    </tr>\n",
       "    <tr>\n",
       "      <th>India</th>\n",
       "      <td>Yusuf Hamied</td>\n",
       "      <td>18.6</td>\n",
       "      <td>2.048517e+12</td>\n",
       "    </tr>\n",
       "    <tr>\n",
       "      <th>Indonesia</th>\n",
       "      <td>Theodore Rachmat</td>\n",
       "      <td>7.6</td>\n",
       "      <td>8.885382e+11</td>\n",
       "    </tr>\n",
       "    <tr>\n",
       "      <th>Ireland</th>\n",
       "      <td>Pallonji Mistry</td>\n",
       "      <td>12.8</td>\n",
       "      <td>2.508136e+11</td>\n",
       "    </tr>\n",
       "    <tr>\n",
       "      <th>Israel</th>\n",
       "      <td>Zadik Bino</td>\n",
       "      <td>7.0</td>\n",
       "      <td>3.056748e+11</td>\n",
       "    </tr>\n",
       "    <tr>\n",
       "      <th>Italy</th>\n",
       "      <td>Stefano Pessina</td>\n",
       "      <td>26.5</td>\n",
       "      <td>2.141161e+12</td>\n",
       "    </tr>\n",
       "    <tr>\n",
       "      <th>Japan</th>\n",
       "      <td>Yusaku Maezawa</td>\n",
       "      <td>18.4</td>\n",
       "      <td>4.601461e+12</td>\n",
       "    </tr>\n",
       "    <tr>\n",
       "      <th>Kazakhstan</th>\n",
       "      <td>Vladimir Kim</td>\n",
       "      <td>2.2</td>\n",
       "      <td>2.178723e+11</td>\n",
       "    </tr>\n",
       "    <tr>\n",
       "      <th>Kuwait</th>\n",
       "      <td>Mohannad Al-Kharafi</td>\n",
       "      <td>1.3</td>\n",
       "      <td>1.636124e+11</td>\n",
       "    </tr>\n",
       "    <tr>\n",
       "      <th>...</th>\n",
       "      <td>...</td>\n",
       "      <td>...</td>\n",
       "      <td>...</td>\n",
       "    </tr>\n",
       "    <tr>\n",
       "      <th>New Zealand</th>\n",
       "      <td>Richard Chandler</td>\n",
       "      <td>7.0</td>\n",
       "      <td>1.999699e+11</td>\n",
       "    </tr>\n",
       "    <tr>\n",
       "      <th>Nigeria</th>\n",
       "      <td>Mike Adenuga</td>\n",
       "      <td>25.0</td>\n",
       "      <td>5.685083e+11</td>\n",
       "    </tr>\n",
       "    <tr>\n",
       "      <th>Norway</th>\n",
       "      <td>Stein Erik Hagen</td>\n",
       "      <td>5.0</td>\n",
       "      <td>4.998171e+11</td>\n",
       "    </tr>\n",
       "    <tr>\n",
       "      <th>Oman</th>\n",
       "      <td>PNC Menon</td>\n",
       "      <td>1.2</td>\n",
       "      <td>8.179662e+10</td>\n",
       "    </tr>\n",
       "    <tr>\n",
       "      <th>Peru</th>\n",
       "      <td>Vito Rodriguez Rodriguez</td>\n",
       "      <td>2.5</td>\n",
       "      <td>2.025963e+11</td>\n",
       "    </tr>\n",
       "    <tr>\n",
       "      <th>Philippines</th>\n",
       "      <td>Tony Tan Caktiong</td>\n",
       "      <td>11.4</td>\n",
       "      <td>2.847771e+11</td>\n",
       "    </tr>\n",
       "    <tr>\n",
       "      <th>Poland</th>\n",
       "      <td>Zygmunt Solorz-Zak</td>\n",
       "      <td>3.6</td>\n",
       "      <td>5.449666e+11</td>\n",
       "    </tr>\n",
       "    <tr>\n",
       "      <th>Portugal</th>\n",
       "      <td>Belmiro de Azevedo</td>\n",
       "      <td>5.3</td>\n",
       "      <td>2.301169e+11</td>\n",
       "    </tr>\n",
       "    <tr>\n",
       "      <th>Romania</th>\n",
       "      <td>Ioan Niculae</td>\n",
       "      <td>1.2</td>\n",
       "      <td>1.990437e+11</td>\n",
       "    </tr>\n",
       "    <tr>\n",
       "      <th>Russia</th>\n",
       "      <td>Ziyaudin Magomedov</td>\n",
       "      <td>18.6</td>\n",
       "      <td>1.860598e+12</td>\n",
       "    </tr>\n",
       "    <tr>\n",
       "      <th>Saudi Arabia</th>\n",
       "      <td>Sulaiman Al Rajhi</td>\n",
       "      <td>20.4</td>\n",
       "      <td>7.538317e+11</td>\n",
       "    </tr>\n",
       "    <tr>\n",
       "      <th>Singapore</th>\n",
       "      <td>Zhong Sheng Jian</td>\n",
       "      <td>11.0</td>\n",
       "      <td>3.078598e+11</td>\n",
       "    </tr>\n",
       "    <tr>\n",
       "      <th>South Africa</th>\n",
       "      <td>Stephen Saad</td>\n",
       "      <td>7.6</td>\n",
       "      <td>3.501408e+11</td>\n",
       "    </tr>\n",
       "    <tr>\n",
       "      <th>South Korea</th>\n",
       "      <td>Suh Kyung-Bae</td>\n",
       "      <td>11.1</td>\n",
       "      <td>1.410383e+12</td>\n",
       "    </tr>\n",
       "    <tr>\n",
       "      <th>Spain</th>\n",
       "      <td>Sandra Ortega Mera</td>\n",
       "      <td>64.0</td>\n",
       "      <td>1.381342e+12</td>\n",
       "    </tr>\n",
       "    <tr>\n",
       "      <th>St. Kitts and Nevis</th>\n",
       "      <td>Jacky Xu</td>\n",
       "      <td>1.2</td>\n",
       "      <td>8.522031e+08</td>\n",
       "    </tr>\n",
       "    <tr>\n",
       "      <th>Swaziland</th>\n",
       "      <td>Nathan Kirsh</td>\n",
       "      <td>3.7</td>\n",
       "      <td>4.412892e+09</td>\n",
       "    </tr>\n",
       "    <tr>\n",
       "      <th>Sweden</th>\n",
       "      <td>Torbjorn Tornqvist</td>\n",
       "      <td>34.4</td>\n",
       "      <td>5.710905e+11</td>\n",
       "    </tr>\n",
       "    <tr>\n",
       "      <th>Switzerland</th>\n",
       "      <td>Walter Frey</td>\n",
       "      <td>12.0</td>\n",
       "      <td>7.010371e+11</td>\n",
       "    </tr>\n",
       "    <tr>\n",
       "      <th>Taiwan</th>\n",
       "      <td>Wu Chung-Yi</td>\n",
       "      <td>9.5</td>\n",
       "      <td>NaN</td>\n",
       "    </tr>\n",
       "    <tr>\n",
       "      <th>Tanzania</th>\n",
       "      <td>Rostam Azizi</td>\n",
       "      <td>1.0</td>\n",
       "      <td>4.805668e+10</td>\n",
       "    </tr>\n",
       "    <tr>\n",
       "      <th>Thailand</th>\n",
       "      <td>Vichai Srivaddhanaprabha</td>\n",
       "      <td>11.4</td>\n",
       "      <td>4.048240e+11</td>\n",
       "    </tr>\n",
       "    <tr>\n",
       "      <th>Turkey</th>\n",
       "      <td>Suna Kirac</td>\n",
       "      <td>3.7</td>\n",
       "      <td>7.984292e+11</td>\n",
       "    </tr>\n",
       "    <tr>\n",
       "      <th>Uganda</th>\n",
       "      <td>Sudhir Ruparelia</td>\n",
       "      <td>1.1</td>\n",
       "      <td>2.699848e+10</td>\n",
       "    </tr>\n",
       "    <tr>\n",
       "      <th>Ukraine</th>\n",
       "      <td>Yuriy Kosiuk</td>\n",
       "      <td>12.5</td>\n",
       "      <td>1.318051e+11</td>\n",
       "    </tr>\n",
       "    <tr>\n",
       "      <th>United Arab Emirates</th>\n",
       "      <td>Saif Al Ghurair</td>\n",
       "      <td>4.8</td>\n",
       "      <td>3.994513e+11</td>\n",
       "    </tr>\n",
       "    <tr>\n",
       "      <th>United Kingdom</th>\n",
       "      <td>Xiu Li Hawken</td>\n",
       "      <td>13.0</td>\n",
       "      <td>2.988893e+12</td>\n",
       "    </tr>\n",
       "    <tr>\n",
       "      <th>United States</th>\n",
       "      <td>Winnie Johnson-Marquart</td>\n",
       "      <td>76.0</td>\n",
       "      <td>1.741900e+13</td>\n",
       "    </tr>\n",
       "    <tr>\n",
       "      <th>Venezuela</th>\n",
       "      <td>Lorenzo Mendoza</td>\n",
       "      <td>4.0</td>\n",
       "      <td>NaN</td>\n",
       "    </tr>\n",
       "    <tr>\n",
       "      <th>Vietnam</th>\n",
       "      <td>Pham Nhat Vuong</td>\n",
       "      <td>1.6</td>\n",
       "      <td>1.862047e+11</td>\n",
       "    </tr>\n",
       "  </tbody>\n",
       "</table>\n",
       "<p>69 rows × 3 columns</p>\n",
       "</div>"
      ],
      "text/plain": [
       "                                                name  networthusbillion  \\\n",
       "citizenship                                                               \n",
       "Algeria                                 Issad Rebrab                3.2   \n",
       "Angola                             Isabel dos Santos                3.7   \n",
       "Argentina             Maria Ines de Lafuente Lacroze                5.5   \n",
       "Australia                        Vivek Chaand Sehgal               17.7   \n",
       "Austria                             Wolfgang Leitner                9.2   \n",
       "Belgium                               Patokh Chodiev                4.9   \n",
       "Brazil                                  Werner Voigt               19.7   \n",
       "Canada                           Stephen Jarislowsky               22.6   \n",
       "Chile                               Sebastian Pinera               15.5   \n",
       "China                                   Zong Qinghou               15.1   \n",
       "Colombia                       Luis Carlos Sarmiento               14.2   \n",
       "Cyprus                                   Suat Gunsel               13.6   \n",
       "Czech Republic                         Zdenek Bakala               11.0   \n",
       "Denmark                     Niels Peter Louis-Hansen               10.2   \n",
       "Egypt                                Youssef Mansour                6.7   \n",
       "Finland                                Niklas Herlin                3.3   \n",
       "France                                   Xavier Niel               34.5   \n",
       "Georgia                          Bidzina Ivanishvili                5.2   \n",
       "Germany                                 Yvonne Bauer               25.0   \n",
       "Greece                                  Spiro Latsis                3.2   \n",
       "Guernsey                            Stephen Lansdown                2.4   \n",
       "Hong Kong                              Zhang Zhirong               31.0   \n",
       "India                                   Yusuf Hamied               18.6   \n",
       "Indonesia                           Theodore Rachmat                7.6   \n",
       "Ireland                              Pallonji Mistry               12.8   \n",
       "Israel                                    Zadik Bino                7.0   \n",
       "Italy                                Stefano Pessina               26.5   \n",
       "Japan                                 Yusaku Maezawa               18.4   \n",
       "Kazakhstan                              Vladimir Kim                2.2   \n",
       "Kuwait                           Mohannad Al-Kharafi                1.3   \n",
       "...                                              ...                ...   \n",
       "New Zealand                         Richard Chandler                7.0   \n",
       "Nigeria                                 Mike Adenuga               25.0   \n",
       "Norway                              Stein Erik Hagen                5.0   \n",
       "Oman                                       PNC Menon                1.2   \n",
       "Peru                        Vito Rodriguez Rodriguez                2.5   \n",
       "Philippines                        Tony Tan Caktiong               11.4   \n",
       "Poland                            Zygmunt Solorz-Zak                3.6   \n",
       "Portugal                          Belmiro de Azevedo                5.3   \n",
       "Romania                                 Ioan Niculae                1.2   \n",
       "Russia                            Ziyaudin Magomedov               18.6   \n",
       "Saudi Arabia                       Sulaiman Al Rajhi               20.4   \n",
       "Singapore                           Zhong Sheng Jian               11.0   \n",
       "South Africa                            Stephen Saad                7.6   \n",
       "South Korea                            Suh Kyung-Bae               11.1   \n",
       "Spain                             Sandra Ortega Mera               64.0   \n",
       "St. Kitts and Nevis                         Jacky Xu                1.2   \n",
       "Swaziland                               Nathan Kirsh                3.7   \n",
       "Sweden                            Torbjorn Tornqvist               34.4   \n",
       "Switzerland                              Walter Frey               12.0   \n",
       "Taiwan                                   Wu Chung-Yi                9.5   \n",
       "Tanzania                                Rostam Azizi                1.0   \n",
       "Thailand                    Vichai Srivaddhanaprabha               11.4   \n",
       "Turkey                                    Suna Kirac                3.7   \n",
       "Uganda                              Sudhir Ruparelia                1.1   \n",
       "Ukraine                                 Yuriy Kosiuk               12.5   \n",
       "United Arab Emirates                 Saif Al Ghurair                4.8   \n",
       "United Kingdom                         Xiu Li Hawken               13.0   \n",
       "United States                Winnie Johnson-Marquart               76.0   \n",
       "Venezuela                            Lorenzo Mendoza                4.0   \n",
       "Vietnam                              Pham Nhat Vuong                1.6   \n",
       "\n",
       "                              2014  \n",
       "citizenship                         \n",
       "Algeria               2.135185e+11  \n",
       "Angola                         NaN  \n",
       "Argentina             5.376600e+11  \n",
       "Australia             1.454675e+12  \n",
       "Austria               4.368875e+11  \n",
       "Belgium               5.315466e+11  \n",
       "Brazil                2.416636e+12  \n",
       "Canada                1.785387e+12  \n",
       "Chile                 2.580615e+11  \n",
       "China                 1.035483e+13  \n",
       "Colombia              3.777396e+11  \n",
       "Cyprus                2.322616e+10  \n",
       "Czech Republic        2.052697e+11  \n",
       "Denmark                        NaN  \n",
       "Egypt                 3.014990e+11  \n",
       "Finland               2.722166e+11  \n",
       "France                2.829192e+12  \n",
       "Georgia               1.652996e+10  \n",
       "Germany               3.868291e+12  \n",
       "Greece                2.355741e+11  \n",
       "Guernsey                       NaN  \n",
       "Hong Kong             2.908958e+11  \n",
       "India                 2.048517e+12  \n",
       "Indonesia             8.885382e+11  \n",
       "Ireland               2.508136e+11  \n",
       "Israel                3.056748e+11  \n",
       "Italy                 2.141161e+12  \n",
       "Japan                 4.601461e+12  \n",
       "Kazakhstan            2.178723e+11  \n",
       "Kuwait                1.636124e+11  \n",
       "...                            ...  \n",
       "New Zealand           1.999699e+11  \n",
       "Nigeria               5.685083e+11  \n",
       "Norway                4.998171e+11  \n",
       "Oman                  8.179662e+10  \n",
       "Peru                  2.025963e+11  \n",
       "Philippines           2.847771e+11  \n",
       "Poland                5.449666e+11  \n",
       "Portugal              2.301169e+11  \n",
       "Romania               1.990437e+11  \n",
       "Russia                1.860598e+12  \n",
       "Saudi Arabia          7.538317e+11  \n",
       "Singapore             3.078598e+11  \n",
       "South Africa          3.501408e+11  \n",
       "South Korea           1.410383e+12  \n",
       "Spain                 1.381342e+12  \n",
       "St. Kitts and Nevis   8.522031e+08  \n",
       "Swaziland             4.412892e+09  \n",
       "Sweden                5.710905e+11  \n",
       "Switzerland           7.010371e+11  \n",
       "Taiwan                         NaN  \n",
       "Tanzania              4.805668e+10  \n",
       "Thailand              4.048240e+11  \n",
       "Turkey                7.984292e+11  \n",
       "Uganda                2.699848e+10  \n",
       "Ukraine               1.318051e+11  \n",
       "United Arab Emirates  3.994513e+11  \n",
       "United Kingdom        2.988893e+12  \n",
       "United States         1.741900e+13  \n",
       "Venezuela                      NaN  \n",
       "Vietnam               1.862047e+11  \n",
       "\n",
       "[69 rows x 3 columns]"
      ]
     },
     "execution_count": 49,
     "metadata": {},
     "output_type": "execute_result"
    }
   ],
   "source": [
    "gdp_df[['name', 'citizenship', 'networthusbillion', '2014']].groupby('citizenship').max() #gives the max for each country"
   ]
  },
  {
   "cell_type": "code",
   "execution_count": 50,
   "metadata": {
    "collapsed": false
   },
   "outputs": [],
   "source": [
    "gdp_dict = gdp_df[['name', 'citizenship', 'networthusbillion', '2014']].groupby('citizenship').max().to_dict()"
   ]
  },
  {
   "cell_type": "code",
   "execution_count": 51,
   "metadata": {
    "collapsed": false
   },
   "outputs": [
    {
     "name": "stdout",
     "output_type": "stream",
     "text": [
      "Swaziland\n",
      "gdp in billions: 4.41289183003\n",
      "richest billionaire: Nathan Kirsh\n",
      "how many billions: 3.7\n",
      "percent of gdp: 83.8452457598\n",
      "\n",
      "Switzerland\n",
      "gdp in billions: 701.037135966\n",
      "richest billionaire: Walter Frey\n",
      "how many billions: 12.0\n",
      "percent of gdp: 1.71174954711\n",
      "\n",
      "Nepal\n",
      "gdp in billions: 19.7696421226\n",
      "richest billionaire: Binod Chaudhary\n",
      "how many billions: 1.1\n",
      "percent of gdp: 5.56408655847\n",
      "\n",
      "Norway\n",
      "gdp in billions: 499.817138323\n",
      "richest billionaire: Stein Erik Hagen\n",
      "how many billions: 5.0\n",
      "percent of gdp: 1.00036585716\n",
      "\n",
      "Portugal\n",
      "gdp in billions: 230.116912514\n",
      "richest billionaire: Belmiro de Azevedo\n",
      "how many billions: 5.3\n",
      "percent of gdp: 2.30317708599\n",
      "\n",
      "Tanzania\n",
      "gdp in billions: 48.0566809822\n",
      "richest billionaire: Rostam Azizi\n",
      "how many billions: 1.0\n",
      "percent of gdp: 2.08087612287\n",
      "\n",
      "Japan\n",
      "gdp in billions: 4601.46120689\n",
      "richest billionaire: Yusaku Maezawa\n",
      "how many billions: 18.4\n",
      "percent of gdp: 0.39987297888\n",
      "\n",
      "United Kingdom\n",
      "gdp in billions: 2988.89328357\n",
      "richest billionaire: Xiu Li Hawken\n",
      "how many billions: 13.0\n",
      "percent of gdp: 0.434943598404\n",
      "\n",
      "Nigeria\n",
      "gdp in billions: 568.508262378\n",
      "richest billionaire: Mike Adenuga\n",
      "how many billions: 25.0\n",
      "percent of gdp: 4.39747346774\n",
      "\n",
      "China\n",
      "gdp in billions: 10354.8317293\n",
      "richest billionaire: Zong Qinghou\n",
      "how many billions: 15.1\n",
      "percent of gdp: 0.145825643474\n",
      "\n",
      "Vietnam\n",
      "gdp in billions: 186.204652922\n",
      "richest billionaire: Pham Nhat Vuong\n",
      "how many billions: 1.6\n",
      "percent of gdp: 0.859269612703\n",
      "\n",
      "South Africa\n",
      "gdp in billions: 350.140810003\n",
      "richest billionaire: Stephen Saad\n",
      "how many billions: 7.6\n",
      "percent of gdp: 2.17055532599\n",
      "\n",
      "Finland\n",
      "gdp in billions: 272.216575502\n",
      "richest billionaire: Niklas Herlin\n",
      "how many billions: 3.3\n",
      "percent of gdp: 1.21227004414\n",
      "\n",
      "Israel\n",
      "gdp in billions: 305.674837195\n",
      "richest billionaire: Zadik Bino\n",
      "how many billions: 7.0\n",
      "percent of gdp: 2.29001512334\n",
      "\n",
      "St. Kitts and Nevis\n",
      "gdp in billions: 0.852203083881\n",
      "richest billionaire: Jacky Xu\n",
      "how many billions: 1.2\n",
      "percent of gdp: 140.8115064\n",
      "\n",
      "Ireland\n",
      "gdp in billions: 250.813607686\n",
      "richest billionaire: Pallonji Mistry\n",
      "how many billions: 12.8\n",
      "percent of gdp: 5.10339136624\n",
      "\n",
      "Denmark\n",
      "gdp in billions: nan\n",
      "richest billionaire: Niels Peter Louis-Hansen\n",
      "how many billions: 10.2\n",
      "percent of gdp: nan\n",
      "\n",
      "South Korea\n",
      "gdp in billions: 1410.38298862\n",
      "richest billionaire: Suh Kyung-Bae\n",
      "how many billions: 11.1\n",
      "percent of gdp: 0.787020269642\n",
      "\n",
      "Turkey\n",
      "gdp in billions: 798.429233036\n",
      "richest billionaire: Suna Kirac\n",
      "how many billions: 3.7\n",
      "percent of gdp: 0.463409886175\n",
      "\n",
      "Monaco\n",
      "gdp in billions: nan\n",
      "richest billionaire: Lily Safra\n",
      "how many billions: 1.8\n",
      "percent of gdp: nan\n",
      "\n",
      "Lithuania\n",
      "gdp in billions: 48.3539371103\n",
      "richest billionaire: Nerijus Numavicius\n",
      "how many billions: 1.0\n",
      "percent of gdp: 2.068083924\n",
      "\n",
      "Canada\n",
      "gdp in billions: 1785.3866496\n",
      "richest billionaire: Stephen Jarislowsky\n",
      "how many billions: 22.6\n",
      "percent of gdp: 1.26583225012\n",
      "\n",
      "Argentina\n",
      "gdp in billions: 537.659972702\n",
      "richest billionaire: Maria Ines de Lafuente Lacroze\n",
      "how many billions: 5.5\n",
      "percent of gdp: 1.02295135945\n",
      "\n",
      "Poland\n",
      "gdp in billions: 544.966555714\n",
      "richest billionaire: Zygmunt Solorz-Zak\n",
      "how many billions: 3.6\n",
      "percent of gdp: 0.66059099632\n",
      "\n",
      "Algeria\n",
      "gdp in billions: 213.518488688\n",
      "richest billionaire: Issad Rebrab\n",
      "how many billions: 3.2\n",
      "percent of gdp: 1.49869925535\n",
      "\n",
      "Netherlands\n",
      "gdp in billions: 879.319321495\n",
      "richest billionaire: Ralph Sonnenberg\n",
      "how many billions: 10.4\n",
      "percent of gdp: 1.1827330238\n",
      "\n",
      "Egypt\n",
      "gdp in billions: 301.498960052\n",
      "richest billionaire: Youssef Mansour\n",
      "how many billions: 6.7\n",
      "percent of gdp: 2.22222988724\n",
      "\n",
      "Sweden\n",
      "gdp in billions: 571.090480171\n",
      "richest billionaire: Torbjorn Tornqvist\n",
      "how many billions: 34.4\n",
      "percent of gdp: 6.02356390001\n",
      "\n",
      "Greece\n",
      "gdp in billions: 235.574074998\n",
      "richest billionaire: Spiro Latsis\n",
      "how many billions: 3.2\n",
      "percent of gdp: 1.35838376953\n",
      "\n",
      "Austria\n",
      "gdp in billions: 436.887543467\n",
      "richest billionaire: Wolfgang Leitner\n",
      "how many billions: 9.2\n",
      "percent of gdp: 2.10580506072\n",
      "\n",
      "Colombia\n",
      "gdp in billions: 377.739622866\n",
      "richest billionaire: Luis Carlos Sarmiento\n",
      "how many billions: 14.2\n",
      "percent of gdp: 3.75920320253\n",
      "\n",
      "Lebanon\n",
      "gdp in billions: 45.7309452736\n",
      "richest billionaire: Taha Mikati\n",
      "how many billions: 3.1\n",
      "percent of gdp: 6.77877962384\n",
      "\n",
      "Oman\n",
      "gdp in billions: 81.7966189857\n",
      "richest billionaire: PNC Menon\n",
      "how many billions: 1.2\n",
      "percent of gdp: 1.4670533023\n",
      "\n",
      "France\n",
      "gdp in billions: 2829.19203917\n",
      "richest billionaire: Xavier Niel\n",
      "how many billions: 34.5\n",
      "percent of gdp: 1.21942941739\n",
      "\n",
      "Philippines\n",
      "gdp in billions: 284.777093019\n",
      "richest billionaire: Tony Tan Caktiong\n",
      "how many billions: 11.4\n",
      "percent of gdp: 4.00313096785\n",
      "\n",
      "Chile\n",
      "gdp in billions: 258.061522887\n",
      "richest billionaire: Sebastian Pinera\n",
      "how many billions: 15.5\n",
      "percent of gdp: 6.00631966619\n",
      "\n",
      "Russia\n",
      "gdp in billions: 1860.59792276\n",
      "richest billionaire: Ziyaudin Magomedov\n",
      "how many billions: 18.6\n",
      "percent of gdp: 0.999678639454\n",
      "\n",
      "Venezuela\n",
      "gdp in billions: nan\n",
      "richest billionaire: Lorenzo Mendoza\n",
      "how many billions: 4.0\n",
      "percent of gdp: nan\n",
      "\n",
      "United States\n",
      "gdp in billions: 17419.0\n",
      "richest billionaire: Winnie Johnson-Marquart\n",
      "how many billions: 76.0\n",
      "percent of gdp: 0.436305183994\n",
      "\n",
      "Angola\n",
      "gdp in billions: nan\n",
      "richest billionaire: Isabel dos Santos\n",
      "how many billions: 3.7\n",
      "percent of gdp: nan\n",
      "\n",
      "Hong Kong\n",
      "gdp in billions: 290.895784166\n",
      "richest billionaire: Zhang Zhirong\n",
      "how many billions: 31.0\n",
      "percent of gdp: 10.6567374597\n",
      "\n",
      "Czech Republic\n",
      "gdp in billions: 205.269709743\n",
      "richest billionaire: Zdenek Bakala\n",
      "how many billions: 11.0\n",
      "percent of gdp: 5.35880330992\n",
      "\n",
      "Thailand\n",
      "gdp in billions: 404.823952118\n",
      "richest billionaire: Vichai Srivaddhanaprabha\n",
      "how many billions: 11.4\n",
      "percent of gdp: 2.81603890787\n",
      "\n",
      "Uganda\n",
      "gdp in billions: 26.9984772888\n",
      "richest billionaire: Sudhir Ruparelia\n",
      "how many billions: 1.1\n",
      "percent of gdp: 4.0743038514\n",
      "\n",
      "United Arab Emirates\n",
      "gdp in billions: 399.451327434\n",
      "richest billionaire: Saif Al Ghurair\n",
      "how many billions: 4.8\n",
      "percent of gdp: 1.20164827861\n",
      "\n",
      "India\n",
      "gdp in billions: 2048.51743887\n",
      "richest billionaire: Yusuf Hamied\n",
      "how many billions: 18.6\n",
      "percent of gdp: 0.907973720264\n",
      "\n",
      "Singapore\n",
      "gdp in billions: 307.859758504\n",
      "richest billionaire: Zhong Sheng Jian\n",
      "how many billions: 11.0\n",
      "percent of gdp: 3.57305548912\n",
      "\n",
      "Cyprus\n",
      "gdp in billions: 23.2261589862\n",
      "richest billionaire: Suat Gunsel\n",
      "how many billions: 13.6\n",
      "percent of gdp: 58.5546667794\n",
      "\n",
      "Saudi Arabia\n",
      "gdp in billions: 753.831733333\n",
      "richest billionaire: Sulaiman Al Rajhi\n",
      "how many billions: 20.4\n",
      "percent of gdp: 2.70617421607\n",
      "\n",
      "Spain\n",
      "gdp in billions: 1381.34210174\n",
      "richest billionaire: Sandra Ortega Mera\n",
      "how many billions: 64.0\n",
      "percent of gdp: 4.63317522282\n",
      "\n",
      "Kazakhstan\n",
      "gdp in billions: 217.872250221\n",
      "richest billionaire: Vladimir Kim\n",
      "how many billions: 2.2\n",
      "percent of gdp: 1.00976604307\n",
      "\n",
      "Australia\n",
      "gdp in billions: 1454.67547967\n",
      "richest billionaire: Vivek Chaand Sehgal\n",
      "how many billions: 17.7\n",
      "percent of gdp: 1.2167662305\n",
      "\n",
      "Malaysia\n",
      "gdp in billions: 338.103822298\n",
      "richest billionaire: Yeoh Tiong Lay\n",
      "how many billions: 11.5\n",
      "percent of gdp: 3.40132209149\n",
      "\n",
      "Brazil\n",
      "gdp in billions: 2416.63550608\n",
      "richest billionaire: Werner Voigt\n",
      "how many billions: 19.7\n",
      "percent of gdp: 0.815182924792\n",
      "\n",
      "Indonesia\n",
      "gdp in billions: 888.538201025\n",
      "richest billionaire: Theodore Rachmat\n",
      "how many billions: 7.6\n",
      "percent of gdp: 0.855337451021\n",
      "\n",
      "New Zealand\n",
      "gdp in billions: 199.969858904\n",
      "richest billionaire: Richard Chandler\n",
      "how many billions: 7.0\n",
      "percent of gdp: 3.50052754869\n",
      "\n",
      "Mexico\n",
      "gdp in billions: 1294.68973323\n",
      "richest billionaire: Rufino Vigil Gonzalez\n",
      "how many billions: 72.0\n",
      "percent of gdp: 5.56117795267\n",
      "\n",
      "Guernsey\n",
      "gdp in billions: nan\n",
      "richest billionaire: Stephen Lansdown\n",
      "how many billions: 2.4\n",
      "percent of gdp: nan\n",
      "\n",
      "Romania\n",
      "gdp in billions: 199.043652215\n",
      "richest billionaire: Ioan Niculae\n",
      "how many billions: 1.2\n",
      "percent of gdp: 0.602882828286\n",
      "\n",
      "Georgia\n",
      "gdp in billions: 16.5299631874\n",
      "richest billionaire: Bidzina Ivanishvili\n",
      "how many billions: 5.2\n",
      "percent of gdp: 31.4580252905\n",
      "\n",
      "Germany\n",
      "gdp in billions: 3868.29123182\n",
      "richest billionaire: Yvonne Bauer\n",
      "how many billions: 25.0\n",
      "percent of gdp: 0.646280191996\n",
      "\n",
      "Taiwan\n",
      "gdp in billions: nan\n",
      "richest billionaire: Wu Chung-Yi\n",
      "how many billions: 9.5\n",
      "percent of gdp: nan\n",
      "\n",
      "Ukraine\n",
      "gdp in billions: 131.805126738\n",
      "richest billionaire: Yuriy Kosiuk\n",
      "how many billions: 12.5\n",
      "percent of gdp: 9.48369787225\n",
      "\n",
      "Peru\n",
      "gdp in billions: 202.596307719\n",
      "richest billionaire: Vito Rodriguez Rodriguez\n",
      "how many billions: 2.5\n",
      "percent of gdp: 1.23398102766\n",
      "\n",
      "Belgium\n",
      "gdp in billions: 531.546586179\n",
      "richest billionaire: Patokh Chodiev\n",
      "how many billions: 4.9\n",
      "percent of gdp: 0.921838297416\n",
      "\n",
      "Macau\n",
      "gdp in billions: 55.5017340461\n",
      "richest billionaire: Lam Fong Ngo\n",
      "how many billions: 1.8\n",
      "percent of gdp: 3.24314191427\n",
      "\n",
      "Morocco\n",
      "gdp in billions: 110.009040838\n",
      "richest billionaire: Othman Benjelloun\n",
      "how many billions: 2.8\n",
      "percent of gdp: 2.54524535316\n",
      "\n",
      "Kuwait\n",
      "gdp in billions: 163.61243851\n",
      "richest billionaire: Mohannad Al-Kharafi\n",
      "how many billions: 1.3\n",
      "percent of gdp: 0.794560616441\n",
      "\n",
      "Italy\n",
      "gdp in billions: 2141.16132537\n",
      "richest billionaire: Stefano Pessina\n",
      "how many billions: 26.5\n",
      "percent of gdp: 1.2376461169\n",
      "\n"
     ]
    }
   ],
   "source": [
    "for country in gdp_dict['2014']:\n",
    "    print(country)\n",
    "    gdp_bill = gdp_dict['2014'][country] / 1000000000\n",
    "    print('gdp in billions:', gdp_bill)\n",
    "    print('richest billionaire:', gdp_dict['name'][country])\n",
    "    print('how many billions:', gdp_dict['networthusbillion'][country])\n",
    "    print('percent of gdp:', gdp_dict['networthusbillion'][country] / gdp_bill * 100)\n",
    "    print('')"
   ]
  },
  {
   "cell_type": "markdown",
   "metadata": {
    "collapsed": true
   },
   "source": [
    "## Add up the wealth of all of the billionaires in a given country (or a few countries) and then compare it to the GDP of the country, or other billionaires, so like pit the US vs India"
   ]
  },
  {
   "cell_type": "code",
   "execution_count": 52,
   "metadata": {
    "collapsed": false
   },
   "outputs": [
    {
     "data": {
      "text/html": [
       "<div>\n",
       "<table border=\"1\" class=\"dataframe\">\n",
       "  <thead>\n",
       "    <tr style=\"text-align: right;\">\n",
       "      <th></th>\n",
       "      <th>networthusbillion</th>\n",
       "      <th>2014</th>\n",
       "    </tr>\n",
       "    <tr>\n",
       "      <th>citizenship</th>\n",
       "      <th></th>\n",
       "      <th></th>\n",
       "    </tr>\n",
       "  </thead>\n",
       "  <tbody>\n",
       "    <tr>\n",
       "      <th>Algeria</th>\n",
       "      <td>3.2</td>\n",
       "      <td>2.135185e+11</td>\n",
       "    </tr>\n",
       "    <tr>\n",
       "      <th>Angola</th>\n",
       "      <td>3.7</td>\n",
       "      <td>NaN</td>\n",
       "    </tr>\n",
       "    <tr>\n",
       "      <th>Argentina</th>\n",
       "      <td>11.3</td>\n",
       "      <td>2.688300e+12</td>\n",
       "    </tr>\n",
       "    <tr>\n",
       "      <th>Australia</th>\n",
       "      <td>85.4</td>\n",
       "      <td>4.218559e+13</td>\n",
       "    </tr>\n",
       "    <tr>\n",
       "      <th>Austria</th>\n",
       "      <td>33.8</td>\n",
       "      <td>4.368875e+12</td>\n",
       "    </tr>\n",
       "    <tr>\n",
       "      <th>Belgium</th>\n",
       "      <td>8.0</td>\n",
       "      <td>1.594640e+12</td>\n",
       "    </tr>\n",
       "    <tr>\n",
       "      <th>Brazil</th>\n",
       "      <td>192.2</td>\n",
       "      <td>1.570813e+14</td>\n",
       "    </tr>\n",
       "    <tr>\n",
       "      <th>Canada</th>\n",
       "      <td>112.8</td>\n",
       "      <td>5.713237e+13</td>\n",
       "    </tr>\n",
       "    <tr>\n",
       "      <th>Chile</th>\n",
       "      <td>41.3</td>\n",
       "      <td>3.096738e+12</td>\n",
       "    </tr>\n",
       "    <tr>\n",
       "      <th>China</th>\n",
       "      <td>375.8</td>\n",
       "      <td>1.573934e+15</td>\n",
       "    </tr>\n",
       "    <tr>\n",
       "      <th>Colombia</th>\n",
       "      <td>30.6</td>\n",
       "      <td>1.510958e+12</td>\n",
       "    </tr>\n",
       "    <tr>\n",
       "      <th>Cyprus</th>\n",
       "      <td>19.7</td>\n",
       "      <td>9.290464e+10</td>\n",
       "    </tr>\n",
       "    <tr>\n",
       "      <th>Czech Republic</th>\n",
       "      <td>18.4</td>\n",
       "      <td>1.231618e+12</td>\n",
       "    </tr>\n",
       "    <tr>\n",
       "      <th>Denmark</th>\n",
       "      <td>26.9</td>\n",
       "      <td>NaN</td>\n",
       "    </tr>\n",
       "    <tr>\n",
       "      <th>Egypt</th>\n",
       "      <td>22.3</td>\n",
       "      <td>2.382709e+12</td>\n",
       "    </tr>\n",
       "    <tr>\n",
       "      <th>Finland</th>\n",
       "      <td>6.6</td>\n",
       "      <td>1.088866e+12</td>\n",
       "    </tr>\n",
       "    <tr>\n",
       "      <th>France</th>\n",
       "      <td>235.3</td>\n",
       "      <td>1.216553e+14</td>\n",
       "    </tr>\n",
       "    <tr>\n",
       "      <th>Georgia</th>\n",
       "      <td>5.2</td>\n",
       "      <td>1.652996e+10</td>\n",
       "    </tr>\n",
       "    <tr>\n",
       "      <th>Germany</th>\n",
       "      <td>401.4</td>\n",
       "      <td>3.288048e+14</td>\n",
       "    </tr>\n",
       "    <tr>\n",
       "      <th>Greece</th>\n",
       "      <td>8.2</td>\n",
       "      <td>7.067222e+11</td>\n",
       "    </tr>\n",
       "    <tr>\n",
       "      <th>Guernsey</th>\n",
       "      <td>2.4</td>\n",
       "      <td>NaN</td>\n",
       "    </tr>\n",
       "    <tr>\n",
       "      <th>Hong Kong</th>\n",
       "      <td>213.7</td>\n",
       "      <td>1.309031e+13</td>\n",
       "    </tr>\n",
       "    <tr>\n",
       "      <th>India</th>\n",
       "      <td>191.9</td>\n",
       "      <td>1.147170e+14</td>\n",
       "    </tr>\n",
       "    <tr>\n",
       "      <th>Indonesia</th>\n",
       "      <td>47.8</td>\n",
       "      <td>1.688223e+13</td>\n",
       "    </tr>\n",
       "    <tr>\n",
       "      <th>Ireland</th>\n",
       "      <td>25.5</td>\n",
       "      <td>1.254068e+12</td>\n",
       "    </tr>\n",
       "    <tr>\n",
       "      <th>Israel</th>\n",
       "      <td>51.8</td>\n",
       "      <td>5.502147e+12</td>\n",
       "    </tr>\n",
       "    <tr>\n",
       "      <th>Italy</th>\n",
       "      <td>158.1</td>\n",
       "      <td>7.494065e+13</td>\n",
       "    </tr>\n",
       "    <tr>\n",
       "      <th>Japan</th>\n",
       "      <td>101.0</td>\n",
       "      <td>1.242395e+14</td>\n",
       "    </tr>\n",
       "    <tr>\n",
       "      <th>Kazakhstan</th>\n",
       "      <td>9.2</td>\n",
       "      <td>1.089361e+12</td>\n",
       "    </tr>\n",
       "    <tr>\n",
       "      <th>Kuwait</th>\n",
       "      <td>6.5</td>\n",
       "      <td>8.180622e+11</td>\n",
       "    </tr>\n",
       "    <tr>\n",
       "      <th>...</th>\n",
       "      <td>...</td>\n",
       "      <td>...</td>\n",
       "    </tr>\n",
       "    <tr>\n",
       "      <th>New Zealand</th>\n",
       "      <td>9.8</td>\n",
       "      <td>3.999397e+11</td>\n",
       "    </tr>\n",
       "    <tr>\n",
       "      <th>Nigeria</th>\n",
       "      <td>33.3</td>\n",
       "      <td>2.274033e+12</td>\n",
       "    </tr>\n",
       "    <tr>\n",
       "      <th>Norway</th>\n",
       "      <td>21.8</td>\n",
       "      <td>4.498354e+12</td>\n",
       "    </tr>\n",
       "    <tr>\n",
       "      <th>Oman</th>\n",
       "      <td>2.3</td>\n",
       "      <td>1.635932e+11</td>\n",
       "    </tr>\n",
       "    <tr>\n",
       "      <th>Peru</th>\n",
       "      <td>11.9</td>\n",
       "      <td>1.620770e+12</td>\n",
       "    </tr>\n",
       "    <tr>\n",
       "      <th>Philippines</th>\n",
       "      <td>40.1</td>\n",
       "      <td>2.847771e+12</td>\n",
       "    </tr>\n",
       "    <tr>\n",
       "      <th>Poland</th>\n",
       "      <td>12.8</td>\n",
       "      <td>2.724833e+12</td>\n",
       "    </tr>\n",
       "    <tr>\n",
       "      <th>Portugal</th>\n",
       "      <td>10.6</td>\n",
       "      <td>6.903507e+11</td>\n",
       "    </tr>\n",
       "    <tr>\n",
       "      <th>Romania</th>\n",
       "      <td>1.2</td>\n",
       "      <td>1.990437e+11</td>\n",
       "    </tr>\n",
       "    <tr>\n",
       "      <th>Russia</th>\n",
       "      <td>422.5</td>\n",
       "      <td>2.065264e+14</td>\n",
       "    </tr>\n",
       "    <tr>\n",
       "      <th>Saudi Arabia</th>\n",
       "      <td>49.0</td>\n",
       "      <td>5.276822e+12</td>\n",
       "    </tr>\n",
       "    <tr>\n",
       "      <th>Singapore</th>\n",
       "      <td>45.1</td>\n",
       "      <td>4.925756e+12</td>\n",
       "    </tr>\n",
       "    <tr>\n",
       "      <th>South Africa</th>\n",
       "      <td>25.4</td>\n",
       "      <td>2.801126e+12</td>\n",
       "    </tr>\n",
       "    <tr>\n",
       "      <th>South Korea</th>\n",
       "      <td>60.7</td>\n",
       "      <td>3.808034e+13</td>\n",
       "    </tr>\n",
       "    <tr>\n",
       "      <th>Spain</th>\n",
       "      <td>122.6</td>\n",
       "      <td>3.591489e+13</td>\n",
       "    </tr>\n",
       "    <tr>\n",
       "      <th>St. Kitts and Nevis</th>\n",
       "      <td>1.2</td>\n",
       "      <td>8.522031e+08</td>\n",
       "    </tr>\n",
       "    <tr>\n",
       "      <th>Swaziland</th>\n",
       "      <td>3.7</td>\n",
       "      <td>4.412892e+09</td>\n",
       "    </tr>\n",
       "    <tr>\n",
       "      <th>Sweden</th>\n",
       "      <td>116.7</td>\n",
       "      <td>1.085072e+13</td>\n",
       "    </tr>\n",
       "    <tr>\n",
       "      <th>Switzerland</th>\n",
       "      <td>80.2</td>\n",
       "      <td>1.542282e+13</td>\n",
       "    </tr>\n",
       "    <tr>\n",
       "      <th>Taiwan</th>\n",
       "      <td>75.8</td>\n",
       "      <td>NaN</td>\n",
       "    </tr>\n",
       "    <tr>\n",
       "      <th>Tanzania</th>\n",
       "      <td>1.0</td>\n",
       "      <td>4.805668e+10</td>\n",
       "    </tr>\n",
       "    <tr>\n",
       "      <th>Thailand</th>\n",
       "      <td>36.8</td>\n",
       "      <td>4.453063e+12</td>\n",
       "    </tr>\n",
       "    <tr>\n",
       "      <th>Turkey</th>\n",
       "      <td>43.2</td>\n",
       "      <td>1.916230e+13</td>\n",
       "    </tr>\n",
       "    <tr>\n",
       "      <th>Uganda</th>\n",
       "      <td>1.1</td>\n",
       "      <td>2.699848e+10</td>\n",
       "    </tr>\n",
       "    <tr>\n",
       "      <th>Ukraine</th>\n",
       "      <td>26.6</td>\n",
       "      <td>1.186246e+12</td>\n",
       "    </tr>\n",
       "    <tr>\n",
       "      <th>United Arab Emirates</th>\n",
       "      <td>14.6</td>\n",
       "      <td>1.597805e+12</td>\n",
       "    </tr>\n",
       "    <tr>\n",
       "      <th>United Kingdom</th>\n",
       "      <td>152.0</td>\n",
       "      <td>1.404780e+14</td>\n",
       "    </tr>\n",
       "    <tr>\n",
       "      <th>United States</th>\n",
       "      <td>2322.4</td>\n",
       "      <td>8.692081e+15</td>\n",
       "    </tr>\n",
       "    <tr>\n",
       "      <th>Venezuela</th>\n",
       "      <td>9.0</td>\n",
       "      <td>NaN</td>\n",
       "    </tr>\n",
       "    <tr>\n",
       "      <th>Vietnam</th>\n",
       "      <td>1.6</td>\n",
       "      <td>1.862047e+11</td>\n",
       "    </tr>\n",
       "  </tbody>\n",
       "</table>\n",
       "<p>69 rows × 2 columns</p>\n",
       "</div>"
      ],
      "text/plain": [
       "                      networthusbillion          2014\n",
       "citizenship                                          \n",
       "Algeria                             3.2  2.135185e+11\n",
       "Angola                              3.7           NaN\n",
       "Argentina                          11.3  2.688300e+12\n",
       "Australia                          85.4  4.218559e+13\n",
       "Austria                            33.8  4.368875e+12\n",
       "Belgium                             8.0  1.594640e+12\n",
       "Brazil                            192.2  1.570813e+14\n",
       "Canada                            112.8  5.713237e+13\n",
       "Chile                              41.3  3.096738e+12\n",
       "China                             375.8  1.573934e+15\n",
       "Colombia                           30.6  1.510958e+12\n",
       "Cyprus                             19.7  9.290464e+10\n",
       "Czech Republic                     18.4  1.231618e+12\n",
       "Denmark                            26.9           NaN\n",
       "Egypt                              22.3  2.382709e+12\n",
       "Finland                             6.6  1.088866e+12\n",
       "France                            235.3  1.216553e+14\n",
       "Georgia                             5.2  1.652996e+10\n",
       "Germany                           401.4  3.288048e+14\n",
       "Greece                              8.2  7.067222e+11\n",
       "Guernsey                            2.4           NaN\n",
       "Hong Kong                         213.7  1.309031e+13\n",
       "India                             191.9  1.147170e+14\n",
       "Indonesia                          47.8  1.688223e+13\n",
       "Ireland                            25.5  1.254068e+12\n",
       "Israel                             51.8  5.502147e+12\n",
       "Italy                             158.1  7.494065e+13\n",
       "Japan                             101.0  1.242395e+14\n",
       "Kazakhstan                          9.2  1.089361e+12\n",
       "Kuwait                              6.5  8.180622e+11\n",
       "...                                 ...           ...\n",
       "New Zealand                         9.8  3.999397e+11\n",
       "Nigeria                            33.3  2.274033e+12\n",
       "Norway                             21.8  4.498354e+12\n",
       "Oman                                2.3  1.635932e+11\n",
       "Peru                               11.9  1.620770e+12\n",
       "Philippines                        40.1  2.847771e+12\n",
       "Poland                             12.8  2.724833e+12\n",
       "Portugal                           10.6  6.903507e+11\n",
       "Romania                             1.2  1.990437e+11\n",
       "Russia                            422.5  2.065264e+14\n",
       "Saudi Arabia                       49.0  5.276822e+12\n",
       "Singapore                          45.1  4.925756e+12\n",
       "South Africa                       25.4  2.801126e+12\n",
       "South Korea                        60.7  3.808034e+13\n",
       "Spain                             122.6  3.591489e+13\n",
       "St. Kitts and Nevis                 1.2  8.522031e+08\n",
       "Swaziland                           3.7  4.412892e+09\n",
       "Sweden                            116.7  1.085072e+13\n",
       "Switzerland                        80.2  1.542282e+13\n",
       "Taiwan                             75.8           NaN\n",
       "Tanzania                            1.0  4.805668e+10\n",
       "Thailand                           36.8  4.453063e+12\n",
       "Turkey                             43.2  1.916230e+13\n",
       "Uganda                              1.1  2.699848e+10\n",
       "Ukraine                            26.6  1.186246e+12\n",
       "United Arab Emirates               14.6  1.597805e+12\n",
       "United Kingdom                    152.0  1.404780e+14\n",
       "United States                    2322.4  8.692081e+15\n",
       "Venezuela                           9.0           NaN\n",
       "Vietnam                             1.6  1.862047e+11\n",
       "\n",
       "[69 rows x 2 columns]"
      ]
     },
     "execution_count": 52,
     "metadata": {},
     "output_type": "execute_result"
    }
   ],
   "source": [
    "gdp_df[['citizenship', 'networthusbillion', '2014']].groupby('citizenship').sum() #gives the sum for each country"
   ]
  },
  {
   "cell_type": "code",
   "execution_count": 53,
   "metadata": {
    "collapsed": false
   },
   "outputs": [],
   "source": [
    "bill_df = gdp_df[['citizenship', 'networthusbillion', '2014']].groupby('citizenship').sum().to_dict()"
   ]
  },
  {
   "cell_type": "code",
   "execution_count": 54,
   "metadata": {
    "collapsed": false
   },
   "outputs": [
    {
     "name": "stdout",
     "output_type": "stream",
     "text": [
      "Swaziland\n",
      "gdp in billions: 4.41289183003\n",
      "how many billions the billionaires there make: 3.7\n",
      "percent of gdp: 83.8452457598\n",
      "\n",
      "Switzerland\n",
      "gdp in billions: 15422.8169913\n",
      "how many billions the billionaires there make: 80.2\n",
      "percent of gdp: 0.520008763934\n",
      "\n",
      "Nepal\n",
      "gdp in billions: 19.7696421226\n",
      "how many billions the billionaires there make: 1.1\n",
      "percent of gdp: 5.56408655847\n",
      "\n",
      "Norway\n",
      "gdp in billions: 4498.35424491\n",
      "how many billions the billionaires there make: 21.8\n",
      "percent of gdp: 0.484621681911\n",
      "\n",
      "Portugal\n",
      "gdp in billions: 690.350737541\n",
      "how many billions the billionaires there make: 10.6\n",
      "percent of gdp: 1.53545139066\n",
      "\n",
      "Tanzania\n",
      "gdp in billions: 48.0566809822\n",
      "how many billions the billionaires there make: 1.0\n",
      "percent of gdp: 2.08087612287\n",
      "\n",
      "Japan\n",
      "gdp in billions: 124239.452586\n",
      "how many billions the billionaires there make: 101.0\n",
      "percent of gdp: 0.0812946273489\n",
      "\n",
      "United Kingdom\n",
      "gdp in billions: 140477.984328\n",
      "how many billions the billionaires there make: 152.0\n",
      "percent of gdp: 0.108202008114\n",
      "\n",
      "Nigeria\n",
      "gdp in billions: 2274.03304951\n",
      "how many billions the billionaires there make: 33.3\n",
      "percent of gdp: 1.46435866476\n",
      "\n",
      "China\n",
      "gdp in billions: 1573934.42286\n",
      "how many billions the billionaires there make: 375.8\n",
      "percent of gdp: 0.023876471252\n",
      "\n",
      "Vietnam\n",
      "gdp in billions: 186.204652922\n",
      "how many billions the billionaires there make: 1.6\n",
      "percent of gdp: 0.859269612703\n",
      "\n",
      "South Africa\n",
      "gdp in billions: 2801.12648003\n",
      "how many billions the billionaires there make: 25.4\n",
      "percent of gdp: 0.906778047372\n",
      "\n",
      "Finland\n",
      "gdp in billions: 1088.86630201\n",
      "how many billions the billionaires there make: 6.6\n",
      "percent of gdp: 0.60613502207\n",
      "\n",
      "Israel\n",
      "gdp in billions: 5502.14706951\n",
      "how many billions the billionaires there make: 51.8\n",
      "percent of gdp: 0.941450661816\n",
      "\n",
      "St. Kitts and Nevis\n",
      "gdp in billions: 0.852203083881\n",
      "how many billions the billionaires there make: 1.2\n",
      "percent of gdp: 140.8115064\n",
      "\n",
      "Ireland\n",
      "gdp in billions: 1254.06803843\n",
      "how many billions the billionaires there make: 25.5\n",
      "percent of gdp: 2.03338249748\n",
      "\n",
      "Denmark\n",
      "gdp in billions: nan\n",
      "how many billions the billionaires there make: 26.9\n",
      "percent of gdp: nan\n",
      "\n",
      "South Korea\n",
      "gdp in billions: 38080.3406926\n",
      "how many billions the billionaires there make: 60.7\n",
      "percent of gdp: 0.159399834392\n",
      "\n",
      "Turkey\n",
      "gdp in billions: 19162.3015929\n",
      "how many billions the billionaires there make: 43.2\n",
      "percent of gdp: 0.225442647328\n",
      "\n",
      "Monaco\n",
      "gdp in billions: nan\n",
      "how many billions the billionaires there make: 4.6\n",
      "percent of gdp: nan\n",
      "\n",
      "Lithuania\n",
      "gdp in billions: 48.3539371103\n",
      "how many billions the billionaires there make: 1.0\n",
      "percent of gdp: 2.068083924\n",
      "\n",
      "Canada\n",
      "gdp in billions: 57132.3727873\n",
      "how many billions the billionaires there make: 112.8\n",
      "percent of gdp: 0.197436224853\n",
      "\n",
      "Argentina\n",
      "gdp in billions: 2688.29986351\n",
      "how many billions the billionaires there make: 11.3\n",
      "percent of gdp: 0.420340013158\n",
      "\n",
      "Poland\n",
      "gdp in billions: 2724.83277857\n",
      "how many billions the billionaires there make: 12.8\n",
      "percent of gdp: 0.469753597383\n",
      "\n",
      "Algeria\n",
      "gdp in billions: 213.518488688\n",
      "how many billions the billionaires there make: 3.2\n",
      "percent of gdp: 1.49869925535\n",
      "\n",
      "Netherlands\n",
      "gdp in billions: 6155.23525046\n",
      "how many billions the billionaires there make: 24.2\n",
      "percent of gdp: 0.393161252418\n",
      "\n",
      "Egypt\n",
      "gdp in billions: 2382.70929586\n",
      "how many billions the billionaires there make: 22.3\n",
      "percent of gdp: 0.935909388473\n",
      "\n",
      "Sweden\n",
      "gdp in billions: 10850.7191232\n",
      "how many billions the billionaires there make: 116.7\n",
      "percent of gdp: 1.07550475387\n",
      "\n",
      "Greece\n",
      "gdp in billions: 706.722224995\n",
      "how many billions the billionaires there make: 8.2\n",
      "percent of gdp: 1.16028613647\n",
      "\n",
      "Austria\n",
      "gdp in billions: 4368.87543467\n",
      "how many billions the billionaires there make: 33.8\n",
      "percent of gdp: 0.773654467962\n",
      "\n",
      "Colombia\n",
      "gdp in billions: 1510.95849146\n",
      "how many billions the billionaires there make: 30.6\n",
      "percent of gdp: 2.02520454221\n",
      "\n",
      "Lebanon\n",
      "gdp in billions: 274.385671642\n",
      "how many billions the billionaires there make: 12.3\n",
      "percent of gdp: 4.48274136415\n",
      "\n",
      "Oman\n",
      "gdp in billions: 163.593237971\n",
      "how many billions the billionaires there make: 2.3\n",
      "percent of gdp: 1.40592608137\n",
      "\n",
      "France\n",
      "gdp in billions: 121655.257684\n",
      "how many billions the billionaires there make: 235.3\n",
      "percent of gdp: 0.193415397311\n",
      "\n",
      "Philippines\n",
      "gdp in billions: 2847.77093019\n",
      "how many billions the billionaires there make: 40.1\n",
      "percent of gdp: 1.40811887553\n",
      "\n",
      "Chile\n",
      "gdp in billions: 3096.73827464\n",
      "how many billions the billionaires there make: 41.3\n",
      "percent of gdp: 1.33366130222\n",
      "\n",
      "Russia\n",
      "gdp in billions: 206526.369427\n",
      "how many billions the billionaires there make: 422.5\n",
      "percent of gdp: 0.204574360733\n",
      "\n",
      "Venezuela\n",
      "gdp in billions: nan\n",
      "how many billions the billionaires there make: 9.0\n",
      "percent of gdp: nan\n",
      "\n",
      "United States\n",
      "gdp in billions: 8692081.0\n",
      "how many billions the billionaires there make: 2322.4\n",
      "percent of gdp: 0.0267185729171\n",
      "\n",
      "Angola\n",
      "gdp in billions: nan\n",
      "how many billions the billionaires there make: 3.7\n",
      "percent of gdp: nan\n",
      "\n",
      "Hong Kong\n",
      "gdp in billions: 13090.3102875\n",
      "how many billions the billionaires there make: 213.7\n",
      "percent of gdp: 1.6325052295\n",
      "\n",
      "Czech Republic\n",
      "gdp in billions: 1231.61825846\n",
      "how many billions the billionaires there make: 18.4\n",
      "percent of gdp: 1.49396940761\n",
      "\n",
      "Thailand\n",
      "gdp in billions: 4453.0634733\n",
      "how many billions the billionaires there make: 36.8\n",
      "percent of gdp: 0.82639738285\n",
      "\n",
      "Uganda\n",
      "gdp in billions: 26.9984772888\n",
      "how many billions the billionaires there make: 1.1\n",
      "percent of gdp: 4.0743038514\n",
      "\n",
      "United Arab Emirates\n",
      "gdp in billions: 1597.80530973\n",
      "how many billions the billionaires there make: 14.6\n",
      "percent of gdp: 0.913753378528\n",
      "\n",
      "India\n",
      "gdp in billions: 114716.976577\n",
      "how many billions the billionaires there make: 191.9\n",
      "percent of gdp: 0.167281256642\n",
      "\n",
      "Singapore\n",
      "gdp in billions: 4925.75613606\n",
      "how many billions the billionaires there make: 45.1\n",
      "percent of gdp: 0.915595469086\n",
      "\n",
      "Cyprus\n",
      "gdp in billions: 92.9046359447\n",
      "how many billions the billionaires there make: 19.7\n",
      "percent of gdp: 21.2045392565\n",
      "\n",
      "Saudi Arabia\n",
      "gdp in billions: 5276.82213333\n",
      "how many billions the billionaires there make: 49.0\n",
      "percent of gdp: 0.928589191788\n",
      "\n",
      "Spain\n",
      "gdp in billions: 35914.8946451\n",
      "how many billions the billionaires there make: 122.6\n",
      "percent of gdp: 0.34136254947\n",
      "\n",
      "Kazakhstan\n",
      "gdp in billions: 1089.36125111\n",
      "how many billions the billionaires there make: 9.2\n",
      "percent of gdp: 0.844531599655\n",
      "\n",
      "Australia\n",
      "gdp in billions: 42185.5889103\n",
      "how many billions the billionaires there make: 85.4\n",
      "percent of gdp: 0.202438800088\n",
      "\n",
      "Malaysia\n",
      "gdp in billions: 4395.34968988\n",
      "how many billions the billionaires there make: 53.1\n",
      "percent of gdp: 1.20809500373\n",
      "\n",
      "Brazil\n",
      "gdp in billions: 157081.307895\n",
      "how many billions the billionaires there make: 192.2\n",
      "percent of gdp: 0.122357015342\n",
      "\n",
      "Indonesia\n",
      "gdp in billions: 16882.2258195\n",
      "how many billions the billionaires there make: 47.8\n",
      "percent of gdp: 0.28313802049\n",
      "\n",
      "New Zealand\n",
      "gdp in billions: 399.939717807\n",
      "how many billions the billionaires there make: 9.8\n",
      "percent of gdp: 2.45036928408\n",
      "\n",
      "Mexico\n",
      "gdp in billions: 20715.0357317\n",
      "how many billions the billionaires there make: 142.9\n",
      "percent of gdp: 0.689837091524\n",
      "\n",
      "Guernsey\n",
      "gdp in billions: nan\n",
      "how many billions the billionaires there make: 2.4\n",
      "percent of gdp: nan\n",
      "\n",
      "Romania\n",
      "gdp in billions: 199.043652215\n",
      "how many billions the billionaires there make: 1.2\n",
      "percent of gdp: 0.602882828286\n",
      "\n",
      "Georgia\n",
      "gdp in billions: 16.5299631874\n",
      "how many billions the billionaires there make: 5.2\n",
      "percent of gdp: 31.4580252905\n",
      "\n",
      "Germany\n",
      "gdp in billions: 328804.754705\n",
      "how many billions the billionaires there make: 401.4\n",
      "percent of gdp: 0.12207852662\n",
      "\n",
      "Taiwan\n",
      "gdp in billions: nan\n",
      "how many billions the billionaires there make: 75.8\n",
      "percent of gdp: nan\n",
      "\n",
      "Ukraine\n",
      "gdp in billions: 1186.24614064\n",
      "how many billions the billionaires there make: 26.6\n",
      "percent of gdp: 2.24236767468\n",
      "\n",
      "Peru\n",
      "gdp in billions: 1620.77046175\n",
      "how many billions the billionaires there make: 11.9\n",
      "percent of gdp: 0.73421871146\n",
      "\n",
      "Belgium\n",
      "gdp in billions: 1594.63975854\n",
      "how many billions the billionaires there make: 8.0\n",
      "percent of gdp: 0.501680706077\n",
      "\n",
      "Macau\n",
      "gdp in billions: 111.003468092\n",
      "how many billions the billionaires there make: 2.8\n",
      "percent of gdp: 2.5224437111\n",
      "\n",
      "Morocco\n",
      "gdp in billions: 440.036163354\n",
      "how many billions the billionaires there make: 7.4\n",
      "percent of gdp: 1.68167996548\n",
      "\n",
      "Kuwait\n",
      "gdp in billions: 818.062192551\n",
      "how many billions the billionaires there make: 6.5\n",
      "percent of gdp: 0.794560616441\n",
      "\n",
      "Italy\n",
      "gdp in billions: 74940.6463879\n",
      "how many billions the billionaires there make: 158.1\n",
      "percent of gdp: 0.210966955345\n",
      "\n"
     ]
    }
   ],
   "source": [
    "for country in bill_df['2014']:\n",
    "    print(country)\n",
    "    gdp_bill = bill_df['2014'][country] / 1000000000\n",
    "    print('gdp in billions:', gdp_bill)\n",
    "    print('how many billions the billionaires there make:', bill_df['networthusbillion'][country])\n",
    "    print('percent of gdp:', bill_df['networthusbillion'][country] / gdp_bill * 100)\n",
    "    print('')"
   ]
  },
  {
   "cell_type": "code",
   "execution_count": 55,
   "metadata": {
    "collapsed": false
   },
   "outputs": [
    {
     "name": "stdout",
     "output_type": "stream",
     "text": [
      "United States\n",
      "gdp in billions: 8692081.0\n",
      "how many billions: 2322.4\n",
      "percent of gdp: 0.0267185729171\n",
      "\n",
      "India\n",
      "gdp in billions: 114716.976577\n",
      "how many billions: 191.9\n",
      "percent of gdp: 0.167281256642\n",
      "\n",
      "United States's GDP is 75.7697880415 times that of India\n",
      "United States billionaires make 12.1021365294 times the money those in India do\n",
      "United States billionaires share of their countrys's GDP is 0.159722454586 times that of those living in India\n"
     ]
    }
   ],
   "source": [
    "for country in bill_df['2014']:\n",
    "    if country == 'United States':\n",
    "        country1 = country\n",
    "        print(country)\n",
    "        gdp_bill1 = bill_df['2014'][country] / 1000000000\n",
    "        print('gdp in billions:', gdp_bill1)\n",
    "        billions1 = bill_df['networthusbillion'][country]\n",
    "        print('how many billions:', billions1)\n",
    "        percent1 = bill_df['networthusbillion'][country] / gdp_bill1 * 100\n",
    "        print('percent of gdp:', percent1)\n",
    "        print('')\n",
    "    elif country == 'India':\n",
    "        country2 = country\n",
    "        print(country)\n",
    "        gdp_bill2 = bill_df['2014'][country] / 1000000000\n",
    "        print('gdp in billions:', gdp_bill2)\n",
    "        billions2 = bill_df['networthusbillion'][country]\n",
    "        print('how many billions:', billions2)\n",
    "        percent2 = bill_df['networthusbillion'][country] / gdp_bill2 * 100\n",
    "        print('percent of gdp:', percent2)\n",
    "        print('')\n",
    "        \n",
    "print(country1 + \"'s GDP is\", gdp_bill1 / gdp_bill2, 'times that of', country2)\n",
    "print(country1, 'billionaires make', billions1 / billions2, 'times the money those in', country2, 'do')\n",
    "print(country1, 'billionaires share of their countrys\\'s GDP is', percent1 / percent2, 'times that of those living in', country2)"
   ]
  },
  {
   "cell_type": "markdown",
   "metadata": {},
   "source": [
    "## What are the most common industries for billionaires to come from? What's the total amount of billionaire money from each industry?"
   ]
  },
  {
   "cell_type": "code",
   "execution_count": 56,
   "metadata": {
    "collapsed": false
   },
   "outputs": [
    {
     "data": {
      "text/plain": [
       "Index(['year', 'name', 'rank', 'citizenship', 'countrycode',\n",
       "       'networthusbillion', 'selfmade', 'typeofwealth', 'gender', 'age',\n",
       "       'industry', 'IndustryAggregates', 'region', 'north',\n",
       "       'politicalconnection', 'founder', 'generationofinheritance', 'sector',\n",
       "       'company', 'companytype', 'relationshiptocompany', 'foundingdate',\n",
       "       'gdpcurrentus', 'sourceofwealth', 'notes', 'notes2', 'source',\n",
       "       'source_2', 'source_3', 'source_4'],\n",
       "      dtype='object')"
      ]
     },
     "execution_count": 56,
     "metadata": {},
     "output_type": "execute_result"
    }
   ],
   "source": [
    "# df.columns"
   ]
  },
  {
   "cell_type": "code",
   "execution_count": 57,
   "metadata": {
    "collapsed": false
   },
   "outputs": [
    {
     "data": {
      "text/html": [
       "<div>\n",
       "<table border=\"1\" class=\"dataframe\">\n",
       "  <thead>\n",
       "    <tr style=\"text-align: right;\">\n",
       "      <th></th>\n",
       "      <th>networthusbillion</th>\n",
       "      <th>industry</th>\n",
       "      <th>sector</th>\n",
       "    </tr>\n",
       "  </thead>\n",
       "  <tbody>\n",
       "    <tr>\n",
       "      <th>1</th>\n",
       "      <td>2.6</td>\n",
       "      <td>Media</td>\n",
       "      <td>media</td>\n",
       "    </tr>\n",
       "    <tr>\n",
       "      <th>5</th>\n",
       "      <td>2.5</td>\n",
       "      <td>Retail, Restaurant</td>\n",
       "      <td>trading</td>\n",
       "    </tr>\n",
       "    <tr>\n",
       "      <th>6</th>\n",
       "      <td>4.8</td>\n",
       "      <td>Diversified financial</td>\n",
       "      <td>industrial goods</td>\n",
       "    </tr>\n",
       "    <tr>\n",
       "      <th>8</th>\n",
       "      <td>2.4</td>\n",
       "      <td>Money Management</td>\n",
       "      <td>Banking</td>\n",
       "    </tr>\n",
       "    <tr>\n",
       "      <th>9</th>\n",
       "      <td>1.2</td>\n",
       "      <td>Consumer</td>\n",
       "      <td>sugar, flour, cement</td>\n",
       "    </tr>\n",
       "  </tbody>\n",
       "</table>\n",
       "</div>"
      ],
      "text/plain": [
       "   networthusbillion               industry                sector\n",
       "1                2.6                  Media                 media\n",
       "5                2.5     Retail, Restaurant               trading\n",
       "6                4.8  Diversified financial      industrial goods\n",
       "8                2.4       Money Management               Banking\n",
       "9                1.2               Consumer  sugar, flour, cement"
      ]
     },
     "execution_count": 57,
     "metadata": {},
     "output_type": "execute_result"
    }
   ],
   "source": [
    "# df[['networthusbillion', 'industry', 'sector']].head()"
   ]
  },
  {
   "cell_type": "code",
   "execution_count": 79,
   "metadata": {
    "collapsed": false
   },
   "outputs": [
    {
     "name": "stdout",
     "output_type": "stream",
     "text": [
      "The most common industries for billionaires to come from:\n"
     ]
    },
    {
     "data": {
      "text/plain": [
       "Consumer                 291\n",
       "Real Estate              190\n",
       "Retail, Restaurant       174\n",
       "Diversified financial    132\n",
       "Technology-Computer      131\n",
       "Name: industry, dtype: int64"
      ]
     },
     "execution_count": 79,
     "metadata": {},
     "output_type": "execute_result"
    }
   ],
   "source": [
    "print('The most common industries for billionaires to come from:')\n",
    "df['industry'].value_counts().head()"
   ]
  },
  {
   "cell_type": "code",
   "execution_count": 80,
   "metadata": {
    "collapsed": false
   },
   "outputs": [
    {
     "name": "stdout",
     "output_type": "stream",
     "text": [
      "The total amount of billionaire money in each industry:\n"
     ]
    },
    {
     "data": {
      "text/html": [
       "<div>\n",
       "<table border=\"1\" class=\"dataframe\">\n",
       "  <thead>\n",
       "    <tr style=\"text-align: right;\">\n",
       "      <th></th>\n",
       "      <th>networthusbillion</th>\n",
       "    </tr>\n",
       "    <tr>\n",
       "      <th>industry</th>\n",
       "      <th></th>\n",
       "    </tr>\n",
       "  </thead>\n",
       "  <tbody>\n",
       "    <tr>\n",
       "      <th>Consumer</th>\n",
       "      <td>1177.8</td>\n",
       "    </tr>\n",
       "    <tr>\n",
       "      <th>Retail, Restaurant</th>\n",
       "      <td>820.9</td>\n",
       "    </tr>\n",
       "    <tr>\n",
       "      <th>Technology-Computer</th>\n",
       "      <td>684.6</td>\n",
       "    </tr>\n",
       "    <tr>\n",
       "      <th>Diversified financial</th>\n",
       "      <td>614.4</td>\n",
       "    </tr>\n",
       "    <tr>\n",
       "      <th>Real Estate</th>\n",
       "      <td>573.8</td>\n",
       "    </tr>\n",
       "    <tr>\n",
       "      <th>Media</th>\n",
       "      <td>490.5</td>\n",
       "    </tr>\n",
       "    <tr>\n",
       "      <th>Money Management</th>\n",
       "      <td>381.3</td>\n",
       "    </tr>\n",
       "    <tr>\n",
       "      <th>Energy</th>\n",
       "      <td>340.5</td>\n",
       "    </tr>\n",
       "    <tr>\n",
       "      <th>Non-consumer industrial</th>\n",
       "      <td>298.4</td>\n",
       "    </tr>\n",
       "    <tr>\n",
       "      <th>Mining and metals</th>\n",
       "      <td>240.6</td>\n",
       "    </tr>\n",
       "    <tr>\n",
       "      <th>Technology-Medical</th>\n",
       "      <td>218.0</td>\n",
       "    </tr>\n",
       "    <tr>\n",
       "      <th>Other</th>\n",
       "      <td>179.3</td>\n",
       "    </tr>\n",
       "    <tr>\n",
       "      <th>Constrution</th>\n",
       "      <td>175.4</td>\n",
       "    </tr>\n",
       "    <tr>\n",
       "      <th>Hedge funds</th>\n",
       "      <td>167.2</td>\n",
       "    </tr>\n",
       "    <tr>\n",
       "      <th>Private equity/leveraged buyout</th>\n",
       "      <td>71.9</td>\n",
       "    </tr>\n",
       "    <tr>\n",
       "      <th>Venture Capital</th>\n",
       "      <td>11.1</td>\n",
       "    </tr>\n",
       "    <tr>\n",
       "      <th>0</th>\n",
       "      <td>7.6</td>\n",
       "    </tr>\n",
       "  </tbody>\n",
       "</table>\n",
       "</div>"
      ],
      "text/plain": [
       "                                 networthusbillion\n",
       "industry                                          \n",
       "Consumer                                    1177.8\n",
       "Retail, Restaurant                           820.9\n",
       "Technology-Computer                          684.6\n",
       "Diversified financial                        614.4\n",
       "Real Estate                                  573.8\n",
       "Media                                        490.5\n",
       "Money Management                             381.3\n",
       "Energy                                       340.5\n",
       "Non-consumer industrial                      298.4\n",
       "Mining and metals                            240.6\n",
       "Technology-Medical                           218.0\n",
       "Other                                        179.3\n",
       "Constrution                                  175.4\n",
       "Hedge funds                                  167.2\n",
       "Private equity/leveraged buyout               71.9\n",
       "Venture Capital                               11.1\n",
       "0                                              7.6"
      ]
     },
     "execution_count": 80,
     "metadata": {},
     "output_type": "execute_result"
    }
   ],
   "source": [
    "print('The total amount of billionaire money in each industry:')\n",
    "df[['industry', 'networthusbillion']].groupby('industry').sum().sort_values('networthusbillion', ascending = False)"
   ]
  },
  {
   "cell_type": "markdown",
   "metadata": {
    "collapsed": true
   },
   "source": [
    "## How many self made billionaires vs. others?"
   ]
  },
  {
   "cell_type": "code",
   "execution_count": 82,
   "metadata": {
    "collapsed": false
   },
   "outputs": [
    {
     "data": {
      "text/plain": [
       "self-made    1146\n",
       "inherited     505\n",
       "Name: selfmade, dtype: int64"
      ]
     },
     "execution_count": 82,
     "metadata": {},
     "output_type": "execute_result"
    }
   ],
   "source": [
    "df['selfmade'].value_counts()"
   ]
  },
  {
   "cell_type": "markdown",
   "metadata": {},
   "source": [
    "## How old are billionaires? How old are billionaires self made vs. non self made? or different industries?"
   ]
  },
  {
   "cell_type": "markdown",
   "metadata": {},
   "source": [
    "### Billionaire Ages"
   ]
  },
  {
   "cell_type": "code",
   "execution_count": 90,
   "metadata": {
    "collapsed": false
   },
   "outputs": [
    {
     "data": {
      "text/plain": [
       "<matplotlib.axes._subplots.AxesSubplot at 0x111ccb668>"
      ]
     },
     "execution_count": 90,
     "metadata": {},
     "output_type": "execute_result"
    },
    {
     "data": {
      "image/png": "[encoded data removed]",
      "text/plain": [
       "<matplotlib.figure.Figure at 0x111e30518>"
      ]
     },
     "metadata": {},
     "output_type": "display_data"
    }
   ],
   "source": [
    "df['age'].hist()"
   ]
  },
  {
   "cell_type": "code",
   "execution_count": 84,
   "metadata": {
    "collapsed": false
   },
   "outputs": [
    {
     "name": "stderr",
     "output_type": "stream",
     "text": [
      "/usr/local/lib/python3.5/site-packages/numpy/lib/function_base.py:3823: RuntimeWarning: Invalid value encountered in percentile\n",
      "  RuntimeWarning)\n"
     ]
    },
    {
     "data": {
      "text/plain": [
       "count    1590.000000\n",
       "mean       63.342138\n",
       "std        13.137743\n",
       "min        24.000000\n",
       "25%              NaN\n",
       "50%              NaN\n",
       "75%              NaN\n",
       "max        98.000000\n",
       "Name: age, dtype: float64"
      ]
     },
     "execution_count": 84,
     "metadata": {},
     "output_type": "execute_result"
    }
   ],
   "source": [
    "df['age'].describe()"
   ]
  },
  {
   "cell_type": "markdown",
   "metadata": {},
   "source": [
    "### Self-Made Billionaire Ages"
   ]
  },
  {
   "cell_type": "code",
   "execution_count": 87,
   "metadata": {
    "collapsed": false
   },
   "outputs": [
    {
     "data": {
      "text/plain": [
       "<matplotlib.axes._subplots.AxesSubplot at 0x111c07400>"
      ]
     },
     "execution_count": 87,
     "metadata": {},
     "output_type": "execute_result"
    },
    {
     "data": {
      "image/png": "[encoded data removed]",
      "text/plain": [
       "<matplotlib.figure.Figure at 0x111c47d30>"
      ]
     },
     "metadata": {},
     "output_type": "display_data"
    }
   ],
   "source": [
    "df[df['selfmade'] == 'self-made']['age'].hist()"
   ]
  },
  {
   "cell_type": "code",
   "execution_count": 91,
   "metadata": {
    "collapsed": false
   },
   "outputs": [
    {
     "name": "stderr",
     "output_type": "stream",
     "text": [
      "/usr/local/lib/python3.5/site-packages/numpy/lib/function_base.py:3823: RuntimeWarning: Invalid value encountered in percentile\n",
      "  RuntimeWarning)\n"
     ]
    },
    {
     "data": {
      "text/plain": [
       "count    1112.000000\n",
       "mean       62.625899\n",
       "std        13.054631\n",
       "min        29.000000\n",
       "25%              NaN\n",
       "50%              NaN\n",
       "75%              NaN\n",
       "max        96.000000\n",
       "Name: age, dtype: float64"
      ]
     },
     "execution_count": 91,
     "metadata": {},
     "output_type": "execute_result"
    }
   ],
   "source": [
    "df[df['selfmade'] == 'self-made']['age'].describe()"
   ]
  },
  {
   "cell_type": "markdown",
   "metadata": {},
   "source": [
    "### The Ages of People Who Have Inherited Billions"
   ]
  },
  {
   "cell_type": "code",
   "execution_count": 92,
   "metadata": {
    "collapsed": false
   },
   "outputs": [
    {
     "data": {
      "text/plain": [
       "<matplotlib.axes._subplots.AxesSubplot at 0x111e18780>"
      ]
     },
     "execution_count": 92,
     "metadata": {},
     "output_type": "execute_result"
    },
    {
     "data": {
      "image/png": "[encoded data removed]",
      "text/plain": [
       "<matplotlib.figure.Figure at 0x111f09550>"
      ]
     },
     "metadata": {},
     "output_type": "display_data"
    }
   ],
   "source": [
    "df[df['selfmade'] == 'inherited']['age'].hist()"
   ]
  },
  {
   "cell_type": "code",
   "execution_count": 93,
   "metadata": {
    "collapsed": false
   },
   "outputs": [
    {
     "name": "stderr",
     "output_type": "stream",
     "text": [
      "/usr/local/lib/python3.5/site-packages/numpy/lib/function_base.py:3823: RuntimeWarning: Invalid value encountered in percentile\n",
      "  RuntimeWarning)\n"
     ]
    },
    {
     "data": {
      "text/plain": [
       "count    476.000000\n",
       "mean      64.962185\n",
       "std       13.174403\n",
       "min       24.000000\n",
       "25%             NaN\n",
       "50%             NaN\n",
       "75%             NaN\n",
       "max       98.000000\n",
       "Name: age, dtype: float64"
      ]
     },
     "execution_count": 93,
     "metadata": {},
     "output_type": "execute_result"
    }
   ],
   "source": [
    "df[df['selfmade'] == 'inherited']['age'].describe()"
   ]
  },
  {
   "cell_type": "markdown",
   "metadata": {},
   "source": [
    "### The Ages of Billionaires in Different Industries"
   ]
  },
  {
   "cell_type": "code",
   "execution_count": 96,
   "metadata": {
    "collapsed": false
   },
   "outputs": [
    {
     "data": {
      "text/html": [
       "<div>\n",
       "<table border=\"1\" class=\"dataframe\">\n",
       "  <thead>\n",
       "    <tr style=\"text-align: right;\">\n",
       "      <th></th>\n",
       "      <th>age</th>\n",
       "    </tr>\n",
       "    <tr>\n",
       "      <th>industry</th>\n",
       "      <th></th>\n",
       "    </tr>\n",
       "  </thead>\n",
       "  <tbody>\n",
       "    <tr>\n",
       "      <th>Technology-Computer</th>\n",
       "      <td>54.496183</td>\n",
       "    </tr>\n",
       "    <tr>\n",
       "      <th>Hedge funds</th>\n",
       "      <td>55.325581</td>\n",
       "    </tr>\n",
       "    <tr>\n",
       "      <th>Venture Capital</th>\n",
       "      <td>58.200000</td>\n",
       "    </tr>\n",
       "    <tr>\n",
       "      <th>Non-consumer industrial</th>\n",
       "      <td>59.898734</td>\n",
       "    </tr>\n",
       "    <tr>\n",
       "      <th>Mining and metals</th>\n",
       "      <td>60.161765</td>\n",
       "    </tr>\n",
       "    <tr>\n",
       "      <th>Energy</th>\n",
       "      <td>61.651163</td>\n",
       "    </tr>\n",
       "    <tr>\n",
       "      <th>Private equity/leveraged buyout</th>\n",
       "      <td>62.277778</td>\n",
       "    </tr>\n",
       "    <tr>\n",
       "      <th>0</th>\n",
       "      <td>63.600000</td>\n",
       "    </tr>\n",
       "    <tr>\n",
       "      <th>Technology-Medical</th>\n",
       "      <td>63.870130</td>\n",
       "    </tr>\n",
       "    <tr>\n",
       "      <th>Real Estate</th>\n",
       "      <td>64.118919</td>\n",
       "    </tr>\n",
       "    <tr>\n",
       "      <th>Media</th>\n",
       "      <td>64.346535</td>\n",
       "    </tr>\n",
       "    <tr>\n",
       "      <th>Consumer</th>\n",
       "      <td>64.735507</td>\n",
       "    </tr>\n",
       "    <tr>\n",
       "      <th>Constrution</th>\n",
       "      <td>64.965517</td>\n",
       "    </tr>\n",
       "    <tr>\n",
       "      <th>Money Management</th>\n",
       "      <td>66.016949</td>\n",
       "    </tr>\n",
       "    <tr>\n",
       "      <th>Diversified financial</th>\n",
       "      <td>66.344000</td>\n",
       "    </tr>\n",
       "    <tr>\n",
       "      <th>Other</th>\n",
       "      <td>66.666667</td>\n",
       "    </tr>\n",
       "    <tr>\n",
       "      <th>Retail, Restaurant</th>\n",
       "      <td>66.734177</td>\n",
       "    </tr>\n",
       "  </tbody>\n",
       "</table>\n",
       "</div>"
      ],
      "text/plain": [
       "                                       age\n",
       "industry                                  \n",
       "Technology-Computer              54.496183\n",
       "Hedge funds                      55.325581\n",
       "Venture Capital                  58.200000\n",
       "Non-consumer industrial          59.898734\n",
       "Mining and metals                60.161765\n",
       "Energy                           61.651163\n",
       "Private equity/leveraged buyout  62.277778\n",
       "0                                63.600000\n",
       "Technology-Medical               63.870130\n",
       "Real Estate                      64.118919\n",
       "Media                            64.346535\n",
       "Consumer                         64.735507\n",
       "Constrution                      64.965517\n",
       "Money Management                 66.016949\n",
       "Diversified financial            66.344000\n",
       "Other                            66.666667\n",
       "Retail, Restaurant               66.734177"
      ]
     },
     "execution_count": 96,
     "metadata": {},
     "output_type": "execute_result"
    }
   ],
   "source": [
    "df[['age', 'industry']].groupby('industry').mean().sort_values('age')"
   ]
  },
  {
   "cell_type": "markdown",
   "metadata": {},
   "source": [
    "## Who are the youngest billionaires? The oldest? Age distribution - maybe make a graph about it?"
   ]
  },
  {
   "cell_type": "markdown",
   "metadata": {},
   "source": [
    "### The Youngest Billionaires"
   ]
  },
  {
   "cell_type": "code",
   "execution_count": 97,
   "metadata": {
    "collapsed": false
   },
   "outputs": [
    {
     "data": {
      "text/html": [
       "<div>\n",
       "<table border=\"1\" class=\"dataframe\">\n",
       "  <thead>\n",
       "    <tr style=\"text-align: right;\">\n",
       "      <th></th>\n",
       "      <th>name</th>\n",
       "      <th>age</th>\n",
       "    </tr>\n",
       "  </thead>\n",
       "  <tbody>\n",
       "    <tr>\n",
       "      <th>1838</th>\n",
       "      <td>Perenna Kei</td>\n",
       "      <td>24.0</td>\n",
       "    </tr>\n",
       "    <tr>\n",
       "      <th>605</th>\n",
       "      <td>Dustin Moskovitz</td>\n",
       "      <td>29.0</td>\n",
       "    </tr>\n",
       "    <tr>\n",
       "      <th>1586</th>\n",
       "      <td>Mark Zuckerberg</td>\n",
       "      <td>29.0</td>\n",
       "    </tr>\n",
       "    <tr>\n",
       "      <th>189</th>\n",
       "      <td>Anton Kathrein, Jr.</td>\n",
       "      <td>29.0</td>\n",
       "    </tr>\n",
       "    <tr>\n",
       "      <th>602</th>\n",
       "      <td>Drew Houston</td>\n",
       "      <td>30.0</td>\n",
       "    </tr>\n",
       "  </tbody>\n",
       "</table>\n",
       "</div>"
      ],
      "text/plain": [
       "                     name   age\n",
       "1838          Perenna Kei  24.0\n",
       "605      Dustin Moskovitz  29.0\n",
       "1586      Mark Zuckerberg  29.0\n",
       "189   Anton Kathrein, Jr.  29.0\n",
       "602          Drew Houston  30.0"
      ]
     },
     "execution_count": 97,
     "metadata": {},
     "output_type": "execute_result"
    }
   ],
   "source": [
    "df[['name', 'age']].sort_values('age').head()"
   ]
  },
  {
   "cell_type": "markdown",
   "metadata": {},
   "source": [
    "### The Oldest Billionaires"
   ]
  },
  {
   "cell_type": "code",
   "execution_count": 98,
   "metadata": {
    "collapsed": false
   },
   "outputs": [
    {
     "data": {
      "text/html": [
       "<div>\n",
       "<table border=\"1\" class=\"dataframe\">\n",
       "  <thead>\n",
       "    <tr style=\"text-align: right;\">\n",
       "      <th></th>\n",
       "      <th>name</th>\n",
       "      <th>age</th>\n",
       "    </tr>\n",
       "  </thead>\n",
       "  <tbody>\n",
       "    <tr>\n",
       "      <th>516</th>\n",
       "      <td>David Rockefeller, Sr.</td>\n",
       "      <td>98.0</td>\n",
       "    </tr>\n",
       "    <tr>\n",
       "      <th>1277</th>\n",
       "      <td>Karl Wlaschek</td>\n",
       "      <td>96.0</td>\n",
       "    </tr>\n",
       "    <tr>\n",
       "      <th>1328</th>\n",
       "      <td>Kirk Kerkorian</td>\n",
       "      <td>96.0</td>\n",
       "    </tr>\n",
       "    <tr>\n",
       "      <th>921</th>\n",
       "      <td>Henry Hillman</td>\n",
       "      <td>95.0</td>\n",
       "    </tr>\n",
       "    <tr>\n",
       "      <th>666</th>\n",
       "      <td>Erika Pohl-Stroher</td>\n",
       "      <td>95.0</td>\n",
       "    </tr>\n",
       "  </tbody>\n",
       "</table>\n",
       "</div>"
      ],
      "text/plain": [
       "                        name   age\n",
       "516   David Rockefeller, Sr.  98.0\n",
       "1277           Karl Wlaschek  96.0\n",
       "1328          Kirk Kerkorian  96.0\n",
       "921            Henry Hillman  95.0\n",
       "666       Erika Pohl-Stroher  95.0"
      ]
     },
     "execution_count": 98,
     "metadata": {},
     "output_type": "execute_result"
    }
   ],
   "source": [
    "df[['name', 'age']].sort_values('age', ascending=False).head()"
   ]
  },
  {
   "cell_type": "markdown",
   "metadata": {},
   "source": [
    "### The Age Distribution of Billionaires"
   ]
  },
  {
   "cell_type": "code",
   "execution_count": 99,
   "metadata": {
    "collapsed": false
   },
   "outputs": [
    {
     "data": {
      "text/plain": [
       "<matplotlib.axes._subplots.AxesSubplot at 0x111e1b048>"
      ]
     },
     "execution_count": 99,
     "metadata": {},
     "output_type": "execute_result"
    },
    {
     "data": {
      "image/png": "[encoded data removed]",
      "text/plain": [
       "<matplotlib.figure.Figure at 0x1116e1860>"
      ]
     },
     "metadata": {},
     "output_type": "display_data"
    }
   ],
   "source": [
    "df['age'].hist()"
   ]
  },
  {
   "cell_type": "markdown",
   "metadata": {},
   "source": [
    "## Maybe just made a graph about how wealthy they are in general?"
   ]
  },
  {
   "cell_type": "code",
   "execution_count": 100,
   "metadata": {
    "collapsed": false
   },
   "outputs": [
    {
     "data": {
      "text/plain": [
       "<matplotlib.axes._subplots.AxesSubplot at 0x11209a860>"
      ]
     },
     "execution_count": 100,
     "metadata": {},
     "output_type": "execute_result"
    },
    {
     "data": {
      "image/png": "[encoded data removed]",
      "text/plain": [
       "<matplotlib.figure.Figure at 0x1120c1e80>"
      ]
     },
     "metadata": {},
     "output_type": "display_data"
    }
   ],
   "source": [
    "df['networthusbillion'].hist()"
   ]
  },
  {
   "cell_type": "code",
   "execution_count": 107,
   "metadata": {
    "collapsed": false
   },
   "outputs": [
    {
     "data": {
      "text/plain": [
       "284     76.0\n",
       "348     72.0\n",
       "124     64.0\n",
       "2491    58.2\n",
       "1377    48.0\n",
       "381     40.0\n",
       "509     40.0\n",
       "2185    38.0\n",
       "429     36.7\n",
       "1128    34.7\n",
       "Name: networthusbillion, dtype: float64"
      ]
     },
     "execution_count": 107,
     "metadata": {},
     "output_type": "execute_result"
    }
   ],
   "source": [
    "# df['networthusbillion'].sort_values(ascending = False).head(10)"
   ]
  },
  {
   "cell_type": "markdown",
   "metadata": {},
   "source": [
    "## Maybe plot their net worth vs age (scatterplot)"
   ]
  },
  {
   "cell_type": "code",
   "execution_count": 111,
   "metadata": {
    "collapsed": false
   },
   "outputs": [
    {
     "data": {
      "text/plain": [
       "<matplotlib.axes._subplots.AxesSubplot at 0x111801a20>"
      ]
     },
     "execution_count": 111,
     "metadata": {},
     "output_type": "execute_result"
    },
    {
     "data": {
      "image/png": "[encoded data removed]",
      "text/plain": [
       "<matplotlib.figure.Figure at 0x1121f8ba8>"
      ]
     },
     "metadata": {},
     "output_type": "display_data"
    }
   ],
   "source": [
    "df[['networthusbillion', 'age']].plot(kind = 'scatter', x = 'networthusbillion', y = 'age')"
   ]
  },
  {
   "cell_type": "markdown",
   "metadata": {},
   "source": [
    "## Make a bar graph of the top 10 or 20 richest"
   ]
  },
  {
   "cell_type": "code",
   "execution_count": 119,
   "metadata": {
    "collapsed": false
   },
   "outputs": [
    {
     "data": {
      "text/plain": [
       "<matplotlib.axes._subplots.AxesSubplot at 0x112816eb8>"
      ]
     },
     "execution_count": 119,
     "metadata": {},
     "output_type": "execute_result"
    },
    {
     "data": {
      "image/png": "[encoded data removed]",
      "text/plain": [
       "<matplotlib.figure.Figure at 0x11277f630>"
      ]
     },
     "metadata": {},
     "output_type": "display_data"
    }
   ],
   "source": [
    "df[['name', 'networthusbillion']].sort_values('networthusbillion', ascending = False).head(10).plot(kind = 'bar', x = 'name', y = 'networthusbillion')"
   ]
  },
  {
   "cell_type": "markdown",
   "metadata": {},
   "source": [
    "# 03: Finding your own dataset"
   ]
  },
  {
   "cell_type": "markdown",
   "metadata": {},
   "source": [
    "## On Thursday, bring a dataset with you that's a csv/tsv/whatever. Try to open it in pandas, and do df.head() to make sure it displays OK."
   ]
  },
  {
   "cell_type": "code",
   "execution_count": null,
   "metadata": {
    "collapsed": false
   },
   "outputs": [],
   "source": [
    "df = pd.read_json('https://data.sfgov.org/api/views/gxxq-x39z/rows.json')\n",
    "# Can't get this to work! And I can't save the source code for some reason."
   ]
  },
  {
   "cell_type": "code",
   "execution_count": null,
   "metadata": {
    "collapsed": true
   },
   "outputs": [],
   "source": [
    "df.head()"
   ]
  }
 ],
 "metadata": {
  "kernelspec": {
   "display_name": "Python 3",
   "language": "python",
   "name": "python3"
  },
  "language_info": {
   "codemirror_mode": {
    "name": "ipython",
    "version": 3
   },
   "file_extension": ".py",
   "mimetype": "text/x-python",
   "name": "python",
   "nbconvert_exporter": "python",
   "pygments_lexer": "ipython3",
   "version": "3.5.1"
  }
 },
 "nbformat": 4,
 "nbformat_minor": 0
}
