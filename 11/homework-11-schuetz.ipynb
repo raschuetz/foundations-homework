{
 "cells": [
  {
   "cell_type": "markdown",
   "metadata": {},
   "source": [
    "# Homework 11: PARKING TICKETS\n",
    "\n",
    "Data is here: https://www.dropbox.com/s/4cbpwdcd802av1z/11-homework-data.zip?dl=0 [ www.dropbox.com/s/4cbpwdcd802av1z/11-homework-data.zip?dl=0 ]\n",
    "\n",
    "<p>Read this: http://iquantny.tumblr.com/post/144197004989/the-nypd-was-systematically-ticketing-legally\n",
    "\n",
    "<p>And the then we can take a peek at some data on parking. After you've cleaned up the data as instructed below, feel free to browse in other directions than the ones I say. When fixing up the data, you'll probably making a lot of use of date parsing and .apply."
   ]
  },
  {
   "cell_type": "code",
   "execution_count": 1,
   "metadata": {
    "collapsed": false
   },
   "outputs": [],
   "source": [
    "import pandas as pd\n",
    "\n",
    "df = pd.read_csv('violations.csv', dtype = 'str', parse_dates = True)"
   ]
  },
  {
   "cell_type": "markdown",
   "metadata": {},
   "source": [
    "## 1. I want to make sure my Plate ID is a string. Can't lose the leading zeroes!"
   ]
  },
  {
   "cell_type": "code",
   "execution_count": 2,
   "metadata": {
    "collapsed": false
   },
   "outputs": [],
   "source": [
    "# test to make sure we haven't lost leading zeroes\n",
    "# type(df['Plate ID'][0])"
   ]
  },
  {
   "cell_type": "code",
   "execution_count": 3,
   "metadata": {
    "collapsed": false
   },
   "outputs": [],
   "source": [
    "# test to make sure we haven't lost leading zeroes\n",
    "# df['Plate ID'][0][0]"
   ]
  },
  {
   "cell_type": "code",
   "execution_count": 4,
   "metadata": {
    "collapsed": false
   },
   "outputs": [],
   "source": [
    "# test to make sure we haven't lost leading zeroes\n",
    "# number_of_plates = range(len(df['Plate ID']))\n",
    "# for number in number_of_plates:\n",
    "#     if str(df['Plate ID'][number])[0] == '0': #used str as a workaround for the nan value at 2743\n",
    "#         print(df['Plate ID'][number])"
   ]
  },
  {
   "cell_type": "code",
   "execution_count": 5,
   "metadata": {
    "collapsed": false
   },
   "outputs": [],
   "source": [
    "# # troubleshooting bc 2743 is na\n",
    "# type(df['Plate ID'][2743])\n",
    "# # if df['Plate ID'][2743]:\n",
    "# #     print(df['Plate ID'][2743])"
   ]
  },
  {
   "cell_type": "markdown",
   "metadata": {},
   "source": [
    "## 2. I don't think anyone's car was built in 0AD. Discard the '0's as NaN."
   ]
  },
  {
   "cell_type": "code",
   "execution_count": 6,
   "metadata": {
    "collapsed": false
   },
   "outputs": [],
   "source": [
    "# df['Vehicle Year'].head(10)"
   ]
  },
  {
   "cell_type": "code",
   "execution_count": 7,
   "metadata": {
    "collapsed": true
   },
   "outputs": [],
   "source": [
    "# Turns \"0\"s into the string \"NaN\"\n",
    "# df['Vehicle Year'] = ['NaN' if item == '0' else item for item in df['Vehicle Year']]"
   ]
  },
  {
   "cell_type": "code",
   "execution_count": 8,
   "metadata": {
    "collapsed": false
   },
   "outputs": [],
   "source": [
    "# Turns \"0\"s into NoneType\n",
    "df['Vehicle Year'] = df['Vehicle Year'].where(df['Vehicle Year'] != '0', None)"
   ]
  },
  {
   "cell_type": "markdown",
   "metadata": {
    "collapsed": true
   },
   "source": [
    "## 3. I want the dates to be dates! Read the read_csv documentation to find out how to make pandas automatically parse dates."
   ]
  },
  {
   "cell_type": "code",
   "execution_count": 9,
   "metadata": {
    "collapsed": false
   },
   "outputs": [],
   "source": [
    "# seeing if parse_dates = True worked:\n",
    "# df['Issue Date'].head()"
   ]
  },
  {
   "cell_type": "markdown",
   "metadata": {},
   "source": [
    "## 4. \"Date first observed\" is a pretty weird column, but it seems like it has a date hiding inside. Using a function with .apply, transform the string (e.g. \"20140324\") into a Python date. Make the 0's show up as NaN."
   ]
  },
  {
   "cell_type": "code",
   "execution_count": 10,
   "metadata": {
    "collapsed": false
   },
   "outputs": [
    {
     "data": {
      "text/plain": [
       "30           0\n",
       "31           0\n",
       "32           0\n",
       "33    20130719\n",
       "34    20130719\n",
       "Name: Date First Observed, dtype: object"
      ]
     },
     "execution_count": 10,
     "metadata": {},
     "output_type": "execute_result"
    }
   ],
   "source": [
    "df['Date First Observed'][30: 35]"
   ]
  },
  {
   "cell_type": "code",
   "execution_count": 11,
   "metadata": {
    "collapsed": false
   },
   "outputs": [],
   "source": [
    "# 33 is a date\n",
    "# Did it for the whole dataframe instead of for each row\n",
    "# def year(row):\n",
    "#     return df['Date First Observed'][row][:4]\n",
    "# def month(row):\n",
    "#     return df['Date First Observed'][row][4:6]\n",
    "# def day(row):\n",
    "#     return df['Date First Observed'][row][-2:]\n",
    "# def date(row):\n",
    "#     return {\n",
    "#         'year': year(row),\n",
    "#         'month': month(row),\n",
    "#         'day': day(row)\n",
    "#         }\n",
    "\n",
    "def year(row):\n",
    "    return row[:4]\n",
    "def month(row):\n",
    "    return row[4:6]\n",
    "def day(row):\n",
    "    return row[-2:]\n",
    "def date(row):\n",
    "    if len(row) == 8:\n",
    "        dictionary = {\n",
    "            'year': year(row),\n",
    "            'month': month(row),\n",
    "            'day': day(row)\n",
    "            }\n",
    "        return '{year}-{month}-{day}'.format(**dictionary)\n",
    "    else:\n",
    "        return None\n",
    "\n",
    "df['Date First Observed Formatted'] = df['Date First Observed'].apply(date)"
   ]
  },
  {
   "cell_type": "code",
   "execution_count": 12,
   "metadata": {
    "collapsed": false
   },
   "outputs": [
    {
     "data": {
      "text/plain": [
       "30          None\n",
       "31          None\n",
       "32          None\n",
       "33    2013-07-19\n",
       "34    2013-07-19\n",
       "Name: Date First Observed Formatted, dtype: object"
      ]
     },
     "execution_count": 12,
     "metadata": {},
     "output_type": "execute_result"
    }
   ],
   "source": [
    "df['Date First Observed Formatted'][30: 35]"
   ]
  },
  {
   "cell_type": "markdown",
   "metadata": {},
   "source": [
    "## 5. \"Violation time\" is... not a time. Make it a time."
   ]
  },
  {
   "cell_type": "code",
   "execution_count": 13,
   "metadata": {
    "collapsed": false
   },
   "outputs": [
    {
     "data": {
      "text/plain": [
       "0    0752A\n",
       "1    1240P\n",
       "2    1243P\n",
       "3    0232P\n",
       "4    1239P\n",
       "Name: Violation Time, dtype: object"
      ]
     },
     "execution_count": 13,
     "metadata": {},
     "output_type": "execute_result"
    }
   ],
   "source": [
    "df['Violation Time'].head()"
   ]
  },
  {
   "cell_type": "code",
   "execution_count": 18,
   "metadata": {
    "collapsed": false
   },
   "outputs": [],
   "source": [
    "def hour(row):\n",
    "    if row[0] == '.':\n",
    "        return 'ERROR'\n",
    "    elif row[-1] == 'P' and row[:2] != '12':\n",
    "        try:\n",
    "            return str(int(row[:2]) + 12)\n",
    "        except:\n",
    "            return 'ERROR'\n",
    "    else:\n",
    "        return row[:2]\n",
    "    \n",
    "def minute(row):\n",
    "    return row[2:4]\n",
    "\n",
    "def time(row):\n",
    "    if pd.isnull(row):\n",
    "        return None\n",
    "    elif len(row) == 5:\n",
    "        dictionary = {\n",
    "            'hour': hour(row),\n",
    "            'minute': minute(row)\n",
    "            }\n",
    "        return '{hour}:{minute}'.format(**dictionary)"
   ]
  },
  {
   "cell_type": "code",
   "execution_count": 15,
   "metadata": {
    "collapsed": false
   },
   "outputs": [
    {
     "name": "stdout",
     "output_type": "stream",
     "text": [
      ".633P\n",
      "424306\n"
     ]
    }
   ],
   "source": [
    "number = -1\n",
    "for item in df['Violation Time']:\n",
    "    number += 1\n",
    "    if isinstance(item, float):\n",
    "        pass\n",
    "    elif item.startswith('.6'):\n",
    "        print(item)\n",
    "        print(number)"
   ]
  },
  {
   "cell_type": "code",
   "execution_count": 19,
   "metadata": {
    "collapsed": false,
    "scrolled": false
   },
   "outputs": [],
   "source": [
    "df['Violation Time Formatted'] = df['Violation Time'].apply(time)"
   ]
  },
  {
   "cell_type": "code",
   "execution_count": 20,
   "metadata": {
    "collapsed": false
   },
   "outputs": [
    {
     "data": {
      "text/plain": [
       "'ERROR:33'"
      ]
     },
     "execution_count": 20,
     "metadata": {},
     "output_type": "execute_result"
    }
   ],
   "source": [
    "df['Violation Time Formatted'][424306]"
   ]
  },
  {
   "cell_type": "markdown",
   "metadata": {},
   "source": [
    "## 6.  There sure are a lot of colors of cars, too bad so many of them are the same. Make \"BLK\" and \"BLACK\", \"WT\" and \"WHITE\", and any other combinations that you notice."
   ]
  },
  {
   "cell_type": "code",
   "execution_count": 21,
   "metadata": {
    "collapsed": false
   },
   "outputs": [
    {
     "data": {
      "text/plain": [
       "WHITE    728250\n",
       "GY       661576\n",
       "WH       640616\n",
       "BK       511959\n",
       "BLACK    370401\n",
       "BL       242381\n",
       "GREY     234869\n",
       "SILVE    177730\n",
       "BLUE     167820\n",
       "RED      150914\n",
       "RD       150134\n",
       "BROWN    141007\n",
       "GR       110889\n",
       "GREEN     83711\n",
       "TN        73952\n",
       "OTHER     49844\n",
       "BLK       41123\n",
       "TAN       40580\n",
       "BR        40150\n",
       "YW        38974\n",
       "GRAY      36264\n",
       "GL        29839\n",
       "GOLD      29379\n",
       "YELLO     23987\n",
       "WHT       23672\n",
       "MR        17112\n",
       "GRY       16625\n",
       "WT         8664\n",
       "ORANG      7546\n",
       "BRN        7534\n",
       "          ...  \n",
       "GR SL         1\n",
       "GEAY          1\n",
       "ORTN          1\n",
       "NAY           1\n",
       "CNI           1\n",
       "LWH           1\n",
       "RD/ W         1\n",
       "PUE           1\n",
       "BVLAC         1\n",
       "BRAW          1\n",
       "HIK           1\n",
       "DKWH          1\n",
       "WU.CK         1\n",
       "BRURG         1\n",
       "BLU W         1\n",
       "BUGY          1\n",
       "GRAYH         1\n",
       "GR WH         1\n",
       "DREY          1\n",
       "BEIGO         1\n",
       "DA RE         1\n",
       "ORSNG         1\n",
       "JV            1\n",
       "I             1\n",
       "I.Y.A         1\n",
       "IVORY         1\n",
       "TN-WH         1\n",
       "BKC           1\n",
       "BUK           1\n",
       "IVY/I         1\n",
       "Name: Vehicle Color, dtype: int64"
      ]
     },
     "execution_count": 21,
     "metadata": {},
     "output_type": "execute_result"
    }
   ],
   "source": [
    "df['Vehicle Color'].value_counts()"
   ]
  },
  {
   "cell_type": "code",
   "execution_count": 22,
   "metadata": {
    "collapsed": false
   },
   "outputs": [],
   "source": [
    "def color(row):\n",
    "    # white\n",
    "    if row == 'WH' or row == 'WHT' or row == 'WT' or row == 'WHI' or row == 'W':\n",
    "        return 'WHITE'     \n",
    "    # gray\n",
    "    elif row == 'GY' or row == 'GREY' or row == 'GRY' or row == 'GREW':\n",
    "        return 'GRAY'\n",
    "    # black\n",
    "    elif row == 'BK' or row == 'BLK' or row == 'BCK':\n",
    "        return 'BLACK'\n",
    "    # blue. I'm guessing BL is BLUE since there are two-letter codes and BK is BLACK\n",
    "    elif row == 'NAVYB' or row == 'BL' or row == 'B LU' or row == 'BLU':\n",
    "        return 'BLUE'\n",
    "     # silver\n",
    "    elif row == 'SILVE' or row == 'SLVIR' or row == 'SL' or row == 'SIL' or row == 'SILVR' or row == 'SILV' or row == 'SILIV':\n",
    "        return 'SILVER'\n",
    "    # red\n",
    "    elif row == 'RD' or row == 'REDD':\n",
    "        return 'RED'\n",
    "    # green\n",
    "    elif row == 'GR' or row == 'GRN' or row == 'GN':\n",
    "        return 'GREEN'\n",
    "    # tan\n",
    "    elif row == 'TN' or row == 'BEIGE':\n",
    "        return 'TAN'\n",
    "    # brown\n",
    "    elif row == 'BR' or row == 'BRN' or row == 'BN' or row == 'BRWN' or row == 'BRW' or row == 'BRO':\n",
    "        return 'BROWN'\n",
    "    # yellow\n",
    "    elif row =='YW' or row == 'YELLO' or row == 'YE' or row == 'YELL' or row == 'YEL':\n",
    "        return 'YELLOW'\n",
    "    # gold\n",
    "    elif row == 'GL' or row == 'GD' or row == 'GLD':\n",
    "        return 'GOLD'\n",
    "    # orange\n",
    "    elif row == 'ORANG' or row == 'ORNAG' or row == 'OR':\n",
    "        return 'ORANGE'\n",
    "    # purple\n",
    "    elif row == 'PURPL' or row == 'LAVEN':\n",
    "        return 'PURPLE'\n",
    "    # turquoise\n",
    "    elif row == 'TQ' or row == 'TURQ':\n",
    "        return 'TURQUOISE'\n",
    "    # maroon\n",
    "    elif row == 'MAROO' or row == 'BRGND' or row == 'BURG':\n",
    "        return 'MAROON'\n",
    "    else:\n",
    "        return row"
   ]
  },
  {
   "cell_type": "code",
   "execution_count": 23,
   "metadata": {
    "collapsed": false
   },
   "outputs": [
    {
     "data": {
      "text/plain": [
       "WHITE     1404696\n",
       "GRAY       949337\n",
       "BLACK      923492\n",
       "BLUE       414139\n",
       "RED        301050\n",
       "GREEN      201566\n",
       "BROWN      193329\n",
       "SILVER     190321\n",
       "TAN        115556\n",
       "YELLOW      64222\n",
       "GOLD        60272\n",
       "OTHER       49844\n",
       "MR          17112\n",
       "ORANGE      13282\n",
       "LTG          7234\n",
       "PURPLE       5414\n",
       "LT/          3767\n",
       "DKG          3355\n",
       "DK/          3328\n",
       "PR           2619\n",
       "DKB          1847\n",
       "MAROON       1631\n",
       "LTGY         1103\n",
       "BLG           969\n",
       "LTB           832\n",
       "DKR           771\n",
       "RD/           735\n",
       "NOC           700\n",
       "GY/           692\n",
       "WH/           480\n",
       "           ...   \n",
       "ORTN            1\n",
       "NAY             1\n",
       "CNI             1\n",
       "LWH             1\n",
       "RUTT            1\n",
       "GN GR           1\n",
       "GRBBN           1\n",
       "BRRG            1\n",
       "WU.CK           1\n",
       "RD/ W           1\n",
       "BRURG           1\n",
       "BLU W           1\n",
       "BUGY            1\n",
       "GRAYH           1\n",
       "GR WH           1\n",
       "DREY            1\n",
       "BEIGO           1\n",
       "DA RE           1\n",
       "ORSNG           1\n",
       "JV              1\n",
       "I               1\n",
       "I.Y.A           1\n",
       "IVORY           1\n",
       "TN-WH           1\n",
       "BKC             1\n",
       "BUK             1\n",
       "BRAW            1\n",
       "BVLAC           1\n",
       "PUE             1\n",
       "IVY/I           1\n",
       "Name: Vehicle Color Formatted, dtype: int64"
      ]
     },
     "execution_count": 23,
     "metadata": {},
     "output_type": "execute_result"
    }
   ],
   "source": [
    "df['Vehicle Color Formatted'] = df['Vehicle Color'].apply(color)\n",
    "df['Vehicle Color Formatted'].value_counts()"
   ]
  },
  {
   "cell_type": "markdown",
   "metadata": {},
   "source": [
    "## 7. Join the data with the Parking Violations Code dataset from the NYC Open Data site."
   ]
  },
  {
   "cell_type": "code",
   "execution_count": 24,
   "metadata": {
    "collapsed": false
   },
   "outputs": [],
   "source": [
    "df_codes = pd.read_csv('Uniform_Violation_Codes.csv', dtype = str)"
   ]
  },
  {
   "cell_type": "code",
   "execution_count": 25,
   "metadata": {
    "collapsed": false
   },
   "outputs": [],
   "source": [
    "df_merged = df.merge(df_codes, how = 'left', left_on = 'Violation Code', right_on = 'CODE')"
   ]
  },
  {
   "cell_type": "markdown",
   "metadata": {},
   "source": [
    "## 8. How much money did NYC make off of parking violations?"
   ]
  },
  {
   "cell_type": "markdown",
   "metadata": {},
   "source": [
    "### Aside: Let's Fix the Counties and Integers\n",
    "'Violation County' included 'RICH', 'BRONX', and 'KINGS':"
   ]
  },
  {
   "cell_type": "code",
   "execution_count": 26,
   "metadata": {
    "collapsed": true
   },
   "outputs": [],
   "source": [
    "def fix_counties(county_name):\n",
    "    if county_name == 'RICH':\n",
    "        return 'R'\n",
    "    elif county_name == 'BRONX':\n",
    "        return 'BX'\n",
    "    elif county_name == 'KINGS':\n",
    "        return 'K'\n",
    "    else:\n",
    "        return county_name"
   ]
  },
  {
   "cell_type": "code",
   "execution_count": 27,
   "metadata": {
    "collapsed": false
   },
   "outputs": [],
   "source": [
    "df_merged['Violation County'] = df_merged['Violation County'].apply(fix_counties)"
   ]
  },
  {
   "cell_type": "markdown",
   "metadata": {},
   "source": [
    "'All Other Areas' and 'Manhattan 96th st and below' were not integers:"
   ]
  },
  {
   "cell_type": "code",
   "execution_count": 28,
   "metadata": {
    "collapsed": false,
    "scrolled": false
   },
   "outputs": [],
   "source": [
    "def int_dollar(str_dollar):\n",
    "    try:\n",
    "        if pd.isnull(str_dollar):\n",
    "            return None\n",
    "        else:\n",
    "            return int(str_dollar)\n",
    "    except:\n",
    "        return None"
   ]
  },
  {
   "cell_type": "code",
   "execution_count": 29,
   "metadata": {
    "collapsed": false
   },
   "outputs": [],
   "source": [
    "df_merged['All Other Areas Int'] = df_merged['All Other Areas'].apply(int_dollar)\n",
    "df_merged['Manhattan\\xa096th st and below Int'] = df_merged['Manhattan\\xa096th st and below'].apply(int_dollar)"
   ]
  },
  {
   "cell_type": "code",
   "execution_count": 30,
   "metadata": {
    "collapsed": false
   },
   "outputs": [
    {
     "data": {
      "text/plain": [
       "Index(['Summons Number', 'Plate ID', 'Registration State', 'Plate Type',\n",
       "       'Issue Date', 'Violation Code', 'Vehicle Body Type', 'Vehicle Make',\n",
       "       'Issuing Agency', 'Street Code1', 'Street Code2', 'Street Code3',\n",
       "       'Vehicle Expiration Date', 'Violation Location', 'Violation Precinct',\n",
       "       'Issuer Precinct', 'Issuer Code', 'Issuer Command', 'Issuer Squad',\n",
       "       'Violation Time', 'Time First Observed', 'Violation County',\n",
       "       'Violation In Front Of Or Opposite', 'House Number', 'Street Name',\n",
       "       'Intersecting Street', 'Date First Observed', 'Law Section',\n",
       "       'Sub Division', 'Violation Legal Code', 'Days Parking In Effect    ',\n",
       "       'From Hours In Effect', 'To Hours In Effect', 'Vehicle Color',\n",
       "       'Unregistered Vehicle?', 'Vehicle Year', 'Meter Number',\n",
       "       'Feet From Curb', 'Violation Post Code', 'Violation Description',\n",
       "       'No Standing or Stopping Violation', 'Hydrant Violation',\n",
       "       'Double Parking Violation', 'Date First Observed Formatted',\n",
       "       'Violation Time Formatted', 'Vehicle Color Formatted', 'CODE',\n",
       "       'DEFINITION', 'Manhattan 96th st and below', 'All Other Areas',\n",
       "       'All Other Areas Int', 'Manhattan 96th st and below Int'],\n",
       "      dtype='object')"
      ]
     },
     "execution_count": 30,
     "metadata": {},
     "output_type": "execute_result"
    }
   ],
   "source": [
    "df_merged.columns"
   ]
  },
  {
   "cell_type": "markdown",
   "metadata": {},
   "source": [
    "### Okay, Back to the Question\n",
    "But since there's a different fee for violations in Manhattan below 96th St, first we need to know:\n",
    "### Is It Below 96th St?"
   ]
  },
  {
   "cell_type": "code",
   "execution_count": 31,
   "metadata": {
    "collapsed": false
   },
   "outputs": [],
   "source": [
    "precincts = df_merged['Violation Precinct'].unique()"
   ]
  },
  {
   "cell_type": "markdown",
   "metadata": {},
   "source": [
    "One precinct straddles 96th St, but for simplicity, I'm only going to county precincts entirely below 96th."
   ]
  },
  {
   "cell_type": "code",
   "execution_count": 32,
   "metadata": {
    "collapsed": false
   },
   "outputs": [],
   "source": [
    "precincts_below_96 = [\"22\", \"20\", \"19\", \"18\", \"17\", \"13\", \"10\", \"9\", \"7\", \"6\", \"5\", \"1\"]\n",
    "# row_numbers = range(len(df_merged['Violation Precinct']))\n",
    "\n",
    "# Make below_96_list = [\n",
    "#       {'Violation Precinct': '22', 'Below 96th St?': True},\n",
    "#       {'Violation Precinct': '20', 'Below 96th St?': True},\n",
    "#       ...\n",
    "#      ]\n",
    "\n",
    "below_96_list = []\n",
    "below_96_dict = {}\n",
    "\n",
    "for precinct in precincts:\n",
    "    below_96_dict['Violation Precinct'] = precinct\n",
    "    if precinct in precincts_below_96:\n",
    "        below_96_dict['Below 96th St?'] = True\n",
    "    else:\n",
    "        below_96_dict['Below 96th St?'] = False\n",
    "    below_96_list.append(below_96_dict)\n",
    "    below_96_dict = {}"
   ]
  },
  {
   "cell_type": "code",
   "execution_count": 33,
   "metadata": {
    "collapsed": true
   },
   "outputs": [],
   "source": [
    "# Make below_96_list a DataFrame and then merge it with df_merged"
   ]
  },
  {
   "cell_type": "code",
   "execution_count": 34,
   "metadata": {
    "collapsed": false
   },
   "outputs": [],
   "source": [
    "df_below_96 = pd.DataFrame(below_96_list)"
   ]
  },
  {
   "cell_type": "code",
   "execution_count": 35,
   "metadata": {
    "collapsed": false
   },
   "outputs": [],
   "source": [
    "df_merged = df_below_96.merge(df_merged, how = 'left', on = 'Violation Precinct')"
   ]
  },
  {
   "cell_type": "markdown",
   "metadata": {},
   "source": [
    "### So How Much Is Each Violation Fee?"
   ]
  },
  {
   "cell_type": "code",
   "execution_count": 36,
   "metadata": {
    "collapsed": false
   },
   "outputs": [],
   "source": [
    "# make it so\n",
    "# if Below 96th St? == True, Fee for This Precinct = Manhattan 96th st and below Int\n",
    "# else, Fee for This Precinct = 'All Other Areas Int'"
   ]
  },
  {
   "cell_type": "code",
   "execution_count": 37,
   "metadata": {
    "collapsed": false
   },
   "outputs": [],
   "source": [
    "row_numbers = range(len(df_merged['Below 96th St?']))\n",
    "fees_list = []\n",
    "fees_dict = {}\n",
    "\n",
    "for row in row_numbers:\n",
    "    fees_dict['Summons Number'] = df_merged['Summons Number'][row]\n",
    "    if df_merged['Below 96th St?'][row] == True:\n",
    "        fees_dict['Fee for This Precinct'] = df_merged['Manhattan\\xa096th st and below Int'][row]\n",
    "    else:\n",
    "        fees_dict['Fee for This Precinct'] = df_merged['All Other Areas Int'][row]\n",
    "    fees_list.append(fees_dict)\n",
    "    fees_dict = {}\n",
    "\n",
    "df_fees = pd.DataFrame(fees_list)"
   ]
  },
  {
   "cell_type": "markdown",
   "metadata": {},
   "source": [
    "### Aside: There's a Problem With Not Every Fee Having a Value\n",
    "Some 'Fee For This Precinct' values are nan."
   ]
  },
  {
   "cell_type": "code",
   "execution_count": 38,
   "metadata": {
    "collapsed": false
   },
   "outputs": [
    {
     "data": {
      "text/plain": [
       "array([ 115.,   nan,   45.,   60.,   65.,   35.,  165.,   95.,  180.,\n",
       "        200.,  265.,   50.,  100.])"
      ]
     },
     "execution_count": 38,
     "metadata": {},
     "output_type": "execute_result"
    }
   ],
   "source": [
    "df_fees['Fee for This Precinct'].unique()"
   ]
  },
  {
   "cell_type": "markdown",
   "metadata": {},
   "source": [
    "That's because some fees in the columns 'Manhattan 96th st and below' and 'All Other Areas' are nan"
   ]
  },
  {
   "cell_type": "code",
   "execution_count": 39,
   "metadata": {
    "collapsed": false
   },
   "outputs": [
    {
     "data": {
      "text/plain": [
       "array(['115 ', nan, '65 ', '165 ', 'vary', '95 ', '115\\xa0', '180 ', '60 ',\n",
       "       '100', '265', '50\\xa0\\xa0', '50'], dtype=object)"
      ]
     },
     "execution_count": 39,
     "metadata": {},
     "output_type": "execute_result"
    }
   ],
   "source": [
    "df_merged['Manhattan\\xa096th st and below'].unique()"
   ]
  },
  {
   "cell_type": "markdown",
   "metadata": {},
   "source": [
    "That's because there are violation codes that I now see were not in the DOF_Parking_Violation_Codes.csv we got:\n",
    "    ['41', '9', '8', '6', '95', '15', '88', '54', '76', '4', '30', '1',\n",
    "           '87', '5', '7', '90', '3', '36', '0', '2', '29']"
   ]
  },
  {
   "cell_type": "markdown",
   "metadata": {},
   "source": [
    "The problems with:\n",
    "* '41' was not in the document\n",
    "* '9' was '09' in the document\n",
    "* '8' was '08' \n",
    "* '6' was '06'\n",
    "* '95' was not in the document \n",
    "* '15' was not in the document\n",
    "* '88' was not in the document\n",
    "* '54' was not in the document\n",
    "* '76' was not in the document\n",
    "* '4' was '04'\n",
    "* '30' was not in the document, but was online: https://www1.nyc.gov/site/finance/vehicles/services-violation-codes.page . It was probably left out bc it's dealing with intercity buses.\n",
    "* '1' was not in the document, but was online: https://www1.nyc.gov/site/finance/vehicles/services-violation-codes.page . It was probably left out bc it's dealing with intercity buses.\n",
    "* '87' was not in the document\n",
    "* '5' was '05'\n",
    "* '7' was '07\n",
    "* '90' was not in the document \n",
    "* '3' was not in the document, but was online: https://www1.nyc.gov/site/finance/vehicles/services-violation-codes.page . It was probably left out bc it's dealing with intercity buses.\n",
    "* '36' was not in the document, but was online: https://www1.nyc.gov/site/finance/vehicles/services-violation-codes.page . I'm going to add it because it deals with driving in school zones.\n",
    "* '0' was not in the document and only happened twice. Maybe an accident? \n",
    "* '2' was not in the document, but was online: https://www1.nyc.gov/site/finance/vehicles/services-violation-codes.page . It was probably left out bc it's dealing with intercity buses.\n",
    "* '29' was not in the document, but was online: https://www1.nyc.gov/site/finance/vehicles/services-violation-codes.page . It was probably left out bc it's dealing with intercity buses.\n",
    "\n",
    "<p>The ones dealing with intercity buses, I'm not going to add, since this is more about individuals.\n",
    "<p>The other ones in the document, I can't find online.\n",
    "<p>I can fix the ones that started with '0' and code 36."
   ]
  },
  {
   "cell_type": "code",
   "execution_count": 40,
   "metadata": {
    "collapsed": false
   },
   "outputs": [
    {
     "data": {
      "text/plain": [
       "array(['41', '90', '95', '54', '29', '15', '3', '88', '76', '87', '30',\n",
       "       '1', '0', '2'], dtype=object)"
      ]
     },
     "execution_count": 40,
     "metadata": {},
     "output_type": "execute_result"
    }
   ],
   "source": [
    "df_merged[df_merged['Manhattan\\xa096th st and below'].isnull()]['Violation Code'].unique()"
   ]
  },
  {
   "cell_type": "markdown",
   "metadata": {},
   "source": [
    "### End Aside. The Fees Are Fixed, So We Can Add Them to Our df_merged"
   ]
  },
  {
   "cell_type": "code",
   "execution_count": 41,
   "metadata": {
    "collapsed": false
   },
   "outputs": [],
   "source": [
    "df_merged = df_fees.merge(df_merged)"
   ]
  },
  {
   "cell_type": "code",
   "execution_count": 42,
   "metadata": {
    "collapsed": false
   },
   "outputs": [
    {
     "data": {
      "text/html": [
       "<div>\n",
       "<table border=\"1\" class=\"dataframe\">\n",
       "  <thead>\n",
       "    <tr style=\"text-align: right;\">\n",
       "      <th></th>\n",
       "      <th>Fee for This Precinct</th>\n",
       "      <th>Summons Number</th>\n",
       "      <th>Below 96th St?</th>\n",
       "      <th>Violation Precinct</th>\n",
       "      <th>Plate ID</th>\n",
       "      <th>Registration State</th>\n",
       "      <th>Plate Type</th>\n",
       "      <th>Issue Date</th>\n",
       "      <th>Violation Code</th>\n",
       "      <th>Vehicle Body Type</th>\n",
       "      <th>...</th>\n",
       "      <th>Double Parking Violation</th>\n",
       "      <th>Date First Observed Formatted</th>\n",
       "      <th>Violation Time Formatted</th>\n",
       "      <th>Vehicle Color Formatted</th>\n",
       "      <th>CODE</th>\n",
       "      <th>DEFINITION</th>\n",
       "      <th>Manhattan 96th st and below</th>\n",
       "      <th>All Other Areas</th>\n",
       "      <th>All Other Areas Int</th>\n",
       "      <th>Manhattan 96th st and below Int</th>\n",
       "    </tr>\n",
       "  </thead>\n",
       "  <tbody>\n",
       "    <tr>\n",
       "      <th>0</th>\n",
       "      <td>115.0</td>\n",
       "      <td>1283294138</td>\n",
       "      <td>False</td>\n",
       "      <td>33</td>\n",
       "      <td>GBB9093</td>\n",
       "      <td>NY</td>\n",
       "      <td>PAS</td>\n",
       "      <td>08/04/2013</td>\n",
       "      <td>46</td>\n",
       "      <td>SUBN</td>\n",
       "      <td>...</td>\n",
       "      <td>NaN</td>\n",
       "      <td>None</td>\n",
       "      <td>07:52</td>\n",
       "      <td>GRAY</td>\n",
       "      <td>46</td>\n",
       "      <td>Standing or parking on the roadway side of a v...</td>\n",
       "      <td>115</td>\n",
       "      <td>115</td>\n",
       "      <td>115.0</td>\n",
       "      <td>115.0</td>\n",
       "    </tr>\n",
       "    <tr>\n",
       "      <th>1</th>\n",
       "      <td>115.0</td>\n",
       "      <td>1283294151</td>\n",
       "      <td>False</td>\n",
       "      <td>33</td>\n",
       "      <td>62416MB</td>\n",
       "      <td>NY</td>\n",
       "      <td>COM</td>\n",
       "      <td>08/04/2013</td>\n",
       "      <td>46</td>\n",
       "      <td>VAN</td>\n",
       "      <td>...</td>\n",
       "      <td>NaN</td>\n",
       "      <td>None</td>\n",
       "      <td>12:40</td>\n",
       "      <td>WHITE</td>\n",
       "      <td>46</td>\n",
       "      <td>Standing or parking on the roadway side of a v...</td>\n",
       "      <td>115</td>\n",
       "      <td>115</td>\n",
       "      <td>115.0</td>\n",
       "      <td>115.0</td>\n",
       "    </tr>\n",
       "    <tr>\n",
       "      <th>2</th>\n",
       "      <td>115.0</td>\n",
       "      <td>1283294163</td>\n",
       "      <td>False</td>\n",
       "      <td>33</td>\n",
       "      <td>78755JZ</td>\n",
       "      <td>NY</td>\n",
       "      <td>COM</td>\n",
       "      <td>08/05/2013</td>\n",
       "      <td>46</td>\n",
       "      <td>P-U</td>\n",
       "      <td>...</td>\n",
       "      <td>NaN</td>\n",
       "      <td>None</td>\n",
       "      <td>12:43</td>\n",
       "      <td>NaN</td>\n",
       "      <td>46</td>\n",
       "      <td>Standing or parking on the roadway side of a v...</td>\n",
       "      <td>115</td>\n",
       "      <td>115</td>\n",
       "      <td>115.0</td>\n",
       "      <td>115.0</td>\n",
       "    </tr>\n",
       "    <tr>\n",
       "      <th>3</th>\n",
       "      <td>115.0</td>\n",
       "      <td>1283294175</td>\n",
       "      <td>False</td>\n",
       "      <td>33</td>\n",
       "      <td>63009MA</td>\n",
       "      <td>NY</td>\n",
       "      <td>COM</td>\n",
       "      <td>08/05/2013</td>\n",
       "      <td>46</td>\n",
       "      <td>VAN</td>\n",
       "      <td>...</td>\n",
       "      <td>NaN</td>\n",
       "      <td>None</td>\n",
       "      <td>14:32</td>\n",
       "      <td>WHITE</td>\n",
       "      <td>46</td>\n",
       "      <td>Standing or parking on the roadway side of a v...</td>\n",
       "      <td>115</td>\n",
       "      <td>115</td>\n",
       "      <td>115.0</td>\n",
       "      <td>115.0</td>\n",
       "    </tr>\n",
       "    <tr>\n",
       "      <th>4</th>\n",
       "      <td>NaN</td>\n",
       "      <td>1283294187</td>\n",
       "      <td>False</td>\n",
       "      <td>33</td>\n",
       "      <td>91648MC</td>\n",
       "      <td>NY</td>\n",
       "      <td>COM</td>\n",
       "      <td>08/08/2013</td>\n",
       "      <td>41</td>\n",
       "      <td>TRLR</td>\n",
       "      <td>...</td>\n",
       "      <td>NaN</td>\n",
       "      <td>None</td>\n",
       "      <td>12:39</td>\n",
       "      <td>BROWN</td>\n",
       "      <td>NaN</td>\n",
       "      <td>NaN</td>\n",
       "      <td>NaN</td>\n",
       "      <td>NaN</td>\n",
       "      <td>NaN</td>\n",
       "      <td>NaN</td>\n",
       "    </tr>\n",
       "  </tbody>\n",
       "</table>\n",
       "<p>5 rows × 54 columns</p>\n",
       "</div>"
      ],
      "text/plain": [
       "   Fee for This Precinct Summons Number Below 96th St? Violation Precinct  \\\n",
       "0                  115.0     1283294138          False                 33   \n",
       "1                  115.0     1283294151          False                 33   \n",
       "2                  115.0     1283294163          False                 33   \n",
       "3                  115.0     1283294175          False                 33   \n",
       "4                    NaN     1283294187          False                 33   \n",
       "\n",
       "  Plate ID Registration State Plate Type  Issue Date Violation Code  \\\n",
       "0  GBB9093                 NY        PAS  08/04/2013             46   \n",
       "1  62416MB                 NY        COM  08/04/2013             46   \n",
       "2  78755JZ                 NY        COM  08/05/2013             46   \n",
       "3  63009MA                 NY        COM  08/05/2013             46   \n",
       "4  91648MC                 NY        COM  08/08/2013             41   \n",
       "\n",
       "  Vehicle Body Type               ...               Double Parking Violation  \\\n",
       "0              SUBN               ...                                    NaN   \n",
       "1               VAN               ...                                    NaN   \n",
       "2               P-U               ...                                    NaN   \n",
       "3               VAN               ...                                    NaN   \n",
       "4              TRLR               ...                                    NaN   \n",
       "\n",
       "  Date First Observed Formatted Violation Time Formatted  \\\n",
       "0                          None                    07:52   \n",
       "1                          None                    12:40   \n",
       "2                          None                    12:43   \n",
       "3                          None                    14:32   \n",
       "4                          None                    12:39   \n",
       "\n",
       "  Vehicle Color Formatted CODE  \\\n",
       "0                    GRAY   46   \n",
       "1                   WHITE   46   \n",
       "2                     NaN   46   \n",
       "3                   WHITE   46   \n",
       "4                   BROWN  NaN   \n",
       "\n",
       "                                          DEFINITION  \\\n",
       "0  Standing or parking on the roadway side of a v...   \n",
       "1  Standing or parking on the roadway side of a v...   \n",
       "2  Standing or parking on the roadway side of a v...   \n",
       "3  Standing or parking on the roadway side of a v...   \n",
       "4                                                NaN   \n",
       "\n",
       "  Manhattan 96th st and below All Other Areas All Other Areas Int  \\\n",
       "0                        115              115               115.0   \n",
       "1                        115              115               115.0   \n",
       "2                        115              115               115.0   \n",
       "3                        115              115               115.0   \n",
       "4                         NaN             NaN                 NaN   \n",
       "\n",
       "  Manhattan 96th st and below Int  \n",
       "0                           115.0  \n",
       "1                           115.0  \n",
       "2                           115.0  \n",
       "3                           115.0  \n",
       "4                             NaN  \n",
       "\n",
       "[5 rows x 54 columns]"
      ]
     },
     "execution_count": 42,
     "metadata": {},
     "output_type": "execute_result"
    }
   ],
   "source": [
    "df_merged.head()"
   ]
  },
  {
   "cell_type": "markdown",
   "metadata": {},
   "source": [
    "### Total Money Made"
   ]
  },
  {
   "cell_type": "code",
   "execution_count": 43,
   "metadata": {
    "collapsed": false
   },
   "outputs": [
    {
     "data": {
      "text/plain": [
       "369962385"
      ]
     },
     "execution_count": 43,
     "metadata": {},
     "output_type": "execute_result"
    }
   ],
   "source": [
    "total_fees = 0\n",
    "for fee in df_merged['Fee for This Precinct']:\n",
    "    try:\n",
    "        total_fees += int(fee)\n",
    "    except:\n",
    "        pass\n",
    "total_fees"
   ]
  },
  {
   "cell_type": "markdown",
   "metadata": {},
   "source": [
    "### How I Tried to Do It Before I Made 'Fee for This Precinct'"
   ]
  },
  {
   "cell_type": "markdown",
   "metadata": {},
   "source": [
    "### _Non-Manhattan Money_"
   ]
  },
  {
   "cell_type": "code",
   "execution_count": 44,
   "metadata": {
    "collapsed": false
   },
   "outputs": [],
   "source": [
    "# total_fees = 0\n",
    "# for fee in df_merged[df_merged['Below 96th St?'] == False]['Fee for This Precinct']:\n",
    "#     try:\n",
    "#         total_fees += int(fee)\n",
    "#     except:\n",
    "#         pass\n",
    "# total_fees"
   ]
  },
  {
   "cell_type": "code",
   "execution_count": 45,
   "metadata": {
    "collapsed": false
   },
   "outputs": [],
   "source": [
    "# df_non_Manhattan = df_merged[df_merged['Violation County'] != 'NY']\n",
    "# non_manhattan_sum = df_non_Manhattan['All Other Areas Int'].sum()"
   ]
  },
  {
   "cell_type": "markdown",
   "metadata": {},
   "source": [
    "### _Manhattan in Precincts Entirely Below 96th St Money_"
   ]
  },
  {
   "cell_type": "code",
   "execution_count": 46,
   "metadata": {
    "collapsed": false
   },
   "outputs": [],
   "source": [
    "# total_fees = 0\n",
    "# for fee in df_merged[df_merged['Below 96th St?'] == True]['Fee for This Precinct']:\n",
    "#     try:\n",
    "#         total_fees += int(fee)\n",
    "#     except:\n",
    "#         pass\n",
    "# total_fees"
   ]
  },
  {
   "cell_type": "code",
   "execution_count": 47,
   "metadata": {
    "collapsed": true
   },
   "outputs": [],
   "source": [
    "# Midtown North is 18\n",
    "# Midtwon South is 22\n",
    "# part of 24 is also below 96, but I'm not counting it\n",
    "# precincts_below_96 = [\"22\", \"20\", \"19\", \"18\", \"17\", \"13\", \"10\", \"9\", \"7\", \"6\", \"5\", \"1\"]"
   ]
  },
  {
   "cell_type": "code",
   "execution_count": 48,
   "metadata": {
    "collapsed": false
   },
   "outputs": [],
   "source": [
    "# # go through rows in precincts. If row is in precinct list, save row because we want to get the sum of what was charged for those rows.\n",
    "# row_numbers = range(len(df_merged['Violation Precinct']))\n",
    "# row_numbers_for_violations_occuring_below_96 = []\n",
    "\n",
    "# for row_number in row_numbers:\n",
    "#     precinct = df_merged['Violation Precinct'][row_number]\n",
    "#     if precinct in precincts_below_96:\n",
    "#         row_numbers_for_violations_occuring_below_96.append(row_number)"
   ]
  },
  {
   "cell_type": "code",
   "execution_count": 49,
   "metadata": {
    "collapsed": false
   },
   "outputs": [],
   "source": [
    "# # fines_occuring_below_96 = [df_merged['Manhattan\\xa096th st and below Int'][row_number] for row_number in row_numbers_for_rows_occuring_below_96]\n",
    "\n",
    "# def fines_occuring_below_96(row_number):\n",
    "#     try:\n",
    "#         return int(df_merged['Manhattan\\xa096th st and below Int'][row_number])\n",
    "#     except:\n",
    "#         return None\n",
    "\n",
    "# below_96_fee_sum = 0\n",
    "# for row_number in row_numbers_for_violations_occuring_below_96:\n",
    "#     fine = fines_occuring_below_96(row_number)\n",
    "#     if pd.isnull(fine):\n",
    "#         pass\n",
    "#     else:\n",
    "#         below_96_fee_sum += fine\n",
    "# below_96_fee_sum"
   ]
  },
  {
   "cell_type": "markdown",
   "metadata": {
    "collapsed": false
   },
   "source": [
    "### _The Rest of Manhattan Money_"
   ]
  },
  {
   "cell_type": "code",
   "execution_count": 50,
   "metadata": {
    "collapsed": false
   },
   "outputs": [],
   "source": [
    "# # If County is NY but the precincts are not the ones listed above\n",
    "\n",
    "# # we're getting precincts that aren't listed above\n",
    "# row_numbers_for_violations_occuring_above_96 = []\n",
    "\n",
    "# for row_number in row_numbers:\n",
    "#     precinct = df_merged['Violation Precinct'][row_number]\n",
    "#     if not precinct in precincts_below_96:\n",
    "#         row_numbers_for_violations_occuring_above_96.append(row_number)\n",
    "\n",
    "# # Only counting the ones in NY\n",
    "# df_Manhattan = df_merged[df_merged['Violation County'] == 'NY']\n",
    "\n",
    "# def fines_occuring_above_96(row_number):\n",
    "#     try:\n",
    "#         return int(df_Manhattan['All Other Areas Int'][row_number])\n",
    "#     except:\n",
    "#         return None"
   ]
  },
  {
   "cell_type": "code",
   "execution_count": 51,
   "metadata": {
    "collapsed": false
   },
   "outputs": [],
   "source": [
    "# above_96_fee_sum = 0\n",
    "# for row_number in row_numbers_for_violations_occuring_above_96:\n",
    "#     fine = fines_occuring_above_96(row_number)\n",
    "#     if pd.isnull(fine):\n",
    "#         pass\n",
    "#     else:\n",
    "#         above_96_fee_sum += fine\n",
    "# above_96_fee_sum"
   ]
  },
  {
   "cell_type": "markdown",
   "metadata": {},
   "source": [
    "### _Total Amount Made by NYC:_"
   ]
  },
  {
   "cell_type": "code",
   "execution_count": 52,
   "metadata": {
    "collapsed": false
   },
   "outputs": [],
   "source": [
    "# total_sum = non_manhattan_sum + below_96_fee_sum + above_96_fee_sum\n",
    "# print('At least $' + str(total_sum))"
   ]
  },
  {
   "cell_type": "markdown",
   "metadata": {},
   "source": [
    "## 9. What's the most lucrative kind of parking violation? The most frequent?"
   ]
  },
  {
   "cell_type": "markdown",
   "metadata": {},
   "source": [
    "### Most Frequent"
   ]
  },
  {
   "cell_type": "code",
   "execution_count": 53,
   "metadata": {
    "collapsed": false
   },
   "outputs": [
    {
     "data": {
      "text/plain": [
       "Street Cleaning: No parking where parking is not allowed by sign, street marking or traffic control device.                                                                                                                                                                                                                                                                                                                                                                                                                                                                                                                                                                                                                                                                           706228\n",
       " Failing to show a receipt or tag in the windshield. Drivers get a 5-minute grace period past the expired time on Muni-Meter receipts.\"                                                                                                                                                                                                                                                                                                                                                                                                                                                                                                                                                                                                                                               674091\n",
       "General No Standing: Standing or parking where standing is not allowed by sign, street marking or; traffic control device.                                                                                                                                                                                                                                                                                                                                                                                                                                                                                                                                                                                                                                                            468987\n",
       " Parking in excess of the allowed time. Drivers get a 5-minute grace period past the expired time on Muni-Meter receipts.\"                                                                                                                                                                                                                                                                                                                                                                                                                                                                                                                                                                                                                                                            407106\n",
       "General No Parking: No parking where parking is not allowed by sign, street marking or traffic control device.                                                                                                                                                                                                                                                                                                                                                                                                                                                                                                                                                                                                                                                                        299391\n",
       "Standing or parking a vehicle without showing a current inspection sticker.                                                                                                                                                                                                                                                                                                                                                                                                                                                                                                                                                                                                                                                                                                           281492\n",
       "Vehicles photographed going through a red light at an intersection                                                                                                                                                                                                                                                                                                                                                                                                                                                                                                                                                                                                                                                                                                                    269793\n",
       "Standing or parking on the roadway side of a vehicle stopped, standing or parked at the curb; in other words also known as \"double parking\". However, a person may stand a Commercial Vehicle alongside a vehicle parked at the curb at such locations and during such hours that stopping, standing and parking is allowed when quickly making pickups, deliveries or service calls. This is allowed if there is no parking space or marked loading zone on either side of the street within 100 feet. \"Double parking\" any type of vehicle is not allowed in Midtown Manhattan (the area from 14th Street to 60th Street, between First Avenue and Eighth Avenue inclusive). Midtown double parking is not allowed between 7:00am  – 7:00pm daily except Sundays. (See Code 47.)    257686\n",
       "Stopping, standing or parking closer than 15 feet of a fire hydrant. Between sunrise and sunset, a passenger vehicle may stand alongside a fire hydrant as long as a driver remains behind the wheel and is ready to move the vehicle if required to do so.                                                                                                                                                                                                                                                                                                                                                                                                                                                                                                                           251035\n",
       "Bus Stop: Standing or parking where standing is not allowed by sign, street marking or; traffic control device.                                                                                                                                                                                                                                                                                                                                                                                                                                                                                                                                                                                                                                                                       157422\n",
       "Failing to show a muni-meter receipt, commercial meter zone.                                                                                                                                                                                                                                                                                                                                                                                                                                                                                                                                                                                                                                                                                                                          135480\n",
       "Truck Loading/Unloading: Standing or parking where standing is not allowed by sign, street marking or; traffic control device.                                                                                                                                                                                                                                                                                                                                                                                                                                                                                                                                                                                                                                                        120607\n",
       "Standing or parking a vehicle without showing a current registration sticker.                                                                                                                                                                                                                                                                                                                                                                                                                                                                                                                                                                                                                                                                                                         115674\n",
       "Standing of a non-commercial vehicle in a commercial metered zone.                                                                                                                                                                                                                                                                                                                                                                                                                                                                                                                                                                                                                                                                                                                     98088\n",
       "Failure to make a right turn from a bus lane.                                                                                                                                                                                                                                                                                                                                                                                                                                                                                                                                                                                                                                                                                                                                          75435\n",
       "Stopping, standing or parking a vehicle in Midtown Manhattan (the area from 14th Street to 60th Street, between First Avenue and Eighth Avenue) other than parallel or close to the curb.                                                                                                                                                                                                                                                                                                                                                                                                                                                                                                                                                                                              64260\n",
       "Authorized Vehicles Only: Standing or parking where standing is not allowed by sign, street marking or; traffic control device.                                                                                                                                                                                                                                                                                                                                                                                                                                                                                                                                                                                                                                                        58144\n",
       "Parking in a Muni Metered space in a commercial metered zone in which that Muni Meter is working and indicates the time has ended.                                                                                                                                                                                                                                                                                                                                                                                                                                                                                                                                                                                                                                                     44940\n",
       "Parking a Commercial Vehicle on a residential street between 9PM and 5AM unless doing business within 3 blocks. Parking is allowed during this time if the vehicle is owned or operated by a gas or oil supplier or maintenance company or by any public utility.                                                                                                                                                                                                                                                                                                                                                                                                                                                                                                                      44904\n",
       "Standing or parking a vehicle without properly showing its current plates on the outside of the vehicle attached tightly not more than 48, or less than 12, inches from the ground, clean, not covered by glass or plastic, with nothing preventing it from being read clearly.                                                                                                                                                                                                                                                                                                                                                                                                                                                                                                        44408\n",
       "Stopping, standing or parking in a crosswalk. Note: Crosswalks are not always identified by painted street markings.                                                                                                                                                                                                                                                                                                                                                                                                                                                                                                                                                                                                                                                                   42759\n",
       "Stopping, standing or parking on a sidewalk.                                                                                                                                                                                                                                                                                                                                                                                                                                                                                                                                                                                                                                                                                                                                           32917\n",
       "Stopping, standing or parking within a marked bicycle lane.                                                                                                                                                                                                                                                                                                                                                                                                                                                                                                                                                                                                                                                                                                                            28537\n",
       "Parking a Commercial Vehicle on any city street with its platform lift in the lowered position while no one is with the vehicle.                                                                                                                                                                                                                                                                                                                                                                                                                                                                                                                                                                                                                                                       26228\n",
       "Standing or parking in front of a public or private driveway. The owner or renter of a lot accessed by a private driveway may park a passenger vehicle registered to him / her at that address in front of the driveway provided the lot does not contain more than 2 dwelling units and that parking does not violate any other rule or restriction.                                                                                                                                                                                                                                                                                                                                                                                                                                  23062\n",
       "Parking in front of a pedestrian ramp                                                                                                                                                                                                                                                                                                                                                                                                                                                                                                                                                                                                                                                                                                                                                  18946\n",
       "Stopping, standing or parking in a traffic lane; or if a vehicle extends more than 8 feet from the nearest curb, blocking traffic.                                                                                                                                                                                                                                                                                                                                                                                                                                                                                                                                                                                                                                                     18575\n",
       "Standing or parking a Commercial Vehicle unless all seats, except the front seats, and rear seat equipment removed. The name and address of the owner must be on the registration certificate plainly marked on both sides of the vehicle in letters and numerals not less than 3 inches in height. (Vehicles with Commercial Plates are considered to be Commercial Vehicles and must be altered accordingly.                                                                                                                                                                                                                                                                                                                                                                         16333\n",
       "Taxi Stand: Standing or parking where standing is not allowed by sign, street marking or; traffic control device.                                                                                                                                                                                                                                                                                                                                                                                                                                                                                                                                                                                                                                                                      15746\n",
       "Parking a Commercial Vehicle more than 3 hours, where parking is allowed.                                                                                                                                                                                                                                                                                                                                                                                                                                                                                                                                                                                                                                                                                                              15698\n",
       "                                                                                                                                                                                                                                                                                                                                                                                                                                                                                                                                                                                                                                                                                                                                                                                       ...  \n",
       "Vehicle Release Agreement code associated with NYPD's Violation Tow Program.                                                                                                                                                                                                                                                                                                                                                                                                                                                                                                                                                                                                                                                                                                            1320\n",
       "Taxi Stand: No parking where parking is not allowed by sign, street marking or traffic control device.                                                                                                                                                                                                                                                                                                                                                                                                                                                                                                                                                                                                                                                                                  1202\n",
       "Stopping, standing or parking alongside or opposite any street construction or obstruction and thereby blocking traffic.                                                                                                                                                                                                                                                                                                                                                                                                                                                                                                                                                                                                                                                                 997\n",
       "Stopping, standing or parking within an intersection.                                                                                                                                                                                                                                                                                                                                                                                                                                                                                                                                                                                                                                                                                                                                    599\n",
       "Expired Meter -- parking in a metered space where the meter works and the time has ended. Drivers get a 5-minute grace period past the expired time on Alternate Side Parking signs and any other parking spaces with specific times listed (i.e.. 8:30am - 9:30am). During the 5-minute grace period, parking tickets cannot be issued.                                                                                                                                                                                                                                                                                                                                                                                                                                                 523\n",
       "For a bus without passengers, waiting at a curb or other street location i.e., a layover; with passengers, waiting at a curb or other street location for more than five minutes, except in locations allowed by sign or by the Commissioner in writing.                                                                                                                                                                                                                                                                                                                                                                                                                                                                                                                                 468\n",
       "Standing or parking a vehicle in any park between one-half hour after sunset and one-half hour before sunrise, except at places allowed for the parking of vehicles.                                                                                                                                                                                                                                                                                                                                                                                                                                                                                                                                                                                                                     382\n",
       "Vehicles parked illegally south of Houston Street in Manhattan in metered spaces reserved for buses from 7am - 7pm daily. Vehicles with bus plate types parked longer than the 3 hour maximum and/or not displaying a DOT-issued bus permit.                                                                                                                                                                                                                                                                                                                                                                                                                                                                                                                                             354\n",
       "Parking in a commercial metered zone in which the meter is working and indicates that the time has ended. (Note: the difference is that 42 is Muni Meter and 43 is Meter)                                                                                                                                                                                                                                                                                                                                                                                                                                                                                                                                                                                                                288\n",
       "Standing or parking at an angle to the curb, except where allowed by rule or sign. Where angle parking is not authorized by a sign, a Commercial Vehicle may stand or park at an angle only for loading or unloading and if it leaves enough space for traffic flow.                                                                                                                                                                                                                                                                                                                                                                                                                                                                                                                     272\n",
       "Stopping, standing or parking within a highway tunnel or on a raised or controlled access roadway.                                                                                                                                                                                                                                                                                                                                                                                                                                                                                                                                                                                                                                                                                       199\n",
       "Standing at a commuter van stop, other than temporarily for the purpose of quickly picking up or dropping off passengers.                                                                                                                                                                                                                                                                                                                                                                                                                                                                                                                                                                                                                                                                192\n",
       "Parking a tractor-trailer on a residential street between 9PM and 5AM.                                                                                                                                                                                                                                                                                                                                                                                                                                                                                                                                                                                                                                                                                                                   180\n",
       "Parking at a broken or missing meter for longer than the maximum time permitted.                                                                                                                                                                                                                                                                                                                                                                                                                                                                                                                                                                                                                                                                                                         141\n",
       "No standing except diplomat                                                                                                                                                                                                                                                                                                                                                                                                                                                                                                                                                                                                                                                                                                                                                              126\n",
       "Overtime standing consul / diplomat vehicles 30-minute limit D decals only.                                                                                                                                                                                                                                                                                                                                                                                                                                                                                                                                                                                                                                                                                                              115\n",
       "Parking in a vacant lot. A vehicle may be parked on a vacant lot having a municipally authorized driveway upon written permission of the owner.                                                                                                                                                                                                                                                                                                                                                                                                                                                                                                                                                                                                                                          112\n",
       "Parking a vehicle within the area designated as The Blue Zone, Monday through Friday 7:00am -7:00pm. The Blue Zone is bounded by the northern property line of Frankfort Street, the northern property line of Dover Street, the eastern property line of South Street, the western property line of State Street, the center line of Broadway and the center line of Park Row.                                                                                                                                                                                                                                                                                                                                                                                                          108\n",
       "Stopping, standing or parking alongside a barrier or divided highway unless permitted by sign.                                                                                                                                                                                                                                                                                                                                                                                                                                                                                                                                                                                                                                                                                            98\n",
       "Standing at a for-hire vehicle stop, other than temporarily for the purpose of quickly picking up or dropping off passengers.                                                                                                                                                                                                                                                                                                                                                                                                                                                                                                                                                                                                                                                             94\n",
       "Parking in order to wash, grease, or repair a vehicle by a person who regularly repairs vehicles.                                                                                                                                                                                                                                                                                                                                                                                                                                                                                                                                                                                                                                                                                         90\n",
       "Standing or parking a vehicle to make pickups, deliveries or service calls for more than 3 hours, unless allowed by posted signs, between 7AM and 7PM, except Sundays, in Manhattan from 14th to 60th Streets and First to Eighth Avenues.                                                                                                                                                                                                                                                                                                                                                                                                                                                                                                                                                86\n",
       "Standing or parking within 50 feet of the nearest rail of a railroad crossing.                                                                                                                                                                                                                                                                                                                                                                                                                                                                                                                                                                                                                                                                                                            79\n",
       "Stopping, standing or parking on paved roadway to change a flat tire, unless permitted by posted sign.                                                                                                                                                                                                                                                                                                                                                                                                                                                                                                                                                                                                                                                                                    44\n",
       "Parking a vehicle on a marginal street or waterfront i.e. any street, road, place, area or way that connects or runs along waterfront property. Parking on a marginal street or waterfront is permitted if authorized by posted sign.                                                                                                                                                                                                                                                                                                                                                                                                                                                                                                                                                     41\n",
       "Parking in a commercial metered zone for longer than the maximum time allowed.                                                                                                                                                                                                                                                                                                                                                                                                                                                                                                                                                                                                                                                                                                            29\n",
       "Snow Emergency: Standing or parking where standing is not allowed by sign, street marking or; traffic control device.                                                                                                                                                                                                                                                                                                                                                                                                                                                                                                                                                                                                                                                                     27\n",
       "Hotel Loading/Unloading: No parking where parking is not allowed by sign, street marking or traffic control device.                                                                                                                                                                                                                                                                                                                                                                                                                                                                                                                                                                                                                                                                       15\n",
       "\"Feeding Meter\" -- parking in a metered space for a consecutive period of time longer than allowed, whether or not an additional coin or coins are deposited or another method of payment is used.                                                                                                                                                                                                                                                                                                                                                                                                                                                                                                                                                                                        15\n",
       "Overtime standing (diplomat)                                                                                                                                                                                                                                                                                                                                                                                                                                                                                                                                                                                                                                                                                                                                                              11\n",
       "Name: DEFINITION, dtype: int64"
      ]
     },
     "execution_count": 53,
     "metadata": {},
     "output_type": "execute_result"
    }
   ],
   "source": [
    "df_merged['DEFINITION'].value_counts()"
   ]
  },
  {
   "cell_type": "markdown",
   "metadata": {},
   "source": [
    "### Most Lucrative"
   ]
  },
  {
   "cell_type": "code",
   "execution_count": 54,
   "metadata": {
    "collapsed": false,
    "scrolled": false
   },
   "outputs": [
    {
     "data": {
      "text/html": [
       "<div>\n",
       "<table border=\"1\" class=\"dataframe\">\n",
       "  <thead>\n",
       "    <tr style=\"text-align: right;\">\n",
       "      <th></th>\n",
       "      <th>Fee for This Precinct</th>\n",
       "    </tr>\n",
       "    <tr>\n",
       "      <th>DEFINITION</th>\n",
       "      <th></th>\n",
       "    </tr>\n",
       "  </thead>\n",
       "  <tbody>\n",
       "    <tr>\n",
       "      <th>General No Standing: Standing or parking where standing is not allowed by sign, street marking or; traffic control device.</th>\n",
       "      <td>53933505.0</td>\n",
       "    </tr>\n",
       "    <tr>\n",
       "      <th>Street Cleaning: No parking where parking is not allowed by sign, street marking or traffic control device.</th>\n",
       "      <td>33467600.0</td>\n",
       "    </tr>\n",
       "    <tr>\n",
       "      <th>Standing or parking on the roadway side of a vehicle stopped, standing or parked at the curb; in other words also known as \"double parking\". However, a person may stand a Commercial Vehicle alongside a vehicle parked at the curb at such locations and during such hours that stopping, standing and parking is allowed when quickly making pickups, deliveries or service calls. This is allowed if there is no parking space or marked loading zone on either side of the street within 100 feet. \"Double parking\" any type of vehicle is not allowed in Midtown Manhattan (the area from 14th Street to 60th Street, between First Avenue and Eighth Avenue inclusive). Midtown double parking is not allowed between 7:00am  – 7:00pm daily except Sundays. (See Code 47.)</th>\n",
       "      <td>29633890.0</td>\n",
       "    </tr>\n",
       "    <tr>\n",
       "      <th>Stopping, standing or parking closer than 15 feet of a fire hydrant. Between sunrise and sunset, a passenger vehicle may stand alongside a fire hydrant as long as a driver remains behind the wheel and is ready to move the vehicle if required to do so.</th>\n",
       "      <td>28869025.0</td>\n",
       "    </tr>\n",
       "    <tr>\n",
       "      <th>Failing to show a receipt or tag in the windshield. Drivers get a 5-minute grace period past the expired time on Muni-Meter receipts.\"</th>\n",
       "      <td>28757175.0</td>\n",
       "    </tr>\n",
       "    <tr>\n",
       "      <th>General No Parking: No parking where parking is not allowed by sign, street marking or traffic control device.</th>\n",
       "      <td>18415790.0</td>\n",
       "    </tr>\n",
       "    <tr>\n",
       "      <th>Standing or parking a vehicle without showing a current inspection sticker.</th>\n",
       "      <td>18296980.0</td>\n",
       "    </tr>\n",
       "    <tr>\n",
       "      <th>Bus Stop: Standing or parking where standing is not allowed by sign, street marking or; traffic control device.</th>\n",
       "      <td>18103530.0</td>\n",
       "    </tr>\n",
       "    <tr>\n",
       "      <th>Parking in excess of the allowed time. Drivers get a 5-minute grace period past the expired time on Muni-Meter receipts.\"</th>\n",
       "      <td>17826180.0</td>\n",
       "    </tr>\n",
       "    <tr>\n",
       "      <th>Vehicles photographed going through a red light at an intersection</th>\n",
       "      <td>13489650.0</td>\n",
       "    </tr>\n",
       "    <tr>\n",
       "      <th>Truck Loading/Unloading: Standing or parking where standing is not allowed by sign, street marking or; traffic control device.</th>\n",
       "      <td>11457665.0</td>\n",
       "    </tr>\n",
       "    <tr>\n",
       "      <th>Standing of a non-commercial vehicle in a commercial metered zone.</th>\n",
       "      <td>11280120.0</td>\n",
       "    </tr>\n",
       "    <tr>\n",
       "      <th>Failing to show a muni-meter receipt, commercial meter zone.</th>\n",
       "      <td>8806200.0</td>\n",
       "    </tr>\n",
       "    <tr>\n",
       "      <th>Failure to make a right turn from a bus lane.</th>\n",
       "      <td>8675025.0</td>\n",
       "    </tr>\n",
       "    <tr>\n",
       "      <th>Standing or parking a vehicle without showing a current registration sticker.</th>\n",
       "      <td>7518810.0</td>\n",
       "    </tr>\n",
       "    <tr>\n",
       "      <th>Stopping, standing or parking a vehicle in Midtown Manhattan (the area from 14th Street to 60th Street, between First Avenue and Eighth Avenue) other than parallel or close to the curb.</th>\n",
       "      <td>7389900.0</td>\n",
       "    </tr>\n",
       "    <tr>\n",
       "      <th>Authorized Vehicles Only: Standing or parking where standing is not allowed by sign, street marking or; traffic control device.</th>\n",
       "      <td>5523680.0</td>\n",
       "    </tr>\n",
       "    <tr>\n",
       "      <th>Stopping, standing or parking in a crosswalk. Note: Crosswalks are not always identified by painted street markings.</th>\n",
       "      <td>4917285.0</td>\n",
       "    </tr>\n",
       "    <tr>\n",
       "      <th>Stopping, standing or parking on a sidewalk.</th>\n",
       "      <td>3785455.0</td>\n",
       "    </tr>\n",
       "    <tr>\n",
       "      <th>Stopping, standing or parking within a marked bicycle lane.</th>\n",
       "      <td>3281755.0</td>\n",
       "    </tr>\n",
       "    <tr>\n",
       "      <th>Parking in front of a pedestrian ramp</th>\n",
       "      <td>3126090.0</td>\n",
       "    </tr>\n",
       "    <tr>\n",
       "      <th>Parking a Commercial Vehicle on a residential street between 9PM and 5AM unless doing business within 3 blocks. Parking is allowed during this time if the vehicle is owned or operated by a gas or oil supplier or maintenance company or by any public utility.</th>\n",
       "      <td>2918760.0</td>\n",
       "    </tr>\n",
       "    <tr>\n",
       "      <th>Standing or parking a vehicle without properly showing its current plates on the outside of the vehicle attached tightly not more than 48, or less than 12, inches from the ground, clean, not covered by glass or plastic, with nothing preventing it from being read clearly.</th>\n",
       "      <td>2886520.0</td>\n",
       "    </tr>\n",
       "    <tr>\n",
       "      <th>Parking in a Muni Metered space in a commercial metered zone in which that Muni Meter is working and indicates the time has ended.</th>\n",
       "      <td>2462790.0</td>\n",
       "    </tr>\n",
       "    <tr>\n",
       "      <th>Standing or parking in front of a public or private driveway. The owner or renter of a lot accessed by a private driveway may park a passenger vehicle registered to him / her at that address in front of the driveway provided the lot does not contain more than 2 dwelling units and that parking does not violate any other rule or restriction.</th>\n",
       "      <td>2190890.0</td>\n",
       "    </tr>\n",
       "    <tr>\n",
       "      <th>Stopping, standing or parking in a traffic lane; or if a vehicle extends more than 8 feet from the nearest curb, blocking traffic.</th>\n",
       "      <td>2136125.0</td>\n",
       "    </tr>\n",
       "    <tr>\n",
       "      <th>Standing or parking a Commercial Vehicle unless all seats, except the front seats, and rear seat equipment removed. The name and address of the owner must be on the registration certificate plainly marked on both sides of the vehicle in letters and numerals not less than 3 inches in height. (Vehicles with Commercial Plates are considered to be Commercial Vehicles and must be altered accordingly.</th>\n",
       "      <td>1878295.0</td>\n",
       "    </tr>\n",
       "    <tr>\n",
       "      <th>Taxi Stand: Standing or parking where standing is not allowed by sign, street marking or; traffic control device.</th>\n",
       "      <td>1810790.0</td>\n",
       "    </tr>\n",
       "    <tr>\n",
       "      <th>Stopping, standing or parking where a sign, street marking, or traffic control device does not allow stopping.</th>\n",
       "      <td>1701310.0</td>\n",
       "    </tr>\n",
       "    <tr>\n",
       "      <th>Standing or parking in a safety zone, between a safety zone and the nearest curb, or within 30 feet of points on the curb immediately opposite the ends of a safety zone.</th>\n",
       "      <td>1551465.0</td>\n",
       "    </tr>\n",
       "    <tr>\n",
       "      <th>...</th>\n",
       "      <td>...</td>\n",
       "    </tr>\n",
       "    <tr>\n",
       "      <th>Taxi Stand: No parking where parking is not allowed by sign, street marking or traffic control device.</th>\n",
       "      <td>76055.0</td>\n",
       "    </tr>\n",
       "    <tr>\n",
       "      <th>Stopping, standing or parking within an intersection.</th>\n",
       "      <td>68885.0</td>\n",
       "    </tr>\n",
       "    <tr>\n",
       "      <th>Parking in order to sell a vehicle by a person who regularly sells vehicles.</th>\n",
       "      <td>64330.0</td>\n",
       "    </tr>\n",
       "    <tr>\n",
       "      <th>For a bus without passengers, waiting at a curb or other street location i.e., a layover; with passengers, waiting at a curb or other street location for more than five minutes, except in locations allowed by sign or by the Commissioner in writing.</th>\n",
       "      <td>53820.0</td>\n",
       "    </tr>\n",
       "    <tr>\n",
       "      <th>Parking a tractor-trailer on a residential street between 9PM and 5AM.</th>\n",
       "      <td>47700.0</td>\n",
       "    </tr>\n",
       "    <tr>\n",
       "      <th>Vehicles parked illegally south of Houston Street in Manhattan in metered spaces reserved for buses from 7am - 7pm daily. Vehicles with bus plate types parked longer than the 3 hour maximum and/or not displaying a DOT-issued bus permit.</th>\n",
       "      <td>36340.0</td>\n",
       "    </tr>\n",
       "    <tr>\n",
       "      <th>Standing or parking a vehicle in any park between one-half hour after sunset and one-half hour before sunrise, except at places allowed for the parking of vehicles.</th>\n",
       "      <td>36290.0</td>\n",
       "    </tr>\n",
       "    <tr>\n",
       "      <th>Standing or parking at an angle to the curb, except where allowed by rule or sign. Where angle parking is not authorized by a sign, a Commercial Vehicle may stand or park at an angle only for loading or unloading and if it leaves enough space for traffic flow.</th>\n",
       "      <td>31280.0</td>\n",
       "    </tr>\n",
       "    <tr>\n",
       "      <th>Expired Meter -- parking in a metered space where the meter works and the time has ended. Drivers get a 5-minute grace period past the expired time on Alternate Side Parking signs and any other parking spaces with specific times listed (i.e.. 8:30am - 9:30am). During the 5-minute grace period, parking tickets cannot be issued.</th>\n",
       "      <td>23465.0</td>\n",
       "    </tr>\n",
       "    <tr>\n",
       "      <th>Stopping, standing or parking within a highway tunnel or on a raised or controlled access roadway.</th>\n",
       "      <td>22885.0</td>\n",
       "    </tr>\n",
       "    <tr>\n",
       "      <th>Standing at a commuter van stop, other than temporarily for the purpose of quickly picking up or dropping off passengers.</th>\n",
       "      <td>22080.0</td>\n",
       "    </tr>\n",
       "    <tr>\n",
       "      <th>Parking in a commercial metered zone in which the meter is working and indicates that the time has ended. (Note: the difference is that 42 is Muni Meter and 43 is Meter)</th>\n",
       "      <td>17070.0</td>\n",
       "    </tr>\n",
       "    <tr>\n",
       "      <th>No standing except diplomat</th>\n",
       "      <td>11970.0</td>\n",
       "    </tr>\n",
       "    <tr>\n",
       "      <th>Stopping, standing or parking alongside a barrier or divided highway unless permitted by sign.</th>\n",
       "      <td>11270.0</td>\n",
       "    </tr>\n",
       "    <tr>\n",
       "      <th>Overtime standing consul / diplomat vehicles 30-minute limit D decals only.</th>\n",
       "      <td>10925.0</td>\n",
       "    </tr>\n",
       "    <tr>\n",
       "      <th>Standing at a for-hire vehicle stop, other than temporarily for the purpose of quickly picking up or dropping off passengers.</th>\n",
       "      <td>10810.0</td>\n",
       "    </tr>\n",
       "    <tr>\n",
       "      <th>Standing or parking a vehicle to make pickups, deliveries or service calls for more than 3 hours, unless allowed by posted signs, between 7AM and 7PM, except Sundays, in Manhattan from 14th to 60th Streets and First to Eighth Avenues.</th>\n",
       "      <td>9890.0</td>\n",
       "    </tr>\n",
       "    <tr>\n",
       "      <th>Standing or parking within 50 feet of the nearest rail of a railroad crossing.</th>\n",
       "      <td>7505.0</td>\n",
       "    </tr>\n",
       "    <tr>\n",
       "      <th>Parking a vehicle within the area designated as The Blue Zone, Monday through Friday 7:00am -7:00pm. The Blue Zone is bounded by the northern property line of Frankfort Street, the northern property line of Dover Street, the eastern property line of South Street, the western property line of State Street, the center line of Broadway and the center line of Park Row.</th>\n",
       "      <td>7020.0</td>\n",
       "    </tr>\n",
       "    <tr>\n",
       "      <th>Parking at a broken or missing meter for longer than the maximum time permitted.</th>\n",
       "      <td>5985.0</td>\n",
       "    </tr>\n",
       "    <tr>\n",
       "      <th>Parking in a vacant lot. A vehicle may be parked on a vacant lot having a municipally authorized driveway upon written permission of the owner.</th>\n",
       "      <td>5640.0</td>\n",
       "    </tr>\n",
       "    <tr>\n",
       "      <th>Parking in order to wash, grease, or repair a vehicle by a person who regularly repairs vehicles.</th>\n",
       "      <td>4090.0</td>\n",
       "    </tr>\n",
       "    <tr>\n",
       "      <th>Stopping, standing or parking on paved roadway to change a flat tire, unless permitted by posted sign.</th>\n",
       "      <td>2860.0</td>\n",
       "    </tr>\n",
       "    <tr>\n",
       "      <th>Snow Emergency: Standing or parking where standing is not allowed by sign, street marking or; traffic control device.</th>\n",
       "      <td>2565.0</td>\n",
       "    </tr>\n",
       "    <tr>\n",
       "      <th>Parking a vehicle on a marginal street or waterfront i.e. any street, road, place, area or way that connects or runs along waterfront property. Parking on a marginal street or waterfront is permitted if authorized by posted sign.</th>\n",
       "      <td>1985.0</td>\n",
       "    </tr>\n",
       "    <tr>\n",
       "      <th>Parking in a commercial metered zone for longer than the maximum time allowed.</th>\n",
       "      <td>1375.0</td>\n",
       "    </tr>\n",
       "    <tr>\n",
       "      <th>Overtime standing (diplomat)</th>\n",
       "      <td>1045.0</td>\n",
       "    </tr>\n",
       "    <tr>\n",
       "      <th>Hotel Loading/Unloading: No parking where parking is not allowed by sign, street marking or traffic control device.</th>\n",
       "      <td>900.0</td>\n",
       "    </tr>\n",
       "    <tr>\n",
       "      <th>\"Feeding Meter\" -- parking in a metered space for a consecutive period of time longer than allowed, whether or not an additional coin or coins are deposited or another method of payment is used.</th>\n",
       "      <td>705.0</td>\n",
       "    </tr>\n",
       "    <tr>\n",
       "      <th>All other parking, standing or stopping violations.</th>\n",
       "      <td>NaN</td>\n",
       "    </tr>\n",
       "  </tbody>\n",
       "</table>\n",
       "<p>86 rows × 1 columns</p>\n",
       "</div>"
      ],
      "text/plain": [
       "                                                    Fee for This Precinct\n",
       "DEFINITION                                                               \n",
       "General No Standing: Standing or parking where ...             53933505.0\n",
       "Street Cleaning: No parking where parking is no...             33467600.0\n",
       "Standing or parking on the roadway side of a ve...             29633890.0\n",
       "Stopping, standing or parking closer than 15 fe...             28869025.0\n",
       " Failing to show a receipt or tag in the windsh...             28757175.0\n",
       "General No Parking: No parking where parking is...             18415790.0\n",
       "Standing or parking a vehicle without showing a...             18296980.0\n",
       "Bus Stop: Standing or parking where standing is...             18103530.0\n",
       " Parking in excess of the allowed time. Drivers...             17826180.0\n",
       "Vehicles photographed going through a red light...             13489650.0\n",
       "Truck Loading/Unloading: Standing or parking wh...             11457665.0\n",
       "Standing of a non-commercial vehicle in a comme...             11280120.0\n",
       "Failing to show a muni-meter receipt, commercia...              8806200.0\n",
       "Failure to make a right turn from a bus lane.                   8675025.0\n",
       "Standing or parking a vehicle without showing a...              7518810.0\n",
       "Stopping, standing or parking a vehicle in Midt...              7389900.0\n",
       "Authorized Vehicles Only: Standing or parking w...              5523680.0\n",
       "Stopping, standing or parking in a crosswalk. N...              4917285.0\n",
       "Stopping, standing or parking on a sidewalk.                    3785455.0\n",
       "Stopping, standing or parking within a marked b...              3281755.0\n",
       "Parking in front of a pedestrian ramp                           3126090.0\n",
       "Parking a Commercial Vehicle on a residential s...              2918760.0\n",
       "Standing or parking a vehicle without properly ...              2886520.0\n",
       "Parking in a Muni Metered space in a commercial...              2462790.0\n",
       "Standing or parking in front of a public or pri...              2190890.0\n",
       "Stopping, standing or parking in a traffic lane...              2136125.0\n",
       "Standing or parking a Commercial Vehicle unless...              1878295.0\n",
       "Taxi Stand: Standing or parking where standing ...              1810790.0\n",
       "Stopping, standing or parking where a sign, str...              1701310.0\n",
       "Standing or parking in a safety zone, between a...              1551465.0\n",
       "...                                                                   ...\n",
       "Taxi Stand: No parking where parking is not all...                76055.0\n",
       "Stopping, standing or parking within an interse...                68885.0\n",
       "Parking in order to sell a vehicle by a person ...                64330.0\n",
       "For a bus without passengers, waiting at a curb...                53820.0\n",
       "Parking a tractor-trailer on a residential stre...                47700.0\n",
       "Vehicles parked illegally south of Houston Stre...                36340.0\n",
       "Standing or parking a vehicle in any park betwe...                36290.0\n",
       "Standing or parking at an angle to the curb, ex...                31280.0\n",
       "Expired Meter -- parking in a metered space whe...                23465.0\n",
       "Stopping, standing or parking within a highway ...                22885.0\n",
       "Standing at a commuter van stop, other than tem...                22080.0\n",
       "Parking in a commercial metered zone in which t...                17070.0\n",
       "No standing except diplomat                                       11970.0\n",
       "Stopping, standing or parking alongside a barri...                11270.0\n",
       "Overtime standing consul / diplomat vehicles 30...                10925.0\n",
       "Standing at a for-hire vehicle stop, other than...                10810.0\n",
       "Standing or parking a vehicle to make pickups, ...                 9890.0\n",
       "Standing or parking within 50 feet of the neare...                 7505.0\n",
       "Parking a vehicle within the area designated as...                 7020.0\n",
       "Parking at a broken or missing meter for longer...                 5985.0\n",
       "Parking in a vacant lot. A vehicle may be parke...                 5640.0\n",
       "Parking in order to wash, grease, or repair a v...                 4090.0\n",
       "Stopping, standing or parking on paved roadway ...                 2860.0\n",
       "Snow Emergency: Standing or parking where stand...                 2565.0\n",
       "Parking a vehicle on a marginal street or water...                 1985.0\n",
       "Parking in a commercial metered zone for longer...                 1375.0\n",
       "Overtime standing (diplomat)                                       1045.0\n",
       "Hotel Loading/Unloading: No parking where parki...                  900.0\n",
       "\"Feeding Meter\" -- parking in a metered space f...                  705.0\n",
       "All other parking, standing or stopping violati...                    NaN\n",
       "\n",
       "[86 rows x 1 columns]"
      ]
     },
     "execution_count": 54,
     "metadata": {},
     "output_type": "execute_result"
    }
   ],
   "source": [
    "df_merged[['DEFINITION', 'Fee for This Precinct']].groupby('DEFINITION').sum().sort_values('Fee for This Precinct', ascending = False)"
   ]
  },
  {
   "cell_type": "markdown",
   "metadata": {},
   "source": [
    "### How I Tried to Do It Before I Made 'Fee for This Precinct'"
   ]
  },
  {
   "cell_type": "markdown",
   "metadata": {},
   "source": [
    "_I want:_\n",
    "    [\n",
    "    {'DEFINITION': 'Street Cleaning...', 'freq': 140329, 'All Other Areas Int': 45},\n",
    "    {'DEFINITION': 'Failing to show a receipt', 'freq': 125716, 'All Other Areas Int': 35},\n",
    "    ...\n",
    "    ]\n",
    "    \n",
    "_Then I'll turn that to a DataFrame._\n",
    "<p> _Then I'll multiply 'freq' and 'All Other Areas Int' to make a 'How Lucrative' column_"
   ]
  },
  {
   "cell_type": "code",
   "execution_count": 55,
   "metadata": {
    "collapsed": false
   },
   "outputs": [],
   "source": [
    "# def_list = df_merged['DEFINITION'].unique()"
   ]
  },
  {
   "cell_type": "code",
   "execution_count": 56,
   "metadata": {
    "collapsed": false
   },
   "outputs": [],
   "source": [
    "# def first_fee_result(partial_df):\n",
    "#     number = 0\n",
    "#     for row in partial_df:\n",
    "#         number += 1\n",
    "#         if number == 1:\n",
    "#             return row"
   ]
  },
  {
   "cell_type": "code",
   "execution_count": 57,
   "metadata": {
    "collapsed": false
   },
   "outputs": [],
   "source": [
    "# lucrative_list = []\n",
    "# lucrative_dict = {}\n",
    "# for definition in def_list:\n",
    "#     all_rows_in_df_with_def = df_merged[df_merged['DEFINITION'] == definition]\n",
    "#     how_many_rows = all_rows_in_df_with_def['DEFINITION'].count()\n",
    "#     fee = first_fee_result(all_rows_in_df_with_def['All Other Areas Int'])\n",
    "#     if how_many_rows > 0:\n",
    "#         lucrative_dict['DEFINITION'] = definition\n",
    "#         lucrative_dict['freq'] = how_many_rows\n",
    "#         lucrative_dict['All Other Areas Int'] = fee\n",
    "#         lucrative_dict['How Lucrative'] = how_many_rows * fee\n",
    "#         lucrative_list.append(lucrative_dict)\n",
    "#         lucrative_dict = {}"
   ]
  },
  {
   "cell_type": "code",
   "execution_count": 58,
   "metadata": {
    "collapsed": false
   },
   "outputs": [],
   "source": [
    "# df_lucrative = pd.DataFrame(lucrative_list)"
   ]
  },
  {
   "cell_type": "code",
   "execution_count": 59,
   "metadata": {
    "collapsed": false
   },
   "outputs": [],
   "source": [
    "# df_lucrative.sort_values('How Lucrative', ascending=False).head()"
   ]
  },
  {
   "cell_type": "markdown",
   "metadata": {},
   "source": [
    "## 10. New Jersey has bad drivers, but does it have bad parkers, too? How much money does NYC make off of all non-New York vehicles?"
   ]
  },
  {
   "cell_type": "code",
   "execution_count": 60,
   "metadata": {
    "collapsed": false
   },
   "outputs": [],
   "source": [
    "df_non_NY = df_merged[df_merged['Registration State'] != 'NY']"
   ]
  },
  {
   "cell_type": "code",
   "execution_count": 61,
   "metadata": {
    "collapsed": false
   },
   "outputs": [
    {
     "data": {
      "text/plain": [
       "90889560.0"
      ]
     },
     "execution_count": 61,
     "metadata": {},
     "output_type": "execute_result"
    }
   ],
   "source": [
    "df_non_NY['Fee for This Precinct'].sum()"
   ]
  },
  {
   "cell_type": "markdown",
   "metadata": {},
   "source": [
    "## 11. Make a chart of the top few."
   ]
  },
  {
   "cell_type": "markdown",
   "metadata": {},
   "source": [
    "Make a list of all of the non-NY registration states and grab the top 10.\n",
    "<p> for each of the top 10, find the frequency\n",
    "    `[\n",
    "    {'Registration State': '99', 'total fees': '999' },\n",
    "    {'Registration State': 'AB', 'total fees': '999' } ...\n",
    "    ]`\n",
    "<p> then put them in a dataframe and use matplotlib"
   ]
  },
  {
   "cell_type": "code",
   "execution_count": 62,
   "metadata": {
    "collapsed": false
   },
   "outputs": [
    {
     "data": {
      "text/plain": [
       "NJ    488864\n",
       "PA    127073\n",
       "CT     77794\n",
       "FL     63349\n",
       "MA     44862\n",
       "VA     34990\n",
       "MD     29031\n",
       "NC     26826\n",
       "99     23691\n",
       "IN     21765\n",
       "IL     17858\n",
       "GA     17602\n",
       "AZ     13533\n",
       "TX     13484\n",
       "OH     12492\n",
       "CA     11636\n",
       "OK     11282\n",
       "SC     11252\n",
       "ME     11146\n",
       "TN     10538\n",
       "MI      9219\n",
       "DE      8418\n",
       "RI      7879\n",
       "MN      6649\n",
       "NH      6075\n",
       "IA      4249\n",
       "VT      4168\n",
       "WA      3470\n",
       "AL      3265\n",
       "WI      3185\n",
       "       ...  \n",
       "MS      1903\n",
       "KY      1778\n",
       "MO      1681\n",
       "NM      1656\n",
       "AR      1481\n",
       "LA      1429\n",
       "NV      1227\n",
       "WV       980\n",
       "NE       802\n",
       "GV       752\n",
       "KS       644\n",
       "AK       547\n",
       "UT       539\n",
       "SD       383\n",
       "MT       311\n",
       "ND       216\n",
       "HI       208\n",
       "BC       197\n",
       "WY       174\n",
       "NS       164\n",
       "AB       151\n",
       "PR       123\n",
       "NB        77\n",
       "MX        64\n",
       "PE        39\n",
       "SK        17\n",
       "MB        13\n",
       "YT         8\n",
       "NT         6\n",
       "FO         4\n",
       "Name: Registration State, dtype: int64"
      ]
     },
     "execution_count": 62,
     "metadata": {},
     "output_type": "execute_result"
    }
   ],
   "source": [
    "df_non_NY['Registration State'].value_counts()"
   ]
  },
  {
   "cell_type": "code",
   "execution_count": 63,
   "metadata": {
    "collapsed": true
   },
   "outputs": [],
   "source": [
    "top_out_of_state = ['NJ', 'PA', 'CT', 'FL', 'MA', 'VA', 'MD', '99', 'NC', 'IL']"
   ]
  },
  {
   "cell_type": "code",
   "execution_count": 64,
   "metadata": {
    "collapsed": false
   },
   "outputs": [],
   "source": [
    "out_of_state_list = []\n",
    "out_of_state_dict = {}\n",
    "\n",
    "for state in top_out_of_state:\n",
    "    df_this_state = df_merged[df_merged['Registration State'] == state]\n",
    "    fees = df_this_state['Fee for This Precinct'].sum()\n",
    "    out_of_state_dict['Registration State'] = state\n",
    "    out_of_state_dict['total fees'] = fees \n",
    "    out_of_state_list.append(out_of_state_dict)\n",
    "    out_of_state_dict = {}"
   ]
  },
  {
   "cell_type": "code",
   "execution_count": 65,
   "metadata": {
    "collapsed": true
   },
   "outputs": [],
   "source": [
    "df_out_of_state = pd.DataFrame(out_of_state_list)"
   ]
  },
  {
   "cell_type": "code",
   "execution_count": 66,
   "metadata": {
    "collapsed": true
   },
   "outputs": [],
   "source": [
    "%matplotlib inline"
   ]
  },
  {
   "cell_type": "code",
   "execution_count": 67,
   "metadata": {
    "collapsed": false
   },
   "outputs": [
    {
     "data": {
      "text/plain": [
       "<matplotlib.text.Text at 0x151658160>"
      ]
     },
     "execution_count": 67,
     "metadata": {},
     "output_type": "execute_result"
    },
    {
     "data": {
      "image/png": "[encoded data removed]",
      "text/plain": [
       "<matplotlib.figure.Figure at 0x151602908>"
      ]
     },
     "metadata": {},
     "output_type": "display_data"
    }
   ],
   "source": [
    "ax = df_out_of_state.plot(kind = 'bar', x = 'Registration State', y = 'total fees', legend = None)\n",
    "ax.set_title('Violation Fees Collected by NY from Non-NY Cars from 1973 to 2060')"
   ]
  },
  {
   "cell_type": "markdown",
   "metadata": {},
   "source": [
    "## 12. What time of day do people usually get their tickets? You can break the day up into several blocks - for example 12am-6am, 6am-12pm, 12pm-6pm, 6pm-12am."
   ]
  },
  {
   "cell_type": "code",
   "execution_count": 70,
   "metadata": {
    "collapsed": false
   },
   "outputs": [],
   "source": [
    "def time_to_words(first_two_digits_are_your_hour):\n",
    "    if not first_two_digits_are_your_hour:\n",
    "        return None\n",
    "    elif first_two_digits_are_your_hour.startswith('ERROR'):\n",
    "        return None\n",
    "    else:\n",
    "        try:\n",
    "            hour = int(first_two_digits_are_your_hour[:2])\n",
    "            if hour < 6:\n",
    "                return 'early_morning'\n",
    "            elif hour < 12:\n",
    "                return 'morning'\n",
    "            elif hour < 18:\n",
    "                return 'afternoon'\n",
    "            elif hour < 24:\n",
    "                return 'evening'\n",
    "            else:\n",
    "                return 'ERROR'\n",
    "        except:\n",
    "            return 'ERROR'"
   ]
  },
  {
   "cell_type": "code",
   "execution_count": 72,
   "metadata": {
    "collapsed": false
   },
   "outputs": [],
   "source": [
    "df_merged['Violation Time in Words'] = df_merged['Violation Time Formatted'].apply(time_to_words)"
   ]
  },
  {
   "cell_type": "code",
   "execution_count": 73,
   "metadata": {
    "collapsed": false
   },
   "outputs": [
    {
     "data": {
      "text/plain": [
       "morning          2184903\n",
       "afternoon        2144727\n",
       "evening           447130\n",
       "early_morning     221829\n",
       "ERROR                134\n",
       "Name: Violation Time in Words, dtype: int64"
      ]
     },
     "execution_count": 73,
     "metadata": {},
     "output_type": "execute_result"
    }
   ],
   "source": [
    "df_merged['Violation Time in Words'].value_counts()"
   ]
  },
  {
   "cell_type": "markdown",
   "metadata": {},
   "source": [
    "## 13. What's the average ticket cost in NYC?"
   ]
  },
  {
   "cell_type": "code",
   "execution_count": 74,
   "metadata": {
    "collapsed": false
   },
   "outputs": [
    {
     "data": {
      "text/plain": [
       "73.99249179849836"
      ]
     },
     "execution_count": 74,
     "metadata": {},
     "output_type": "execute_result"
    }
   ],
   "source": [
    "total_fees/len(df)"
   ]
  },
  {
   "cell_type": "markdown",
   "metadata": {},
   "source": [
    "## 14. Make a graph of the number of tickets per day."
   ]
  },
  {
   "cell_type": "code",
   "execution_count": 75,
   "metadata": {
    "collapsed": false
   },
   "outputs": [
    {
     "data": {
      "text/plain": [
       "11/29/2013    46010\n",
       "10/03/2013    41359\n",
       "10/08/2013    41103\n",
       "10/01/2013    40664\n",
       "11/14/2013    39265\n",
       "Name: Issue Date, dtype: int64"
      ]
     },
     "execution_count": 75,
     "metadata": {},
     "output_type": "execute_result"
    }
   ],
   "source": [
    "df_merged['Issue Date'].value_counts().head()"
   ]
  },
  {
   "cell_type": "markdown",
   "metadata": {},
   "source": [
    "Let's try this:\n",
    "<p> We can turn the issue dates into a list\n",
    "<p> We can also turn the value_counts into a list\n",
    "<p> See if they are both the same length, and then match them up into a dictionary:\n",
    "<p>\n",
    "    `tix_per_diem = [\n",
    "    { 'Issue Date': 07/30/2013 , 'tickets this day': 36500},\n",
    "    { 'Issue Date': 08/06/2013 , 'tickets this day': 36080}, ...\n",
    "    ]`"
   ]
  },
  {
   "cell_type": "code",
   "execution_count": 76,
   "metadata": {
    "collapsed": false
   },
   "outputs": [
    {
     "data": {
      "text/plain": [
       "1957"
      ]
     },
     "execution_count": 76,
     "metadata": {},
     "output_type": "execute_result"
    }
   ],
   "source": [
    "issue_dates_list = [unique_date for unique_date in set(df_merged['Issue Date'])]\n",
    "len(issue_dates_list)"
   ]
  },
  {
   "cell_type": "code",
   "execution_count": 77,
   "metadata": {
    "collapsed": false
   },
   "outputs": [],
   "source": [
    "import datetime\n",
    "    \n",
    "def to_datetime_version(str_date):\n",
    "    datetime_version = datetime.datetime.strptime(str_date, \"%m/%d/%Y\")\n",
    "    return datetime_version\n",
    "\n",
    "def to_string_version(datetime_date):\n",
    "    string_version = datetime.datetime.strftime(datetime_date, \"%m/%d/%Y\")\n",
    "    return string_version"
   ]
  },
  {
   "cell_type": "code",
   "execution_count": 78,
   "metadata": {
    "collapsed": false
   },
   "outputs": [],
   "source": [
    "def list_to_sorted_datetime(str_list):\n",
    "    datetime_version = [to_datetime_version(item) for item in str_list]\n",
    "    sorted_datetime_version = sorted(datetime_version)\n",
    "    sorted_string_version = [to_string_version(item) for item in sorted_datetime_version]\n",
    "    return sorted_string_version"
   ]
  },
  {
   "cell_type": "code",
   "execution_count": 79,
   "metadata": {
    "collapsed": false
   },
   "outputs": [],
   "source": [
    "sorted_issue_dates_list = list_to_sorted_datetime(issue_dates_list)"
   ]
  },
  {
   "cell_type": "code",
   "execution_count": 80,
   "metadata": {
    "collapsed": false
   },
   "outputs": [
    {
     "data": {
      "text/plain": [
       "1957"
      ]
     },
     "execution_count": 80,
     "metadata": {},
     "output_type": "execute_result"
    }
   ],
   "source": [
    "value_counts_list = [value_count for value_count in df_merged['Issue Date'].value_counts()]\n",
    "len(value_counts_list)"
   ]
  },
  {
   "cell_type": "code",
   "execution_count": 81,
   "metadata": {
    "collapsed": true
   },
   "outputs": [],
   "source": [
    "tix_per_diem = []\n",
    "tix_dict = {}\n",
    "\n",
    "for unique_date in sorted_issue_dates_list:\n",
    "    tix_dict['Issue Date'] = unique_date\n",
    "    tix_dict['tickets this day'] = len(df_merged[df_merged['Issue Date'] == unique_date])\n",
    "    tix_per_diem.append(tix_dict)\n",
    "    tix_dict = {}"
   ]
  },
  {
   "cell_type": "code",
   "execution_count": 82,
   "metadata": {
    "collapsed": false
   },
   "outputs": [],
   "source": [
    "df_tix_per_diem = pd.DataFrame(tix_per_diem)"
   ]
  },
  {
   "cell_type": "code",
   "execution_count": 83,
   "metadata": {
    "collapsed": false
   },
   "outputs": [
    {
     "data": {
      "text/plain": [
       "<matplotlib.axes._subplots.AxesSubplot at 0x15168f208>"
      ]
     },
     "execution_count": 83,
     "metadata": {},
     "output_type": "execute_result"
    },
    {
     "data": {
      "image/png": "[encoded data removed]",
      "text/plain": [
       "<matplotlib.figure.Figure at 0x1516eac50>"
      ]
     },
     "metadata": {},
     "output_type": "display_data"
    }
   ],
   "source": [
    "df_tix_per_diem.plot(kind = 'line', x = 'Issue Date', y = 'tickets this day', legend = None)"
   ]
  },
  {
   "cell_type": "markdown",
   "metadata": {},
   "source": [
    "## 15. Make a graph of the amount of revenue collected per day."
   ]
  },
  {
   "cell_type": "markdown",
   "metadata": {},
   "source": [
    "Let's try this:\n",
    "<p>We already have the issue dates into a list\n",
    "<p>We can also group the information by date and find the sum of that revenue. Let's do that and see where we can take it from there."
   ]
  },
  {
   "cell_type": "code",
   "execution_count": 84,
   "metadata": {
    "collapsed": false
   },
   "outputs": [],
   "source": [
    "df_revenue_per_day = df_merged[['Issue Date', 'Fee for This Precinct']].groupby('Issue Date').sum()"
   ]
  },
  {
   "cell_type": "code",
   "execution_count": 85,
   "metadata": {
    "collapsed": false
   },
   "outputs": [
    {
     "data": {
      "text/html": [
       "<div>\n",
       "<table border=\"1\" class=\"dataframe\">\n",
       "  <thead>\n",
       "    <tr style=\"text-align: right;\">\n",
       "      <th></th>\n",
       "      <th>Fee for This Precinct</th>\n",
       "    </tr>\n",
       "    <tr>\n",
       "      <th>Issue Date</th>\n",
       "      <th></th>\n",
       "    </tr>\n",
       "  </thead>\n",
       "  <tbody>\n",
       "    <tr>\n",
       "      <th>01/01/1981</th>\n",
       "      <td>115.0</td>\n",
       "    </tr>\n",
       "    <tr>\n",
       "      <th>01/01/2000</th>\n",
       "      <td>295.0</td>\n",
       "    </tr>\n",
       "    <tr>\n",
       "      <th>01/01/2004</th>\n",
       "      <td>295.0</td>\n",
       "    </tr>\n",
       "    <tr>\n",
       "      <th>01/01/2009</th>\n",
       "      <td>95.0</td>\n",
       "    </tr>\n",
       "    <tr>\n",
       "      <th>01/01/2011</th>\n",
       "      <td>65.0</td>\n",
       "    </tr>\n",
       "    <tr>\n",
       "      <th>01/01/2012</th>\n",
       "      <td>65.0</td>\n",
       "    </tr>\n",
       "    <tr>\n",
       "      <th>01/01/2013</th>\n",
       "      <td>5290.0</td>\n",
       "    </tr>\n",
       "    <tr>\n",
       "      <th>01/01/2014</th>\n",
       "      <td>391355.0</td>\n",
       "    </tr>\n",
       "    <tr>\n",
       "      <th>01/01/2015</th>\n",
       "      <td>295.0</td>\n",
       "    </tr>\n",
       "    <tr>\n",
       "      <th>01/01/2017</th>\n",
       "      <td>65.0</td>\n",
       "    </tr>\n",
       "    <tr>\n",
       "      <th>01/01/2018</th>\n",
       "      <td>115.0</td>\n",
       "    </tr>\n",
       "    <tr>\n",
       "      <th>01/01/2019</th>\n",
       "      <td>65.0</td>\n",
       "    </tr>\n",
       "    <tr>\n",
       "      <th>01/01/2041</th>\n",
       "      <td>65.0</td>\n",
       "    </tr>\n",
       "    <tr>\n",
       "      <th>01/02/2004</th>\n",
       "      <td>160.0</td>\n",
       "    </tr>\n",
       "    <tr>\n",
       "      <th>01/02/2013</th>\n",
       "      <td>7450.0</td>\n",
       "    </tr>\n",
       "    <tr>\n",
       "      <th>01/02/2014</th>\n",
       "      <td>1997315.0</td>\n",
       "    </tr>\n",
       "    <tr>\n",
       "      <th>01/02/2015</th>\n",
       "      <td>225.0</td>\n",
       "    </tr>\n",
       "    <tr>\n",
       "      <th>01/02/2018</th>\n",
       "      <td>115.0</td>\n",
       "    </tr>\n",
       "    <tr>\n",
       "      <th>01/02/2019</th>\n",
       "      <td>115.0</td>\n",
       "    </tr>\n",
       "    <tr>\n",
       "      <th>01/03/2012</th>\n",
       "      <td>115.0</td>\n",
       "    </tr>\n",
       "    <tr>\n",
       "      <th>01/03/2013</th>\n",
       "      <td>3535.0</td>\n",
       "    </tr>\n",
       "    <tr>\n",
       "      <th>01/03/2014</th>\n",
       "      <td>107555.0</td>\n",
       "    </tr>\n",
       "    <tr>\n",
       "      <th>01/03/2017</th>\n",
       "      <td>60.0</td>\n",
       "    </tr>\n",
       "    <tr>\n",
       "      <th>01/03/2018</th>\n",
       "      <td>115.0</td>\n",
       "    </tr>\n",
       "    <tr>\n",
       "      <th>01/04/2000</th>\n",
       "      <td>460.0</td>\n",
       "    </tr>\n",
       "    <tr>\n",
       "      <th>01/04/2007</th>\n",
       "      <td>60.0</td>\n",
       "    </tr>\n",
       "    <tr>\n",
       "      <th>01/04/2012</th>\n",
       "      <td>115.0</td>\n",
       "    </tr>\n",
       "    <tr>\n",
       "      <th>01/04/2013</th>\n",
       "      <td>9445.0</td>\n",
       "    </tr>\n",
       "    <tr>\n",
       "      <th>01/04/2014</th>\n",
       "      <td>265555.0</td>\n",
       "    </tr>\n",
       "    <tr>\n",
       "      <th>01/04/2015</th>\n",
       "      <td>455.0</td>\n",
       "    </tr>\n",
       "    <tr>\n",
       "      <th>...</th>\n",
       "      <td>...</td>\n",
       "    </tr>\n",
       "    <tr>\n",
       "      <th>12/28/2014</th>\n",
       "      <td>345.0</td>\n",
       "    </tr>\n",
       "    <tr>\n",
       "      <th>12/28/2015</th>\n",
       "      <td>210.0</td>\n",
       "    </tr>\n",
       "    <tr>\n",
       "      <th>12/28/2018</th>\n",
       "      <td>115.0</td>\n",
       "    </tr>\n",
       "    <tr>\n",
       "      <th>12/28/2032</th>\n",
       "      <td>60.0</td>\n",
       "    </tr>\n",
       "    <tr>\n",
       "      <th>12/29/2001</th>\n",
       "      <td>115.0</td>\n",
       "    </tr>\n",
       "    <tr>\n",
       "      <th>12/29/2011</th>\n",
       "      <td>115.0</td>\n",
       "    </tr>\n",
       "    <tr>\n",
       "      <th>12/29/2013</th>\n",
       "      <td>600915.0</td>\n",
       "    </tr>\n",
       "    <tr>\n",
       "      <th>12/29/2014</th>\n",
       "      <td>475.0</td>\n",
       "    </tr>\n",
       "    <tr>\n",
       "      <th>12/29/2029</th>\n",
       "      <td>60.0</td>\n",
       "    </tr>\n",
       "    <tr>\n",
       "      <th>12/29/2030</th>\n",
       "      <td>165.0</td>\n",
       "    </tr>\n",
       "    <tr>\n",
       "      <th>12/29/2031</th>\n",
       "      <td>95.0</td>\n",
       "    </tr>\n",
       "    <tr>\n",
       "      <th>12/29/2063</th>\n",
       "      <td>115.0</td>\n",
       "    </tr>\n",
       "    <tr>\n",
       "      <th>12/30/2000</th>\n",
       "      <td>300.0</td>\n",
       "    </tr>\n",
       "    <tr>\n",
       "      <th>12/30/2001</th>\n",
       "      <td>345.0</td>\n",
       "    </tr>\n",
       "    <tr>\n",
       "      <th>12/30/2012</th>\n",
       "      <td>380.0</td>\n",
       "    </tr>\n",
       "    <tr>\n",
       "      <th>12/30/2013</th>\n",
       "      <td>1970310.0</td>\n",
       "    </tr>\n",
       "    <tr>\n",
       "      <th>12/30/2014</th>\n",
       "      <td>1000.0</td>\n",
       "    </tr>\n",
       "    <tr>\n",
       "      <th>12/30/2015</th>\n",
       "      <td>565.0</td>\n",
       "    </tr>\n",
       "    <tr>\n",
       "      <th>12/30/2019</th>\n",
       "      <td>115.0</td>\n",
       "    </tr>\n",
       "    <tr>\n",
       "      <th>12/30/2030</th>\n",
       "      <td>230.0</td>\n",
       "    </tr>\n",
       "    <tr>\n",
       "      <th>12/30/2031</th>\n",
       "      <td>115.0</td>\n",
       "    </tr>\n",
       "    <tr>\n",
       "      <th>12/31/2000</th>\n",
       "      <td>210.0</td>\n",
       "    </tr>\n",
       "    <tr>\n",
       "      <th>12/31/2001</th>\n",
       "      <td>230.0</td>\n",
       "    </tr>\n",
       "    <tr>\n",
       "      <th>12/31/2003</th>\n",
       "      <td>115.0</td>\n",
       "    </tr>\n",
       "    <tr>\n",
       "      <th>12/31/2010</th>\n",
       "      <td>60.0</td>\n",
       "    </tr>\n",
       "    <tr>\n",
       "      <th>12/31/2012</th>\n",
       "      <td>215.0</td>\n",
       "    </tr>\n",
       "    <tr>\n",
       "      <th>12/31/2013</th>\n",
       "      <td>1841905.0</td>\n",
       "    </tr>\n",
       "    <tr>\n",
       "      <th>12/31/2014</th>\n",
       "      <td>765.0</td>\n",
       "    </tr>\n",
       "    <tr>\n",
       "      <th>12/31/2015</th>\n",
       "      <td>175.0</td>\n",
       "    </tr>\n",
       "    <tr>\n",
       "      <th>12/31/2031</th>\n",
       "      <td>595.0</td>\n",
       "    </tr>\n",
       "  </tbody>\n",
       "</table>\n",
       "<p>1957 rows × 1 columns</p>\n",
       "</div>"
      ],
      "text/plain": [
       "            Fee for This Precinct\n",
       "Issue Date                       \n",
       "01/01/1981                  115.0\n",
       "01/01/2000                  295.0\n",
       "01/01/2004                  295.0\n",
       "01/01/2009                   95.0\n",
       "01/01/2011                   65.0\n",
       "01/01/2012                   65.0\n",
       "01/01/2013                 5290.0\n",
       "01/01/2014               391355.0\n",
       "01/01/2015                  295.0\n",
       "01/01/2017                   65.0\n",
       "01/01/2018                  115.0\n",
       "01/01/2019                   65.0\n",
       "01/01/2041                   65.0\n",
       "01/02/2004                  160.0\n",
       "01/02/2013                 7450.0\n",
       "01/02/2014              1997315.0\n",
       "01/02/2015                  225.0\n",
       "01/02/2018                  115.0\n",
       "01/02/2019                  115.0\n",
       "01/03/2012                  115.0\n",
       "01/03/2013                 3535.0\n",
       "01/03/2014               107555.0\n",
       "01/03/2017                   60.0\n",
       "01/03/2018                  115.0\n",
       "01/04/2000                  460.0\n",
       "01/04/2007                   60.0\n",
       "01/04/2012                  115.0\n",
       "01/04/2013                 9445.0\n",
       "01/04/2014               265555.0\n",
       "01/04/2015                  455.0\n",
       "...                           ...\n",
       "12/28/2014                  345.0\n",
       "12/28/2015                  210.0\n",
       "12/28/2018                  115.0\n",
       "12/28/2032                   60.0\n",
       "12/29/2001                  115.0\n",
       "12/29/2011                  115.0\n",
       "12/29/2013               600915.0\n",
       "12/29/2014                  475.0\n",
       "12/29/2029                   60.0\n",
       "12/29/2030                  165.0\n",
       "12/29/2031                   95.0\n",
       "12/29/2063                  115.0\n",
       "12/30/2000                  300.0\n",
       "12/30/2001                  345.0\n",
       "12/30/2012                  380.0\n",
       "12/30/2013              1970310.0\n",
       "12/30/2014                 1000.0\n",
       "12/30/2015                  565.0\n",
       "12/30/2019                  115.0\n",
       "12/30/2030                  230.0\n",
       "12/30/2031                  115.0\n",
       "12/31/2000                  210.0\n",
       "12/31/2001                  230.0\n",
       "12/31/2003                  115.0\n",
       "12/31/2010                   60.0\n",
       "12/31/2012                  215.0\n",
       "12/31/2013              1841905.0\n",
       "12/31/2014                  765.0\n",
       "12/31/2015                  175.0\n",
       "12/31/2031                  595.0\n",
       "\n",
       "[1957 rows x 1 columns]"
      ]
     },
     "execution_count": 85,
     "metadata": {},
     "output_type": "execute_result"
    }
   ],
   "source": [
    "df_revenue_per_day"
   ]
  },
  {
   "cell_type": "code",
   "execution_count": 86,
   "metadata": {
    "collapsed": false,
    "scrolled": false
   },
   "outputs": [],
   "source": [
    "date_and_revenue_dict = df_revenue_per_day.to_dict()['Fee for This Precinct']"
   ]
  },
  {
   "cell_type": "code",
   "execution_count": 87,
   "metadata": {
    "collapsed": false
   },
   "outputs": [
    {
     "name": "stdout",
     "output_type": "stream",
     "text": [
      "[{'Revenue Today': 60.0, 'Issue Date': '12/18/1970'}, {'Revenue Today': 135.0, 'Issue Date': '09/18/1971'}, {'Revenue Today': 115.0, 'Issue Date': '10/10/1971'}, {'Revenue Today': 115.0, 'Issue Date': '07/22/1973'}, {'Revenue Today': 45.0, 'Issue Date': '08/12/1973'}, {'Revenue Today': 45.0, 'Issue Date': '09/22/1973'}, {'Revenue Today': 90.0, 'Issue Date': '09/25/1973'}, {'Revenue Today': 115.0, 'Issue Date': '10/15/1973'}, {'Revenue Today': 115.0, 'Issue Date': '10/30/1973'}, {'Revenue Today': 115.0, 'Issue Date': '11/12/1973'}, {'Revenue Today': 45.0, 'Issue Date': '11/13/1973'}, {'Revenue Today': 115.0, 'Issue Date': '01/15/1974'}, {'Revenue Today': 65.0, 'Issue Date': '12/27/1976'}, {'Revenue Today': 115.0, 'Issue Date': '01/01/1981'}, {'Revenue Today': 155.0, 'Issue Date': '02/11/1981'}, {'Revenue Today': 130.0, 'Issue Date': '01/11/1987'}, {'Revenue Today': 65.0, 'Issue Date': '02/09/1987'}, {'Revenue Today': 115.0, 'Issue Date': '12/09/1990'}, {'Revenue Today': 115.0, 'Issue Date': '01/12/1991'}, {'Revenue Today': 295.0, 'Issue Date': '01/01/2000'}, {'Revenue Today': 460.0, 'Issue Date': '01/04/2000'}, {'Revenue Today': 65.0, 'Issue Date': '01/05/2000'}, {'Revenue Today': 275.0, 'Issue Date': '01/06/2000'}, {'Revenue Today': 325.0, 'Issue Date': '01/07/2000'}, {'Revenue Today': 325.0, 'Issue Date': '01/08/2000'}, {'Revenue Today': 140.0, 'Issue Date': '01/09/2000'}, {'Revenue Today': 245.0, 'Issue Date': '01/13/2000'}, {'Revenue Today': 115.0, 'Issue Date': '01/14/2000'}, {'Revenue Today': 230.0, 'Issue Date': '01/15/2000'}, {'Revenue Today': 115.0, 'Issue Date': '01/17/2000'}, {'Revenue Today': 60.0, 'Issue Date': '01/20/2000'}, {'Revenue Today': 45.0, 'Issue Date': '01/28/2000'}, {'Revenue Today': 65.0, 'Issue Date': '01/29/2000'}, {'Revenue Today': 65.0, 'Issue Date': '01/30/2000'}, {'Revenue Today': 115.0, 'Issue Date': '02/04/2000'}, {'Revenue Today': 115.0, 'Issue Date': '02/06/2000'}, {'Revenue Today': 280.0, 'Issue Date': '02/07/2000'}, {'Revenue Today': 115.0, 'Issue Date': '02/08/2000'}, {'Revenue Today': 115.0, 'Issue Date': '02/09/2000'}, {'Revenue Today': 390.0, 'Issue Date': '02/11/2000'}, {'Revenue Today': 115.0, 'Issue Date': '02/12/2000'}, {'Revenue Today': 225.0, 'Issue Date': '02/14/2000'}, {'Revenue Today': 65.0, 'Issue Date': '03/14/2000'}, {'Revenue Today': 115.0, 'Issue Date': '05/20/2000'}, {'Revenue Today': 65.0, 'Issue Date': '06/29/2000'}, {'Revenue Today': 65.0, 'Issue Date': '07/06/2000'}, {'Revenue Today': 115.0, 'Issue Date': '07/13/2000'}, {'Revenue Today': 180.0, 'Issue Date': '07/16/2000'}, {'Revenue Today': 65.0, 'Issue Date': '07/20/2000'}, {'Revenue Today': 115.0, 'Issue Date': '07/22/2000'}, {'Revenue Today': 165.0, 'Issue Date': '07/24/2000'}, {'Revenue Today': 115.0, 'Issue Date': '07/25/2000'}, {'Revenue Today': 175.0, 'Issue Date': '07/26/2000'}, {'Revenue Today': 115.0, 'Issue Date': '07/27/2000'}, {'Revenue Today': 245.0, 'Issue Date': '07/28/2000'}, {'Revenue Today': 110.0, 'Issue Date': '07/29/2000'}, {'Revenue Today': 115.0, 'Issue Date': '07/30/2000'}, {'Revenue Today': 180.0, 'Issue Date': '07/31/2000'}, {'Revenue Today': 275.0, 'Issue Date': '08/01/2000'}, {'Revenue Today': 270.0, 'Issue Date': '08/02/2000'}, {'Revenue Today': 60.0, 'Issue Date': '08/03/2000'}, {'Revenue Today': 45.0, 'Issue Date': '08/06/2000'}, {'Revenue Today': 230.0, 'Issue Date': '08/07/2000'}, {'Revenue Today': 115.0, 'Issue Date': '08/08/2000'}, {'Revenue Today': 115.0, 'Issue Date': '08/09/2000'}, {'Revenue Today': 115.0, 'Issue Date': '08/10/2000'}, {'Revenue Today': 180.0, 'Issue Date': '08/11/2000'}, {'Revenue Today': 115.0, 'Issue Date': '08/12/2000'}, {'Revenue Today': 115.0, 'Issue Date': '08/13/2000'}, {'Revenue Today': 195.0, 'Issue Date': '08/14/2000'}, {'Revenue Today': 45.0, 'Issue Date': '08/16/2000'}, {'Revenue Today': 65.0, 'Issue Date': '08/18/2000'}, {'Revenue Today': 165.0, 'Issue Date': '08/19/2000'}, {'Revenue Today': 115.0, 'Issue Date': '08/20/2000'}, {'Revenue Today': 410.0, 'Issue Date': '08/24/2000'}, {'Revenue Today': 180.0, 'Issue Date': '08/26/2000'}, {'Revenue Today': 115.0, 'Issue Date': '08/27/2000'}, {'Revenue Today': 270.0, 'Issue Date': '08/29/2000'}, {'Revenue Today': 180.0, 'Issue Date': '08/31/2000'}, {'Revenue Today': 65.0, 'Issue Date': '09/09/2000'}, {'Revenue Today': 60.0, 'Issue Date': '09/10/2000'}, {'Revenue Today': 90.0, 'Issue Date': '09/13/2000'}, {'Revenue Today': 115.0, 'Issue Date': '09/18/2000'}, {'Revenue Today': 115.0, 'Issue Date': '09/19/2000'}, {'Revenue Today': 180.0, 'Issue Date': '09/22/2000'}, {'Revenue Today': 510.0, 'Issue Date': '09/23/2000'}, {'Revenue Today': 115.0, 'Issue Date': '09/26/2000'}, {'Revenue Today': 65.0, 'Issue Date': '09/27/2000'}, {'Revenue Today': 115.0, 'Issue Date': '09/28/2000'}, {'Revenue Today': 95.0, 'Issue Date': '09/29/2000'}, {'Revenue Today': 355.0, 'Issue Date': '10/01/2000'}, {'Revenue Today': 115.0, 'Issue Date': '10/02/2000'}, {'Revenue Today': 750.0, 'Issue Date': '10/04/2000'}, {'Revenue Today': 130.0, 'Issue Date': '10/06/2000'}, {'Revenue Today': 345.0, 'Issue Date': '10/07/2000'}, {'Revenue Today': 150.0, 'Issue Date': '10/08/2000'}, {'Revenue Today': 230.0, 'Issue Date': '10/09/2000'}, {'Revenue Today': 45.0, 'Issue Date': '10/14/2000'}, {'Revenue Today': 65.0, 'Issue Date': '10/15/2000'}, {'Revenue Today': 295.0, 'Issue Date': '10/16/2000'}, {'Revenue Today': 60.0, 'Issue Date': '10/21/2000'}, {'Revenue Today': 45.0, 'Issue Date': '10/23/2000'}, {'Revenue Today': 115.0, 'Issue Date': '10/24/2000'}, {'Revenue Today': 280.0, 'Issue Date': '10/26/2000'}, {'Revenue Today': 115.0, 'Issue Date': '10/27/2000'}, {'Revenue Today': 165.0, 'Issue Date': '10/30/2000'}, {'Revenue Today': 230.0, 'Issue Date': '10/31/2000'}, {'Revenue Today': 165.0, 'Issue Date': '11/01/2000'}, {'Revenue Today': 165.0, 'Issue Date': '11/02/2000'}, {'Revenue Today': 115.0, 'Issue Date': '11/03/2000'}, {'Revenue Today': 65.0, 'Issue Date': '11/05/2000'}, {'Revenue Today': 345.0, 'Issue Date': '11/06/2000'}, {'Revenue Today': 180.0, 'Issue Date': '11/07/2000'}, {'Revenue Today': 45.0, 'Issue Date': '11/08/2000'}, {'Revenue Today': 275.0, 'Issue Date': '11/13/2000'}, {'Revenue Today': 115.0, 'Issue Date': '11/14/2000'}, {'Revenue Today': 115.0, 'Issue Date': '11/17/2000'}, {'Revenue Today': 45.0, 'Issue Date': '11/18/2000'}, {'Revenue Today': 115.0, 'Issue Date': '11/19/2000'}, {'Revenue Today': 60.0, 'Issue Date': '11/20/2000'}, {'Revenue Today': 115.0, 'Issue Date': '11/22/2000'}, {'Revenue Today': 115.0, 'Issue Date': '11/23/2000'}, {'Revenue Today': 110.0, 'Issue Date': '11/25/2000'}, {'Revenue Today': 130.0, 'Issue Date': '11/26/2000'}, {'Revenue Today': 45.0, 'Issue Date': '11/30/2000'}, {'Revenue Today': 210.0, 'Issue Date': '12/01/2000'}, {'Revenue Today': 115.0, 'Issue Date': '12/03/2000'}, {'Revenue Today': 115.0, 'Issue Date': '12/05/2000'}, {'Revenue Today': 115.0, 'Issue Date': '12/08/2000'}, {'Revenue Today': 115.0, 'Issue Date': '12/11/2000'}, {'Revenue Today': 455.0, 'Issue Date': '12/12/2000'}, {'Revenue Today': 345.0, 'Issue Date': '12/13/2000'}, {'Revenue Today': 180.0, 'Issue Date': '12/18/2000'}, {'Revenue Today': 65.0, 'Issue Date': '12/20/2000'}, {'Revenue Today': 230.0, 'Issue Date': '12/22/2000'}, {'Revenue Today': 400.0, 'Issue Date': '12/23/2000'}, {'Revenue Today': 115.0, 'Issue Date': '12/24/2000'}, {'Revenue Today': 115.0, 'Issue Date': '12/25/2000'}, {'Revenue Today': 290.0, 'Issue Date': '12/26/2000'}, {'Revenue Today': 280.0, 'Issue Date': '12/27/2000'}, {'Revenue Today': 95.0, 'Issue Date': '12/28/2000'}, {'Revenue Today': 300.0, 'Issue Date': '12/30/2000'}, {'Revenue Today': 210.0, 'Issue Date': '12/31/2000'}, {'Revenue Today': 95.0, 'Issue Date': '01/06/2001'}, {'Revenue Today': 115.0, 'Issue Date': '01/07/2001'}, {'Revenue Today': 115.0, 'Issue Date': '01/08/2001'}, {'Revenue Today': 180.0, 'Issue Date': '01/09/2001'}, {'Revenue Today': 230.0, 'Issue Date': '01/11/2001'}, {'Revenue Today': 165.0, 'Issue Date': '01/16/2001'}, {'Revenue Today': 115.0, 'Issue Date': '01/25/2001'}, {'Revenue Today': 115.0, 'Issue Date': '01/26/2001'}, {'Revenue Today': 115.0, 'Issue Date': '01/27/2001'}, {'Revenue Today': 65.0, 'Issue Date': '01/28/2001'}, {'Revenue Today': 95.0, 'Issue Date': '02/07/2001'}, {'Revenue Today': 115.0, 'Issue Date': '02/11/2001'}, {'Revenue Today': 115.0, 'Issue Date': '02/12/2001'}, {'Revenue Today': 115.0, 'Issue Date': '08/01/2001'}, {'Revenue Today': 115.0, 'Issue Date': '08/23/2001'}, {'Revenue Today': 60.0, 'Issue Date': '09/08/2001'}, {'Revenue Today': 115.0, 'Issue Date': '09/10/2001'}, {'Revenue Today': 115.0, 'Issue Date': '09/30/2001'}, {'Revenue Today': 45.0, 'Issue Date': '10/01/2001'}, {'Revenue Today': 65.0, 'Issue Date': '11/11/2001'}, {'Revenue Today': 115.0, 'Issue Date': '12/12/2001'}, {'Revenue Today': 345.0, 'Issue Date': '12/13/2001'}, {'Revenue Today': 115.0, 'Issue Date': '12/15/2001'}, {'Revenue Today': 255.0, 'Issue Date': '12/20/2001'}, {'Revenue Today': 345.0, 'Issue Date': '12/22/2001'}, {'Revenue Today': 390.0, 'Issue Date': '12/23/2001'}, {'Revenue Today': 115.0, 'Issue Date': '12/26/2001'}, {'Revenue Today': 230.0, 'Issue Date': '12/27/2001'}, {'Revenue Today': 180.0, 'Issue Date': '12/28/2001'}, {'Revenue Today': 115.0, 'Issue Date': '12/29/2001'}, {'Revenue Today': 345.0, 'Issue Date': '12/30/2001'}, {'Revenue Today': 230.0, 'Issue Date': '12/31/2001'}, {'Revenue Today': 45.0, 'Issue Date': '08/02/2002'}, {'Revenue Today': 115.0, 'Issue Date': '09/08/2002'}, {'Revenue Today': 115.0, 'Issue Date': '09/30/2002'}, {'Revenue Today': 130.0, 'Issue Date': '10/17/2002'}, {'Revenue Today': 115.0, 'Issue Date': '07/16/2003'}, {'Revenue Today': 65.0, 'Issue Date': '07/25/2003'}, {'Revenue Today': 60.0, 'Issue Date': '07/27/2003'}, {'Revenue Today': 65.0, 'Issue Date': '08/04/2003'}, {'Revenue Today': 115.0, 'Issue Date': '08/06/2003'}, {'Revenue Today': 115.0, 'Issue Date': '08/16/2003'}, {'Revenue Today': 115.0, 'Issue Date': '08/20/2003'}, {'Revenue Today': 65.0, 'Issue Date': '09/01/2003'}, {'Revenue Today': 115.0, 'Issue Date': '09/18/2003'}, {'Revenue Today': 45.0, 'Issue Date': '09/25/2003'}, {'Revenue Today': 35.0, 'Issue Date': '09/27/2003'}, {'Revenue Today': 210.0, 'Issue Date': '10/01/2003'}, {'Revenue Today': 230.0, 'Issue Date': '10/03/2003'}, {'Revenue Today': 115.0, 'Issue Date': '10/04/2003'}, {'Revenue Today': 65.0, 'Issue Date': '10/05/2003'}, {'Revenue Today': 225.0, 'Issue Date': '10/06/2003'}, {'Revenue Today': 115.0, 'Issue Date': '10/09/2003'}, {'Revenue Today': 95.0, 'Issue Date': '10/10/2003'}, {'Revenue Today': 65.0, 'Issue Date': '10/15/2003'}, {'Revenue Today': 115.0, 'Issue Date': '11/04/2003'}, {'Revenue Today': 65.0, 'Issue Date': '11/11/2003'}, {'Revenue Today': 115.0, 'Issue Date': '11/12/2003'}, {'Revenue Today': nan, 'Issue Date': '11/14/2003'}, {'Revenue Today': 65.0, 'Issue Date': '11/15/2003'}, {'Revenue Today': 60.0, 'Issue Date': '12/01/2003'}, {'Revenue Today': 45.0, 'Issue Date': '12/02/2003'}, {'Revenue Today': 115.0, 'Issue Date': '12/05/2003'}, {'Revenue Today': 115.0, 'Issue Date': '12/08/2003'}, {'Revenue Today': 65.0, 'Issue Date': '12/11/2003'}, {'Revenue Today': 115.0, 'Issue Date': '12/16/2003'}, {'Revenue Today': 115.0, 'Issue Date': '12/18/2003'}, {'Revenue Today': 35.0, 'Issue Date': '12/21/2003'}, {'Revenue Today': 65.0, 'Issue Date': '12/24/2003'}, {'Revenue Today': 65.0, 'Issue Date': '12/26/2003'}, {'Revenue Today': 115.0, 'Issue Date': '12/31/2003'}, {'Revenue Today': 295.0, 'Issue Date': '01/01/2004'}, {'Revenue Today': 160.0, 'Issue Date': '01/02/2004'}, {'Revenue Today': 115.0, 'Issue Date': '01/06/2004'}, {'Revenue Today': 60.0, 'Issue Date': '01/10/2004'}, {'Revenue Today': 160.0, 'Issue Date': '01/11/2004'}, {'Revenue Today': 115.0, 'Issue Date': '01/12/2004'}, {'Revenue Today': 115.0, 'Issue Date': '01/25/2004'}, {'Revenue Today': 65.0, 'Issue Date': '01/27/2004'}, {'Revenue Today': 115.0, 'Issue Date': '01/29/2004'}, {'Revenue Today': 590.0, 'Issue Date': '01/31/2004'}, {'Revenue Today': 230.0, 'Issue Date': '02/03/2004'}, {'Revenue Today': 115.0, 'Issue Date': '02/04/2004'}, {'Revenue Today': 45.0, 'Issue Date': '02/06/2004'}, {'Revenue Today': 575.0, 'Issue Date': '02/11/2004'}, {'Revenue Today': 95.0, 'Issue Date': '02/13/2004'}, {'Revenue Today': 45.0, 'Issue Date': '08/06/2004'}, {'Revenue Today': 45.0, 'Issue Date': '09/04/2004'}, {'Revenue Today': 165.0, 'Issue Date': '09/24/2004'}, {'Revenue Today': 115.0, 'Issue Date': '02/06/2005'}, {'Revenue Today': 115.0, 'Issue Date': '08/03/2005'}, {'Revenue Today': 115.0, 'Issue Date': '09/10/2005'}, {'Revenue Today': 95.0, 'Issue Date': '12/09/2005'}, {'Revenue Today': 95.0, 'Issue Date': '12/22/2005'}, {'Revenue Today': 115.0, 'Issue Date': '07/25/2006'}, {'Revenue Today': 45.0, 'Issue Date': '10/08/2006'}, {'Revenue Today': 45.0, 'Issue Date': '10/18/2006'}, {'Revenue Today': 60.0, 'Issue Date': '01/04/2007'}, {'Revenue Today': 115.0, 'Issue Date': '02/07/2007'}, {'Revenue Today': 65.0, 'Issue Date': '08/09/2007'}, {'Revenue Today': 115.0, 'Issue Date': '08/16/2007'}, {'Revenue Today': 115.0, 'Issue Date': '09/06/2007'}, {'Revenue Today': 115.0, 'Issue Date': '10/24/2007'}, {'Revenue Today': 115.0, 'Issue Date': '11/11/2007'}, {'Revenue Today': 95.0, 'Issue Date': '12/07/2007'}, {'Revenue Today': 115.0, 'Issue Date': '01/07/2008'}, {'Revenue Today': 115.0, 'Issue Date': '08/06/2008'}, {'Revenue Today': 115.0, 'Issue Date': '08/15/2008'}, {'Revenue Today': 115.0, 'Issue Date': '12/12/2008'}, {'Revenue Today': 95.0, 'Issue Date': '01/01/2009'}, {'Revenue Today': 65.0, 'Issue Date': '01/08/2009'}, {'Revenue Today': 65.0, 'Issue Date': '08/09/2009'}, {'Revenue Today': 165.0, 'Issue Date': '09/09/2009'}, {'Revenue Today': 115.0, 'Issue Date': '09/21/2009'}, {'Revenue Today': 60.0, 'Issue Date': '10/08/2009'}, {'Revenue Today': 45.0, 'Issue Date': '10/10/2009'}, {'Revenue Today': 390.0, 'Issue Date': '01/09/2010'}, {'Revenue Today': 230.0, 'Issue Date': '01/10/2010'}, {'Revenue Today': 120.0, 'Issue Date': '01/11/2010'}, {'Revenue Today': 180.0, 'Issue Date': '01/13/2010'}, {'Revenue Today': 45.0, 'Issue Date': '01/16/2010'}, {'Revenue Today': 115.0, 'Issue Date': '01/30/2010'}, {'Revenue Today': 115.0, 'Issue Date': '02/04/2010'}, {'Revenue Today': 115.0, 'Issue Date': '02/07/2010'}, {'Revenue Today': 115.0, 'Issue Date': '02/17/2010'}, {'Revenue Today': 115.0, 'Issue Date': '05/08/2010'}, {'Revenue Today': 115.0, 'Issue Date': '07/10/2010'}, {'Revenue Today': 115.0, 'Issue Date': '07/20/2010'}, {'Revenue Today': 230.0, 'Issue Date': '07/21/2010'}, {'Revenue Today': 65.0, 'Issue Date': '07/22/2010'}, {'Revenue Today': 230.0, 'Issue Date': '07/23/2010'}, {'Revenue Today': 65.0, 'Issue Date': '07/25/2010'}, {'Revenue Today': 115.0, 'Issue Date': '07/30/2010'}, {'Revenue Today': 230.0, 'Issue Date': '08/09/2010'}, {'Revenue Today': 115.0, 'Issue Date': '08/13/2010'}, {'Revenue Today': 60.0, 'Issue Date': '08/17/2010'}, {'Revenue Today': 45.0, 'Issue Date': '08/22/2010'}, {'Revenue Today': 65.0, 'Issue Date': '08/23/2010'}, {'Revenue Today': 115.0, 'Issue Date': '09/11/2010'}, {'Revenue Today': 45.0, 'Issue Date': '09/20/2010'}, {'Revenue Today': 60.0, 'Issue Date': '09/21/2010'}, {'Revenue Today': 115.0, 'Issue Date': '09/22/2010'}, {'Revenue Today': 180.0, 'Issue Date': '09/26/2010'}, {'Revenue Today': 115.0, 'Issue Date': '09/29/2010'}, {'Revenue Today': 115.0, 'Issue Date': '09/30/2010'}, {'Revenue Today': 65.0, 'Issue Date': '10/02/2010'}, {'Revenue Today': 115.0, 'Issue Date': '10/04/2010'}, {'Revenue Today': 65.0, 'Issue Date': '10/05/2010'}, {'Revenue Today': 115.0, 'Issue Date': '10/06/2010'}, {'Revenue Today': 60.0, 'Issue Date': '10/07/2010'}, {'Revenue Today': 165.0, 'Issue Date': '10/09/2010'}, {'Revenue Today': 350.0, 'Issue Date': '10/10/2010'}, {'Revenue Today': 295.0, 'Issue Date': '10/11/2010'}, {'Revenue Today': 295.0, 'Issue Date': '10/13/2010'}, {'Revenue Today': 65.0, 'Issue Date': '10/14/2010'}, {'Revenue Today': 230.0, 'Issue Date': '10/15/2010'}, {'Revenue Today': 115.0, 'Issue Date': '10/16/2010'}, {'Revenue Today': 115.0, 'Issue Date': '10/17/2010'}, {'Revenue Today': 45.0, 'Issue Date': '10/23/2010'}, {'Revenue Today': 115.0, 'Issue Date': '10/24/2010'}, {'Revenue Today': 115.0, 'Issue Date': '10/25/2010'}, {'Revenue Today': 45.0, 'Issue Date': '10/29/2010'}, {'Revenue Today': 160.0, 'Issue Date': '10/31/2010'}, {'Revenue Today': 65.0, 'Issue Date': '11/01/2010'}, {'Revenue Today': 60.0, 'Issue Date': '11/10/2010'}, {'Revenue Today': 65.0, 'Issue Date': '11/11/2010'}, {'Revenue Today': 115.0, 'Issue Date': '12/04/2010'}, {'Revenue Today': 115.0, 'Issue Date': '12/08/2010'}, {'Revenue Today': 35.0, 'Issue Date': '12/10/2010'}, {'Revenue Today': 115.0, 'Issue Date': '12/16/2010'}, {'Revenue Today': 130.0, 'Issue Date': '12/23/2010'}, {'Revenue Today': 60.0, 'Issue Date': '12/31/2010'}, {'Revenue Today': 65.0, 'Issue Date': '01/01/2011'}, {'Revenue Today': 210.0, 'Issue Date': '01/06/2011'}, {'Revenue Today': 115.0, 'Issue Date': '01/07/2011'}, {'Revenue Today': 115.0, 'Issue Date': '01/08/2011'}, {'Revenue Today': 115.0, 'Issue Date': '01/09/2011'}, {'Revenue Today': 180.0, 'Issue Date': '01/10/2011'}, {'Revenue Today': 410.0, 'Issue Date': '01/11/2011'}, {'Revenue Today': 225.0, 'Issue Date': '01/12/2011'}, {'Revenue Today': 345.0, 'Issue Date': '01/13/2011'}, {'Revenue Today': 65.0, 'Issue Date': '01/16/2011'}, {'Revenue Today': 35.0, 'Issue Date': '01/19/2011'}, {'Revenue Today': 115.0, 'Issue Date': '01/22/2011'}, {'Revenue Today': 115.0, 'Issue Date': '01/23/2011'}, {'Revenue Today': 175.0, 'Issue Date': '01/29/2011'}, {'Revenue Today': 45.0, 'Issue Date': '01/30/2011'}, {'Revenue Today': 410.0, 'Issue Date': '01/31/2011'}, {'Revenue Today': 115.0, 'Issue Date': '02/02/2011'}, {'Revenue Today': 95.0, 'Issue Date': '02/04/2011'}, {'Revenue Today': 325.0, 'Issue Date': '02/10/2011'}, {'Revenue Today': 360.0, 'Issue Date': '02/11/2011'}, {'Revenue Today': 160.0, 'Issue Date': '02/12/2011'}, {'Revenue Today': 115.0, 'Issue Date': '07/22/2011'}, {'Revenue Today': 65.0, 'Issue Date': '07/23/2011'}, {'Revenue Today': 230.0, 'Issue Date': '07/25/2011'}, {'Revenue Today': 35.0, 'Issue Date': '07/29/2011'}, {'Revenue Today': 45.0, 'Issue Date': '07/30/2011'}, {'Revenue Today': 260.0, 'Issue Date': '08/04/2011'}, {'Revenue Today': 115.0, 'Issue Date': '08/06/2011'}, {'Revenue Today': 115.0, 'Issue Date': '08/07/2011'}, {'Revenue Today': 115.0, 'Issue Date': '08/08/2011'}, {'Revenue Today': 115.0, 'Issue Date': '08/10/2011'}, {'Revenue Today': 320.0, 'Issue Date': '08/12/2011'}, {'Revenue Today': 65.0, 'Issue Date': '08/14/2011'}, {'Revenue Today': 65.0, 'Issue Date': '08/17/2011'}, {'Revenue Today': 115.0, 'Issue Date': '08/22/2011'}, {'Revenue Today': 290.0, 'Issue Date': '08/23/2011'}, {'Revenue Today': 60.0, 'Issue Date': '08/26/2011'}, {'Revenue Today': 65.0, 'Issue Date': '08/31/2011'}, {'Revenue Today': 295.0, 'Issue Date': '09/02/2011'}, {'Revenue Today': 115.0, 'Issue Date': '09/07/2011'}, {'Revenue Today': 65.0, 'Issue Date': '09/09/2011'}, {'Revenue Today': 770.0, 'Issue Date': '09/10/2011'}, {'Revenue Today': 210.0, 'Issue Date': '09/11/2011'}, {'Revenue Today': 130.0, 'Issue Date': '09/12/2011'}, {'Revenue Today': 345.0, 'Issue Date': '09/13/2011'}, {'Revenue Today': 115.0, 'Issue Date': '09/16/2011'}, {'Revenue Today': 230.0, 'Issue Date': '09/18/2011'}, {'Revenue Today': 115.0, 'Issue Date': '09/19/2011'}, {'Revenue Today': 45.0, 'Issue Date': '09/23/2011'}, {'Revenue Today': 65.0, 'Issue Date': '09/25/2011'}, {'Revenue Today': 115.0, 'Issue Date': '09/26/2011'}, {'Revenue Today': 95.0, 'Issue Date': '09/27/2011'}, {'Revenue Today': 65.0, 'Issue Date': '09/29/2011'}, {'Revenue Today': 205.0, 'Issue Date': '10/01/2011'}, {'Revenue Today': 230.0, 'Issue Date': '10/03/2011'}, {'Revenue Today': 115.0, 'Issue Date': '10/08/2011'}, {'Revenue Today': 115.0, 'Issue Date': '10/09/2011'}, {'Revenue Today': 115.0, 'Issue Date': '10/10/2011'}, {'Revenue Today': 115.0, 'Issue Date': '10/14/2011'}, {'Revenue Today': 115.0, 'Issue Date': '10/15/2011'}, {'Revenue Today': 115.0, 'Issue Date': '10/19/2011'}, {'Revenue Today': 115.0, 'Issue Date': '10/25/2011'}, {'Revenue Today': 175.0, 'Issue Date': '10/27/2011'}, {'Revenue Today': 210.0, 'Issue Date': '11/01/2011'}, {'Revenue Today': 180.0, 'Issue Date': '11/02/2011'}, {'Revenue Today': 295.0, 'Issue Date': '11/05/2011'}, {'Revenue Today': 60.0, 'Issue Date': '11/07/2011'}, {'Revenue Today': 65.0, 'Issue Date': '11/10/2011'}, {'Revenue Today': 130.0, 'Issue Date': '11/11/2011'}, {'Revenue Today': 115.0, 'Issue Date': '11/12/2011'}, {'Revenue Today': 240.0, 'Issue Date': '11/13/2011'}, {'Revenue Today': 115.0, 'Issue Date': '11/19/2011'}, {'Revenue Today': 180.0, 'Issue Date': '11/20/2011'}, {'Revenue Today': 115.0, 'Issue Date': '11/21/2011'}, {'Revenue Today': 115.0, 'Issue Date': '11/22/2011'}, {'Revenue Today': 115.0, 'Issue Date': '11/23/2011'}, {'Revenue Today': 115.0, 'Issue Date': '11/24/2011'}, {'Revenue Today': 115.0, 'Issue Date': '11/26/2011'}, {'Revenue Today': 95.0, 'Issue Date': '11/27/2011'}, {'Revenue Today': 115.0, 'Issue Date': '11/28/2011'}, {'Revenue Today': 115.0, 'Issue Date': '11/30/2011'}, {'Revenue Today': 115.0, 'Issue Date': '12/10/2011'}, {'Revenue Today': 230.0, 'Issue Date': '12/11/2011'}, {'Revenue Today': 115.0, 'Issue Date': '12/12/2011'}, {'Revenue Today': 115.0, 'Issue Date': '12/13/2011'}, {'Revenue Today': 115.0, 'Issue Date': '12/19/2011'}, {'Revenue Today': 165.0, 'Issue Date': '12/21/2011'}, {'Revenue Today': 180.0, 'Issue Date': '12/22/2011'}, {'Revenue Today': 45.0, 'Issue Date': '12/23/2011'}, {'Revenue Today': 115.0, 'Issue Date': '12/27/2011'}, {'Revenue Today': 115.0, 'Issue Date': '12/29/2011'}, {'Revenue Today': 65.0, 'Issue Date': '01/01/2012'}, {'Revenue Today': 115.0, 'Issue Date': '01/03/2012'}, {'Revenue Today': 115.0, 'Issue Date': '01/04/2012'}, {'Revenue Today': 65.0, 'Issue Date': '01/06/2012'}, {'Revenue Today': 230.0, 'Issue Date': '01/08/2012'}, {'Revenue Today': 35.0, 'Issue Date': '01/13/2012'}, {'Revenue Today': 115.0, 'Issue Date': '01/14/2012'}, {'Revenue Today': 115.0, 'Issue Date': '01/26/2012'}, {'Revenue Today': 95.0, 'Issue Date': '02/02/2012'}, {'Revenue Today': 115.0, 'Issue Date': '02/03/2012'}, {'Revenue Today': 115.0, 'Issue Date': '02/09/2012'}, {'Revenue Today': 45.0, 'Issue Date': '02/10/2012'}, {'Revenue Today': 115.0, 'Issue Date': '02/11/2012'}, {'Revenue Today': 440.0, 'Issue Date': '02/12/2012'}, {'Revenue Today': 115.0, 'Issue Date': '02/14/2012'}, {'Revenue Today': 60.0, 'Issue Date': '03/28/2012'}, {'Revenue Today': 115.0, 'Issue Date': '04/25/2012'}, {'Revenue Today': 115.0, 'Issue Date': '05/10/2012'}, {'Revenue Today': 115.0, 'Issue Date': '05/28/2012'}, {'Revenue Today': 190.0, 'Issue Date': '06/25/2012'}, {'Revenue Today': 230.0, 'Issue Date': '07/03/2012'}, {'Revenue Today': 130.0, 'Issue Date': '07/08/2012'}, {'Revenue Today': 115.0, 'Issue Date': '07/09/2012'}, {'Revenue Today': 160.0, 'Issue Date': '07/10/2012'}, {'Revenue Today': 45.0, 'Issue Date': '07/13/2012'}, {'Revenue Today': 180.0, 'Issue Date': '07/15/2012'}, {'Revenue Today': 65.0, 'Issue Date': '07/16/2012'}, {'Revenue Today': 95.0, 'Issue Date': '07/17/2012'}, {'Revenue Today': 115.0, 'Issue Date': '07/18/2012'}, {'Revenue Today': 115.0, 'Issue Date': '07/19/2012'}, {'Revenue Today': 160.0, 'Issue Date': '07/20/2012'}, {'Revenue Today': 180.0, 'Issue Date': '07/22/2012'}, {'Revenue Today': 670.0, 'Issue Date': '07/23/2012'}, {'Revenue Today': 775.0, 'Issue Date': '07/24/2012'}, {'Revenue Today': 230.0, 'Issue Date': '07/25/2012'}, {'Revenue Today': 550.0, 'Issue Date': '07/26/2012'}, {'Revenue Today': 180.0, 'Issue Date': '07/27/2012'}, {'Revenue Today': 230.0, 'Issue Date': '07/28/2012'}, {'Revenue Today': 475.0, 'Issue Date': '07/30/2012'}, {'Revenue Today': 455.0, 'Issue Date': '07/31/2012'}, {'Revenue Today': 65.0, 'Issue Date': '08/01/2012'}, {'Revenue Today': 230.0, 'Issue Date': '08/02/2012'}, {'Revenue Today': 470.0, 'Issue Date': '08/03/2012'}, {'Revenue Today': 115.0, 'Issue Date': '08/04/2012'}, {'Revenue Today': 45.0, 'Issue Date': '08/05/2012'}, {'Revenue Today': 665.0, 'Issue Date': '08/06/2012'}, {'Revenue Today': 65.0, 'Issue Date': '08/07/2012'}, {'Revenue Today': 115.0, 'Issue Date': '08/08/2012'}, {'Revenue Today': 425.0, 'Issue Date': '08/09/2012'}, {'Revenue Today': 160.0, 'Issue Date': '08/10/2012'}, {'Revenue Today': 505.0, 'Issue Date': '08/11/2012'}, {'Revenue Today': 525.0, 'Issue Date': '08/12/2012'}, {'Revenue Today': 515.0, 'Issue Date': '08/13/2012'}, {'Revenue Today': 495.0, 'Issue Date': '08/14/2012'}, {'Revenue Today': 95.0, 'Issue Date': '08/16/2012'}, {'Revenue Today': 115.0, 'Issue Date': '08/17/2012'}, {'Revenue Today': 45.0, 'Issue Date': '08/18/2012'}, {'Revenue Today': 230.0, 'Issue Date': '08/21/2012'}, {'Revenue Today': 115.0, 'Issue Date': '08/22/2012'}, {'Revenue Today': 275.0, 'Issue Date': '08/23/2012'}, {'Revenue Today': 115.0, 'Issue Date': '08/24/2012'}, {'Revenue Today': 115.0, 'Issue Date': '08/25/2012'}, {'Revenue Today': 225.0, 'Issue Date': '08/26/2012'}, {'Revenue Today': 280.0, 'Issue Date': '08/27/2012'}, {'Revenue Today': 115.0, 'Issue Date': '08/28/2012'}, {'Revenue Today': 525.0, 'Issue Date': '08/30/2012'}, {'Revenue Today': 575.0, 'Issue Date': '08/31/2012'}, {'Revenue Today': 405.0, 'Issue Date': '09/02/2012'}, {'Revenue Today': 945.0, 'Issue Date': '09/03/2012'}, {'Revenue Today': 115.0, 'Issue Date': '09/04/2012'}, {'Revenue Today': 110.0, 'Issue Date': '09/05/2012'}, {'Revenue Today': 295.0, 'Issue Date': '09/06/2012'}, {'Revenue Today': 180.0, 'Issue Date': '09/07/2012'}, {'Revenue Today': 540.0, 'Issue Date': '09/09/2012'}, {'Revenue Today': 270.0, 'Issue Date': '09/10/2012'}, {'Revenue Today': 210.0, 'Issue Date': '09/11/2012'}, {'Revenue Today': 295.0, 'Issue Date': '09/12/2012'}, {'Revenue Today': 945.0, 'Issue Date': '09/13/2012'}, {'Revenue Today': 210.0, 'Issue Date': '09/14/2012'}, {'Revenue Today': 230.0, 'Issue Date': '09/15/2012'}, {'Revenue Today': 115.0, 'Issue Date': '09/16/2012'}, {'Revenue Today': 110.0, 'Issue Date': '09/17/2012'}, {'Revenue Today': 160.0, 'Issue Date': '09/20/2012'}, {'Revenue Today': 210.0, 'Issue Date': '09/21/2012'}, {'Revenue Today': 130.0, 'Issue Date': '09/22/2012'}, {'Revenue Today': 115.0, 'Issue Date': '09/23/2012'}, {'Revenue Today': 345.0, 'Issue Date': '09/24/2012'}, {'Revenue Today': 230.0, 'Issue Date': '09/25/2012'}, {'Revenue Today': 115.0, 'Issue Date': '09/26/2012'}, {'Revenue Today': 115.0, 'Issue Date': '09/28/2012'}, {'Revenue Today': 230.0, 'Issue Date': '09/29/2012'}, {'Revenue Today': 1180.0, 'Issue Date': '09/30/2012'}, {'Revenue Today': 200.0, 'Issue Date': '10/01/2012'}, {'Revenue Today': 95.0, 'Issue Date': '10/02/2012'}, {'Revenue Today': 480.0, 'Issue Date': '10/03/2012'}, {'Revenue Today': 275.0, 'Issue Date': '10/04/2012'}, {'Revenue Today': 635.0, 'Issue Date': '10/05/2012'}, {'Revenue Today': 180.0, 'Issue Date': '10/06/2012'}, {'Revenue Today': 105.0, 'Issue Date': '10/07/2012'}, {'Revenue Today': 180.0, 'Issue Date': '10/08/2012'}, {'Revenue Today': 230.0, 'Issue Date': '10/09/2012'}, {'Revenue Today': 115.0, 'Issue Date': '10/10/2012'}, {'Revenue Today': 1115.0, 'Issue Date': '10/11/2012'}, {'Revenue Today': 330.0, 'Issue Date': '10/12/2012'}, {'Revenue Today': 1050.0, 'Issue Date': '10/13/2012'}, {'Revenue Today': 115.0, 'Issue Date': '10/14/2012'}, {'Revenue Today': 230.0, 'Issue Date': '10/15/2012'}, {'Revenue Today': 115.0, 'Issue Date': '10/16/2012'}, {'Revenue Today': 290.0, 'Issue Date': '10/18/2012'}, {'Revenue Today': 345.0, 'Issue Date': '10/20/2012'}, {'Revenue Today': 210.0, 'Issue Date': '10/21/2012'}, {'Revenue Today': 390.0, 'Issue Date': '10/22/2012'}, {'Revenue Today': 525.0, 'Issue Date': '10/23/2012'}, {'Revenue Today': 160.0, 'Issue Date': '10/24/2012'}, {'Revenue Today': 45.0, 'Issue Date': '10/25/2012'}, {'Revenue Today': 175.0, 'Issue Date': '10/27/2012'}, {'Revenue Today': 45.0, 'Issue Date': '10/28/2012'}, {'Revenue Today': 65.0, 'Issue Date': '10/29/2012'}, {'Revenue Today': 830.0, 'Issue Date': '10/30/2012'}, {'Revenue Today': 180.0, 'Issue Date': '10/31/2012'}, {'Revenue Today': 230.0, 'Issue Date': '11/01/2012'}, {'Revenue Today': 180.0, 'Issue Date': '11/02/2012'}, {'Revenue Today': 160.0, 'Issue Date': '11/03/2012'}, {'Revenue Today': 115.0, 'Issue Date': '11/04/2012'}, {'Revenue Today': 410.0, 'Issue Date': '11/05/2012'}, {'Revenue Today': 115.0, 'Issue Date': '11/06/2012'}, {'Revenue Today': 230.0, 'Issue Date': '11/07/2012'}, {'Revenue Today': 115.0, 'Issue Date': '11/08/2012'}, {'Revenue Today': 210.0, 'Issue Date': '11/09/2012'}, {'Revenue Today': 385.0, 'Issue Date': '11/10/2012'}, {'Revenue Today': 280.0, 'Issue Date': '11/11/2012'}, {'Revenue Today': 45.0, 'Issue Date': '11/12/2012'}, {'Revenue Today': 505.0, 'Issue Date': '11/13/2012'}, {'Revenue Today': 275.0, 'Issue Date': '11/14/2012'}, {'Revenue Today': 160.0, 'Issue Date': '11/17/2012'}, {'Revenue Today': nan, 'Issue Date': '11/18/2012'}, {'Revenue Today': 115.0, 'Issue Date': '11/19/2012'}, {'Revenue Today': 115.0, 'Issue Date': '11/23/2012'}, {'Revenue Today': 115.0, 'Issue Date': '11/24/2012'}, {'Revenue Today': 45.0, 'Issue Date': '11/27/2012'}, {'Revenue Today': 95.0, 'Issue Date': '11/28/2012'}, {'Revenue Today': 275.0, 'Issue Date': '11/29/2012'}, {'Revenue Today': 140.0, 'Issue Date': '11/30/2012'}, {'Revenue Today': 175.0, 'Issue Date': '12/01/2012'}, {'Revenue Today': 425.0, 'Issue Date': '12/02/2012'}, {'Revenue Today': 390.0, 'Issue Date': '12/03/2012'}, {'Revenue Today': 295.0, 'Issue Date': '12/04/2012'}, {'Revenue Today': 355.0, 'Issue Date': '12/05/2012'}, {'Revenue Today': 455.0, 'Issue Date': '12/06/2012'}, {'Revenue Today': 110.0, 'Issue Date': '12/07/2012'}, {'Revenue Today': 235.0, 'Issue Date': '12/08/2012'}, {'Revenue Today': 620.0, 'Issue Date': '12/09/2012'}, {'Revenue Today': 995.0, 'Issue Date': '12/10/2012'}, {'Revenue Today': 395.0, 'Issue Date': '12/11/2012'}, {'Revenue Today': 470.0, 'Issue Date': '12/12/2012'}, {'Revenue Today': 1730.0, 'Issue Date': '12/13/2012'}, {'Revenue Today': 160.0, 'Issue Date': '12/14/2012'}, {'Revenue Today': 485.0, 'Issue Date': '12/15/2012'}, {'Revenue Today': 275.0, 'Issue Date': '12/17/2012'}, {'Revenue Today': 345.0, 'Issue Date': '12/18/2012'}, {'Revenue Today': 115.0, 'Issue Date': '12/19/2012'}, {'Revenue Today': 115.0, 'Issue Date': '12/20/2012'}, {'Revenue Today': 620.0, 'Issue Date': '12/21/2012'}, {'Revenue Today': 45.0, 'Issue Date': '12/22/2012'}, {'Revenue Today': 735.0, 'Issue Date': '12/23/2012'}, {'Revenue Today': 115.0, 'Issue Date': '12/24/2012'}, {'Revenue Today': 305.0, 'Issue Date': '12/26/2012'}, {'Revenue Today': 35.0, 'Issue Date': '12/27/2012'}, {'Revenue Today': 520.0, 'Issue Date': '12/28/2012'}, {'Revenue Today': 380.0, 'Issue Date': '12/30/2012'}, {'Revenue Today': 215.0, 'Issue Date': '12/31/2012'}, {'Revenue Today': 5290.0, 'Issue Date': '01/01/2013'}, {'Revenue Today': 7450.0, 'Issue Date': '01/02/2013'}, {'Revenue Today': 3535.0, 'Issue Date': '01/03/2013'}, {'Revenue Today': 9445.0, 'Issue Date': '01/04/2013'}, {'Revenue Today': 6985.0, 'Issue Date': '01/05/2013'}, {'Revenue Today': 11080.0, 'Issue Date': '01/06/2013'}, {'Revenue Today': 10040.0, 'Issue Date': '01/07/2013'}, {'Revenue Today': 10140.0, 'Issue Date': '01/08/2013'}, {'Revenue Today': 7830.0, 'Issue Date': '01/09/2013'}, {'Revenue Today': 5090.0, 'Issue Date': '01/10/2013'}, {'Revenue Today': 2620.0, 'Issue Date': '01/11/2013'}, {'Revenue Today': 4470.0, 'Issue Date': '01/12/2013'}, {'Revenue Today': 2280.0, 'Issue Date': '01/13/2013'}, {'Revenue Today': 6400.0, 'Issue Date': '01/14/2013'}, {'Revenue Today': 2945.0, 'Issue Date': '01/15/2013'}, {'Revenue Today': 3790.0, 'Issue Date': '01/16/2013'}, {'Revenue Today': 3120.0, 'Issue Date': '01/17/2013'}, {'Revenue Today': 3095.0, 'Issue Date': '01/18/2013'}, {'Revenue Today': 2470.0, 'Issue Date': '01/19/2013'}, {'Revenue Today': 2565.0, 'Issue Date': '01/20/2013'}, {'Revenue Today': 940.0, 'Issue Date': '01/21/2013'}, {'Revenue Today': 1810.0, 'Issue Date': '01/22/2013'}, {'Revenue Today': 2350.0, 'Issue Date': '01/23/2013'}, {'Revenue Today': 3905.0, 'Issue Date': '01/24/2013'}, {'Revenue Today': 1600.0, 'Issue Date': '01/25/2013'}, {'Revenue Today': 1530.0, 'Issue Date': '01/26/2013'}, {'Revenue Today': 2745.0, 'Issue Date': '01/27/2013'}, {'Revenue Today': 1985.0, 'Issue Date': '01/28/2013'}, {'Revenue Today': 2980.0, 'Issue Date': '01/29/2013'}, {'Revenue Today': 1625.0, 'Issue Date': '01/30/2013'}, {'Revenue Today': 1030.0, 'Issue Date': '01/31/2013'}, {'Revenue Today': 590.0, 'Issue Date': '02/01/2013'}, {'Revenue Today': 590.0, 'Issue Date': '02/02/2013'}, {'Revenue Today': 965.0, 'Issue Date': '02/03/2013'}, {'Revenue Today': 1970.0, 'Issue Date': '02/04/2013'}, {'Revenue Today': 1490.0, 'Issue Date': '02/05/2013'}, {'Revenue Today': 1720.0, 'Issue Date': '02/06/2013'}, {'Revenue Today': 510.0, 'Issue Date': '02/07/2013'}, {'Revenue Today': 475.0, 'Issue Date': '02/08/2013'}, {'Revenue Today': 1215.0, 'Issue Date': '02/09/2013'}, {'Revenue Today': 345.0, 'Issue Date': '02/10/2013'}, {'Revenue Today': 870.0, 'Issue Date': '02/11/2013'}, {'Revenue Today': 865.0, 'Issue Date': '02/12/2013'}, {'Revenue Today': 505.0, 'Issue Date': '02/13/2013'}, {'Revenue Today': 585.0, 'Issue Date': '02/14/2013'}, {'Revenue Today': 805.0, 'Issue Date': '02/15/2013'}, {'Revenue Today': 205.0, 'Issue Date': '02/16/2013'}, {'Revenue Today': 455.0, 'Issue Date': '02/17/2013'}, {'Revenue Today': 390.0, 'Issue Date': '02/18/2013'}, {'Revenue Today': 720.0, 'Issue Date': '02/19/2013'}, {'Revenue Today': 320.0, 'Issue Date': '02/20/2013'}, {'Revenue Today': 685.0, 'Issue Date': '02/21/2013'}, {'Revenue Today': 435.0, 'Issue Date': '02/22/2013'}, {'Revenue Today': 225.0, 'Issue Date': '02/23/2013'}, {'Revenue Today': 205.0, 'Issue Date': '02/24/2013'}, {'Revenue Today': 355.0, 'Issue Date': '02/25/2013'}, {'Revenue Today': 110.0, 'Issue Date': '02/26/2013'}, {'Revenue Today': 570.0, 'Issue Date': '02/27/2013'}, {'Revenue Today': 195.0, 'Issue Date': '02/28/2013'}, {'Revenue Today': 65.0, 'Issue Date': '03/01/2013'}, {'Revenue Today': 360.0, 'Issue Date': '03/02/2013'}, {'Revenue Today': 60.0, 'Issue Date': '03/03/2013'}, {'Revenue Today': 180.0, 'Issue Date': '03/04/2013'}, {'Revenue Today': 180.0, 'Issue Date': '03/05/2013'}, {'Revenue Today': 490.0, 'Issue Date': '03/06/2013'}, {'Revenue Today': 180.0, 'Issue Date': '03/09/2013'}, {'Revenue Today': 195.0, 'Issue Date': '03/10/2013'}, {'Revenue Today': 505.0, 'Issue Date': '03/11/2013'}, {'Revenue Today': 65.0, 'Issue Date': '03/12/2013'}, {'Revenue Today': 205.0, 'Issue Date': '03/13/2013'}, {'Revenue Today': 115.0, 'Issue Date': '03/14/2013'}, {'Revenue Today': 230.0, 'Issue Date': '03/15/2013'}, {'Revenue Today': 230.0, 'Issue Date': '03/16/2013'}, {'Revenue Today': 410.0, 'Issue Date': '03/17/2013'}, {'Revenue Today': 65.0, 'Issue Date': '03/18/2013'}, {'Revenue Today': 870.0, 'Issue Date': '03/19/2013'}, {'Revenue Today': 245.0, 'Issue Date': '03/20/2013'}, {'Revenue Today': 115.0, 'Issue Date': '03/21/2013'}, {'Revenue Today': 295.0, 'Issue Date': '03/22/2013'}, {'Revenue Today': 460.0, 'Issue Date': '03/23/2013'}, {'Revenue Today': 115.0, 'Issue Date': '03/24/2013'}, {'Revenue Today': 110.0, 'Issue Date': '03/25/2013'}, {'Revenue Today': 35.0, 'Issue Date': '03/26/2013'}, {'Revenue Today': 195.0, 'Issue Date': '03/27/2013'}, {'Revenue Today': 475.0, 'Issue Date': '03/28/2013'}, {'Revenue Today': 275.0, 'Issue Date': '03/29/2013'}, {'Revenue Today': 45.0, 'Issue Date': '03/30/2013'}, {'Revenue Today': 230.0, 'Issue Date': '03/31/2013'}, {'Revenue Today': 2030.0, 'Issue Date': '04/02/2013'}, {'Revenue Today': 1890.0, 'Issue Date': '04/03/2013'}, {'Revenue Today': 410.0, 'Issue Date': '04/04/2013'}, {'Revenue Today': 685.0, 'Issue Date': '04/05/2013'}, {'Revenue Today': 180.0, 'Issue Date': '04/06/2013'}, {'Revenue Today': 600.0, 'Issue Date': '04/07/2013'}, {'Revenue Today': 425.0, 'Issue Date': '04/08/2013'}, {'Revenue Today': 340.0, 'Issue Date': '04/09/2013'}, {'Revenue Today': 4295.0, 'Issue Date': '04/10/2013'}, {'Revenue Today': 595.0, 'Issue Date': '04/11/2013'}, {'Revenue Today': 625.0, 'Issue Date': '04/12/2013'}, {'Revenue Today': 405.0, 'Issue Date': '04/13/2013'}, {'Revenue Today': 245.0, 'Issue Date': '04/14/2013'}, {'Revenue Today': 495.0, 'Issue Date': '04/15/2013'}, {'Revenue Today': 230.0, 'Issue Date': '04/16/2013'}, {'Revenue Today': 705.0, 'Issue Date': '04/17/2013'}, {'Revenue Today': 735.0, 'Issue Date': '04/18/2013'}, {'Revenue Today': 360.0, 'Issue Date': '04/19/2013'}, {'Revenue Today': 415.0, 'Issue Date': '04/20/2013'}, {'Revenue Today': 590.0, 'Issue Date': '04/21/2013'}, {'Revenue Today': 175.0, 'Issue Date': '04/22/2013'}, {'Revenue Today': 2535.0, 'Issue Date': '04/23/2013'}, {'Revenue Today': 640.0, 'Issue Date': '04/24/2013'}, {'Revenue Today': 890.0, 'Issue Date': '04/25/2013'}, {'Revenue Today': 890.0, 'Issue Date': '04/26/2013'}, {'Revenue Today': 1415.0, 'Issue Date': '04/27/2013'}, {'Revenue Today': 450.0, 'Issue Date': '04/28/2013'}, {'Revenue Today': 550.0, 'Issue Date': '04/29/2013'}, {'Revenue Today': 1400.0, 'Issue Date': '04/30/2013'}, {'Revenue Today': 225.0, 'Issue Date': '05/01/2013'}, {'Revenue Today': 45.0, 'Issue Date': '05/02/2013'}, {'Revenue Today': 405.0, 'Issue Date': '05/03/2013'}, {'Revenue Today': 375.0, 'Issue Date': '05/04/2013'}, {'Revenue Today': 745.0, 'Issue Date': '05/05/2013'}, {'Revenue Today': 390.0, 'Issue Date': '05/06/2013'}, {'Revenue Today': 235.0, 'Issue Date': '05/07/2013'}, {'Revenue Today': 115.0, 'Issue Date': '05/08/2013'}, {'Revenue Today': 230.0, 'Issue Date': '05/09/2013'}, {'Revenue Today': 440.0, 'Issue Date': '05/10/2013'}, {'Revenue Today': 405.0, 'Issue Date': '05/11/2013'}, {'Revenue Today': 555.0, 'Issue Date': '05/12/2013'}, {'Revenue Today': 295.0, 'Issue Date': '05/13/2013'}, {'Revenue Today': 115.0, 'Issue Date': '05/14/2013'}, {'Revenue Today': 275.0, 'Issue Date': '05/15/2013'}, {'Revenue Today': 945.0, 'Issue Date': '05/16/2013'}, {'Revenue Today': 110.0, 'Issue Date': '05/17/2013'}, {'Revenue Today': 115.0, 'Issue Date': '05/18/2013'}, {'Revenue Today': 370.0, 'Issue Date': '05/19/2013'}, {'Revenue Today': 230.0, 'Issue Date': '05/20/2013'}, {'Revenue Today': 345.0, 'Issue Date': '05/21/2013'}, {'Revenue Today': 555.0, 'Issue Date': '05/22/2013'}, {'Revenue Today': 765.0, 'Issue Date': '05/23/2013'}, {'Revenue Today': 1280.0, 'Issue Date': '05/24/2013'}, {'Revenue Today': 215.0, 'Issue Date': '05/25/2013'}, {'Revenue Today': 610.0, 'Issue Date': '05/26/2013'}, {'Revenue Today': 925.0, 'Issue Date': '05/27/2013'}, {'Revenue Today': 745.0, 'Issue Date': '05/28/2013'}, {'Revenue Today': 605.0, 'Issue Date': '05/29/2013'}, {'Revenue Today': 485.0, 'Issue Date': '05/30/2013'}, {'Revenue Today': 1850.0, 'Issue Date': '05/31/2013'}, {'Revenue Today': 615.0, 'Issue Date': '06/01/2013'}, {'Revenue Today': 295.0, 'Issue Date': '06/02/2013'}, {'Revenue Today': 11315.0, 'Issue Date': '06/03/2013'}, {'Revenue Today': 8180.0, 'Issue Date': '06/04/2013'}, {'Revenue Today': 16160.0, 'Issue Date': '06/05/2013'}, {'Revenue Today': 20735.0, 'Issue Date': '06/06/2013'}, {'Revenue Today': 26725.0, 'Issue Date': '06/07/2013'}, {'Revenue Today': 1180.0, 'Issue Date': '06/08/2013'}, {'Revenue Today': 4470.0, 'Issue Date': '06/09/2013'}, {'Revenue Today': 14500.0, 'Issue Date': '06/10/2013'}, {'Revenue Today': 9770.0, 'Issue Date': '06/11/2013'}, {'Revenue Today': 7730.0, 'Issue Date': '06/12/2013'}, {'Revenue Today': 10635.0, 'Issue Date': '06/13/2013'}, {'Revenue Today': 1200.0, 'Issue Date': '06/14/2013'}, {'Revenue Today': 1285.0, 'Issue Date': '06/15/2013'}, {'Revenue Today': 825.0, 'Issue Date': '06/16/2013'}, {'Revenue Today': 4040.0, 'Issue Date': '06/17/2013'}, {'Revenue Today': 2225.0, 'Issue Date': '06/18/2013'}, {'Revenue Today': 4105.0, 'Issue Date': '06/19/2013'}, {'Revenue Today': 3440.0, 'Issue Date': '06/20/2013'}, {'Revenue Today': 4275.0, 'Issue Date': '06/21/2013'}, {'Revenue Today': 2990.0, 'Issue Date': '06/22/2013'}, {'Revenue Today': 3810.0, 'Issue Date': '06/23/2013'}, {'Revenue Today': 8035.0, 'Issue Date': '06/24/2013'}, {'Revenue Today': 22985.0, 'Issue Date': '06/25/2013'}, {'Revenue Today': 22020.0, 'Issue Date': '06/26/2013'}, {'Revenue Today': 19825.0, 'Issue Date': '06/27/2013'}, {'Revenue Today': 31650.0, 'Issue Date': '06/28/2013'}, {'Revenue Today': 26245.0, 'Issue Date': '06/29/2013'}, {'Revenue Today': 25815.0, 'Issue Date': '06/30/2013'}, {'Revenue Today': 13580.0, 'Issue Date': '07/01/2013'}, {'Revenue Today': 29910.0, 'Issue Date': '07/02/2013'}, {'Revenue Today': 31250.0, 'Issue Date': '07/03/2013'}, {'Revenue Today': 12410.0, 'Issue Date': '07/04/2013'}, {'Revenue Today': 26665.0, 'Issue Date': '07/05/2013'}, {'Revenue Today': 19115.0, 'Issue Date': '07/06/2013'}, {'Revenue Today': 35515.0, 'Issue Date': '07/07/2013'}, {'Revenue Today': 47345.0, 'Issue Date': '07/08/2013'}, {'Revenue Today': 77005.0, 'Issue Date': '07/09/2013'}, {'Revenue Today': 69305.0, 'Issue Date': '07/10/2013'}, {'Revenue Today': 80195.0, 'Issue Date': '07/11/2013'}, {'Revenue Today': 60455.0, 'Issue Date': '07/12/2013'}, {'Revenue Today': 49880.0, 'Issue Date': '07/13/2013'}, {'Revenue Today': 54030.0, 'Issue Date': '07/14/2013'}, {'Revenue Today': 129170.0, 'Issue Date': '07/15/2013'}, {'Revenue Today': 197985.0, 'Issue Date': '07/16/2013'}, {'Revenue Today': 287010.0, 'Issue Date': '07/17/2013'}, {'Revenue Today': 319980.0, 'Issue Date': '07/18/2013'}, {'Revenue Today': 311235.0, 'Issue Date': '07/19/2013'}, {'Revenue Today': 299615.0, 'Issue Date': '07/20/2013'}, {'Revenue Today': 295050.0, 'Issue Date': '07/21/2013'}, {'Revenue Today': 468020.0, 'Issue Date': '07/22/2013'}, {'Revenue Today': 540760.0, 'Issue Date': '07/23/2013'}, {'Revenue Today': 534160.0, 'Issue Date': '07/24/2013'}, {'Revenue Today': 556160.0, 'Issue Date': '07/25/2013'}, {'Revenue Today': 552175.0, 'Issue Date': '07/26/2013'}, {'Revenue Today': 354230.0, 'Issue Date': '07/27/2013'}, {'Revenue Today': 333955.0, 'Issue Date': '07/28/2013'}, {'Revenue Today': 2356540.0, 'Issue Date': '07/29/2013'}, {'Revenue Today': 2739365.0, 'Issue Date': '07/30/2013'}, {'Revenue Today': 2582800.0, 'Issue Date': '07/31/2013'}, {'Revenue Today': 2588815.0, 'Issue Date': '08/01/2013'}, {'Revenue Today': 2679970.0, 'Issue Date': '08/02/2013'}, {'Revenue Today': 1411045.0, 'Issue Date': '08/03/2013'}, {'Revenue Today': 728415.0, 'Issue Date': '08/04/2013'}, {'Revenue Today': 2401215.0, 'Issue Date': '08/05/2013'}, {'Revenue Today': 2679910.0, 'Issue Date': '08/06/2013'}, {'Revenue Today': 2434705.0, 'Issue Date': '08/07/2013'}, {'Revenue Today': 2024875.0, 'Issue Date': '08/08/2013'}, {'Revenue Today': 2070795.0, 'Issue Date': '08/09/2013'}, {'Revenue Today': 1298195.0, 'Issue Date': '08/10/2013'}, {'Revenue Today': 677720.0, 'Issue Date': '08/11/2013'}, {'Revenue Today': 2184775.0, 'Issue Date': '08/12/2013'}, {'Revenue Today': 2192725.0, 'Issue Date': '08/13/2013'}, {'Revenue Today': 2458365.0, 'Issue Date': '08/14/2013'}, {'Revenue Today': 2373380.0, 'Issue Date': '08/15/2013'}, {'Revenue Today': 2355170.0, 'Issue Date': '08/16/2013'}, {'Revenue Today': 1037690.0, 'Issue Date': '08/17/2013'}, {'Revenue Today': 645550.0, 'Issue Date': '08/18/2013'}, {'Revenue Today': 2257800.0, 'Issue Date': '08/19/2013'}, {'Revenue Today': 2485105.0, 'Issue Date': '08/20/2013'}, {'Revenue Today': 2257930.0, 'Issue Date': '08/21/2013'}, {'Revenue Today': 2374950.0, 'Issue Date': '08/22/2013'}, {'Revenue Today': 2494490.0, 'Issue Date': '08/23/2013'}, {'Revenue Today': 1335280.0, 'Issue Date': '08/24/2013'}, {'Revenue Today': 671815.0, 'Issue Date': '08/25/2013'}, {'Revenue Today': 2311855.0, 'Issue Date': '08/26/2013'}, {'Revenue Today': 2662385.0, 'Issue Date': '08/27/2013'}, {'Revenue Today': 2294045.0, 'Issue Date': '08/28/2013'}, {'Revenue Today': 2569350.0, 'Issue Date': '08/29/2013'}, {'Revenue Today': 2480530.0, 'Issue Date': '08/30/2013'}, {'Revenue Today': 1432825.0, 'Issue Date': '08/31/2013'}, {'Revenue Today': 688440.0, 'Issue Date': '09/01/2013'}, {'Revenue Today': 479005.0, 'Issue Date': '09/02/2013'}, {'Revenue Today': 2643550.0, 'Issue Date': '09/03/2013'}, {'Revenue Today': 2655115.0, 'Issue Date': '09/04/2013'}, {'Revenue Today': 2589425.0, 'Issue Date': '09/05/2013'}, {'Revenue Today': 2550605.0, 'Issue Date': '09/06/2013'}, {'Revenue Today': 1634860.0, 'Issue Date': '09/07/2013'}, {'Revenue Today': 762575.0, 'Issue Date': '09/08/2013'}, {'Revenue Today': 2429270.0, 'Issue Date': '09/09/2013'}, {'Revenue Today': 2636630.0, 'Issue Date': '09/10/2013'}, {'Revenue Today': 2369180.0, 'Issue Date': '09/11/2013'}, {'Revenue Today': 2598610.0, 'Issue Date': '09/12/2013'}, {'Revenue Today': 2733880.0, 'Issue Date': '09/13/2013'}, {'Revenue Today': 1681325.0, 'Issue Date': '09/14/2013'}, {'Revenue Today': 777135.0, 'Issue Date': '09/15/2013'}, {'Revenue Today': 2461200.0, 'Issue Date': '09/16/2013'}, {'Revenue Today': 2775505.0, 'Issue Date': '09/17/2013'}, {'Revenue Today': 2695010.0, 'Issue Date': '09/18/2013'}, {'Revenue Today': 2575115.0, 'Issue Date': '09/19/2013'}, {'Revenue Today': 2568245.0, 'Issue Date': '09/20/2013'}, {'Revenue Today': 1775575.0, 'Issue Date': '09/21/2013'}, {'Revenue Today': 778530.0, 'Issue Date': '09/22/2013'}, {'Revenue Today': 2281055.0, 'Issue Date': '09/23/2013'}, {'Revenue Today': 2585675.0, 'Issue Date': '09/24/2013'}, {'Revenue Today': 2446645.0, 'Issue Date': '09/25/2013'}, {'Revenue Today': 2384820.0, 'Issue Date': '09/26/2013'}, {'Revenue Today': 2343235.0, 'Issue Date': '09/27/2013'}, {'Revenue Today': 1703090.0, 'Issue Date': '09/28/2013'}, {'Revenue Today': 784795.0, 'Issue Date': '09/29/2013'}, {'Revenue Today': 2686265.0, 'Issue Date': '09/30/2013'}, {'Revenue Today': 2930410.0, 'Issue Date': '10/01/2013'}, {'Revenue Today': 2730605.0, 'Issue Date': '10/02/2013'}, {'Revenue Today': 3014525.0, 'Issue Date': '10/03/2013'}, {'Revenue Today': 2836400.0, 'Issue Date': '10/04/2013'}, {'Revenue Today': 1759715.0, 'Issue Date': '10/05/2013'}, {'Revenue Today': 872130.0, 'Issue Date': '10/06/2013'}, {'Revenue Today': 2446330.0, 'Issue Date': '10/07/2013'}, {'Revenue Today': 3028565.0, 'Issue Date': '10/08/2013'}, {'Revenue Today': 2830245.0, 'Issue Date': '10/09/2013'}, {'Revenue Today': 2728955.0, 'Issue Date': '10/10/2013'}, {'Revenue Today': 2689065.0, 'Issue Date': '10/11/2013'}, {'Revenue Today': 1392415.0, 'Issue Date': '10/12/2013'}, {'Revenue Today': 621590.0, 'Issue Date': '10/13/2013'}, {'Revenue Today': 1553355.0, 'Issue Date': '10/14/2013'}, {'Revenue Today': 2355785.0, 'Issue Date': '10/15/2013'}, {'Revenue Today': 2299755.0, 'Issue Date': '10/16/2013'}, {'Revenue Today': 2619115.0, 'Issue Date': '10/17/2013'}, {'Revenue Today': 2758265.0, 'Issue Date': '10/18/2013'}, {'Revenue Today': 1668520.0, 'Issue Date': '10/19/2013'}, {'Revenue Today': 864810.0, 'Issue Date': '10/20/2013'}, {'Revenue Today': 2562250.0, 'Issue Date': '10/21/2013'}, {'Revenue Today': 2847820.0, 'Issue Date': '10/22/2013'}, {'Revenue Today': 2624925.0, 'Issue Date': '10/23/2013'}, {'Revenue Today': 2775060.0, 'Issue Date': '10/24/2013'}, {'Revenue Today': 2498685.0, 'Issue Date': '10/25/2013'}, {'Revenue Today': 1710575.0, 'Issue Date': '10/26/2013'}, {'Revenue Today': 859130.0, 'Issue Date': '10/27/2013'}, {'Revenue Today': 2560890.0, 'Issue Date': '10/28/2013'}, {'Revenue Today': 2821825.0, 'Issue Date': '10/29/2013'}, {'Revenue Today': 2575805.0, 'Issue Date': '10/30/2013'}, {'Revenue Today': 2470810.0, 'Issue Date': '10/31/2013'}, {'Revenue Today': 2455405.0, 'Issue Date': '11/01/2013'}, {'Revenue Today': 1664700.0, 'Issue Date': '11/02/2013'}, {'Revenue Today': 668905.0, 'Issue Date': '11/03/2013'}, {'Revenue Today': 2557830.0, 'Issue Date': '11/04/2013'}, {'Revenue Today': 1969855.0, 'Issue Date': '11/05/2013'}, {'Revenue Today': 2687030.0, 'Issue Date': '11/06/2013'}, {'Revenue Today': 2657620.0, 'Issue Date': '11/07/2013'}, {'Revenue Today': 2782750.0, 'Issue Date': '11/08/2013'}, {'Revenue Today': 1758855.0, 'Issue Date': '11/09/2013'}, {'Revenue Today': 835945.0, 'Issue Date': '11/10/2013'}, {'Revenue Today': 1710185.0, 'Issue Date': '11/11/2013'}, {'Revenue Today': 2656665.0, 'Issue Date': '11/12/2013'}, {'Revenue Today': 2624270.0, 'Issue Date': '11/13/2013'}, {'Revenue Today': 2863560.0, 'Issue Date': '11/14/2013'}, {'Revenue Today': 2764260.0, 'Issue Date': '11/15/2013'}, {'Revenue Today': 1614115.0, 'Issue Date': '11/16/2013'}, {'Revenue Today': 781085.0, 'Issue Date': '11/17/2013'}, {'Revenue Today': 2489115.0, 'Issue Date': '11/18/2013'}, {'Revenue Today': 2811890.0, 'Issue Date': '11/19/2013'}, {'Revenue Today': 2602065.0, 'Issue Date': '11/20/2013'}, {'Revenue Today': 2624470.0, 'Issue Date': '11/21/2013'}, {'Revenue Today': 2602505.0, 'Issue Date': '11/22/2013'}, {'Revenue Today': 1722150.0, 'Issue Date': '11/23/2013'}, {'Revenue Today': 776715.0, 'Issue Date': '11/24/2013'}, {'Revenue Today': 2393085.0, 'Issue Date': '11/25/2013'}, {'Revenue Today': 2486295.0, 'Issue Date': '11/26/2013'}, {'Revenue Today': 1678630.0, 'Issue Date': '11/27/2013'}, {'Revenue Today': 336175.0, 'Issue Date': '11/28/2013'}, {'Revenue Today': 2846270.0, 'Issue Date': '11/29/2013'}, {'Revenue Today': 1457985.0, 'Issue Date': '11/30/2013'}, {'Revenue Today': 747100.0, 'Issue Date': '12/01/2013'}, {'Revenue Today': 1988505.0, 'Issue Date': '12/02/2013'}, {'Revenue Today': 2390215.0, 'Issue Date': '12/03/2013'}, {'Revenue Today': 2196570.0, 'Issue Date': '12/04/2013'}, {'Revenue Today': 2307695.0, 'Issue Date': '12/05/2013'}, {'Revenue Today': 1867470.0, 'Issue Date': '12/06/2013'}, {'Revenue Today': 1494925.0, 'Issue Date': '12/07/2013'}, {'Revenue Today': 821335.0, 'Issue Date': '12/08/2013'}, {'Revenue Today': 1994805.0, 'Issue Date': '12/09/2013'}, {'Revenue Today': 1450660.0, 'Issue Date': '12/10/2013'}, {'Revenue Today': 2237950.0, 'Issue Date': '12/11/2013'}, {'Revenue Today': 2370305.0, 'Issue Date': '12/12/2013'}, {'Revenue Today': 2341680.0, 'Issue Date': '12/13/2013'}, {'Revenue Today': 903455.0, 'Issue Date': '12/14/2013'}, {'Revenue Today': 711865.0, 'Issue Date': '12/15/2013'}, {'Revenue Today': 2088605.0, 'Issue Date': '12/16/2013'}, {'Revenue Today': 1333515.0, 'Issue Date': '12/17/2013'}, {'Revenue Today': 2133415.0, 'Issue Date': '12/18/2013'}, {'Revenue Today': 2326915.0, 'Issue Date': '12/19/2013'}, {'Revenue Today': 2217130.0, 'Issue Date': '12/20/2013'}, {'Revenue Today': 1587360.0, 'Issue Date': '12/21/2013'}, {'Revenue Today': 773835.0, 'Issue Date': '12/22/2013'}, {'Revenue Today': 1761880.0, 'Issue Date': '12/23/2013'}, {'Revenue Today': 1961705.0, 'Issue Date': '12/24/2013'}, {'Revenue Today': 228065.0, 'Issue Date': '12/25/2013'}, {'Revenue Today': 2171320.0, 'Issue Date': '12/26/2013'}, {'Revenue Today': 2111065.0, 'Issue Date': '12/27/2013'}, {'Revenue Today': 1441355.0, 'Issue Date': '12/28/2013'}, {'Revenue Today': 600915.0, 'Issue Date': '12/29/2013'}, {'Revenue Today': 1970310.0, 'Issue Date': '12/30/2013'}, {'Revenue Today': 1841905.0, 'Issue Date': '12/31/2013'}, {'Revenue Today': 391355.0, 'Issue Date': '01/01/2014'}, {'Revenue Today': 1997315.0, 'Issue Date': '01/02/2014'}, {'Revenue Today': 107555.0, 'Issue Date': '01/03/2014'}, {'Revenue Today': 265555.0, 'Issue Date': '01/04/2014'}, {'Revenue Today': 313035.0, 'Issue Date': '01/05/2014'}, {'Revenue Today': 2189100.0, 'Issue Date': '01/06/2014'}, {'Revenue Today': 1856500.0, 'Issue Date': '01/07/2014'}, {'Revenue Today': 2336825.0, 'Issue Date': '01/08/2014'}, {'Revenue Today': 2710285.0, 'Issue Date': '01/09/2014'}, {'Revenue Today': 2294710.0, 'Issue Date': '01/10/2014'}, {'Revenue Today': 1642280.0, 'Issue Date': '01/11/2014'}, {'Revenue Today': 837330.0, 'Issue Date': '01/12/2014'}, {'Revenue Today': 2482945.0, 'Issue Date': '01/13/2014'}, {'Revenue Today': 2317140.0, 'Issue Date': '01/14/2014'}, {'Revenue Today': 2379070.0, 'Issue Date': '01/15/2014'}, {'Revenue Today': 2723800.0, 'Issue Date': '01/16/2014'}, {'Revenue Today': 2605245.0, 'Issue Date': '01/17/2014'}, {'Revenue Today': 1677250.0, 'Issue Date': '01/18/2014'}, {'Revenue Today': 771520.0, 'Issue Date': '01/19/2014'}, {'Revenue Today': 1834940.0, 'Issue Date': '01/20/2014'}, {'Revenue Today': 795885.0, 'Issue Date': '01/21/2014'}, {'Revenue Today': 342310.0, 'Issue Date': '01/22/2014'}, {'Revenue Today': 1508050.0, 'Issue Date': '01/23/2014'}, {'Revenue Today': 1893225.0, 'Issue Date': '01/24/2014'}, {'Revenue Today': 1201930.0, 'Issue Date': '01/25/2014'}, {'Revenue Today': 519885.0, 'Issue Date': '01/26/2014'}, {'Revenue Today': 1962850.0, 'Issue Date': '01/27/2014'}, {'Revenue Today': 2141345.0, 'Issue Date': '01/28/2014'}, {'Revenue Today': 226750.0, 'Issue Date': '01/29/2014'}, {'Revenue Today': 241200.0, 'Issue Date': '01/30/2014'}, {'Revenue Today': 223320.0, 'Issue Date': '01/31/2014'}, {'Revenue Today': 131500.0, 'Issue Date': '02/01/2014'}, {'Revenue Today': 128325.0, 'Issue Date': '02/02/2014'}, {'Revenue Today': 81745.0, 'Issue Date': '02/03/2014'}, {'Revenue Today': 217795.0, 'Issue Date': '02/04/2014'}, {'Revenue Today': 127820.0, 'Issue Date': '02/05/2014'}, {'Revenue Today': 229320.0, 'Issue Date': '02/06/2014'}, {'Revenue Today': 226285.0, 'Issue Date': '02/07/2014'}, {'Revenue Today': 129620.0, 'Issue Date': '02/08/2014'}, {'Revenue Today': 123750.0, 'Issue Date': '02/09/2014'}, {'Revenue Today': 155690.0, 'Issue Date': '02/10/2014'}, {'Revenue Today': 184775.0, 'Issue Date': '02/11/2014'}, {'Revenue Today': 212205.0, 'Issue Date': '02/12/2014'}, {'Revenue Today': 46585.0, 'Issue Date': '02/13/2014'}, {'Revenue Today': 85815.0, 'Issue Date': '02/14/2014'}, {'Revenue Today': 80775.0, 'Issue Date': '02/15/2014'}, {'Revenue Today': 64860.0, 'Issue Date': '02/16/2014'}, {'Revenue Today': 51850.0, 'Issue Date': '02/17/2014'}, {'Revenue Today': 19015.0, 'Issue Date': '02/18/2014'}, {'Revenue Today': 15570.0, 'Issue Date': '02/19/2014'}, {'Revenue Today': 6145.0, 'Issue Date': '02/20/2014'}, {'Revenue Today': 6100.0, 'Issue Date': '02/21/2014'}, {'Revenue Today': 175.0, 'Issue Date': '02/22/2014'}, {'Revenue Today': 390.0, 'Issue Date': '02/23/2014'}, {'Revenue Today': 5130.0, 'Issue Date': '02/24/2014'}, {'Revenue Today': 2000.0, 'Issue Date': '02/25/2014'}, {'Revenue Today': 180.0, 'Issue Date': '02/26/2014'}, {'Revenue Today': 95.0, 'Issue Date': '02/27/2014'}, {'Revenue Today': 1240.0, 'Issue Date': '02/28/2014'}, {'Revenue Today': 115.0, 'Issue Date': '03/01/2014'}, {'Revenue Today': 210.0, 'Issue Date': '03/02/2014'}, {'Revenue Today': 45.0, 'Issue Date': '03/03/2014'}, {'Revenue Today': 115.0, 'Issue Date': '03/04/2014'}, {'Revenue Today': 115.0, 'Issue Date': '03/05/2014'}, {'Revenue Today': 115.0, 'Issue Date': '03/06/2014'}, {'Revenue Today': 115.0, 'Issue Date': '03/08/2014'}, {'Revenue Today': 115.0, 'Issue Date': '03/09/2014'}, {'Revenue Today': 65.0, 'Issue Date': '03/10/2014'}, {'Revenue Today': 45.0, 'Issue Date': '03/13/2014'}, {'Revenue Today': 60.0, 'Issue Date': '03/14/2014'}, {'Revenue Today': 115.0, 'Issue Date': '03/17/2014'}, {'Revenue Today': 65.0, 'Issue Date': '04/01/2014'}, {'Revenue Today': 230.0, 'Issue Date': '04/02/2014'}, {'Revenue Today': 295.0, 'Issue Date': '04/04/2014'}, {'Revenue Today': 65.0, 'Issue Date': '04/05/2014'}, {'Revenue Today': 115.0, 'Issue Date': '04/06/2014'}, {'Revenue Today': 575.0, 'Issue Date': '04/07/2014'}, {'Revenue Today': 295.0, 'Issue Date': '04/08/2014'}, {'Revenue Today': 345.0, 'Issue Date': '04/10/2014'}, {'Revenue Today': 45.0, 'Issue Date': '04/11/2014'}, {'Revenue Today': 45.0, 'Issue Date': '04/14/2014'}, {'Revenue Today': 65.0, 'Issue Date': '04/16/2014'}, {'Revenue Today': 180.0, 'Issue Date': '04/17/2014'}, {'Revenue Today': 115.0, 'Issue Date': '04/23/2014'}, {'Revenue Today': 115.0, 'Issue Date': '04/25/2014'}, {'Revenue Today': 295.0, 'Issue Date': '04/27/2014'}, {'Revenue Today': 115.0, 'Issue Date': '04/29/2014'}, {'Revenue Today': 65.0, 'Issue Date': '05/02/2014'}, {'Revenue Today': 345.0, 'Issue Date': '05/04/2014'}, {'Revenue Today': 95.0, 'Issue Date': '05/12/2014'}, {'Revenue Today': 115.0, 'Issue Date': '05/13/2014'}, {'Revenue Today': 95.0, 'Issue Date': '05/15/2014'}, {'Revenue Today': 90.0, 'Issue Date': '05/16/2014'}, {'Revenue Today': 60.0, 'Issue Date': '05/18/2014'}, {'Revenue Today': 115.0, 'Issue Date': '05/19/2014'}, {'Revenue Today': 95.0, 'Issue Date': '05/22/2014'}, {'Revenue Today': 115.0, 'Issue Date': '05/26/2014'}, {'Revenue Today': 95.0, 'Issue Date': '05/29/2014'}, {'Revenue Today': 65.0, 'Issue Date': '05/30/2014'}, {'Revenue Today': 345.0, 'Issue Date': '05/31/2014'}, {'Revenue Today': 65.0, 'Issue Date': '06/04/2014'}, {'Revenue Today': 115.0, 'Issue Date': '06/06/2014'}, {'Revenue Today': 95.0, 'Issue Date': '06/07/2014'}, {'Revenue Today': 65.0, 'Issue Date': '06/14/2014'}, {'Revenue Today': 95.0, 'Issue Date': '06/22/2014'}, {'Revenue Today': 160.0, 'Issue Date': '06/30/2014'}, {'Revenue Today': 130.0, 'Issue Date': '07/01/2014'}, {'Revenue Today': 180.0, 'Issue Date': '07/02/2014'}, {'Revenue Today': 115.0, 'Issue Date': '07/03/2014'}, {'Revenue Today': 685.0, 'Issue Date': '07/04/2014'}, {'Revenue Today': 340.0, 'Issue Date': '07/05/2014'}, {'Revenue Today': 620.0, 'Issue Date': '07/06/2014'}, {'Revenue Today': 655.0, 'Issue Date': '07/07/2014'}, {'Revenue Today': 525.0, 'Issue Date': '07/08/2014'}, {'Revenue Today': 405.0, 'Issue Date': '07/09/2014'}, {'Revenue Today': 230.0, 'Issue Date': '07/10/2014'}, {'Revenue Today': 390.0, 'Issue Date': '07/11/2014'}, {'Revenue Today': 125.0, 'Issue Date': '07/12/2014'}, {'Revenue Today': 345.0, 'Issue Date': '07/13/2014'}, {'Revenue Today': 585.0, 'Issue Date': '07/14/2014'}, {'Revenue Today': 660.0, 'Issue Date': '07/15/2014'}, {'Revenue Today': 460.0, 'Issue Date': '07/16/2014'}, {'Revenue Today': 390.0, 'Issue Date': '07/17/2014'}, {'Revenue Today': 180.0, 'Issue Date': '07/18/2014'}, {'Revenue Today': 65.0, 'Issue Date': '07/19/2014'}, {'Revenue Today': 110.0, 'Issue Date': '07/20/2014'}, {'Revenue Today': 245.0, 'Issue Date': '07/21/2014'}, {'Revenue Today': 505.0, 'Issue Date': '07/22/2014'}, {'Revenue Today': 1640.0, 'Issue Date': '07/23/2014'}, {'Revenue Today': 345.0, 'Issue Date': '07/24/2014'}, {'Revenue Today': 65.0, 'Issue Date': '07/25/2014'}, {'Revenue Today': 230.0, 'Issue Date': '07/27/2014'}, {'Revenue Today': 45.0, 'Issue Date': '07/28/2014'}, {'Revenue Today': 180.0, 'Issue Date': '07/29/2014'}, {'Revenue Today': 610.0, 'Issue Date': '07/30/2014'}, {'Revenue Today': 575.0, 'Issue Date': '07/31/2014'}, {'Revenue Today': 570.0, 'Issue Date': '08/02/2014'}, {'Revenue Today': 645.0, 'Issue Date': '08/03/2014'}, {'Revenue Today': 180.0, 'Issue Date': '08/04/2014'}, {'Revenue Today': 210.0, 'Issue Date': '08/05/2014'}, {'Revenue Today': 160.0, 'Issue Date': '08/06/2014'}, {'Revenue Today': 495.0, 'Issue Date': '08/07/2014'}, {'Revenue Today': 245.0, 'Issue Date': '08/08/2014'}, {'Revenue Today': nan, 'Issue Date': '08/09/2014'}, {'Revenue Today': 130.0, 'Issue Date': '08/10/2014'}, {'Revenue Today': 640.0, 'Issue Date': '08/11/2014'}, {'Revenue Today': 315.0, 'Issue Date': '08/12/2014'}, {'Revenue Today': 620.0, 'Issue Date': '08/13/2014'}, {'Revenue Today': 1220.0, 'Issue Date': '08/14/2014'}, {'Revenue Today': 1225.0, 'Issue Date': '08/15/2014'}, {'Revenue Today': 700.0, 'Issue Date': '08/16/2014'}, {'Revenue Today': 290.0, 'Issue Date': '08/17/2014'}, {'Revenue Today': 245.0, 'Issue Date': '08/18/2014'}, {'Revenue Today': 355.0, 'Issue Date': '08/20/2014'}, {'Revenue Today': 210.0, 'Issue Date': '08/21/2014'}, {'Revenue Today': 115.0, 'Issue Date': '08/22/2014'}, {'Revenue Today': 960.0, 'Issue Date': '08/23/2014'}, {'Revenue Today': 165.0, 'Issue Date': '08/24/2014'}, {'Revenue Today': 115.0, 'Issue Date': '08/25/2014'}, {'Revenue Today': 325.0, 'Issue Date': '08/26/2014'}, {'Revenue Today': 195.0, 'Issue Date': '08/28/2014'}, {'Revenue Today': 290.0, 'Issue Date': '08/29/2014'}, {'Revenue Today': 710.0, 'Issue Date': '08/30/2014'}, {'Revenue Today': 320.0, 'Issue Date': '08/31/2014'}, {'Revenue Today': 130.0, 'Issue Date': '09/01/2014'}, {'Revenue Today': 125.0, 'Issue Date': '09/02/2014'}, {'Revenue Today': 810.0, 'Issue Date': '09/03/2014'}, {'Revenue Today': 595.0, 'Issue Date': '09/04/2014'}, {'Revenue Today': 180.0, 'Issue Date': '09/05/2014'}, {'Revenue Today': 240.0, 'Issue Date': '09/06/2014'}, {'Revenue Today': 545.0, 'Issue Date': '09/07/2014'}, {'Revenue Today': 820.0, 'Issue Date': '09/08/2014'}, {'Revenue Today': 680.0, 'Issue Date': '09/09/2014'}, {'Revenue Today': 115.0, 'Issue Date': '09/10/2014'}, {'Revenue Today': 230.0, 'Issue Date': '09/11/2014'}, {'Revenue Today': 270.0, 'Issue Date': '09/12/2014'}, {'Revenue Today': 275.0, 'Issue Date': '09/13/2014'}, {'Revenue Today': 1170.0, 'Issue Date': '09/14/2014'}, {'Revenue Today': 605.0, 'Issue Date': '09/15/2014'}, {'Revenue Today': 240.0, 'Issue Date': '09/16/2014'}, {'Revenue Today': 575.0, 'Issue Date': '09/17/2014'}, {'Revenue Today': 275.0, 'Issue Date': '09/18/2014'}, {'Revenue Today': 410.0, 'Issue Date': '09/19/2014'}, {'Revenue Today': 240.0, 'Issue Date': '09/20/2014'}, {'Revenue Today': 290.0, 'Issue Date': '09/21/2014'}, {'Revenue Today': 500.0, 'Issue Date': '09/22/2014'}, {'Revenue Today': 405.0, 'Issue Date': '09/23/2014'}, {'Revenue Today': 450.0, 'Issue Date': '09/24/2014'}, {'Revenue Today': 475.0, 'Issue Date': '09/25/2014'}, {'Revenue Today': 345.0, 'Issue Date': '09/26/2014'}, {'Revenue Today': 180.0, 'Issue Date': '09/27/2014'}, {'Revenue Today': 475.0, 'Issue Date': '09/28/2014'}, {'Revenue Today': 405.0, 'Issue Date': '09/29/2014'}, {'Revenue Today': 1395.0, 'Issue Date': '09/30/2014'}, {'Revenue Today': 615.0, 'Issue Date': '10/01/2014'}, {'Revenue Today': 230.0, 'Issue Date': '10/02/2014'}, {'Revenue Today': 1165.0, 'Issue Date': '10/03/2014'}, {'Revenue Today': 320.0, 'Issue Date': '10/04/2014'}, {'Revenue Today': 230.0, 'Issue Date': '10/05/2014'}, {'Revenue Today': 345.0, 'Issue Date': '10/06/2014'}, {'Revenue Today': 600.0, 'Issue Date': '10/07/2014'}, {'Revenue Today': 835.0, 'Issue Date': '10/08/2014'}, {'Revenue Today': 375.0, 'Issue Date': '10/09/2014'}, {'Revenue Today': 910.0, 'Issue Date': '10/10/2014'}, {'Revenue Today': 735.0, 'Issue Date': '10/11/2014'}, {'Revenue Today': 430.0, 'Issue Date': '10/12/2014'}, {'Revenue Today': 245.0, 'Issue Date': '10/13/2014'}, {'Revenue Today': 440.0, 'Issue Date': '10/14/2014'}, {'Revenue Today': 365.0, 'Issue Date': '10/15/2014'}, {'Revenue Today': 275.0, 'Issue Date': '10/16/2014'}, {'Revenue Today': 470.0, 'Issue Date': '10/17/2014'}, {'Revenue Today': 230.0, 'Issue Date': '10/18/2014'}, {'Revenue Today': 65.0, 'Issue Date': '10/19/2014'}, {'Revenue Today': 535.0, 'Issue Date': '10/20/2014'}, {'Revenue Today': 455.0, 'Issue Date': '10/21/2014'}, {'Revenue Today': 335.0, 'Issue Date': '10/22/2014'}, {'Revenue Today': 1885.0, 'Issue Date': '10/23/2014'}, {'Revenue Today': 185.0, 'Issue Date': '10/24/2014'}, {'Revenue Today': 345.0, 'Issue Date': '10/25/2014'}, {'Revenue Today': 290.0, 'Issue Date': '10/26/2014'}, {'Revenue Today': 215.0, 'Issue Date': '10/28/2014'}, {'Revenue Today': 430.0, 'Issue Date': '10/29/2014'}, {'Revenue Today': 345.0, 'Issue Date': '10/30/2014'}, {'Revenue Today': 505.0, 'Issue Date': '10/31/2014'}, {'Revenue Today': 1030.0, 'Issue Date': '11/01/2014'}, {'Revenue Today': 745.0, 'Issue Date': '11/02/2014'}, {'Revenue Today': 1355.0, 'Issue Date': '11/03/2014'}, {'Revenue Today': 175.0, 'Issue Date': '11/04/2014'}, {'Revenue Today': 345.0, 'Issue Date': '11/05/2014'}, {'Revenue Today': 320.0, 'Issue Date': '11/06/2014'}, {'Revenue Today': 1655.0, 'Issue Date': '11/07/2014'}, {'Revenue Today': 635.0, 'Issue Date': '11/08/2014'}, {'Revenue Today': 700.0, 'Issue Date': '11/09/2014'}, {'Revenue Today': 725.0, 'Issue Date': '11/10/2014'}, {'Revenue Today': 335.0, 'Issue Date': '11/11/2014'}, {'Revenue Today': 1345.0, 'Issue Date': '11/12/2014'}, {'Revenue Today': 1300.0, 'Issue Date': '11/13/2014'}, {'Revenue Today': 1545.0, 'Issue Date': '11/14/2014'}, {'Revenue Today': 2005.0, 'Issue Date': '11/15/2014'}, {'Revenue Today': 450.0, 'Issue Date': '11/16/2014'}, {'Revenue Today': 735.0, 'Issue Date': '11/17/2014'}, {'Revenue Today': 1330.0, 'Issue Date': '11/18/2014'}, {'Revenue Today': 595.0, 'Issue Date': '11/19/2014'}, {'Revenue Today': 680.0, 'Issue Date': '11/20/2014'}, {'Revenue Today': 1030.0, 'Issue Date': '11/21/2014'}, {'Revenue Today': 640.0, 'Issue Date': '11/22/2014'}, {'Revenue Today': 1100.0, 'Issue Date': '11/23/2014'}, {'Revenue Today': 645.0, 'Issue Date': '11/24/2014'}, {'Revenue Today': 750.0, 'Issue Date': '11/25/2014'}, {'Revenue Today': 345.0, 'Issue Date': '11/26/2014'}, {'Revenue Today': 320.0, 'Issue Date': '11/27/2014'}, {'Revenue Today': 695.0, 'Issue Date': '11/28/2014'}, {'Revenue Today': 1310.0, 'Issue Date': '11/29/2014'}, {'Revenue Today': 1685.0, 'Issue Date': '11/30/2014'}, {'Revenue Today': 450.0, 'Issue Date': '12/01/2014'}, {'Revenue Today': 685.0, 'Issue Date': '12/02/2014'}, {'Revenue Today': 570.0, 'Issue Date': '12/03/2014'}, {'Revenue Today': 1120.0, 'Issue Date': '12/04/2014'}, {'Revenue Today': 845.0, 'Issue Date': '12/05/2014'}, {'Revenue Today': 745.0, 'Issue Date': '12/06/2014'}, {'Revenue Today': 1330.0, 'Issue Date': '12/07/2014'}, {'Revenue Today': 410.0, 'Issue Date': '12/08/2014'}, {'Revenue Today': 360.0, 'Issue Date': '12/09/2014'}, {'Revenue Today': 1060.0, 'Issue Date': '12/10/2014'}, {'Revenue Today': 1755.0, 'Issue Date': '12/11/2014'}, {'Revenue Today': 635.0, 'Issue Date': '12/12/2014'}, {'Revenue Today': 2210.0, 'Issue Date': '12/13/2014'}, {'Revenue Today': 1175.0, 'Issue Date': '12/14/2014'}, {'Revenue Today': 690.0, 'Issue Date': '12/15/2014'}, {'Revenue Today': 570.0, 'Issue Date': '12/16/2014'}, {'Revenue Today': 405.0, 'Issue Date': '12/17/2014'}, {'Revenue Today': 390.0, 'Issue Date': '12/18/2014'}, {'Revenue Today': 585.0, 'Issue Date': '12/19/2014'}, {'Revenue Today': 565.0, 'Issue Date': '12/20/2014'}, {'Revenue Today': 480.0, 'Issue Date': '12/21/2014'}, {'Revenue Today': 665.0, 'Issue Date': '12/22/2014'}, {'Revenue Today': 1125.0, 'Issue Date': '12/23/2014'}, {'Revenue Today': 445.0, 'Issue Date': '12/24/2014'}, {'Revenue Today': 225.0, 'Issue Date': '12/25/2014'}, {'Revenue Today': 340.0, 'Issue Date': '12/26/2014'}, {'Revenue Today': 845.0, 'Issue Date': '12/27/2014'}, {'Revenue Today': 345.0, 'Issue Date': '12/28/2014'}, {'Revenue Today': 475.0, 'Issue Date': '12/29/2014'}, {'Revenue Today': 1000.0, 'Issue Date': '12/30/2014'}, {'Revenue Today': 765.0, 'Issue Date': '12/31/2014'}, {'Revenue Today': 295.0, 'Issue Date': '01/01/2015'}, {'Revenue Today': 225.0, 'Issue Date': '01/02/2015'}, {'Revenue Today': 455.0, 'Issue Date': '01/04/2015'}, {'Revenue Today': 295.0, 'Issue Date': '01/05/2015'}, {'Revenue Today': 115.0, 'Issue Date': '01/06/2015'}, {'Revenue Today': 535.0, 'Issue Date': '01/07/2015'}, {'Revenue Today': 275.0, 'Issue Date': '01/09/2015'}, {'Revenue Today': 755.0, 'Issue Date': '01/10/2015'}, {'Revenue Today': 525.0, 'Issue Date': '01/11/2015'}, {'Revenue Today': 165.0, 'Issue Date': '01/12/2015'}, {'Revenue Today': 295.0, 'Issue Date': '01/13/2015'}, {'Revenue Today': 590.0, 'Issue Date': '01/14/2015'}, {'Revenue Today': 1045.0, 'Issue Date': '01/15/2015'}, {'Revenue Today': 1305.0, 'Issue Date': '01/16/2015'}, {'Revenue Today': 225.0, 'Issue Date': '01/17/2015'}, {'Revenue Today': 275.0, 'Issue Date': '01/18/2015'}, {'Revenue Today': 230.0, 'Issue Date': '01/20/2015'}, {'Revenue Today': 65.0, 'Issue Date': '01/22/2015'}, {'Revenue Today': 575.0, 'Issue Date': '01/23/2015'}, {'Revenue Today': 585.0, 'Issue Date': '01/24/2015'}, {'Revenue Today': 345.0, 'Issue Date': '01/25/2015'}, {'Revenue Today': 620.0, 'Issue Date': '01/27/2015'}, {'Revenue Today': 45.0, 'Issue Date': '01/28/2015'}, {'Revenue Today': 115.0, 'Issue Date': '01/29/2015'}, {'Revenue Today': 430.0, 'Issue Date': '01/30/2015'}, {'Revenue Today': 345.0, 'Issue Date': '01/31/2015'}, {'Revenue Today': 345.0, 'Issue Date': '02/01/2015'}, {'Revenue Today': 95.0, 'Issue Date': '02/02/2015'}, {'Revenue Today': 510.0, 'Issue Date': '02/03/2015'}, {'Revenue Today': 475.0, 'Issue Date': '02/04/2015'}, {'Revenue Today': 210.0, 'Issue Date': '02/05/2015'}, {'Revenue Today': 230.0, 'Issue Date': '02/06/2015'}, {'Revenue Today': 180.0, 'Issue Date': '02/07/2015'}, {'Revenue Today': 210.0, 'Issue Date': '02/08/2015'}, {'Revenue Today': 65.0, 'Issue Date': '02/10/2015'}, {'Revenue Today': 115.0, 'Issue Date': '02/11/2015'}, {'Revenue Today': 460.0, 'Issue Date': '02/12/2015'}, {'Revenue Today': 160.0, 'Issue Date': '02/13/2015'}, {'Revenue Today': 115.0, 'Issue Date': '02/14/2015'}, {'Revenue Today': 420.0, 'Issue Date': '02/16/2015'}, {'Revenue Today': 115.0, 'Issue Date': '02/27/2015'}, {'Revenue Today': 115.0, 'Issue Date': '03/20/2015'}, {'Revenue Today': 115.0, 'Issue Date': '04/09/2015'}, {'Revenue Today': 95.0, 'Issue Date': '05/10/2015'}, {'Revenue Today': 65.0, 'Issue Date': '05/12/2015'}, {'Revenue Today': 115.0, 'Issue Date': '06/18/2015'}, {'Revenue Today': 175.0, 'Issue Date': '06/25/2015'}, {'Revenue Today': 95.0, 'Issue Date': '06/26/2015'}, {'Revenue Today': 115.0, 'Issue Date': '06/30/2015'}, {'Revenue Today': 65.0, 'Issue Date': '07/01/2015'}, {'Revenue Today': 180.0, 'Issue Date': '07/02/2015'}, {'Revenue Today': 65.0, 'Issue Date': '07/06/2015'}, {'Revenue Today': 115.0, 'Issue Date': '07/07/2015'}, {'Revenue Today': 115.0, 'Issue Date': '07/11/2015'}, {'Revenue Today': 230.0, 'Issue Date': '07/13/2015'}, {'Revenue Today': 115.0, 'Issue Date': '07/14/2015'}, {'Revenue Today': 115.0, 'Issue Date': '07/15/2015'}, {'Revenue Today': 460.0, 'Issue Date': '07/16/2015'}, {'Revenue Today': 205.0, 'Issue Date': '07/17/2015'}, {'Revenue Today': 65.0, 'Issue Date': '07/20/2015'}, {'Revenue Today': 510.0, 'Issue Date': '07/22/2015'}, {'Revenue Today': 655.0, 'Issue Date': '07/23/2015'}, {'Revenue Today': 300.0, 'Issue Date': '07/24/2015'}, {'Revenue Today': 230.0, 'Issue Date': '07/25/2015'}, {'Revenue Today': 115.0, 'Issue Date': '07/26/2015'}, {'Revenue Today': 320.0, 'Issue Date': '07/27/2015'}, {'Revenue Today': 230.0, 'Issue Date': '07/29/2015'}, {'Revenue Today': 610.0, 'Issue Date': '07/30/2015'}, {'Revenue Today': 390.0, 'Issue Date': '07/31/2015'}, {'Revenue Today': 115.0, 'Issue Date': '08/01/2015'}, {'Revenue Today': 490.0, 'Issue Date': '08/02/2015'}, {'Revenue Today': 295.0, 'Issue Date': '08/03/2015'}, {'Revenue Today': 275.0, 'Issue Date': '08/04/2015'}, {'Revenue Today': 340.0, 'Issue Date': '08/05/2015'}, {'Revenue Today': 575.0, 'Issue Date': '08/06/2015'}, {'Revenue Today': 230.0, 'Issue Date': '08/07/2015'}, {'Revenue Today': 65.0, 'Issue Date': '08/10/2015'}, {'Revenue Today': 165.0, 'Issue Date': '08/11/2015'}, {'Revenue Today': 45.0, 'Issue Date': '08/12/2015'}, {'Revenue Today': 230.0, 'Issue Date': '08/13/2015'}, {'Revenue Today': 520.0, 'Issue Date': '08/14/2015'}, {'Revenue Today': 345.0, 'Issue Date': '08/15/2015'}, {'Revenue Today': 640.0, 'Issue Date': '08/16/2015'}, {'Revenue Today': 230.0, 'Issue Date': '08/17/2015'}, {'Revenue Today': 505.0, 'Issue Date': '08/18/2015'}, {'Revenue Today': 115.0, 'Issue Date': '08/19/2015'}, {'Revenue Today': nan, 'Issue Date': '08/21/2015'}, {'Revenue Today': 230.0, 'Issue Date': '08/22/2015'}, {'Revenue Today': 290.0, 'Issue Date': '08/23/2015'}, {'Revenue Today': 230.0, 'Issue Date': '08/24/2015'}, {'Revenue Today': 115.0, 'Issue Date': '08/25/2015'}, {'Revenue Today': 115.0, 'Issue Date': '08/26/2015'}, {'Revenue Today': 180.0, 'Issue Date': '08/27/2015'}, {'Revenue Today': 220.0, 'Issue Date': '08/28/2015'}, {'Revenue Today': 780.0, 'Issue Date': '08/30/2015'}, {'Revenue Today': 1035.0, 'Issue Date': '08/31/2015'}, {'Revenue Today': 295.0, 'Issue Date': '09/01/2015'}, {'Revenue Today': 180.0, 'Issue Date': '09/02/2015'}, {'Revenue Today': 585.0, 'Issue Date': '09/03/2015'}, {'Revenue Today': 215.0, 'Issue Date': '09/04/2015'}, {'Revenue Today': 430.0, 'Issue Date': '09/05/2015'}, {'Revenue Today': 180.0, 'Issue Date': '09/06/2015'}, {'Revenue Today': 180.0, 'Issue Date': '09/07/2015'}, {'Revenue Today': 335.0, 'Issue Date': '09/08/2015'}, {'Revenue Today': 455.0, 'Issue Date': '09/09/2015'}, {'Revenue Today': 345.0, 'Issue Date': '09/10/2015'}, {'Revenue Today': 65.0, 'Issue Date': '09/11/2015'}, {'Revenue Today': 245.0, 'Issue Date': '09/12/2015'}, {'Revenue Today': 225.0, 'Issue Date': '09/13/2015'}, {'Revenue Today': 230.0, 'Issue Date': '09/14/2015'}, {'Revenue Today': 695.0, 'Issue Date': '09/15/2015'}, {'Revenue Today': 295.0, 'Issue Date': '09/16/2015'}, {'Revenue Today': 345.0, 'Issue Date': '09/17/2015'}, {'Revenue Today': 455.0, 'Issue Date': '09/18/2015'}, {'Revenue Today': 295.0, 'Issue Date': '09/20/2015'}, {'Revenue Today': 210.0, 'Issue Date': '09/21/2015'}, {'Revenue Today': 470.0, 'Issue Date': '09/22/2015'}, {'Revenue Today': 240.0, 'Issue Date': '09/23/2015'}, {'Revenue Today': 160.0, 'Issue Date': '09/24/2015'}, {'Revenue Today': 140.0, 'Issue Date': '09/25/2015'}, {'Revenue Today': 45.0, 'Issue Date': '09/26/2015'}, {'Revenue Today': 390.0, 'Issue Date': '09/27/2015'}, {'Revenue Today': 325.0, 'Issue Date': '09/28/2015'}, {'Revenue Today': 540.0, 'Issue Date': '09/30/2015'}, {'Revenue Today': 360.0, 'Issue Date': '10/01/2015'}, {'Revenue Today': 305.0, 'Issue Date': '10/02/2015'}, {'Revenue Today': 920.0, 'Issue Date': '10/03/2015'}, {'Revenue Today': 405.0, 'Issue Date': '10/04/2015'}, {'Revenue Today': 510.0, 'Issue Date': '10/05/2015'}, {'Revenue Today': 410.0, 'Issue Date': '10/06/2015'}, {'Revenue Today': 160.0, 'Issue Date': '10/07/2015'}, {'Revenue Today': 320.0, 'Issue Date': '10/08/2015'}, {'Revenue Today': 180.0, 'Issue Date': '10/09/2015'}, {'Revenue Today': 405.0, 'Issue Date': '10/10/2015'}, {'Revenue Today': 555.0, 'Issue Date': '10/11/2015'}, {'Revenue Today': 230.0, 'Issue Date': '10/12/2015'}, {'Revenue Today': 295.0, 'Issue Date': '10/13/2015'}, {'Revenue Today': 475.0, 'Issue Date': '10/14/2015'}, {'Revenue Today': 115.0, 'Issue Date': '10/15/2015'}, {'Revenue Today': 640.0, 'Issue Date': '10/16/2015'}, {'Revenue Today': 755.0, 'Issue Date': '10/17/2015'}, {'Revenue Today': 150.0, 'Issue Date': '10/18/2015'}, {'Revenue Today': 555.0, 'Issue Date': '10/19/2015'}, {'Revenue Today': 225.0, 'Issue Date': '10/20/2015'}, {'Revenue Today': 325.0, 'Issue Date': '10/21/2015'}, {'Revenue Today': 445.0, 'Issue Date': '10/22/2015'}, {'Revenue Today': 225.0, 'Issue Date': '10/23/2015'}, {'Revenue Today': 410.0, 'Issue Date': '10/24/2015'}, {'Revenue Today': 115.0, 'Issue Date': '10/25/2015'}, {'Revenue Today': 35.0, 'Issue Date': '10/26/2015'}, {'Revenue Today': 465.0, 'Issue Date': '10/27/2015'}, {'Revenue Today': 700.0, 'Issue Date': '10/28/2015'}, {'Revenue Today': 295.0, 'Issue Date': '10/29/2015'}, {'Revenue Today': 45.0, 'Issue Date': '10/30/2015'}, {'Revenue Today': 620.0, 'Issue Date': '10/31/2015'}, {'Revenue Today': 590.0, 'Issue Date': '11/01/2015'}, {'Revenue Today': 395.0, 'Issue Date': '11/02/2015'}, {'Revenue Today': 210.0, 'Issue Date': '11/03/2015'}, {'Revenue Today': 445.0, 'Issue Date': '11/04/2015'}, {'Revenue Today': 275.0, 'Issue Date': '11/06/2015'}, {'Revenue Today': 345.0, 'Issue Date': '11/07/2015'}, {'Revenue Today': 285.0, 'Issue Date': '11/08/2015'}, {'Revenue Today': 45.0, 'Issue Date': '11/09/2015'}, {'Revenue Today': 115.0, 'Issue Date': '11/10/2015'}, {'Revenue Today': 175.0, 'Issue Date': '11/11/2015'}, {'Revenue Today': 180.0, 'Issue Date': '11/12/2015'}, {'Revenue Today': 275.0, 'Issue Date': '11/13/2015'}, {'Revenue Today': 395.0, 'Issue Date': '11/14/2015'}, {'Revenue Today': 300.0, 'Issue Date': '11/15/2015'}, {'Revenue Today': 225.0, 'Issue Date': '11/16/2015'}, {'Revenue Today': 65.0, 'Issue Date': '11/17/2015'}, {'Revenue Today': 65.0, 'Issue Date': '11/18/2015'}, {'Revenue Today': 265.0, 'Issue Date': '11/19/2015'}, {'Revenue Today': 115.0, 'Issue Date': '11/20/2015'}, {'Revenue Today': 105.0, 'Issue Date': '11/21/2015'}, {'Revenue Today': 575.0, 'Issue Date': '11/22/2015'}, {'Revenue Today': 525.0, 'Issue Date': '11/23/2015'}, {'Revenue Today': 115.0, 'Issue Date': '11/24/2015'}, {'Revenue Today': 175.0, 'Issue Date': '11/25/2015'}, {'Revenue Today': 275.0, 'Issue Date': '11/26/2015'}, {'Revenue Today': 355.0, 'Issue Date': '11/27/2015'}, {'Revenue Today': 45.0, 'Issue Date': '11/29/2015'}, {'Revenue Today': 240.0, 'Issue Date': '11/30/2015'}, {'Revenue Today': 295.0, 'Issue Date': '12/01/2015'}, {'Revenue Today': 295.0, 'Issue Date': '12/02/2015'}, {'Revenue Today': 335.0, 'Issue Date': '12/03/2015'}, {'Revenue Today': 65.0, 'Issue Date': '12/04/2015'}, {'Revenue Today': 230.0, 'Issue Date': '12/05/2015'}, {'Revenue Today': 290.0, 'Issue Date': '12/06/2015'}, {'Revenue Today': 115.0, 'Issue Date': '12/07/2015'}, {'Revenue Today': 65.0, 'Issue Date': '12/08/2015'}, {'Revenue Today': 385.0, 'Issue Date': '12/09/2015'}, {'Revenue Today': 295.0, 'Issue Date': '12/11/2015'}, {'Revenue Today': 295.0, 'Issue Date': '12/12/2015'}, {'Revenue Today': 355.0, 'Issue Date': '12/13/2015'}, {'Revenue Today': 690.0, 'Issue Date': '12/14/2015'}, {'Revenue Today': 880.0, 'Issue Date': '12/15/2015'}, {'Revenue Today': 285.0, 'Issue Date': '12/16/2015'}, {'Revenue Today': 115.0, 'Issue Date': '12/17/2015'}, {'Revenue Today': 575.0, 'Issue Date': '12/19/2015'}, {'Revenue Today': 540.0, 'Issue Date': '12/20/2015'}, {'Revenue Today': 290.0, 'Issue Date': '12/21/2015'}, {'Revenue Today': 115.0, 'Issue Date': '12/22/2015'}, {'Revenue Today': 490.0, 'Issue Date': '12/23/2015'}, {'Revenue Today': 115.0, 'Issue Date': '12/25/2015'}, {'Revenue Today': 90.0, 'Issue Date': '12/26/2015'}, {'Revenue Today': 95.0, 'Issue Date': '12/27/2015'}, {'Revenue Today': 210.0, 'Issue Date': '12/28/2015'}, {'Revenue Today': 565.0, 'Issue Date': '12/30/2015'}, {'Revenue Today': 175.0, 'Issue Date': '12/31/2015'}, {'Revenue Today': 180.0, 'Issue Date': '01/05/2016'}, {'Revenue Today': 230.0, 'Issue Date': '01/07/2016'}, {'Revenue Today': 115.0, 'Issue Date': '01/09/2016'}, {'Revenue Today': 345.0, 'Issue Date': '01/10/2016'}, {'Revenue Today': 65.0, 'Issue Date': '01/11/2016'}, {'Revenue Today': 230.0, 'Issue Date': '01/12/2016'}, {'Revenue Today': 115.0, 'Issue Date': '01/13/2016'}, {'Revenue Today': 160.0, 'Issue Date': '01/14/2016'}, {'Revenue Today': 115.0, 'Issue Date': '01/16/2016'}, {'Revenue Today': 180.0, 'Issue Date': '01/17/2016'}, {'Revenue Today': 60.0, 'Issue Date': '01/20/2016'}, {'Revenue Today': 115.0, 'Issue Date': '01/23/2016'}, {'Revenue Today': 230.0, 'Issue Date': '01/24/2016'}, {'Revenue Today': 115.0, 'Issue Date': '01/27/2016'}, {'Revenue Today': 115.0, 'Issue Date': '01/29/2016'}, {'Revenue Today': 115.0, 'Issue Date': '02/01/2016'}, {'Revenue Today': 230.0, 'Issue Date': '02/04/2016'}, {'Revenue Today': 115.0, 'Issue Date': '02/18/2016'}, {'Revenue Today': 115.0, 'Issue Date': '07/16/2016'}, {'Revenue Today': 65.0, 'Issue Date': '08/03/2016'}, {'Revenue Today': 65.0, 'Issue Date': '08/05/2016'}, {'Revenue Today': 210.0, 'Issue Date': '08/07/2016'}, {'Revenue Today': 555.0, 'Issue Date': '08/08/2016'}, {'Revenue Today': 115.0, 'Issue Date': '08/13/2016'}, {'Revenue Today': 230.0, 'Issue Date': '08/14/2016'}, {'Revenue Today': 180.0, 'Issue Date': '08/15/2016'}, {'Revenue Today': 45.0, 'Issue Date': '08/16/2016'}, {'Revenue Today': 105.0, 'Issue Date': '08/17/2016'}, {'Revenue Today': 115.0, 'Issue Date': '08/19/2016'}, {'Revenue Today': 115.0, 'Issue Date': '08/20/2016'}, {'Revenue Today': 115.0, 'Issue Date': '08/25/2016'}, {'Revenue Today': 115.0, 'Issue Date': '08/26/2016'}, {'Revenue Today': 45.0, 'Issue Date': '08/27/2016'}, {'Revenue Today': 65.0, 'Issue Date': '09/01/2016'}, {'Revenue Today': 65.0, 'Issue Date': '09/13/2016'}, {'Revenue Today': 90.0, 'Issue Date': '09/17/2016'}, {'Revenue Today': 60.0, 'Issue Date': '09/22/2016'}, {'Revenue Today': 165.0, 'Issue Date': '09/24/2016'}, {'Revenue Today': 60.0, 'Issue Date': '09/25/2016'}, {'Revenue Today': 95.0, 'Issue Date': '09/26/2016'}, {'Revenue Today': 115.0, 'Issue Date': '10/04/2016'}, {'Revenue Today': 95.0, 'Issue Date': '10/09/2016'}, {'Revenue Today': 115.0, 'Issue Date': '10/13/2016'}, {'Revenue Today': 160.0, 'Issue Date': '10/15/2016'}, {'Revenue Today': 115.0, 'Issue Date': '10/16/2016'}, {'Revenue Today': 115.0, 'Issue Date': '10/17/2016'}, {'Revenue Today': 115.0, 'Issue Date': '10/18/2016'}, {'Revenue Today': 115.0, 'Issue Date': '10/23/2016'}, {'Revenue Today': 95.0, 'Issue Date': '10/27/2016'}, {'Revenue Today': 115.0, 'Issue Date': '11/03/2016'}, {'Revenue Today': 65.0, 'Issue Date': '11/05/2016'}, {'Revenue Today': 45.0, 'Issue Date': '11/07/2016'}, {'Revenue Today': 45.0, 'Issue Date': '11/14/2016'}, {'Revenue Today': 210.0, 'Issue Date': '11/15/2016'}, {'Revenue Today': 65.0, 'Issue Date': '11/16/2016'}, {'Revenue Today': 180.0, 'Issue Date': '11/17/2016'}, {'Revenue Today': 60.0, 'Issue Date': '11/19/2016'}, {'Revenue Today': 115.0, 'Issue Date': '11/23/2016'}, {'Revenue Today': 45.0, 'Issue Date': '11/25/2016'}, {'Revenue Today': 125.0, 'Issue Date': '11/27/2016'}, {'Revenue Today': 115.0, 'Issue Date': '12/05/2016'}, {'Revenue Today': 115.0, 'Issue Date': '12/10/2016'}, {'Revenue Today': 65.0, 'Issue Date': '12/11/2016'}, {'Revenue Today': 45.0, 'Issue Date': '12/13/2016'}, {'Revenue Today': 210.0, 'Issue Date': '12/17/2016'}, {'Revenue Today': 115.0, 'Issue Date': '12/18/2016'}, {'Revenue Today': 65.0, 'Issue Date': '12/19/2016'}, {'Revenue Today': 45.0, 'Issue Date': '12/23/2016'}, {'Revenue Today': 65.0, 'Issue Date': '01/01/2017'}, {'Revenue Today': 60.0, 'Issue Date': '01/03/2017'}, {'Revenue Today': 230.0, 'Issue Date': '01/04/2017'}, {'Revenue Today': 95.0, 'Issue Date': '01/05/2017'}, {'Revenue Today': 45.0, 'Issue Date': '01/07/2017'}, {'Revenue Today': 180.0, 'Issue Date': '01/09/2017'}, {'Revenue Today': 160.0, 'Issue Date': '01/10/2017'}, {'Revenue Today': 65.0, 'Issue Date': '01/11/2017'}, {'Revenue Today': 115.0, 'Issue Date': '01/13/2017'}, {'Revenue Today': 115.0, 'Issue Date': '01/14/2017'}, {'Revenue Today': 45.0, 'Issue Date': '01/15/2017'}, {'Revenue Today': 160.0, 'Issue Date': '01/16/2017'}, {'Revenue Today': 115.0, 'Issue Date': '01/18/2017'}, {'Revenue Today': 65.0, 'Issue Date': '01/19/2017'}, {'Revenue Today': 115.0, 'Issue Date': '01/24/2017'}, {'Revenue Today': 65.0, 'Issue Date': '01/26/2017'}, {'Revenue Today': 115.0, 'Issue Date': '01/27/2017'}, {'Revenue Today': 305.0, 'Issue Date': '01/28/2017'}, {'Revenue Today': 95.0, 'Issue Date': '02/03/2017'}, {'Revenue Today': 115.0, 'Issue Date': '02/04/2017'}, {'Revenue Today': 115.0, 'Issue Date': '02/05/2017'}, {'Revenue Today': 115.0, 'Issue Date': '02/06/2017'}, {'Revenue Today': 115.0, 'Issue Date': '02/07/2017'}, {'Revenue Today': 115.0, 'Issue Date': '02/08/2017'}, {'Revenue Today': 160.0, 'Issue Date': '02/11/2017'}, {'Revenue Today': 115.0, 'Issue Date': '02/14/2017'}, {'Revenue Today': 160.0, 'Issue Date': '02/16/2017'}, {'Revenue Today': 65.0, 'Issue Date': '04/07/2017'}, {'Revenue Today': 95.0, 'Issue Date': '07/07/2017'}, {'Revenue Today': 115.0, 'Issue Date': '07/15/2017'}, {'Revenue Today': 115.0, 'Issue Date': '07/17/2017'}, {'Revenue Today': 130.0, 'Issue Date': '07/18/2017'}, {'Revenue Today': 160.0, 'Issue Date': '07/24/2017'}, {'Revenue Today': 230.0, 'Issue Date': '07/30/2017'}, {'Revenue Today': 65.0, 'Issue Date': '08/01/2017'}, {'Revenue Today': 180.0, 'Issue Date': '08/03/2017'}, {'Revenue Today': 60.0, 'Issue Date': '08/04/2017'}, {'Revenue Today': 110.0, 'Issue Date': '08/05/2017'}, {'Revenue Today': 115.0, 'Issue Date': '08/06/2017'}, {'Revenue Today': 115.0, 'Issue Date': '08/14/2017'}, {'Revenue Today': 115.0, 'Issue Date': '08/15/2017'}, {'Revenue Today': 340.0, 'Issue Date': '08/16/2017'}, {'Revenue Today': 115.0, 'Issue Date': '08/17/2017'}, {'Revenue Today': 115.0, 'Issue Date': '08/19/2017'}, {'Revenue Today': 115.0, 'Issue Date': '08/21/2017'}, {'Revenue Today': 65.0, 'Issue Date': '08/27/2017'}, {'Revenue Today': 115.0, 'Issue Date': '08/28/2017'}, {'Revenue Today': 115.0, 'Issue Date': '09/06/2017'}, {'Revenue Today': 295.0, 'Issue Date': '09/08/2017'}, {'Revenue Today': 115.0, 'Issue Date': '09/15/2017'}, {'Revenue Today': 230.0, 'Issue Date': '09/16/2017'}, {'Revenue Today': 45.0, 'Issue Date': '09/17/2017'}, {'Revenue Today': 180.0, 'Issue Date': '09/18/2017'}, {'Revenue Today': 230.0, 'Issue Date': '09/20/2017'}, {'Revenue Today': 115.0, 'Issue Date': '09/21/2017'}, {'Revenue Today': 65.0, 'Issue Date': '09/22/2017'}, {'Revenue Today': 160.0, 'Issue Date': '09/23/2017'}, {'Revenue Today': 115.0, 'Issue Date': '09/24/2017'}, {'Revenue Today': 115.0, 'Issue Date': '09/25/2017'}, {'Revenue Today': 115.0, 'Issue Date': '09/26/2017'}, {'Revenue Today': 115.0, 'Issue Date': '09/27/2017'}, {'Revenue Today': 60.0, 'Issue Date': '09/28/2017'}, {'Revenue Today': 65.0, 'Issue Date': '09/30/2017'}, {'Revenue Today': 45.0, 'Issue Date': '10/03/2017'}, {'Revenue Today': 220.0, 'Issue Date': '10/08/2017'}, {'Revenue Today': 345.0, 'Issue Date': '10/10/2017'}, {'Revenue Today': 65.0, 'Issue Date': '10/11/2017'}, {'Revenue Today': 65.0, 'Issue Date': '10/12/2017'}, {'Revenue Today': 115.0, 'Issue Date': '10/15/2017'}, {'Revenue Today': 540.0, 'Issue Date': '10/16/2017'}, {'Revenue Today': 345.0, 'Issue Date': '10/18/2017'}, {'Revenue Today': 115.0, 'Issue Date': '10/22/2017'}, {'Revenue Today': 45.0, 'Issue Date': '10/24/2017'}, {'Revenue Today': 230.0, 'Issue Date': '10/28/2017'}, {'Revenue Today': 230.0, 'Issue Date': '10/31/2017'}, {'Revenue Today': 60.0, 'Issue Date': '11/05/2017'}, {'Revenue Today': 115.0, 'Issue Date': '11/09/2017'}, {'Revenue Today': 95.0, 'Issue Date': '11/13/2017'}, {'Revenue Today': 115.0, 'Issue Date': '11/14/2017'}, {'Revenue Today': 115.0, 'Issue Date': '11/15/2017'}, {'Revenue Today': 240.0, 'Issue Date': '11/16/2017'}, {'Revenue Today': 115.0, 'Issue Date': '11/18/2017'}, {'Revenue Today': 295.0, 'Issue Date': '11/19/2017'}, {'Revenue Today': 230.0, 'Issue Date': '11/21/2017'}, {'Revenue Today': 330.0, 'Issue Date': '11/23/2017'}, {'Revenue Today': 65.0, 'Issue Date': '11/24/2017'}, {'Revenue Today': 205.0, 'Issue Date': '11/27/2017'}, {'Revenue Today': 275.0, 'Issue Date': '11/30/2017'}, {'Revenue Today': 60.0, 'Issue Date': '12/01/2017'}, {'Revenue Today': 180.0, 'Issue Date': '12/05/2017'}, {'Revenue Today': 65.0, 'Issue Date': '12/08/2017'}, {'Revenue Today': 115.0, 'Issue Date': '12/11/2017'}, {'Revenue Today': 160.0, 'Issue Date': '12/13/2017'}, {'Revenue Today': 575.0, 'Issue Date': '12/16/2017'}, {'Revenue Today': 65.0, 'Issue Date': '12/18/2017'}, {'Revenue Today': 35.0, 'Issue Date': '12/20/2017'}, {'Revenue Today': 95.0, 'Issue Date': '12/21/2017'}, {'Revenue Today': 180.0, 'Issue Date': '12/22/2017'}, {'Revenue Today': 115.0, 'Issue Date': '01/01/2018'}, {'Revenue Today': 115.0, 'Issue Date': '01/02/2018'}, {'Revenue Today': 115.0, 'Issue Date': '01/03/2018'}, {'Revenue Today': 95.0, 'Issue Date': '01/04/2018'}, {'Revenue Today': 65.0, 'Issue Date': '01/05/2018'}, {'Revenue Today': 230.0, 'Issue Date': '01/07/2018'}, {'Revenue Today': 275.0, 'Issue Date': '01/10/2018'}, {'Revenue Today': 65.0, 'Issue Date': '01/15/2018'}, {'Revenue Today': 45.0, 'Issue Date': '01/16/2018'}, {'Revenue Today': 275.0, 'Issue Date': '01/17/2018'}, {'Revenue Today': 115.0, 'Issue Date': '01/19/2018'}, {'Revenue Today': 115.0, 'Issue Date': '01/23/2018'}, {'Revenue Today': 115.0, 'Issue Date': '01/26/2018'}, {'Revenue Today': 95.0, 'Issue Date': '01/27/2018'}, {'Revenue Today': 115.0, 'Issue Date': '01/29/2018'}, {'Revenue Today': 65.0, 'Issue Date': '01/30/2018'}, {'Revenue Today': 230.0, 'Issue Date': '02/08/2018'}, {'Revenue Today': 115.0, 'Issue Date': '02/14/2018'}, {'Revenue Today': 115.0, 'Issue Date': '02/17/2018'}, {'Revenue Today': 345.0, 'Issue Date': '07/17/2018'}, {'Revenue Today': 65.0, 'Issue Date': '07/23/2018'}, {'Revenue Today': 230.0, 'Issue Date': '07/24/2018'}, {'Revenue Today': 115.0, 'Issue Date': '07/29/2018'}, {'Revenue Today': 115.0, 'Issue Date': '07/31/2018'}, {'Revenue Today': 115.0, 'Issue Date': '08/06/2018'}, {'Revenue Today': 65.0, 'Issue Date': '08/14/2018'}, {'Revenue Today': 505.0, 'Issue Date': '08/18/2018'}, {'Revenue Today': 65.0, 'Issue Date': '08/21/2018'}, {'Revenue Today': 115.0, 'Issue Date': '08/23/2018'}, {'Revenue Today': 115.0, 'Issue Date': '08/26/2018'}, {'Revenue Today': 95.0, 'Issue Date': '08/28/2018'}, {'Revenue Today': 460.0, 'Issue Date': '08/30/2018'}, {'Revenue Today': 115.0, 'Issue Date': '09/03/2018'}, {'Revenue Today': 45.0, 'Issue Date': '09/07/2018'}, {'Revenue Today': 165.0, 'Issue Date': '09/09/2018'}, {'Revenue Today': 115.0, 'Issue Date': '09/10/2018'}, {'Revenue Today': 95.0, 'Issue Date': '09/13/2018'}, {'Revenue Today': 115.0, 'Issue Date': '09/16/2018'}, {'Revenue Today': 65.0, 'Issue Date': '09/17/2018'}, {'Revenue Today': 115.0, 'Issue Date': '09/18/2018'}, {'Revenue Today': 115.0, 'Issue Date': '09/19/2018'}, {'Revenue Today': 115.0, 'Issue Date': '09/28/2018'}, {'Revenue Today': 230.0, 'Issue Date': '09/30/2018'}, {'Revenue Today': 45.0, 'Issue Date': '10/09/2018'}, {'Revenue Today': 230.0, 'Issue Date': '10/11/2018'}, {'Revenue Today': 165.0, 'Issue Date': '10/17/2018'}, {'Revenue Today': 225.0, 'Issue Date': '10/21/2018'}, {'Revenue Today': 160.0, 'Issue Date': '10/22/2018'}, {'Revenue Today': 115.0, 'Issue Date': '10/23/2018'}, {'Revenue Today': 45.0, 'Issue Date': '10/31/2018'}, {'Revenue Today': 65.0, 'Issue Date': '11/02/2018'}, {'Revenue Today': 60.0, 'Issue Date': '11/03/2018'}, {'Revenue Today': 325.0, 'Issue Date': '11/17/2018'}, {'Revenue Today': 475.0, 'Issue Date': '11/19/2018'}, {'Revenue Today': 115.0, 'Issue Date': '11/22/2018'}, {'Revenue Today': 45.0, 'Issue Date': '11/25/2018'}, {'Revenue Today': 115.0, 'Issue Date': '11/28/2018'}, {'Revenue Today': 65.0, 'Issue Date': '12/09/2018'}, {'Revenue Today': 200.0, 'Issue Date': '12/13/2018'}, {'Revenue Today': 115.0, 'Issue Date': '12/16/2018'}, {'Revenue Today': 245.0, 'Issue Date': '12/17/2018'}, {'Revenue Today': 115.0, 'Issue Date': '12/18/2018'}, {'Revenue Today': 115.0, 'Issue Date': '12/28/2018'}, {'Revenue Today': 65.0, 'Issue Date': '01/01/2019'}, {'Revenue Today': 115.0, 'Issue Date': '01/02/2019'}, {'Revenue Today': 115.0, 'Issue Date': '01/06/2019'}, {'Revenue Today': 290.0, 'Issue Date': '01/07/2019'}, {'Revenue Today': 230.0, 'Issue Date': '01/08/2019'}, {'Revenue Today': 315.0, 'Issue Date': '01/09/2019'}, {'Revenue Today': 230.0, 'Issue Date': '01/10/2019'}, {'Revenue Today': 295.0, 'Issue Date': '01/11/2019'}, {'Revenue Today': 115.0, 'Issue Date': '01/12/2019'}, {'Revenue Today': 230.0, 'Issue Date': '01/14/2019'}, {'Revenue Today': 325.0, 'Issue Date': '01/15/2019'}, {'Revenue Today': 345.0, 'Issue Date': '01/16/2019'}, {'Revenue Today': 115.0, 'Issue Date': '01/17/2019'}, {'Revenue Today': 205.0, 'Issue Date': '01/18/2019'}, {'Revenue Today': 460.0, 'Issue Date': '01/19/2019'}, {'Revenue Today': 295.0, 'Issue Date': '01/20/2019'}, {'Revenue Today': 115.0, 'Issue Date': '01/21/2019'}, {'Revenue Today': 95.0, 'Issue Date': '01/26/2019'}, {'Revenue Today': 65.0, 'Issue Date': '01/27/2019'}, {'Revenue Today': 295.0, 'Issue Date': '01/28/2019'}, {'Revenue Today': 115.0, 'Issue Date': '01/30/2019'}, {'Revenue Today': 230.0, 'Issue Date': '02/05/2019'}, {'Revenue Today': 230.0, 'Issue Date': '02/06/2019'}, {'Revenue Today': 230.0, 'Issue Date': '02/07/2019'}, {'Revenue Today': 60.0, 'Issue Date': '02/10/2019'}, {'Revenue Today': 115.0, 'Issue Date': '02/11/2019'}, {'Revenue Today': 210.0, 'Issue Date': '02/12/2019'}, {'Revenue Today': 230.0, 'Issue Date': '02/14/2019'}, {'Revenue Today': 60.0, 'Issue Date': '02/16/2019'}, {'Revenue Today': 65.0, 'Issue Date': '02/17/2019'}, {'Revenue Today': 180.0, 'Issue Date': '07/18/2019'}, {'Revenue Today': 640.0, 'Issue Date': '07/20/2019'}, {'Revenue Today': 255.0, 'Issue Date': '07/22/2019'}, {'Revenue Today': 65.0, 'Issue Date': '07/25/2019'}, {'Revenue Today': 160.0, 'Issue Date': '07/31/2019'}, {'Revenue Today': 65.0, 'Issue Date': '08/06/2019'}, {'Revenue Today': 65.0, 'Issue Date': '08/09/2019'}, {'Revenue Today': 115.0, 'Issue Date': '08/15/2019'}, {'Revenue Today': 65.0, 'Issue Date': '08/17/2019'}, {'Revenue Today': 115.0, 'Issue Date': '08/19/2019'}, {'Revenue Today': 535.0, 'Issue Date': '08/20/2019'}, {'Revenue Today': 295.0, 'Issue Date': '08/23/2019'}, {'Revenue Today': 115.0, 'Issue Date': '08/30/2019'}, {'Revenue Today': 115.0, 'Issue Date': '09/01/2019'}, {'Revenue Today': 65.0, 'Issue Date': '09/06/2019'}, {'Revenue Today': 115.0, 'Issue Date': '09/09/2019'}, {'Revenue Today': 115.0, 'Issue Date': '09/11/2019'}, {'Revenue Today': 345.0, 'Issue Date': '09/13/2019'}, {'Revenue Today': 115.0, 'Issue Date': '09/16/2019'}, {'Revenue Today': 245.0, 'Issue Date': '09/18/2019'}, {'Revenue Today': 275.0, 'Issue Date': '09/19/2019'}, {'Revenue Today': 405.0, 'Issue Date': '09/20/2019'}, {'Revenue Today': 165.0, 'Issue Date': '09/21/2019'}, {'Revenue Today': 65.0, 'Issue Date': '09/23/2019'}, {'Revenue Today': 115.0, 'Issue Date': '09/24/2019'}, {'Revenue Today': 115.0, 'Issue Date': '09/30/2019'}, {'Revenue Today': 45.0, 'Issue Date': '10/02/2019'}, {'Revenue Today': 180.0, 'Issue Date': '10/03/2019'}, {'Revenue Today': 165.0, 'Issue Date': '10/04/2019'}, {'Revenue Today': 230.0, 'Issue Date': '10/08/2019'}, {'Revenue Today': 95.0, 'Issue Date': '10/09/2019'}, {'Revenue Today': 65.0, 'Issue Date': '10/10/2019'}, {'Revenue Today': 115.0, 'Issue Date': '10/11/2019'}, {'Revenue Today': 210.0, 'Issue Date': '10/18/2019'}, {'Revenue Today': 180.0, 'Issue Date': '10/20/2019'}, {'Revenue Today': 115.0, 'Issue Date': '10/21/2019'}, {'Revenue Today': 115.0, 'Issue Date': '10/31/2019'}, {'Revenue Today': 65.0, 'Issue Date': '11/03/2019'}, {'Revenue Today': 115.0, 'Issue Date': '11/09/2019'}, {'Revenue Today': 110.0, 'Issue Date': '11/11/2019'}, {'Revenue Today': 45.0, 'Issue Date': '11/12/2019'}, {'Revenue Today': 280.0, 'Issue Date': '11/15/2019'}, {'Revenue Today': 240.0, 'Issue Date': '11/18/2019'}, {'Revenue Today': 180.0, 'Issue Date': '11/20/2019'}, {'Revenue Today': 95.0, 'Issue Date': '11/21/2019'}, {'Revenue Today': 65.0, 'Issue Date': '11/22/2019'}, {'Revenue Today': 115.0, 'Issue Date': '11/24/2019'}, {'Revenue Today': 45.0, 'Issue Date': '11/30/2019'}, {'Revenue Today': 65.0, 'Issue Date': '12/02/2019'}, {'Revenue Today': 115.0, 'Issue Date': '12/13/2019'}, {'Revenue Today': 95.0, 'Issue Date': '12/15/2019'}, {'Revenue Today': 115.0, 'Issue Date': '12/16/2019'}, {'Revenue Today': 605.0, 'Issue Date': '12/18/2019'}, {'Revenue Today': 390.0, 'Issue Date': '12/20/2019'}, {'Revenue Today': 115.0, 'Issue Date': '12/23/2019'}, {'Revenue Today': 115.0, 'Issue Date': '12/30/2019'}, {'Revenue Today': 115.0, 'Issue Date': '01/18/2020'}, {'Revenue Today': 65.0, 'Issue Date': '08/18/2020'}, {'Revenue Today': 45.0, 'Issue Date': '08/19/2020'}, {'Revenue Today': 115.0, 'Issue Date': '01/12/2021'}, {'Revenue Today': 115.0, 'Issue Date': '02/02/2021'}, {'Revenue Today': 65.0, 'Issue Date': '02/08/2021'}, {'Revenue Today': 60.0, 'Issue Date': '07/18/2021'}, {'Revenue Today': 115.0, 'Issue Date': '08/02/2021'}, {'Revenue Today': 95.0, 'Issue Date': '08/05/2021'}, {'Revenue Today': 180.0, 'Issue Date': '08/07/2021'}, {'Revenue Today': 65.0, 'Issue Date': '09/05/2021'}, {'Revenue Today': 115.0, 'Issue Date': '09/12/2021'}, {'Revenue Today': 60.0, 'Issue Date': '09/19/2021'}, {'Revenue Today': 115.0, 'Issue Date': '10/30/2021'}, {'Revenue Today': 65.0, 'Issue Date': '11/10/2021'}, {'Revenue Today': 45.0, 'Issue Date': '11/29/2021'}, {'Revenue Today': 180.0, 'Issue Date': '12/26/2021'}, {'Revenue Today': 60.0, 'Issue Date': '01/04/2023'}, {'Revenue Today': 65.0, 'Issue Date': '07/18/2023'}, {'Revenue Today': 115.0, 'Issue Date': '08/08/2023'}, {'Revenue Today': 115.0, 'Issue Date': '08/13/2023'}, {'Revenue Today': 115.0, 'Issue Date': '08/17/2023'}, {'Revenue Today': 115.0, 'Issue Date': '08/22/2023'}, {'Revenue Today': 65.0, 'Issue Date': '08/30/2023'}, {'Revenue Today': 210.0, 'Issue Date': '09/01/2023'}, {'Revenue Today': 65.0, 'Issue Date': '09/02/2023'}, {'Revenue Today': 115.0, 'Issue Date': '09/06/2023'}, {'Revenue Today': 65.0, 'Issue Date': '09/18/2023'}, {'Revenue Today': 180.0, 'Issue Date': '09/19/2023'}, {'Revenue Today': 45.0, 'Issue Date': '09/23/2023'}, {'Revenue Today': 115.0, 'Issue Date': '09/25/2023'}, {'Revenue Today': 95.0, 'Issue Date': '09/29/2023'}, {'Revenue Today': 115.0, 'Issue Date': '10/06/2023'}, {'Revenue Today': 115.0, 'Issue Date': '10/11/2023'}, {'Revenue Today': 115.0, 'Issue Date': '10/22/2023'}, {'Revenue Today': 115.0, 'Issue Date': '10/23/2023'}, {'Revenue Today': 115.0, 'Issue Date': '10/24/2023'}, {'Revenue Today': 115.0, 'Issue Date': '11/01/2023'}, {'Revenue Today': 115.0, 'Issue Date': '11/06/2023'}, {'Revenue Today': 230.0, 'Issue Date': '11/25/2023'}, {'Revenue Today': 180.0, 'Issue Date': '12/03/2023'}, {'Revenue Today': 65.0, 'Issue Date': '12/16/2023'}, {'Revenue Today': 105.0, 'Issue Date': '12/19/2023'}, {'Revenue Today': 180.0, 'Issue Date': '12/23/2023'}, {'Revenue Today': 115.0, 'Issue Date': '01/05/2024'}, {'Revenue Today': 95.0, 'Issue Date': '01/14/2024'}, {'Revenue Today': 115.0, 'Issue Date': '09/29/2024'}, {'Revenue Today': 115.0, 'Issue Date': '10/10/2024'}, {'Revenue Today': 45.0, 'Issue Date': '12/10/2024'}, {'Revenue Today': 115.0, 'Issue Date': '01/06/2025'}, {'Revenue Today': 115.0, 'Issue Date': '01/09/2025'}, {'Revenue Today': 115.0, 'Issue Date': '01/16/2025'}, {'Revenue Today': 60.0, 'Issue Date': '03/02/2025'}, {'Revenue Today': 65.0, 'Issue Date': '10/16/2025'}, {'Revenue Today': 45.0, 'Issue Date': '11/11/2025'}, {'Revenue Today': 115.0, 'Issue Date': '10/09/2027'}, {'Revenue Today': 95.0, 'Issue Date': '10/29/2027'}, {'Revenue Today': 115.0, 'Issue Date': '01/13/2028'}, {'Revenue Today': 130.0, 'Issue Date': '11/30/2028'}, {'Revenue Today': 115.0, 'Issue Date': '11/11/2029'}, {'Revenue Today': 60.0, 'Issue Date': '12/29/2029'}, {'Revenue Today': 115.0, 'Issue Date': '01/15/2030'}, {'Revenue Today': 65.0, 'Issue Date': '06/29/2030'}, {'Revenue Today': 115.0, 'Issue Date': '07/30/2030'}, {'Revenue Today': 115.0, 'Issue Date': '08/01/2030'}, {'Revenue Today': 45.0, 'Issue Date': '08/19/2030'}, {'Revenue Today': 115.0, 'Issue Date': '08/28/2030'}, {'Revenue Today': 290.0, 'Issue Date': '08/29/2030'}, {'Revenue Today': 115.0, 'Issue Date': '09/01/2030'}, {'Revenue Today': 65.0, 'Issue Date': '09/28/2030'}, {'Revenue Today': 160.0, 'Issue Date': '09/29/2030'}, {'Revenue Today': 45.0, 'Issue Date': '09/30/2030'}, {'Revenue Today': 45.0, 'Issue Date': '10/19/2030'}, {'Revenue Today': 60.0, 'Issue Date': '10/20/2030'}, {'Revenue Today': 115.0, 'Issue Date': '10/25/2030'}, {'Revenue Today': 65.0, 'Issue Date': '10/28/2030'}, {'Revenue Today': 630.0, 'Issue Date': '10/29/2030'}, {'Revenue Today': 45.0, 'Issue Date': '11/12/2030'}, {'Revenue Today': 115.0, 'Issue Date': '11/20/2030'}, {'Revenue Today': 650.0, 'Issue Date': '11/29/2030'}, {'Revenue Today': 60.0, 'Issue Date': '11/30/2030'}, {'Revenue Today': 115.0, 'Issue Date': '12/17/2030'}, {'Revenue Today': 115.0, 'Issue Date': '12/19/2030'}, {'Revenue Today': 115.0, 'Issue Date': '12/21/2030'}, {'Revenue Today': 115.0, 'Issue Date': '12/27/2030'}, {'Revenue Today': 165.0, 'Issue Date': '12/29/2030'}, {'Revenue Today': 230.0, 'Issue Date': '12/30/2030'}, {'Revenue Today': 115.0, 'Issue Date': '01/11/2031'}, {'Revenue Today': 115.0, 'Issue Date': '01/13/2031'}, {'Revenue Today': 115.0, 'Issue Date': '01/23/2031'}, {'Revenue Today': 115.0, 'Issue Date': '02/03/2031'}, {'Revenue Today': 115.0, 'Issue Date': '07/13/2031'}, {'Revenue Today': 115.0, 'Issue Date': '07/15/2031'}, {'Revenue Today': 95.0, 'Issue Date': '07/29/2031'}, {'Revenue Today': 115.0, 'Issue Date': '07/30/2031'}, {'Revenue Today': 310.0, 'Issue Date': '07/31/2031'}, {'Revenue Today': 245.0, 'Issue Date': '08/01/2031'}, {'Revenue Today': 115.0, 'Issue Date': '08/07/2031'}, {'Revenue Today': 115.0, 'Issue Date': '08/13/2031'}, {'Revenue Today': 65.0, 'Issue Date': '08/27/2031'}, {'Revenue Today': 65.0, 'Issue Date': '08/28/2031'}, {'Revenue Today': 390.0, 'Issue Date': '08/29/2031'}, {'Revenue Today': 180.0, 'Issue Date': '09/01/2031'}, {'Revenue Today': 115.0, 'Issue Date': '09/13/2031'}, {'Revenue Today': 65.0, 'Issue Date': '09/21/2031'}, {'Revenue Today': 45.0, 'Issue Date': '10/01/2031'}, {'Revenue Today': 115.0, 'Issue Date': '10/09/2031'}, {'Revenue Today': 115.0, 'Issue Date': '10/10/2031'}, {'Revenue Today': 115.0, 'Issue Date': '10/11/2031'}, {'Revenue Today': 65.0, 'Issue Date': '10/13/2031'}, {'Revenue Today': 115.0, 'Issue Date': '10/17/2031'}, {'Revenue Today': 115.0, 'Issue Date': '10/28/2031'}, {'Revenue Today': 140.0, 'Issue Date': '10/29/2031'}, {'Revenue Today': 115.0, 'Issue Date': '10/30/2031'}, {'Revenue Today': 410.0, 'Issue Date': '10/31/2031'}, {'Revenue Today': 340.0, 'Issue Date': '11/01/2031'}, {'Revenue Today': 45.0, 'Issue Date': '11/02/2031'}, {'Revenue Today': 65.0, 'Issue Date': '11/08/2031'}, {'Revenue Today': 45.0, 'Issue Date': '11/12/2031'}, {'Revenue Today': 60.0, 'Issue Date': '11/14/2031'}, {'Revenue Today': 115.0, 'Issue Date': '11/17/2031'}, {'Revenue Today': nan, 'Issue Date': '11/18/2031'}, {'Revenue Today': nan, 'Issue Date': '11/21/2031'}, {'Revenue Today': 115.0, 'Issue Date': '11/23/2031'}, {'Revenue Today': 60.0, 'Issue Date': '11/29/2031'}, {'Revenue Today': 115.0, 'Issue Date': '11/30/2031'}, {'Revenue Today': 115.0, 'Issue Date': '12/06/2031'}, {'Revenue Today': 160.0, 'Issue Date': '12/08/2031'}, {'Revenue Today': 440.0, 'Issue Date': '12/13/2031'}, {'Revenue Today': 345.0, 'Issue Date': '12/15/2031'}, {'Revenue Today': 115.0, 'Issue Date': '12/18/2031'}, {'Revenue Today': 115.0, 'Issue Date': '12/19/2031'}, {'Revenue Today': 65.0, 'Issue Date': '12/21/2031'}, {'Revenue Today': 45.0, 'Issue Date': '12/22/2031'}, {'Revenue Today': 65.0, 'Issue Date': '12/23/2031'}, {'Revenue Today': 65.0, 'Issue Date': '12/27/2031'}, {'Revenue Today': 95.0, 'Issue Date': '12/29/2031'}, {'Revenue Today': 115.0, 'Issue Date': '12/30/2031'}, {'Revenue Today': 595.0, 'Issue Date': '12/31/2031'}, {'Revenue Today': 65.0, 'Issue Date': '07/28/2032'}, {'Revenue Today': 115.0, 'Issue Date': '08/16/2032'}, {'Revenue Today': 60.0, 'Issue Date': '12/28/2032'}, {'Revenue Today': 115.0, 'Issue Date': '09/04/2033'}, {'Revenue Today': 65.0, 'Issue Date': '10/12/2033'}, {'Revenue Today': 65.0, 'Issue Date': '10/23/2033'}, {'Revenue Today': 115.0, 'Issue Date': '11/27/2033'}, {'Revenue Today': 45.0, 'Issue Date': '12/11/2033'}, {'Revenue Today': 175.0, 'Issue Date': '12/15/2033'}, {'Revenue Today': 115.0, 'Issue Date': '01/19/2040'}, {'Revenue Today': 65.0, 'Issue Date': '01/01/2041'}, {'Revenue Today': 65.0, 'Issue Date': '02/01/2041'}, {'Revenue Today': 65.0, 'Issue Date': '02/04/2041'}, {'Revenue Today': 115.0, 'Issue Date': '07/22/2041'}, {'Revenue Today': 65.0, 'Issue Date': '08/03/2041'}, {'Revenue Today': 45.0, 'Issue Date': '08/18/2041'}, {'Revenue Today': 95.0, 'Issue Date': '09/25/2041'}, {'Revenue Today': 45.0, 'Issue Date': '10/01/2041'}, {'Revenue Today': 115.0, 'Issue Date': '10/22/2041'}, {'Revenue Today': 115.0, 'Issue Date': '11/07/2041'}, {'Revenue Today': 95.0, 'Issue Date': '11/11/2041'}, {'Revenue Today': 60.0, 'Issue Date': '11/22/2041'}, {'Revenue Today': 65.0, 'Issue Date': '12/04/2041'}, {'Revenue Today': 115.0, 'Issue Date': '12/19/2041'}, {'Revenue Today': 160.0, 'Issue Date': '12/27/2041'}, {'Revenue Today': 115.0, 'Issue Date': '09/19/2043'}, {'Revenue Today': 65.0, 'Issue Date': '09/24/2043'}, {'Revenue Today': 115.0, 'Issue Date': '10/07/2043'}, {'Revenue Today': 45.0, 'Issue Date': '10/11/2043'}, {'Revenue Today': 115.0, 'Issue Date': '10/28/2043'}, {'Revenue Today': 115.0, 'Issue Date': '10/31/2043'}, {'Revenue Today': 115.0, 'Issue Date': '11/25/2043'}, {'Revenue Today': 115.0, 'Issue Date': '12/14/2043'}, {'Revenue Today': 95.0, 'Issue Date': '12/15/2043'}, {'Revenue Today': 95.0, 'Issue Date': '08/04/2044'}, {'Revenue Today': 115.0, 'Issue Date': '08/26/2044'}, {'Revenue Today': 95.0, 'Issue Date': '12/11/2044'}, {'Revenue Today': 115.0, 'Issue Date': '09/11/2045'}, {'Revenue Today': 115.0, 'Issue Date': '10/11/2045'}, {'Revenue Today': 115.0, 'Issue Date': '01/04/2046'}, {'Revenue Today': 165.0, 'Issue Date': '11/14/2046'}, {'Revenue Today': 115.0, 'Issue Date': '02/13/2047'}, {'Revenue Today': 65.0, 'Issue Date': '08/29/2047'}, {'Revenue Today': 115.0, 'Issue Date': '02/12/2049'}, {'Revenue Today': 65.0, 'Issue Date': '08/12/2049'}, {'Revenue Today': 45.0, 'Issue Date': '01/31/2050'}, {'Revenue Today': 35.0, 'Issue Date': '01/22/2051'}, {'Revenue Today': 115.0, 'Issue Date': '09/28/2051'}, {'Revenue Today': 60.0, 'Issue Date': '10/18/2051'}, {'Revenue Today': 115.0, 'Issue Date': '11/11/2051'}, {'Revenue Today': 115.0, 'Issue Date': '11/12/2051'}, {'Revenue Today': 65.0, 'Issue Date': '01/18/2052'}, {'Revenue Today': 65.0, 'Issue Date': '08/02/2053'}, {'Revenue Today': 65.0, 'Issue Date': '01/17/2060'}, {'Revenue Today': 115.0, 'Issue Date': '08/09/2060'}, {'Revenue Today': 115.0, 'Issue Date': '08/19/2060'}, {'Revenue Today': 95.0, 'Issue Date': '01/11/2061'}, {'Revenue Today': 65.0, 'Issue Date': '09/12/2061'}, {'Revenue Today': 115.0, 'Issue Date': '11/12/2061'}, {'Revenue Today': 115.0, 'Issue Date': '12/19/2061'}, {'Revenue Today': 115.0, 'Issue Date': '12/22/2061'}, {'Revenue Today': 45.0, 'Issue Date': '09/30/2063'}, {'Revenue Today': 115.0, 'Issue Date': '11/04/2063'}, {'Revenue Today': 115.0, 'Issue Date': '11/05/2063'}, {'Revenue Today': 230.0, 'Issue Date': '11/06/2063'}, {'Revenue Today': 115.0, 'Issue Date': '12/20/2063'}, {'Revenue Today': 115.0, 'Issue Date': '12/29/2063'}, {'Revenue Today': 115.0, 'Issue Date': '11/03/2066'}, {'Revenue Today': 115.0, 'Issue Date': '12/23/2069'}]\n"
     ]
    }
   ],
   "source": [
    "rev_today = []\n",
    "rev_dict = {}\n",
    "for date in sorted_issue_dates_list:\n",
    "    rev_dict['Issue Date'] = date\n",
    "    if date_and_revenue_dict[date]:\n",
    "        rev_dict['Revenue Today'] = date_and_revenue_dict[date]\n",
    "    else:\n",
    "        rev_dict['Revenue Today'] = 0\n",
    "    rev_today.append(rev_dict)\n",
    "    rev_dict = {}\n",
    "\n",
    "print(rev_today)"
   ]
  },
  {
   "cell_type": "markdown",
   "metadata": {},
   "source": [
    "I want to get the dictionary underneath 'All Other Areas Int' and have move all of the keys and values into dictionaries.\n",
    "<p> also want to replace all nan values for the revenue with 0\n",
    "<p> so dictionary_name['All Other Areas Int'] ->\n",
    "<p>\n",
    "    `rev_today = [\n",
    "    {'Issue Date': '01/04/2012', 'Revenue Today': 115.0},\n",
    "    {'Issue Date': '01/05/2013', 'Revenue Today': 115.0},\n",
    "    ...\n",
    "    {'Issue Date': '01/14/2013', 'Revenue Today': 0},\n",
    "    ...\n",
    "    ]`"
   ]
  },
  {
   "cell_type": "code",
   "execution_count": 88,
   "metadata": {
    "collapsed": false
   },
   "outputs": [
    {
     "data": {
      "text/html": [
       "<div>\n",
       "<table border=\"1\" class=\"dataframe\">\n",
       "  <thead>\n",
       "    <tr style=\"text-align: right;\">\n",
       "      <th></th>\n",
       "      <th>Issue Date</th>\n",
       "      <th>Revenue Today</th>\n",
       "    </tr>\n",
       "  </thead>\n",
       "  <tbody>\n",
       "    <tr>\n",
       "      <th>0</th>\n",
       "      <td>12/18/1970</td>\n",
       "      <td>60.0</td>\n",
       "    </tr>\n",
       "    <tr>\n",
       "      <th>1</th>\n",
       "      <td>09/18/1971</td>\n",
       "      <td>135.0</td>\n",
       "    </tr>\n",
       "    <tr>\n",
       "      <th>2</th>\n",
       "      <td>10/10/1971</td>\n",
       "      <td>115.0</td>\n",
       "    </tr>\n",
       "    <tr>\n",
       "      <th>3</th>\n",
       "      <td>07/22/1973</td>\n",
       "      <td>115.0</td>\n",
       "    </tr>\n",
       "    <tr>\n",
       "      <th>4</th>\n",
       "      <td>08/12/1973</td>\n",
       "      <td>45.0</td>\n",
       "    </tr>\n",
       "    <tr>\n",
       "      <th>5</th>\n",
       "      <td>09/22/1973</td>\n",
       "      <td>45.0</td>\n",
       "    </tr>\n",
       "    <tr>\n",
       "      <th>6</th>\n",
       "      <td>09/25/1973</td>\n",
       "      <td>90.0</td>\n",
       "    </tr>\n",
       "    <tr>\n",
       "      <th>7</th>\n",
       "      <td>10/15/1973</td>\n",
       "      <td>115.0</td>\n",
       "    </tr>\n",
       "    <tr>\n",
       "      <th>8</th>\n",
       "      <td>10/30/1973</td>\n",
       "      <td>115.0</td>\n",
       "    </tr>\n",
       "    <tr>\n",
       "      <th>9</th>\n",
       "      <td>11/12/1973</td>\n",
       "      <td>115.0</td>\n",
       "    </tr>\n",
       "    <tr>\n",
       "      <th>10</th>\n",
       "      <td>11/13/1973</td>\n",
       "      <td>45.0</td>\n",
       "    </tr>\n",
       "    <tr>\n",
       "      <th>11</th>\n",
       "      <td>01/15/1974</td>\n",
       "      <td>115.0</td>\n",
       "    </tr>\n",
       "    <tr>\n",
       "      <th>12</th>\n",
       "      <td>12/27/1976</td>\n",
       "      <td>65.0</td>\n",
       "    </tr>\n",
       "    <tr>\n",
       "      <th>13</th>\n",
       "      <td>01/01/1981</td>\n",
       "      <td>115.0</td>\n",
       "    </tr>\n",
       "    <tr>\n",
       "      <th>14</th>\n",
       "      <td>02/11/1981</td>\n",
       "      <td>155.0</td>\n",
       "    </tr>\n",
       "    <tr>\n",
       "      <th>15</th>\n",
       "      <td>01/11/1987</td>\n",
       "      <td>130.0</td>\n",
       "    </tr>\n",
       "    <tr>\n",
       "      <th>16</th>\n",
       "      <td>02/09/1987</td>\n",
       "      <td>65.0</td>\n",
       "    </tr>\n",
       "    <tr>\n",
       "      <th>17</th>\n",
       "      <td>12/09/1990</td>\n",
       "      <td>115.0</td>\n",
       "    </tr>\n",
       "    <tr>\n",
       "      <th>18</th>\n",
       "      <td>01/12/1991</td>\n",
       "      <td>115.0</td>\n",
       "    </tr>\n",
       "    <tr>\n",
       "      <th>19</th>\n",
       "      <td>01/01/2000</td>\n",
       "      <td>295.0</td>\n",
       "    </tr>\n",
       "    <tr>\n",
       "      <th>20</th>\n",
       "      <td>01/04/2000</td>\n",
       "      <td>460.0</td>\n",
       "    </tr>\n",
       "    <tr>\n",
       "      <th>21</th>\n",
       "      <td>01/05/2000</td>\n",
       "      <td>65.0</td>\n",
       "    </tr>\n",
       "    <tr>\n",
       "      <th>22</th>\n",
       "      <td>01/06/2000</td>\n",
       "      <td>275.0</td>\n",
       "    </tr>\n",
       "    <tr>\n",
       "      <th>23</th>\n",
       "      <td>01/07/2000</td>\n",
       "      <td>325.0</td>\n",
       "    </tr>\n",
       "    <tr>\n",
       "      <th>24</th>\n",
       "      <td>01/08/2000</td>\n",
       "      <td>325.0</td>\n",
       "    </tr>\n",
       "    <tr>\n",
       "      <th>25</th>\n",
       "      <td>01/09/2000</td>\n",
       "      <td>140.0</td>\n",
       "    </tr>\n",
       "    <tr>\n",
       "      <th>26</th>\n",
       "      <td>01/13/2000</td>\n",
       "      <td>245.0</td>\n",
       "    </tr>\n",
       "    <tr>\n",
       "      <th>27</th>\n",
       "      <td>01/14/2000</td>\n",
       "      <td>115.0</td>\n",
       "    </tr>\n",
       "    <tr>\n",
       "      <th>28</th>\n",
       "      <td>01/15/2000</td>\n",
       "      <td>230.0</td>\n",
       "    </tr>\n",
       "    <tr>\n",
       "      <th>29</th>\n",
       "      <td>01/17/2000</td>\n",
       "      <td>115.0</td>\n",
       "    </tr>\n",
       "    <tr>\n",
       "      <th>...</th>\n",
       "      <td>...</td>\n",
       "      <td>...</td>\n",
       "    </tr>\n",
       "    <tr>\n",
       "      <th>1927</th>\n",
       "      <td>01/04/2046</td>\n",
       "      <td>115.0</td>\n",
       "    </tr>\n",
       "    <tr>\n",
       "      <th>1928</th>\n",
       "      <td>11/14/2046</td>\n",
       "      <td>165.0</td>\n",
       "    </tr>\n",
       "    <tr>\n",
       "      <th>1929</th>\n",
       "      <td>02/13/2047</td>\n",
       "      <td>115.0</td>\n",
       "    </tr>\n",
       "    <tr>\n",
       "      <th>1930</th>\n",
       "      <td>08/29/2047</td>\n",
       "      <td>65.0</td>\n",
       "    </tr>\n",
       "    <tr>\n",
       "      <th>1931</th>\n",
       "      <td>02/12/2049</td>\n",
       "      <td>115.0</td>\n",
       "    </tr>\n",
       "    <tr>\n",
       "      <th>1932</th>\n",
       "      <td>08/12/2049</td>\n",
       "      <td>65.0</td>\n",
       "    </tr>\n",
       "    <tr>\n",
       "      <th>1933</th>\n",
       "      <td>01/31/2050</td>\n",
       "      <td>45.0</td>\n",
       "    </tr>\n",
       "    <tr>\n",
       "      <th>1934</th>\n",
       "      <td>01/22/2051</td>\n",
       "      <td>35.0</td>\n",
       "    </tr>\n",
       "    <tr>\n",
       "      <th>1935</th>\n",
       "      <td>09/28/2051</td>\n",
       "      <td>115.0</td>\n",
       "    </tr>\n",
       "    <tr>\n",
       "      <th>1936</th>\n",
       "      <td>10/18/2051</td>\n",
       "      <td>60.0</td>\n",
       "    </tr>\n",
       "    <tr>\n",
       "      <th>1937</th>\n",
       "      <td>11/11/2051</td>\n",
       "      <td>115.0</td>\n",
       "    </tr>\n",
       "    <tr>\n",
       "      <th>1938</th>\n",
       "      <td>11/12/2051</td>\n",
       "      <td>115.0</td>\n",
       "    </tr>\n",
       "    <tr>\n",
       "      <th>1939</th>\n",
       "      <td>01/18/2052</td>\n",
       "      <td>65.0</td>\n",
       "    </tr>\n",
       "    <tr>\n",
       "      <th>1940</th>\n",
       "      <td>08/02/2053</td>\n",
       "      <td>65.0</td>\n",
       "    </tr>\n",
       "    <tr>\n",
       "      <th>1941</th>\n",
       "      <td>01/17/2060</td>\n",
       "      <td>65.0</td>\n",
       "    </tr>\n",
       "    <tr>\n",
       "      <th>1942</th>\n",
       "      <td>08/09/2060</td>\n",
       "      <td>115.0</td>\n",
       "    </tr>\n",
       "    <tr>\n",
       "      <th>1943</th>\n",
       "      <td>08/19/2060</td>\n",
       "      <td>115.0</td>\n",
       "    </tr>\n",
       "    <tr>\n",
       "      <th>1944</th>\n",
       "      <td>01/11/2061</td>\n",
       "      <td>95.0</td>\n",
       "    </tr>\n",
       "    <tr>\n",
       "      <th>1945</th>\n",
       "      <td>09/12/2061</td>\n",
       "      <td>65.0</td>\n",
       "    </tr>\n",
       "    <tr>\n",
       "      <th>1946</th>\n",
       "      <td>11/12/2061</td>\n",
       "      <td>115.0</td>\n",
       "    </tr>\n",
       "    <tr>\n",
       "      <th>1947</th>\n",
       "      <td>12/19/2061</td>\n",
       "      <td>115.0</td>\n",
       "    </tr>\n",
       "    <tr>\n",
       "      <th>1948</th>\n",
       "      <td>12/22/2061</td>\n",
       "      <td>115.0</td>\n",
       "    </tr>\n",
       "    <tr>\n",
       "      <th>1949</th>\n",
       "      <td>09/30/2063</td>\n",
       "      <td>45.0</td>\n",
       "    </tr>\n",
       "    <tr>\n",
       "      <th>1950</th>\n",
       "      <td>11/04/2063</td>\n",
       "      <td>115.0</td>\n",
       "    </tr>\n",
       "    <tr>\n",
       "      <th>1951</th>\n",
       "      <td>11/05/2063</td>\n",
       "      <td>115.0</td>\n",
       "    </tr>\n",
       "    <tr>\n",
       "      <th>1952</th>\n",
       "      <td>11/06/2063</td>\n",
       "      <td>230.0</td>\n",
       "    </tr>\n",
       "    <tr>\n",
       "      <th>1953</th>\n",
       "      <td>12/20/2063</td>\n",
       "      <td>115.0</td>\n",
       "    </tr>\n",
       "    <tr>\n",
       "      <th>1954</th>\n",
       "      <td>12/29/2063</td>\n",
       "      <td>115.0</td>\n",
       "    </tr>\n",
       "    <tr>\n",
       "      <th>1955</th>\n",
       "      <td>11/03/2066</td>\n",
       "      <td>115.0</td>\n",
       "    </tr>\n",
       "    <tr>\n",
       "      <th>1956</th>\n",
       "      <td>12/23/2069</td>\n",
       "      <td>115.0</td>\n",
       "    </tr>\n",
       "  </tbody>\n",
       "</table>\n",
       "<p>1957 rows × 2 columns</p>\n",
       "</div>"
      ],
      "text/plain": [
       "      Issue Date  Revenue Today\n",
       "0     12/18/1970           60.0\n",
       "1     09/18/1971          135.0\n",
       "2     10/10/1971          115.0\n",
       "3     07/22/1973          115.0\n",
       "4     08/12/1973           45.0\n",
       "5     09/22/1973           45.0\n",
       "6     09/25/1973           90.0\n",
       "7     10/15/1973          115.0\n",
       "8     10/30/1973          115.0\n",
       "9     11/12/1973          115.0\n",
       "10    11/13/1973           45.0\n",
       "11    01/15/1974          115.0\n",
       "12    12/27/1976           65.0\n",
       "13    01/01/1981          115.0\n",
       "14    02/11/1981          155.0\n",
       "15    01/11/1987          130.0\n",
       "16    02/09/1987           65.0\n",
       "17    12/09/1990          115.0\n",
       "18    01/12/1991          115.0\n",
       "19    01/01/2000          295.0\n",
       "20    01/04/2000          460.0\n",
       "21    01/05/2000           65.0\n",
       "22    01/06/2000          275.0\n",
       "23    01/07/2000          325.0\n",
       "24    01/08/2000          325.0\n",
       "25    01/09/2000          140.0\n",
       "26    01/13/2000          245.0\n",
       "27    01/14/2000          115.0\n",
       "28    01/15/2000          230.0\n",
       "29    01/17/2000          115.0\n",
       "...          ...            ...\n",
       "1927  01/04/2046          115.0\n",
       "1928  11/14/2046          165.0\n",
       "1929  02/13/2047          115.0\n",
       "1930  08/29/2047           65.0\n",
       "1931  02/12/2049          115.0\n",
       "1932  08/12/2049           65.0\n",
       "1933  01/31/2050           45.0\n",
       "1934  01/22/2051           35.0\n",
       "1935  09/28/2051          115.0\n",
       "1936  10/18/2051           60.0\n",
       "1937  11/11/2051          115.0\n",
       "1938  11/12/2051          115.0\n",
       "1939  01/18/2052           65.0\n",
       "1940  08/02/2053           65.0\n",
       "1941  01/17/2060           65.0\n",
       "1942  08/09/2060          115.0\n",
       "1943  08/19/2060          115.0\n",
       "1944  01/11/2061           95.0\n",
       "1945  09/12/2061           65.0\n",
       "1946  11/12/2061          115.0\n",
       "1947  12/19/2061          115.0\n",
       "1948  12/22/2061          115.0\n",
       "1949  09/30/2063           45.0\n",
       "1950  11/04/2063          115.0\n",
       "1951  11/05/2063          115.0\n",
       "1952  11/06/2063          230.0\n",
       "1953  12/20/2063          115.0\n",
       "1954  12/29/2063          115.0\n",
       "1955  11/03/2066          115.0\n",
       "1956  12/23/2069          115.0\n",
       "\n",
       "[1957 rows x 2 columns]"
      ]
     },
     "execution_count": 88,
     "metadata": {},
     "output_type": "execute_result"
    }
   ],
   "source": [
    "df_revenue_per_day = pd.DataFrame(rev_today)\n",
    "df_revenue_per_day"
   ]
  },
  {
   "cell_type": "code",
   "execution_count": 89,
   "metadata": {
    "collapsed": false
   },
   "outputs": [
    {
     "data": {
      "text/plain": [
       "<matplotlib.text.Text at 0x15174d6a0>"
      ]
     },
     "execution_count": 89,
     "metadata": {},
     "output_type": "execute_result"
    },
    {
     "data": {
      "image/png": "[encoded data removed]",
      "text/plain": [
       "<matplotlib.figure.Figure at 0x1516eadd8>"
      ]
     },
     "metadata": {},
     "output_type": "display_data"
    }
   ],
   "source": [
    "ax = df_revenue_per_day.plot(kind = 'line', x = 'Issue Date', y = 'Revenue Today', legend = None)\n",
    "ax.set_title('Revenue for Traffic Violations Collected Per Day')"
   ]
  },
  {
   "cell_type": "markdown",
   "metadata": {},
   "source": [
    "## 16. Manually construct a dataframe out of https://dmv.ny.gov/statistic/2015licinforce-web.pdf (only NYC boroughts - bronx, queens, manhattan, staten island, brooklyn), having columns for borough name, abbreviation, and number of licensed drivers."
   ]
  },
  {
   "cell_type": "code",
   "execution_count": 90,
   "metadata": {
    "collapsed": false
   },
   "outputs": [
    {
     "data": {
      "text/html": [
       "<div>\n",
       "<table border=\"1\" class=\"dataframe\">\n",
       "  <thead>\n",
       "    <tr style=\"text-align: right;\">\n",
       "      <th></th>\n",
       "      <th>borough name</th>\n",
       "      <th>abbreviation</th>\n",
       "      <th>number of licensed drivers</th>\n",
       "    </tr>\n",
       "  </thead>\n",
       "  <tbody>\n",
       "    <tr>\n",
       "      <th>0</th>\n",
       "      <td>Bronx</td>\n",
       "      <td>BX</td>\n",
       "      <td>456847</td>\n",
       "    </tr>\n",
       "    <tr>\n",
       "      <th>1</th>\n",
       "      <td>Brooklyn</td>\n",
       "      <td>K</td>\n",
       "      <td>983769</td>\n",
       "    </tr>\n",
       "    <tr>\n",
       "      <th>2</th>\n",
       "      <td>Manhattan</td>\n",
       "      <td>NY</td>\n",
       "      <td>748583</td>\n",
       "    </tr>\n",
       "    <tr>\n",
       "      <th>3</th>\n",
       "      <td>Queens</td>\n",
       "      <td>Q</td>\n",
       "      <td>1134064</td>\n",
       "    </tr>\n",
       "    <tr>\n",
       "      <th>4</th>\n",
       "      <td>StatenIsland</td>\n",
       "      <td>R</td>\n",
       "      <td>304250</td>\n",
       "    </tr>\n",
       "  </tbody>\n",
       "</table>\n",
       "</div>"
      ],
      "text/plain": [
       "   borough name abbreviation  number of licensed drivers\n",
       "0         Bronx           BX                      456847\n",
       "1      Brooklyn            K                      983769\n",
       "2     Manhattan           NY                      748583\n",
       "3        Queens            Q                     1134064\n",
       "4  StatenIsland            R                      304250"
      ]
     },
     "execution_count": 90,
     "metadata": {},
     "output_type": "execute_result"
    }
   ],
   "source": [
    "df_licenses = pd.read_csv('driver_licenses.csv')\n",
    "df_licenses"
   ]
  },
  {
   "cell_type": "markdown",
   "metadata": {},
   "source": [
    "## 17. What's the parking-ticket-$-per-licensed-driver in each borough of NYC? Do this with pandas and the dataframe you just made, not with your head!"
   ]
  },
  {
   "cell_type": "code",
   "execution_count": 91,
   "metadata": {
    "collapsed": false
   },
   "outputs": [],
   "source": [
    "df_fees_per_county = df_merged[['Violation County', 'Fee for This Precinct']].groupby('Violation County').sum()"
   ]
  },
  {
   "cell_type": "code",
   "execution_count": 92,
   "metadata": {
    "collapsed": false
   },
   "outputs": [],
   "source": [
    "df_fees_per_county['Violation County'] = df_fees_per_county.index"
   ]
  },
  {
   "cell_type": "code",
   "execution_count": 93,
   "metadata": {
    "collapsed": false
   },
   "outputs": [
    {
     "data": {
      "text/html": [
       "<div>\n",
       "<table border=\"1\" class=\"dataframe\">\n",
       "  <thead>\n",
       "    <tr style=\"text-align: right;\">\n",
       "      <th></th>\n",
       "      <th>Fee for This Precinct</th>\n",
       "      <th>Violation County</th>\n",
       "    </tr>\n",
       "    <tr>\n",
       "      <th>Violation County</th>\n",
       "      <th></th>\n",
       "      <th></th>\n",
       "    </tr>\n",
       "  </thead>\n",
       "  <tbody>\n",
       "    <tr>\n",
       "      <th>103</th>\n",
       "      <td>115.0</td>\n",
       "      <td>103</td>\n",
       "    </tr>\n",
       "    <tr>\n",
       "      <th>BX</th>\n",
       "      <td>34721700.0</td>\n",
       "      <td>BX</td>\n",
       "    </tr>\n",
       "    <tr>\n",
       "      <th>K</th>\n",
       "      <td>72797900.0</td>\n",
       "      <td>K</td>\n",
       "    </tr>\n",
       "    <tr>\n",
       "      <th>NY</th>\n",
       "      <td>168979815.0</td>\n",
       "      <td>NY</td>\n",
       "    </tr>\n",
       "    <tr>\n",
       "      <th>NYC</th>\n",
       "      <td>180.0</td>\n",
       "      <td>NYC</td>\n",
       "    </tr>\n",
       "    <tr>\n",
       "      <th>Q</th>\n",
       "      <td>64471035.0</td>\n",
       "      <td>Q</td>\n",
       "    </tr>\n",
       "    <tr>\n",
       "      <th>QUEEN</th>\n",
       "      <td>230.0</td>\n",
       "      <td>QUEEN</td>\n",
       "    </tr>\n",
       "    <tr>\n",
       "      <th>R</th>\n",
       "      <td>3511060.0</td>\n",
       "      <td>R</td>\n",
       "    </tr>\n",
       "    <tr>\n",
       "      <th>RC</th>\n",
       "      <td>280.0</td>\n",
       "      <td>RC</td>\n",
       "    </tr>\n",
       "  </tbody>\n",
       "</table>\n",
       "</div>"
      ],
      "text/plain": [
       "                  Fee for This Precinct Violation County\n",
       "Violation County                                        \n",
       "103                               115.0              103\n",
       "BX                           34721700.0               BX\n",
       "K                            72797900.0                K\n",
       "NY                          168979815.0               NY\n",
       "NYC                               180.0              NYC\n",
       "Q                            64471035.0                Q\n",
       "QUEEN                             230.0            QUEEN\n",
       "R                             3511060.0                R\n",
       "RC                                280.0               RC"
      ]
     },
     "execution_count": 93,
     "metadata": {},
     "output_type": "execute_result"
    }
   ],
   "source": [
    "df_fees_per_county"
   ]
  },
  {
   "cell_type": "code",
   "execution_count": 94,
   "metadata": {
    "collapsed": false
   },
   "outputs": [],
   "source": [
    "df_last_question = df_licenses.merge(df_fees_per_county, right_on = 'Violation County', left_on = 'abbreviation')"
   ]
  },
  {
   "cell_type": "code",
   "execution_count": 95,
   "metadata": {
    "collapsed": false
   },
   "outputs": [
    {
     "data": {
      "text/html": [
       "<div>\n",
       "<table border=\"1\" class=\"dataframe\">\n",
       "  <thead>\n",
       "    <tr style=\"text-align: right;\">\n",
       "      <th></th>\n",
       "      <th>borough name</th>\n",
       "      <th>abbreviation</th>\n",
       "      <th>number of licensed drivers</th>\n",
       "      <th>Fee for This Precinct</th>\n",
       "      <th>Violation County</th>\n",
       "    </tr>\n",
       "  </thead>\n",
       "  <tbody>\n",
       "    <tr>\n",
       "      <th>0</th>\n",
       "      <td>Bronx</td>\n",
       "      <td>BX</td>\n",
       "      <td>456847</td>\n",
       "      <td>34721700.0</td>\n",
       "      <td>BX</td>\n",
       "    </tr>\n",
       "    <tr>\n",
       "      <th>1</th>\n",
       "      <td>Brooklyn</td>\n",
       "      <td>K</td>\n",
       "      <td>983769</td>\n",
       "      <td>72797900.0</td>\n",
       "      <td>K</td>\n",
       "    </tr>\n",
       "    <tr>\n",
       "      <th>2</th>\n",
       "      <td>Manhattan</td>\n",
       "      <td>NY</td>\n",
       "      <td>748583</td>\n",
       "      <td>168979815.0</td>\n",
       "      <td>NY</td>\n",
       "    </tr>\n",
       "    <tr>\n",
       "      <th>3</th>\n",
       "      <td>Queens</td>\n",
       "      <td>Q</td>\n",
       "      <td>1134064</td>\n",
       "      <td>64471035.0</td>\n",
       "      <td>Q</td>\n",
       "    </tr>\n",
       "    <tr>\n",
       "      <th>4</th>\n",
       "      <td>StatenIsland</td>\n",
       "      <td>R</td>\n",
       "      <td>304250</td>\n",
       "      <td>3511060.0</td>\n",
       "      <td>R</td>\n",
       "    </tr>\n",
       "  </tbody>\n",
       "</table>\n",
       "</div>"
      ],
      "text/plain": [
       "   borough name abbreviation  number of licensed drivers  \\\n",
       "0         Bronx           BX                      456847   \n",
       "1      Brooklyn            K                      983769   \n",
       "2     Manhattan           NY                      748583   \n",
       "3        Queens            Q                     1134064   \n",
       "4  StatenIsland            R                      304250   \n",
       "\n",
       "   Fee for This Precinct Violation County  \n",
       "0             34721700.0               BX  \n",
       "1             72797900.0                K  \n",
       "2            168979815.0               NY  \n",
       "3             64471035.0                Q  \n",
       "4              3511060.0                R  "
      ]
     },
     "execution_count": 95,
     "metadata": {},
     "output_type": "execute_result"
    }
   ],
   "source": [
    "df_last_question"
   ]
  },
  {
   "cell_type": "code",
   "execution_count": 96,
   "metadata": {
    "collapsed": false
   },
   "outputs": [
    {
     "data": {
      "text/plain": [
       "0     76.002907\n",
       "1     73.998977\n",
       "2    225.732905\n",
       "3     56.849556\n",
       "4     11.540049\n",
       "dtype: float64"
      ]
     },
     "execution_count": 96,
     "metadata": {},
     "output_type": "execute_result"
    }
   ],
   "source": [
    "df_last_question['Fee for This Precinct'] / df_last_question['number of licensed drivers']"
   ]
  }
 ],
 "metadata": {
  "kernelspec": {
   "display_name": "Python 3",
   "language": "python",
   "name": "python3"
  },
  "language_info": {
   "codemirror_mode": {
    "name": "ipython",
    "version": 3
   },
   "file_extension": ".py",
   "mimetype": "text/x-python",
   "name": "python",
   "nbconvert_exporter": "python",
   "pygments_lexer": "ipython3",
   "version": "3.5.1"
  }
 },
 "nbformat": 4,
 "nbformat_minor": 0
}
