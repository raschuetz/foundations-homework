{
 "cells": [
  {
   "cell_type": "code",
   "execution_count": 71,
   "metadata": {
    "collapsed": false
   },
   "outputs": [
    {
     "name": "stdout",
     "output_type": "stream",
     "text": [
      "1a. There is a type_param: earth\n",
      "2a. Sort is either 'elevation' or 'area': elevation\n",
      "3a. So now we're finding all of the lakes with the parameters 'type_param' = earth  and 'sort' = elevation:\n"
     ]
    }
   ],
   "source": [
    "# TROUBLESHOOTING\n",
    "conn = pg8000.connect(database = 'mondial')\n",
    "cursor = conn.cursor()\n",
    "# elevation and caldera works\n",
    "# elevation and None #not working. I think it's because there was a problem passing in sort with %s . When I used the plus signs, it worked.\n",
    "# elevation and earth\n",
    "# area and caldera\n",
    "# area and None\n",
    "# area and earth\n",
    "# name and caldera\n",
    "# name and None\n",
    "# name and earth\n",
    "# earth and caldera\n",
    "# earth and None\n",
    "# earth and earth\n",
    "possible_sorts = ['elevation', 'area', 'name', 'earth']\n",
    "sort = 'elevation'\n",
    "possible_type_params = ['caldera', None, 'earth']\n",
    "type_param = 'earth'\n",
    "\n",
    "# getting rid of nonsense type_param\n",
    "cursor.execute('SELECT name, elevation, area, type FROM lake WHERE type = %s LIMIT 1', [type_param])\n",
    "if not cursor.fetchone():\n",
    "    lakes_list = []\n",
    "    \n",
    "if type_param:\n",
    "    print('1a. There is a type_param:', type_param)\n",
    "    if sort == 'elevation' or sort == 'area':\n",
    "        print('2a. Sort is either \\'elevation\\' or \\'area\\':', sort)\n",
    "        print('3a. So now we\\'re finding all of the lakes with the parameters \\'type_param\\' =', type_param, ' and \\'sort\\' =', sort + ':')\n",
    "        cursor.execute('SELECT name, elevation, area, type FROM lake WHERE type = %s ORDER BY ' + sort + ' desc LIMIT 10', [type_param])\n",
    "    else:\n",
    "        print('Sort is NOT \\'elevation\\' or \\'area\\'.')\n",
    "        print('Sort is:', sort)\n",
    "        sort = 'name'\n",
    "        print('So we changed sort to \\'name\\':', sort)\n",
    "        print('So now we\\'re finding all of the lakes with the parameters \\'type_param\\' =', type_param, ' and \\'sort\\' =', sort + ':')\n",
    "        cursor.execute('SELECT name, elevation, area, type FROM lake WHERE type = %s ORDER BY ' + sort + ' LIMIT 10', [type_param])\n",
    "else:\n",
    "    print('There is NOT a type_param:', type_param)\n",
    "    if sort == 'elevation' or sort == 'area':\n",
    "        print('Sort is either \\'elevation\\' or \\'area\\':', sort)\n",
    "        print('So now we\\'re finding all of the lakes with the parameters \\'type_param\\' =', type_param, ' and \\'sort\\' =', sort + ':')\n",
    "        cursor.execute('SELECT name, elevation, area, type FROM lake ORDER BY ' + sort + ' desc LIMIT 10')\n",
    "    else:\n",
    "        print('Sort is NOT \\'elevation\\' or \\'area\\'.')\n",
    "        print('Sort is:', sort)\n",
    "        sort = 'name'\n",
    "        print('So we changed sort to \\'name\\':', sort)\n",
    "        print('So now we\\'re finding all of the lakes with the parameters \\'type_param\\' =', type_param, ' and \\'sort\\' =', sort + ':')\n",
    "        print('SELECT name, elevation, area, type FROM lake ORDER BY %s LIMIT 10', [sort])\n",
    "        cursor.execute('SELECT name, elevation, area, type FROM lake ORDER BY ' + sort + ' LIMIT 10')\n",
    "lakes_list = []\n",
    "for item in cursor.fetchall():\n",
    "    elevation = item[1]\n",
    "    if elevation:\n",
    "        elevation = int(elevation)\n",
    "    area = item[2]\n",
    "    if area:\n",
    "        area = int(area)\n",
    "    lakes_dict = {'name': item[0],\n",
    "                 'elevation': elevation,\n",
    "                 'area': area,\n",
    "                 'type': item[3]}\n",
    "\n",
    "    lakes_list.append(lakes_dict)\n",
    "for dictionary in lakes_list:\n",
    "    print(dictionary)"
   ]
  },
  {
   "cell_type": "markdown",
   "metadata": {},
   "source": [
    "# Homework 6: Web Applications\n",
    "\n",
    "For this homework, you're going to write a web API for the lake data in the MONDIAL database. (Make sure you've imported the data as originally outlined in [our week 1 tutorial](https://github.com/ledeprogram/data-and-databases/blob/master/SQL_notes.md).)\n",
    "\n",
    "The API should perform the following tasks:\n",
    "\n",
    "* A request to `/lakes` should return a JSON list of dictionaries, with the information from the `name`, `elevation`, `area` and `type` fields from the `lake` table in MONDIAL.\n",
    "* The API should recognize the query string parameter `sort`. When left blank or set to `name`, the results should be sorted by the name of the lake (in alphabetical order). When set to `area` or `elevation`, the results should be sorted by the requested field, in *descending* order.\n",
    "* The API should recognize the query string parameter `type`. When specified, the results should *only* include rows that have the specified value in the `type` field.\n",
    "* You should be able to use *both* the `sort` and `type` parameters in any request.\n",
    "\n",
    "This notebook contains only *test requests to your API*. Write the API as a standalone Python program, start the program and then run the code in the cells below to ensure that your API produces the expected output. When you're done, paste the source code in the final cell (so we can check your work, if needed).\n",
    "\n",
    "Hints when writing your API code:\n",
    "\n",
    "* You'll need to construct the SQL query as a string, piece by piece. This will likely involve a somewhat messy tangle of `if` statements. Lean into the messy tangle.\n",
    "* Make sure to use parameter placeholders (%s) in the query.\n",
    "* If you're getting SQL errors, print out your SQL statement in the request handler function so you can debug it. (When you use `print()` in Flask, the results will display in your terminal window.)\n",
    "* When in doubt, return to the test code. Examine it carefully and make sure you know exactly what it's trying to do.\n",
    "\n",
    "## Problem set #1: A list of lakes\n",
    "\n",
    "Your API should return a JSON list of dictionaries (objects). Use the code below to determine what the keys of the dictionaries should be. (For brevity, this example only prints out the first ten records, but of course your API should return all of them.)\n",
    "\n",
    "Expected output:\n",
    "\n",
    "    143 lakes\n",
    "    Ammersee - elevation: 533 m / area: 46 km^2 / type: None\n",
    "    Arresoe - elevation: None m / area: 40 km^2 / type: None\n",
    "    Atlin Lake - elevation: 668 m / area: 798 km^2 / type: None\n",
    "    Balaton - elevation: 104 m / area: 594 km^2 / type: None\n",
    "    Barrage de Mbakaou - elevation: None m / area: None km^2 / type: dam\n",
    "    Bodensee - elevation: 395 m / area: 538 km^2 / type: None\n",
    "    Brienzersee - elevation: 564 m / area: 29 km^2 / type: None\n",
    "    Caspian Sea - elevation: -28 m / area: 386400 km^2 / type: salt\n",
    "    Chad Lake - elevation: 250 m / area: 23000 km^2 / type: salt\n",
    "    Chew Bahir - elevation: 520 m / area: 800 km^2 / type: salt"
   ]
  },
  {
   "cell_type": "markdown",
   "metadata": {},
   "source": [
    "* The API should recognize the query string parameter `sort`. When left blank or set to `name`, the results should be sorted by the name of the lake (in alphabetical order). When set to `area` or `elevation`, the results should be sorted by the requested field, in *descending* order.\n",
    "* The API should recognize the query string parameter `type`. When specified, the results should *only* include rows that have the specified value in the `type` field.\n",
    "* You should be able to use *both* the `sort` and `type` parameters in any request."
   ]
  },
  {
   "cell_type": "code",
   "execution_count": 47,
   "metadata": {
    "collapsed": false
   },
   "outputs": [
    {
     "name": "stdout",
     "output_type": "stream",
     "text": [
      "143 lakes\n",
      "Ammersee - elevation: 533 m / area: 46 km^2 / type: None\n",
      "Arresoe - elevation: None m / area: 40 km^2 / type: None\n",
      "Atlin Lake - elevation: 668 m / area: 798 km^2 / type: None\n",
      "Balaton - elevation: 104 m / area: 594 km^2 / type: None\n",
      "Barrage de Mbakaou - elevation: None m / area: None km^2 / type: dam\n",
      "Bodensee - elevation: 395 m / area: 538 km^2 / type: None\n",
      "Brienzersee - elevation: 564 m / area: 29 km^2 / type: None\n",
      "Caspian Sea - elevation: -28 m / area: 386400 km^2 / type: salt\n",
      "Chad Lake - elevation: 250 m / area: 23000 km^2 / type: salt\n",
      "Chew Bahir - elevation: 520 m / area: 800 km^2 / type: salt\n"
     ]
    }
   ],
   "source": [
    "import requests\n",
    "data = requests.get('http://localhost:5000/lakes').json()\n",
    "print(len(data), \"lakes\")\n",
    "for item in data[:10]:\n",
    "    print(item['name'], \"- elevation:\", item['elevation'], \"m / area:\", item['area'], \"km^2 / type:\", item['type'])"
   ]
  },
  {
   "cell_type": "markdown",
   "metadata": {},
   "source": [
    "## Problem set #2: Lakes of a certain type\n",
    "\n",
    "The following code fetches all lakes of type `salt` and finds their average area and elevation.\n",
    "\n",
    "Expected output:\n",
    "\n",
    "    average area: 18880\n",
    "    average elevation: 970"
   ]
  },
  {
   "cell_type": "code",
   "execution_count": 67,
   "metadata": {
    "collapsed": false
   },
   "outputs": [
    {
     "name": "stdout",
     "output_type": "stream",
     "text": [
      "average area: 18880\n",
      "average elevation: 970\n"
     ]
    }
   ],
   "source": [
    "import requests\n",
    "data = requests.get('http://localhost:5000/lakes?type=salt').json()\n",
    "avg_area = sum([x['area'] for x in data if x['area'] is not None]) / len(data)\n",
    "avg_elev = sum([x['elevation'] for x in data if x['elevation'] is not None]) / len(data)\n",
    "print(\"average area:\", int(avg_area))\n",
    "print(\"average elevation:\", int(avg_elev))"
   ]
  },
  {
   "cell_type": "markdown",
   "metadata": {},
   "source": [
    "## Problem set #3: Lakes in order\n",
    "\n",
    "The following code fetches lakes in reverse order by their elevation and prints out the name of the first fifteen, excluding lakes with an empty elevation field.\n",
    "\n",
    "Expected output:\n",
    "\n",
    "    * Licancabur Crater Lake\n",
    "    * Nam Co\n",
    "    * Lago Junin\n",
    "    * Lake Titicaca\n",
    "    * Poopo\n",
    "    * Salar de Uyuni\n",
    "    * Koli Sarez\n",
    "    * Lake Irazu\n",
    "    * Qinghai Lake\n",
    "    * Segara Anak\n",
    "    * Lake Tahoe\n",
    "    * Crater Lake\n",
    "    * Lake Tana\n",
    "    * Lake Van\n",
    "    * Issyk-Kul"
   ]
  },
  {
   "cell_type": "code",
   "execution_count": 68,
   "metadata": {
    "collapsed": false
   },
   "outputs": [
    {
     "name": "stdout",
     "output_type": "stream",
     "text": [
      "* Licancabur Crater Lake\n",
      "* Nam Co\n",
      "* Lago Junin\n",
      "* Lake Titicaca\n",
      "* Poopo\n",
      "* Salar de Uyuni\n",
      "* Koli Sarez\n",
      "* Lake Irazu\n",
      "* Qinghai Lake\n",
      "* Segara Anak\n",
      "* Lake Tahoe\n",
      "* Crater Lake\n",
      "* Lake Tana\n",
      "* Lake Van\n",
      "* Issyk-Kul\n"
     ]
    }
   ],
   "source": [
    "import requests\n",
    "data = requests.get('http://localhost:5000/lakes?sort=elevation').json()\n",
    "for item in [x['name'] for x in data if x['elevation'] is not None][:15]:\n",
    "    print(\"*\", item)"
   ]
  },
  {
   "cell_type": "markdown",
   "metadata": {},
   "source": [
    "## Problem set #4: Order and type\n",
    "\n",
    "The following code prints the names of the largest caldera lakes, ordered in reverse order by area.\n",
    "\n",
    "Expected output:\n",
    "\n",
    "    * Lake Nyos\n",
    "    * Lake Toba\n",
    "    * Lago Trasimeno\n",
    "    * Lago di Bolsena\n",
    "    * Lago di Bracciano\n",
    "    * Crater Lake\n",
    "    * Segara Anak\n",
    "    * Laacher Maar"
   ]
  },
  {
   "cell_type": "code",
   "execution_count": 69,
   "metadata": {
    "collapsed": false
   },
   "outputs": [
    {
     "name": "stdout",
     "output_type": "stream",
     "text": [
      "* Lake Nyos\n",
      "* Lake Toba\n",
      "* Lago Trasimeno\n",
      "* Lago di Bolsena\n",
      "* Lago di Bracciano\n",
      "* Crater Lake\n",
      "* Segara Anak\n",
      "* Laacher Maar\n"
     ]
    }
   ],
   "source": [
    "import requests\n",
    "data = requests.get('http://localhost:5000/lakes?sort=area&type=caldera').json()\n",
    "for item in data:\n",
    "    print(\"*\", item['name'])"
   ]
  },
  {
   "cell_type": "markdown",
   "metadata": {},
   "source": [
    "## Problem set #5: Error handling\n",
    "\n",
    "Your API should work fine even when faced with potential error-causing inputs. For example, the expected output for this statement is an empty list (`[]`), *not* every row in the table."
   ]
  },
  {
   "cell_type": "code",
   "execution_count": 72,
   "metadata": {
    "collapsed": false
   },
   "outputs": [
    {
     "data": {
      "text/plain": [
       "[]"
      ]
     },
     "execution_count": 72,
     "metadata": {},
     "output_type": "execute_result"
    }
   ],
   "source": [
    "import requests\n",
    "data = requests.get('http://localhost:5000/lakes', params={'type': \"' OR true; --\"}).json()\n",
    "data"
   ]
  },
  {
   "cell_type": "markdown",
   "metadata": {},
   "source": [
    "Specifying a field other than `name`, `area` or `elevation` for the `sort` parameter should fail silently, defaulting to sorting alphabetically. Expected output: `['Ammersee', 'Arresoe', 'Atlin Lake', 'Balaton', 'Barrage de Mbakaou']\n",
    "`"
   ]
  },
  {
   "cell_type": "code",
   "execution_count": 73,
   "metadata": {
    "collapsed": false
   },
   "outputs": [
    {
     "data": {
      "text/plain": [
       "['Ammersee', 'Arresoe', 'Atlin Lake', 'Balaton', 'Barrage de Mbakaou']"
      ]
     },
     "execution_count": 73,
     "metadata": {},
     "output_type": "execute_result"
    }
   ],
   "source": [
    "import requests\n",
    "data = requests.get('http://localhost:5000/lakes', params={'sort': \"florb\"}).json()\n",
    "[x['name'] for x in data[:5]]"
   ]
  },
  {
   "cell_type": "markdown",
   "metadata": {},
   "source": [
    "## Paste your code\n",
    "\n",
    "Please paste the code for your entire Flask application in the cell below, in case we want to take a look when grading or debugging your assignment."
   ]
  },
  {
   "cell_type": "code",
   "execution_count": null,
   "metadata": {
    "collapsed": true
   },
   "outputs": [],
   "source": [
    "import pg8000\n",
    "import decimal\n",
    "from flask import Flask, request, jsonify\n",
    "app = Flask(__name__)\n",
    "\n",
    "@app.route('/lakes')\n",
    "def give_lakes():\n",
    "    conn = pg8000.connect(database = 'mondial', user = 'rebeccaschuetz')\n",
    "    cursor = conn.cursor()\n",
    "    sort = request.args.get('sort', 'name')\n",
    "    type_param = request.args.get('type', None)\n",
    "\n",
    "    # to get rid of not valid type_params:\n",
    "    cursor.execute('SELECT name, elevation, area, type FROM lake WHERE type = %s LIMIT 1', [type_param])\n",
    "    if not cursor.fetchone():\n",
    "        lakes_list = []\n",
    "\n",
    "    if type_param:\n",
    "        if sort == 'elevation' or sort == 'area':\n",
    "            cursor.execute('SELECT name, elevation, area, type FROM lake WHERE type = %s ORDER BY ' + sort + ' desc', [type_param])\n",
    "        else:\n",
    "            sort = 'name'\n",
    "            cursor.execute('SELECT name, elevation, area, type FROM lake WHERE type = %s ORDER BY ' + sort, [type_param])\n",
    "    else:\n",
    "        if sort == 'elevation' or sort == 'area':\n",
    "            cursor.execute('SELECT name, elevation, area, type FROM lake ORDER BY ' + sort + ' desc')\n",
    "        else:\n",
    "            sort = 'name'\n",
    "            cursor.execute('SELECT name, elevation, area, type FROM lake ORDER BY ' + sort)\n",
    "    lakes_list = []\n",
    "    for item in cursor.fetchall():\n",
    "\n",
    "        def decimal_to_int(x):\n",
    "            if isinstance(x, decimal.Decimal):\n",
    "                return int(x)\n",
    "            else:\n",
    "                return None\n",
    "\n",
    "        # elevation = item[1]\n",
    "        # if elevation:\n",
    "        #     elevation = int(elevation)\n",
    "        # area = item[2]\n",
    "        # if area:\n",
    "        #     area = int(area)\n",
    "        # lakes_dict = {'name': item[0],\n",
    "        #              'elevation': elevation,\n",
    "        #              'area': area,\n",
    "        #              'type': item[3]}\n",
    "\n",
    "        lakes_dict = {'name': item[0],\n",
    "                     'elevation': decimal_to_int(item[1]),\n",
    "                     'area': decimal_to_int(item[2]),\n",
    "                     'type': item[3]}\n",
    "\n",
    "        lakes_list.append(lakes_dict)\n",
    "    for dictionary in lakes_list:\n",
    "        print(dictionary)\n",
    "    return jsonify(lakes_list)\n",
    "\n",
    "app.run()\n"
   ]
  }
 ],
 "metadata": {
  "kernelspec": {
   "display_name": "Python 3",
   "language": "python",
   "name": "python3"
  },
  "language_info": {
   "codemirror_mode": {
    "name": "ipython",
    "version": 3
   },
   "file_extension": ".py",
   "mimetype": "text/x-python",
   "name": "python",
   "nbconvert_exporter": "python",
   "pygments_lexer": "ipython3",
   "version": "3.5.1"
  }
 },
 "nbformat": 4,
 "nbformat_minor": 0
}
